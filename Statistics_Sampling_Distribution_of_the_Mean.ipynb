{
 "cells": [
  {
   "cell_type": "markdown",
   "id": "2b44c583-97fc-413c-a343-c4f3d754535d",
   "metadata": {},
   "source": [
    "##### Progress Check *9.1 Imagine a very simple population consisting of only five observations: 2, 4, 6, 8, 10.\n",
    "(a) List all possible samples of size two.\n",
    "\n",
    "answer: [[2, 2],[2, 4],[2, 6],[2, 8],[2, 10],[4, 2],[4, 4],[4, 6],[4, 8],[4, 10],[6, 2],[6, 4],[6, 6],[6, 8],[6, 10],[8,2],[8,4],[8,6],[8,8],[8,10],[10, 2],[10, 4],[10, 6],[10, 8],[10, 10]]\n",
    "\n",
    "(b) Construct a relative frequency table showing the sampling distribution of the mean.\n",
    "\n",
    "answer:"
   ]
  },
  {
   "cell_type": "code",
   "execution_count": 126,
   "id": "5b524996-aa74-4001-b293-938c6bac3feb",
   "metadata": {
    "scrolled": true
   },
   "outputs": [
    {
     "name": "stdout",
     "output_type": "stream",
     "text": [
      "[[2, 2], [2, 4], [2, 6], [2, 8], [2, 10]]\n",
      "[[4, 2], [4, 4], [4, 6], [4, 8], [4, 10]]\n",
      "[[6, 2], [6, 4], [6, 6], [6, 8], [6, 10]]\n",
      "[[8, 2], [8, 4], [8, 6], [8, 8], [8, 10]]\n",
      "[[10, 2], [10, 4], [10, 6], [10, 8], [10, 10]]\n"
     ]
    }
   ],
   "source": [
    "obs = [2, 4, 6, 8, 10]\n",
    "\n",
    "# Using nested list comprehension:\n",
    "# list_of_sample_size_of_two = [[(obs[n],item) for item in obs] for n in range(0,len(obs))]\n",
    "list_of_sample_size_of_two = [[[obs[n],item] for item in obs] for n in range(0,len(obs))]\n",
    "# print(list_of_sample_size_of_two)\n",
    "\n",
    "for item in list_of_sample_size_of_two:\n",
    "    print(item)\n",
    "sample_mean = []\n",
    "\n",
    "\n",
    "\n",
    "# for index, item in enumerate(list_of_sample_size_of_two):\n",
    "#     # print(index,item)\n",
    "#     # print(list_of_sample_size_of_two[index][0])\n",
    "#     for item1 in item:\n",
    "#         print(item1[0],item1[1])\n",
    "#     print('+++++')\n",
    "\n",
    "# USING FOR LOOPS\n",
    "# list_of_sample_size_of_two = []\n",
    "# for index, item in enumerate(obs):\n",
    "#     for n in range(0,len(obs)):\n",
    "#         list_of_sample_size_of_two.append([item,obs[n]])\n",
    "\n",
    "# for item in list_of_sample_size_of_two:\n",
    "#     print(f'{item[0]} + {item[1]} = {(item[0] + item[1])/2}')\n",
    "\n",
    "# sample_mean = [(item[0] + item[1])/2 for item in list_of_sample_size_of_two]\n",
    "# sample_mean"
   ]
  },
  {
   "cell_type": "code",
   "execution_count": 79,
   "id": "ddd8d155-f292-43c5-9530-7e80879e9732",
   "metadata": {},
   "outputs": [
    {
     "name": "stdout",
     "output_type": "stream",
     "text": [
      "[1, 2, 3]\n",
      "[4, 5, 6]\n",
      "[7, 8, 9]\n",
      "[10, 11, 12]\n"
     ]
    },
    {
     "data": {
      "text/plain": [
       "[[(2, 2), (2, 4), (2, 6), (2, 8), (2, 10)],\n",
       " [(4, 2), (4, 4), (4, 6), (4, 8), (4, 10)],\n",
       " [(6, 2), (6, 4), (6, 6), (6, 8), (6, 10)],\n",
       " [(8, 2), (8, 4), (8, 6), (8, 8), (8, 10)],\n",
       " [(10, 2), (10, 4), (10, 6), (10, 8), (10, 10)]]"
      ]
     },
     "execution_count": 79,
     "metadata": {},
     "output_type": "execute_result"
    }
   ],
   "source": [
    "obs = [2, 4, 6, 8, 10]\n",
    "list_of_sample_size_of_two = [[(obs[n],item) for item in obs] for n in range(0,len(obs))]\n",
    "list_of_sample_size_of_two"
   ]
  },
  {
   "cell_type": "code",
   "execution_count": null,
   "id": "9fb06ace-030c-4db0-9ae9-9c5d89a1c60a",
   "metadata": {},
   "outputs": [],
   "source": []
  }
 ],
 "metadata": {
  "kernelspec": {
   "display_name": "Python 3 (ipykernel)",
   "language": "python",
   "name": "python3"
  },
  "language_info": {
   "codemirror_mode": {
    "name": "ipython",
    "version": 3
   },
   "file_extension": ".py",
   "mimetype": "text/x-python",
   "name": "python",
   "nbconvert_exporter": "python",
   "pygments_lexer": "ipython3",
   "version": "3.10.12"
  }
 },
 "nbformat": 4,
 "nbformat_minor": 5
}
