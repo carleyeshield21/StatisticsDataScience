{
 "cells": [
  {
   "cell_type": "markdown",
   "id": "2b44c583-97fc-413c-a343-c4f3d754535d",
   "metadata": {},
   "source": [
    "##### Progress Check *9.1 Imagine a very simple population consisting of only five observations: 2, 4, 6, 8, 10.\n",
    "(a) List all possible samples of size two.\n",
    "\n",
    "answer: [[2, 2],[2, 4],[2, 6],[2, 8],[2, 10],[4, 2],[4, 4],[4, 6],[4, 8],[4, 10],[6, 2],[6, 4],[6, 6],[6, 8],[6, 10],[8,2],[8,4],[8,6],[8,8],[8,10],[10, 2],[10, 4],[10, 6],[10, 8],[10, 10]]\n",
    "\n",
    "(b) Construct a relative frequency table showing the sampling distribution of the mean.\n",
    "\n",
    "answer:"
   ]
  },
  {
   "cell_type": "code",
   "execution_count": 165,
   "id": "5b524996-aa74-4001-b293-938c6bac3feb",
   "metadata": {
    "scrolled": true
   },
   "outputs": [
    {
     "data": {
      "text/plain": [
       "[2.0,\n",
       " 3.0,\n",
       " 4.0,\n",
       " 5.0,\n",
       " 6.0,\n",
       " 3.0,\n",
       " 4.0,\n",
       " 5.0,\n",
       " 6.0,\n",
       " 7.0,\n",
       " 4.0,\n",
       " 5.0,\n",
       " 6.0,\n",
       " 7.0,\n",
       " 8.0,\n",
       " 5.0,\n",
       " 6.0,\n",
       " 7.0,\n",
       " 8.0,\n",
       " 9.0,\n",
       " 6.0,\n",
       " 7.0,\n",
       " 8.0,\n",
       " 9.0,\n",
       " 10.0]"
      ]
     },
     "execution_count": 165,
     "metadata": {},
     "output_type": "execute_result"
    }
   ],
   "source": [
    "obs = [2, 4, 6, 8, 10]\n",
    "\n",
    "# USING FOR LOOPS\n",
    "list_of_sample_size_of_two = []\n",
    "for index, item in enumerate(obs):\n",
    "    for n in range(0,len(obs)):\n",
    "        list_of_sample_size_of_two.append([item,obs[n]])\n",
    "\n",
    "# for item in list_of_sample_size_of_two:\n",
    "#     print(f'{item[0]} + {item[1]} = {(item[0] + item[1])/2}')\n",
    "\n",
    "sample_mean = [(item[0] + item[1])/2 for item in list_of_sample_size_of_two]\n",
    "sample_mean\n",
    "\n",
    "# for index, item in enumerate(list_of_sample_size_of_two):\n",
    "#     # print(index,item)\n",
    "#     # print(list_of_sample_size_of_two[index][0])\n",
    "#     for item1 in item:\n",
    "#         print(item1[0],item1[1])\n",
    "#     print('+++++')\n",
    "\n",
    "# Using nested list comprehension:\n",
    "# # list_of_sample_size_of_two = [[(obs[n],item) for item in obs] for n in range(0,len(obs))]\n",
    "# list_of_sample_size_of_two = [[[obs[n],item] for item in obs] for n in range(0,len(obs))]\n",
    "# # print(list_of_sample_size_of_two)"
   ]
  },
  {
   "cell_type": "code",
   "execution_count": 170,
   "id": "9fb06ace-030c-4db0-9ae9-9c5d89a1c60a",
   "metadata": {
    "scrolled": true
   },
   "outputs": [
    {
     "data": {
      "text/plain": [
       "2"
      ]
     },
     "execution_count": 170,
     "metadata": {},
     "output_type": "execute_result"
    }
   ],
   "source": [
    "count3 = sample_mean.count(3)\n",
    "count3"
   ]
  },
  {
   "cell_type": "code",
   "execution_count": 173,
   "id": "faa4ee58-0226-42ca-8fba-2f9fc875d4b2",
   "metadata": {},
   "outputs": [
    {
     "name": "stdout",
     "output_type": "stream",
     "text": [
      "[(2, 4), (2, 6), (2, 8), (2, 10), (4, 6), (4, 8), (4, 10), (6, 8), (6, 10), (8, 10)]\n",
      "[3.0, 4.0, 5.0, 6.0, 5.0, 6.0, 7.0, 7.0, 8.0, 9.0]\n",
      "Mean | Relative Frequency\n",
      "-------------------------\n",
      "3.00 | 0.1000\n",
      "4.00 | 0.1000\n",
      "5.00 | 0.2000\n",
      "6.00 | 0.2000\n",
      "7.00 | 0.2000\n",
      "8.00 | 0.1000\n",
      "9.00 | 0.1000\n"
     ]
    }
   ],
   "source": [
    "import itertools\n",
    "from collections import Counter\n",
    "\n",
    "def calculate_mean(sample):\n",
    "    return sum(sample) / len(sample)\n",
    "\n",
    "population = [2, 4, 6, 8, 10]\n",
    "sample_size = 2\n",
    "\n",
    "# Generate all possible samples of size 2 from the population\n",
    "all_samples = list(itertools.combinations(population, sample_size))\n",
    "print(all_samples)\n",
    "\n",
    "# Calculate the mean for each sample\n",
    "sample_means = [calculate_mean(sample) for sample in all_samples]\n",
    "print(sample_means)\n",
    "\n",
    "# Count the occurrences of each mean in the sample means\n",
    "mean_counts = Counter(sample_means)\n",
    "\n",
    "# Calculate relative frequencies\n",
    "total_samples = len(all_samples)\n",
    "relative_frequencies = {mean: count / total_samples for mean, count in mean_counts.items()}\n",
    "\n",
    "# Display the relative frequency table\n",
    "print(\"Mean | Relative Frequency\")\n",
    "print(\"-\" * 25)\n",
    "for mean, relative_frequency in relative_frequencies.items():\n",
    "    print(f\"{mean:.2f} | {relative_frequency:.4f}\")"
   ]
  }
 ],
 "metadata": {
  "kernelspec": {
   "display_name": "Python 3 (ipykernel)",
   "language": "python",
   "name": "python3"
  },
  "language_info": {
   "codemirror_mode": {
    "name": "ipython",
    "version": 3
   },
   "file_extension": ".py",
   "mimetype": "text/x-python",
   "name": "python",
   "nbconvert_exporter": "python",
   "pygments_lexer": "ipython3",
   "version": "3.10.12"
  }
 },
 "nbformat": 4,
 "nbformat_minor": 5
}
