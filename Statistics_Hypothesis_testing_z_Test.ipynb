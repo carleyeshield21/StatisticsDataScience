{
 "cells": [
  {
   "cell_type": "markdown",
   "id": "da2a7604-fdb3-4574-85b3-240d54346da5",
   "metadata": {},
   "source": [
    "##### Converting a Sample Mean to z\n",
    "\n",
    "$z$ = $\\dfrac{\\overline{X} - \\mu_{hyp}}{\\sigma_\\overline{X}}$\n",
    "\n",
    "z - indicates the deviation of the observed sample mean in standard error units, above or below the hypothesized population mean\n",
    "\n",
    "$\\overline{X}$ - mean\n",
    "\n",
    "$\\mu_{hyp}$ - hypothesized population mean\n",
    "\n",
    "##### Standard Error or Mean\n",
    "\n",
    "$\\sigma_\\overline{X}$ = $\\dfrac{\\sigma}{\\sqrt{n}}$\n",
    "\n",
    "$\\sigma_\\overline{X}$ - Standard Error or Mean\n",
    "\n",
    "$\\sigma$ - Standard Deviation\n",
    "\n",
    "$n$ - Sample Size"
   ]
  },
  {
   "cell_type": "markdown",
   "id": "db243b98-9364-4d9f-997f-6a89f9ebe755",
   "metadata": {},
   "source": [
    "##### Assumptions of z Test\n",
    "\n",
    "When a hypothesis test evaluates how far the observed sample mean deviates, in standard error units, from the hypothesized population mean, as in the present example, it is referred to as a z test or, more accurately, as a z test for a population mean. This z test is accurate only when \n",
    "\n",
    "(1) the population is normally distributed or the sample size is large enough to satisfy the requirements of the central limit theorem and\n",
    "\n",
    "(2) the population standard deviation is known. In the present example, the z test is appropriate because the sample size of 100 is large enough to satisfy the central limittheorem and the population standard deviation is known to be 110."
   ]
  },
  {
   "cell_type": "markdown",
   "id": "0bd45c6d-44e5-42a3-8c18-3a2863220575",
   "metadata": {},
   "source": [
    "##### Progress Check *10.1 Calculate the value of the z test for each of the following situations:\n",
    "(a) $\\overline{X}$ = 566; $\\sigma$ = 30; $n$ = 36; $\\mu_{hyp}$ = 560\n",
    "\n",
    "(b) $\\overline{X}$ = 24; $\\sigma$ = 4; $n$ = 64; $\\mu_{hyp}$ = 25\n",
    "\n",
    "(c) $\\overline{X}$ = 82; $\\sigma$ = 14; $n$ = 49; $\\mu_{hyp}$ = 75\n",
    "\n",
    "(d) $\\overline{X}$ = 136; $\\sigma$ = 15; $n$ = 25; $\\mu_{hyp}$ = 146\n",
    "\n",
    "$z$ = $\\dfrac{\\overline{X} - \\mu_{hyp}}{\\sigma_\\overline{X}}$\n",
    "\n",
    "But:\n",
    "\n",
    "$\\sigma_\\overline{X}$ = $\\dfrac{\\sigma}{\\sqrt{n}}$\n",
    "\n",
    "Substituting:\n",
    "\n",
    "$z$ = $\\dfrac{\\overline{X} - \\mu_{hyp}}{\\dfrac{\\sigma}{\\sqrt{n}}}$"
   ]
  },
  {
   "cell_type": "code",
   "execution_count": 1,
   "id": "2df616fd-fdb8-4416-a055-2f5746199d3c",
   "metadata": {
    "scrolled": true
   },
   "outputs": [
    {
     "name": "stdout",
     "output_type": "stream",
     "text": [
      "1.2\n",
      "*****\n",
      "-2.0\n",
      "*****\n",
      "3.5\n",
      "*****\n",
      "-3.3333333333333335\n",
      "*****\n"
     ]
    }
   ],
   "source": [
    "import math\n",
    "\n",
    "# create a dictionary for the given\n",
    "dict = {\n",
    "    'mean':[566,24,82,136],\n",
    "    'std_dev':[30,4,14,15],\n",
    "    'n':[36,64,49,25],\n",
    "    'hyp_mean':[560,25,75,146],\n",
    "}\n",
    "\n",
    "transposed_data = list(map(list, zip(*dict.values())))\n",
    "\n",
    "# Output each row\n",
    "for row in transposed_data:\n",
    "    z = (row[0] - row[3])/(row[1]/math.sqrt(row[2]))\n",
    "    print(z)\n",
    "    print('*****')"
   ]
  },
  {
   "cell_type": "code",
   "execution_count": 2,
   "id": "67dc2404-b891-4edc-929e-5a92102d773f",
   "metadata": {
    "scrolled": true
   },
   "outputs": [
    {
     "name": "stdout",
     "output_type": "stream",
     "text": [
      "[[566, 30, 36, 560], [24, 4, 64, 25], [82, 14, 49, 75], [136, 15, 25, 146]]\n"
     ]
    }
   ],
   "source": [
    "dict = {\n",
    "    'mean': [566, 24, 82, 136],\n",
    "    'std_dev': [30, 4, 14, 15],\n",
    "    'n': [36, 64, 49, 25],\n",
    "    'hyp_mean': [560, 25, 75, 146],\n",
    "}\n",
    "\n",
    "result = [[dict[key][i] for key in dict] for i in range(len(dict['mean']))]\n",
    "\n",
    "print(result)"
   ]
  },
  {
   "cell_type": "markdown",
   "id": "0645bdda-02cf-44c4-b614-aabcc25689c4",
   "metadata": {},
   "source": [
    "Progress Check *10.5 According to the American Psychological Association, members with a doctorate and a full-time teaching \n",
    "appointment earn, on the average, 82,500 dollars per year, with a standard deviation of 6,000 dollars. An investigator wishes to determine whether 82,500 dollars is also the mean salary for all female members with a doctorate and a full-time teaching appointment. Salaries are obtained for a random sample of 100 women from this population, and the mean salary equals 80,100 dollars.\n",
    "\n",
    "(a) Someone claims that the observed difference between 80,100 dollars and 82,500 dollars is large enough by itself to support the conclusion that female members earn less than male members. Explain why it is important to conduct a hypothesis test.\n",
    "\n",
    "(b) The investigator wishes to conduct a hypothesis test for what population?\n",
    "\n",
    "(c) What is the null hypothesis, H0?\n",
    "\n",
    "(d) What is the alternative hypothesis, H1?\n",
    "\n",
    "(e) Specify the decision rule, using the .05 level of significance.\n",
    "\n",
    "(f) Calculate the value of z. (Remember to convert the standard deviation to a standard error.)\n",
    "\n",
    "(g) What is your decision about H0?\n",
    "\n",
    "(h) Using words, interpret this decision in terms of the original problem.\n",
    "\n",
    "$\\sigma_\\overline{X}$ = $\\dfrac{\\sigma}{\\sqrt{n}}$\n",
    "\n",
    "$z$ = $\\dfrac{\\overline{X} - \\mu_{hyp}}{\\sigma_\\overline{X}}$"
   ]
  },
  {
   "cell_type": "code",
   "execution_count": 7,
   "id": "ef43d711-81f5-4a91-864f-c066b9cbd365",
   "metadata": {
    "scrolled": true
   },
   "outputs": [
    {
     "data": {
      "text/plain": [
       "-4.0"
      ]
     },
     "execution_count": 7,
     "metadata": {},
     "output_type": "execute_result"
    }
   ],
   "source": [
    "import math\n",
    "\n",
    "n = 100\n",
    "X = 80100\n",
    "sd = 6000\n",
    "X_hyp = 82500\n",
    "\n",
    "# n = 100\n",
    "# X = 533\n",
    "# sd = 110\n",
    "# X_hyp = 500\n",
    "\n",
    "std_err = sd/math.sqrt(n)\n",
    "\n",
    "z = (X - X_hyp)/std_err\n",
    "z"
   ]
  },
  {
   "cell_type": "markdown",
   "id": "196bb71e-c028-4463-9428-f35b76bda57d",
   "metadata": {},
   "source": [
    "##### 10.6 Calculate the value of the z test for each of the following situations.\n",
    "(a) $\\overline{X}$ = 12; $\\sigma$ = 9; $n$ = 25; $\\mu_{hyp}$ = 15\n",
    "\n",
    "(b) $\\overline{X}$ = 3600; $\\sigma$ = 4000; $n$ = 100; $\\mu_{hyp}$ = 3500\n",
    "\n",
    "(b) $\\overline{X}$ = 0.25; $\\sigma$ = 0.10; $n$ = 36; $\\mu_{hyp}$ = 0.22\n",
    "\n",
    "$\\sigma_\\overline{X}$ = $\\dfrac{\\sigma}{\\sqrt{n}}$\n",
    "\n",
    "$z$ = $\\dfrac{\\overline{X} - \\mu_{hyp}}{\\sigma_\\overline{X}}$\n",
    "\n",
    "Given critical z scores of ±1.96, should H0 be accepted or rejected for each of the\n",
    "z scores calculated in Exercise 10.6?"
   ]
  },
  {
   "cell_type": "code",
   "execution_count": 10,
   "id": "49bd3c7b-5152-45d8-9859-fce98b8b2aa5",
   "metadata": {
    "scrolled": true
   },
   "outputs": [
    {
     "name": "stdout",
     "output_type": "stream",
     "text": [
      "-1.6666666666666665\n",
      "*****\n",
      "0.25\n",
      "*****\n",
      "1.8\n",
      "*****\n"
     ]
    }
   ],
   "source": [
    "import math\n",
    "\n",
    "# create a dictionary for the given\n",
    "dict = {\n",
    "    'mean':[12,3600,0.25],\n",
    "    'std_dev':[9,4000,0.10],\n",
    "    'n':[25,100,36],\n",
    "    'hyp_mean':[15,3500,0.22],\n",
    "}\n",
    "\n",
    "transposed_data = list(map(list, zip(*dict.values())))\n",
    "\n",
    "# Output each row\n",
    "for row in transposed_data:\n",
    "    z = (row[0] - row[3])/(row[1]/math.sqrt(row[2]))\n",
    "    print(z)\n",
    "    print('*****')"
   ]
  }
 ],
 "metadata": {
  "kernelspec": {
   "display_name": "Python 3 (ipykernel)",
   "language": "python",
   "name": "python3"
  },
  "language_info": {
   "codemirror_mode": {
    "name": "ipython",
    "version": 3
   },
   "file_extension": ".py",
   "mimetype": "text/x-python",
   "name": "python",
   "nbconvert_exporter": "python",
   "pygments_lexer": "ipython3",
   "version": "3.10.12"
  }
 },
 "nbformat": 4,
 "nbformat_minor": 5
}
