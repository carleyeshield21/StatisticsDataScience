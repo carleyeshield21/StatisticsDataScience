{
 "cells": [
  {
   "cell_type": "markdown",
   "id": "da2a7604-fdb3-4574-85b3-240d54346da5",
   "metadata": {},
   "source": [
    "##### Converting a Sample Mean to z\n",
    "\n",
    "$z$ = $\\dfrac{\\overline{X} - \\mu_{hyp}}{\\sigma_\\overline{X}}$\n",
    "\n",
    "z - indicates the deviation of the observed sample mean in standard error units, above or below the hypothesized population mean\n",
    "\n",
    "$\\overline{X}$ - mean\n",
    "\n",
    "$\\mu_{hyp}$ - hypothesized population mean"
   ]
  }
 ],
 "metadata": {
  "kernelspec": {
   "display_name": "Python 3 (ipykernel)",
   "language": "python",
   "name": "python3"
  },
  "language_info": {
   "codemirror_mode": {
    "name": "ipython",
    "version": 3
   },
   "file_extension": ".py",
   "mimetype": "text/x-python",
   "name": "python",
   "nbconvert_exporter": "python",
   "pygments_lexer": "ipython3",
   "version": "3.10.12"
  }
 },
 "nbformat": 4,
 "nbformat_minor": 5
}
