{
 "cells": [
  {
   "cell_type": "markdown",
   "id": "2b44c583-97fc-413c-a343-c4f3d754535d",
   "metadata": {},
   "source": [
    "##### Progress Check *9.1 Imagine a very simple population consisting of only five observations: 2, 4, 6, 8, 10.\n",
    "(a) List all possible samples of size two.\n",
    "\n",
    "answer: [[2, 2],[2, 4],[2, 6],[2, 8],[2, 10],[4, 2],[4, 4],[4, 6],[4, 8],[4, 10],[6, 2],[6, 4],[6, 6],[6, 8],[6, 10],[8,2],[8,4],[8,6],[8,8],[8,10],[10, 2],[10, 4],[10, 6],[10, 8],[10, 10]]\n",
    "\n",
    "(b) Construct a relative frequency table showing the sampling distribution of the mean.\n",
    "\n",
    "answer:"
   ]
  },
  {
   "cell_type": "code",
   "execution_count": 1,
   "id": "5b524996-aa74-4001-b293-938c6bac3feb",
   "metadata": {
    "scrolled": true
   },
   "outputs": [
    {
     "data": {
      "text/plain": [
       "[2.0,\n",
       " 3.0,\n",
       " 4.0,\n",
       " 5.0,\n",
       " 6.0,\n",
       " 3.0,\n",
       " 4.0,\n",
       " 5.0,\n",
       " 6.0,\n",
       " 7.0,\n",
       " 4.0,\n",
       " 5.0,\n",
       " 6.0,\n",
       " 7.0,\n",
       " 8.0,\n",
       " 5.0,\n",
       " 6.0,\n",
       " 7.0,\n",
       " 8.0,\n",
       " 9.0,\n",
       " 6.0,\n",
       " 7.0,\n",
       " 8.0,\n",
       " 9.0,\n",
       " 10.0]"
      ]
     },
     "execution_count": 1,
     "metadata": {},
     "output_type": "execute_result"
    }
   ],
   "source": [
    "# a)\n",
    "obs = [2, 4, 6, 8, 10]\n",
    "\n",
    "# USING FOR LOOPS\n",
    "list_of_sample_size_of_two = []\n",
    "for index, item in enumerate(obs):\n",
    "    for n in range(0,len(obs)):\n",
    "        list_of_sample_size_of_two.append([item,obs[n]])\n",
    "\n",
    "# for item in list_of_sample_size_of_two:\n",
    "#     print(f'{item[0]} + {item[1]} = {(item[0] + item[1])/2}')\n",
    "\n",
    "sample_mean = [(item[0] + item[1])/2 for item in list_of_sample_size_of_two]\n",
    "sample_mean\n",
    "\n",
    "# for index, item in enumerate(list_of_sample_size_of_two):\n",
    "#     # print(index,item)\n",
    "#     # print(list_of_sample_size_of_two[index][0])\n",
    "#     for item1 in item:\n",
    "#         print(item1[0],item1[1])\n",
    "#     print('+++++')\n",
    "\n",
    "# Using nested list comprehension:\n",
    "# # list_of_sample_size_of_two = [[(obs[n],item) for item in obs] for n in range(0,len(obs))]\n",
    "# list_of_sample_size_of_two = [[[obs[n],item] for item in obs] for n in range(0,len(obs))]\n",
    "# # print(list_of_sample_size_of_two)"
   ]
  },
  {
   "cell_type": "code",
   "execution_count": 2,
   "id": "9fb06ace-030c-4db0-9ae9-9c5d89a1c60a",
   "metadata": {},
   "outputs": [
    {
     "data": {
      "text/plain": [
       "{'10.0 : 1/25',\n",
       " '2.0 : 1/25',\n",
       " '3.0 : 2/25',\n",
       " '4.0 : 3/25',\n",
       " '5.0 : 4/25',\n",
       " '6.0 : 5/25',\n",
       " '7.0 : 4/25',\n",
       " '8.0 : 3/25',\n",
       " '9.0 : 2/25'}"
      ]
     },
     "execution_count": 2,
     "metadata": {},
     "output_type": "execute_result"
    }
   ],
   "source": [
    "# b)\n",
    "probability = [f'{item} : {sample_mean.count(item)}/{len(sample_mean)}' for item in sample_mean]\n",
    "set(probability)"
   ]
  },
  {
   "cell_type": "markdown",
   "id": "303c727e-a60a-4b98-8759-a06586287205",
   "metadata": {},
   "source": [
    "### Type of Distribution: Sample\n",
    "$\\overline{X}$ = mean\n",
    "\n",
    "$S$ = Standard Deviation\n",
    "\n",
    "### Type of Distribution: Population\n",
    "\n",
    "$\\mu$ = mean\n",
    "\n",
    "$\\sigma$ = Standard Deviation\n",
    "\n",
    "### Type of Distribution: Sampling Distribution of the mean\n",
    "\n",
    "$\\mu_\\overline{X}$ = mean\n",
    "\n",
    "$\\sigma_\\overline{X}$ = Standard Deviation(standard error of the mean)"
   ]
  },
  {
   "cell_type": "markdown",
   "id": "ee2e1d21-321c-4b71-bce8-95ada540bb01",
   "metadata": {},
   "source": [
    "#### Mean of the Sampling Distribution of the Mean\n",
    "The mean of all sample means always equals the population mean."
   ]
  },
  {
   "cell_type": "code",
   "execution_count": 3,
   "id": "51347763-d6c5-4d3e-b324-5954f9465092",
   "metadata": {
    "scrolled": true
   },
   "outputs": [
    {
     "name": "stdout",
     "output_type": "stream",
     "text": [
      "mean_of_obs:6  mean_of_sample_mean:6.0\n",
      "True\n"
     ]
    }
   ],
   "source": [
    "import statistics\n",
    "\n",
    "mean_of_obs = statistics.mean(obs)\n",
    "mean_of_sample_mean = statistics.mean(sample_mean)\n",
    "print(f'mean_of_obs:{mean_of_obs}  mean_of_sample_mean:{mean_of_sample_mean}')\n",
    "print(mean_of_obs == mean_of_sample_mean)"
   ]
  },
  {
   "cell_type": "markdown",
   "id": "cfd53d39-7a01-4f67-847b-ca826f0a17aa",
   "metadata": {},
   "source": [
    "### Standard Error of the Mean - A rough measure of the average amount by which sample means deviate from the mean of the sampling distribution or from the population mean.\n",
    "\n",
    "$\\sigma_\\overline{X}$ = $\\dfrac{\\sigma}{\\sqrt{n}}$\n",
    "\n",
    "where $\\sigma_\\overline{X}$ represents the standard error of the mean; σ represents the standard deviation of the population; and n represents the sample size. \n",
    "\n",
    "You might find it helpful to think of the standard error of the mean as a rough measure of the average amount by which sample means deviate from the mean of the sampling distribution or from the population mean."
   ]
  },
  {
   "cell_type": "markdown",
   "id": "1b65751a-f921-415c-a7ed-f75a388fe342",
   "metadata": {},
   "source": [
    "##### The notion of a sampling distribution is the most important concept in inferential statistics. The sampling distribution of the mean is defined as the probability distribution of means for all possible random samples of a given size from some population. Statistical theory pinpoints three important characteristics of the sampling distribution of the mean:\n",
    "\n",
    "■ The mean of the sampling distribution equals the mean of the population.\n",
    "\n",
    "■ The standard deviation of the sampling distribution, that is, the standard error of the mean, equals the standard deviation of the population divided by the square root of the sample size. An important implication of this formula is that a larger sample size translates into a sampling distribution with a smaller variability, allowing more precise generalizations from samples to populations. The standard error of the mean serves as a rough measure of the average amount by which sample means deviate from the mean of the sampling distribution or from the population mean.\n",
    "\n",
    "■ According to the central limit theorem, regardless of the shape of the population, the shape of the sampling distribution approximates a normal curve if the sample size is sufficiently large. Depending on the degree of non-normality in the parent population, a sample size of between 25 and 100 is sufficiently large.\n",
    "\n",
    "Any single sample mean can be viewed as originating from a sampling distribution whose (1) mean equals the population mean (whatever its value); whose (2) standard error equals the population standard deviation divided by the square root of the sample size; and whose (3) shape approximates a normal curve (if the sample size satisfies the requirements of the central limit theorem)."
   ]
  },
  {
   "cell_type": "markdown",
   "id": "816a8e3a-8ce9-4c32-bc10-7169f1283e31",
   "metadata": {},
   "source": [
    "##### 9.9 Indicate whether the following statements are true or false. If we took a random sample of 35 subjects from some population, the associated sampling distribution of the mean would have the following properties:\n",
    "(a) Shape would approximate a normal curve. True\n",
    "\n",
    "\n",
    "(b) Mean would equal the one sample mean. True\n",
    "\n",
    "\n",
    "(c) Shape would approximate the shape of the population. True\n",
    "\n",
    "\n",
    "(d) Compared to the population variability, the variability would be reduced by a factor equal to the square root of 35. True\n",
    "\n",
    "\n",
    "(e) Mean would equal the population mean. True\n",
    "\n",
    "\n",
    "(f) Variability would equal the population variability. False"
   ]
  },
  {
   "cell_type": "markdown",
   "id": "b073adcf-fd43-4a7b-83fc-954a4767150c",
   "metadata": {},
   "source": [
    "##### 9.10 Indicate whether the following statements are true or false. The sampling distribution of the mean\n",
    "(a) is always constructed from scratch, even when the population is large. False\n",
    "\n",
    "\n",
    "(b) serves as a bridge to aid generalizations from a sample to a population. True\n",
    "\n",
    "\n",
    "(c) is the same as the sample mean. False\n",
    "\n",
    "\n",
    "(d) always reflects the shape of the underlying population. False\n",
    "\n",
    "\n",
    "(e) has a mean that always coincides with the population mean. True\n",
    "\n",
    "\n",
    "(f) is a device used to determine the effect of variability (that is, what can happen, just by chance, when samples are random). True\n",
    "\n",
    "\n",
    "(g) remains unchanged even with shifts to a new population or sample size. False\n",
    "\n",
    "\n",
    "(h) supplies a spectrum of possibilities against which to evaluate the one observed sample mean. True\n",
    "\n",
    "\n",
    "(i) tends to cluster more closely about the population mean with increases in sample size. True"
   ]
  },
  {
   "cell_type": "markdown",
   "id": "aea7ea9a-2b20-4a0c-a80e-f423ce1b01f6",
   "metadata": {},
   "source": [
    "##### 9.12 Given that population standard deviation equals 24, how large must the sample size, n, be in order for the standard error to equal\n",
    "(a) 8 ?\n",
    "(b) 6 ?\n",
    "(c) 3 ?\n",
    "(d) 2 ?\n",
    "\n",
    "$\\sigma_\\overline{X}$ = $\\dfrac{\\sigma}{\\sqrt{n}}$\n",
    "\n",
    "$n$ = $\\dfrac{\\sigma^2}{(\\sigma_\\overline{X})^2}$"
   ]
  },
  {
   "cell_type": "code",
   "execution_count": 4,
   "id": "ab298d25-5b9d-456e-8962-100680520db7",
   "metadata": {
    "scrolled": true
   },
   "outputs": [
    {
     "data": {
      "text/plain": [
       "['9.0', '16.0', '64.0', '144.0']"
      ]
     },
     "execution_count": 4,
     "metadata": {},
     "output_type": "execute_result"
    }
   ],
   "source": [
    "# Answers:\n",
    "sample_size = [8, 6, 3, 2]\n",
    "sd = 24\n",
    "n_size = [f'{sd**2/num**2}' for num in sample_size]\n",
    "n_size"
   ]
  },
  {
   "cell_type": "markdown",
   "id": "5242e3f5-e9f7-4dae-a72a-b412746e2194",
   "metadata": {},
   "source": [
    "##### 9.13 Given a sample size of 36, how large does the population standard deviation have to be in order for the standard error to be\n",
    "(a) 1 ?\n",
    "(b) 2 ?\n",
    "(c) 5 ?\n",
    "(d) 100 ?\n",
    "\n",
    "$\\sigma$ = $\\sigma_\\overline{X}\\sqrt{n}$"
   ]
  },
  {
   "cell_type": "code",
   "execution_count": 5,
   "id": "9adebb9e-daa2-4e42-ae43-ea563e2d0758",
   "metadata": {
    "scrolled": true
   },
   "outputs": [
    {
     "data": {
      "text/plain": [
       "[6.0, 12.0, 30.0, 600.0]"
      ]
     },
     "execution_count": 5,
     "metadata": {},
     "output_type": "execute_result"
    }
   ],
   "source": [
    "# Answers:\n",
    "import math\n",
    "\n",
    "n = 36\n",
    "std_error = [1,2,5,100]\n",
    "std_deviation = [num*math.sqrt(n) for num in std_error]\n",
    "std_deviation"
   ]
  }
 ],
 "metadata": {
  "kernelspec": {
   "display_name": "Python 3 (ipykernel)",
   "language": "python",
   "name": "python3"
  },
  "language_info": {
   "codemirror_mode": {
    "name": "ipython",
    "version": 3
   },
   "file_extension": ".py",
   "mimetype": "text/x-python",
   "name": "python",
   "nbconvert_exporter": "python",
   "pygments_lexer": "ipython3",
   "version": "3.10.12"
  }
 },
 "nbformat": 4,
 "nbformat_minor": 5
}
