{
 "cells": [
  {
   "cell_type": "code",
   "execution_count": 1,
   "id": "f1e05dc4-99c5-4021-95a9-277f5d2dd6f8",
   "metadata": {},
   "outputs": [],
   "source": [
    "products_on_sale = ['Chair_Type_1', 'Chair_Type_2', 'Chair_Type_3', 'Chair_Type_4']\n",
    "sale_prices = [100, 120, 135, 150]"
   ]
  },
  {
   "cell_type": "code",
   "execution_count": 10,
   "id": "b5b0254b-3fdd-4700-9a53-f777ab04d6fb",
   "metadata": {},
   "outputs": [
    {
     "name": "stdout",
     "output_type": "stream",
     "text": [
      "['Chair_Type_1', 100]\n",
      "['Chair_Type_1', 120]\n",
      "['Chair_Type_1', 135]\n",
      "['Chair_Type_1', 150]\n",
      "['Chair_Type_2', 100]\n",
      "['Chair_Type_2', 120]\n",
      "['Chair_Type_2', 135]\n",
      "['Chair_Type_2', 150]\n",
      "['Chair_Type_3', 100]\n",
      "['Chair_Type_3', 120]\n",
      "['Chair_Type_3', 135]\n",
      "['Chair_Type_3', 150]\n",
      "['Chair_Type_4', 100]\n",
      "['Chair_Type_4', 120]\n",
      "['Chair_Type_4', 135]\n",
      "['Chair_Type_4', 150]\n"
     ]
    }
   ],
   "source": [
    "list = []\n",
    "for pos in products_on_sale:\n",
    "    for sp in sale_prices:\n",
    "        combo = [pos,sp]\n",
    "        list.append(combo)\n",
    "for l in list:\n",
    "    print(l)"
   ]
  },
  {
   "cell_type": "code",
   "execution_count": 6,
   "id": "73732d04-afbe-41e2-9967-7634b07292ef",
   "metadata": {
    "scrolled": true
   },
   "outputs": [
    {
     "name": "stdout",
     "output_type": "stream",
     "text": [
      "['Chair_Type_1', 100]\n",
      "['Chair_Type_1', 120]\n",
      "['Chair_Type_1', 135]\n",
      "['Chair_Type_1', 150]\n",
      "['Chair_Type_2', 100]\n",
      "['Chair_Type_2', 120]\n",
      "['Chair_Type_2', 135]\n",
      "['Chair_Type_2', 150]\n",
      "['Chair_Type_3', 100]\n",
      "['Chair_Type_3', 120]\n",
      "['Chair_Type_3', 135]\n",
      "['Chair_Type_3', 150]\n",
      "['Chair_Type_4', 100]\n",
      "['Chair_Type_4', 120]\n",
      "['Chair_Type_4', 135]\n",
      "['Chair_Type_4', 150]\n"
     ]
    }
   ],
   "source": [
    "combinations = []\n",
    "\n",
    "# Nested loop to create combinations\n",
    "for product in products_on_sale:\n",
    "    for price in sale_prices:\n",
    "        combination = [product, price]\n",
    "        combinations.append(combination)\n",
    "\n",
    "# Display the combinations\n",
    "for combination in combinations:\n",
    "    print(combination)"
   ]
  },
  {
   "cell_type": "code",
   "execution_count": 8,
   "id": "2e9f3cfe-9e70-4c68-b6bf-b59d283810cb",
   "metadata": {
    "collapsed": true,
    "jupyter": {
     "outputs_hidden": true
    }
   },
   "outputs": [
    {
     "data": {
      "text/plain": [
       "True"
      ]
     },
     "execution_count": 8,
     "metadata": {},
     "output_type": "execute_result"
    }
   ],
   "source": [
    "list == combinations"
   ]
  },
  {
   "cell_type": "code",
   "execution_count": 9,
   "id": "9452490f-ecef-40dd-932e-426b10bd0b86",
   "metadata": {
    "scrolled": true
   },
   "outputs": [
    {
     "name": "stdout",
     "output_type": "stream",
     "text": [
      "0 1 2 3 4 5 6 7 8 9 "
     ]
    }
   ],
   "source": [
    "for i in range(0,10):\n",
    "    print(i,end=' ')"
   ]
  },
  {
   "cell_type": "code",
   "execution_count": 11,
   "id": "c5b2e5b8-4528-4b12-9711-a0c587b491e7",
   "metadata": {},
   "outputs": [],
   "source": [
    "products_on_sale = ['Chair_Type_1', 'Chair_Type_2', 'Chair_Type_3', 'Chair_Type_4']\n",
    "sale_prices = [100, 120, 135, 150]\n",
    "quantities = [1000, 1500, 1300]"
   ]
  },
  {
   "cell_type": "code",
   "execution_count": 16,
   "id": "bb35eadc-3c2b-4425-9650-3a4a62a7fc29",
   "metadata": {
    "scrolled": true
   },
   "outputs": [
    {
     "name": "stdout",
     "output_type": "stream",
     "text": [
      "Expected revenue for Chair_Type_1 if 1000 chairs are to be sold: 100000\n",
      "Expected revenue for Chair_Type_1 if 1500 chairs are to be sold: 150000\n",
      "Expected revenue for Chair_Type_1 if 1300 chairs are to be sold: 130000\n",
      "Expected revenue for Chair_Type_1 if 1000 chairs are to be sold: 120000\n",
      "Expected revenue for Chair_Type_1 if 1500 chairs are to be sold: 180000\n",
      "Expected revenue for Chair_Type_1 if 1300 chairs are to be sold: 156000\n",
      "Expected revenue for Chair_Type_1 if 1000 chairs are to be sold: 135000\n",
      "Expected revenue for Chair_Type_1 if 1500 chairs are to be sold: 202500\n",
      "Expected revenue for Chair_Type_1 if 1300 chairs are to be sold: 175500\n",
      "Expected revenue for Chair_Type_1 if 1000 chairs are to be sold: 150000\n",
      "Expected revenue for Chair_Type_1 if 1500 chairs are to be sold: 225000\n",
      "Expected revenue for Chair_Type_1 if 1300 chairs are to be sold: 195000\n",
      "Expected revenue for Chair_Type_2 if 1000 chairs are to be sold: 100000\n",
      "Expected revenue for Chair_Type_2 if 1500 chairs are to be sold: 150000\n",
      "Expected revenue for Chair_Type_2 if 1300 chairs are to be sold: 130000\n",
      "Expected revenue for Chair_Type_2 if 1000 chairs are to be sold: 120000\n",
      "Expected revenue for Chair_Type_2 if 1500 chairs are to be sold: 180000\n",
      "Expected revenue for Chair_Type_2 if 1300 chairs are to be sold: 156000\n",
      "Expected revenue for Chair_Type_2 if 1000 chairs are to be sold: 135000\n",
      "Expected revenue for Chair_Type_2 if 1500 chairs are to be sold: 202500\n",
      "Expected revenue for Chair_Type_2 if 1300 chairs are to be sold: 175500\n",
      "Expected revenue for Chair_Type_2 if 1000 chairs are to be sold: 150000\n",
      "Expected revenue for Chair_Type_2 if 1500 chairs are to be sold: 225000\n",
      "Expected revenue for Chair_Type_2 if 1300 chairs are to be sold: 195000\n",
      "Expected revenue for Chair_Type_3 if 1000 chairs are to be sold: 100000\n",
      "Expected revenue for Chair_Type_3 if 1500 chairs are to be sold: 150000\n",
      "Expected revenue for Chair_Type_3 if 1300 chairs are to be sold: 130000\n",
      "Expected revenue for Chair_Type_3 if 1000 chairs are to be sold: 120000\n",
      "Expected revenue for Chair_Type_3 if 1500 chairs are to be sold: 180000\n",
      "Expected revenue for Chair_Type_3 if 1300 chairs are to be sold: 156000\n",
      "Expected revenue for Chair_Type_3 if 1000 chairs are to be sold: 135000\n",
      "Expected revenue for Chair_Type_3 if 1500 chairs are to be sold: 202500\n",
      "Expected revenue for Chair_Type_3 if 1300 chairs are to be sold: 175500\n",
      "Expected revenue for Chair_Type_3 if 1000 chairs are to be sold: 150000\n",
      "Expected revenue for Chair_Type_3 if 1500 chairs are to be sold: 225000\n",
      "Expected revenue for Chair_Type_3 if 1300 chairs are to be sold: 195000\n",
      "Expected revenue for Chair_Type_4 if 1000 chairs are to be sold: 100000\n",
      "Expected revenue for Chair_Type_4 if 1500 chairs are to be sold: 150000\n",
      "Expected revenue for Chair_Type_4 if 1300 chairs are to be sold: 130000\n",
      "Expected revenue for Chair_Type_4 if 1000 chairs are to be sold: 120000\n",
      "Expected revenue for Chair_Type_4 if 1500 chairs are to be sold: 180000\n",
      "Expected revenue for Chair_Type_4 if 1300 chairs are to be sold: 156000\n",
      "Expected revenue for Chair_Type_4 if 1000 chairs are to be sold: 135000\n",
      "Expected revenue for Chair_Type_4 if 1500 chairs are to be sold: 202500\n",
      "Expected revenue for Chair_Type_4 if 1300 chairs are to be sold: 175500\n",
      "Expected revenue for Chair_Type_4 if 1000 chairs are to be sold: 150000\n",
      "Expected revenue for Chair_Type_4 if 1500 chairs are to be sold: 225000\n",
      "Expected revenue for Chair_Type_4 if 1300 chairs are to be sold: 195000\n"
     ]
    }
   ],
   "source": [
    "list=[]\n",
    "\n",
    "for pos in products_on_sale:\n",
    "    for sp in sale_prices:\n",
    "        for q in quantities:\n",
    "            list.append([pos,sp*q])\n",
    "            print(f'Expected revenue for {pos} if {q} chairs are to be sold: {sp*q}')\n",
    "# for item in list:\n",
    "#     print(f'Expected revenue for {item[0]} if 1000 chairs are to be sold: 100000')"
   ]
  },
  {
   "cell_type": "code",
   "execution_count": 25,
   "id": "5d13eafb-dae6-4282-854d-9972e24f4236",
   "metadata": {},
   "outputs": [
    {
     "name": "stdout",
     "output_type": "stream",
     "text": [
      "[['Chair_Type_1', 100000], ['Chair_Type_1', 150000], ['Chair_Type_1', 130000], ['Chair_Type_1', 120000], ['Chair_Type_1', 180000], ['Chair_Type_1', 156000], ['Chair_Type_1', 135000], ['Chair_Type_1', 202500], ['Chair_Type_1', 175500], ['Chair_Type_1', 150000], ['Chair_Type_1', 225000], ['Chair_Type_1', 195000], ['Chair_Type_2', 100000], ['Chair_Type_2', 150000], ['Chair_Type_2', 130000], ['Chair_Type_2', 120000], ['Chair_Type_2', 180000], ['Chair_Type_2', 156000], ['Chair_Type_2', 135000], ['Chair_Type_2', 202500], ['Chair_Type_2', 175500], ['Chair_Type_2', 150000], ['Chair_Type_2', 225000], ['Chair_Type_2', 195000], ['Chair_Type_3', 100000], ['Chair_Type_3', 150000], ['Chair_Type_3', 130000], ['Chair_Type_3', 120000], ['Chair_Type_3', 180000], ['Chair_Type_3', 156000], ['Chair_Type_3', 135000], ['Chair_Type_3', 202500], ['Chair_Type_3', 175500], ['Chair_Type_3', 150000], ['Chair_Type_3', 225000], ['Chair_Type_3', 195000], ['Chair_Type_4', 100000], ['Chair_Type_4', 150000], ['Chair_Type_4', 130000], ['Chair_Type_4', 120000], ['Chair_Type_4', 180000], ['Chair_Type_4', 156000], ['Chair_Type_4', 135000], ['Chair_Type_4', 202500], ['Chair_Type_4', 175500], ['Chair_Type_4', 150000], ['Chair_Type_4', 225000], ['Chair_Type_4', 195000]]\n"
     ]
    }
   ],
   "source": [
    "products_on_sale = ['Chair_Type_1', 'Chair_Type_2', 'Chair_Type_3', 'Chair_Type_4']\n",
    "sale_prices = [100, 120, 135, 150]\n",
    "quantities = [1000, 1500, 1300]\n",
    "\n",
    "sr = []\n",
    "\n",
    "for chair_type in products_on_sale:\n",
    "    for price in sale_prices:\n",
    "        for quantity in quantities:\n",
    "            # print ([chair_type, price*quantity])\n",
    "            sr.append([chair_type, price*quantity])\n",
    "print(sr)"
   ]
  },
  {
   "cell_type": "code",
   "execution_count": 29,
   "id": "8ccae9c7-3df9-4272-92fc-a102dddc8e39",
   "metadata": {
    "scrolled": true
   },
   "outputs": [
    {
     "data": {
      "text/plain": [
       "[['Chair_Type_1', 100000],\n",
       " ['Chair_Type_1', 150000],\n",
       " ['Chair_Type_1', 130000],\n",
       " ['Chair_Type_1', 120000],\n",
       " ['Chair_Type_1', 180000],\n",
       " ['Chair_Type_1', 156000],\n",
       " ['Chair_Type_1', 135000],\n",
       " ['Chair_Type_1', 202500],\n",
       " ['Chair_Type_1', 175500],\n",
       " ['Chair_Type_1', 150000],\n",
       " ['Chair_Type_1', 225000],\n",
       " ['Chair_Type_1', 195000],\n",
       " ['Chair_Type_2', 100000],\n",
       " ['Chair_Type_2', 150000],\n",
       " ['Chair_Type_2', 130000],\n",
       " ['Chair_Type_2', 120000],\n",
       " ['Chair_Type_2', 180000],\n",
       " ['Chair_Type_2', 156000],\n",
       " ['Chair_Type_2', 135000],\n",
       " ['Chair_Type_2', 202500],\n",
       " ['Chair_Type_2', 175500],\n",
       " ['Chair_Type_2', 150000],\n",
       " ['Chair_Type_2', 225000],\n",
       " ['Chair_Type_2', 195000],\n",
       " ['Chair_Type_3', 100000],\n",
       " ['Chair_Type_3', 150000],\n",
       " ['Chair_Type_3', 130000],\n",
       " ['Chair_Type_3', 120000],\n",
       " ['Chair_Type_3', 180000],\n",
       " ['Chair_Type_3', 156000],\n",
       " ['Chair_Type_3', 135000],\n",
       " ['Chair_Type_3', 202500],\n",
       " ['Chair_Type_3', 175500],\n",
       " ['Chair_Type_3', 150000],\n",
       " ['Chair_Type_3', 225000],\n",
       " ['Chair_Type_3', 195000],\n",
       " ['Chair_Type_4', 100000],\n",
       " ['Chair_Type_4', 150000],\n",
       " ['Chair_Type_4', 130000],\n",
       " ['Chair_Type_4', 120000],\n",
       " ['Chair_Type_4', 180000],\n",
       " ['Chair_Type_4', 156000],\n",
       " ['Chair_Type_4', 135000],\n",
       " ['Chair_Type_4', 202500],\n",
       " ['Chair_Type_4', 175500],\n",
       " ['Chair_Type_4', 150000],\n",
       " ['Chair_Type_4', 225000],\n",
       " ['Chair_Type_4', 195000]]"
      ]
     },
     "execution_count": 29,
     "metadata": {},
     "output_type": "execute_result"
    }
   ],
   "source": [
    "sales_revenue = [[pos, sp*q] for pos in products_on_sale for sp in sale_prices for q in quantities]\n",
    "sales_revenue"
   ]
  },
  {
   "cell_type": "code",
   "execution_count": 26,
   "id": "c5fc141e-6011-4768-ab4a-480b14693dc2",
   "metadata": {
    "collapsed": true,
    "jupyter": {
     "outputs_hidden": true
    }
   },
   "outputs": [
    {
     "data": {
      "text/plain": [
       "True"
      ]
     },
     "execution_count": 26,
     "metadata": {},
     "output_type": "execute_result"
    }
   ],
   "source": [
    "sales_revenue == sr"
   ]
  },
  {
   "cell_type": "code",
   "execution_count": 33,
   "id": "3dae0b28-8f43-4de2-ab2c-2ec2d771961f",
   "metadata": {
    "scrolled": true
   },
   "outputs": [
    {
     "name": "stdout",
     "output_type": "stream",
     "text": [
      "1\n",
      "2\n",
      "3\n",
      "4\n",
      "5\n",
      "6\n",
      "7\n",
      "8\n",
      "9\n",
      "10\n",
      "[20, 40, 60, 80, 100]\n"
     ]
    }
   ],
   "source": [
    "#Use a list comprehension to return a list with all even numbers between 1 and 10 inclusive, multiplied by 10.\n",
    "# Please remember to use the print() function to print out the desired output.\n",
    "\n",
    "for i in range(1,11):\n",
    "    print(i)\n",
    "\n",
    "list = [i*10 for i in range(1,11) if i%2==0]\n",
    "print(list)"
   ]
  },
  {
   "cell_type": "code",
   "execution_count": 34,
   "id": "b3fd9ed3-75f4-4755-9ad4-d5420472278f",
   "metadata": {},
   "outputs": [
    {
     "name": "stdout",
     "output_type": "stream",
     "text": [
      "[20, 40, 60, 80, 100]\n"
     ]
    }
   ],
   "source": [
    "list = []\n",
    "for i in range(1,11):\n",
    "    if i%2 == 0:\n",
    "        list.append(i*10)\n",
    "print(list)"
   ]
  },
  {
   "cell_type": "code",
   "execution_count": 39,
   "id": "d56eaabc-29e6-4b15-9e9a-8a3f57ec9168",
   "metadata": {
    "collapsed": true,
    "jupyter": {
     "outputs_hidden": true
    }
   },
   "outputs": [
    {
     "name": "stdout",
     "output_type": "stream",
     "text": [
      "[None, 20, None, 40, None, 60, None, 80, None, 100]\n"
     ]
    }
   ],
   "source": [
    "# Using list comprehension, return a list that contains the element from range(1, 11) multiplied by 10 if the number is even, \n",
    "# and \"None\" if that number is odd.\n",
    "# Please use num as an iteration variable name in the required list comprehension.\n",
    "# result = [num * 10 if num % 2 == 0 else None for num in range(1, 11)]\n",
    "list = [num*10 if num%2==0 else None for num in range(1,11)]\n",
    "print(list)"
   ]
  },
  {
   "cell_type": "markdown",
   "id": "3c387b29-e48e-4da9-9229-9c919c815a43",
   "metadata": {},
   "source": [
    "### Lambda Function"
   ]
  },
  {
   "cell_type": "code",
   "execution_count": 43,
   "id": "7bb8f929-97d0-4b2e-a310-9c95e67eff06",
   "metadata": {
    "collapsed": true,
    "jupyter": {
     "outputs_hidden": true
    }
   },
   "outputs": [
    {
     "data": {
      "text/plain": [
       "141.85714285714286"
      ]
     },
     "execution_count": 43,
     "metadata": {},
     "output_type": "execute_result"
    }
   ],
   "source": [
    "(lambda x: x/7) (990+3)"
   ]
  },
  {
   "cell_type": "code",
   "execution_count": 53,
   "id": "f5ab5f95-e82d-40b9-bcab-8335c8e87814",
   "metadata": {
    "scrolled": true
   },
   "outputs": [
    {
     "name": "stdout",
     "output_type": "stream",
     "text": [
      "70\n"
     ]
    }
   ],
   "source": [
    "# Define a function called multiply_by_10 that will return a value ten times bigger than the argument.\n",
    "# (lambda multiply_by_10: multiply_by_10*10) (7)\n",
    "m7 = lambda multiply_by_10: multiply_by_10*10\n",
    "result = m7(7)\n",
    "print(result)"
   ]
  },
  {
   "cell_type": "code",
   "execution_count": 45,
   "id": "91acd859-fd77-4763-ae30-bf4b5be21362",
   "metadata": {},
   "outputs": [
    {
     "name": "stdout",
     "output_type": "stream",
     "text": [
      "50\n"
     ]
    }
   ],
   "source": [
    "def multiply_by_10(x):\n",
    "    return x * 10\n",
    "\n",
    "# Apply the function to the argument 5\n",
    "result = multiply_by_10(5)\n",
    "\n",
    "# Print the result\n",
    "print(result)"
   ]
  },
  {
   "cell_type": "code",
   "execution_count": 50,
   "id": "c8570d8b-c7c9-4c2e-91f8-39263da60cdd",
   "metadata": {
    "scrolled": true
   },
   "outputs": [
    {
     "name": "stdout",
     "output_type": "stream",
     "text": [
      "70\n"
     ]
    }
   ],
   "source": [
    "multiply_by_10 = lambda x: x * 10\n",
    "\n",
    "# Execute the lambda function with an argument of 7\n",
    "result = multiply_by_10(7)\n",
    "\n",
    "# Print the result\n",
    "print(result)"
   ]
  },
  {
   "cell_type": "code",
   "execution_count": 8,
   "id": "6cf5eb06-7211-48d2-ab9e-bffa9f22831d",
   "metadata": {
    "scrolled": true
   },
   "outputs": [
    {
     "name": "stdout",
     "output_type": "stream",
     "text": [
      "80\n"
     ]
    }
   ],
   "source": [
    "# Define a Lambda function named product_xy that returns the product of two parameters, x and y. \n",
    "# Execute it with arguments 4 and 20, respectively.\n",
    "\n",
    "product_xy = lambda x,y: x*y\n",
    "prod=product_xy(4,20)\n",
    "print(prod)"
   ]
  },
  {
   "cell_type": "markdown",
   "id": "be14c8f7-dd7b-44ef-8aa7-5ef73bbae138",
   "metadata": {},
   "source": [
    "Create a Lambda function that returns the output of the following mathematical expression. Execute it with an argument of 3."
   ]
  },
  {
   "cell_type": "markdown",
   "id": "af8560d9-10a0-48a0-b5d5-968c2c6e1dcd",
   "metadata": {},
   "source": [
    "### $\\frac{(135-x^3)^4}{(1+x)^5}$"
   ]
  },
  {
   "cell_type": "code",
   "execution_count": 20,
   "id": "db0d8603-0a29-4331-bedb-810934c42639",
   "metadata": {},
   "outputs": [
    {
     "name": "stdout",
     "output_type": "stream",
     "text": [
      "132860.25\n"
     ]
    }
   ],
   "source": [
    "equation = lambda x: ((135-x**3)**4)/((1+x)**5)\n",
    "result=equation(3)\n",
    "print(result)"
   ]
  },
  {
   "cell_type": "code",
   "execution_count": 24,
   "id": "4a89a873-a791-4e10-846e-f8880a51517b",
   "metadata": {
    "scrolled": true
   },
   "outputs": [
    {
     "data": {
      "text/plain": [
       "0             Amy White\n",
       "1          Jack Stewart\n",
       "2    Richard Lauderdale\n",
       "3          Sara Johnson\n",
       "dtype: object"
      ]
     },
     "execution_count": 24,
     "metadata": {},
     "output_type": "execute_result"
    }
   ],
   "source": [
    "import pandas as pd\n",
    "employee_names = ['Amy White', 'Jack Stewart', 'Richard Lauderdale', 'Sara Johnson']\n",
    "employee_names_Series = pd.Series(employee_names)\n",
    "print(employee_names_Series)"
   ]
  },
  {
   "cell_type": "code",
   "execution_count": 27,
   "id": "c628452e-fbc0-4cb7-b9c7-503c9ba35471",
   "metadata": {
    "scrolled": true
   },
   "outputs": [
    {
     "name": "stdout",
     "output_type": "stream",
     "text": [
      "0     5\n",
      "1     8\n",
      "2     3\n",
      "3    10\n",
      "dtype: int64\n"
     ]
    }
   ],
   "source": [
    "# Now, create a Series object directly. That is, not from an existing list, but by using the following structure: pd.Series([...])\n",
    "# Let the elements of the Series object be the following numbers: 5, 8, 3, and 10. Name the object work_experience_yrs.\n",
    "\n",
    "work_experience_yrs = pd.Series([5, 8, 3,10])\n",
    "print(work_experience_yrs)"
   ]
  },
  {
   "cell_type": "markdown",
   "id": "d20f791e-3126-4517-9715-08db7972ef07",
   "metadata": {},
   "source": [
    "Use an appropriate method to extract the top five values from the employees_work_exp Series.\n",
    "Please be aware that pandas may automatically display the values of the object as floats as opposed to integers."
   ]
  },
  {
   "cell_type": "code",
   "execution_count": 28,
   "id": "55fd2d41-569a-4f1d-adce-85a6827db847",
   "metadata": {},
   "outputs": [],
   "source": [
    "employees_work_exp = pd.Series({\n",
    "'Amy White'   : 3,\n",
    "'Jack Stewart'   : 5,\n",
    "'Richard Lauderdale'  : 4.5,\n",
    "'Sara Johnson'  : 22,\n",
    "'Patrick Adams' : 28,\n",
    "'Jessica Baker'  : 14,\n",
    "'Peter Hunt'   : 4,\n",
    "'Daniel Lloyd'  : 6,\n",
    "'John Owen'   : 1.5,\n",
    "'Jennifer Phillips'  : 10,\n",
    "'Courtney Rogers'   : 4.5,\n",
    "'Anne Robinson'  : 2,\n",
    "})"
   ]
  },
  {
   "cell_type": "code",
   "execution_count": 41,
   "id": "96ecf1a7-c156-4c55-a8f9-768d1e1131d0",
   "metadata": {
    "scrolled": true
   },
   "outputs": [
    {
     "name": "stdout",
     "output_type": "stream",
     "text": [
      "Patrick Adams        28.0\n",
      "Sara Johnson         22.0\n",
      "Jessica Baker        14.0\n",
      "Jennifer Phillips    10.0\n",
      "Daniel Lloyd          6.0\n",
      "dtype: float64\n"
     ]
    }
   ],
   "source": [
    "new = employees_work_exp.sort_values(ascending=False)\n",
    "print(new.head(5))"
   ]
  },
  {
   "cell_type": "code",
   "execution_count": 42,
   "id": "0d7a5bb7-fd77-471b-b54a-6d9564de5bf8",
   "metadata": {},
   "outputs": [
    {
     "name": "stdout",
     "output_type": "stream",
     "text": [
      "Patrick Adams        28.0\n",
      "Sara Johnson         22.0\n",
      "Jessica Baker        14.0\n",
      "Jennifer Phillips    10.0\n",
      "Daniel Lloyd          6.0\n",
      "dtype: float64\n"
     ]
    }
   ],
   "source": [
    "top_five_values = employees_work_exp.nlargest(5)\n",
    "\n",
    "# Print the result\n",
    "print(top_five_values)"
   ]
  }
 ],
 "metadata": {
  "kernelspec": {
   "display_name": "Python 3 (ipykernel)",
   "language": "python",
   "name": "python3"
  },
  "language_info": {
   "codemirror_mode": {
    "name": "ipython",
    "version": 3
   },
   "file_extension": ".py",
   "mimetype": "text/x-python",
   "name": "python",
   "nbconvert_exporter": "python",
   "pygments_lexer": "ipython3",
   "version": "3.12.0"
  }
 },
 "nbformat": 4,
 "nbformat_minor": 5
}
