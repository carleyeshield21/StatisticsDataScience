{
 "cells": [
  {
   "cell_type": "code",
   "execution_count": 1,
   "id": "5c475775-c481-4bae-8414-1b5d2e11e928",
   "metadata": {},
   "outputs": [],
   "source": [
    "import json"
   ]
  },
  {
   "cell_type": "code",
   "execution_count": 2,
   "id": "7253c71a-9fcb-4263-9bdb-ce20e4416cfb",
   "metadata": {},
   "outputs": [],
   "source": [
    "prices_per_product = '{\"Product A\":22250, \"Product B\":16600, \"Product C\":15600}'\n",
    "\n",
    "# The code below will result in JSONDecodeError: Expecting property name enclosed in double quotes\n",
    "# prices_per_product = \"{'Product A':22250, 'Product B':16600, 'Product C':15600}\"\n",
    "\n",
    "# The code below will result in TypeError: the JSON object must be str, bytes or bytearray, not dict\n",
    "# prices_per_product = {\"Product A\":22250, \"Product B\":16600, \"Product C\":15600}"
   ]
  },
  {
   "cell_type": "code",
   "execution_count": 3,
   "id": "85a659a2-b637-48f5-8d04-6b91767785c7",
   "metadata": {},
   "outputs": [
    {
     "name": "stdout",
     "output_type": "stream",
     "text": [
      "{\"Product A\":22250, \"Product B\":16600, \"Product C\":15600}\n"
     ]
    },
    {
     "data": {
      "text/plain": [
       "str"
      ]
     },
     "execution_count": 3,
     "metadata": {},
     "output_type": "execute_result"
    }
   ],
   "source": [
    "print(prices_per_product)\n",
    "type(prices_per_product)"
   ]
  },
  {
   "cell_type": "markdown",
   "id": "f5d19bf0-14ef-40c3-999e-2e599c4cdf39",
   "metadata": {},
   "source": [
    "### Using json"
   ]
  },
  {
   "cell_type": "code",
   "execution_count": 4,
   "id": "73cc58ac-5e13-4331-8a23-02dbf89f9396",
   "metadata": {
    "collapsed": true,
    "jupyter": {
     "outputs_hidden": true
    }
   },
   "outputs": [
    {
     "data": {
      "text/plain": [
       "{'Product A': 22250, 'Product B': 16600, 'Product C': 15600}"
      ]
     },
     "execution_count": 4,
     "metadata": {},
     "output_type": "execute_result"
    }
   ],
   "source": [
    "parsed_str = json.loads(prices_per_product)\n",
    "parsed_str"
   ]
  },
  {
   "cell_type": "markdown",
   "id": "cd580166-fca0-4d9f-892e-0d28cce026b2",
   "metadata": {},
   "source": [
    "### Using pandas to read .json files"
   ]
  },
  {
   "cell_type": "code",
   "execution_count": 5,
   "id": "10676fef-9408-4d48-9aed-fd79120a9396",
   "metadata": {},
   "outputs": [],
   "source": [
    "import pandas as pd"
   ]
  },
  {
   "cell_type": "code",
   "execution_count": null,
   "id": "73257c4b-89a5-450d-a3b7-485af52b350e",
   "metadata": {},
   "outputs": [],
   "source": [
    "new_csv_data = pd.read_json('l"
   ]
  }
 ],
 "metadata": {
  "kernelspec": {
   "display_name": "Python 3 (ipykernel)",
   "language": "python",
   "name": "python3"
  },
  "language_info": {
   "codemirror_mode": {
    "name": "ipython",
    "version": 3
   },
   "file_extension": ".py",
   "mimetype": "text/x-python",
   "name": "python",
   "nbconvert_exporter": "python",
   "pygments_lexer": "ipython3",
   "version": "3.12.0"
  }
 },
 "nbformat": 4,
 "nbformat_minor": 5
}
