{
 "cells": [
  {
   "cell_type": "code",
   "execution_count": 9,
   "id": "758e0e1b-bb72-4492-b670-cdaec88073a1",
   "metadata": {},
   "outputs": [
    {
     "name": "stdout",
     "output_type": "stream",
     "text": [
      "28 42\n"
     ]
    }
   ],
   "source": [
    "x = [1,3,2,3,1,2]\n",
    "y = [2,4,3,2,0,3]\n",
    "sqx = [x**2 for x in x]\n",
    "sqy = [y**2 for y in y]\n",
    "ssx = sum(sqx)\n",
    "ssy = sum(sqy)\n",
    "print(ssx, ssy)"
   ]
  },
  {
   "cell_type": "code",
   "execution_count": 11,
   "id": "d01424fb-06f3-48ad-8242-5b11534b70d3",
   "metadata": {},
   "outputs": [
    {
     "name": "stdout",
     "output_type": "stream",
     "text": [
      "Sum of products: 32\n"
     ]
    }
   ],
   "source": [
    "x = [1, 3, 2, 3, 1, 2]\n",
    "y = [2, 4, 3, 2, 0, 3]\n",
    "\n",
    "# Compute sum of products\n",
    "sum_of_products = sum(xi * yi for xi, yi in zip(x, y))\n",
    "\n",
    "print(f\"Sum of products: {sum_of_products}\")"
   ]
  }
 ],
 "metadata": {
  "kernelspec": {
   "display_name": "Python 3 (ipykernel)",
   "language": "python",
   "name": "python3"
  },
  "language_info": {
   "codemirror_mode": {
    "name": "ipython",
    "version": 3
   },
   "file_extension": ".py",
   "mimetype": "text/x-python",
   "name": "python",
   "nbconvert_exporter": "python",
   "pygments_lexer": "ipython3",
   "version": "3.10.12"
  }
 },
 "nbformat": 4,
 "nbformat_minor": 5
}
