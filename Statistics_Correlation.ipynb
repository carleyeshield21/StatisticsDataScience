{
 "cells": [
  {
   "cell_type": "code",
   "execution_count": 39,
   "id": "758e0e1b-bb72-4492-b670-cdaec88073a1",
   "metadata": {
    "scrolled": true
   },
   "outputs": [
    {
     "name": "stdout",
     "output_type": "stream",
     "text": [
      "35 60 484 325 800\n",
      "64.0 80.0 80.0\n"
     ]
    }
   ],
   "source": [
    "import math \n",
    "# x = [1,3,2,3,1,2]\n",
    "# y = [2,4,3,2,0,3]\n",
    "x = [13,9,7,5,1]\n",
    "y = [14,18,12,10,6]\n",
    "n = len(x)\n",
    "sqx = [x**2 for x in x]\n",
    "sqy = [y**2 for y in y]\n",
    "xy = [x[n]*y[n] for n in range(0, len(x))]\n",
    "sumx = sum(x)\n",
    "sumy = sum(y)\n",
    "sumxy = sum(xy)\n",
    "sum_sqx = sum(sqx)\n",
    "sum_sqy = sum(sqy)\n",
    "spxy = sumxy - (sumx*sumy)/n\n",
    "ssx = sum_sqx - sumx**2/n\n",
    "ssy = sum_sqy - sumy**2/n\n",
    "r = spxy/sqr\n",
    "\n",
    "print(sumx,sumy,sumxy,sum_sqx,sum_sqy)\n",
    "print(spxy,ssx,ssy)"
   ]
  }
 ],
 "metadata": {
  "kernelspec": {
   "display_name": "Python 3 (ipykernel)",
   "language": "python",
   "name": "python3"
  },
  "language_info": {
   "codemirror_mode": {
    "name": "ipython",
    "version": 3
   },
   "file_extension": ".py",
   "mimetype": "text/x-python",
   "name": "python",
   "nbconvert_exporter": "python",
   "pygments_lexer": "ipython3",
   "version": "3.10.12"
  }
 },
 "nbformat": 4,
 "nbformat_minor": 5
}
