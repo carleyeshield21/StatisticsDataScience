{
 "cells": [
  {
   "cell_type": "code",
   "execution_count": 2,
   "id": "a5a2c1b2-1530-4e3f-aca0-82a4c7652fef",
   "metadata": {},
   "outputs": [],
   "source": [
    "import numpy\n",
    "import matplotlib.pyplot as plt\n",
    "from mpl_toolkits.mplot3d import Axes3D"
   ]
  },
  {
   "cell_type": "markdown",
   "id": "ad243532-8b7b-4f29-b691-eff180c26592",
   "metadata": {},
   "source": [
    "### Generate random input data to train on"
   ]
  },
  {
   "cell_type": "code",
   "execution_count": 11,
   "id": "ce32bd8b-cc54-4794-81f2-f9119823e22d",
   "metadata": {},
   "outputs": [
    {
     "data": {
      "text/plain": [
       "array([[-6.44022266,  2.74247277],\n",
       "       [-6.47953882,  8.6528762 ],\n",
       "       [-4.90795763, -5.31566833],\n",
       "       ...,\n",
       "       [ 7.02066528, -1.76297443],\n",
       "       [ 2.52814892,  7.57242622],\n",
       "       [-8.31934568,  9.47921407]])"
      ]
     },
     "execution_count": 11,
     "metadata": {},
     "output_type": "execute_result"
    }
   ],
   "source": [
    "# numpy.random.uniform(low,high,size) draws a random value from the interval (low,high), where each number has \n",
    "# an equal chance to be selected\n",
    "\n",
    "observations = 1000\n",
    "\n",
    "xs = numpy.random.uniform(low=-10,high=10,size=(observations,1))\n",
    "zs = numpy.random.uniform(-10,10,(observations,1))\n",
    "\n",
    "inputs = numpy.column_stack((xs,zs))\n",
    "inputs"
   ]
  },
  {
   "cell_type": "code",
   "execution_count": 12,
   "id": "2a6c3d38-9bf2-43a0-b149-68eba4c37618",
   "metadata": {},
   "outputs": [
    {
     "data": {
      "text/plain": [
       "(1000, 2)"
      ]
     },
     "execution_count": 12,
     "metadata": {},
     "output_type": "execute_result"
    }
   ],
   "source": [
    "inputs.shape"
   ]
  },
  {
   "cell_type": "markdown",
   "id": "3f18adcd-62b9-4342-aa60-e4ef40082b96",
   "metadata": {},
   "source": [
    "### Create the targets we will aim at"
   ]
  },
  {
   "cell_type": "code",
   "execution_count": null,
   "id": "a39ef2db-9261-4dbe-b8b7-8ad6b5f4c070",
   "metadata": {},
   "outputs": [],
   "source": [
    "noise = numpy.random.uniform"
   ]
  }
 ],
 "metadata": {
  "kernelspec": {
   "display_name": "Python 3 (ipykernel)",
   "language": "python",
   "name": "python3"
  },
  "language_info": {
   "codemirror_mode": {
    "name": "ipython",
    "version": 3
   },
   "file_extension": ".py",
   "mimetype": "text/x-python",
   "name": "python",
   "nbconvert_exporter": "python",
   "pygments_lexer": "ipython3",
   "version": "3.11.6"
  }
 },
 "nbformat": 4,
 "nbformat_minor": 5
}
