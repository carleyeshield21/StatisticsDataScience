{
 "cells": [
  {
   "cell_type": "markdown",
   "id": "7c2d6fb9-9ec1-4ade-8a81-5a6c7d24a130",
   "metadata": {},
   "source": [
    "##### $N$ = number of elements\n",
    "##### $\\overline{X}$ = Mean of X\n",
    "##### $\\overline{Y}$ = Mean of Y\n",
    "\n",
    "##### Sum of squares Definition formula (ss)\n",
    "$SS_{x} = \\sum(X - \\overline{X})^2$\n",
    "\n",
    "$SS_{y} = \\sum(Y - \\overline{Y})^2$\n",
    "\n",
    "##### SUM OF PRODUCTS (DEFINITION AND COMPUTATION FORMULAS)\n",
    "\n",
    "$ {SP}_{xy} = \\sum(X - \\overline{X})(Y - \\overline{Y}) $\n",
    "\n",
    "##### Sum of squares Computation formula (ss)\n",
    "${SP}_{xy} = \\Sigma{XY} - \\frac{(\\Sigma{X})(\\Sigma{Y})}{n}$\n",
    "\n",
    "$SS_{x} = \\sum{X^2} - {\\dfrac{(\\sum{X})^2}{n}}$\n",
    "\n",
    "$SS_{y} = \\sum{Y^2} - {\\dfrac{(\\sum{Y})^2}{n}}$\n",
    "\n",
    "$ r = \\frac{SP_{xy}}{\\sqrt{SS_xSS_y}}$\n",
    "\n",
    "$b = r\\sqrt{\\dfrac{SS_y}{SS_x}}$\n",
    "\n",
    "$a = \\overline{Y} - b\\overline{X}$\n",
    "\n",
    "##### LEAST SQUARES REGRESSION EQUATION\n",
    "$Y' = b\\overline{X} + a$\n",
    "\n",
    "##### Variance\n",
    "$\\sigma^2 = \\frac{SS}{N}$\n",
    "\n",
    "##### Standarad Deviation\n",
    "$\\sigma = \\sqrt{\\frac{SS}{N}}$\n",
    "\n",
    "##### Variance for Sample\n",
    "$\\sigma^2 = \\frac{SS}{N - 1}$\n",
    "\n",
    "##### Standarad Deviation for Sample\n",
    "$\\sigma = \\sqrt{\\frac{SS}{N - 1}}$\n",
    "\n",
    "##### ${r}^2$ INTERPRETATION\n",
    "##### Formula 7.6 \n",
    "${r}^2 = \\dfrac{SS_{Y'}}{SS_{Y}} = {\\dfrac{ SS_{Y} - SS_{Y|X} }{SS_{Y}}}$\n",
    "##### To actually calculate the value of r, never use Formula 7.6, designed only as an aid to understanding the interpretation of r2. Instead, always use the vastly more efficient formulas on page 117.\n",
    "\n",
    "$ {SS_{y'}} = \\sum(Y' - \\overline{Y})^2 $"
   ]
  },
  {
   "cell_type": "code",
   "execution_count": 1,
   "id": "c9fef5b9-f914-4260-b8af-a5fec31110b7",
   "metadata": {
    "scrolled": true
   },
   "outputs": [
    {
     "name": "stdout",
     "output_type": "stream",
     "text": [
      "[6, 2, 0, -2, -6]\n",
      "[2, 6, 0, -2, -6]\n",
      "mean_x = 7\n",
      "mean_y = 12\n",
      "spxy = 64.0\n",
      "ssx = 80.0\n",
      "ssy = 80.0\n",
      "r = 0.8\n",
      "sqx = [169, 81, 49, 25, 1]\n",
      "sqy = [196, 324, 144, 100, 36]\n"
     ]
    }
   ],
   "source": [
    "import math\n",
    "import statistics\n",
    "X = [13,9,7,5,1]\n",
    "Y = [14,18,12,10,6]\n",
    "friend = ['Doris','Steve','Mike','Andrea','John']\n",
    "\n",
    "n = len(X)\n",
    "sqx = [x**2 for x in X]\n",
    "sqy = [y**2 for y in Y]\n",
    "xy = [X[n]*Y[n] for n in range(0, len(X))]\n",
    "sumx = sum(X)\n",
    "sumy = sum(Y)\n",
    "sumxy = sum(xy)\n",
    "sum_sqx = sum(sqx)\n",
    "sum_sqy = sum(sqy)\n",
    "spxy = sumxy - (sumx*sumy)/n\n",
    "ssx = sum_sqx - sumx**2/n\n",
    "ssy = sum_sqy - sumy**2/n\n",
    "r = spxy/math.sqrt(ssx*ssy)\n",
    "mean_x = statistics.mean(X)\n",
    "mean_y = statistics.mean(Y)\n",
    "var_x = [(x-mean_x) for x in X]\n",
    "var_y = [(y-mean_y) for y in Y]\n",
    "\n",
    "print(var_x)\n",
    "print(var_y)\n",
    "print(f'mean_x = {mean_x}\\nmean_y = {mean_y}')\n",
    "print(f'spxy = {spxy}\\nssx = {ssx}\\nssy = {ssy}\\nr = {r}')\n",
    "print(f'sqx = {sqx}\\nsqy = {sqy}')"
   ]
  },
  {
   "cell_type": "code",
   "execution_count": 2,
   "id": "ecca9e2b-b994-4d50-ab55-849fd180618a",
   "metadata": {},
   "outputs": [
    {
     "name": "stdout",
     "output_type": "stream",
     "text": [
      "6.3999999999999995 0.8\n"
     ]
    }
   ],
   "source": [
    "b = r*(math.sqrt(ssx/ssy))\n",
    "# Taking [7,12] from the list, as Xbar and Ybar\n",
    "a = 12 - (b*7)\n",
    "# a = 6 - (b*1)\n",
    "print(a,b)\n",
    "# Y_prime = b*X + a\n",
    "# Y_prime = (0.8)X + 6.3999999999999995"
   ]
  },
  {
   "cell_type": "markdown",
   "id": "30569fe7-a2d0-40cc-b3e3-4ee767aebd8b",
   "metadata": {},
   "source": [
    "### Progress Check"
   ]
  },
  {
   "cell_type": "code",
   "execution_count": 3,
   "id": "6aac3cb1-3ae9-4a57-b54b-afd0569bc45f",
   "metadata": {},
   "outputs": [],
   "source": [
    "# EDUCATIONAL LEVEL (X)\n",
    "# X = 13\n",
    "# SSx = 25\n",
    "# WEEKLY READING TIME (Y)\n",
    "# Y = 8\n",
    "# SSy = 50\n",
    "# r = .30"
   ]
  },
  {
   "cell_type": "code",
   "execution_count": 4,
   "id": "1cd1eb74-54ee-49e8-b45f-b5ef6c1279bd",
   "metadata": {
    "scrolled": true
   },
   "outputs": [
    {
     "name": "stdout",
     "output_type": "stream",
     "text": [
      "2.4845671067449295 0.4242640687119285\n"
     ]
    }
   ],
   "source": [
    "X = 13\n",
    "Y = 8\n",
    "b = 0.3*(math.sqrt(50/25))\n",
    "a = Y - (b*X)\n",
    "print(a,b)"
   ]
  },
  {
   "cell_type": "code",
   "execution_count": 5,
   "id": "b870cb83-dbcc-4ab5-8c30-c14596608235",
   "metadata": {
    "scrolled": true
   },
   "outputs": [
    {
     "name": "stdout",
     "output_type": "stream",
     "text": [
      "8.848528137423857\n",
      "7.151471862576143\n"
     ]
    }
   ],
   "source": [
    "# (a) Determine the least squares equation for predicting weekly reading time from educational level.\n",
    "# Answer:\n",
    "# Y' = 0.4242640687119285(X) + 2.4845671067449295\n",
    "\n",
    "# (b) Faith’s education level is 15. What is her predicted reading time?\n",
    "# Answer:\n",
    "Y_prime1 = 0.4242640687119285*15 + 2.4845671067449295\n",
    "print(Y_prime1)\n",
    "\n",
    "# (c) Keegan’s educational level is 11. What is his predicted reading time?\n",
    "# Answer:\n",
    "Y_prime2 = 0.4242640687119285*11 + 2.4845671067449295\n",
    "print(Y_prime2)"
   ]
  },
  {
   "cell_type": "markdown",
   "id": "fbd31559-b58c-482c-bd51-651eac723bcc",
   "metadata": {},
   "source": [
    "##### Table 7.2\n",
    "PREDICTED CARD\n",
    "RETURNS (Y ′) FOR\n",
    "DIFFERENT CARD\n",
    "INVESTMENTS (X )\n",
    "\n",
    "##### $N$ = number of elements\n",
    "##### $\\overline{X}$ = Mean of X\n",
    "##### $\\overline{Y}$ = Mean of Y\n",
    "\n",
    "##### Sum of squares Definition formula (ss)\n",
    "$SS = \\sum(X - \\overline{X})^2$\n",
    "\n",
    "##### Sum of squares Computation formula (ss)\n",
    "${SP}_{xy} = \\Sigma{XY} - \\frac{(\\Sigma{X})(\\Sigma{Y})}{n}$\n",
    "\n",
    "$SS_{x} = \\sum{X^2} - {\\dfrac{(\\sum{X})^2}{n}}$\n",
    "\n",
    "$SS_{y} = \\sum{Y^2} - {\\dfrac{(\\sum{Y})^2}{n}}$\n",
    "\n",
    "$SS_{y} = \\sum(Y - \\overline{Y}) = \\sum{Y^2} - {\\dfrac{(\\sum{Y})^2}{n}}$\n",
    "\n",
    "$ r = \\frac{SP_{xy}}{\\sqrt{SS_xSS_y}}$\n",
    "\n",
    "$b = r\\sqrt{\\dfrac{SS_y}{SS_x}}$\n",
    "\n",
    "$a = \\overline{Y} - b\\overline{X}$\n",
    "\n",
    "##### LEAST SQUARES REGRESSION EQUATION\n",
    "$Y' = b\\overline{X} + a$\n",
    "\n",
    "##### Variance\n",
    "$\\sigma^2 = \\frac{SS}{N}$\n",
    "\n",
    "##### Standarad Deviation\n",
    "$\\sigma = \\sqrt{\\frac{SS}{N}}$\n",
    "\n",
    "##### Variance for Sample\n",
    "$\\sigma^2 = \\frac{SS}{N - 1}$\n",
    "\n",
    "##### Standarad Deviation for Sample\n",
    "$\\sigma = \\sqrt{\\frac{SS}{N - 1}}$\n",
    "\n",
    "$Y' = .80(X) + 6.40$\n",
    "  \n",
    "$  = .80(1) + 6.40$\n",
    "  \n",
    "$  =  7.20 $\n",
    "\n",
    "X = [13,9,7,5,1]\n",
    "\n",
    "Y = [14,18,12,10,6]\n",
    "##### Based on the mean of Y = 12; (x - 12)\n",
    "$SS_y = (-6)^2 + (-2)^2 + 0^2 + 6^2 + 2^2 = 80$\n",
    "##### Based on the regression line or the slope\n",
    "$SS_{y|x} = (-1.2)^2 + (-0.4)^2 + (0)^2 +(4.4)^2 + (-2.8)^2 = 28.8$\n",
    "\n",
    "##### Computation Breakdown\n",
    "\n",
    "r = 64/(sqrt(80*80))\n",
    "\n",
    "r = 0.8\n",
    "\n",
    "mean_x = 7\n",
    "\n",
    "mean_y = 12\n",
    "\n",
    "a = Ybar - bXbar\n",
    "\n",
    "a = 12 - (0.8*7) = 6.4\n",
    "\n",
    "b = 0.8*(sqrt(80/80))\n",
    "\n",
    "b = 0.8\n",
    "\n",
    "Y' = bXbar + a\n",
    "\n",
    "(1,6)\n",
    "Y' = (0.8*1) + 6.4 = 7.2\n",
    "\n",
    "6 - 7.2 = −1.2\n",
    "\n",
    "(5,10)\n",
    "Y' = (0.8*5) + 6.4 = 10.4\n",
    "\n",
    "10 - 10.4 = −0.4\n",
    "\n",
    "(7,12)\n",
    "Y' = (0.8*7) + 6.4 = 12\n",
    "\n",
    "12 - 12 = 0\n",
    "\n",
    "(9,18)\n",
    "Y' = (0.8*9) + 6.4 = 13.6\n",
    "\n",
    "18 - 13.6 = 4.4\n",
    "\n",
    "(13,14)\n",
    "Y' = (0.8*13) + 6.4 = 16.8\n",
    "\n",
    "14 - 16.8 = −2.8\n",
    "\n",
    "##### percent accuracy $= {r}^2$"
   ]
  },
  {
   "cell_type": "markdown",
   "id": "bb8bb93e-bcfd-48b8-b325-9db347d379b7",
   "metadata": {},
   "source": [
    "### Sum of Squares"
   ]
  },
  {
   "cell_type": "code",
   "execution_count": 6,
   "id": "a65fa3cc-02a8-4265-8c93-6f4239519f2c",
   "metadata": {
    "scrolled": true
   },
   "outputs": [
    {
     "name": "stdout",
     "output_type": "stream",
     "text": [
      "spxy = 64.0\n",
      "sqx = [169, 81, 49, 25, 1]\n",
      "sqy = [196, 324, 144, 100, 36]\n",
      "xy = [182, 162, 84, 50, 6]\n",
      "sum_sqx = 325\n",
      "sum_sqy = 800\n",
      "sumx = 35\n",
      "sumy = 60\n",
      "sumxy = 484\n",
      "mean_x = 7\n",
      "mean_y = 12\n",
      "ssx = 80.0\n",
      "ssy = 80.0\n",
      "r = 0.8\n",
      "b = 0.8\n",
      "a = 6.3999999999999995\n",
      "Y_prime_squared = [7.840000000000004, 19.360000000000003, 0.0, 0.15999999999999887, 1.4399999999999984]\n",
      "28.800000000000004\n",
      "percent_accuracy = 63.99999999999999\n"
     ]
    }
   ],
   "source": [
    "import statistics\n",
    "import math\n",
    "\n",
    "friend = ['Doris','Steve','Mike','Andrea','John']\n",
    "X = [13,9,7,5,1]\n",
    "Y = [14,18,12,10,6]\n",
    "\n",
    "n = len(X)\n",
    "sqx = [x**2 for x in X]\n",
    "sqy = [y**2 for y in Y]\n",
    "xy = [X[n]*Y[n] for n in range(0, len(X))]\n",
    "sumx = sum(X)\n",
    "sumy = sum(Y)\n",
    "sumxy = sum(xy)\n",
    "sum_sqx = sum(sqx)\n",
    "sum_sqy = sum(sqy)\n",
    "spxy = sumxy - (sumx*sumy)/n\n",
    "ssx = sum_sqx - sumx**2/n\n",
    "ssy = sum_sqy - sumy**2/n\n",
    "r = spxy/math.sqrt(ssx*ssy)\n",
    "b = r*math.sqrt(ssy/ssx)\n",
    "mean_x = statistics.mean(X)\n",
    "mean_y = statistics.mean(Y)\n",
    "a = mean_y - (b*mean_x)\n",
    "\n",
    "print(f'spxy = {spxy}\\nsqx = {sqx}\\nsqy = {sqy}\\nxy = {xy}')\n",
    "print(f'sum_sqx = {sum_sqx}\\nsum_sqy = {sum_sqy}')\n",
    "print(f'sumx = {sumx}\\nsumy = {sumy}\\nsumxy = {sumxy}')\n",
    "print(f'mean_x = {mean_x}\\nmean_y = {mean_y}\\nssx = {ssx}\\nssy = {ssy}\\nr = {r}\\nb = {b}\\na = {a}')\n",
    "\n",
    "Y_prime = [Y[n]-((b*X[n])+a) for n in range(0, len(X))]\n",
    "Y_prime_squared = [y**2 for y in Y_prime]\n",
    "sum_of_squares = sum(Y_prime_squared)\n",
    "print(f'Y_prime_squared = {Y_prime_squared}')\n",
    "print(sum_of_squares)\n",
    "\n",
    "sum_of_squares_based_on_mean = sum([(y - mean_y)**2 for y in Y])\n",
    "sum_of_squares_based_on_mean\n",
    "\n",
    "percent_accuracy = (sum_of_squares_based_on_mean - sum_of_squares)/sum_of_squares_based_on_mean\n",
    "print(f'percent_accuracy = {percent_accuracy*100}')"
   ]
  },
  {
   "cell_type": "markdown",
   "id": "7454decd-aa77-4daf-bcc1-c8f7acd54184",
   "metadata": {},
   "source": [
    "### Progress Check *7.4 "
   ]
  },
  {
   "cell_type": "code",
   "execution_count": 7,
   "id": "f1522c29-1240-406c-acc5-425789173868",
   "metadata": {},
   "outputs": [
    {
     "name": "stdout",
     "output_type": "stream",
     "text": [
      "9.0\n",
      "91.0\n"
     ]
    }
   ],
   "source": [
    "# Assume that an r of .30 describes the relationship between educational level and estimated hours spent reading each week.\n",
    "r = 0.30\n",
    "\n",
    "# (a) According to r squared, what percent of the variability in weekly reading time is predictable from its relationship with educational \n",
    "# level?\n",
    "# Answer:\n",
    "r_squared = r**2\n",
    "print(r_squared*100)\n",
    "\n",
    "# (b) What percent of variability in weekly reading time is not predictable from this relationship?\n",
    "# Answer:\n",
    "print(100 - (r_squared*100))\n",
    "\n",
    "# (c) Someone claims that 9 percent of each person’s estimated reading time is predictable from the relationship. \n",
    "# What is wrong with this claim?"
   ]
  },
  {
   "cell_type": "markdown",
   "id": "a64351fc-7dcb-4e48-9462-8e12112e8a11",
   "metadata": {},
   "source": [
    "##### Standard Error of Estimate ($S_{y|x}$) = A rough measure of the average amount of predictive error.\n",
    "\n",
    "##### You might find it helpful to think of the standard error of estimate, ($S_{y|x}$), as a rough measure of the average amount of predictive error—that is, as a rough measure of the average amount by which known Y values deviate from their predicted Y' values.\n",
    "\n",
    "##### STANDARD ERROR OF ESTIMATE (DEFINITION FORMULA)\n",
    "\n",
    "$ S_{y|x} = \\sqrt{\\dfrac{SS_{y|x}}{n-2}} = \\sqrt{\\dfrac{\\Sigma(Y - Y')^2}{n-2}} $\n",
    "\n",
    "##### STANDARD ERROR OF ESTIMATE (COMPUTATION FORMULA)\n",
    "\n",
    "$ S_{y|x} = \\sqrt{\\dfrac{{SS_{y}(1 - {r}^2)}}{n-2}} $\n",
    "\n",
    "##### Where:\n",
    "\n",
    "$SS_{y} = \\sum(Y - \\overline{Y}) = \\sum{Y^2} - {\\dfrac{(\\sum{Y})^2}{n}}$"
   ]
  },
  {
   "cell_type": "markdown",
   "id": "ea85fd43-156c-4ba2-9f05-23ffb0eb6b1c",
   "metadata": {},
   "source": [
    "$\n",
    "7.7 Assume that an r of –.80 describes the strong negative relationship between years of heavy smoking (X) and life expectancy (Y ). Assume, furthermore, that the distributions\n",
    "of heavy smoking and life expectancy each have the following means and sums of squares:\n",
    "\n",
    "${\\overline{X}}$ = 5; \n",
    "\n",
    "${SS_{x}}$ = 35; \n",
    "\n",
    "${\\overline{Y}}$ = 60; \n",
    "\n",
    "${SS_{y}}$ = 70\n",
    "\n",
    "$r$ = -0.8\n",
    "\n",
    "(a) Determine the least squares regression equation for predicting life expectancy from years of heavy smoking.\n",
    "\n",
    "(b) Determine the standard error of estimate, $S_{y|x}$, assuming that the correlation of –.80 was based on n = 50 pairs of observations.\n",
    "\n",
    "(c) Supply a rough interpretation of $S_{y|x}$.\n",
    "\n",
    "(d) Predict the life expectancy for John , who has smoked heavily for 8 years.\n",
    "\n",
    "(e) Predict the life expectancy for Katie, who has never smoked heavily.\n",
    "\n",
    "$ r = \\frac{SP_{xy}}{\\sqrt{SS_xSS_y}}$\n",
    "\n",
    "$b = r\\sqrt{\\dfrac{SS_y}{SS_x}}$\n",
    "\n",
    "$a = \\overline{Y} - b\\overline{X}$\n",
    "\n",
    "##### LEAST SQUARES REGRESSION EQUATION\n",
    "$Y' = b\\overline{X} + a$"
   ]
  },
  {
   "cell_type": "code",
   "execution_count": 16,
   "id": "33ab9b47-4d61-4e89-82da-24c5ea0c6df1",
   "metadata": {},
   "outputs": [
    {
     "name": "stdout",
     "output_type": "stream",
     "text": [
      "-1.1313708498984762 65.65685424949238\n",
      "Y' = (-1.1313708498984762*X) + 65.65685424949238\n"
     ]
    }
   ],
   "source": [
    "# Answer to 7.7\n",
    "import math\n",
    "# a)\n",
    "mean_X = 5\n",
    "mean_Y = 60\n",
    "r = -0.8\n",
    "ssx = 35\n",
    "ssy = 70\n",
    "b = r*(math.sqrt(ssy/ssx))\n",
    "a = mean_Y - (b*mean_X)\n",
    "print(b, a)\n",
    "print(f\"Y' = ({b}*X) + {a}\")"
   ]
  }
 ],
 "metadata": {
  "kernelspec": {
   "display_name": "Python 3 (ipykernel)",
   "language": "python",
   "name": "python3"
  },
  "language_info": {
   "codemirror_mode": {
    "name": "ipython",
    "version": 3
   },
   "file_extension": ".py",
   "mimetype": "text/x-python",
   "name": "python",
   "nbconvert_exporter": "python",
   "pygments_lexer": "ipython3",
   "version": "3.10.12"
  }
 },
 "nbformat": 4,
 "nbformat_minor": 5
}
