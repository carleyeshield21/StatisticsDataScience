{
 "cells": [
  {
   "cell_type": "code",
   "execution_count": 3,
   "id": "c9fef5b9-f914-4260-b8af-a5fec31110b7",
   "metadata": {
    "scrolled": true
   },
   "outputs": [
    {
     "name": "stdout",
     "output_type": "stream",
     "text": [
      "35 60 484 325 800\n",
      "64.0 80.0 80.0 0.8\n"
     ]
    }
   ],
   "source": [
    "import math\n",
    "X = [13,9,7,5,1]\n",
    "Y = [14,18,12,10,6]\n",
    "\n",
    "n = len(X)\n",
    "sqx = [x**2 for x in X]\n",
    "sqy = [y**2 for y in Y]\n",
    "xy = [X[n]*Y[n] for n in range(0, len(X))]\n",
    "sumx = sum(X)\n",
    "sumy = sum(Y)\n",
    "sumxy = sum(xy)\n",
    "sum_sqx = sum(sqx)\n",
    "sum_sqy = sum(sqy)\n",
    "spxy = sumxy - (sumx*sumy)/n\n",
    "ssx = sum_sqx - sumx**2/n\n",
    "ssy = sum_sqy - sumy**2/n\n",
    "r = spxy/math.sqrt(ssx*ssy)\n",
    "\n",
    "print(sumx,sumy,sumxy,sum_sqx,sum_sqy)\n",
    "print(spxy,ssx,ssy,r)"
   ]
  },
  {
   "cell_type": "markdown",
   "id": "7c2d6fb9-9ec1-4ade-8a81-5a6c7d24a130",
   "metadata": {},
   "source": [
    "### Least Squares Regression Equation\n",
    "\n",
    "$b = r\\sqrt{\\dfrac{SSy}{SSx}}$\n",
    "\n",
    "$a = \\overline{Y} - b\\overline{X}$\n",
    "\n",
    "$Y' = b\\overline{X} + a$"
   ]
  },
  {
   "cell_type": "code",
   "execution_count": 12,
   "id": "ecca9e2b-b994-4d50-ab55-849fd180618a",
   "metadata": {},
   "outputs": [
    {
     "name": "stdout",
     "output_type": "stream",
     "text": [
      "6.3999999999999995 0.8\n"
     ]
    }
   ],
   "source": [
    "b = r*(math.sqrt(ssx/ssy))\n",
    "# Taking [7,12] from the list, as Xbar and Ybar\n",
    "a = 12 - (b*7)\n",
    "print(a,b)\n",
    "# Y_prime = b*X + a\n",
    "# Y_prime = (0.8)X + 6.3999999999999995"
   ]
  },
  {
   "cell_type": "markdown",
   "id": "30569fe7-a2d0-40cc-b3e3-4ee767aebd8b",
   "metadata": {},
   "source": [
    "### Progress Check"
   ]
  },
  {
   "cell_type": "code",
   "execution_count": 13,
   "id": "6aac3cb1-3ae9-4a57-b54b-afd0569bc45f",
   "metadata": {},
   "outputs": [],
   "source": [
    "# EDUCATIONAL LEVEL (X)\n",
    "# X = 13\n",
    "# SSx = 25\n",
    "# WEEKLY READING TIME (Y)\n",
    "# Y = 8\n",
    "# SSy = 50\n",
    "# r = .30"
   ]
  },
  {
   "cell_type": "code",
   "execution_count": 20,
   "id": "1cd1eb74-54ee-49e8-b45f-b5ef6c1279bd",
   "metadata": {
    "scrolled": true
   },
   "outputs": [
    {
     "name": "stdout",
     "output_type": "stream",
     "text": [
      "2.4845671067449295 0.4242640687119285\n"
     ]
    }
   ],
   "source": [
    "X = 13\n",
    "Y = 8\n",
    "b = 0.3*(math.sqrt(50/25))\n",
    "a = Y - (b*X)\n",
    "print(a,b)"
   ]
  },
  {
   "cell_type": "code",
   "execution_count": 21,
   "id": "b870cb83-dbcc-4ab5-8c30-c14596608235",
   "metadata": {},
   "outputs": [
    {
     "name": "stderr",
     "output_type": "stream",
     "text": [
      "<>:7: SyntaxWarning: 'float' object is not callable; perhaps you missed a comma?\n",
      "<>:7: SyntaxWarning: 'float' object is not callable; perhaps you missed a comma?\n",
      "/tmp/ipykernel_17100/3950831820.py:7: SyntaxWarning: 'float' object is not callable; perhaps you missed a comma?\n",
      "  Y_prime1 = 0.4242640687119285(15) + 2.4845671067449295\n",
      "/tmp/ipykernel_17100/3950831820.py:7: SyntaxWarning: 'float' object is not callable; perhaps you missed a comma?\n",
      "  Y_prime1 = 0.4242640687119285(15) + 2.4845671067449295\n",
      "/tmp/ipykernel_17100/3950831820.py:7: SyntaxWarning: 'float' object is not callable; perhaps you missed a comma?\n",
      "  Y_prime1 = 0.4242640687119285(15) + 2.4845671067449295\n"
     ]
    },
    {
     "ename": "TypeError",
     "evalue": "'float' object is not callable",
     "output_type": "error",
     "traceback": [
      "\u001b[0;31m---------------------------------------------------------------------------\u001b[0m",
      "\u001b[0;31mTypeError\u001b[0m                                 Traceback (most recent call last)",
      "Cell \u001b[0;32mIn[21], line 7\u001b[0m\n\u001b[1;32m      1\u001b[0m \u001b[38;5;66;03m# (a) Determine the least squares equation for predicting weekly reading time from educational level.\u001b[39;00m\n\u001b[1;32m      2\u001b[0m \u001b[38;5;66;03m# Answer:\u001b[39;00m\n\u001b[1;32m      3\u001b[0m \u001b[38;5;66;03m# Y' = 0.4242640687119285(X) + 2.4845671067449295\u001b[39;00m\n\u001b[1;32m      4\u001b[0m \n\u001b[1;32m      5\u001b[0m \u001b[38;5;66;03m# (b) Faith’s education level is 15. What is her predicted reading time?\u001b[39;00m\n\u001b[1;32m      6\u001b[0m \u001b[38;5;66;03m# Answer:\u001b[39;00m\n\u001b[0;32m----> 7\u001b[0m Y_prime1 \u001b[38;5;241m=\u001b[39m \u001b[38;5;241;43m0.4242640687119285\u001b[39;49m\u001b[43m(\u001b[49m\u001b[38;5;241;43m15\u001b[39;49m\u001b[43m)\u001b[49m \u001b[38;5;241m+\u001b[39m \u001b[38;5;241m2.4845671067449295\u001b[39m\n\u001b[1;32m      8\u001b[0m \u001b[38;5;28mprint\u001b[39m(Y_prime1)\n\u001b[1;32m      9\u001b[0m \u001b[38;5;66;03m# (c) Keegan’s educational level is 11. What is his predicted reading time?\u001b[39;00m\n",
      "\u001b[0;31mTypeError\u001b[0m: 'float' object is not callable"
     ]
    }
   ],
   "source": [
    "# (a) Determine the least squares equation for predicting weekly reading time from educational level.\n",
    "# Answer:\n",
    "# Y' = 0.4242640687119285(X) + 2.4845671067449295\n",
    "\n",
    "# (b) Faith’s education level is 15. What is her predicted reading time?\n",
    "# Answer:\n",
    "Y_prime1 = 0.4242640687119285(15 + 2.4845671067449295\n",
    "print(Y_prime1)\n",
    "# (c) Keegan’s educational level is 11. What is his predicted reading time?"
   ]
  }
 ],
 "metadata": {
  "kernelspec": {
   "display_name": "Python 3 (ipykernel)",
   "language": "python",
   "name": "python3"
  },
  "language_info": {
   "codemirror_mode": {
    "name": "ipython",
    "version": 3
   },
   "file_extension": ".py",
   "mimetype": "text/x-python",
   "name": "python",
   "nbconvert_exporter": "python",
   "pygments_lexer": "ipython3",
   "version": "3.10.12"
  }
 },
 "nbformat": 4,
 "nbformat_minor": 5
}
