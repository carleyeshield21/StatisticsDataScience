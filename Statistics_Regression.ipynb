{
 "cells": [
  {
   "cell_type": "code",
   "execution_count": 3,
   "id": "c9fef5b9-f914-4260-b8af-a5fec31110b7",
   "metadata": {
    "scrolled": true
   },
   "outputs": [
    {
     "name": "stdout",
     "output_type": "stream",
     "text": [
      "35 60 484 325 800\n",
      "64.0 80.0 80.0 0.8\n"
     ]
    }
   ],
   "source": [
    "import math\n",
    "X = [13,9,7,5,1]\n",
    "Y = [14,18,12,10,6]\n",
    "\n",
    "n = len(X)\n",
    "sqx = [x**2 for x in X]\n",
    "sqy = [y**2 for y in Y]\n",
    "xy = [X[n]*Y[n] for n in range(0, len(X))]\n",
    "sumx = sum(X)\n",
    "sumy = sum(Y)\n",
    "sumxy = sum(xy)\n",
    "sum_sqx = sum(sqx)\n",
    "sum_sqy = sum(sqy)\n",
    "spxy = sumxy - (sumx*sumy)/n\n",
    "ssx = sum_sqx - sumx**2/n\n",
    "ssy = sum_sqy - sumy**2/n\n",
    "r = spxy/math.sqrt(ssx*ssy)\n",
    "\n",
    "print(sumx,sumy,sumxy,sum_sqx,sum_sqy)\n",
    "print(spxy,ssx,ssy,r)"
   ]
  },
  {
   "cell_type": "markdown",
   "id": "7c2d6fb9-9ec1-4ade-8a81-5a6c7d24a130",
   "metadata": {},
   "source": [
    "### Least Squares Regression Equation\n",
    "\n",
    "$b = r\\sqrt{\\dfrac{SSy}{SSx}}$\n",
    "\n",
    "$a = \\overline{Y} - b\\overline{X}$\n",
    "\n",
    "$Y' = b\\overline{X} + a$"
   ]
  },
  {
   "cell_type": "code",
   "execution_count": 10,
   "id": "ecca9e2b-b994-4d50-ab55-849fd180618a",
   "metadata": {},
   "outputs": [
    {
     "ename": "TypeError",
     "evalue": "can't multiply sequence by non-int of type 'float'",
     "output_type": "error",
     "traceback": [
      "\u001b[0;31m---------------------------------------------------------------------------\u001b[0m",
      "\u001b[0;31mTypeError\u001b[0m                                 Traceback (most recent call last)",
      "Cell \u001b[0;32mIn[10], line 4\u001b[0m\n\u001b[1;32m      2\u001b[0m \u001b[38;5;66;03m# Taking [7,12] from the list, as Xbar and Ybar\u001b[39;00m\n\u001b[1;32m      3\u001b[0m a \u001b[38;5;241m=\u001b[39m \u001b[38;5;241m12\u001b[39m \u001b[38;5;241m-\u001b[39m (b\u001b[38;5;241m*\u001b[39m\u001b[38;5;241m7\u001b[39m)\n\u001b[0;32m----> 4\u001b[0m Y_prime \u001b[38;5;241m=\u001b[39m \u001b[43mb\u001b[49m\u001b[38;5;241;43m*\u001b[39;49m\u001b[43mX\u001b[49m \u001b[38;5;241m+\u001b[39m a\n",
      "\u001b[0;31mTypeError\u001b[0m: can't multiply sequence by non-int of type 'float'"
     ]
    }
   ],
   "source": [
    "b = r*(math.sqrt(ssx/ssy))\n",
    "# Taking [7,12] from the list, as Xbar and Ybar\n",
    "a = 12 - (b*7)\n",
    "Y_prime = b*X + a"
   ]
  }
 ],
 "metadata": {
  "kernelspec": {
   "display_name": "Python 3 (ipykernel)",
   "language": "python",
   "name": "python3"
  },
  "language_info": {
   "codemirror_mode": {
    "name": "ipython",
    "version": 3
   },
   "file_extension": ".py",
   "mimetype": "text/x-python",
   "name": "python",
   "nbconvert_exporter": "python",
   "pygments_lexer": "ipython3",
   "version": "3.10.12"
  }
 },
 "nbformat": 4,
 "nbformat_minor": 5
}
