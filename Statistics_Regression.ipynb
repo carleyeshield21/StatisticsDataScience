{
 "cells": [
  {
   "cell_type": "code",
   "execution_count": 3,
   "id": "c9fef5b9-f914-4260-b8af-a5fec31110b7",
   "metadata": {
    "scrolled": true
   },
   "outputs": [
    {
     "name": "stdout",
     "output_type": "stream",
     "text": [
      "35 60 484 325 800\n",
      "64.0 80.0 80.0 0.8\n"
     ]
    }
   ],
   "source": [
    "import math\n",
    "X = [13,9,7,5,1]\n",
    "Y = [14,18,12,10,6]\n",
    "\n",
    "n = len(X)\n",
    "sqx = [x**2 for x in X]\n",
    "sqy = [y**2 for y in Y]\n",
    "xy = [X[n]*Y[n] for n in range(0, len(X))]\n",
    "sumx = sum(X)\n",
    "sumy = sum(Y)\n",
    "sumxy = sum(xy)\n",
    "sum_sqx = sum(sqx)\n",
    "sum_sqy = sum(sqy)\n",
    "spxy = sumxy - (sumx*sumy)/n\n",
    "ssx = sum_sqx - sumx**2/n\n",
    "ssy = sum_sqy - sumy**2/n\n",
    "r = spxy/math.sqrt(ssx*ssy)\n",
    "\n",
    "print(sumx,sumy,sumxy,sum_sqx,sum_sqy)\n",
    "print(spxy,ssx,ssy,r)"
   ]
  },
  {
   "cell_type": "markdown",
   "id": "7c2d6fb9-9ec1-4ade-8a81-5a6c7d24a130",
   "metadata": {},
   "source": [
    "### Least Squares Regression Equation\n",
    "\n",
    "$b = r\\sqrt{SSy/SSx}$\n",
    "\n",
    "$a = \\overline{Y} - b\\overline{X}$\n",
    "\n",
    "$Y' = b\\overline{X} + a$"
   ]
  }
 ],
 "metadata": {
  "kernelspec": {
   "display_name": "Python 3 (ipykernel)",
   "language": "python",
   "name": "python3"
  },
  "language_info": {
   "codemirror_mode": {
    "name": "ipython",
    "version": 3
   },
   "file_extension": ".py",
   "mimetype": "text/x-python",
   "name": "python",
   "nbconvert_exporter": "python",
   "pygments_lexer": "ipython3",
   "version": "3.10.12"
  }
 },
 "nbformat": 4,
 "nbformat_minor": 5
}
