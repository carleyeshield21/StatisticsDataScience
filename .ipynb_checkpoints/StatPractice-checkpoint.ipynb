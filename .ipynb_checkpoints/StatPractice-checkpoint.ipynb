{
 "cells": [
  {
   "cell_type": "code",
   "execution_count": 1,
   "id": "b6950f27-3ad1-4a1d-aae6-c492732b9bf4",
   "metadata": {},
   "outputs": [],
   "source": [
    "import matplotlib.pyplot as plt\n",
    "from collections import Counter"
   ]
  },
  {
   "cell_type": "code",
   "execution_count": 2,
   "id": "87d6a183-10f3-4b4b-8b39-65a84204ba50",
   "metadata": {},
   "outputs": [],
   "source": [
    "def create_frequency_distribution(data):\n",
    "    # Count the occurrences of each element in the data\n",
    "    counter = Counter(data)\n",
    "\n",
    "    # Extract data for plotting\n",
    "    values, counts = zip(*counter.items())\n",
    "     # Plot the frequency distribution\n",
    "    plt.bar(values, counts)\n",
    "    plt.xlabel('Values')\n",
    "    plt.ylabel('Frequency')\n",
    "    plt.title('Frequency Distribution')\n",
    "    plt.show()"
   ]
  },
  {
   "cell_type": "code",
   "execution_count": 3,
   "id": "f8aa337f-f9dc-42b3-b9f5-ef2f30de6578",
   "metadata": {},
   "outputs": [
    {
     "data": {
      "image/png": "[encoded data removed]",
      "text/plain": [
       "<Figure size 640x480 with 1 Axes>"
      ]
     },
     "metadata": {},
     "output_type": "display_data"
    }
   ],
   "source": [
    "\n",
    "if __name__ == \"__main__\":\n",
    "    # Example data (replace this with your own dataset)\n",
    "    # data = [1, 2, 2, 3, 3, 3, 4, 4, 4, 4, 5, 5, 5, 5, 5]\n",
    "    data = [69, 71, 75, 77, 79, 80, 80, 84, 85, 86, 87, 89, 90, 90, 90, 90, 91, 93, 94, 95, 95, 96, 98, 98, 99, 100, 100, 103, 104, 105, 108, 109, 110, 112, 123]\n",
    "\n",
    "    # Create and display the frequency distribution\n",
    "    create_frequency_distribution(data)"
   ]
  },
  {
   "cell_type": "code",
   "execution_count": 4,
   "id": "49a11487-7c06-4852-a70f-2c2fcc04c101",
   "metadata": {},
   "outputs": [],
   "source": [
    "import statistics"
   ]
  },
  {
   "cell_type": "code",
   "execution_count": 5,
   "id": "0d603873-21cd-44b6-a582-020e0aa11ef3",
   "metadata": {},
   "outputs": [],
   "source": [
    "res = [1, 3, 4, 1, 0, 2, 5, 8, 0, 2, 3, 4, 7, 11, 0, 2, 3, 3]"
   ]
  },
  {
   "cell_type": "code",
   "execution_count": 6,
   "id": "d17c8ba6-ddaa-4d5a-b07c-e856daa178dd",
   "metadata": {},
   "outputs": [
    {
     "name": "stdout",
     "output_type": "stream",
     "text": [
      "3.2777777777777777\n",
      "3.0\n",
      "3\n"
     ]
    }
   ],
   "source": [
    "mean = statistics.mean(res)\n",
    "median = statistics.median(res)\n",
    "mode = statistics.mode(res)\n",
    "\n",
    "print(mean)\n",
    "print(median)\n",
    "print(mode)"
   ]
  },
  {
   "cell_type": "code",
   "execution_count": 8,
   "id": "a234c0b7-41ee-4452-8f7e-f5364fa5a1a7",
   "metadata": {},
   "outputs": [
    {
     "name": "stdout",
     "output_type": "stream",
     "text": [
      "7.8\n",
      "5\n",
      "5\n"
     ]
    }
   ],
   "source": [
    "swim = [2, 17, 5, 3, 28, 7, 5, 8, 5, 6, 2, 12, 10, 4, 3]\n",
    "mean = statistics.mean(swim)\n",
    "median = statistics.median(swim)\n",
    "mode = statistics.mode(swim)\n",
    "\n",
    "print(mean)\n",
    "print(median)\n",
    "print(mode)"
   ]
  }
 ],
 "metadata": {
  "kernelspec": {
   "display_name": "Python 3 (ipykernel)",
   "language": "python",
   "name": "python3"
  },
  "language_info": {
   "codemirror_mode": {
    "name": "ipython",
    "version": 3
   },
   "file_extension": ".py",
   "mimetype": "text/x-python",
   "name": "python",
   "nbconvert_exporter": "python",
   "pygments_lexer": "ipython3",
   "version": "3.10.12"
  }
 },
 "nbformat": 4,
 "nbformat_minor": 5
}
