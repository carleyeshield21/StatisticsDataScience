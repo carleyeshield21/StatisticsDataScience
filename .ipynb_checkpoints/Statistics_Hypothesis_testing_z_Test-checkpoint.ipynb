{
 "cells": [
  {
   "cell_type": "markdown",
   "id": "da2a7604-fdb3-4574-85b3-240d54346da5",
   "metadata": {},
   "source": [
    "##### Converting a Sample Mean to z\n",
    "\n",
    "$z$ = $\\dfrac{\\overline{X} - \\mu_{hyp}}{\\sigma_\\overline{X}}$\n",
    "\n",
    "z - indicates the deviation of the observed sample mean in standard error units, above or below the hypothesized population mean\n",
    "\n",
    " - mean\n",
    "\n",
    "$\\mu_{hyp}$ - hypothesized population mean\n",
    "\n",
    "##### Standard Error or Mean\n",
    "\n",
    "$\\sigma_\\overline{X}$ = $\\dfrac{\\sigma}{\\sqrt{n}}$\n",
    "\n",
    "$\\sigma_\\overline{X}$ - Standard Error or Mean\n",
    "\n",
    "$\\sigma$ - Standard Deviation\n",
    "\n",
    "$n$ - Sample Size"
   ]
  },
  {
   "cell_type": "markdown",
   "id": "db243b98-9364-4d9f-997f-6a89f9ebe755",
   "metadata": {},
   "source": [
    "##### Assumptions of z Test\n",
    "\n",
    "When a hypothesis test evaluates how far the observed sample mean deviates, in standard error units, from the hypothesized population mean, as in the present example, it is referred to as a z test or, more accurately, as a z test for a population mean. This z test is accurate only when \n",
    "\n",
    "(1) the population is normally distributed or the sample size is large enough to satisfy the requirements of the central limit theorem and\n",
    "\n",
    "(2) the population standard deviation is known. In the present example, the z test is appropriate because the sample size of 100 is large enough to satisfy the central limittheorem and the population standard deviation is known to be 110."
   ]
  },
  {
   "cell_type": "markdown",
   "id": "0bd45c6d-44e5-42a3-8c18-3a2863220575",
   "metadata": {},
   "source": [
    "##### Progress Check *10.1 Calculate the value of the z test for each of the following situations:\n",
    "(a) $\\overline{X}$ = 566; $\\sigma$ = 30; $n$ = 36; $\\mu_{hyp}$ = 560\n",
    "\n",
    "(b) $\\overline{X}$ = 24; $\\sigma$ = 4; $n$ = 64; $\\mu_{hyp}$ = 25\n",
    "\n",
    "(c) $\\overline{X}$ = 82; $\\sigma$ = 14; $n$ = 49; $\\mu_{hyp}$ = 75\n",
    "\n",
    "(d) $\\overline{X}$ = 136; $\\sigma$ = 15; $n$ = 25; $\\mu_{hyp}$ = 146\n",
    "\n",
    "$z$ = $\\dfrac{\\overline{X} - \\mu_{hyp}}{\\sigma_\\overline{X}}$\n",
    "\n",
    "But:\n",
    "\n",
    "$\\sigma_\\overline{X}$ = $\\dfrac{\\sigma}{\\sqrt{n}}$\n",
    "\n",
    "Substituting:\n",
    "\n",
    "$z$ = $\\dfrac{\\overline{X} - \\mu_{hyp}}{\\dfrac{\\sigma}{\\sqrt{n}}}$"
   ]
  },
  {
   "cell_type": "code",
   "execution_count": 42,
   "id": "2df616fd-fdb8-4416-a055-2f5746199d3c",
   "metadata": {
    "scrolled": true
   },
   "outputs": [
    {
     "name": "stdout",
     "output_type": "stream",
     "text": [
      "566\n",
      "4\n",
      "49\n",
      "146\n"
     ]
    }
   ],
   "source": [
    "import math\n",
    "\n",
    "# create a dictionary for the given\n",
    "dict = {\n",
    "    'mean':[566,24,82,136],\n",
    "    'std_dev':[30,4,14,15],\n",
    "    'n':[36,64,49,25],\n",
    "    'hyp_mean':[560,25,75,146],\n",
    "}\n",
    "\n",
    "# for key, value in dict.items():\n",
    "#     print(value[1])\n",
    "\n",
    "# for index, value in enumerate(dict.items()):\n",
    "#     print(value[1][index])\n",
    "\n",
    "# list = [value for key, value in dict.items()]\n",
    "# print(list)\n",
    "\n",
    "# n = 0\n",
    "# while n <= 3:\n",
    "#     for m in range(0,len(list)):\n",
    "#         # print(m,n)\n",
    "#         print(list[m][n])\n",
    "#     n+=1\n",
    "#     print('+++++')"
   ]
  }
 ],
 "metadata": {
  "kernelspec": {
   "display_name": "Python 3 (ipykernel)",
   "language": "python",
   "name": "python3"
  },
  "language_info": {
   "codemirror_mode": {
    "name": "ipython",
    "version": 3
   },
   "file_extension": ".py",
   "mimetype": "text/x-python",
   "name": "python",
   "nbconvert_exporter": "python",
   "pygments_lexer": "ipython3",
   "version": "3.10.12"
  }
 },
 "nbformat": 4,
 "nbformat_minor": 5
}
