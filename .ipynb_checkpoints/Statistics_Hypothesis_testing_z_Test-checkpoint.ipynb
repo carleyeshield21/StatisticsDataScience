{
 "cells": [
  {
   "cell_type": "markdown",
   "id": "da2a7604-fdb3-4574-85b3-240d54346da5",
   "metadata": {},
   "source": [
    "##### Converting a Sample Mean to z\n",
    "\n",
    "$z$ = $\\dfrac{\\overline{X} - \\mu_{hyp}}{\\sigma_\\overline{X}}$\n",
    "\n",
    "z - indicates the deviation of the observed sample mean in standard error units, above or below the hypothesized population mean\n",
    "\n",
    "$\\overline{X}$ - mean\n",
    "\n",
    "$\\mu_{hyp}$ - hypothesized population mean\n",
    "\n",
    "##### Standard Error or Mean\n",
    "\n",
    "$\\sigma_\\overline{X}$ = $\\dfrac{\\sigma}{\\sqrt{n}}$\n",
    "\n",
    "$\\sigma_\\overline{X}$ - Standard Error or Mean\n",
    "\n",
    "$\\sigma$ - Standard Deviation\n",
    "\n",
    "$n$ - Sample Size"
   ]
  },
  {
   "cell_type": "markdown",
   "id": "db243b98-9364-4d9f-997f-6a89f9ebe755",
   "metadata": {},
   "source": [
    "##### Assumptions of z Test\n",
    "\n",
    "When a hypothesis test evaluates how far the observed sample mean deviates, in standard error units, from the hypothesized population mean, as in the present example, it is referred to as a z test or, more accurately, as a z test for a population mean. This z test is accurate only when \n",
    "\n",
    "(1) the population is normally distributed or the sample size is large enough to satisfy the requirements of the central limit theorem and\n",
    "\n",
    "(2) the population standard deviation is known. In the present example, the z test is appropriate because the sample size of 100 is large enough to satisfy the central limittheorem and the population standard deviation is known to be 110."
   ]
  },
  {
   "cell_type": "markdown",
   "id": "0bd45c6d-44e5-42a3-8c18-3a2863220575",
   "metadata": {},
   "source": [
    "##### Progress Check *10.1 Calculate the value of the z test for each of the following situations:\n",
    "(a) $\\overline{X}$ = 566; $\\sigma$ = 30; $n$ = 36; $\\mu_{hyp}$ = 560\n",
    "\n",
    "(b) $\\overline{X}$ = 24; $\\sigma$ = 4; $n$ = 64; $\\mu_{hyp}$ = 25\n",
    "\n",
    "(c) $\\overline{X}$ = 82; $\\sigma$ = 14; $n$ = 49; $\\mu_{hyp}$ = 75\n",
    "\n",
    "(d) $\\overline{X}$ = 136; $\\sigma$ = 15; $n$ = 25; $\\mu_{hyp}$ = 146\n",
    "\n",
    "$z$ = $\\dfrac{\\overline{X} - \\mu_{hyp}}{\\sigma_\\overline{X}}$\n",
    "\n",
    "But:\n",
    "\n",
    "$\\sigma_\\overline{X}$ = $\\dfrac{\\sigma}{\\sqrt{n}}$\n",
    "\n",
    "Substituting:\n",
    "\n",
    "$z$ = $\\dfrac{\\overline{X} - \\mu_{hyp}}{\\dfrac{\\sigma}{\\sqrt{n}}}$"
   ]
  },
  {
   "cell_type": "code",
   "execution_count": 1,
   "id": "2df616fd-fdb8-4416-a055-2f5746199d3c",
   "metadata": {
    "scrolled": true
   },
   "outputs": [
    {
     "name": "stdout",
     "output_type": "stream",
     "text": [
      "1.2\n",
      "*****\n",
      "-2.0\n",
      "*****\n",
      "3.5\n",
      "*****\n",
      "-3.3333333333333335\n",
      "*****\n"
     ]
    }
   ],
   "source": [
    "import math\n",
    "\n",
    "# create a dictionary for the given\n",
    "dict = {\n",
    "    'mean':[566,24,82,136],\n",
    "    'std_dev':[30,4,14,15],\n",
    "    'n':[36,64,49,25],\n",
    "    'hyp_mean':[560,25,75,146],\n",
    "}\n",
    "\n",
    "transposed_data = list(map(list, zip(*dict.values())))\n",
    "\n",
    "# Output each row\n",
    "for row in transposed_data:\n",
    "    z = (row[0] - row[3])/(row[1]/math.sqrt(row[2]))\n",
    "    print(z)\n",
    "    print('*****')"
   ]
  },
  {
   "cell_type": "code",
   "execution_count": 2,
   "id": "67dc2404-b891-4edc-929e-5a92102d773f",
   "metadata": {
    "scrolled": true
   },
   "outputs": [
    {
     "name": "stdout",
     "output_type": "stream",
     "text": [
      "[[566, 30, 36, 560], [24, 4, 64, 25], [82, 14, 49, 75], [136, 15, 25, 146]]\n"
     ]
    }
   ],
   "source": [
    "dict = {\n",
    "    'mean': [566, 24, 82, 136],\n",
    "    'std_dev': [30, 4, 14, 15],\n",
    "    'n': [36, 64, 49, 25],\n",
    "    'hyp_mean': [560, 25, 75, 146],\n",
    "}\n",
    "\n",
    "result = [[dict[key][i] for key in dict] for i in range(len(dict['mean']))]\n",
    "\n",
    "print(result)"
   ]
  },
  {
   "cell_type": "markdown",
   "id": "0645bdda-02cf-44c4-b614-aabcc25689c4",
   "metadata": {},
   "source": [
    "Progress Check *10.5 According to the American Psychological Association, members with a doctorate and a full-time teaching \n",
    "appointment earn, on the average, 82,500 dollars per year, with a standard deviation of 6,000 dollars. An investigator wishes to determine whether 82,500 dollars is also the mean salary for all female members with a doctorate and a full-time teaching appointment. Salaries are obtained for a random sample of 100 women from this population, and the mean salary equals 80,100 dollars.\n",
    "\n",
    "(a) Someone claims that the observed difference between 80,100 dollars and 82,500 dollars is large enough by itself to support the conclusion that female members earn less than male members. Explain why it is important to conduct a hypothesis test.\n",
    "\n",
    "(b) The investigator wishes to conduct a hypothesis test for what population?\n",
    "\n",
    "(c) What is the null hypothesis, H0?\n",
    "\n",
    "(d) What is the alternative hypothesis, H1?\n",
    "\n",
    "(e) Specify the decision rule, using the .05 level of significance.\n",
    "\n",
    "(f) Calculate the value of z. (Remember to convert the standard deviation to a standard error.)\n",
    "\n",
    "(g) What is your decision about H0?\n",
    "\n",
    "(h) Using words, interpret this decision in terms of the original problem.\n",
    "\n",
    "$\\sigma_\\overline{X}$ = $\\dfrac{\\sigma}{\\sqrt{n}}$\n",
    "\n",
    "$z$ = $\\dfrac{\\overline{X} - \\mu_{hyp}}{\\sigma_\\overline{X}}$"
   ]
  },
  {
   "cell_type": "code",
   "execution_count": 3,
   "id": "ef43d711-81f5-4a91-864f-c066b9cbd365",
   "metadata": {
    "scrolled": true
   },
   "outputs": [
    {
     "data": {
      "text/plain": [
       "-4.0"
      ]
     },
     "execution_count": 3,
     "metadata": {},
     "output_type": "execute_result"
    }
   ],
   "source": [
    "import math\n",
    "\n",
    "n = 100\n",
    "X = 80100\n",
    "sd = 6000\n",
    "X_hyp = 82500\n",
    "\n",
    "# n = 100\n",
    "# X = 533\n",
    "# sd = 110\n",
    "# X_hyp = 500\n",
    "\n",
    "std_err = sd/math.sqrt(n)\n",
    "\n",
    "z = (X - X_hyp)/std_err\n",
    "z"
   ]
  },
  {
   "cell_type": "markdown",
   "id": "196bb71e-c028-4463-9428-f35b76bda57d",
   "metadata": {},
   "source": [
    "##### 10.6 Calculate the value of the z test for each of the following situations.\n",
    "(a) $\\overline{X}$ = 12; $\\sigma$ = 9; $n$ = 25; $\\mu_{hyp}$ = 15\n",
    "\n",
    "(b) $\\overline{X}$ = 3600; $\\sigma$ = 4000; $n$ = 100; $\\mu_{hyp}$ = 3500\n",
    "\n",
    "(b) $\\overline{X}$ = 0.25; $\\sigma$ = 0.10; $n$ = 36; $\\mu_{hyp}$ = 0.22\n",
    "\n",
    "$\\sigma_\\overline{X}$ = $\\dfrac{\\sigma}{\\sqrt{n}}$\n",
    "\n",
    "$z$ = $\\dfrac{\\overline{X} - \\mu_{hyp}}{\\sigma_\\overline{X}}$\n",
    "\n",
    "Given critical z scores of ±1.96, should H0 be accepted or rejected for each of the\n",
    "z scores calculated in Exercise 10.6?"
   ]
  },
  {
   "cell_type": "code",
   "execution_count": 4,
   "id": "49bd3c7b-5152-45d8-9859-fce98b8b2aa5",
   "metadata": {},
   "outputs": [
    {
     "name": "stdout",
     "output_type": "stream",
     "text": [
      "-1.6666666666666665\n",
      "*****\n",
      "0.25\n",
      "*****\n",
      "1.8\n",
      "*****\n"
     ]
    }
   ],
   "source": [
    "import math\n",
    "\n",
    "# create a dictionary for the given\n",
    "dict = {\n",
    "    'mean':[12,3600,0.25],\n",
    "    'std_dev':[9,4000,0.10],\n",
    "    'n':[25,100,36],\n",
    "    'hyp_mean':[15,3500,0.22],\n",
    "}\n",
    "\n",
    "transposed_data = list(map(list, zip(*dict.values())))\n",
    "\n",
    "# Output each row\n",
    "for row in transposed_data:\n",
    "    z = (row[0] - row[3])/(row[1]/math.sqrt(row[2]))\n",
    "    print(z)\n",
    "    print('*****')"
   ]
  },
  {
   "cell_type": "markdown",
   "id": "b9e5832b-3f01-422e-bc37-da5d7d41cce2",
   "metadata": {},
   "source": [
    "##### 10.8 For the population at large, the Wechsler Adult Intelligence Scale is designed to yield a normal distribution of test scores with a mean of 100 and a standard deviation of 15. School district officials wonder whether, on the average, an IQ score different from 100 describes the intellectual aptitudes of all students in their district. Wechsler IQ scores are obtained for a random sample of 25 of their students, and the mean IQ is found to equal 105. Using the step-by-step procedure described in this chapter, test the null hypothesis at the .05 level of significance.\n",
    "\n",
    "$\\sigma_\\overline{X}$ = $\\dfrac{\\sigma}{\\sqrt{n}}$\n",
    "\n",
    "$z$ = $\\dfrac{\\overline{X} - \\mu_{hyp}}{\\sigma_\\overline{X}}$"
   ]
  },
  {
   "cell_type": "code",
   "execution_count": 11,
   "id": "ed743fc3-52e3-4768-8caf-a0edaf8d2a2b",
   "metadata": {
    "scrolled": true
   },
   "outputs": [
    {
     "name": "stdout",
     "output_type": "stream",
     "text": [
      "Retain null hypothesis because it is less the 1.96\n"
     ]
    },
    {
     "data": {
      "text/plain": [
       "1.6666666666666667"
      ]
     },
     "execution_count": 11,
     "metadata": {},
     "output_type": "execute_result"
    }
   ],
   "source": [
    "X = 105\n",
    "sd = 15\n",
    "n = 25\n",
    "X_hyp = 100\n",
    "\n",
    "z = (X - X_hyp)/(sd/math.sqrt(n))\n",
    "print('Retain null hypothesis because it is less the 1.96')\n",
    "z"
   ]
  },
  {
   "cell_type": "markdown",
   "id": "82ee3cc2-19d0-4290-95bd-5754dee05c67",
   "metadata": {},
   "source": [
    "##### 10.9 The normal range for a widely accepted measure of body size, the body mass index (BMI), ranges from 18.5 to 25. Using the midrange BMI score of 21.75 as the null hypothesized value for the population mean, test this hypothesis at the .01 level of significance given a random sample of 30 weight-watcher participants who show a mean BMI = 22.2 and a standard deviation of 3.1."
   ]
  },
  {
   "cell_type": "code",
   "execution_count": 15,
   "id": "ff1a393e-c0f7-4d1b-b1ac-3e15a29cb81f",
   "metadata": {
    "scrolled": true
   },
   "outputs": [
    {
     "name": "stdout",
     "output_type": "stream",
     "text": [
      "Failed to reject the null hypothesis\n"
     ]
    },
    {
     "data": {
      "text/plain": [
       "0.7950811318623366"
      ]
     },
     "execution_count": 15,
     "metadata": {},
     "output_type": "execute_result"
    }
   ],
   "source": [
    "X_hyp = 21.75\n",
    "n = 30\n",
    "X = 22.2\n",
    "sd = 3.1\n",
    "# at 0.01 level of significance means 0.005 proportion at each tail of the normal curve which has a z score of 2.57\n",
    "\n",
    "z = (X - X_hyp)/(sd/math.sqrt(n))\n",
    "print('Failed to reject the null hypothesis')\n",
    "z"
   ]
  },
  {
   "cell_type": "markdown",
   "id": "35f95886-8046-4ef2-a2f7-50f4a67631db",
   "metadata": {},
   "source": [
    "##### 10.10 Let’s assume that, over the years, a paper and pencil test of anxiety yields a mean score of 35 for all incoming college freshmen. We wish to determine whether the scores of a random sample of 20 new freshmen, with a mean of 30 and a standard deviation of 10, can be viewed as coming from this population. Test at the .05 level of significance."
   ]
  },
  {
   "cell_type": "code",
   "execution_count": 22,
   "id": "f30fe4c3-f861-40f9-9afe-7dab39fce4d0",
   "metadata": {},
   "outputs": [
    {
     "name": "stdout",
     "output_type": "stream",
     "text": [
      "Reject null hypothesis because z is less than z score of -1.96\n"
     ]
    },
    {
     "data": {
      "text/plain": [
       "-2.23606797749979"
      ]
     },
     "execution_count": 22,
     "metadata": {},
     "output_type": "execute_result"
    }
   ],
   "source": [
    "n = 20\n",
    "X = 30\n",
    "X_hyp = 35\n",
    "sd = 10\n",
    "# at 0.05 level of significance\n",
    "z = (X - X_hyp)/(sd/math.sqrt(n))\n",
    "print('Reject null hypothesis because z is less than z score of -1.96')\n",
    "z"
   ]
  },
  {
   "cell_type": "markdown",
   "id": "3317f4a7-6b56-4322-86d9-5f5774e87e26",
   "metadata": {},
   "source": [
    "##### 10.11 According to the California Educational Code (http://www.cde.ca.gov/ls/fa/sf/peguidemidhi.asp), students in grades 7 through 12 should receive 400 minutes of physical education every 10 school days. A random sample of 48 students has a mean of 385 minutes and a standard deviation of 53 minutes. Test the hypothesis at the .05 level of significance that the sampled population satisfies the requirement."
   ]
  },
  {
   "cell_type": "code",
   "execution_count": 32,
   "id": "0d93fe26-3f74-4bbe-983f-cbb5b5dd7472",
   "metadata": {},
   "outputs": [
    {
     "name": "stdout",
     "output_type": "stream",
     "text": [
      "Retain Null Hypothesis\n"
     ]
    },
    {
     "data": {
      "text/plain": [
       "-1.9608122349836345"
      ]
     },
     "execution_count": 32,
     "metadata": {},
     "output_type": "execute_result"
    }
   ],
   "source": [
    "n = 48\n",
    "X_hyp = 400\n",
    "sd = 53\n",
    "X = 385\n",
    "# at 0.05 level of significance\n",
    "z = (X - X_hyp)/(sd/math.sqrt(n))\n",
    "print('Retain Null Hypothesis')\n",
    "z"
   ]
  },
  {
   "cell_type": "markdown",
   "id": "bc800fac-9bb9-498a-8d82-e7189314bce6",
   "metadata": {},
   "source": [
    "##### 10.12 According to a 2009 survey based on the United States census (http://www.census.gov/prod/2011pubs/acs-15.pdf), the daily one way commute time of U.S. workers averages 25 minutes with, we’ll assume, a standard deviation of 13 minutes. An investigator wishes to determine whether the national average describes the mean commute time for all workers in the Chicago area. Commute times are obtained for a random sample of 169 workers from this area, and the mean time is found to be 22.5 minutes. Test the null hypothesis at the .05 level of significance."
   ]
  },
  {
   "cell_type": "code",
   "execution_count": 34,
   "id": "e7b24e20-c7e7-4361-955a-0380cd033903",
   "metadata": {
    "scrolled": true
   },
   "outputs": [
    {
     "name": "stdout",
     "output_type": "stream",
     "text": [
      "Reject Null Hypothesis, because z is greater than 1.96\n"
     ]
    },
    {
     "data": {
      "text/plain": [
       "-2.5"
      ]
     },
     "execution_count": 34,
     "metadata": {},
     "output_type": "execute_result"
    }
   ],
   "source": [
    "X = 22.5\n",
    "sd = 13\n",
    "X_hyp = 25\n",
    "n = 169\n",
    "# at 0.05 level of significance\n",
    "z = (X - X_hyp)/(sd/math.sqrt(n))\n",
    "print('Reject Null Hypothesis, because z is greater than 1.96')\n",
    "z"
   ]
  },
  {
   "cell_type": "markdown",
   "id": "0709e07f-b859-4ecc-a5eb-0accb36a38a3",
   "metadata": {},
   "source": [
    "##### Reminder: Rejecting H0 implies that it probably is false, while retaining H0 implies only that it might be true. \n",
    "\n",
    "Because the research hypothesis is identified with the alternative hypothesis, the decision to reject the null hypothesis, should it be made, will provide strong support for the research hypothesis, while the decision to retain the null hypothesis, should it be made, will provide, at most, weak support for the null hypothesis. As mentioned, the decision to reject the null hypothesis is stronger than the decision to retain it. Logically, a statement such as “All cows have four legs” can never be proven in spite of a steady stream of positive instances. It only takes one negative instance—one cow with three legs—to disprove the statement. By the same token, one positive instance (common outcome) doesn’t prove the null hypothesis, but one negative instance (rare outcome) disproves the null hypothesis. (Strictly speaking, however, since a rare outcome implies that the null hypothesis is probably but not definitely false, remember that there always is a very small possibility that the rare outcome reflects a true null hypothesis.)\n",
    "\n",
    "Logically, therefore, it makes sense to identify the research hypothesis with the alternative hypothesis. If, as hoped, the data favor the research hypothesis, the test will generate strong support for your hunch: It’s probably true. If the data do not favor the research hypothesis, the hypothesis test will generate, at most, weak support for the null hypothesis: It could be true. Weak support for the null hypothesis is of little consequence, as this hypothesis—that nothing special is happening in the population—usually serves only as a convenient testing device."
   ]
  }
 ],
 "metadata": {
  "kernelspec": {
   "display_name": "Python 3 (ipykernel)",
   "language": "python",
   "name": "python3"
  },
  "language_info": {
   "codemirror_mode": {
    "name": "ipython",
    "version": 3
   },
   "file_extension": ".py",
   "mimetype": "text/x-python",
   "name": "python",
   "nbconvert_exporter": "python",
   "pygments_lexer": "ipython3",
   "version": "3.10.12"
  }
 },
 "nbformat": 4,
 "nbformat_minor": 5
}
