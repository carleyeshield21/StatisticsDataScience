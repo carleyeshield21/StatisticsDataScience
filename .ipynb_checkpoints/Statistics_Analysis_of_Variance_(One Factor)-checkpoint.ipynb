{
 "cells": [
  {
   "cell_type": "code",
   "execution_count": 2,
   "id": "b6d11b29-fda7-4dbd-8c09-b34ed68b40a1",
   "metadata": {},
   "outputs": [
    {
     "ename": "TypeError",
     "evalue": "list.extend() takes exactly one argument (3 given)",
     "output_type": "error",
     "traceback": [
      "\u001b[0;31m---------------------------------------------------------------------------\u001b[0m",
      "\u001b[0;31mTypeError\u001b[0m                                 Traceback (most recent call last)",
      "Cell \u001b[0;32mIn[2], line 13\u001b[0m\n\u001b[1;32m     10\u001b[0m X2_mean \u001b[38;5;241m=\u001b[39m statistics\u001b[38;5;241m.\u001b[39mmean(X2)\n\u001b[1;32m     11\u001b[0m X3_mean \u001b[38;5;241m=\u001b[39m statistics\u001b[38;5;241m.\u001b[39mmean(X3)\n\u001b[0;32m---> 13\u001b[0m \u001b[43mX4\u001b[49m\u001b[38;5;241;43m.\u001b[39;49m\u001b[43mextend\u001b[49m\u001b[43m(\u001b[49m\u001b[43mX1_mean\u001b[49m\u001b[43m,\u001b[49m\u001b[43mX2_mean\u001b[49m\u001b[43m,\u001b[49m\u001b[43mX3_mean\u001b[49m\u001b[43m)\u001b[49m\n\u001b[1;32m     14\u001b[0m X4\n",
      "\u001b[0;31mTypeError\u001b[0m: list.extend() takes exactly one argument (3 given)"
     ]
    }
   ],
   "source": [
    "import statistics\n",
    "import math\n",
    "\n",
    "X1 = [4,6,8,14]\n",
    "X2 = [6,6,10,10]\n",
    "X3 = [5,7,9,11]\n",
    "X4 = []\n",
    "\n",
    "X1_mean = statistics.mean(X1)\n",
    "X2_mean = statistics.mean(X2)\n",
    "X3_mean = statistics.mean(X3)\n",
    "\n",
    "X4.extend[X1_mean,X2_mean,X3_mean]\n",
    "X4"
   ]
  }
 ],
 "metadata": {
  "kernelspec": {
   "display_name": "Python 3 (ipykernel)",
   "language": "python",
   "name": "python3"
  },
  "language_info": {
   "codemirror_mode": {
    "name": "ipython",
    "version": 3
   },
   "file_extension": ".py",
   "mimetype": "text/x-python",
   "name": "python",
   "nbconvert_exporter": "python",
   "pygments_lexer": "ipython3",
   "version": "3.10.12"
  }
 },
 "nbformat": 4,
 "nbformat_minor": 5
}
