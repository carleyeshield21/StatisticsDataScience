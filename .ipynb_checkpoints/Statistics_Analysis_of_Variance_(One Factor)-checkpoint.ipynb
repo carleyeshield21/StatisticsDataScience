{
 "cells": [
  {
   "cell_type": "markdown",
   "id": "c238c914-6d00-4e9b-9dce-e18f827316a2",
   "metadata": {},
   "source": [
    "#### F test\n",
    "F Ratio\n",
    "\n",
    "$F=\\dfrac{variability~between~groups}{variability~within~groups}$"
   ]
  },
  {
   "cell_type": "code",
   "execution_count": 14,
   "id": "b6d11b29-fda7-4dbd-8c09-b34ed68b40a1",
   "metadata": {
    "scrolled": true
   },
   "outputs": [
    {
     "data": {
      "text/plain": [
       "[8, 8, 8]"
      ]
     },
     "execution_count": 14,
     "metadata": {},
     "output_type": "execute_result"
    }
   ],
   "source": [
    "import statistics\n",
    "import math\n",
    "\n",
    "X1 = [4,6,8,14]\n",
    "X2 = [6,6,10,10]\n",
    "X3 = [5,7,9,11]\n",
    "\n",
    "# X1 = [6,8,8,10]\n",
    "# X2 = [11,12,14,15]\n",
    "# X3 = [20,18,23,25]\n",
    "X4 = []\n",
    "\n",
    "X1_mean = X4.append(statistics.mean(X1))\n",
    "X2_mean = X4.append(statistics.mean(X2))\n",
    "X3_mean = X4.append(statistics.mean(X3))\n",
    "X4"
   ]
  },
  {
   "cell_type": "code",
   "execution_count": 5,
   "id": "ee115987-e6e4-4fb8-8bf8-b88c302654ff",
   "metadata": {},
   "outputs": [
    {
     "name": "stdout",
     "output_type": "stream",
     "text": [
      "[1, 2, 3, 4, 5, 6]\n",
      "[1, 2, 3, 4, 5, 6]\n"
     ]
    }
   ],
   "source": [
    "# Method 1: Using extend method\n",
    "my_list = [1, 2, 3]\n",
    "elements_to_append = [4, 5, 6]\n",
    "\n",
    "my_list.extend(elements_to_append)\n",
    "print(my_list)  # Output: [1, 2, 3, 4, 5, 6]\n",
    "\n",
    "# Method 2: Using += operator\n",
    "my_list = [1, 2, 3]\n",
    "elements_to_append = [4, 5, 6]\n",
    "\n",
    "my_list += elements_to_append\n",
    "print(my_list)  # Output: [1, 2, 3, 4, 5, 6]\n"
   ]
  }
 ],
 "metadata": {
  "kernelspec": {
   "display_name": "Python 3 (ipykernel)",
   "language": "python",
   "name": "python3"
  },
  "language_info": {
   "codemirror_mode": {
    "name": "ipython",
    "version": 3
   },
   "file_extension": ".py",
   "mimetype": "text/x-python",
   "name": "python",
   "nbconvert_exporter": "python",
   "pygments_lexer": "ipython3",
   "version": "3.10.12"
  }
 },
 "nbformat": 4,
 "nbformat_minor": 5
}
