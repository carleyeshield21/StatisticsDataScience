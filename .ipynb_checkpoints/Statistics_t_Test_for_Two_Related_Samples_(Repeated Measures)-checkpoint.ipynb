{
 "cells": [
  {
   "cell_type": "markdown",
   "id": "e3880a96-892d-4394-98b9-c57a2515b3b4",
   "metadata": {},
   "source": [
    "#### DIFFERENCE SCORE (D)\n",
    "$D = X_1-X_2$\n",
    "\n",
    "#### MEAN DIFFERENCE SCORE ($\\overline{D}$)\n",
    "\n",
    "$\\overline{D} = \\dfrac{\\Sigma{D}}{n}$\n",
    "\n",
    "#### Statistical Hypothesis\n",
    "\n",
    "Null Hypotheis: $H_0: \\mu_D \\leq 0$\n",
    "\n",
    "Alternative/Research Hypotheis: $H_1: \\mu_D > 0$\n",
    "\n",
    "#### Two Other Possible Alternative Hypotheses\n",
    "$H_0: \\mu_D < 0$ translates into a one-tailed test with the lower tail critical, and a nondirectional hypothesis\n",
    "\n",
    "$H_0: \\mu_D \\neq 0$ translates into a two-tailed test\n",
    "\n",
    "#### SAMPLING DISTRIBUTION OF $\\overline{D}$\n",
    "\n",
    "$\\mu_{\\overline{D}}=\\mu_{D}$\n",
    "\n",
    "#### Standard error\n",
    "\n",
    "$\\sigma_{\\overline{D}}=\\dfrac{{\\sigma}_D}{\\sqrt{n}}$\n",
    "\n",
    "#### t Test\n",
    "\n",
    "$t = \\dfrac{(sample~mean~difference)-(hypothesized~population~mean~difference)}{estimated~standard~error}$\n",
    "\n",
    "Expressed in symbols, t RATIO FOR TWO POPULATION MEANS (TWO RELATED SAMPLES)\n",
    "\n",
    "$t = \\dfrac{\\overline{D}-\\mu_{D_{hyp}}}{S_\\overline{D}}$"
   ]
  },
  {
   "cell_type": "code",
   "execution_count": 7,
   "id": "1af42059-d683-4665-a708-8396cacbd1b4",
   "metadata": {
    "scrolled": true
   },
   "outputs": [
    {
     "name": "stdout",
     "output_type": "stream",
     "text": [
      "X1_mean = 11\n",
      "X2_mean = 6\n",
      "[5, 2, 7, 5, 6, 5]\n",
      "D_mean = 5\n"
     ]
    }
   ],
   "source": [
    "import statistics\n",
    "import math\n",
    "\n",
    "X1 = [12,5,11,11,9,18]\n",
    "X2 = [7,3,4,6,3,13]\n",
    "\n",
    "X1_mean = statistics.mean(X1)\n",
    "X2_mean = statistics.mean(X2)\n",
    "print(f'X1_mean = {X1_mean}\\nX2_mean = {X2_mean}')\n",
    "\n",
    "D = [X1[n]-X2[n] for n in range(0,len(X1))]\n",
    "print(D)\n",
    "D_mean = statistics.mean(D)\n",
    "print(f'D_mean = {D_mean}')"
   ]
  },
  {
   "cell_type": "code",
   "execution_count": 16,
   "id": "c02f0c94-d5ac-4be8-9242-98e6f8d43656",
   "metadata": {},
   "outputs": [],
   "source": [
    "# CALCULATIONS FOR THE t TEST: REPEATED MEASURES (EPO EXPERIMENT)\n",
    "X1 = [12,5,11,11,9,18]\n",
    "X2 = [7,3,4,6,3,13]\n",
    "def t_test_repeated_measures(a,b):\n",
    "    import statistics\n",
    "    import math\n",
    "\n",
    "    X1_mean = statistics.mean(X1)\n",
    "    X2_mean = statistics.mean(X2)\n",
    "    D = [X1[n]-X2[n] for n in range(0,len(X1))]\n",
    "\n",
    "    sum_D = sum(D)\n",
    "    # return X1,X2\n",
    "    \n",
    "t_test_repeated_measures(X1,X2)"
   ]
  },
  {
   "cell_type": "markdown",
   "id": "38c3e891-5619-4349-a206-d2e80b3469df",
   "metadata": {},
   "source": []
  }
 ],
 "metadata": {
  "kernelspec": {
   "display_name": "Python 3 (ipykernel)",
   "language": "python",
   "name": "python3"
  },
  "language_info": {
   "codemirror_mode": {
    "name": "ipython",
    "version": 3
   },
   "file_extension": ".py",
   "mimetype": "text/x-python",
   "name": "python",
   "nbconvert_exporter": "python",
   "pygments_lexer": "ipython3",
   "version": "3.10.12"
  }
 },
 "nbformat": 4,
 "nbformat_minor": 5
}
