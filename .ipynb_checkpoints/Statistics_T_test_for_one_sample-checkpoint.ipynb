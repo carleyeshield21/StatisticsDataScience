{
 "cells": [
  {
   "cell_type": "markdown",
   "id": "6c039ad6-e5ee-4b12-af28-c95c6a416c60",
   "metadata": {},
   "source": [
    "##### Progress Check *13.1 Find the critical t values for the following hypothesis tests:\n",
    "(a) two-tailed test, α = .05, df = 12 t = $\\pm$ 2.179\n",
    "\n",
    "(b) one-tailed test, lower tail critical, α = .01, df = 19 t = -2.539\n",
    "\n",
    "(c) one-tailed test, upper tail critical, α = .05, df = 38 t = 1.697\n",
    "\n",
    "(d) two-tailed test, α = .01, df = 48 $\\pm$ 2.704"
   ]
  },
  {
   "cell_type": "markdown",
   "id": "fe1c1be7-3a82-4974-988f-5b0d14d677e7",
   "metadata": {},
   "source": [
    "##### t Test\n",
    "\n",
    "$z$ = $\\dfrac{sample~mean - hypothesized~population~mean}{standard~error}$ = $\\dfrac{\\overline{X} - \\mu_{hyp}}{\\sigma_{\\overline{X}}}$"
   ]
  },
  {
   "cell_type": "markdown",
   "id": "405a2cdf-4c07-4370-9fa2-fd2add02b3f1",
   "metadata": {},
   "source": [
    "##### t RATIO FOR A SINGLE POPULATION MEAN\n",
    "\n",
    "$t$ = $\\dfrac{sample~mean - hypothesized~population~mean}{estimated~standard~error}$ = $\\dfrac{\\overline{X} - \\mu_{hyp}}{S_{\\overline{X}}}$"
   ]
  },
  {
   "cell_type": "markdown",
   "id": "c734e30f-928a-41f4-a13f-b30f5f12e8c5",
   "metadata": {},
   "source": [
    "##### Standard Error or Mean\n",
    "\n",
    "$\\sigma_\\overline{X}$ = $\\dfrac{\\sigma}{\\sqrt{n}}$"
   ]
  },
  {
   "cell_type": "markdown",
   "id": "ef79f4d4-7116-4f5a-a998-ef08fa0852ff",
   "metadata": {},
   "source": [
    "##### ESTIMATED STANDARD ERROR OF THE MEAN\n",
    "$S_\\overline{X}$ = $\\dfrac{S}{\\sqrt{n}}$\n",
    "\n",
    "###### where $S_\\overline{X}$ represents the estimated standard error of the mean; n equals the sample size; and s has been defined as S is the standard deviation\n",
    "$S$ = $\\sqrt{\\dfrac{{SS}}{n-1}}$ = $\\sqrt{\\dfrac{{SS}}{df}}$\n",
    "\n",
    "$SS$ = $\\Sigma({X}-\\overline{X})^2$ = $\\Sigma{X}^2$ - $\\dfrac{(\\Sigma{X})^2}{n}$"
   ]
  },
  {
   "cell_type": "markdown",
   "id": "ad276bbc-6505-41e6-ae9f-9e0371722c5a",
   "metadata": {},
   "source": [
    "##### Progress Check *13.2 A consumers’ group randomly samples 10 “one-pound” packages of ground beef sold by a supermarket. Calculate \n",
    "(a) the mean and \n",
    "\n",
    "(b) the estimated standard error of the mean for this sample, given the following weights in ounces: 16, 15, 14, 15, 14, 15, 16, 14, 14, 14.\n",
    "(NOTE: Refer to Panels I and II of Table 13.1 for detailed guidance when calculating the mean and estimated standard error for this new set of data.)"
   ]
  },
  {
   "cell_type": "code",
   "execution_count": 1,
   "id": "25f0c572-cb96-47e6-867a-e0dcb4c075a4",
   "metadata": {},
   "outputs": [
    {
     "name": "stdout",
     "output_type": "stream",
     "text": [
      "mean = 14.7\n",
      "standard_deviation = 0.8232726023485646\n",
      "standard error of mean = 0.2603416558635551\n"
     ]
    }
   ],
   "source": [
    "import math\n",
    "import statistics\n",
    "\n",
    "weights = [16, 15, 14, 15, 14, 15, 16, 14, 14, 14]\n",
    "n = len(weights)\n",
    "mean = statistics.mean(weights)\n",
    "std_dev = statistics.stdev(weights)\n",
    "print(f'mean = {mean}\\nstandard_deviation = {std_dev}')\n",
    "\n",
    "squared_weights = [weight**2 for weight in weights]\n",
    "sum_squared_weights = sum(squared_weights)\n",
    "\n",
    "sum_of_weights_squared = (sum(weights))**2\n",
    "\n",
    "SS = sum_squared_weights - (sum_of_weights_squared)/n\n",
    "\n",
    "std_error_mean = std_dev/math.sqrt(n)\n",
    "print(f'standard error of mean = {std_error_mean}')"
   ]
  },
  {
   "cell_type": "markdown",
   "id": "54485504-bee8-4d4d-9be3-94fd95683a0f",
   "metadata": {},
   "source": [
    "$t$ = $\\dfrac{sample~mean - hypothesized~population~mean}{estimated~standard~error}$ = $\\dfrac{\\overline{X} - \\mu_{hyp}}{S_{\\overline{X}}}$\n",
    "\n",
    "##### ESTIMATED STANDARD ERROR OF THE MEAN\n",
    "$S_\\overline{X}$ = $\\dfrac{S}{\\sqrt{n}}$\n",
    "\n",
    "###### where $S_\\overline{X}$ represents the estimated standard error of the mean; n equals the sample size; and s has been defined as S is the standard deviation\n",
    "$S$ = $\\sqrt{\\dfrac{{SS}}{n-1}}$ = $\\sqrt{\\dfrac{{SS}}{df}}$\n",
    "\n",
    "$SS$ = $\\Sigma({X}-\\overline{X})^2$ = $\\Sigma{X}^2$ - $\\dfrac{(\\Sigma{X})^2}{n}$"
   ]
  },
  {
   "cell_type": "markdown",
   "id": "c19edf6f-9d71-4be4-95fb-9bcd93144b45",
   "metadata": {},
   "source": [
    "##### GAS MILEAGE INVESTIGATION\n",
    "Federal law might eventually specify that new automobiles must average, for example, 45 miles per gallon (mpg) of gasoline. Because it’s impossible to test all new cars, compliance tests would be based on random samples from the entire production of each car model. If a hypothesis test indicates substandard performance, the manufacturer would be penalized, we’ll assume, $200 per car for the entire production. In these tests, the null hypothesis states that, with respect to the mandated mean of 45 mpg, nothing special is happening in the population for some car model—that is, there is no substandard performance and the population mean equals or exceeds 45 mpg.\n",
    "\n",
    "From the manufacturer’s perspective, a type I error (a stiff penalty, even though the car complies with the standard) is very serious. Accordingly, to control the type I error, let’s use the .01 instead of the customary .05 level of significance. From the federal regulator’s perspective, a type II error (not penalizing the manufacturer even though the car fails to comply with the standard) also is serious. In practice, a sample size should be selected, as described in Section 11.11, to control the type II error, that is, to ensure a reasonable detection rate for the smallest decline (judged to be important) of the true population mean below the mandated 45 mpg. To simplify computations in the present example, however, the projected one-tailed test is based on data from a very small sample of only six randomly selected cars.\n",
    "\n",
    "Type I error - akala mo meron pero wala\n",
    "\n",
    "Type II error - akala mo wala, pero meron, meron, meron!!\n",
    "\n",
    "For reasons that will become apparent, the z test must be replaced by a new hypothesis test, the t test. Spend a few minutes familiarizing yourself with the boxed summary for the gas mileage investigation, noting the considerable similarities between it and summaries of previous hypothesis tests with the z test.\n",
    "\n",
    "###### Statistical Hypotheses\n",
    "H0: $\\mu \\geq$ 45\n",
    "\n",
    "H1: $\\mu~{<}$ 45"
   ]
  },
  {
   "cell_type": "code",
   "execution_count": 12,
   "id": "000102ff-ac50-4e9b-baa3-9d78c5d0bb96",
   "metadata": {
    "scrolled": true
   },
   "outputs": [
    {
     "name": "stdout",
     "output_type": "stream",
     "text": [
      "mean = 43\n",
      "standard_deviation = 2.1908902300206643\n",
      "standard error of mean = 0.8944271909999159\n",
      "t = -2.23606797749979\n"
     ]
    }
   ],
   "source": [
    "import math\n",
    "import statistics\n",
    "\n",
    "mileage = [40,44,46,41,43,44]\n",
    "# mileage = [40,44,46,41,43,44,42,47,45,40,41,39]\n",
    "# mileage = [40,44,46]\n",
    "X_sample = 43\n",
    "X_hyp = 45\n",
    "\n",
    "def standard_error_of_mean(mileage,X,X_hyp):\n",
    "    n = len(mileage)\n",
    "    mean = statistics.mean(mileage)\n",
    "    std_dev = statistics.stdev(mileage)\n",
    "    print(f'mean = {mean}\\nstandard_deviation = {std_dev}')\n",
    "    \n",
    "    squared_mileage = [num**2 for num in mileage]\n",
    "    sum_squared_mileage = sum(squared_mileage)\n",
    "    \n",
    "    sum_of_mileage_squared = (sum(mileage))**2\n",
    "    \n",
    "    SS = sum_squared_mileage - (sum_of_mileage_squared)/n\n",
    "    \n",
    "    std_error_mean = std_dev/math.sqrt(n)\n",
    "    print(f'standard error of mean = {std_error_mean}')\n",
    "    \n",
    "    t = (X - X_hyp)/std_error_mean\n",
    "    print(f't = {t}')\n",
    "\n",
    "standard_error_of_mean(mileage,X_sample,X_hyp)\n",
    "\n",
    "# Original sample size\n",
    "# mean = 43\n",
    "# standard_deviation = 2.1908902300206643\n",
    "# standard error of mean = 0.8944271909999159\n",
    "# t = -2.23606797749979\n",
    "\n",
    "# Larger sample\n",
    "# mean = 42.666666666666664\n",
    "# standard_deviation = 2.570225788926064\n",
    "# standard error of mean = 0.7419602755572906\n",
    "# t = -2.6955621020246516\n",
    "\n",
    "# Smaller sample\n",
    "# mean = 43.333333333333336\n",
    "# standard_deviation = 3.0550504633038935\n",
    "# standard error of mean = 1.763834207376394\n",
    "# t = -1.1338934190276815"
   ]
  },
  {
   "cell_type": "markdown",
   "id": "7630a5f5-9fcb-4ddb-9f5c-eaf231d1439a",
   "metadata": {},
   "source": [
    "##### At 0.01 significance level, one-tailed test lower tail critical, looking at the Table B Critical values of t, degrees of freedom is df=n-1; df=5, t = -3.365 (the negative sign is because we are considering the lower tail\n",
    "\n",
    "###### Statistical Hypotheses\n",
    "H0: $\\mu \\geq$ 45\n",
    "\n",
    "H1: $\\mu~{<}$ 45\n",
    "\n",
    "t = -2.23606797749979 is greater than t = -3.365 so we will retain the Null Hypothesis H0\n",
    "\n",
    "Decision\n",
    "Retain H0 at the .01 level of significance because t = –2.25 is less negative than –3.365.\n",
    "\n",
    "Interpretation\n",
    "The population mean gas mileage could equal the required 45 mpg or more. The manufacturer shouldn’t be penalized."
   ]
  },
  {
   "cell_type": "markdown",
   "id": "6627ca08-77b6-4d1d-b0ae-ae4ba510928a",
   "metadata": {},
   "source": [
    "##### 13.9 In the gas mileage test described in this chapter, would you prefer a smaller or a larger sample size if you were\n",
    "(a) the car manufacturer? Why?\n",
    "\n",
    "Answer: At a lower sample size, t = -1.1338934190276815 which is greater(less negative) than –3.365\n",
    "\n",
    "(b) a vigorous prosecutor for the federal regulatory agency? Why?\n",
    "\n",
    "Answer: At a larger sample size, t = -2.6955621020246516 which is greater(less negative) than –3.365"
   ]
  },
  {
   "cell_type": "markdown",
   "id": "7c330b12-6154-4494-9be6-9c6d90dcbb71",
   "metadata": {
    "jp-MarkdownHeadingCollapsed": true
   },
   "source": [
    "##### Progress Check *13.3 The consumers’ group in Question 13.2 suspects that a supermarket makes extra money by supplying less than the specified weight of 16 ounces in its “one-pound” packages of ground beef. Given that a random sample of 10 packages yields a mean of 14.7 ounces and an estimated standard error of the mean of 0.26 ounce, use the customary step-by-step procedure to test the null hypothesis at the .05 level of significance with t.\n",
    "\n",
    "##### Progress Check *13.2 A consumers’ group randomly samples 10 “one-pound” packages of ground beef sold by a supermarket. Calculate (a) the mean and (b) the estimated standard error of the mean for this sample, given the following weights in ounces: 16, 15, 14, 15, 14, 15, 16, 14, 14, 14."
   ]
  },
  {
   "cell_type": "markdown",
   "id": "83fdbece-d49a-409e-9c4c-e2cea582c2a4",
   "metadata": {},
   "source": [
    "##### t RATIO\n",
    "$t$ = $\\dfrac{sample~mean - hypothesized~population~mean}{estimated~standard~error}$ = $\\dfrac{\\overline{X} - \\mu_{hyp}}{S_{\\overline{X}}}$\n",
    "\n",
    "##### ESTIMATED STANDARD ERROR OF THE MEAN\n",
    "$S_\\overline{X}$ = $\\dfrac{S}{\\sqrt{n}}$\n",
    "\n",
    "###### where $S_\\overline{X}$ represents the estimated standard error of the mean; n equals the sample size; and s has been defined as S is the standard deviation\n",
    "$S$ = $\\sqrt{\\dfrac{{SS}}{n-1}}$ = $\\sqrt{\\dfrac{{SS}}{df}}$\n",
    "\n",
    "$SS$ = $\\Sigma({X}-\\overline{X})^2$ = $\\Sigma{X}^2$ $-$ $\\dfrac{(\\Sigma{X})^2}{n}$\n",
    "\n",
    "###### Statistical Hypotheses\n",
    "H0: $\\mu \\geq$ 16\n",
    "\n",
    "H1: $\\mu~{<}$ 16"
   ]
  },
  {
   "cell_type": "code",
   "execution_count": 3,
   "id": "679fa21a-4954-421c-9472-367486f0be07",
   "metadata": {
    "scrolled": true
   },
   "outputs": [
    {
     "name": "stdout",
     "output_type": "stream",
     "text": [
      "mean = 14.7\n",
      "standard_deviation = 0.8232726023485646\n",
      "[256, 225, 196, 225, 196, 225, 256, 196, 196, 196]\n",
      "2167\n",
      "21609\n",
      "SS = 6.099999999999909\n",
      "0.2603416558635551\n"
     ]
    },
    {
     "data": {
      "text/plain": [
       "-4.993438317382946"
      ]
     },
     "execution_count": 3,
     "metadata": {},
     "output_type": "execute_result"
    }
   ],
   "source": [
    "import math\n",
    "import statistics\n",
    "weights = [16, 15, 14, 15, 14, 15, 16, 14, 14, 14]\n",
    "n = 10\n",
    "X_sample = 14.7\n",
    "X_hyp = 16\n",
    "# std_err_mean = 0.26\n",
    "# significance level of 0.05\n",
    "\n",
    "n = len(weights)\n",
    "mean = statistics.mean(weights)\n",
    "s = statistics.stdev(weights)\n",
    "print(f'mean = {mean}\\nstandard_deviation = {std_dev}')\n",
    "\n",
    "sq_values_each_weight = [weight**2 for weight in weights]\n",
    "print(sq_values_each_weight)\n",
    "\n",
    "sum_sq_values_each_weight = sum(sq_values_each_weight)\n",
    "print(sum_sq_values_each_weight)\n",
    "\n",
    "sum_all_weights = sum(weights)\n",
    "sum_all_weights_squared = sum_all_weights**2\n",
    "print(sum_all_weights_squared)\n",
    "\n",
    "SS = sum_sq_values_each_weight - (sum_all_weights_squared/n)\n",
    "print(f'SS = {SS}')\n",
    "\n",
    "std_err_mean = s/math.sqrt(n)\n",
    "print(std_err_mean)\n",
    "\n",
    "t = (X_sample - X_hyp)/std_err_mean\n",
    "t"
   ]
  },
  {
   "cell_type": "markdown",
   "id": "54ec297d-b869-400d-aacf-1decbcd5556b",
   "metadata": {},
   "source": [
    "##### # According to the Table Ba CRITICAL VALUES OF t for a one-tailed test at a significance value of 0.05, degrees of freedom df = n-1 = 9, the value of t=-1.833, negative because we are considering the lower proportion of the curve according to the hypothesis statement\n",
    "\n",
    "The acceptable value is only greater than or equal to -1.833, therefore with a computed value of -4.993438317382946, which is more negative than the acceptable value(less than -1.833 in the normal curve), we will reject the null hypothesis, and we can say that the weight of the ground beef in the market is less than the standard 16 ounces\n",
    "\n",
    "\n",
    "###### Statistical Hypotheses\n",
    "H0: $\\mu \\geq$ 16\n",
    "\n",
    "H1: $\\mu~{<}$ 16"
   ]
  },
  {
   "cell_type": "markdown",
   "id": "c31a9666-1c72-45d9-92f3-12ce26781d41",
   "metadata": {},
   "source": [
    "##### CONFIDENCE INTERVALS FOR μ BASED ON t\n",
    "CONFIDENCE INTERVAL FOR μ BASED ON t\n",
    "\n",
    "$\\overline{X} \\pm (t_{conf})(S_{\\overline{X}})$\n",
    "\n",
    "where:\n",
    "\n",
    "$\\overline{X}$ - Sample Mean\n",
    "\n",
    "$t_{conf}$ - represents a number (distributed with n − 1 degrees of freedom) from the t tables, which satisfies the confidence specifications for the confidence interval\n",
    "\n",
    "$S_{\\overline{X}}$ - represents the estimated standard error of the mean\n",
    "\n",
    "##### Reference to GAS MILEAGE INVESTIGATION\n",
    "At 95% confidence level, which means a p-value of 5% or 0.05 and degrees of freedom df=n-1 = 6 - 1 = 5, then looking at the left panel of Table Ba CRITICAL VALUES OF t for a two-tailed test, has a $t_{conf}$ = $\\pm$ 2.571"
   ]
  },
  {
   "cell_type": "code",
   "execution_count": 4,
   "id": "7140f717-3def-42a0-adc2-cc32d19e302f",
   "metadata": {
    "scrolled": true
   },
   "outputs": [],
   "source": [
    "import math\n",
    "import statistics\n",
    "\n",
    "mileage = [40,44,46,41,43,44]\n",
    "X_sample = 43\n",
    "X_hyp = 45\n",
    "\n",
    "def standard_error_of_mean(mileage,X,X_hyp):\n",
    "    n = len(mileage)\n",
    "    mean = statistics.mean(mileage)\n",
    "    std_dev = statistics.stdev(mileage)\n",
    "    # print(f'mean = {mean}\\nstandard_deviation = {std_dev}')\n",
    "    \n",
    "    squared_mileage = [num**2 for num in mileage]\n",
    "    sum_squared_mileage = sum(squared_mileage)\n",
    "    \n",
    "    sum_of_mileage_squared = (sum(mileage))**2\n",
    "    \n",
    "    SS = sum_squared_mileage - (sum_of_mileage_squared)/n\n",
    "    \n",
    "    std_error_mean1 = std_dev/math.sqrt(n)\n",
    "\n",
    "    return std_error_mean1"
   ]
  },
  {
   "cell_type": "code",
   "execution_count": 5,
   "id": "5f6aabaf-a3d2-4260-87b2-d654e993b3c4",
   "metadata": {
    "scrolled": true
   },
   "outputs": [
    {
     "name": "stdout",
     "output_type": "stream",
     "text": [
      "It can be claimed, with 95 percent confidence, that the interval between 40.70042769193922 and 45.29957230806078 includes the true mean gas mileage for all of the cars in the population.\n"
     ]
    }
   ],
   "source": [
    "# Substituting the values to the formula:\n",
    "tconf = 2.571\n",
    "CI1 = X_sample - (tconf*standard_error_of_mean(mileage,X_sample,X_hyp))\n",
    "CI2 = X_sample + (tconf*standard_error_of_mean(mileage,X_sample,X_hyp))\n",
    "print(f'It can be claimed, with 95 percent confidence, that the interval between {CI1} and {CI2} includes the true mean gas mileage for all of the cars in the population.')"
   ]
  },
  {
   "cell_type": "markdown",
   "id": "1ea6d030-140d-4479-bd77-95555ab64f10",
   "metadata": {},
   "source": [
    "##### Progress Check *13.4 The consumers’ group (in Question 13.3) concludes that, in spite of the claims of the supermarket, the mean weight of its “one-pound” packages of ground beef drops below the specified 16 ounces even when chance sampling variability is taken into account.\n",
    "\n",
    "##### Progress Check *13.3 The consumers’ group in Question 13.2 suspects that a supermarket makes extra money by supplying less than the specified weight of 16 ounces in its “one-pound” packages of ground beef. Given that a random sample of 10 packages yields a mean of 14.7 ounces and an estimated standard error of the mean of 0.26 ounce, use the customary step-by-step procedure to test the null hypothesis at the .05 level of significance with t.\n",
    "\n",
    "(a) Construct a 95 percent confidence interval for the true weight of all “one-pound” packages of ground beef.\n",
    "\n",
    "(b) Interpret this confidence interval.\n",
    "\n",
    "Confidence level at 95% which means a p-value of 0.05, which means a two-tailed test because we are considering both tails of the normal curve, $t_{conf}$ = $\\pm$2.262 for df=n-1 = 5\n",
    "\n",
    "##### ESTIMATED STANDARD ERROR OF THE MEAN\n",
    "$S_\\overline{X}$ = $\\dfrac{S}{\\sqrt{n}}$\n",
    "\n",
    "###### where $S_\\overline{X}$ represents the estimated standard error of the mean; n equals the sample size; and s has been defined as S is the standard deviation\n",
    "$S$ = $\\sqrt{\\dfrac{{SS}}{n-1}}$ = $\\sqrt{\\dfrac{{SS}}{df}}$\n",
    "\n",
    "$SS$ = $\\Sigma({X}-\\overline{X})^2$ = $\\Sigma{X}^2$ $-$ $\\dfrac{(\\Sigma{X})^2}{n}$\n",
    "\n",
    "CONFIDENCE INTERVAL FOR μ BASED ON t\n",
    "\n",
    "$\\overline{X} \\pm (t_{conf})(S_{\\overline{X}})$"
   ]
  },
  {
   "cell_type": "code",
   "execution_count": 6,
   "id": "a1850387-99e3-47d2-91a3-d97575d05ee6",
   "metadata": {},
   "outputs": [
    {
     "name": "stdout",
     "output_type": "stream",
     "text": [
      "We can be 95 percent confident that the interval between 14.111107174436638 and 15.28889282556336 ounces includes the true population mean weight for all packages.\n"
     ]
    }
   ],
   "source": [
    "import math\n",
    "import statistics\n",
    "weights = [16, 15, 14, 15, 14, 15, 16, 14, 14, 14]\n",
    "X_sample = 14.7\n",
    "tconf = 2.262\n",
    "s = statistics.stdev(weights)\n",
    "\n",
    "square_of_each_weight_values = [weight**2 for weight in weights]\n",
    "sum_of_square_of_each_weight_values = sum(square_of_each_weight_values)\n",
    "\n",
    "sum_of_weight_values = sum(weights)\n",
    "square_of_sum_of_weight_values = sum_of_weight_values**2\n",
    "\n",
    "std_err_mean = s/math.sqrt(n)\n",
    "std_err_mean\n",
    "\n",
    "CI1 = X_sample - (tconf*std_err_mean)\n",
    "CI2 = X_sample + (tconf*std_err_mean)\n",
    "print(f'We can be 95 percent confident that the interval between {CI1} and {CI2} ounces includes the true population mean weight for all packages.')\n",
    "\n",
    "# We can be 95 percent confident that the interval between 14.11 and 15.29 ounces includes the true population mean weight for all packages."
   ]
  },
  {
   "cell_type": "markdown",
   "id": "d4f418c8-8103-4d52-b57d-8a97cbf19ff9",
   "metadata": {},
   "source": [
    "##### ASSUMPTIONS\n",
    "Whether testing hypotheses or constructing confidence intervals for population means,$use~t~rather~than~z~whenever,~as~almost~always~is~the~case,~the~population~standard~deviation~is~unknown.$ Strictly speaking, when using t, you must assume that the underlying population is normally distributed. Even if this normality assumption is violated, t retains much of its accuracy as long as the sample size isn’t too small. If a very small sample (less than about 10) is being used and you believe that the sample originates from a non-normal population—possibly because of a pronounced positive or negative skew among the observations in the sample—it would be wise to increase the size of the sample before testing a hypothesis or constructing a confidence interval."
   ]
  },
  {
   "cell_type": "markdown",
   "id": "dfa8e721-b7a2-476f-9bfb-77a1ed00ecb1",
   "metadata": {},
   "source": [
    "##### 13.5 A library system lends books for periods of 21 days. This policy is being reevaluated in view of a possible new loan period that could be either longer or shorter than 21 days. To aid in making this decision, book-lending records were consulted to determine the loan periods actually used by the patrons. A random sample of eight records revealed the following loan periods in days: 21, 15, 12, 24, 20, 21, 13, and 16. Test the null hypothesis with t, using the .05 level of significance.\n",
    "\n",
    "###### Statistical Hypotheses\n",
    "H0: $\\mu =$ 21\n",
    "\n",
    "H1: $\\mu~!=$ 21\n",
    "\n",
    "##### ESTIMATED STANDARD ERROR OF THE MEAN\n",
    "$S_\\overline{X}$ = $\\dfrac{S}{\\sqrt{n}}$\n",
    "\n",
    "###### where $S_\\overline{X}$ represents the estimated standard error of the mean; n equals the sample size; and s has been defined as S is the standard deviation\n",
    "$S$ = $\\sqrt{\\dfrac{{SS}}{n-1}}$ = $\\sqrt{\\dfrac{{SS}}{df}}$\n",
    "\n",
    "$SS$ = $\\Sigma({X}-\\overline{X})^2$ = $\\Sigma{X}^2$ $-$ $\\dfrac{(\\Sigma{X})^2}{n}$\n",
    "\n",
    "CONFIDENCE INTERVAL FOR μ BASED ON t\n",
    "\n",
    "$\\overline{X} \\pm (t_{conf})(S_{\\overline{X}})$\n",
    "\n",
    "##### t RATIO\n",
    "$t$ = $\\dfrac{sample~mean - hypothesized~population~mean}{estimated~standard~error}$ = $\\dfrac{\\overline{X} - \\mu_{hyp}}{S_{\\overline{X}}}$"
   ]
  },
  {
   "cell_type": "code",
   "execution_count": 7,
   "id": "c2aa10c9-359c-435e-a57f-4e7b1e4b3e3a",
   "metadata": {
    "scrolled": true
   },
   "outputs": [
    {
     "name": "stdout",
     "output_type": "stream",
     "text": [
      "mean = 17.75\n",
      "standard deviation = 4.334248987508019\n",
      "1.532388425208924\n",
      "11.075901374380894 18.324098625619104\n",
      "-2.120872193064822\n"
     ]
    }
   ],
   "source": [
    "import math\n",
    "import statistics\n",
    "\n",
    "days = [21, 15, 12, 24, 20, 21, 13, 16]\n",
    "n = len(days)\n",
    "df = n - 1\n",
    "X_hyp = 21\n",
    "tconf = 2.365\n",
    "# Confidence level of 95%, 0.05 significance level, two-tailed test, longer or shorter than 21 days, at df=n-1=7, the t value is 2.365\n",
    "\n",
    "mean = statistics.mean(days)\n",
    "print(f'mean = {mean}')\n",
    "\n",
    "std_dev = statistics.stdev(days)\n",
    "print(f'standard deviation = {std_dev}')\n",
    "\n",
    "each_day_squared = [day**2 for day in days]\n",
    "# print(each_day_squared)\n",
    "\n",
    "total_each_day_squared = sum(each_day_squared)\n",
    "# print(total_each_day_squared)\n",
    "\n",
    "total_days = sum(days)\n",
    "# print(total_days)\n",
    "\n",
    "squared_total_days = total_days**2\n",
    "# print(squared_total_days)\n",
    "\n",
    "SS = total_each_day_squared - (squared_total_days/n)\n",
    "# print(SS)\n",
    "\n",
    "S = math.sqrt(SS/df)\n",
    "# print(S)\n",
    "\n",
    "# print(S == std_dev)\n",
    "\n",
    "std_err_mean = S/math.sqrt(n)\n",
    "print(std_err_mean)\n",
    "\n",
    "# confidence intervals\n",
    "CI1 = X_sample - (2.365*std_err_mean)\n",
    "CI2 = X_sample + (2.365*std_err_mean)\n",
    "print(CI1,CI2)\n",
    "\n",
    "t = (mean - X_hyp)/std_err_mean\n",
    "print(t)"
   ]
  },
  {
   "cell_type": "markdown",
   "id": "512dab2f-ef37-42e5-b39b-efc6132366be",
   "metadata": {},
   "source": [
    "##### Decision\n",
    "Retain H0 at the .05 level of significance because t = –2.12 is less negative\n",
    "than –2.365.\n",
    "\n",
    "Interpretation: No evidence that, on average, library patrons borrow books for longer or shorter\n",
    "periods than 21 days."
   ]
  },
  {
   "cell_type": "markdown",
   "id": "a51dc56d-c7b9-4806-be70-57f9be5f9808",
   "metadata": {},
   "source": [
    "##### 13.6 It’s well established, we’ll assume, that lab rats require an average of 32 trials in a complex water maze before reaching a learning criterion of three consecutive error-less trials. To determine whether a mildly adverse stimulus has any effect on performance, a sample of seven lab rats were given a mild electrical shock just before each trial.\n",
    "\n",
    "(a) Given that X = 34.89 and s = 3.02, test the null hypothesis with t, using the .05 level of significance.\n",
    "\n",
    "(b) Construct a 95 percent confidence interval for the true number of trials required to learn the water maze.\n",
    "\n",
    "(c) Interpret this confidence interval.\n",
    "\n",
    "###### Statistical Hypotheses\n",
    "H0: $\\mu \\leq$ 32 trials\n",
    "\n",
    "H1: $\\mu >$ 32 trials\n",
    "\n",
    "##### ESTIMATED STANDARD ERROR OF THE MEAN\n",
    "$S_\\overline{X}$ = $\\dfrac{S}{\\sqrt{n}}$\n",
    "\n",
    "###### where $S_\\overline{X}$ represents the estimated standard error of the mean; n equals the sample size; and s has been defined as S is the standard deviation\n",
    "$S$ = $\\sqrt{\\dfrac{{SS}}{n-1}}$ = $\\sqrt{\\dfrac{{SS}}{df}}$\n",
    "\n",
    "$SS$ = $\\Sigma({X}-\\overline{X})^2$ = $\\Sigma{X}^2$ $-$ $\\dfrac{(\\Sigma{X})^2}{n}$\n",
    "\n",
    "CONFIDENCE INTERVAL FOR μ BASED ON t\n",
    "\n",
    "$\\overline{X} \\pm (t_{conf})(S_{\\overline{X}})$\n",
    "\n",
    "##### t RATIO\n",
    "$t$ = $\\dfrac{sample~mean - hypothesized~population~mean}{estimated~standard~error}$ = $\\dfrac{\\overline{X} - \\mu_{hyp}}{S_{\\overline{X}}}$"
   ]
  },
  {
   "cell_type": "code",
   "execution_count": 8,
   "id": "8774be27-2b67-4bc7-83b8-5851f3fd6a14",
   "metadata": {
    "scrolled": true
   },
   "outputs": [
    {
     "name": "stdout",
     "output_type": "stream",
     "text": [
      "std_err_mean = 1.1414527084878663\n",
      "t_ratio = 2.531861353965784\n",
      "t_value = 1.943\n",
      "32.67215738740808 37.107842612591924\n"
     ]
    }
   ],
   "source": [
    "# a) 95% confidence level at a significance level/p-value of 0.05, one-tailed test upper tail critical, df=n-1=6\n",
    "#  t-value = +1.943\n",
    "import math\n",
    "import statistics\n",
    "\n",
    "n = 7\n",
    "df = n-1\n",
    "s = 3.02\n",
    "X = 34.89\n",
    "X_hyp = 32\n",
    "\n",
    "std_err_mean = s/math.sqrt(n)\n",
    "print(f'std_err_mean = {std_err_mean}')\n",
    "\n",
    "t_ratio = (X-X_hyp)/std_err_mean\n",
    "print(f't_ratio = {t_ratio}')\n",
    "print('t_value = 1.943')\n",
    "\n",
    "CI1 = X - (1.943*std_err_mean)\n",
    "CI2 = X + (1.943*std_err_mean)\n",
    "print(CI1,CI2)"
   ]
  },
  {
   "cell_type": "markdown",
   "id": "54ecf52f-49ff-4c40-b70b-d4606e40e3a3",
   "metadata": {},
   "source": [
    "The computed t_ratio = 2.531861353965784 is larger than the t_value = 1.943, therefore we will reject the Null Hypothesis.\n",
    "The confidence intervals are 32.67215738740808 to 37.107842612591924, and therefore we are 95% confident that the true number of trial days is between these two limits, which is greater than the hypothesized value of 32 days, which led to the decision to reject the null hypothesis."
   ]
  },
  {
   "cell_type": "markdown",
   "id": "c116dfc4-a8e4-4dc5-8c48-732417c8edd6",
   "metadata": {},
   "source": [
    "##### 13.7 Is the temperature of the earth getting warmer because heat is trapped by greenhouse gas emissions, such as carbon dioxide, in the earth’s atmosphere? The National Climatic Data Center reports on its website at http://www.ncdc.noaa.gov/pub/data/anomalies.html that the average global temperatures for recent years have deviated above the long term mean temperature for the entire twentieth century. Expressed in Fahrenheit degrees, the annual deviations above the long term mean temperature for each of ten recent years, listed in chronological order up to 2015, were 1.15, 1.15, 1.01, 1.03 1.15, 1.22, 1.03, 1.13, 1.21, and 1.35.\n",
    "\n",
    "(a) Given that X = 1.14 and s = 0.10 for these ten years, use t at the .01 level of significance to test the null hypothesis that the temperature of earth is not getting warmer. In other words, could the sample mean deviation for these ten years have originated from a population of annual deviations for the entire twentieth century having a mean deviation equal to zero?\n",
    "\n",
    "(b) If appropriate (because the null hypothesis has been rejected), construct a 99 percent confidence interval and interpret this interval.\n",
    "\n",
    "###### Statistical Hypotheses\n",
    "H0: $\\mu \\leq$ 0\n",
    "\n",
    "H1: $\\mu >$ 0\n",
    "\n",
    "##### ESTIMATED STANDARD ERROR OF THE MEAN\n",
    "$S_\\overline{X}$ = $\\dfrac{S}{\\sqrt{n}}$\n",
    "\n",
    "###### where $S_\\overline{X}$ represents the estimated standard error of the mean; n equals the sample size; and s has been defined as S is the standard deviation\n",
    "$S$ = $\\sqrt{\\dfrac{{SS}}{n-1}}$ = $\\sqrt{\\dfrac{{SS}}{df}}$\n",
    "\n",
    "$SS$ = $\\Sigma({X}-\\overline{X})^2$ = $\\Sigma{X}^2$ $-$ $\\dfrac{(\\Sigma{X})^2}{n}$\n",
    "\n",
    "CONFIDENCE INTERVAL FOR μ BASED ON t\n",
    "\n",
    "$\\overline{X} \\pm (t_{conf})(S_{\\overline{X}})$\n",
    "\n",
    "##### t RATIO\n",
    "$t$ = $\\dfrac{sample~mean - hypothesized~population~mean}{estimated~standard~error}$ = $\\dfrac{\\overline{X} - \\mu_{hyp}}{S_{\\overline{X}}}$"
   ]
  },
  {
   "cell_type": "code",
   "execution_count": 9,
   "id": "01fc67ab-0cd9-49f0-90b2-dca3d428849a",
   "metadata": {},
   "outputs": [
    {
     "name": "stdout",
     "output_type": "stream",
     "text": [
      "mean = 1.143\n",
      "standard deviation = 0.10371435130523966\n",
      "std_err_mean = 0.03162277660168379\n",
      "t_ratio = 36.04996532591952\n"
     ]
    }
   ],
   "source": [
    "import statistics\n",
    "import math\n",
    "\n",
    "temps = [1.15, 1.15, 1.01, 1.03, 1.15, 1.22, 1.03, 1.13, 1.21, 1.35]\n",
    "n = len(temps)\n",
    "df = n-1\n",
    "s = 0.10\n",
    "X = 1.14\n",
    "\n",
    "# a)\n",
    "# At a confidence level of 99% and a significance level/p-value of 0.01 for a one-tailed test upper tail critical, df=n-1=9 t_value = 2.821\n",
    "mean = statistics.mean(temps)\n",
    "print(f'mean = {mean}')\n",
    "\n",
    "std_dev = statistics.stdev(temps)\n",
    "print(f'standard deviation = {std_dev}')\n",
    "\n",
    "std_err_mean = s/math.sqrt(n)\n",
    "print(f'std_err_mean = {std_err_mean}')\n",
    "\n",
    "t_ratio = (1.14-0)/std_err_mean\n",
    "print(f't_ratio = {t_ratio}')\n",
    "# Decision Reject H0 at the .01 level of significance because the t of 36.04996532591952 exceeds the critical t of 2.821."
   ]
  },
  {
   "cell_type": "code",
   "execution_count": 10,
   "id": "b49d4e52-b37b-4afb-90c8-cb54f133a94f",
   "metadata": {},
   "outputs": [
    {
     "name": "stdout",
     "output_type": "stream",
     "text": [
      "1.0372259760445275 1.2427740239554723\n"
     ]
    }
   ],
   "source": [
    "# b) Since H0 was rejected, a confidence interval is appropriate. At 99% confidence, significance level/p-value of 0.01\n",
    "# we will do a two-tailed test, df=n-1=9, that has a t_value = 3.25\n",
    "# 1.05079214720665 1.2292078527933499\n",
    "\n",
    "CI1 = X - (3.25*std_err_mean)\n",
    "CI2 = X + (3.25*std_err_mean)\n",
    "print(CI1,CI2)"
   ]
  },
  {
   "cell_type": "markdown",
   "id": "e7a3d02e-983e-49f2-850e-fee438ad7053",
   "metadata": {},
   "source": [
    "##### We can be 99 percent confident that the interval between 1.0372259760445275 and 1.2427740239554723 degrees Fahrenheit includes the true mean increase in global temperature above the average temperature for the twentieth century."
   ]
  },
  {
   "cell_type": "markdown",
   "id": "b9212b64-63ba-492c-84bd-cf92eb7cda2c",
   "metadata": {},
   "source": [
    "##### 13.8 Assume that, on average, healthy young adults dream 90 minutes each night, as inferred from a number of measures, including rapid eye movement (REM) sleep. An investigator wishes to determine whether drinking coffee just before going to sleep affects the amount of dream time. After drinking a standard amount of coffee, dream time is monitored for each of 28 healthy young adults in a random sample. Results show a sample mean, X , of 88 minutes and a sample standard deviation, s, of 9 minutes.\n",
    "(a) Use t to test the null hypothesis at the .05 level of significance.\n",
    "\n",
    "(b) If appropriate (because the null hypothesis has been rejected), construct a 95 percent confidence interval and interpret this interval.\n",
    "\n",
    "##### ESTIMATED STANDARD ERROR OF THE MEAN\n",
    "$S_\\overline{X}$ = $\\dfrac{S}{\\sqrt{n}}$\n",
    "\n",
    "###### where $S_\\overline{X}$ represents the estimated standard error of the mean; n equals the sample size; and s has been defined as S is the standard deviation\n",
    "$S$ = $\\sqrt{\\dfrac{{SS}}{n-1}}$ = $\\sqrt{\\dfrac{{SS}}{df}}$\n",
    "\n",
    "$SS$ = $\\Sigma({X}-\\overline{X})^2$ = $\\Sigma{X}^2$ $-$ $\\dfrac{(\\Sigma{X})^2}{n}$\n",
    "\n",
    "CONFIDENCE INTERVAL FOR μ BASED ON t\n",
    "\n",
    "$\\overline{X} \\pm (t_{conf})(S_{\\overline{X}})$\n",
    "\n",
    "##### t RATIO\n",
    "$t$ = $\\dfrac{sample~mean - hypothesized~population~mean}{estimated~standard~error}$ = $\\dfrac{\\overline{X} - \\mu_{hyp}}{S_{\\overline{X}}}$\n",
    "\n",
    "###### Statistical Hypotheses\n",
    "H0: $\\mu =$ 90\n",
    "\n",
    "H1: $\\mu \\neq$ 90"
   ]
  },
  {
   "cell_type": "code",
   "execution_count": 11,
   "id": "16b2c057-301d-4372-ab93-4837f5e17df5",
   "metadata": {},
   "outputs": [
    {
     "name": "stdout",
     "output_type": "stream",
     "text": [
      "std_err_mean = 1.7008401285415224\n",
      "t_ratio = -1.1758894715842625\n",
      "84.5098760562328 91.4901239437672\n"
     ]
    }
   ],
   "source": [
    "import statistics\n",
    "import math\n",
    "\n",
    "n = 28\n",
    "X = 88\n",
    "s = 9\n",
    "X_hyp = 90\n",
    "\n",
    "# a) 95% confidence with a significance level/p-value = 0.05, df = n-1=27, two-tailed test, t_value = 2.052\n",
    "std_err_mean = s/math.sqrt(n)\n",
    "print(f'std_err_mean = {std_err_mean}')\n",
    "\n",
    "t_ratio = (X - X_hyp)/std_err_mean\n",
    "print(f't_ratio = {t_ratio}')\n",
    "# retain null hypothesis because we have not disproven that the mean is not equal to 90 minutes\n",
    "\n",
    "# b) Confidence interval with 95% confidence and a significance level/p-value of 0.05, two-tailed test, df = n-1 = 27, has a t_value = 2.052\n",
    "CI1 = X - (2.052*std_err_mean)\n",
    "CI2 = X + (2.052*std_err_mean)\n",
    "print(CI1,CI2)"
   ]
  }
 ],
 "metadata": {
  "kernelspec": {
   "display_name": "Python 3 (ipykernel)",
   "language": "python",
   "name": "python3"
  },
  "language_info": {
   "codemirror_mode": {
    "name": "ipython",
    "version": 3
   },
   "file_extension": ".py",
   "mimetype": "text/x-python",
   "name": "python",
   "nbconvert_exporter": "python",
   "pygments_lexer": "ipython3",
   "version": "3.10.12"
  }
 },
 "nbformat": 4,
 "nbformat_minor": 5
}
