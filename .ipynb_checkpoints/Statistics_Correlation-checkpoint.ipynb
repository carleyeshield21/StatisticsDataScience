{
 "cells": [
  {
   "cell_type": "markdown",
   "id": "95add2ba-8754-4285-bd3b-54a77ce2417f",
   "metadata": {},
   "source": [
    "### r computation"
   ]
  },
  {
   "cell_type": "code",
   "execution_count": 1,
   "id": "758e0e1b-bb72-4492-b670-cdaec88073a1",
   "metadata": {},
   "outputs": [
    {
     "name": "stdout",
     "output_type": "stream",
     "text": [
      "12 14 32 28 42\n",
      "4.0 4.0 9.333333333333336 0.6546536707079771\n"
     ]
    }
   ],
   "source": [
    "import math \n",
    "x = [1,3,2,3,1,2]\n",
    "y = [2,4,3,2,0,3]\n",
    "# x = [13,9,7,5,1]\n",
    "# y = [14,18,12,10,6]\n",
    "n = len(x)\n",
    "sqx = [x**2 for x in x]\n",
    "sqy = [y**2 for y in y]\n",
    "xy = [x[n]*y[n] for n in range(0, len(x))]\n",
    "sumx = sum(x)\n",
    "sumy = sum(y)\n",
    "sumxy = sum(xy)\n",
    "sum_sqx = sum(sqx)\n",
    "sum_sqy = sum(sqy)\n",
    "spxy = sumxy - (sumx*sumy)/n\n",
    "ssx = sum_sqx - sumx**2/n\n",
    "ssy = sum_sqy - sumy**2/n\n",
    "r = spxy/math.sqrt(ssx*ssy)\n",
    "\n",
    "print(sumx,sumy,sumxy,sum_sqx,sum_sqy)\n",
    "print(spxy,ssx,ssy,r)"
   ]
  },
  {
   "cell_type": "code",
   "execution_count": 6,
   "id": "92d8f705-517b-46e9-a360-12b530b55c5d",
   "metadata": {},
   "outputs": [],
   "source": [
    "import matplotlib.pyplot as plt\n",
    "\n",
    "# negative relationship\n",
    "friend = ['Doris','Steve','Mike','Andrea','John']\n",
    "sent1 = [13,9,7,5,1]\n",
    "received1 = [6,10,14,12,18]\n",
    "\n",
    "# little or no relationship\n",
    "sent2 = [13,9,7,5,1]\n",
    "received2 = [10,18,12,6,114]\n",
    "\n",
    "# # Create a scatter plot\n",
    "# plt.scatter(x, y)\n",
    "\n",
    "# # Add labels and title\n",
    "# plt.xlabel('X-axis')\n",
    "# plt.ylabel('Y-axis')\n",
    "# plt.title('Scatter Plot Example')\n",
    "\n",
    "# # Show the plot\n",
    "plt.show()"
   ]
  }
 ],
 "metadata": {
  "kernelspec": {
   "display_name": "Python 3 (ipykernel)",
   "language": "python",
   "name": "python3"
  },
  "language_info": {
   "codemirror_mode": {
    "name": "ipython",
    "version": 3
   },
   "file_extension": ".py",
   "mimetype": "text/x-python",
   "name": "python",
   "nbconvert_exporter": "python",
   "pygments_lexer": "ipython3",
   "version": "3.10.12"
  }
 },
 "nbformat": 4,
 "nbformat_minor": 5
}
