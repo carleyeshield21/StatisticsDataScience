{
 "cells": [
  {
   "cell_type": "code",
   "execution_count": 8,
   "id": "c9fef5b9-f914-4260-b8af-a5fec31110b7",
   "metadata": {
    "scrolled": true
   },
   "outputs": [
    {
     "name": "stdout",
     "output_type": "stream",
     "text": [
      "spxy = 64.0\n",
      "ssx = 80.0\n",
      "ssy = 80.0\n",
      "r = 0.8\n",
      "sqx = [169, 81, 49, 25, 1]\n",
      "sqy = [196, 324, 144, 100, 36]\n"
     ]
    }
   ],
   "source": [
    "import math\n",
    "X = [13,9,7,5,1]\n",
    "Y = [14,18,12,10,6]\n",
    "\n",
    "n = len(X)\n",
    "sqx = [x**2 for x in X]\n",
    "sqy = [y**2 for y in Y]\n",
    "xy = [X[n]*Y[n] for n in range(0, len(X))]\n",
    "sumx = sum(X)\n",
    "sumy = sum(Y)\n",
    "sumxy = sum(xy)\n",
    "sum_sqx = sum(sqx)\n",
    "sum_sqy = sum(sqy)\n",
    "spxy = sumxy - (sumx*sumy)/n\n",
    "ssx = sum_sqx - sumx**2/n\n",
    "ssy = sum_sqy - sumy**2/n\n",
    "r = spxy/math.sqrt(ssx*ssy)\n",
    "\n",
    "print(f'spxy = {spxy}\\nssx = {ssx}\\nssy = {ssy}\\nr = {r}')\n",
    "print(f'sqx = {sqx}\\nsqy = {sqy}')"
   ]
  },
  {
   "cell_type": "markdown",
   "id": "7c2d6fb9-9ec1-4ade-8a81-5a6c7d24a130",
   "metadata": {},
   "source": [
    "### Least Squares Regression Equation\n",
    "\n",
    "$b = r\\sqrt{\\dfrac{SS_y}{SS_x}}$\n",
    "\n",
    "$a = \\overline{Y} - b\\overline{X}$\n",
    "\n",
    "$Y' = b\\overline{X} + a$"
   ]
  },
  {
   "cell_type": "code",
   "execution_count": 12,
   "id": "ecca9e2b-b994-4d50-ab55-849fd180618a",
   "metadata": {},
   "outputs": [
    {
     "name": "stdout",
     "output_type": "stream",
     "text": [
      "6.3999999999999995 0.8\n"
     ]
    }
   ],
   "source": [
    "b = r*(math.sqrt(ssx/ssy))\n",
    "# Taking [7,12] from the list, as Xbar and Ybar\n",
    "a = 12 - (b*7)\n",
    "print(a,b)\n",
    "# Y_prime = b*X + a\n",
    "# Y_prime = (0.8)X + 6.3999999999999995"
   ]
  },
  {
   "cell_type": "markdown",
   "id": "30569fe7-a2d0-40cc-b3e3-4ee767aebd8b",
   "metadata": {},
   "source": [
    "### Progress Check"
   ]
  },
  {
   "cell_type": "code",
   "execution_count": 13,
   "id": "6aac3cb1-3ae9-4a57-b54b-afd0569bc45f",
   "metadata": {},
   "outputs": [],
   "source": [
    "# EDUCATIONAL LEVEL (X)\n",
    "# X = 13\n",
    "# SSx = 25\n",
    "# WEEKLY READING TIME (Y)\n",
    "# Y = 8\n",
    "# SSy = 50\n",
    "# r = .30"
   ]
  },
  {
   "cell_type": "code",
   "execution_count": 20,
   "id": "1cd1eb74-54ee-49e8-b45f-b5ef6c1279bd",
   "metadata": {
    "scrolled": true
   },
   "outputs": [
    {
     "name": "stdout",
     "output_type": "stream",
     "text": [
      "2.4845671067449295 0.4242640687119285\n"
     ]
    }
   ],
   "source": [
    "X = 13\n",
    "Y = 8\n",
    "b = 0.3*(math.sqrt(50/25))\n",
    "a = Y - (b*X)\n",
    "print(a,b)"
   ]
  },
  {
   "cell_type": "code",
   "execution_count": 23,
   "id": "b870cb83-dbcc-4ab5-8c30-c14596608235",
   "metadata": {
    "scrolled": true
   },
   "outputs": [
    {
     "name": "stdout",
     "output_type": "stream",
     "text": [
      "8.848528137423857\n",
      "7.151471862576143\n"
     ]
    }
   ],
   "source": [
    "# (a) Determine the least squares equation for predicting weekly reading time from educational level.\n",
    "# Answer:\n",
    "# Y' = 0.4242640687119285(X) + 2.4845671067449295\n",
    "\n",
    "# (b) Faith’s education level is 15. What is her predicted reading time?\n",
    "# Answer:\n",
    "Y_prime1 = 0.4242640687119285*15 + 2.4845671067449295\n",
    "print(Y_prime1)\n",
    "\n",
    "# (c) Keegan’s educational level is 11. What is his predicted reading time?\n",
    "# Answer:\n",
    "Y_prime2 = 0.4242640687119285*11 + 2.4845671067449295\n",
    "print(Y_prime2)"
   ]
  },
  {
   "cell_type": "markdown",
   "id": "fbd31559-b58c-482c-bd51-651eac723bcc",
   "metadata": {},
   "source": [
    "##### Table 7.2\n",
    "PREDICTED CARD\n",
    "RETURNS (Y ′) FOR\n",
    "DIFFERENT CARD\n",
    "INVESTMENTS (X )\n",
    "\n",
    "$ r = \\frac{SP_{xy}}{\\sqrt{SS_xSS_y}}$\n",
    "\n",
    "$b = r\\sqrt{\\dfrac{SS_y}{SS_x}}$\n",
    "\n",
    "$a = \\overline{Y} - b\\overline{X}$\n",
    "\n",
    "$Y' = b\\overline{X} + a$"
   ]
  },
  {
   "cell_type": "code",
   "execution_count": 7,
   "id": "a65fa3cc-02a8-4265-8c93-6f4239519f2c",
   "metadata": {},
   "outputs": [],
   "source": [
    "import statistics\n",
    "friend = ['Doris','Steve','Mike','Andrea','John']\n",
    "# X = [13,9,7,5,1]\n",
    "\n",
    "X = [0,4,8,10,12,20,30]\n",
    "mean = statistics.mean(X)\n",
    "Y_prime = [6.40,9.60,12.80,14.40,16.00,22.40,30.40]"
   ]
  }
 ],
 "metadata": {
  "kernelspec": {
   "display_name": "Python 3 (ipykernel)",
   "language": "python",
   "name": "python3"
  },
  "language_info": {
   "codemirror_mode": {
    "name": "ipython",
    "version": 3
   },
   "file_extension": ".py",
   "mimetype": "text/x-python",
   "name": "python",
   "nbconvert_exporter": "python",
   "pygments_lexer": "ipython3",
   "version": "3.10.12"
  }
 },
 "nbformat": 4,
 "nbformat_minor": 5
}
