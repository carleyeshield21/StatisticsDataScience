{
 "cells": [
  {
   "cell_type": "code",
   "execution_count": 1,
   "id": "a93ec850-d18e-4da7-8f31-15627df3a91c",
   "metadata": {
    "scrolled": true
   },
   "outputs": [
    {
     "name": "stdout",
     "output_type": "stream",
     "text": [
      "[[0, 4, 2], [3, 6, 6], [6, 8, 10]]\n"
     ]
    }
   ],
   "source": [
    "X0 = [0,4,2]\n",
    "X24 = [3,6,6]\n",
    "X48 = [6,8,10]\n",
    "a = [X0,X24,X48]\n",
    "print(a)"
   ]
  },
  {
   "cell_type": "code",
   "execution_count": 2,
   "id": "a7408a28-3e78-4b6f-b58b-355a720b2288",
   "metadata": {
    "scrolled": true
   },
   "outputs": [
    {
     "name": "stdout",
     "output_type": "stream",
     "text": [
      "result = [(0, 3, 6), (4, 6, 8), (2, 6, 10)]\n",
      "result1 = [([0, 4, 2],), ([3, 6, 6],), ([6, 8, 10],)]\n",
      "a = [0, 3, 6]\n",
      "b = [4, 6, 8]\n",
      "c = [2, 6, 10]\n",
      "d = [[0, 4, 2]]\n",
      "e = [[3, 6, 6]]\n",
      "f = [[6, 8, 10]]\n"
     ]
    }
   ],
   "source": [
    "# Input lists\n",
    "X0 = [0, 4, 2]\n",
    "X24 = [3, 6, 6]\n",
    "X48 = [6, 8, 10]\n",
    "a = [X0,X24,X48]\n",
    "# Transpose the lists\n",
    "result = list(zip(X0, X24, X48))\n",
    "print(f'result = {result}')\n",
    "result1 = list(zip(a))\n",
    "print(f'result1 = {result1}')\n",
    "\n",
    "# Unpack the transposed lists into separate variables\n",
    "a, b, c = [list(column) for column in result]\n",
    "\n",
    "d, e, f = [list(column) for column in result1]\n",
    "\n",
    "# Print the output\n",
    "print(\"a =\", a)\n",
    "print(\"b =\", b)\n",
    "print(\"c =\", c)\n",
    "\n",
    "print(\"d =\", d)\n",
    "print(\"e =\", e)\n",
    "print(\"f =\", f)"
   ]
  },
  {
   "cell_type": "code",
   "execution_count": 23,
   "id": "534b976d-71fd-4e0d-a861-98e45cd08be3",
   "metadata": {
    "scrolled": true
   },
   "outputs": [
    {
     "name": "stdout",
     "output_type": "stream",
     "text": [
      "result = [(0, 3, 6), (4, 6, 8), (2, 6, 10)]\n",
      "result1 = [(0, 3, 6), (4, 6, 8), (2, 6, 10)]\n",
      "result2 = [([0, 4, 2],), ([3, 6, 6],), ([6, 8, 10],)]\n",
      "0 [0, 4, 2]\n",
      "1 [3, 6, 6]\n",
      "2 [6, 8, 10]\n",
      "['X0', 'X1', 'X2']\n"
     ]
    }
   ],
   "source": [
    "X0 = [0, 4, 2]\n",
    "X24 = [3, 6, 6]\n",
    "X48 = [6, 8, 10]\n",
    "a = [X0,X24,X48]\n",
    "result = list(zip(X0, X24, X48))\n",
    "result1 = list(zip([0, 4, 2], [3, 6, 6], [6, 8, 10]))\n",
    "result2 =  list(zip(a))\n",
    "print(f'result = {result}')\n",
    "print(f'result1 = {result1}')\n",
    "print(f'result2 = {result2}')\n",
    "\n",
    "for index, n in enumerate(a):\n",
    "    print(index, n)\n",
    "\n",
    "print([f'X{index}' for index, n in enumerate(a)])"
   ]
  },
  {
   "cell_type": "code",
   "execution_count": 37,
   "id": "92fbde6d-e1cc-4bb7-96f5-341b412ac3a4",
   "metadata": {},
   "outputs": [
    {
     "name": "stdout",
     "output_type": "stream",
     "text": [
      "True\n",
      "a = [0, 3, 6]\n",
      "b = [4, 6, 8]\n",
      "c = [2, 6, 10]\n"
     ]
    }
   ],
   "source": [
    "# Input lists\n",
    "# X0 = [0, 4, 2]\n",
    "# X24 = [3, 6, 6]\n",
    "# X48 = [6, 8, 10]\n",
    "a = [0, 4, 2],[3, 6, 6],[6, 8, 10]\n",
    "# Output lists using list comprehension with zip\n",
    "# a, b, c = [list(column) for column in zip(X0, X24, X48)]\n",
    "\n",
    "print(a == ([0, 4, 2],[3, 6, 6],[6, 8, 10]))\n",
    "\n",
    "a, b, c = [list(column) for column in zip([0, 4, 2],[3, 6, 6],[6, 8, 10])]\n",
    "\n",
    "# # Print the output\n",
    "print(\"a =\", a)\n",
    "print(\"b =\", b)\n",
    "print(\"c =\", c)"
   ]
  }
 ],
 "metadata": {
  "kernelspec": {
   "display_name": "Python 3 (ipykernel)",
   "language": "python",
   "name": "python3"
  },
  "language_info": {
   "codemirror_mode": {
    "name": "ipython",
    "version": 3
   },
   "file_extension": ".py",
   "mimetype": "text/x-python",
   "name": "python",
   "nbconvert_exporter": "python",
   "pygments_lexer": "ipython3",
   "version": "3.10.12"
  }
 },
 "nbformat": 4,
 "nbformat_minor": 5
}
