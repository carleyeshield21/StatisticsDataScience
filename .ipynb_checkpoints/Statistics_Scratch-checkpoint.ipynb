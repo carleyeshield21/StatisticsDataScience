{
 "cells": [
  {
   "cell_type": "code",
   "execution_count": 1,
   "id": "446b5545-b56b-42be-a930-b1a89fdeaf22",
   "metadata": {
    "scrolled": true
   },
   "outputs": [
    {
     "name": "stdout",
     "output_type": "stream",
     "text": [
      "6\n",
      "6 4 2\n",
      "11 3 0\n",
      "5 4 1\n",
      "7 6 2\n",
      "4 6 4\n",
      "10 7 5\n",
      "n = 0\n",
      "[6, 4, 2]\n",
      "+++++\n",
      "n = 1\n",
      "[11, 3, 0]\n",
      "+++++\n",
      "n = 2\n",
      "[5, 4, 1]\n",
      "+++++\n",
      "n = 3\n",
      "[7, 6, 2]\n",
      "+++++\n",
      "n = 4\n",
      "[4, 6, 4]\n",
      "+++++\n",
      "n = 5\n",
      "[10, 7, 5]\n",
      "+++++\n",
      "[[6, 4, 2], [11, 3, 0], [5, 4, 1], [7, 6, 2], [4, 6, 4], [10, 7, 5]]\n"
     ]
    }
   ],
   "source": [
    "silence = [6,11,5,7,4,10]\n",
    "white_noise = [4,3,4,6,6,7]\n",
    "rock = [2,0,1,2,4,5]\n",
    "list = [silence,white_noise,rock]\n",
    "print(len(list[0]))\n",
    "\n",
    "print(list[0][0],list[1][0],list[2][0])\n",
    "print(list[0][1],list[1][1],list[2][1])\n",
    "print(list[0][2],list[1][2],list[2][2])\n",
    "print(list[0][3],list[1][3],list[2][3])\n",
    "print(list[0][4],list[1][4],list[2][4])\n",
    "print(list[0][5],list[1][5],list[2][5])\n",
    "\n",
    "silence = [6,11,5,7,4,10]\n",
    "white_noise = [4,3,4,6,6,7]\n",
    "rock = [2,0,1,2,4,5]\n",
    "list = [silence,white_noise,rock]\n",
    "\n",
    "# list = [[0,4,2],[3,6,6],[6,8,10]]\n",
    "# list = [[0,4],[3,6],[6,8]]\n",
    "final = []\n",
    "n = 0\n",
    "while n < len(list[0]):\n",
    "    print(f'n = {n}')\n",
    "    temp = []\n",
    "    final.append(temp)\n",
    "    for i in range(len(list)):\n",
    "        # print(f'i = {i}')\n",
    "        # print(list[i][n])\n",
    "        temp.append(list[i][n])\n",
    "    print(temp)\n",
    "    n+=1\n",
    "    print('+++++')\n",
    "print(final)"
   ]
  },
  {
   "cell_type": "code",
   "execution_count": 12,
   "id": "9de404ee-e585-46a3-880f-92cee15aa182",
   "metadata": {},
   "outputs": [
    {
     "name": "stdout",
     "output_type": "stream",
     "text": [
      "joined = [ 1  0  0  2  3  4  2  1  2  1  2  4  4  6  3  3  4  2  3  6  7  8  5  5\n",
      "  7  1  6  9 10 12  8  7]\n",
      "T_sq_n = [21.125, 78.125, 200.0, 450.0]\n",
      "sum_T_sq_n = 749.25\n",
      "sum_T_subject = [14, 4, 11, 21, 24, 30, 18, 16]\n",
      "G = 138\n",
      "SS_between = 154.125\n",
      "SS_within = 132.75\n",
      "SS_subject = 112.375\n",
      "SS_error = 20.375\n",
      "SS_total = 286.875\n",
      "SS_error = 20.375\n"
     ]
    }
   ],
   "source": [
    "import statistics,math,numpy\n",
    "zero = [1,0,0,2,3,4,2,1]\n",
    "one = [2,1,2,4,4,6,3,3]\n",
    "two = [4,2,3,6,7,8,5,5]\n",
    "three = [7,1,6,9,10,12,8,7]\n",
    "list = [zero,one,two,three]\n",
    "\n",
    "# X0 = [0,4,2]\n",
    "# X24 = [3,6,6]\n",
    "# X48 = [6,8,10]\n",
    "# list = [X0,X24,X48]\n",
    "\n",
    "joined = numpy.concatenate(list)\n",
    "print(f'joined = {joined}')\n",
    "n = 8\n",
    "N = 32\n",
    "k = 4\n",
    "# n = 3\n",
    "# N = 9\n",
    "# k = 3\n",
    "T_sq_n = [(sum(item)**2)/n for item in list]\n",
    "print(f'T_sq_n = {T_sq_n}')\n",
    "sum_T_sq_n = sum(T_sq_n)\n",
    "print(f'sum_T_sq_n = {sum_T_sq_n}')\n",
    "T_subject = [[1,2,4,7],[0,1,2,1],[0,2,3,6],[2,4,6,9],[3,4,7,10],[4,6,8,12],[2,3,5,8],[1,3,5,7]]\n",
    "# T_subject = [[0,3,6],[4,6,8],[2,6,10]]\n",
    "sum_T_subject = [sum(list) for list in T_subject]\n",
    "print(f'sum_T_subject = {sum_T_subject}')\n",
    "G = sum([sum(j) for j in T_subject])\n",
    "print(f'G = {G}')\n",
    "SS_between = sum_T_sq_n - G**2/N\n",
    "print(f'SS_between = {SS_between}')\n",
    "SS_within = sum([num**2 for num in joined]) - sum_T_sq_n\n",
    "print(f'SS_within = {SS_within}')\n",
    "SS_subject = sum([num**2/k for num in sum_T_subject]) - G**2/N\n",
    "print(f'SS_subject = {SS_subject}')\n",
    "SS_error = SS_within - SS_subject\n",
    "print(f'SS_error = {SS_error}')\n",
    "SS_total = sum([num**2 for num in joined]) - G**2/N\n",
    "print(f'SS_total = {SS_total}')"
   ]
  }
 ],
 "metadata": {
  "kernelspec": {
   "display_name": "Python 3 (ipykernel)",
   "language": "python",
   "name": "python3"
  },
  "language_info": {
   "codemirror_mode": {
    "name": "ipython",
    "version": 3
   },
   "file_extension": ".py",
   "mimetype": "text/x-python",
   "name": "python",
   "nbconvert_exporter": "python",
   "pygments_lexer": "ipython3",
   "version": "3.10.12"
  }
 },
 "nbformat": 4,
 "nbformat_minor": 5
}
