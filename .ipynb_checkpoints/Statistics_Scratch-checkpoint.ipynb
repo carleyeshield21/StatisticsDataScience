{
 "cells": [
  {
   "cell_type": "code",
   "execution_count": 1,
   "id": "87676c74-4c41-40ea-8c8e-42d3ef21f6b2",
   "metadata": {},
   "outputs": [
    {
     "name": "stdout",
     "output_type": "stream",
     "text": [
      "Mean Difference Score: 0.2228571428571428\n",
      "T-Statistic: 3.6644226528474397\n",
      "Critical Value of t: 3.707428021324907\n",
      "P-Value: 0.010523873876434144\n",
      "Cohen's d: 0.33423796941447365\n",
      "Is the p-value less than 0.05? True\n"
     ]
    }
   ],
   "source": [
    "import numpy as np\n",
    "from scipy import stats\n",
    "\n",
    "# Data\n",
    "physical_exercise = np.array([4.00, 2.67, 3.65, 2.11, 3.21, 3.60, 2.80])\n",
    "no_physical_exercise = np.array([3.75, 2.74, 3.42, 1.67, 3.00, 3.25, 2.65])\n",
    "\n",
    "# Paired t-test\n",
    "t_statistic, p_value = stats.ttest_rel(physical_exercise, no_physical_exercise)\n",
    "\n",
    "# Calculate mean difference score\n",
    "mean_difference = np.mean(physical_exercise - no_physical_exercise)\n",
    "\n",
    "# Critical value for a two-tailed test at 0.01 significance level\n",
    "alpha = 0.01\n",
    "t_critical = stats.t.ppf(1 - alpha / 2, len(physical_exercise) - 1)\n",
    "\n",
    "# Cohen's d\n",
    "pooled_std = np.sqrt(((len(physical_exercise) - 1) * np.var(physical_exercise, ddof=1) + (len(no_physical_exercise) - 1) * np.var(no_physical_exercise, ddof=1)) / (len(physical_exercise) + len(no_physical_exercise) - 2))\n",
    "cohens_d = mean_difference / pooled_std\n",
    "\n",
    "# Output results\n",
    "print(\"Mean Difference Score:\", mean_difference)\n",
    "print(\"T-Statistic:\", t_statistic)\n",
    "print(\"Critical Value of t:\", t_critical)\n",
    "print(\"P-Value:\", p_value)\n",
    "print(\"Cohen's d:\", cohens_d)\n",
    "print(\"Is the p-value less than 0.05?\", p_value < 0.05)"
   ]
  },
  {
   "cell_type": "code",
   "execution_count": null,
   "id": "f1e7ad4a-da4f-4b08-a4ae-0ba4371b6b02",
   "metadata": {},
   "outputs": [],
   "source": [
    "import numpy as np\n",
    "from scipy import stats\n",
    "\n",
    "# Data\n",
    "physical_exercise = np.array([12, 5, 11, 11, 9, 18])\n",
    "no_physical_exercise = np.array([7, 3, 4, 6, 3, 13])\n",
    "\n",
    "# Independent samples t-test\n",
    "t_statistic, p_value = stats.ttest_ind(physical_exercise, no_physical_exercise)\n",
    "\n",
    "# Degrees of freedom\n",
    "df = len(physical_exercise) + len(no_physical_exercise) - 2\n",
    "\n",
    "# Critical value for a two-tailed test at 0.01 significance level\n",
    "alpha = 0.01\n",
    "t_critical = stats.t.ppf(1 - alpha / 2, df)\n",
    "\n",
    "# Cohen's d\n",
    "pooled_std = np.sqrt(((len(physical_exercise) - 1) * np.var(physical_exercise, ddof=1) + (len(no_physical_exercise) - 1) * np.var(no_physical_exercise, ddof=1)) / df)\n",
    "cohens_d = (np.mean(physical_exercise) - np.mean(no_physical_exercise)) / pooled_std\n",
    "\n",
    "# Output results\n",
    "print(\"T-Statistic:\", t_statistic)\n",
    "print(\"Critical Value of t:\", t_critical)\n",
    "print(\"P-Value:\", p_value)\n",
    "print(\"Cohen's d:\", cohens_d)\n",
    "print(\"Should we retain the null hypothesis?\", p_value >= 0.01)"
   ]
  }
 ],
 "metadata": {
  "kernelspec": {
   "display_name": "Python 3 (ipykernel)",
   "language": "python",
   "name": "python3"
  },
  "language_info": {
   "codemirror_mode": {
    "name": "ipython",
    "version": 3
   },
   "file_extension": ".py",
   "mimetype": "text/x-python",
   "name": "python",
   "nbconvert_exporter": "python",
   "pygments_lexer": "ipython3",
   "version": "3.10.12"
  }
 },
 "nbformat": 4,
 "nbformat_minor": 5
}
