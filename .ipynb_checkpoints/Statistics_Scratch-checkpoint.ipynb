{
 "cells": [
  {
   "cell_type": "code",
   "execution_count": 1,
   "id": "781e7af6-0d19-4907-8e39-130a12c22c5f",
   "metadata": {},
   "outputs": [
    {
     "name": "stdout",
     "output_type": "stream",
     "text": [
      "T-statistic: -3.7370465934182984\n",
      "P-value: 0.004646628087613753\n",
      "Critical value: 2.2621571627409915\n",
      "Reject the null hypothesis\n"
     ]
    }
   ],
   "source": [
    "import numpy as np\n",
    "from scipy.stats import ttest_rel\n",
    "\n",
    "# Data\n",
    "vitamin_c = np.array([2, 5, 7, 0, 3, 7, 4, 5, 1, 3])\n",
    "fake_vitamin_c = np.array([3, 4, 9, 3, 5, 7, 6, 8, 2, 5])\n",
    "\n",
    "# Paired t-test\n",
    "t_stat, p_value = ttest_rel(vitamin_c, fake_vitamin_c)\n",
    "\n",
    "# Degrees of freedom\n",
    "df = len(vitamin_c) - 1\n",
    "\n",
    "# Two-tailed critical t-value for alpha = 0.05\n",
    "alpha = 0.05\n",
    "critical_t = -np.abs(t.ppf(alpha / 2, df))\n",
    "\n",
    "# Print results\n",
    "print(f'T-statistic: {t_stat:.4f}')\n",
    "print(f'P-value: {p_value:.4f}')\n",
    "print(f'Degrees of Freedom: {df}')\n",
    "print(f'Critical t-value: {critical_t:.4f}')\n",
    "\n",
    "# Reject the null hypothesis if the absolute t-statistic is greater than the critical t-value\n",
    "reject_null = np.abs(t_stat) > critical_t\n",
    "print(f'Reject Null Hypothesis: {reject_null}')\n",
    "\n",
    "# Cohen's d calculation\n",
    "mean_diff = np.mean(vitamin_c - fake_vitamin_c)\n",
    "pooled_std = np.sqrt((np.std(vitamin_c, ddof=1)**2 + np.std(fake_vitamin_c, ddof=1)**2) / 2)\n",
    "cohen_d = mean_diff / pooled_std\n",
    "\n",
    "print(f'Cohen\\'s d: {cohen_d:.4f}')"
   ]
  }
 ],
 "metadata": {
  "kernelspec": {
   "display_name": "Python 3 (ipykernel)",
   "language": "python",
   "name": "python3"
  },
  "language_info": {
   "codemirror_mode": {
    "name": "ipython",
    "version": 3
   },
   "file_extension": ".py",
   "mimetype": "text/x-python",
   "name": "python",
   "nbconvert_exporter": "python",
   "pygments_lexer": "ipython3",
   "version": "3.10.12"
  }
 },
 "nbformat": 4,
 "nbformat_minor": 5
}
