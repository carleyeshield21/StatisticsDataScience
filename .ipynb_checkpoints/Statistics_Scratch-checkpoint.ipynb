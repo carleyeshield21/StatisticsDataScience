{
 "cells": [
  {
   "cell_type": "code",
   "execution_count": 1,
   "id": "446b5545-b56b-42be-a930-b1a89fdeaf22",
   "metadata": {
    "scrolled": true
   },
   "outputs": [
    {
     "name": "stdout",
     "output_type": "stream",
     "text": [
      "6\n",
      "6 4 2\n",
      "11 3 0\n",
      "5 4 1\n",
      "7 6 2\n",
      "4 6 4\n",
      "10 7 5\n",
      "n = 0\n",
      "[6, 4, 2]\n",
      "+++++\n",
      "n = 1\n",
      "[11, 3, 0]\n",
      "+++++\n",
      "n = 2\n",
      "[5, 4, 1]\n",
      "+++++\n",
      "n = 3\n",
      "[7, 6, 2]\n",
      "+++++\n",
      "n = 4\n",
      "[4, 6, 4]\n",
      "+++++\n",
      "n = 5\n",
      "[10, 7, 5]\n",
      "+++++\n",
      "[[6, 4, 2], [11, 3, 0], [5, 4, 1], [7, 6, 2], [4, 6, 4], [10, 7, 5]]\n"
     ]
    }
   ],
   "source": [
    "silence = [6,11,5,7,4,10]\n",
    "white_noise = [4,3,4,6,6,7]\n",
    "rock = [2,0,1,2,4,5]\n",
    "list = [silence,white_noise,rock]\n",
    "print(len(list[0]))\n",
    "\n",
    "print(list[0][0],list[1][0],list[2][0])\n",
    "print(list[0][1],list[1][1],list[2][1])\n",
    "print(list[0][2],list[1][2],list[2][2])\n",
    "print(list[0][3],list[1][3],list[2][3])\n",
    "print(list[0][4],list[1][4],list[2][4])\n",
    "print(list[0][5],list[1][5],list[2][5])\n",
    "\n",
    "silence = [6,11,5,7,4,10]\n",
    "white_noise = [4,3,4,6,6,7]\n",
    "rock = [2,0,1,2,4,5]\n",
    "list = [silence,white_noise,rock]\n",
    "\n",
    "# list = [[0,4,2],[3,6,6],[6,8,10]]\n",
    "# list = [[0,4],[3,6],[6,8]]\n",
    "final = []\n",
    "n = 0\n",
    "while n < len(list[0]):\n",
    "    print(f'n = {n}')\n",
    "    temp = []\n",
    "    final.append(temp)\n",
    "    for i in range(len(list)):\n",
    "        # print(f'i = {i}')\n",
    "        # print(list[i][n])\n",
    "        temp.append(list[i][n])\n",
    "    print(temp)\n",
    "    n+=1\n",
    "    print('+++++')\n",
    "print(final)"
   ]
  },
  {
   "cell_type": "code",
   "execution_count": null,
   "id": "3fe5357b-2173-4074-8ba8-3f67c538f037",
   "metadata": {},
   "outputs": [],
   "source": [
    "sum_cell_items = [16, 14, 18, 20, 34, 42]"
   ]
  }
 ],
 "metadata": {
  "kernelspec": {
   "display_name": "Python 3 (ipykernel)",
   "language": "python",
   "name": "python3"
  },
  "language_info": {
   "codemirror_mode": {
    "name": "ipython",
    "version": 3
   },
   "file_extension": ".py",
   "mimetype": "text/x-python",
   "name": "python",
   "nbconvert_exporter": "python",
   "pygments_lexer": "ipython3",
   "version": "3.10.12"
  }
 },
 "nbformat": 4,
 "nbformat_minor": 5
}
