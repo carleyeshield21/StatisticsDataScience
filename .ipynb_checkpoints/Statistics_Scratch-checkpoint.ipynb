{
 "cells": [
  {
   "cell_type": "markdown",
   "id": "40149df9-82b4-467a-b4b3-e5aab329029a",
   "metadata": {},
   "source": [
    "#### Markdown\n",
    "$\\overline{D}=0.22285714285714286$\n",
    "\n",
    "$\\Sigma{D}=1.5599999999999996$\n",
    "\n",
    "$\\Sigma{D^2}=0.503$\n",
    "\n",
    "$SS_D=0.15534285714285728$\n",
    "\n",
    "$S_D=0.16090517763725384$\n",
    "\n",
    "$S_\\overline{D}=0.06081644067012074$\n",
    "\n",
    "$t=3.664422652847441$\n",
    "\n",
    "$d=1.3850215768665575$"
   ]
  },
  {
   "cell_type": "markdown",
   "id": "ed9e1edc-2e3d-4243-8f7f-96729babb97a",
   "metadata": {},
   "source": [
    "### Sample Sums of Squares\n",
    "$SS_D=\\Sigma{D}^2-\\dfrac{(\\Sigma{D})^2}{n}$\n",
    "\n",
    "#### SAMPLE STANDARD DEVIATION, $S_D$\n",
    "\n",
    "$S_D = \\sqrt{\\dfrac{SS_D}{n-1}}$\n",
    "\n",
    "#### ESTIMATED STANDARD ERROR, $S_\\overline{D}$\n",
    "\n",
    "$S_\\overline{D}=\\dfrac{S_D}{\\sqrt{n}}$\n",
    "\n",
    "$t = \\dfrac{\\overline{D}-\\mu_{D_{hyp}}}{S_\\overline{D}}$\n",
    "\n",
    "$d=\\dfrac{\\overline{D}}{S_D}$\n",
    "\n",
    "$\\bullet$"
   ]
  },
  {
   "cell_type": "code",
   "execution_count": 14,
   "id": "b9c3b0ed-1191-4576-b4d5-e91805ec454c",
   "metadata": {
    "scrolled": true
   },
   "outputs": [
    {
     "name": "stdout",
     "output_type": "stream",
     "text": [
      "One-tailed t-test:\n",
      "T-statistic: 2.4868307843382595\n",
      "P-value: 0.01730073259561529\n",
      "Is the p-value greater than 0.05? No\n",
      "\n",
      "95% Confidence Interval:\n",
      "Lower bound: 1.6171819377172696\n",
      "Upper bound: 34.18281806228273\n",
      "\n",
      "Cohen's d:\n",
      "Cohen's d: 1.1121445364638938\n"
     ]
    }
   ],
   "source": [
    "import numpy as np\n",
    "from scipy.stats import ttest_1samp, t\n",
    "\n",
    "# Given data\n",
    "difference_scores = [28, 53, 17, 37, 27, 27, 22, -25, -7, 0]\n",
    "\n",
    "# Perform one-sample t-test\n",
    "t_stat, p_value = ttest_1samp(difference_scores, 0)\n",
    "\n",
    "# Degrees of freedom\n",
    "df = len(difference_scores) - 1\n",
    "\n",
    "# Calculate confidence interval\n",
    "confidence_level = 0.95\n",
    "alpha = 1 - confidence_level\n",
    "t_critical = t.ppf(1 - alpha / 2, df)\n",
    "margin_of_error = t_critical * np.std(difference_scores, ddof=1) / np.sqrt(len(difference_scores))\n",
    "confidence_interval = (np.mean(difference_scores) - margin_of_error, np.mean(difference_scores) + margin_of_error)\n",
    "\n",
    "# Calculate Cohen's d\n",
    "pooled_std_dev = np.sqrt((np.var(difference_scores, ddof=1) + np.var([0] * len(difference_scores), ddof=1)) / 2)\n",
    "cohens_d = np.mean(difference_scores) / pooled_std_dev\n",
    "\n",
    "# Print results\n",
    "print(\"One-tailed t-test:\")\n",
    "print(f\"T-statistic: {t_stat}\")\n",
    "print(f\"P-value: {p_value / 2}\")  # Divide by 2 for a one-tailed test\n",
    "print(f\"Is the p-value greater than 0.05? {'Yes' if p_value / 2 > 0.05 else 'No'}\")\n",
    "\n",
    "print(\"\\n95% Confidence Interval:\")\n",
    "print(f\"Lower bound: {confidence_interval[0]}\")\n",
    "print(f\"Upper bound: {confidence_interval[1]}\")\n",
    "\n",
    "print(\"\\nCohen's d:\")\n",
    "print(f\"Cohen's d: {cohens_d}\")"
   ]
  },
  {
   "cell_type": "code",
   "execution_count": 2,
   "id": "d907f057-2c3d-443d-af67-f9d4ed9e15c0",
   "metadata": {},
   "outputs": [
    {
     "ename": "SyntaxError",
     "evalue": "unterminated string literal (detected at line 2) (3967002004.py, line 2)",
     "output_type": "error",
     "traceback": [
      "\u001b[0;36m  Cell \u001b[0;32mIn[2], line 2\u001b[0;36m\u001b[0m\n\u001b[0;31m    image_path = 'stat_infographic/Cohen's_effect.png'\u001b[0m\n\u001b[0m                                                     ^\u001b[0m\n\u001b[0;31mSyntaxError\u001b[0m\u001b[0;31m:\u001b[0m unterminated string literal (detected at line 2)\n"
     ]
    }
   ],
   "source": [
    "from IPython.display import Image\n",
    "image_path = \"stat_infographic/Cohen's_effect.png\"\n",
    "Image(filename=image_path)"
   ]
  }
 ],
 "metadata": {
  "kernelspec": {
   "display_name": "Python 3 (ipykernel)",
   "language": "python",
   "name": "python3"
  },
  "language_info": {
   "codemirror_mode": {
    "name": "ipython",
    "version": 3
   },
   "file_extension": ".py",
   "mimetype": "text/x-python",
   "name": "python",
   "nbconvert_exporter": "python",
   "pygments_lexer": "ipython3",
   "version": "3.10.12"
  }
 },
 "nbformat": 4,
 "nbformat_minor": 5
}
