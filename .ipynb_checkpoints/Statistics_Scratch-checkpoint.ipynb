{
 "cells": [
  {
   "cell_type": "code",
   "execution_count": 1,
   "id": "e6bbddd4-fa81-4b18-97b8-2a332f0c5b5b",
   "metadata": {
    "scrolled": true
   },
   "outputs": [
    {
     "name": "stdout",
     "output_type": "stream",
     "text": [
      "temp = [0, 3, 6]\n",
      "temp = [4, 6, 8]\n",
      "temp = [2, 6, 10]\n",
      "[[0, 3, 6], [4, 6, 8], [2, 6, 10]]\n"
     ]
    }
   ],
   "source": [
    "# Example double for loop\n",
    "# print(b[0][0],b[1][0],b[2][0])\n",
    "# print(b[0][1],b[1][1],b[2][1])\n",
    "# print(b[0][2],b[1][2],b[2][2])\\\n",
    "\n",
    "b = [[0,4,2],[3,6,6],[6,8,10]]\n",
    "final = []\n",
    "for index, item in enumerate(b):\n",
    "    # print(index)\n",
    "    temp = []\n",
    "    final.append(temp)\n",
    "    for n in range(3):\n",
    "        # print(f'n = {n}')\n",
    "        # print(b[n][index])\n",
    "        temp.append(b[n][index])\n",
    "    print(f'temp = {temp}')\n",
    "print(final)"
   ]
  }
 ],
 "metadata": {
  "kernelspec": {
   "display_name": "Python 3 (ipykernel)",
   "language": "python",
   "name": "python3"
  },
  "language_info": {
   "codemirror_mode": {
    "name": "ipython",
    "version": 3
   },
   "file_extension": ".py",
   "mimetype": "text/x-python",
   "name": "python",
   "nbconvert_exporter": "python",
   "pygments_lexer": "ipython3",
   "version": "3.10.12"
  }
 },
 "nbformat": 4,
 "nbformat_minor": 5
}
