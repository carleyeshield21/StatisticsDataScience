{
 "cells": [
  {
   "cell_type": "markdown",
   "id": "4dd11be2-d30e-4ad2-b0a0-e4324b3aead3",
   "metadata": {},
   "source": [
    "### Sample Sums of Squares\n",
    "$SS$ = $\\Sigma({X}-\\overline{X})^2$ = $\\Sigma{X}^2$ $-$ $\\dfrac{(\\Sigma{X})^2}{n}$\n",
    "\n",
    "### THE POOLED VARIANCE\n",
    "\n",
    "$S_P^2 = \\dfrac{SS_1 + SS_2}{n_1 + n_2 - 2}$\n",
    "\n",
    "$S_P^2 = \\dfrac{({n_1 - 1})s_1^2 + ({n_2 - 1})s_2^2}{n_1 + n_2 - 2}$\n",
    "\n",
    "### STANDARD ERROR\n",
    "\n",
    "$S_{\\overline{X}_1-\\overline{X}_2} = \\sqrt{\\dfrac{S^2_P}{n_1} + \\dfrac{S^2_P}{n_2}}$"
   ]
  },
  {
   "cell_type": "markdown",
   "id": "a927909f-8cb3-4249-930f-6f1d8d820586",
   "metadata": {},
   "source": [
    "### THE POOLED VARIANCE\n",
    "\n",
    "$S_P^2 = \\dfrac{SS_1 + SS_2}{n_1 + n_2 - 2}$\n",
    "\n",
    "$S_P^2 = \\dfrac{({n_1 - 1})s_1^2 + ({n_2 - 1})s_2^2}{n_1 + n_2 - 2}$"
   ]
  },
  {
   "cell_type": "code",
   "execution_count": null,
   "id": "2898d8e6-cbc3-4ee1-a65b-7cd6f9712646",
   "metadata": {},
   "outputs": [],
   "source": [
    "import scipy.stats as stats\n",
    "\n",
    "# Given data\n",
    "mean_letter_grade = 86.2\n",
    "mean_pass_fail = 81.6\n",
    "std_error = 1.50\n",
    "sample_size = 20  # Equal numbers in both groups\n",
    "\n",
    "# Calculate the t-statistic\n",
    "t_statistic = (mean_letter_grade - mean_pass_fail) / (std_error * (2 / sample_size)**0.5)\n",
    "\n",
    "# Calculate degrees of freedom\n",
    "degrees_of_freedom = 2 * sample_size - 2\n",
    "\n",
    "# Calculate the critical value of t for a two-tailed test at the 0.05 significance level\n",
    "alpha = 0.05\n",
    "critical_t_value = stats.t.ppf(1 - alpha / 2, degrees_of_freedom)\n",
    "\n",
    "# Calculate pooled variance\n",
    "pooled_var = ((sample_size - 1) * std_error ** 2 + (sample_size - 1) * std_error ** 2) / (2 * sample_size - 2)\n",
    "\n",
    "# Calculate estimated standard error\n",
    "estimated_se = (pooled_var * (1/sample_size + 1/sample_size))**0.5\n",
    "\n",
    "# Print results\n",
    "print(f\"T-Statistic: {t_statistic}\")\n",
    "print(f\"Critical T-Value: {critical_t_value}\")\n",
    "print(f\"Pooled Variance: {pooled_var}\")\n",
    "print(f\"Estimated Standard Error: {estimated_se}\")"
   ]
  }
 ],
 "metadata": {
  "kernelspec": {
   "display_name": "Python 3 (ipykernel)",
   "language": "python",
   "name": "python3"
  },
  "language_info": {
   "codemirror_mode": {
    "name": "ipython",
    "version": 3
   },
   "file_extension": ".py",
   "mimetype": "text/x-python",
   "name": "python",
   "nbconvert_exporter": "python",
   "pygments_lexer": "ipython3",
   "version": "3.10.12"
  }
 },
 "nbformat": 4,
 "nbformat_minor": 5
}
