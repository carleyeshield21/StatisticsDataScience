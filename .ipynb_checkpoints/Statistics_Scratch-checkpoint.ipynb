{
 "cells": [
  {
   "cell_type": "markdown",
   "id": "4dd11be2-d30e-4ad2-b0a0-e4324b3aead3",
   "metadata": {},
   "source": [
    "### Sample Sums of Squares\n",
    "$SS$ = $\\Sigma({X}-\\overline{X})^2$ = $\\Sigma{X}^2$ $-$ $\\dfrac{(\\Sigma{X})^2}{n}$\n",
    "\n",
    "### THE POOLED VARIANCE\n",
    "\n",
    "$S_P^2 = \\dfrac{SS_1 + SS_2}{n_1 + n_2 - 2}$\n",
    "\n",
    "$S_P^2 = \\dfrac{({n_1 - 1})s_1^2 + ({n_2 - 1})s_2^2}{n_1 + n_2 - 2}$\n",
    "\n",
    "### STANDARD ERROR\n",
    "\n",
    "$S_{\\overline{X}_1-\\overline{X}_2} = \\sqrt{\\dfrac{S^2_P}{n_1} + \\dfrac{S^2_P}{n_2}}$"
   ]
  },
  {
   "cell_type": "code",
   "execution_count": 6,
   "id": "891de6a3-5ba5-431a-8564-4ee22387a5bb",
   "metadata": {},
   "outputs": [
    {
     "name": "stdout",
     "output_type": "stream",
     "text": [
      "T-Statistic: 4.648111258522642\n",
      "Critical T-Value: 2.6500812928169553\n",
      "Degrees of Freedom: 68\n",
      "Reject the null hypothesis\n",
      "Standard Error: 1.8\n"
     ]
    }
   ],
   "source": [
    "import scipy.stats as stats\n",
    "import math\n",
    "\n",
    "# Given data\n",
    "mean_treatment = 110\n",
    "mean_control = 108\n",
    "std_error = 1.80\n",
    "sample_size = 35\n",
    "significance_level = 0.01\n",
    "\n",
    "# Calculate the t-statistic\n",
    "t_statistic = (mean_treatment - mean_control) / (std_error * math.sqrt(2/sample_size))\n",
    "\n",
    "# Calculate degrees of freedom\n",
    "degrees_of_freedom = 2 * sample_size - 2\n",
    "\n",
    "# Calculate critical t-value\n",
    "alpha = significance_level / 2  # Two-tailed test\n",
    "critical_t_value = stats.t.ppf(1 - alpha, degrees_of_freedom)\n",
    "\n",
    "# Print results\n",
    "print(f\"T-Statistic: {t_statistic}\")\n",
    "print(f\"Critical T-Value: {critical_t_value}\")\n",
    "print(f\"Degrees of Freedom: {degrees_of_freedom}\")\n",
    "\n",
    "# Check if we reject the null hypothesis\n",
    "if abs(t_statistic) > critical_t_value:\n",
    "    print(\"Reject the null hypothesis\")\n",
    "else:\n",
    "    print(\"Fail to reject the null hypothesis\")\n",
    "\n",
    "# Print the standard error\n",
    "print(f\"Standard Error: {std_error}\")"
   ]
  },
  {
   "cell_type": "code",
   "execution_count": 10,
   "id": "675849ee-11d6-47a9-a2af-77084760cc36",
   "metadata": {},
   "outputs": [
    {
     "name": "stdout",
     "output_type": "stream",
     "text": [
      "35\n",
      "29\n",
      "homo_mean = 24.0\n",
      "homo_variance = 148.87058823529412\n",
      "nonhomo_mean = 16.50344827586207\n",
      "nonhomo_variance = 139.15891625615762\n"
     ]
    }
   ],
   "source": [
    "import statistics\n",
    "import math\n",
    "\n",
    "homo = [39.1,11.0,33.4,19.5,35.7,8.7,38.0,20.7,13.7,11.4,41.5,23.0,14.9,26.4,46.1,24.1,18.4,14.3,20.7,35.7,13.7,17.2,36.8,5.3,19.5,26.4,23.0,38.0,54.1,6.3,32.2,28.8,20.7,10.3,11.4]\n",
    "print(len(homo))\n",
    "nonhomo = [24.0,10.1,20.0,30.9,26.9,17.0,16.1,14.1,22.0,5.2,35.8,-0.7,-1.7,6.2,13.1,18.0,14.1,19.0,27.9,19.0,-1.7,25.9,20.0,14.1,-15.5,11.1,23.0,30.9,33.8]\n",
    "print(len(nonhomo))\n",
    "\n",
    "homo_mean = statistics.mean(homo)\n",
    "homo_variance = statistics.variance(homo)\n",
    "print(f'homo_mean = {homo_mean}')\n",
    "print(f'homo_variance = {homo_variance}')\n",
    "nonhomo_mean = statistics.mean(nonhomo)\n",
    "nonhomo_variance = statistics.variance(nonhomo)\n",
    "print(f'nonhomo_mean = {nonhomo_mean}')\n",
    "print(f'nonhomo_variance = {nonhomo_variance}')"
   ]
  }
 ],
 "metadata": {
  "kernelspec": {
   "display_name": "Python 3 (ipykernel)",
   "language": "python",
   "name": "python3"
  },
  "language_info": {
   "codemirror_mode": {
    "name": "ipython",
    "version": 3
   },
   "file_extension": ".py",
   "mimetype": "text/x-python",
   "name": "python",
   "nbconvert_exporter": "python",
   "pygments_lexer": "ipython3",
   "version": "3.10.12"
  }
 },
 "nbformat": 4,
 "nbformat_minor": 5
}
