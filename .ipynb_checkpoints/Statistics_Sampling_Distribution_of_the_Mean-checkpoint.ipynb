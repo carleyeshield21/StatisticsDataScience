{
 "cells": [
  {
   "cell_type": "markdown",
   "id": "2b44c583-97fc-413c-a343-c4f3d754535d",
   "metadata": {},
   "source": [
    "##### Progress Check *9.1 Imagine a very simple population consisting of only five observations: 2, 4, 6, 8, 10.\n",
    "(a) List all possible samples of size two.\n",
    "\n",
    "answer: [[2,4],[2,6],[2,8],[2,10],[4,2],[4,4],[4,6],[4,8],[4,10],[6,2],[6,4],[6,6],[6,8],[6,10],[10,2],[10,4],[10,6],[10,8],[10,10]]\n",
    "\n",
    "(b) Construct a relative frequency table showing the sampling distribution of the mean.\n",
    "\n",
    "answer:"
   ]
  },
  {
   "cell_type": "code",
   "execution_count": 18,
   "id": "5b524996-aa74-4001-b293-938c6bac3feb",
   "metadata": {},
   "outputs": [
    {
     "data": {
      "text/plain": [
       "[[2, 2],\n",
       " [2, 4],\n",
       " [2, 6],\n",
       " [2, 8],\n",
       " [2, 10],\n",
       " [4, 2],\n",
       " [4, 4],\n",
       " [4, 6],\n",
       " [4, 8],\n",
       " [4, 10],\n",
       " [6, 2],\n",
       " [6, 4],\n",
       " [6, 6],\n",
       " [6, 8],\n",
       " [6, 10],\n",
       " [8, 2],\n",
       " [8, 4],\n",
       " [8, 6],\n",
       " [8, 8],\n",
       " [8, 10],\n",
       " [10, 2],\n",
       " [10, 4],\n",
       " [10, 6],\n",
       " [10, 8],\n",
       " [10, 10]]"
      ]
     },
     "execution_count": 18,
     "metadata": {},
     "output_type": "execute_result"
    }
   ],
   "source": [
    "obs = [2, 4, 6, 8, 10]\n",
    "list_of_sample_size_of_two = []\n",
    "for index, item in enumerate(obs):\n",
    "    # print(item)\n",
    "    for n in range(0,len(obs)):\n",
    "        # print(n)\n",
    "        list_of_sample_size_of_two.append([item, obs[n]])\n",
    "list_of_sample_size_of_two"
   ]
  }
 ],
 "metadata": {
  "kernelspec": {
   "display_name": "Python 3 (ipykernel)",
   "language": "python",
   "name": "python3"
  },
  "language_info": {
   "codemirror_mode": {
    "name": "ipython",
    "version": 3
   },
   "file_extension": ".py",
   "mimetype": "text/x-python",
   "name": "python",
   "nbconvert_exporter": "python",
   "pygments_lexer": "ipython3",
   "version": "3.10.12"
  }
 },
 "nbformat": 4,
 "nbformat_minor": 5
}
