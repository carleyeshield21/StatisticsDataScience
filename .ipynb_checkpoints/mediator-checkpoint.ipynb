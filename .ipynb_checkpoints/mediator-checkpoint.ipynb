{
 "cells": [
  {
   "cell_type": "code",
   "execution_count": 1,
   "id": "10cc3411-26db-4f79-a0f8-0ad2dc5c6360",
   "metadata": {},
   "outputs": [],
   "source": [
    "import pandas"
   ]
  },
  {
   "cell_type": "code",
   "execution_count": 2,
   "id": "a9d10e09-802c-4e3a-a81f-93510d852e49",
   "metadata": {
    "scrolled": true
   },
   "outputs": [
    {
     "data": {
      "text/html": [
       "<div>\n",
       "<style scoped>\n",
       "    .dataframe tbody tr th:only-of-type {\n",
       "        vertical-align: middle;\n",
       "    }\n",
       "\n",
       "    .dataframe tbody tr th {\n",
       "        vertical-align: top;\n",
       "    }\n",
       "\n",
       "    .dataframe thead th {\n",
       "        text-align: right;\n",
       "    }\n",
       "</style>\n",
       "<table border=\"1\" class=\"dataframe\">\n",
       "  <thead>\n",
       "    <tr style=\"text-align: right;\">\n",
       "      <th></th>\n",
       "      <th>MEDITATORS</th>\n",
       "      <th>NONMEDITATORS</th>\n",
       "    </tr>\n",
       "  </thead>\n",
       "  <tbody>\n",
       "    <tr>\n",
       "      <th>0</th>\n",
       "      <td>3.25</td>\n",
       "      <td>3.67</td>\n",
       "    </tr>\n",
       "    <tr>\n",
       "      <th>1</th>\n",
       "      <td>2.25</td>\n",
       "      <td>3.79</td>\n",
       "    </tr>\n",
       "    <tr>\n",
       "      <th>2</th>\n",
       "      <td>2.75</td>\n",
       "      <td>3.00</td>\n",
       "    </tr>\n",
       "    <tr>\n",
       "      <th>3</th>\n",
       "      <td>3.56</td>\n",
       "      <td>2.50</td>\n",
       "    </tr>\n",
       "    <tr>\n",
       "      <th>4</th>\n",
       "      <td>3.33</td>\n",
       "      <td>2.75</td>\n",
       "    </tr>\n",
       "    <tr>\n",
       "      <th>5</th>\n",
       "      <td>2.25</td>\n",
       "      <td>1.90</td>\n",
       "    </tr>\n",
       "    <tr>\n",
       "      <th>6</th>\n",
       "      <td>3.57</td>\n",
       "      <td>3.50</td>\n",
       "    </tr>\n",
       "    <tr>\n",
       "      <th>7</th>\n",
       "      <td>2.45</td>\n",
       "      <td>2.67</td>\n",
       "    </tr>\n",
       "    <tr>\n",
       "      <th>8</th>\n",
       "      <td>3.75</td>\n",
       "      <td>2.90</td>\n",
       "    </tr>\n",
       "    <tr>\n",
       "      <th>9</th>\n",
       "      <td>2.95</td>\n",
       "      <td>2.80</td>\n",
       "    </tr>\n",
       "    <tr>\n",
       "      <th>10</th>\n",
       "      <td>3.30</td>\n",
       "      <td>2.65</td>\n",
       "    </tr>\n",
       "    <tr>\n",
       "      <th>11</th>\n",
       "      <td>3.56</td>\n",
       "      <td>2.58</td>\n",
       "    </tr>\n",
       "    <tr>\n",
       "      <th>12</th>\n",
       "      <td>3.56</td>\n",
       "      <td>2.83</td>\n",
       "    </tr>\n",
       "    <tr>\n",
       "      <th>13</th>\n",
       "      <td>3.78</td>\n",
       "      <td>3.10</td>\n",
       "    </tr>\n",
       "    <tr>\n",
       "      <th>14</th>\n",
       "      <td>3.75</td>\n",
       "      <td>3.37</td>\n",
       "    </tr>\n",
       "    <tr>\n",
       "      <th>15</th>\n",
       "      <td>3.45</td>\n",
       "      <td>3.25</td>\n",
       "    </tr>\n",
       "    <tr>\n",
       "      <th>16</th>\n",
       "      <td>3.00</td>\n",
       "      <td>2.76</td>\n",
       "    </tr>\n",
       "    <tr>\n",
       "      <th>17</th>\n",
       "      <td>3.35</td>\n",
       "      <td>2.86</td>\n",
       "    </tr>\n",
       "    <tr>\n",
       "      <th>18</th>\n",
       "      <td>3.10</td>\n",
       "      <td>2.90</td>\n",
       "    </tr>\n",
       "    <tr>\n",
       "      <th>19</th>\n",
       "      <td>2.75</td>\n",
       "      <td>2.10</td>\n",
       "    </tr>\n",
       "    <tr>\n",
       "      <th>20</th>\n",
       "      <td>3.09</td>\n",
       "      <td>2.66</td>\n",
       "    </tr>\n",
       "    <tr>\n",
       "      <th>21</th>\n",
       "      <td>2.58</td>\n",
       "      <td>2.34</td>\n",
       "    </tr>\n",
       "    <tr>\n",
       "      <th>22</th>\n",
       "      <td>2.95</td>\n",
       "      <td>3.20</td>\n",
       "    </tr>\n",
       "    <tr>\n",
       "      <th>23</th>\n",
       "      <td>3.56</td>\n",
       "      <td>2.67</td>\n",
       "    </tr>\n",
       "    <tr>\n",
       "      <th>24</th>\n",
       "      <td>3.30</td>\n",
       "      <td>3.59</td>\n",
       "    </tr>\n",
       "    <tr>\n",
       "      <th>25</th>\n",
       "      <td>3.43</td>\n",
       "      <td>3.00</td>\n",
       "    </tr>\n",
       "    <tr>\n",
       "      <th>26</th>\n",
       "      <td>3.47</td>\n",
       "      <td>3.08</td>\n",
       "    </tr>\n",
       "  </tbody>\n",
       "</table>\n",
       "</div>"
      ],
      "text/plain": [
       "    MEDITATORS  NONMEDITATORS\n",
       "0         3.25           3.67\n",
       "1         2.25           3.79\n",
       "2         2.75           3.00\n",
       "3         3.56           2.50\n",
       "4         3.33           2.75\n",
       "5         2.25           1.90\n",
       "6         3.57           3.50\n",
       "7         2.45           2.67\n",
       "8         3.75           2.90\n",
       "9         2.95           2.80\n",
       "10        3.30           2.65\n",
       "11        3.56           2.58\n",
       "12        3.56           2.83\n",
       "13        3.78           3.10\n",
       "14        3.75           3.37\n",
       "15        3.45           3.25\n",
       "16        3.00           2.76\n",
       "17        3.35           2.86\n",
       "18        3.10           2.90\n",
       "19        2.75           2.10\n",
       "20        3.09           2.66\n",
       "21        2.58           2.34\n",
       "22        2.95           3.20\n",
       "23        3.56           2.67\n",
       "24        3.30           3.59\n",
       "25        3.43           3.00\n",
       "26        3.47           3.08"
      ]
     },
     "execution_count": 2,
     "metadata": {},
     "output_type": "execute_result"
    }
   ],
   "source": [
    "data=pandas.read_csv('mediators.csv')\n",
    "data_copy=data.copy()\n",
    "data_copy"
   ]
  },
  {
   "cell_type": "code",
   "execution_count": 12,
   "id": "99b077e7-552c-4832-8110-5959f6282af0",
   "metadata": {
    "scrolled": true
   },
   "outputs": [
    {
     "name": "stdout",
     "output_type": "stream",
     "text": [
      "27\n"
     ]
    },
    {
     "data": {
      "text/plain": [
       "[2.25,\n",
       " 2.25,\n",
       " 2.45,\n",
       " 2.58,\n",
       " 2.75,\n",
       " 2.75,\n",
       " 2.95,\n",
       " 2.95,\n",
       " 3.0,\n",
       " 3.09,\n",
       " 3.1,\n",
       " 3.25,\n",
       " 3.3,\n",
       " 3.3,\n",
       " 3.33,\n",
       " 3.35,\n",
       " 3.43,\n",
       " 3.45,\n",
       " 3.47,\n",
       " 3.56,\n",
       " 3.56,\n",
       " 3.56,\n",
       " 3.56,\n",
       " 3.57,\n",
       " 3.75,\n",
       " 3.75,\n",
       " 3.78]"
      ]
     },
     "execution_count": 12,
     "metadata": {},
     "output_type": "execute_result"
    }
   ],
   "source": [
    "mediators=data_copy.MEDITATORS\n",
    "print(len(mediators))\n",
    "sorted(mediators)"
   ]
  },
  {
   "cell_type": "code",
   "execution_count": 13,
   "id": "558818c0-04d5-43d3-acfd-e2744735a11a",
   "metadata": {
    "scrolled": true
   },
   "outputs": [
    {
     "name": "stdout",
     "output_type": "stream",
     "text": [
      "27\n"
     ]
    },
    {
     "data": {
      "text/plain": [
       "[1.9,\n",
       " 2.1,\n",
       " 2.34,\n",
       " 2.5,\n",
       " 2.58,\n",
       " 2.65,\n",
       " 2.66,\n",
       " 2.67,\n",
       " 2.67,\n",
       " 2.75,\n",
       " 2.76,\n",
       " 2.8,\n",
       " 2.83,\n",
       " 2.86,\n",
       " 2.9,\n",
       " 2.9,\n",
       " 3.0,\n",
       " 3.0,\n",
       " 3.08,\n",
       " 3.1,\n",
       " 3.2,\n",
       " 3.25,\n",
       " 3.37,\n",
       " 3.5,\n",
       " 3.59,\n",
       " 3.67,\n",
       " 3.79]"
      ]
     },
     "execution_count": 13,
     "metadata": {},
     "output_type": "execute_result"
    }
   ],
   "source": [
    "nonmediators=data_copy.NONMEDITATORS\n",
    "print(len(nonmediators))\n",
    "sorted(nonmediators)"
   ]
  },
  {
   "cell_type": "code",
   "execution_count": 7,
   "id": "a5f5e5db-0e7f-4c4d-821a-7683e94feb8b",
   "metadata": {},
   "outputs": [],
   "source": [
    "from collections import Counter\n",
    "counter1 = Counter(sorted(mediators))\n",
    "counter2 = Counter(sorted(nonmediators))"
   ]
  },
  {
   "cell_type": "code",
   "execution_count": 9,
   "id": "4c3364b7-0ea5-4f2e-ab3a-507b165b7fd2",
   "metadata": {},
   "outputs": [
    {
     "data": {
      "text/plain": [
       "Counter({3.56: 4,\n",
       "         2.25: 2,\n",
       "         2.75: 2,\n",
       "         3.75: 2,\n",
       "         2.95: 2,\n",
       "         3.3: 2,\n",
       "         3.25: 1,\n",
       "         3.33: 1,\n",
       "         3.57: 1,\n",
       "         2.45: 1,\n",
       "         3.78: 1,\n",
       "         3.45: 1,\n",
       "         3.0: 1,\n",
       "         3.35: 1,\n",
       "         3.1: 1,\n",
       "         3.09: 1,\n",
       "         2.58: 1,\n",
       "         3.43: 1,\n",
       "         3.47: 1})"
      ]
     },
     "execution_count": 9,
     "metadata": {},
     "output_type": "execute_result"
    }
   ],
   "source": [
    "counter1"
   ]
  },
  {
   "cell_type": "code",
   "execution_count": 10,
   "id": "7c67fa5d-10c0-46b7-9e1a-ecc75f765202",
   "metadata": {
    "scrolled": true
   },
   "outputs": [
    {
     "data": {
      "text/plain": [
       "Counter({3.0: 2,\n",
       "         2.67: 2,\n",
       "         2.9: 2,\n",
       "         3.67: 1,\n",
       "         3.79: 1,\n",
       "         2.5: 1,\n",
       "         2.75: 1,\n",
       "         1.9: 1,\n",
       "         3.5: 1,\n",
       "         2.8: 1,\n",
       "         2.65: 1,\n",
       "         2.58: 1,\n",
       "         2.83: 1,\n",
       "         3.1: 1,\n",
       "         3.37: 1,\n",
       "         3.25: 1,\n",
       "         2.76: 1,\n",
       "         2.86: 1,\n",
       "         2.1: 1,\n",
       "         2.66: 1,\n",
       "         2.34: 1,\n",
       "         3.2: 1,\n",
       "         3.59: 1,\n",
       "         3.08: 1})"
      ]
     },
     "execution_count": 10,
     "metadata": {},
     "output_type": "execute_result"
    }
   ],
   "source": [
    "counter2"
   ]
  },
  {
   "cell_type": "code",
   "execution_count": 50,
   "id": "5b327661-a01f-4d8c-a989-27c29efda6c9",
   "metadata": {},
   "outputs": [
    {
     "data": {
      "image/png": "[encoded data removed]",
      "text/plain": [
       "<Figure size 640x480 with 1 Axes>"
      ]
     },
     "metadata": {},
     "output_type": "display_data"
    }
   ],
   "source": [
    "\n",
    "import matplotlib.pyplot as plt\n",
    "import numpy as np\n",
    "\n",
    "# Example data\n",
    "categories = ['Category A', 'Category B', 'Category C', 'Category D']\n",
    "values1 = [15, 24, 30, 12]\n",
    "values2 = [10, 18, 25, 8]\n",
    "values3 = [15, 28, 15, 3]\n",
    "\n",
    "# Set up the figure and axis\n",
    "fig, ax = plt.subplots()\n",
    "\n",
    "# Plotting the first bar graph\n",
    "ax.bar(np.arange(len(categories)) - 0.2, values1, width=0.2, label='Graph 1', align='center')\n",
    "\n",
    "# Plotting the second bar graph\n",
    "ax.bar(np.arange(len(categories)) + 0.2, values2, width=0.2, label='Graph 2', align='center')\n",
    "\n",
    "ax.bar(np.arange(len(categories)) + 0.1, values3, width=0.2, label='Graph 2', align='center')\n",
    "\n",
    "# Adding labels and title\n",
    "ax.set_xlabel('Categories')\n",
    "ax.set_ylabel('Values')\n",
    "ax.set_title('Two Bar Graphs Example')\n",
    "\n",
    "# Adding legend\n",
    "ax.legend()\n",
    "\n",
    "# Customize x-axis tick labels\n",
    "ax.set_xticks(np.arange(len(categories)))\n",
    "ax.set_xticklabels(categories)\n",
    "\n",
    "# Show the plot\n",
    "plt.show()"
   ]
  }
 ],
 "metadata": {
  "kernelspec": {
   "display_name": "Python 3 (ipykernel)",
   "language": "python",
   "name": "python3"
  },
  "language_info": {
   "codemirror_mode": {
    "name": "ipython",
    "version": 3
   },
   "file_extension": ".py",
   "mimetype": "text/x-python",
   "name": "python",
   "nbconvert_exporter": "python",
   "pygments_lexer": "ipython3",
   "version": "3.10.12"
  }
 },
 "nbformat": 4,
 "nbformat_minor": 5
}
