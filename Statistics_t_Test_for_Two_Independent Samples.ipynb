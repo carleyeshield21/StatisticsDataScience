{
 "cells": [
  {
   "cell_type": "markdown",
   "id": "f4d4a8d5-d16a-4460-a89a-648c643448b7",
   "metadata": {},
   "source": [
    "### STATISTICAL HYPOTHESES\n",
    "\n",
    "Null Hypothesis\n",
    "\n",
    "$H_{0}$ : $\\mu_{1} - \\mu_{2} \\leq 0$\n",
    "\n",
    "Alternative Hypothesis (Research Hypothesis)\n",
    "\n",
    "$H_{1}$ : $\\mu_{1} - \\mu_{2} > 0$\n",
    "\n",
    "##### Two Other Possible Alternative Hypotheses\n",
    "\n",
    "1. Another directional hypothesis, expressed as\n",
    "\n",
    "$H_{1}$ : $\\mu_{1} - \\mu_{2} < 0$ translates into a one-tailed test with the lower tail critical.\n",
    "\n",
    "2. A nondirectional hypothesis, expressed as\n",
    "\n",
    "$H_{1}$ : $\\mu_{1} - \\mu_{2} \\neq 0$ translates into a two-tailed test."
   ]
  },
  {
   "cell_type": "markdown",
   "id": "9511eb16-bda5-4dab-bf6a-f87665596828",
   "metadata": {
    "jp-MarkdownHeadingCollapsed": true
   },
   "source": [
    "##### Progress Check *14.1 Identifying the treatment group with μ1, specify both the null and alternative hypotheses for each of the following studies. Select a directional alternative hypothesis only when a word or phrase justifies an exclusive concern about population mean differences in a particular direction.\n",
    "\n",
    "(a) After randomly assigning migrant children to two groups, a school psychologist determines whether there is a difference in the mean reading scores between groups exposed to either a special bilingual or a traditional reading program.\n",
    "\n",
    "Answer:\n",
    "\n",
    "$H_{0}$ : $\\mu_{1} - \\mu_{2} = 0$\n",
    "\n",
    "$H_{1}$ : $\\mu_{1} - \\mu_{2} \\neq 0$\n",
    "\n",
    "(b) On further reflection, the school psychologist decides that, because of the extra expense of the special bilingual program, the null hypothesis should be rejected only if there is evidence that reading scores are improved, on average, for the group exposed to the special\n",
    "bilingual program.\n",
    "\n",
    "Answer:\n",
    "\n",
    "$H_{0}$ : $\\mu_{1} - \\mu_{2} \\leq 0$\n",
    "\n",
    "$H_{1}$ : $\\mu_{1} - \\mu_{2} > 0$\n",
    "\n",
    "(c) An investigator wishes to determine whether, on average, cigarette consumption is reduced for smokers who chew caffeine gum. Smokers in attendance at an antismoking workshop are randomly assigned to two groups—one that chews caffeine gum and one that does not—and their daily cigarette consumption is monitored for six months after the workshop.\n",
    "\n",
    "Answer:\n",
    "\n",
    "$H_{0}$ : $\\mu_{1} - \\mu_{2} \\geq 0$\n",
    "\n",
    "$H_{1}$ : $\\mu_{1} - \\mu_{2} < 0$\n",
    "\n",
    "(d) A political scientist determines whether males and females differ, on average, about the amount of money that, in their opinion, should be spent by the U.S. government on homeland security. After being informed about the size of the current budget for homeland security, in billions of dollars, randomly selected males and females are asked to indicate the percent by which they would alter this amount—for example, –8 percent for an 8 percent reduction, 0 percent for no change, 4 percent for a 4 percent increase.\n",
    "\n",
    "Answer:\n",
    "\n",
    "$H_{0}$ : $\\mu_{1} - \\mu_{2} = 0$\n",
    "\n",
    "$H_{1}$ : $\\mu_{1} - \\mu_{2} \\neq 0$"
   ]
  },
  {
   "cell_type": "markdown",
   "id": "c0e267cf-3781-4b2e-8227-71a3c66b3717",
   "metadata": {},
   "source": [
    "### Mean of the Sampling Distribution , $\\mu_{\\overline{X}_1-\\overline{X}_2}$\n",
    "\n",
    "The mean of the sampling distribution of X equals thepopulation mean, that is,\n",
    "\n",
    "$\\mu_{\\overline{X}} = \\mu$\n",
    "\n",
    "Similarly, the mean of the new sampling distribution of $\\overline{X}_1-\\overline{X}_2$ equals the difference between population means, that is,\n",
    "\n",
    "$\\mu_{\\overline{X}_1-\\overline{X}_2} = \\mu_{1} - \\mu_{2}$"
   ]
  },
  {
   "cell_type": "markdown",
   "id": "e6266aa0-0400-4c24-96aa-f47e4cd16383",
   "metadata": {},
   "source": [
    "### Standard Error of the Sampling Distribution, (standard error of the difference between means) $\\sigma_{\\overline{X}_1-\\overline{X}_2}$\n",
    "\n",
    "$\\sigma_\\overline{X}$ = $\\dfrac{\\sigma}{\\sqrt{n}} = \\sqrt{\\dfrac{\\sigma^2}{n}}$\n",
    "\n",
    "The standard deviation of the new sampling distribution of $\\overline{X}_1 - \\overline{X}_2$ equals\n",
    "\n",
    "$\\sigma_{\\overline{X}_1-\\overline{X}_2} = \\sqrt{\\dfrac{\\sigma^2_1}{n_1} + \\dfrac{\\sigma^2_2}{n_2}}$"
   ]
  },
  {
   "cell_type": "markdown",
   "id": "ce97b20f-5df3-4b84-a0ac-9aca44575276",
   "metadata": {},
   "source": [
    "### t TEST\n",
    "\n",
    "t Ratio\n",
    "\n",
    "$t = \\dfrac{(difference~between~sample~means)-(hypothesized~difference~between~population~means)}{estimated~standard~error}$\n",
    "\n",
    "Expressed in symbols,\n",
    "\n",
    "### t RATIO FOR TWO POPULATION MEANS (TWO INDEPENDENT SAMPLES)\n",
    "\n",
    "$t = \\dfrac{(\\overline{X}_1 - \\overline{X}_2)-(\\mu_1 - \\mu_2)_{hyp}}{S_{\\overline{X}_1-\\overline{X}_2}}$\n",
    "\n",
    "### ESTIMATED STANDARD ERROR OF THE MEAN\n",
    "$S_\\overline{X}$ = $\\dfrac{S}{\\sqrt{n}}$\n",
    "\n",
    "### Sample Sums of Squares\n",
    "$SS$ = $\\Sigma({X}-\\overline{X})^2$ = $\\Sigma{X}^2$ $-$ $\\dfrac{(\\Sigma{X})^2}{n}$\n",
    "\n",
    "### THE POOLED VARIANCE\n",
    "\n",
    "$S_P^2 = \\dfrac{SS_1 + SS_2}{n_1 + n_2 - 2}$\n",
    "\n",
    "### STANDARD ERROR\n",
    "\n",
    "$S_{\\overline{X}_1-\\overline{X}_2} = \\sqrt{\\dfrac{S^2_P}{n_1} + \\dfrac{S^2_P}{n_2}}$"
   ]
  },
  {
   "cell_type": "markdown",
   "id": "bfa1cd42-4287-4c13-8892-f4ed5eeea450",
   "metadata": {},
   "source": [
    "##### Progress Check *14.2 Using Table B in Appendix C, find the critical t values for each of the following hypothesis tests:\n",
    "(a) two-tailed test; α = .05; n1 = 12; n2 = 11; df = 12+11-2 = 21; t_value = $\\pm$2.080\n",
    "\n",
    "(b) one-tailed test, upper tail critical; α = .05; n1 = 15; n2 = 13; df = 15+13-2 = 26; t_value = +1.706\n",
    "\n",
    "(c) one-tailed test, lower tail critical; α = .01; n1 = n2 = 25; df=25+25-2 = 48; t_value = -2.423\n",
    "\n",
    "(d) two-tailed test; α = .01; n1 = 8; n2 = 10; df=8+10-2=16; t_value = $\\pm$2.921"
   ]
  },
  {
   "cell_type": "markdown",
   "id": "87253bbb-45db-4c66-ae09-b71b2a81cb09",
   "metadata": {},
   "source": [
    "### Table 14.1 CALCULATIONS FOR THE t TEST: TWO INDEPENDENT SAMPLES (EPO EXPERIMENT)"
   ]
  },
  {
   "cell_type": "code",
   "execution_count": 1,
   "id": "e53b6e0e-a2c7-4ea1-940f-5315428ca054",
   "metadata": {
    "scrolled": true
   },
   "outputs": [
    {
     "name": "stdout",
     "output_type": "stream",
     "text": [
      "mean_X1 = 11; mean_X2 = 6\n",
      "sum_of_X1_list = 66; sum_of_X2_list = 36\n",
      "sum_of_square_of_each_X1 = 816; sum_of_square_of_each_X2 = 288\n",
      "SS1 = 90.0; SS2 = 72.0\n",
      "pooled_variance = 16.2\n",
      "std_error = 2.32379000772445\n",
      "t_ratio = 2.151657414559676\n"
     ]
    }
   ],
   "source": [
    "import statistics\n",
    "import math\n",
    "\n",
    "X1 = [12,5,11,11,9,18]\n",
    "X2 = [7,3,4,6,3,13]\n",
    "\n",
    "n1 = len(X1)\n",
    "n2 = len(X2)\n",
    "u_hyp = 0\n",
    "\n",
    "mean_X1 = statistics.mean(X1)\n",
    "mean_X2 = statistics.mean(X2)\n",
    "print(f'mean_X1 = {mean_X1}; mean_X2 = {mean_X2}')\n",
    "\n",
    "sum_of_X1_list = sum(X1)\n",
    "sum_of_X2_list = sum(X2)\n",
    "print(f'sum_of_X1_list = {sum_of_X1_list}; sum_of_X2_list = {sum_of_X2_list}')\n",
    "\n",
    "square_of_each_X1 = [num1**2 for num1 in X1]\n",
    "square_of_each_X2 = [num2**2 for num2 in X2]\n",
    "\n",
    "sum_of_square_of_each_X1 = sum(square_of_each_X1)\n",
    "sum_of_square_of_each_X2 = sum(square_of_each_X2)\n",
    "print(f'sum_of_square_of_each_X1 = {sum_of_square_of_each_X1}; sum_of_square_of_each_X2 = {sum_of_square_of_each_X2}')\n",
    "\n",
    "SS1 = sum_of_square_of_each_X1 - (sum_of_X1_list**2/n1)\n",
    "SS2 = sum_of_square_of_each_X2 - (sum_of_X2_list**2/n1)\n",
    "print(f'SS1 = {SS1}; SS2 = {SS2}')\n",
    "\n",
    "pooled_variance = (SS1+SS2)/(n1+n2-2)\n",
    "print(f'pooled_variance = {pooled_variance}')\n",
    "\n",
    "std_error = math.sqrt((pooled_variance/n1)+(pooled_variance/n2))\n",
    "print(f'std_error = {std_error}')\n",
    "\n",
    "t_ratio = ((mean_X1-mean_X2)-u_hyp)/std_error\n",
    "print(f't_ratio = {t_ratio}')"
   ]
  },
  {
   "cell_type": "markdown",
   "id": "55fb60f0-e6f1-47d1-8622-5d993e1b673a",
   "metadata": {},
   "source": [
    "#### Markdown for Table 14.1 CALCULATIONS FOR THE t TEST: TWO INDEPENDENT SAMPLES (EPO EXPERIMENT)\n",
    "\n",
    "$\\overline{X}_1 = 11; \\overline{X}_2 = 6$\n",
    "\n",
    "$\\Sigma{X}_1 = 66; \\Sigma{X}_2 = 36$\n",
    "\n",
    "$\\Sigma{X}_1^2 = 816; \\Sigma{X}_2^2 = 288$\n",
    "\n",
    "$SS_1 = 90; SS_2 = 72$\n",
    "    \n",
    "$S_P^2 = 16.2$\n",
    "\n",
    "$S_{\\overline{X}_1-\\overline{X}_2} = 2.32379000772445$\n",
    "\n",
    "$t = 2.151657414559676$\n",
    "\n",
    "For a one-tailed test at 95% confidence and significance level/p-value of 0.05, degrees of freedom df=6+6-2=10, t_value = 1.812. \n",
    "Decision: Reject H0 at the .05 level of significance because t = 2.151657414559676 exceeds 1.812\n",
    "\n",
    "Interpretation: The difference between population means is greater than zero. There is evidence that EPO increases the mean endurance scores of treatment patients."
   ]
  },
  {
   "cell_type": "markdown",
   "id": "cab2a12b-c433-4441-a033-e1261112750f",
   "metadata": {},
   "source": [
    "##### Progress Check *14.3 A psychologist investigates the effect of instructions on the time required to solve a puzzle. Each of 20 volunteers is given the same puzzle to be solved as rapidly as possible. Subjects are randomly assigned, in equal numbers, to receive two different sets of instructions prior to the task. One group is told that the task is difficult (X1), and the other group is told that the task is easy (X2). The score for each subject reflects the time in minutes required to solve the puzzle. Use a t to test the null hypothesis at the .05 level of significance."
   ]
  },
  {
   "cell_type": "code",
   "execution_count": 2,
   "id": "811bf903-bfee-4aa1-8847-8df9ce6e6158",
   "metadata": {},
   "outputs": [
    {
     "name": "stdout",
     "output_type": "stream",
     "text": [
      "mean_X1 = 15.8; mean_X2 = 9\n",
      "sum_of_X1_list = 158; sum_of_X2_list = 90\n",
      "sum_of_square_of_each_X1 = 3168; sum_of_square_of_each_X2 = 1036\n",
      "SS1 = 671.5999999999999; SS2 = 226.0\n",
      "pooled_variance = 49.86666666666666\n",
      "std_error = 3.158058475287203\n",
      "t_ratio = 2.1532216876958206\n"
     ]
    }
   ],
   "source": [
    "import statistics\n",
    "import math\n",
    "\n",
    "X1 = [5,20,7,23,30,24,9,8,20,12]\n",
    "X2 = [13,6,6,5,3,6,10,20,9,12]\n",
    "\n",
    "n1 = len(X1)\n",
    "n2 = len(X2)\n",
    "u_hyp = 0\n",
    "\n",
    "mean_X1 = statistics.mean(X1)\n",
    "mean_X2 = statistics.mean(X2)\n",
    "print(f'mean_X1 = {mean_X1}; mean_X2 = {mean_X2}')\n",
    "\n",
    "sum_of_X1_list = sum(X1)\n",
    "sum_of_X2_list = sum(X2)\n",
    "print(f'sum_of_X1_list = {sum_of_X1_list}; sum_of_X2_list = {sum_of_X2_list}')\n",
    "\n",
    "square_of_each_X1 = [num1**2 for num1 in X1]\n",
    "square_of_each_X2 = [num2**2 for num2 in X2]\n",
    "\n",
    "sum_of_square_of_each_X1 = sum(square_of_each_X1)\n",
    "sum_of_square_of_each_X2 = sum(square_of_each_X2)\n",
    "print(f'sum_of_square_of_each_X1 = {sum_of_square_of_each_X1}; sum_of_square_of_each_X2 = {sum_of_square_of_each_X2}')\n",
    "\n",
    "SS1 = sum_of_square_of_each_X1 - (sum_of_X1_list**2/n1)\n",
    "SS2 = sum_of_square_of_each_X2 - (sum_of_X2_list**2/n1)\n",
    "print(f'SS1 = {SS1}; SS2 = {SS2}')\n",
    "\n",
    "pooled_variance = (SS1+SS2)/(n1+n2-2)\n",
    "print(f'pooled_variance = {pooled_variance}')\n",
    "\n",
    "std_error = math.sqrt((pooled_variance/n1)+(pooled_variance/n2))\n",
    "print(f'std_error = {std_error}')\n",
    "\n",
    "t_ratio = ((mean_X1-mean_X2)-u_hyp)/std_error\n",
    "print(f't_ratio = {t_ratio}')"
   ]
  },
  {
   "cell_type": "markdown",
   "id": "df765fdb-6c66-4090-9bfb-e7e462f811de",
   "metadata": {},
   "source": [
    "#### Markdown for Table 14.3\n",
    "Statistical Hypothesis\n",
    "\n",
    "$H_{0}$ : $\\mu_{1} - \\mu_{2} = 0$\n",
    "\n",
    "$H_{1}$ : $\\mu_{1} - \\mu_{2} \\neq 0$\n",
    "\n",
    "$\\overline{X}_1 = 15.8; \\overline{X}_2 = 9$\n",
    "\n",
    "$\\Sigma{X}_1 = 158; \\Sigma{X}_2 = 90$\n",
    "\n",
    "$\\Sigma{X}_1^2 = 3168; \\Sigma{X}_2^2 = 1036$\n",
    "\n",
    "$SS_1 = 671.5999999999999; SS_2 = 226.0$\n",
    "    \n",
    "$S_P^2 = 49.86666666666666$\n",
    "\n",
    "$S_{\\overline{X}_1-\\overline{X}_2} = 3.158058475287203$\n",
    "\n",
    "$t = 2.1532216876958206$\n",
    "\n",
    "At 95% confidence level and a siginificance level/p-value of 0.05, degrees of freedom df=10+10-2=18, one-tailed test upper tail critical has a t_value = 2.101\n",
    "\n",
    "Decision: Reject H0 at the .05 level of significance because t = 2.1532216876958206 exceeds 2.101.\n",
    "\n",
    "Interpretation: Puzzle-solving times are longer, on average, for subjects who are told that the\n",
    "puzzle is difficult than for those who are told that the puzzle is easy."
   ]
  },
  {
   "cell_type": "code",
   "execution_count": 5,
   "id": "43146d8e-eeea-4cac-85f9-276ae572d385",
   "metadata": {
    "scrolled": true
   },
   "outputs": [
    {
     "name": "stdout",
     "output_type": "stream",
     "text": [
      "mean_X1 = 15.8; mean_X2 = 9\n",
      "sum_of_X1_list = 158; sum_of_X2_list = 90\n",
      "sum_of_square_of_each_X1 = 3168; sum_of_square_of_each_X2 = 1036\n",
      "SS1 = 671.5999999999999; SS2 = 226.0\n",
      "pooled_variance = 49.86666666666666\n",
      "std_error = 3.158058475287203\n",
      "t_ratio = 2.1532216876958206\n"
     ]
    }
   ],
   "source": [
    "# Function to compute for t Test for two samples\n",
    "X1 = [5,20,7,23,30,24,9,8,20,12]\n",
    "X2 = [13,6,6,5,3,6,10,20,9,12]\n",
    "def t_Test_two_samples(X1,X2):\n",
    "    import statistics\n",
    "    import math\n",
    "    n1 = len(X1)\n",
    "    n2 = len(X2)\n",
    "    u_hyp = 0\n",
    "    \n",
    "    mean_X1 = statistics.mean(X1)\n",
    "    mean_X2 = statistics.mean(X2)\n",
    "    print(f'mean_X1 = {mean_X1}; mean_X2 = {mean_X2}')\n",
    "    \n",
    "    sum_of_X1_list = sum(X1)\n",
    "    sum_of_X2_list = sum(X2)\n",
    "    print(f'sum_of_X1_list = {sum_of_X1_list}; sum_of_X2_list = {sum_of_X2_list}')\n",
    "    \n",
    "    square_of_each_X1 = [num1**2 for num1 in X1]\n",
    "    square_of_each_X2 = [num2**2 for num2 in X2]\n",
    "    \n",
    "    sum_of_square_of_each_X1 = sum(square_of_each_X1)\n",
    "    sum_of_square_of_each_X2 = sum(square_of_each_X2)\n",
    "    print(f'sum_of_square_of_each_X1 = {sum_of_square_of_each_X1}; sum_of_square_of_each_X2 = {sum_of_square_of_each_X2}')\n",
    "    \n",
    "    SS1 = sum_of_square_of_each_X1 - (sum_of_X1_list**2/n1)\n",
    "    SS2 = sum_of_square_of_each_X2 - (sum_of_X2_list**2/n1)\n",
    "    print(f'SS1 = {SS1}; SS2 = {SS2}')\n",
    "    \n",
    "    pooled_variance = (SS1+SS2)/(n1+n2-2)\n",
    "    print(f'pooled_variance = {pooled_variance}')\n",
    "    \n",
    "    std_error = math.sqrt((pooled_variance/n1)+(pooled_variance/n2))\n",
    "    print(f'std_error = {std_error}')\n",
    "    \n",
    "    t_ratio = ((mean_X1-mean_X2)-u_hyp)/std_error\n",
    "    print(f't_ratio = {t_ratio}')\n",
    "t_Test_two_samples(X1,X2)"
   ]
  },
  {
   "cell_type": "markdown",
   "id": "7ddcf547-b358-497e-a864-e4a3e5b4c137",
   "metadata": {},
   "source": [
    "#### Progress Check *14.4 Find the approximate p-value for each of the following test results:\n",
    "(a) one-tailed test, upper tail critical; df = 12; t = 4.61 Answer: p < 0.001\n",
    "\n",
    "(b) one-tailed test, lower tail critical; df = 19; t = –2.41 Answer: p < 0.05\n",
    "\n",
    "(c) two-tailed test; df = 15; t = 3.76 Answer: p < 0.01\n",
    "\n",
    "(d) two-tailed test; df = 42; t = 1.305 Answer: p > 0.05\n",
    "\n",
    "(e) one-tailed test, upper tail critical; df = 11; t = –4.23 (Be careful!) Answer: p > 0.05"
   ]
  },
  {
   "cell_type": "markdown",
   "id": "3bb31671-dd90-4970-8026-d1c0e386e5bd",
   "metadata": {},
   "source": [
    "#### Progress Check *14.5 Indicate which member of each of the following pairs of p-values describes the more rare test result:\n",
    "(a1) p > .05(a2) p < .05\n",
    "\n",
    "(b1) p < .001(b2) p < .01\n",
    "\n",
    "(c1) p < .05(c2) p < .01\n",
    "\n",
    "(d1) p < .10(d2) p < .20\n",
    "\n",
    "(e1) p = .04(e2) p = .02\n",
    "\n",
    "a2, b1, c2, d1, e2"
   ]
  }
 ],
 "metadata": {
  "kernelspec": {
   "display_name": "Python 3 (ipykernel)",
   "language": "python",
   "name": "python3"
  },
  "language_info": {
   "codemirror_mode": {
    "name": "ipython",
    "version": 3
   },
   "file_extension": ".py",
   "mimetype": "text/x-python",
   "name": "python",
   "nbconvert_exporter": "python",
   "pygments_lexer": "ipython3",
   "version": "3.10.12"
  }
 },
 "nbformat": 4,
 "nbformat_minor": 5
}
