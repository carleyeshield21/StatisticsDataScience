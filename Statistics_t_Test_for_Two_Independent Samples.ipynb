{
 "cells": [
  {
   "cell_type": "markdown",
   "id": "f4d4a8d5-d16a-4460-a89a-648c643448b7",
   "metadata": {},
   "source": [
    "### STATISTICAL HYPOTHESES\n",
    "\n",
    "Null Hypothesis\n",
    "\n",
    "$H_{0}$ : $\\mu_{1} - \\mu_{2} \\leq 0$\n",
    "\n",
    "Alternative Hypothesis (Research Hypothesis)\n",
    "\n",
    "$H_{1}$ : $\\mu_{1} - \\mu_{2} > 0$\n",
    "\n",
    "##### Two Other Possible Alternative Hypotheses\n",
    "\n",
    "1. Another directional hypothesis, expressed as\n",
    "\n",
    "$H_{1}$ : $\\mu_{1} - \\mu_{2} < 0$ translates into a one-tailed test with the lower tail critical.\n",
    "\n",
    "2. A nondirectional hypothesis, expressed as\n",
    "\n",
    "$H_{1}$ : $\\mu_{1} - \\mu_{2} \\neq 0$ translates into a two-tailed test."
   ]
  },
  {
   "cell_type": "markdown",
   "id": "9511eb16-bda5-4dab-bf6a-f87665596828",
   "metadata": {
    "jp-MarkdownHeadingCollapsed": true
   },
   "source": [
    "##### Progress Check *14.1 Identifying the treatment group with μ1, specify both the null and alternative hypotheses for each of the following studies. Select a directional alternative hypothesis only when a word or phrase justifies an exclusive concern about population mean differences in a particular direction.\n",
    "\n",
    "(a) After randomly assigning migrant children to two groups, a school psychologist determines whether there is a difference in the mean reading scores between groups exposed to either a special bilingual or a traditional reading program.\n",
    "\n",
    "Answer:\n",
    "\n",
    "$H_{0}$ : $\\mu_{1} - \\mu_{2} = 0$\n",
    "\n",
    "$H_{1}$ : $\\mu_{1} - \\mu_{2} \\neq 0$\n",
    "\n",
    "(b) On further reflection, the school psychologist decides that, because of the extra expense of the special bilingual program, the null hypothesis should be rejected only if there is evidence that reading scores are improved, on average, for the group exposed to the special\n",
    "bilingual program.\n",
    "\n",
    "Answer:\n",
    "\n",
    "$H_{0}$ : $\\mu_{1} - \\mu_{2} \\leq 0$\n",
    "\n",
    "$H_{1}$ : $\\mu_{1} - \\mu_{2} > 0$\n",
    "\n",
    "(c) An investigator wishes to determine whether, on average, cigarette consumption is reduced for smokers who chew caffeine gum. Smokers in attendance at an antismoking workshop are randomly assigned to two groups—one that chews caffeine gum and one that does not—and their daily cigarette consumption is monitored for six months after the workshop.\n",
    "\n",
    "Answer:\n",
    "\n",
    "$H_{0}$ : $\\mu_{1} - \\mu_{2} \\geq 0$\n",
    "\n",
    "$H_{1}$ : $\\mu_{1} - \\mu_{2} < 0$\n",
    "\n",
    "(d) A political scientist determines whether males and females differ, on average, about the amount of money that, in their opinion, should be spent by the U.S. government on homeland security. After being informed about the size of the current budget for homeland security, in billions of dollars, randomly selected males and females are asked to indicate the percent by which they would alter this amount—for example, –8 percent for an 8 percent reduction, 0 percent for no change, 4 percent for a 4 percent increase.\n",
    "\n",
    "Answer:\n",
    "\n",
    "$H_{0}$ : $\\mu_{1} - \\mu_{2} = 0$\n",
    "\n",
    "$H_{1}$ : $\\mu_{1} - \\mu_{2} \\neq 0$"
   ]
  },
  {
   "cell_type": "markdown",
   "id": "c0e267cf-3781-4b2e-8227-71a3c66b3717",
   "metadata": {},
   "source": [
    "### Mean of the Sampling Distribution , $\\mu_{\\overline{X}_1-\\overline{X}_2}$\n",
    "\n",
    "The mean of the sampling distribution of X equals thepopulation mean, that is,\n",
    "\n",
    "$\\mu_{\\overline{X}} = \\mu$\n",
    "\n",
    "Similarly, the mean of the new sampling distribution of $\\overline{X}_1-\\overline{X}_2$ equals the difference between population means, that is,\n",
    "\n",
    "$\\mu_{\\overline{X}_1-\\overline{X}_2} = \\mu_{1} - \\mu_{2}$"
   ]
  },
  {
   "cell_type": "markdown",
   "id": "e6266aa0-0400-4c24-96aa-f47e4cd16383",
   "metadata": {},
   "source": [
    "### Standard Error of the Sampling Distribution, $\\sigma_{\\overline{X}_1-\\overline{X}_2}$\n",
    "\n",
    "$\\sigma_\\overline{X}$ = $\\dfrac{\\sigma}{\\sqrt{n}} = \\sqrt{\\dfrac{\\sigma^2}{n}}$"
   ]
  }
 ],
 "metadata": {
  "kernelspec": {
   "display_name": "Python 3 (ipykernel)",
   "language": "python",
   "name": "python3"
  },
  "language_info": {
   "codemirror_mode": {
    "name": "ipython",
    "version": 3
   },
   "file_extension": ".py",
   "mimetype": "text/x-python",
   "name": "python",
   "nbconvert_exporter": "python",
   "pygments_lexer": "ipython3",
   "version": "3.10.12"
  }
 },
 "nbformat": 4,
 "nbformat_minor": 5
}
