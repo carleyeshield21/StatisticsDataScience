{
 "cells": [
  {
   "cell_type": "markdown",
   "id": "f4d4a8d5-d16a-4460-a89a-648c643448b7",
   "metadata": {},
   "source": [
    "##### STATISTICAL HYPOTHESES\n",
    "\n",
    "Null Hypothesis\n",
    "\n",
    "$H_{0}$ : $\\mu_{1} - \\mu_{2} \\leq 0$\n",
    "\n",
    "Alternative Hypothesis\n",
    "\n",
    "$H_{1}$ : $\\mu_{1} - \\mu_{2} > 0$"
   ]
  }
 ],
 "metadata": {
  "kernelspec": {
   "display_name": "Python 3 (ipykernel)",
   "language": "python",
   "name": "python3"
  },
  "language_info": {
   "codemirror_mode": {
    "name": "ipython",
    "version": 3
   },
   "file_extension": ".py",
   "mimetype": "text/x-python",
   "name": "python",
   "nbconvert_exporter": "python",
   "pygments_lexer": "ipython3",
   "version": "3.10.12"
  }
 },
 "nbformat": 4,
 "nbformat_minor": 5
}
