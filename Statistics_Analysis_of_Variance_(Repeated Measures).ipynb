{
 "cells": [
  {
   "cell_type": "markdown",
   "id": "e29d2ee3-793e-4571-a049-41264e4f87cf",
   "metadata": {},
   "source": [
    "### $\\bullet$ SUM OF SQUARES (REPEATED MEASURES)\n",
    "$SS_{total}=SS_{between}+SS_{within}$\n",
    "\n",
    "$SS_{total}=SS_{between}+SS_{subject}+SS_{error}$\n",
    "\n",
    "$SS_{within}=SS_{subject}+SS_{error}$\n",
    "\n",
    "### $\\bullet$ WORD, DEFINITION, AND COMPUTATION FORMULAS FOR SS TERMS (REPEATED-MEASURES ANOVA)\n",
    "For the total sums of squares,\n",
    "\n",
    "$SS_{total}$ = the sum of squared deviations for scores about the grand mean\n",
    "\n",
    "$=\\Sigma(X-\\overline{X}_{grand})^2$\n",
    "\n",
    "$SS_{total}=$"
   ]
  },
  {
   "cell_type": "code",
   "execution_count": 42,
   "id": "62a80bba-33fa-438a-8501-f838b8eff67e",
   "metadata": {},
   "outputs": [
    {
     "name": "stdout",
     "output_type": "stream",
     "text": [
      "[(6, 3, 10, 4, 3, 5, 5, 13, 20), (6, 3, 10, 6, 6, 7, 7, 14, 18), (6, 3, 10, 18, 20, 19, 8, 15, 21), (6, 3, 10, 24, 20, 21, 11, 14, 23)]\n"
     ]
    }
   ],
   "source": [
    "import statistics,math,numpy\n",
    "\n",
    "a_lvl1 = [6,6,6,6]\n",
    "a_lvl2 = [3,3,3,3]\n",
    "a_lvl3 = [10,10,10,10]\n",
    "\n",
    "b_lvl1 = [4,6,18,24]\n",
    "b_lvl2 = [3,6,20,20]\n",
    "b_lvl3 = [5,7,19,21]\n",
    "\n",
    "c_lvl1 = [5,7,8,11]\n",
    "c_lvl2 = [13,14,15,14]\n",
    "c_lvl3 = [20,18,21,23]\n",
    "\n",
    "all_list = list(zip(a_lvl1,a_lvl2,a_lvl3,b_lvl1,b_lvl2,b_lvl3,c_lvl1,c_lvl2,c_lvl3))\n",
    "print(all_list)\n",
    "\n",
    "# # print(f'group_mean = {group_mean}')\n",
    "# # Define the lists\n",
    "# c_lvl1 = [5, 7, 8, 11]\n",
    "# c_lvl2 = [13, 14, 15, 14]\n",
    "# c_lvl3 = [20, 18, 21, 23]\n",
    "\n",
    "# # Zip the lists together and then transpose the result\n",
    "# result = list(zip(c_lvl1, c_lvl2, c_lvl3))\n",
    "# print(result)\n",
    "# # Unpack the transposed lists into separate variables\n",
    "# a, b, c, d = [list(column) for column in result]\n",
    "\n",
    "# # Print the output\n",
    "# print(\"a =\", a)\n",
    "# print(\"b =\", b)\n",
    "# print(\"c =\", c)\n",
    "# print(\"d =\", d)"
   ]
  }
 ],
 "metadata": {
  "kernelspec": {
   "display_name": "Python 3 (ipykernel)",
   "language": "python",
   "name": "python3"
  },
  "language_info": {
   "codemirror_mode": {
    "name": "ipython",
    "version": 3
   },
   "file_extension": ".py",
   "mimetype": "text/x-python",
   "name": "python",
   "nbconvert_exporter": "python",
   "pygments_lexer": "ipython3",
   "version": "3.10.12"
  }
 },
 "nbformat": 4,
 "nbformat_minor": 5
}
