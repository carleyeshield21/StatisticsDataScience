{
 "cells": [
  {
   "cell_type": "code",
   "execution_count": 1,
   "id": "62a80bba-33fa-438a-8501-f838b8eff67e",
   "metadata": {},
   "outputs": [
    {
     "data": {
      "text/plain": [
       "[[6, 6, 6, 6],\n",
       " [3, 3, 3, 3],\n",
       " [10, 10, 10, 10],\n",
       " [4, 6, 18, 24],\n",
       " [3, 6, 20, 20],\n",
       " [5, 7, 19, 21]]"
      ]
     },
     "execution_count": 1,
     "metadata": {},
     "output_type": "execute_result"
    }
   ],
   "source": [
    "a_lvl1 = [6,6,6,6]\n",
    "a_lvl2 = [3,3,3,3]\n",
    "a_lvl3 = [10,10,10,10]\n",
    "\n",
    "b_lvl1 = [4,6,18,24]\n",
    "b_lvl2 = [3,6,20,20]\n",
    "b_lvl3 = [5,7,19,21]\n",
    "\n",
    "c_lvl1 = [5,7,8,11]\n",
    "c_lvl2 = [13,14,15,14]\n",
    "c_lvl3 = [20,18,21,23]\n",
    "\n",
    "total_list = [a_lvl1,a_lvl2,a_lvl3,b_lvl1,b_lvl2,b_lvl3]\n",
    "total_list"
   ]
  }
 ],
 "metadata": {
  "kernelspec": {
   "display_name": "Python 3 (ipykernel)",
   "language": "python",
   "name": "python3"
  },
  "language_info": {
   "codemirror_mode": {
    "name": "ipython",
    "version": 3
   },
   "file_extension": ".py",
   "mimetype": "text/x-python",
   "name": "python",
   "nbconvert_exporter": "python",
   "pygments_lexer": "ipython3",
   "version": "3.10.12"
  }
 },
 "nbformat": 4,
 "nbformat_minor": 5
}
