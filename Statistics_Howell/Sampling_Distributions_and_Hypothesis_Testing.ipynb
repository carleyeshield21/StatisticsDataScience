{
 "cells": [
  {
   "cell_type": "code",
   "execution_count": 1,
   "id": "efcbef04-579b-4a93-a580-42bafcb24fa3",
   "metadata": {},
   "outputs": [
    {
     "name": "stdout",
     "output_type": "stream",
     "text": [
      "proportion = 0.017\n",
      "z = -2.12\n"
     ]
    }
   ],
   "source": [
    "from scipy.stats import norm\n",
    "\n",
    "proportion = round(norm.cdf(-2.13),3)\n",
    "print(f'proportion = {proportion}')\n",
    "\n",
    "z = round(norm.ppf(proportion),3)\n",
    "print(f'z = {z}')"
   ]
  },
  {
   "cell_type": "markdown",
   "id": "90ebe0eb-3d78-470e-94c7-d157684d6db1",
   "metadata": {},
   "source": [
    "#### 4.2 For the past year I have spent about $4.00 a day for lunch, give or take a quarter or so.\n",
    "a. Draw a rough sketch of this distribution of daily expenditures.\n",
    "\n",
    "b. If, without looking at the bill, I paid for my lunch with a 5 dollar bill and received $.75 in change, should I worry that I was overcharged?\n",
    "\n",
    "c. Explain the logic involved in your answer to part (b)."
   ]
  },
  {
   "cell_type": "code",
   "execution_count": 4,
   "id": "bb8e4129-4ee7-4e74-9665-564ecdd4d31f",
   "metadata": {
    "scrolled": true
   },
   "outputs": [
    {
     "data": {
      "text/plain": [
       "(array([11., 37., 28., 51., 65., 58., 24., 20.,  4.,  2.]),\n",
       " array([3.4601564 , 3.58698694, 3.71381749, 3.84064803, 3.96747857,\n",
       "        4.09430912, 4.22113966, 4.3479702 , 4.47480075, 4.60163129,\n",
       "        4.72846183]),\n",
       " <BarContainer object of 10 artists>)"
      ]
     },
     "execution_count": 4,
     "metadata": {},
     "output_type": "execute_result"
    },
    {
     "data": {
      "image/png": "[encoded data removed]",
      "text/plain": [
       "<Figure size 640x480 with 1 Axes>"
      ]
     },
     "metadata": {},
     "output_type": "display_data"
    }
   ],
   "source": [
    "import matplotlib.pyplot as plt\n",
    "import numpy as np\n",
    "mean = 4\n",
    "sd = 0.25\n",
    "expenditure = np.random.normal(mean,sd,300)\n",
    "\n",
    "plt.hist(expenditure)"
   ]
  },
  {
   "cell_type": "markdown",
   "id": "7413d6eb-fe9f-4139-ae7b-038cf1faf9a9",
   "metadata": {},
   "source": [
    "#### 4.7 A recently admitted class of graduate students at a large state university has a mean Graduate Record Exam verbal score of 650 with a standard deviation of 50. (The scores are reasonably normally distributed.) One student, whose mother just happens to be on the board of trustees, was admitted with a GRE score of 490. Should the local newspaper editor, who loves scandals, write a scathing editorial about favoritism?"
   ]
  },
  {
   "cell_type": "code",
   "execution_count": 11,
   "id": "6f097289-55b5-48ca-8030-306fc2d148e6",
   "metadata": {},
   "outputs": [
    {
     "name": "stdout",
     "output_type": "stream",
     "text": [
      "z = -3.2\n",
      "proportion = 0.00069\n"
     ]
    }
   ],
   "source": [
    "from scipy.stats import norm\n",
    "mean = 650\n",
    "sd = 50\n",
    "X = 490\n",
    "z = (X-mean)/sd\n",
    "print(f'z = {z}')\n",
    "\n",
    "proportion = round(norm.cdf(z),5)\n",
    "print(f'proportion = {proportion}')"
   ]
  }
 ],
 "metadata": {
  "kernelspec": {
   "display_name": "Python 3 (ipykernel)",
   "language": "python",
   "name": "python3"
  },
  "language_info": {
   "codemirror_mode": {
    "name": "ipython",
    "version": 3
   },
   "file_extension": ".py",
   "mimetype": "text/x-python",
   "name": "python",
   "nbconvert_exporter": "python",
   "pygments_lexer": "ipython3",
   "version": "3.10.12"
  }
 },
 "nbformat": 4,
 "nbformat_minor": 5
}
