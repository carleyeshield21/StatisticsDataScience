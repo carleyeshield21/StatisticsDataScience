{
 "cells": [
  {
   "cell_type": "code",
   "execution_count": 1,
   "id": "efcbef04-579b-4a93-a580-42bafcb24fa3",
   "metadata": {},
   "outputs": [
    {
     "name": "stdout",
     "output_type": "stream",
     "text": [
      "proportion = 0.017\n",
      "z = -2.12\n"
     ]
    }
   ],
   "source": [
    "from scipy.stats import norm\n",
    "\n",
    "proportion = round(norm.cdf(-2.13),3)\n",
    "print(f'proportion = {proportion}')\n",
    "\n",
    "z = round(norm.ppf(proportion),3)\n",
    "print(f'z = {z}')"
   ]
  },
  {
   "cell_type": "markdown",
   "id": "90ebe0eb-3d78-470e-94c7-d157684d6db1",
   "metadata": {},
   "source": [
    "#### 4.2 For the past year I have spent about $4.00 a day for lunch, give or take a quarter or so.\n",
    "a. Draw a rough sketch of this distribution of daily expenditures.\n",
    "\n",
    "b. If, without looking at the bill, I paid for my lunch with a 5 dollar bill and received $.75 in change, should I worry that I was overcharged?\n",
    "\n",
    "c. Explain the logic involved in your answer to part (b)."
   ]
  },
  {
   "cell_type": "code",
   "execution_count": 2,
   "id": "bb8e4129-4ee7-4e74-9665-564ecdd4d31f",
   "metadata": {
    "scrolled": true
   },
   "outputs": [
    {
     "data": {
      "text/plain": [
       "(array([ 9., 22., 44., 59., 69., 47., 32., 13.,  4.,  1.]),\n",
       " array([3.38911523, 3.52660659, 3.66409796, 3.80158933, 3.93908069,\n",
       "        4.07657206, 4.21406342, 4.35155479, 4.48904616, 4.62653752,\n",
       "        4.76402889]),\n",
       " <BarContainer object of 10 artists>)"
      ]
     },
     "execution_count": 2,
     "metadata": {},
     "output_type": "execute_result"
    },
    {
     "data": {
      "image/png": "[encoded data removed]",
      "text/plain": [
       "<Figure size 640x480 with 1 Axes>"
      ]
     },
     "metadata": {},
     "output_type": "display_data"
    }
   ],
   "source": [
    "import matplotlib.pyplot as plt\n",
    "import numpy as np\n",
    "mean = 4\n",
    "sd = 0.25\n",
    "expenditure = np.random.normal(mean,sd,300)\n",
    "\n",
    "plt.hist(expenditure)"
   ]
  },
  {
   "cell_type": "markdown",
   "id": "7413d6eb-fe9f-4139-ae7b-038cf1faf9a9",
   "metadata": {},
   "source": [
    "#### 4.7 A recently admitted class of graduate students at a large state university has a mean Graduate Record Exam verbal score of 650 with a standard deviation of 50. (The scores are reasonably normally distributed.) One student, whose mother just happens to be on the board of trustees, was admitted with a GRE score of 490. Should the local newspaper editor, who loves scandals, write a scathing editorial about favoritism?"
   ]
  },
  {
   "cell_type": "code",
   "execution_count": 3,
   "id": "6f097289-55b5-48ca-8030-306fc2d148e6",
   "metadata": {},
   "outputs": [
    {
     "name": "stdout",
     "output_type": "stream",
     "text": [
      "z = -3.2\n",
      "proportion = 0.00069\n"
     ]
    }
   ],
   "source": [
    "from scipy.stats import norm\n",
    "mean = 650\n",
    "sd = 50\n",
    "X = 490\n",
    "z = (X-mean)/sd\n",
    "print(f'z = {z}')\n",
    "\n",
    "proportion = round(norm.cdf(z),5)\n",
    "print(f'proportion = {proportion}')"
   ]
  },
  {
   "cell_type": "markdown",
   "id": "30af6808-ff47-42d0-b0c0-f0a33b75cfb5",
   "metadata": {},
   "source": [
    "#### Permutations - when arrangement is considered\n",
    "\n",
    "$P_r^{N}=\\dfrac{N!}{(N-r)!}$\n",
    "\n",
    "#### Combinations - when arrangement is not considered\n",
    "\n",
    "$C_r^{N}=\\dfrac{N!}{r!(N-r)!}$"
   ]
  },
  {
   "cell_type": "markdown",
   "id": "2bd27588-12a3-4faa-b6c2-b121e44369cf",
   "metadata": {},
   "source": [
    "#### 5.26 In a study of human cognition, we want to look at recall of different classes of words (nouns, verbs, adjectives, and adverbs). Each subject will see one of each. We are afraid that there may be a sequence effect, however, and want to have different subjects see the different classes in a different order. How many subjects will we need if we are to have one subject per order?"
   ]
  },
  {
   "cell_type": "code",
   "execution_count": 4,
   "id": "719ec470-25f3-4e33-9bb2-1f81bd5f49fd",
   "metadata": {},
   "outputs": [
    {
     "name": "stdout",
     "output_type": "stream",
     "text": [
      "24\n",
      "6\n",
      "count3 = 19535040\n"
     ]
    }
   ],
   "source": [
    "from itertools import permutations, combinations\n",
    "list =['nouns', 'verbs', 'adjectives', 'adverbs']\n",
    "\n",
    "count1 = 0\n",
    "for item in permutations(list,4):\n",
    "    count1 += 1\n",
    "print(count1)\n",
    "\n",
    "count2 = 0\n",
    "for item in combinations(list,2):\n",
    "    count2 += 1\n",
    "print(count2)\n",
    "\n",
    "list2 = [n for n in range(1,20)]\n",
    "count3 = 0\n",
    "for n in permutations(list2,6):\n",
    "    # print(n)\n",
    "    count3 += 1\n",
    "print(f'count3 = {count3}')"
   ]
  }
 ],
 "metadata": {
  "kernelspec": {
   "display_name": "Python 3 (ipykernel)",
   "language": "python",
   "name": "python3"
  },
  "language_info": {
   "codemirror_mode": {
    "name": "ipython",
    "version": 3
   },
   "file_extension": ".py",
   "mimetype": "text/x-python",
   "name": "python",
   "nbconvert_exporter": "python",
   "pygments_lexer": "ipython3",
   "version": "3.10.12"
  }
 },
 "nbformat": 4,
 "nbformat_minor": 5
}
