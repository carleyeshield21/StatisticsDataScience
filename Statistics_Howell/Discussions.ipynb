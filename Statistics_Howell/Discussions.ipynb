{
 "cells": [
  {
   "cell_type": "code",
   "execution_count": 8,
   "id": "333247b3-f646-4d15-a06a-118963b8b17b",
   "metadata": {},
   "outputs": [
    {
     "name": "stdout",
     "output_type": "stream",
     "text": [
      "mean = 8\n",
      "list1 = 8\n"
     ]
    }
   ],
   "source": [
    "import statistics,math,numpy\n",
    "\n",
    "list = [6,8,10]\n",
    "mean = statistics.mean(list)\n",
    "print(f'mean = {mean}')\n",
    "\n",
    "list1 = [9,5,10]\n",
    "mean1 = statistics.mean(list1)\n",
    "print(f'list1 = {mean1}')"
   ]
  },
  {
   "cell_type": "markdown",
   "id": "2a3e05f5-d814-4f33-8bea-4bc6f8bc344c",
   "metadata": {},
   "source": [
    "#### $\\bullet$ Degrees of freedom\n",
    "\n",
    "In the lists above, the first one has a mean of 8, we use N-1 as the degree of freedom, because one element of the list cannot vary, it has to be dependent on the value of the original mean, we have change the first and third element to any value, but the second one has to adjust to a number so that if we take the mean, it has to be the same as the fi"
   ]
  }
 ],
 "metadata": {
  "kernelspec": {
   "display_name": "Python 3 (ipykernel)",
   "language": "python",
   "name": "python3"
  },
  "language_info": {
   "codemirror_mode": {
    "name": "ipython",
    "version": 3
   },
   "file_extension": ".py",
   "mimetype": "text/x-python",
   "name": "python",
   "nbconvert_exporter": "python",
   "pygments_lexer": "ipython3",
   "version": "3.10.12"
  }
 },
 "nbformat": 4,
 "nbformat_minor": 5
}
