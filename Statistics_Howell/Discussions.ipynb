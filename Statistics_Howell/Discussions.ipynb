{
 "cells": [
  {
   "cell_type": "code",
   "execution_count": 8,
   "id": "333247b3-f646-4d15-a06a-118963b8b17b",
   "metadata": {},
   "outputs": [
    {
     "name": "stdout",
     "output_type": "stream",
     "text": [
      "mean = 8\n",
      "list1 = 8\n"
     ]
    }
   ],
   "source": [
    "import statistics,math,numpy\n",
    "\n",
    "list = [6,8,10]\n",
    "mean = statistics.mean(list)\n",
    "print(f'mean = {mean}')\n",
    "\n",
    "list1 = [9,5,10]\n",
    "mean1 = statistics.mean(list1)\n",
    "print(f'list1 = {mean1}')"
   ]
  },
  {
   "cell_type": "markdown",
   "id": "2a3e05f5-d814-4f33-8bea-4bc6f8bc344c",
   "metadata": {},
   "source": [
    "#### $\\bullet$ Degrees of freedom\n",
    "\n",
    "In the lists above, the first one has a mean of 8, we use N-1 as the degree of freedom, because one element of the list cannot vary, it has to be dependent on the value of the original mean, we have change the first and third element to any value, but the second one has to adjust to a number so that if we take the mean, it has to be the same as the first list as 8."
   ]
  },
  {
   "cell_type": "code",
   "execution_count": 9,
   "id": "f3ab619d-5c0e-4e27-a68f-1cc0131477c1",
   "metadata": {},
   "outputs": [
    {
     "data": {
      "text/plain": [
       "3.0"
      ]
     },
     "execution_count": 9,
     "metadata": {},
     "output_type": "execute_result"
    }
   ],
   "source": [
    "new_inf = [2,1,7,1,33,2,2,3,4,3,4,3,3,10,9,2,5,4,3,3,20,6,2,4,5,2,1,3,3,4,2,3,4,3,2,3,2,4]\n",
    "median = statistics.median(new_inf)\n",
    "median"
   ]
  },
  {
   "cell_type": "code",
   "execution_count": 13,
   "id": "ec585f65-3223-4980-a085-96e4d99ae93f",
   "metadata": {},
   "outputs": [
    {
     "name": "stdout",
     "output_type": "stream",
     "text": [
      "Q1 = 2.0\n",
      "Q2 = 3.0\n",
      "Q3 = 4.0\n",
      "IQR = 2.0\n"
     ]
    }
   ],
   "source": [
    "import statistics,math,numpy\n",
    "new_inf = [2,1,7,1,33,2,2,3,4,3,4,3,3,10,9,2,5,4,3,3,20,6,2,4,5,2,1,3,3,4,2,3,4,3,2,3,2,4]\n",
    "\n",
    "# Computing for quartiles using numpy\n",
    "Q1 = numpy.percentile(new_inf,25)\n",
    "Q2 = numpy.percentile(new_inf,50)\n",
    "Q3 = numpy.percentile(new_inf,75)\n",
    "print(f'Q1 = {Q1}\\nQ2 = {Q2}\\nQ3 = {Q3}')\n",
    "\n",
    "# Inter Quartile Range (Q3-Q2)\n",
    "IQR = Q3 - Q1\n",
    "print(f'IQR = {IQR}')"
   ]
  }
 ],
 "metadata": {
  "kernelspec": {
   "display_name": "Python 3 (ipykernel)",
   "language": "python",
   "name": "python3"
  },
  "language_info": {
   "codemirror_mode": {
    "name": "ipython",
    "version": 3
   },
   "file_extension": ".py",
   "mimetype": "text/x-python",
   "name": "python",
   "nbconvert_exporter": "python",
   "pygments_lexer": "ipython3",
   "version": "3.10.12"
  }
 },
 "nbformat": 4,
 "nbformat_minor": 5
}
