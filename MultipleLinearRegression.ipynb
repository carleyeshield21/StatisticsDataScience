{
 "cells": [
  {
   "cell_type": "markdown",
   "id": "571d2dd2-0d27-4bae-ab31-f7a8e1dc86fa",
   "metadata": {},
   "source": [
    "# Multiple Linear Regression and adjusted R-squared"
   ]
  },
  {
   "cell_type": "markdown",
   "id": "71575882-61ec-44a9-a674-fa1a9235e3bc",
   "metadata": {},
   "source": [
    "### Importing L"
   ]
  },
  {
   "cell_type": "code",
   "execution_count": 1,
   "id": "000605a4-37d4-40c7-81c3-30c24c9893d8",
   "metadata": {},
   "outputs": [],
   "source": [
    "import numpy\n",
    "import pandas\n",
    "import matplotlib\n",
    "import seaborn\n",
    "import sklearn\n",
    "import scipy\n",
    "import statsmodels.api as sm\n",
    "import matplotlib.pyplot"
   ]
  }
 ],
 "metadata": {
  "kernelspec": {
   "display_name": "Python 3 (ipykernel)",
   "language": "python",
   "name": "python3"
  },
  "language_info": {
   "codemirror_mode": {
    "name": "ipython",
    "version": 3
   },
   "file_extension": ".py",
   "mimetype": "text/x-python",
   "name": "python",
   "nbconvert_exporter": "python",
   "pygments_lexer": "ipython3",
   "version": "3.11.6"
  }
 },
 "nbformat": 4,
 "nbformat_minor": 5
}
