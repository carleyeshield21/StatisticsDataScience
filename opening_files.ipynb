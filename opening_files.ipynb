{
 "cells": [
  {
   "cell_type": "code",
   "execution_count": 1,
   "id": "b2164e2c-fe5f-4e43-9edf-5d763218d89f",
   "metadata": {},
   "outputs": [],
   "source": [
    "# file = open('Lending-company.csv')\n",
    "# file1=file.read()\n",
    "# type(file1)\n",
    "with open('Lending-company.csv',mode='r') as file:\n",
    "    file1 = file.read()"
   ]
  },
  {
   "cell_type": "code",
   "execution_count": 2,
   "id": "02679c5f-6422-4cda-93f1-b3daadcbd26a",
   "metadata": {},
   "outputs": [
    {
     "data": {
      "text/plain": [
       "str"
      ]
     },
     "execution_count": 2,
     "metadata": {},
     "output_type": "execute_result"
    }
   ],
   "source": [
    "with open('Lending-company.csv',mode='r') as file2:\n",
    "    the_file = file1.read()\n",
    "# the_file\n",
    "type(the_file)"
   ]
  },
  {
   "cell_type": "code",
   "execution_count": 3,
   "id": "c8a9fb58-0fa4-4f21-b0f8-432a086010b7",
   "metadata": {
    "scrolled": true
   },
   "outputs": [
    {
     "data": {
      "text/plain": [
       "False"
      ]
     },
     "execution_count": 3,
     "metadata": {},
     "output_type": "execute_result"
    }
   ],
   "source": [
    "file1 == the_file"
   ]
  },
  {
   "cell_type": "code",
   "execution_count": 4,
   "id": "8246697c-9bfd-4a1b-859c-88c0facc85c8",
   "metadata": {},
   "outputs": [
    {
     "name": "stdout",
     "output_type": "stream",
     "text": [
      "<class 'str'>\n"
     ]
    }
   ],
   "source": [
    "with open('file.txt', mode='r') as file1:\n",
    "    x=file1.read()\n",
    "    print(type(x))"
   ]
  },
  {
   "cell_type": "code",
   "execution_count": 5,
   "id": "314ede06-b571-4293-b352-e548b3a1f031",
   "metadata": {},
   "outputs": [
    {
     "data": {
      "text/plain": [
       "str"
      ]
     },
     "execution_count": 5,
     "metadata": {},
     "output_type": "execute_result"
    }
   ],
   "source": [
    "file2 = open('file2.txt')\n",
    "y = file2.read()\n",
    "type(y)"
   ]
  },
  {
   "cell_type": "code",
   "execution_count": 6,
   "id": "316f3166-f08b-4368-9ce7-263cb6a3656a",
   "metadata": {},
   "outputs": [
    {
     "data": {
      "text/plain": [
       "True"
      ]
     },
     "execution_count": 6,
     "metadata": {},
     "output_type": "execute_result"
    }
   ],
   "source": [
    "x == y"
   ]
  }
 ],
 "metadata": {
  "kernelspec": {
   "display_name": "Python 3 (ipykernel)",
   "language": "python",
   "name": "python3"
  },
  "language_info": {
   "codemirror_mode": {
    "name": "ipython",
    "version": 3
   },
   "file_extension": ".py",
   "mimetype": "text/x-python",
   "name": "python",
   "nbconvert_exporter": "python",
   "pygments_lexer": "ipython3",
   "version": "3.12.0"
  }
 },
 "nbformat": 4,
 "nbformat_minor": 5
}
