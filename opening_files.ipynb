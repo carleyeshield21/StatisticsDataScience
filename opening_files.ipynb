{
 "cells": [
  {
   "cell_type": "code",
   "execution_count": 25,
   "id": "b2164e2c-fe5f-4e43-9edf-5d763218d89f",
   "metadata": {},
   "outputs": [],
   "source": [
    "file = open('Lending-company.csv')\n",
    "# file.read()"
   ]
  },
  {
   "cell_type": "code",
   "execution_count": 14,
   "id": "02679c5f-6422-4cda-93f1-b3daadcbd26a",
   "metadata": {},
   "outputs": [],
   "source": [
    "with open('Location.csv',mode='r') as file1:\n",
    "    the_file = file1.read()\n",
    "# the_file"
   ]
  },
  {
   "cell_type": "code",
   "execution_count": 15,
   "id": "c8a9fb58-0fa4-4f21-b0f8-432a086010b7",
   "metadata": {
    "scrolled": true
   },
   "outputs": [
    {
     "data": {
      "text/plain": [
       "False"
      ]
     },
     "execution_count": 15,
     "metadata": {},
     "output_type": "execute_result"
    }
   ],
   "source": [
    "file == the_file"
   ]
  },
  {
   "cell_type": "code",
   "execution_count": 28,
   "id": "8246697c-9bfd-4a1b-859c-88c0facc85c8",
   "metadata": {},
   "outputs": [
    {
     "name": "stdout",
     "output_type": "stream",
     "text": [
      "<function compare_files at 0x7ff268573100>\n"
     ]
    }
   ],
   "source": [
    "def compare_files():\n",
    "    file = open('Lending-company.csv')\n",
    "\n",
    "    with open('Location.csv',mode='r') as file1:\n",
    "        the_file = file1.read()\n",
    "    result = file == the_file\n",
    "    print(result)\n",
    "print(compare_files)"
   ]
  },
  {
   "cell_type": "code",
   "execution_count": null,
   "id": "2de6c1af-43b0-4bb3-9b3d-61daff185e06",
   "metadata": {},
   "outputs": [],
   "source": []
  }
 ],
 "metadata": {
  "kernelspec": {
   "display_name": "Python 3 (ipykernel)",
   "language": "python",
   "name": "python3"
  },
  "language_info": {
   "codemirror_mode": {
    "name": "ipython",
    "version": 3
   },
   "file_extension": ".py",
   "mimetype": "text/x-python",
   "name": "python",
   "nbconvert_exporter": "python",
   "pygments_lexer": "ipython3",
   "version": "3.12.0"
  }
 },
 "nbformat": 4,
 "nbformat_minor": 5
}
