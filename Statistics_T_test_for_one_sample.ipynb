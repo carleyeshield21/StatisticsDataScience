{
 "cells": [
  {
   "cell_type": "markdown",
   "id": "6c039ad6-e5ee-4b12-af28-c95c6a416c60",
   "metadata": {},
   "source": [
    "##### Progress Check *13.1 Find the critical t values for the following hypothesis tests:\n",
    "(a) two-tailed test, α = .05, df = 12 t = $\\pm$ 2.179\n",
    "\n",
    "(b) one-tailed test, lower tail critical, α = .01, df = 19 t = -2.539\n",
    "\n",
    "(c) one-tailed test, upper tail critical, α = .05, df = 38 t = 1.697\n",
    "\n",
    "(d) two-tailed test, α = .01, df = 48 $\\pm$ 2.704"
   ]
  },
  {
   "cell_type": "markdown",
   "id": "fe1c1be7-3a82-4974-988f-5b0d14d677e7",
   "metadata": {},
   "source": [
    "##### t Test\n",
    "\n",
    "$z$ = $\\dfrac{sample~mean - hypothesized~population~mean}{standard~error}$ = $\\dfrac{\\overline{X} - \\mu_{hyp}}{\\sigma_{\\overline{X}}}$"
   ]
  },
  {
   "cell_type": "markdown",
   "id": "405a2cdf-4c07-4370-9fa2-fd2add02b3f1",
   "metadata": {},
   "source": [
    "##### t RATIO FOR A SINGLE POPULATION MEAN\n",
    "\n",
    "$t$ = $\\dfrac{sample~mean - hypothesized~population~mean}{estimated~standard~error}$ = $\\dfrac{\\overline{X} - \\mu_{hyp}}{S_{\\overline{X}}}$"
   ]
  },
  {
   "cell_type": "markdown",
   "id": "c734e30f-928a-41f4-a13f-b30f5f12e8c5",
   "metadata": {},
   "source": [
    "##### Standard Error or Mean\n",
    "\n",
    "$\\sigma_\\overline{X}$ = $\\dfrac{\\sigma}{\\sqrt{n}}$"
   ]
  },
  {
   "cell_type": "markdown",
   "id": "ef79f4d4-7116-4f5a-a998-ef08fa0852ff",
   "metadata": {},
   "source": [
    "##### ESTIMATED STANDARD ERROR OF THE MEAN\n",
    "$S_\\overline{X}$ = $\\dfrac{S}{\\sqrt{n}}$\n",
    "\n",
    "###### where $S_\\overline{X}$ represents the estimated standard error of the mean; n equals the sample size; and s has been defined as S is the standard deviation\n",
    "$S$ = $\\sqrt{\\dfrac{{SS}}{n-1}}$ = $\\sqrt{\\dfrac{{SS}}{df}}$\n",
    "\n",
    "$SS$ = $\\Sigma({X}-\\overline{X})^2$ = $\\Sigma{X}^2$ - $\\dfrac{(\\Sigma{X})^2}{n}$"
   ]
  },
  {
   "cell_type": "markdown",
   "id": "ad276bbc-6505-41e6-ae9f-9e0371722c5a",
   "metadata": {},
   "source": [
    "##### Progress Check *13.2 A consumers’ group randomly samples 10 “one-pound” packages of ground beef sold by a supermarket. Calculate \n",
    "(a) the mean and \n",
    "\n",
    "(b) the estimated standard error of the mean for this sample, given the following weights in ounces: 16, 15, 14, 15, 14, 15, 16, 14, 14, 14.\n",
    "(NOTE: Refer to Panels I and II of Table 13.1 for detailed guidance when calculating the mean and estimated standard error for this new set of data.)"
   ]
  },
  {
   "cell_type": "code",
   "execution_count": 27,
   "id": "25f0c572-cb96-47e6-867a-e0dcb4c075a4",
   "metadata": {},
   "outputs": [
    {
     "name": "stdout",
     "output_type": "stream",
     "text": [
      "mean = 14.7\n",
      "standard_deviation = 0.8232726023485646\n",
      "standard error of mean = 0.2603416558635551\n"
     ]
    }
   ],
   "source": [
    "import math\n",
    "import statistics\n",
    "\n",
    "weights = [16, 15, 14, 15, 14, 15, 16, 14, 14, 14]\n",
    "n = len(weights)\n",
    "mean = statistics.mean(weights)\n",
    "std_dev = statistics.stdev(weights)\n",
    "print(f'mean = {mean}\\nstandard_deviation = {std_dev}')\n",
    "\n",
    "squared_weights = [weight**2 for weight in weights]\n",
    "sum_squared_weights = sum(squared_weights)\n",
    "\n",
    "sum_of_weights_squared = (sum(weights))**2\n",
    "\n",
    "SS = sum_squared_weights - (sum_of_weights_squared)/n\n",
    "\n",
    "std_error_mean = std_dev/math.sqrt(n)\n",
    "print(f'standard error of mean = {std_error_mean}')"
   ]
  },
  {
   "cell_type": "markdown",
   "id": "54485504-bee8-4d4d-9be3-94fd95683a0f",
   "metadata": {},
   "source": [
    "$t$ = $\\dfrac{sample~mean - hypothesized~population~mean}{estimated~standard~error}$ = $\\dfrac{\\overline{X} - \\mu_{hyp}}{S_{\\overline{X}}}$"
   ]
  },
  {
   "cell_type": "code",
   "execution_count": 26,
   "id": "000102ff-ac50-4e9b-baa3-9d78c5d0bb96",
   "metadata": {},
   "outputs": [
    {
     "name": "stdout",
     "output_type": "stream",
     "text": [
      "mean = 43\n",
      "standard_deviation = 2.1908902300206643\n",
      "standard error of mean = 0.8944271909999159\n",
      "t = -2.23606797749979\n"
     ]
    }
   ],
   "source": [
    "nums = [40,44,46,41,43,44]\n",
    "X = 43\n",
    "X_hyp = 45\n",
    "\n",
    "n = len(nums)\n",
    "mean = statistics.mean(nums)\n",
    "std_dev = statistics.stdev(nums)\n",
    "print(f'mean = {mean}\\nstandard_deviation = {std_dev}')\n",
    "\n",
    "squared_nums = [num**2 for num in nums]\n",
    "sum_squared_nums = sum(squared_nums)\n",
    "\n",
    "sum_of_nums_squared = (sum(nums))**2\n",
    "\n",
    "SS = sum_squared_nums - (sum_of_nums_squared)/n\n",
    "\n",
    "std_error_mean = std_dev/math.sqrt(n)\n",
    "print(f'standard error of mean = {std_error_mean}')\n",
    "\n",
    "t = (X - X_hyp)/std_error_mean\n",
    "print(f't = {t}')"
   ]
  }
 ],
 "metadata": {
  "kernelspec": {
   "display_name": "Python 3 (ipykernel)",
   "language": "python",
   "name": "python3"
  },
  "language_info": {
   "codemirror_mode": {
    "name": "ipython",
    "version": 3
   },
   "file_extension": ".py",
   "mimetype": "text/x-python",
   "name": "python",
   "nbconvert_exporter": "python",
   "pygments_lexer": "ipython3",
   "version": "3.10.12"
  }
 },
 "nbformat": 4,
 "nbformat_minor": 5
}
