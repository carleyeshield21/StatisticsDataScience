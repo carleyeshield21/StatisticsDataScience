{
 "cells": [
  {
   "cell_type": "markdown",
   "id": "6c039ad6-e5ee-4b12-af28-c95c6a416c60",
   "metadata": {},
   "source": [
    "##### Progress Check *13.1 Find the critical t values for the following hypothesis tests:\n",
    "(a) two-tailed test, α = .05, df = 12 t = $\\pm$ 2.179\n",
    "\n",
    "(b) one-tailed test, lower tail critical, α = .01, df = 19 t = -2.539\n",
    "\n",
    "(c) one-tailed test, upper tail critical, α = .05, df = 38 t = 1.697\n",
    "\n",
    "(d) two-tailed test, α = .01, df = 48 $\\pm$ 2.704"
   ]
  },
  {
   "cell_type": "markdown",
   "id": "fe1c1be7-3a82-4974-988f-5b0d14d677e7",
   "metadata": {},
   "source": [
    "##### t Test\n",
    "\n",
    "$z$ = $\\dfrac{sample~mean - hypothesized~population~mean}{standard~error}$ = $\\dfrac{\\overline{X} - \\mu_{hyp}}{\\sigma_{\\overline{X}}}$"
   ]
  },
  {
   "cell_type": "markdown",
   "id": "405a2cdf-4c07-4370-9fa2-fd2add02b3f1",
   "metadata": {},
   "source": [
    "##### t RATIO FOR A SINGLE POPULATION MEAN\n",
    "\n",
    "$t$ = $\\dfrac{sample~mean - hypothesized~population~mean}{estimated~standard~error}$ = $\\dfrac{\\overline{X} - \\mu_{hyp}}{S_{\\overline{X}}}$"
   ]
  },
  {
   "cell_type": "markdown",
   "id": "c734e30f-928a-41f4-a13f-b30f5f12e8c5",
   "metadata": {},
   "source": [
    "##### Standard Error or Mean\n",
    "\n",
    "$\\sigma_\\overline{X}$ = $\\dfrac{\\sigma}{\\sqrt{n}}$"
   ]
  },
  {
   "cell_type": "markdown",
   "id": "ef79f4d4-7116-4f5a-a998-ef08fa0852ff",
   "metadata": {},
   "source": [
    "##### ESTIMATED STANDARD ERROR OF THE MEAN\n",
    "$S_\\overline{X}$ = $\\dfrac{S}{\\sqrt{n}}$\n",
    "\n",
    "###### where $S_\\overline{X}$ represents the estimated standard error of the mean; n equals the sample size; and s has been defined as S is the standard deviation\n",
    "$S$ = $\\sqrt{\\dfrac{{SS}}{n-1}}$ = $\\sqrt{\\dfrac{{SS}}{df}}$\n",
    "\n",
    "$SS$ = $\\Sigma({X}-\\overline{X})^2$ = $\\Sigma{X}^2$ - $\\dfrac{(\\Sigma{X})^2}{n}$"
   ]
  },
  {
   "cell_type": "markdown",
   "id": "ad276bbc-6505-41e6-ae9f-9e0371722c5a",
   "metadata": {},
   "source": [
    "##### Progress Check *13.2 A consumers’ group randomly samples 10 “one-pound” packages of ground beef sold by a supermarket. Calculate \n",
    "(a) the mean and \n",
    "\n",
    "(b) the estimated standard error of the mean for this sample, given the following weights in ounces: 16, 15, 14, 15, 14, 15, 16, 14, 14, 14.\n",
    "(NOTE: Refer to Panels I and II of Table 13.1 for detailed guidance when calculating the mean and estimated standard error for this new set of data.)"
   ]
  },
  {
   "cell_type": "code",
   "execution_count": 1,
   "id": "25f0c572-cb96-47e6-867a-e0dcb4c075a4",
   "metadata": {},
   "outputs": [
    {
     "name": "stdout",
     "output_type": "stream",
     "text": [
      "mean = 14.7\n",
      "standard_deviation = 0.8232726023485646\n",
      "standard error of mean = 0.2603416558635551\n"
     ]
    }
   ],
   "source": [
    "import math\n",
    "import statistics\n",
    "\n",
    "weights = [16, 15, 14, 15, 14, 15, 16, 14, 14, 14]\n",
    "n = len(weights)\n",
    "mean = statistics.mean(weights)\n",
    "std_dev = statistics.stdev(weights)\n",
    "print(f'mean = {mean}\\nstandard_deviation = {std_dev}')\n",
    "\n",
    "squared_weights = [weight**2 for weight in weights]\n",
    "sum_squared_weights = sum(squared_weights)\n",
    "\n",
    "sum_of_weights_squared = (sum(weights))**2\n",
    "\n",
    "SS = sum_squared_weights - (sum_of_weights_squared)/n\n",
    "\n",
    "std_error_mean = std_dev/math.sqrt(n)\n",
    "print(f'standard error of mean = {std_error_mean}')"
   ]
  },
  {
   "cell_type": "markdown",
   "id": "54485504-bee8-4d4d-9be3-94fd95683a0f",
   "metadata": {},
   "source": [
    "$t$ = $\\dfrac{sample~mean - hypothesized~population~mean}{estimated~standard~error}$ = $\\dfrac{\\overline{X} - \\mu_{hyp}}{S_{\\overline{X}}}$\n",
    "\n",
    "##### ESTIMATED STANDARD ERROR OF THE MEAN\n",
    "$S_\\overline{X}$ = $\\dfrac{S}{\\sqrt{n}}$\n",
    "\n",
    "###### where $S_\\overline{X}$ represents the estimated standard error of the mean; n equals the sample size; and s has been defined as S is the standard deviation\n",
    "$S$ = $\\sqrt{\\dfrac{{SS}}{n-1}}$ = $\\sqrt{\\dfrac{{SS}}{df}}$\n",
    "\n",
    "$SS$ = $\\Sigma({X}-\\overline{X})^2$ = $\\Sigma{X}^2$ - $\\dfrac{(\\Sigma{X})^2}{n}$"
   ]
  },
  {
   "cell_type": "markdown",
   "id": "c19edf6f-9d71-4be4-95fb-9bcd93144b45",
   "metadata": {},
   "source": [
    "##### GAS MILEAGE INVESTIGATION\n",
    "Federal law might eventually specify that new automobiles must average, for example, 45 miles per gallon (mpg) of gasoline. Because it’s impossible to test all new cars, compliance tests would be based on random samples from the entire production of each car model. If a hypothesis test indicates substandard performance, the manufacturer would be penalized, we’ll assume, $200 per car for the entire production. In these tests, the null hypothesis states that, with respect to the mandated mean of 45 mpg, nothing special is happening in the population for some car model—that is, there is no substandard performance and the population mean equals or exceeds 45 mpg.\n",
    "\n",
    "From the manufacturer’s perspective, a type I error (a stiff penalty, even though the car complies with the standard) is very serious. Accordingly, to control the type I error, let’s use the .01 instead of the customary .05 level of significance. From the federal regulator’s perspective, a type II error (not penalizing the manufacturer even though the car fails to comply with the standard) also is serious. In practice, a sample size should be selected, as described in Section 11.11, to control the type II error, that is, to ensure a reasonable detection rate for the smallest decline (judged to be important) of the true population mean below the mandated 45 mpg. To simplify computations in the present example, however, the projected one-tailed test is based on data from a very small sample of only six randomly selected cars.\n",
    "\n",
    "Type I error - akala mo meron pero wala\n",
    "\n",
    "Type II error - akala mo wala, pero meron, meron, meron!!\n",
    "\n",
    "For reasons that will become apparent, the z test must be replaced by a new hypothesis test, the t test. Spend a few minutes familiarizing yourself with the boxed summary for the gas mileage investigation, noting the considerable similarities between it and summaries of previous hypothesis tests with the z test.\n",
    "\n",
    "###### Statistical Hypotheses\n",
    "H0: $\\mu \\geq$ 45\n",
    "\n",
    "H1: $\\mu~{<}$ 45"
   ]
  },
  {
   "cell_type": "code",
   "execution_count": 2,
   "id": "000102ff-ac50-4e9b-baa3-9d78c5d0bb96",
   "metadata": {
    "scrolled": true
   },
   "outputs": [
    {
     "name": "stdout",
     "output_type": "stream",
     "text": [
      "mean = 43\n",
      "standard_deviation = 2.1908902300206643\n",
      "standard error of mean = 0.8944271909999159\n",
      "t = -2.23606797749979\n"
     ]
    }
   ],
   "source": [
    "import math\n",
    "import statistics\n",
    "\n",
    "mileage = [40,44,46,41,43,44]\n",
    "X_sample = 43\n",
    "X_hyp = 45\n",
    "\n",
    "def standard_error_of_mean(mileage,X,X_hyp):\n",
    "    n = len(mileage)\n",
    "    mean = statistics.mean(mileage)\n",
    "    std_dev = statistics.stdev(mileage)\n",
    "    print(f'mean = {mean}\\nstandard_deviation = {std_dev}')\n",
    "    \n",
    "    squared_mileage = [num**2 for num in mileage]\n",
    "    sum_squared_mileage = sum(squared_mileage)\n",
    "    \n",
    "    sum_of_mileage_squared = (sum(mileage))**2\n",
    "    \n",
    "    SS = sum_squared_mileage - (sum_of_mileage_squared)/n\n",
    "    \n",
    "    std_error_mean = std_dev/math.sqrt(n)\n",
    "    print(f'standard error of mean = {std_error_mean}')\n",
    "    \n",
    "    t = (X - X_hyp)/std_error_mean\n",
    "    print(f't = {t}')\n",
    "\n",
    "standard_error_of_mean(mileage,X_sample,X_hyp)"
   ]
  },
  {
   "cell_type": "markdown",
   "id": "7630a5f5-9fcb-4ddb-9f5c-eaf231d1439a",
   "metadata": {},
   "source": [
    "##### # At 0.01 significance level, one-tailed test lower tail critical, looking at the Table B Critical values of t, degrees of freedom is df=n-1; df=5, t = -3.365 (the negative sign is because we are considering the lower tail\n",
    "\n",
    "###### Statistical Hypotheses\n",
    "H0: $\\mu \\geq$ 45\n",
    "\n",
    "H1: $\\mu~{<}$ 45\n",
    "\n",
    "t = -2.23606797749979 is greater than t = -3.365 so we will retain the Null Hypothesis H0\n",
    "\n",
    "Decision\n",
    "Retain H0 at the .01 level of significance because t = –2.25 is less negative than –3.365.\n",
    "\n",
    "Interpretation\n",
    "The population mean gas mileage could equal the required 45 mpg or more. The manufacturer shouldn’t be penalized."
   ]
  },
  {
   "cell_type": "markdown",
   "id": "7c330b12-6154-4494-9be6-9c6d90dcbb71",
   "metadata": {},
   "source": [
    "##### Progress Check *13.3 The consumers’ group in Question 13.2 suspects that a supermarket makes extra money by supplying less than the specified weight of 16 ounces in its “one-pound” packages of ground beef. Given that a random sample of 10 packages yields a mean of 14.7 ounces and an estimated standard error of the mean of 0.26 ounce, use the customary step-by-step procedure to test the null hypothesis at the .05 level of significance with t.\n",
    "\n",
    "##### Progress Check *13.2 A consumers’ group randomly samples 10 “one-pound” packages of ground beef sold by a supermarket. Calculate (a) the mean and (b) the estimated standard error of the mean for this sample, given the following weights in ounces: 16, 15, 14, 15, 14, 15, 16, 14, 14, 14."
   ]
  },
  {
   "cell_type": "markdown",
   "id": "83fdbece-d49a-409e-9c4c-e2cea582c2a4",
   "metadata": {},
   "source": [
    "$t$ = $\\dfrac{sample~mean - hypothesized~population~mean}{estimated~standard~error}$ = $\\dfrac{\\overline{X} - \\mu_{hyp}}{S_{\\overline{X}}}$\n",
    "\n",
    "##### ESTIMATED STANDARD ERROR OF THE MEAN\n",
    "$S_\\overline{X}$ = $\\dfrac{S}{\\sqrt{n}}$\n",
    "\n",
    "###### where $S_\\overline{X}$ represents the estimated standard error of the mean; n equals the sample size; and s has been defined as S is the standard deviation\n",
    "$S$ = $\\sqrt{\\dfrac{{SS}}{n-1}}$ = $\\sqrt{\\dfrac{{SS}}{df}}$\n",
    "\n",
    "$SS$ = $\\Sigma({X}-\\overline{X})^2$ = $\\Sigma{X}^2$ $-$ $\\dfrac{(\\Sigma{X})^2}{n}$\n",
    "\n",
    "###### Statistical Hypotheses\n",
    "H0: $\\mu \\geq$ 16\n",
    "\n",
    "H1: $\\mu~{<}$ 16"
   ]
  },
  {
   "cell_type": "code",
   "execution_count": 3,
   "id": "679fa21a-4954-421c-9472-367486f0be07",
   "metadata": {
    "scrolled": true
   },
   "outputs": [
    {
     "name": "stdout",
     "output_type": "stream",
     "text": [
      "mean = 14.7\n",
      "standard_deviation = 0.8232726023485646\n",
      "[256, 225, 196, 225, 196, 225, 256, 196, 196, 196]\n",
      "2167\n",
      "21609\n",
      "SS = 6.099999999999909\n",
      "0.2603416558635551\n"
     ]
    },
    {
     "data": {
      "text/plain": [
       "-4.993438317382946"
      ]
     },
     "execution_count": 3,
     "metadata": {},
     "output_type": "execute_result"
    }
   ],
   "source": [
    "import math\n",
    "import statistics\n",
    "weights = [16, 15, 14, 15, 14, 15, 16, 14, 14, 14]\n",
    "n = 10\n",
    "X_sample = 14.7\n",
    "X_hyp = 16\n",
    "# std_err_mean = 0.26\n",
    "# significance level of 0.05\n",
    "\n",
    "n = len(weights)\n",
    "mean = statistics.mean(weights)\n",
    "s = statistics.stdev(weights)\n",
    "print(f'mean = {mean}\\nstandard_deviation = {std_dev}')\n",
    "\n",
    "sq_values_each_weight = [weight**2 for weight in weights]\n",
    "print(sq_values_each_weight)\n",
    "\n",
    "sum_sq_values_each_weight = sum(sq_values_each_weight)\n",
    "print(sum_sq_values_each_weight)\n",
    "\n",
    "sum_all_weights = sum(weights)\n",
    "sum_all_weights_squared = sum_all_weights**2\n",
    "print(sum_all_weights_squared)\n",
    "\n",
    "SS = sum_sq_values_each_weight - (sum_all_weights_squared/n)\n",
    "print(f'SS = {SS}')\n",
    "\n",
    "std_err_mean = s/math.sqrt(n)\n",
    "print(std_err_mean)\n",
    "\n",
    "t = (X_sample - X_hyp)/std_err_mean\n",
    "t"
   ]
  },
  {
   "cell_type": "markdown",
   "id": "54ec297d-b869-400d-aacf-1decbcd5556b",
   "metadata": {},
   "source": [
    "##### # According to the Table Ba CRITICAL VALUES OF t for a one-tailed test at a significance value of 0.05, degrees of freedom df = n-1 = 9, the value of t=-1.833, negative because we are considering the lower proportion of the curve according to the hypothesis statement\n",
    "\n",
    "The acceptable value is only greater than or equal to -1.833, therefore with a computed value of -4.993438317382946, which is more negative than the acceptable value(less than -1.833 in the normal curve), we will reject the null hypothesis, and we can say that the weight of the ground beef in the market is less than the standard 16 ounces\n",
    "\n",
    "\n",
    "###### Statistical Hypotheses\n",
    "H0: $\\mu \\geq$ 16\n",
    "\n",
    "H1: $\\mu~{<}$ 16\n",
    "\n"
   ]
  },
  {
   "cell_type": "markdown",
   "id": "c31a9666-1c72-45d9-92f3-12ce26781d41",
   "metadata": {},
   "source": [
    "##### CONFIDENCE INTERVALS FOR μ BASED ON t\n",
    "CONFIDENCE INTERVAL FOR μ BASED ON t\n",
    "\n",
    "$\\overline{X} \\pm (t_{conf})(S_{\\overline{X}})$\n",
    "\n",
    "where:\n",
    "\n",
    "$\\overline{X}$ - Sample Mean\n",
    "\n",
    "$t_{conf}$ - represents a number (distributed with n − 1 degrees of freedom) from the t tables, which satisfies the confidence specifications for the confidence interval\n",
    "\n",
    "$S_{\\overline{X}}$ - represents the estimated standard error of the mean\n",
    "\n",
    "At 95% confidence level, which means a p-value of 5% or 0.05 and degrees of freedom df=n-1 = 6 - 1 = 5, then looking at the left panel of Table Ba CRITICAL VALUES OF t for a two-tailed test, has a $t_{conf}$ = $\\pm$ 2.571"
   ]
  },
  {
   "cell_type": "code",
   "execution_count": 4,
   "id": "7140f717-3def-42a0-adc2-cc32d19e302f",
   "metadata": {
    "scrolled": true
   },
   "outputs": [],
   "source": [
    "import math\n",
    "import statistics\n",
    "\n",
    "mileage = [40,44,46,41,43,44]\n",
    "X_sample = 43\n",
    "X_hyp = 45\n",
    "\n",
    "def standard_error_of_mean(mileage,X,X_hyp):\n",
    "    n = len(mileage)\n",
    "    mean = statistics.mean(mileage)\n",
    "    std_dev = statistics.stdev(mileage)\n",
    "    # print(f'mean = {mean}\\nstandard_deviation = {std_dev}')\n",
    "    \n",
    "    squared_mileage = [num**2 for num in mileage]\n",
    "    sum_squared_mileage = sum(squared_mileage)\n",
    "    \n",
    "    sum_of_mileage_squared = (sum(mileage))**2\n",
    "    \n",
    "    SS = sum_squared_mileage - (sum_of_mileage_squared)/n\n",
    "    \n",
    "    std_error_mean1 = std_dev/math.sqrt(n)\n",
    "\n",
    "    return std_error_mean1"
   ]
  },
  {
   "cell_type": "code",
   "execution_count": 9,
   "id": "5f6aabaf-a3d2-4260-87b2-d654e993b3c4",
   "metadata": {},
   "outputs": [
    {
     "name": "stdout",
     "output_type": "stream",
     "text": [
      "It can be claimed, with 95 percent confidence, that the interval between 40.70042769193922 and 45.29957230806078 includes the true mean gas mileage for all of the cars in the population.\n"
     ]
    }
   ],
   "source": [
    "# Substituting the values to the formula:\n",
    "tconf = 2.571\n",
    "CI1 = X_sample - (tconf*standard_error_of_mean(mileage,X_sample,X_hyp))\n",
    "CI2 = X_sample + (tconf*standard_error_of_mean(mileage,X_sample,X_hyp))\n",
    "print(f'It can be claimed, with 95 percent confidence, that the interval between {CI1} and {CI2} includes the true mean gas mileage for all of the cars in the population.')"
   ]
  }
 ],
 "metadata": {
  "kernelspec": {
   "display_name": "Python 3 (ipykernel)",
   "language": "python",
   "name": "python3"
  },
  "language_info": {
   "codemirror_mode": {
    "name": "ipython",
    "version": 3
   },
   "file_extension": ".py",
   "mimetype": "text/x-python",
   "name": "python",
   "nbconvert_exporter": "python",
   "pygments_lexer": "ipython3",
   "version": "3.10.12"
  }
 },
 "nbformat": 4,
 "nbformat_minor": 5
}
