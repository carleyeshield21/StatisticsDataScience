{
 "cells": [
  {
   "cell_type": "markdown",
   "id": "6c039ad6-e5ee-4b12-af28-c95c6a416c60",
   "metadata": {},
   "source": [
    "##### Progress Check *13.1 Find the critical t values for the following hypothesis tests:\n",
    "(a) two-tailed test, α = .05, df = 12 t = $\\pm$ 2.179\n",
    "\n",
    "(b) one-tailed test, lower tail critical, α = .01, df = 19 t = -2.539\n",
    "\n",
    "(c) one-tailed test, upper tail critical, α = .05, df = 38 t = 1.697\n",
    "\n",
    "(d) two-tailed test, α = .01, df = 48 $\\pm$ 2.704"
   ]
  },
  {
   "cell_type": "markdown",
   "id": "fe1c1be7-3a82-4974-988f-5b0d14d677e7",
   "metadata": {},
   "source": [
    "##### t Test\n",
    "\n",
    "$z$ = $\\dfrac{sample~mean - hypothesized~population~mean}{standard~error}$ = $\\dfrac{\\overline{X} - \\mu_{hyp}}{\\sigma_{\\overline{X}}}$"
   ]
  },
  {
   "cell_type": "markdown",
   "id": "405a2cdf-4c07-4370-9fa2-fd2add02b3f1",
   "metadata": {},
   "source": [
    "##### t RATIO FOR A SINGLE POPULATION MEAN\n",
    "\n",
    "$t$ = $\\dfrac{sample~mean - hypothesized~population~mean}{estimated~standard~error}$ = $\\dfrac{\\overline{X} - \\mu_{hyp}}{S_{\\overline{X}}}$"
   ]
  },
  {
   "cell_type": "markdown",
   "id": "c734e30f-928a-41f4-a13f-b30f5f12e8c5",
   "metadata": {},
   "source": [
    "##### Standard Error or Mean\n",
    "\n",
    "$\\sigma_\\overline{X}$ = $\\dfrac{\\sigma}{\\sqrt{n}}$"
   ]
  },
  {
   "cell_type": "markdown",
   "id": "ef79f4d4-7116-4f5a-a998-ef08fa0852ff",
   "metadata": {},
   "source": [
    "##### ESTIMATED STANDARD ERROR OF THE MEAN\n",
    "$S_\\overline{X}$ = $\\dfrac{S}{\\sqrt{n}}$\n",
    "\n",
    "###### where s X represents the estimated standard error of the mean; n equals the sample size; and s has been defined as\n",
    "$S$ = $\\sqrt{\\dfrac{{SS}}{n-1}}$ = $\\sqrt{\\dfrac{{SS}}{df}}$\n",
    "\n",
    "$SS$ = $\\Sigma({X}-\\overline{X})^2$ = $\\Sigma{X}^2$ - $\\dfrac{(\\Sigma{X})^2}{n}$"
   ]
  }
 ],
 "metadata": {
  "kernelspec": {
   "display_name": "Python 3 (ipykernel)",
   "language": "python",
   "name": "python3"
  },
  "language_info": {
   "codemirror_mode": {
    "name": "ipython",
    "version": 3
   },
   "file_extension": ".py",
   "mimetype": "text/x-python",
   "name": "python",
   "nbconvert_exporter": "python",
   "pygments_lexer": "ipython3",
   "version": "3.10.12"
  }
 },
 "nbformat": 4,
 "nbformat_minor": 5
}
