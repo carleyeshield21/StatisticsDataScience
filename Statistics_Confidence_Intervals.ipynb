{
 "cells": [
  {
   "cell_type": "markdown",
   "id": "f4e1386f-dc72-47af-af58-dee6e6932672",
   "metadata": {},
   "source": [
    "##### CONFIDENCE INTERVAL FOR μ (BASED ON z )\n",
    "\n",
    "$CI$ = $\\overline{X}$ $\\pm$ (${Z}_{conf}) ({\\sigma}_{\\overline{X}})$"
   ]
  }
 ],
 "metadata": {
  "kernelspec": {
   "display_name": "Python 3 (ipykernel)",
   "language": "python",
   "name": "python3"
  },
  "language_info": {
   "codemirror_mode": {
    "name": "ipython",
    "version": 3
   },
   "file_extension": ".py",
   "mimetype": "text/x-python",
   "name": "python",
   "nbconvert_exporter": "python",
   "pygments_lexer": "ipython3",
   "version": "3.10.12"
  }
 },
 "nbformat": 4,
 "nbformat_minor": 5
}
