{
 "cells": [
  {
   "cell_type": "markdown",
   "id": "f4e1386f-dc72-47af-af58-dee6e6932672",
   "metadata": {},
   "source": [
    "##### CONFIDENCE INTERVAL FOR μ (BASED ON z )\n",
    "\n",
    "$CI$ = $\\overline{X}$ $\\pm$ (${Z}_{conf}) ({\\sigma}_{\\overline{X}})$"
   ]
  },
  {
   "cell_type": "markdown",
   "id": "df8d48df-6846-4a33-9cb7-7d38d0748a34",
   "metadata": {},
   "source": [
    "##### Progress Check *12.2 Reading achievement scores are obtained for a group of fourth graders. A score of 4.0 indicates a level of achievement appropriate for fourth grade, a score below 4.0 indicates underachievement, and a score above 4.0 indicates overachievement. Assume that the population standard deviation equals 0.4. A random sample of 64 fourth graders reveals a mean achievement score of 3.82.\n",
    "(a) Construct a 95 percent confidence interval for the unknown population mean. (Remember to convert the standard deviation to a standard error.)\n",
    "\n",
    "(b) Interpret this confidence interval; that is, do you find any consistent evidence either of overachievement or of underachievement?\n",
    "\n",
    "Answer:\n",
    "We can claim, with 95 percent confidence, that the interval between 3.72 and 3.92 includes the true population mean reading score for the fourth graders. All of these values suggest that, on average, the fourth graders are underachieving.\n",
    "\n",
    "##### Standard Error or Mean\n",
    "\n",
    "$\\sigma_\\overline{X}$ = $\\dfrac{\\sigma}{\\sqrt{n}}$"
   ]
  },
  {
   "cell_type": "code",
   "execution_count": 5,
   "id": "aad7ced4-3079-446c-85a0-fdc0e794c6ca",
   "metadata": {
    "scrolled": true
   },
   "outputs": [
    {
     "name": "stdout",
     "output_type": "stream",
     "text": [
      "3.9179999999999997 3.722\n"
     ]
    }
   ],
   "source": [
    "# a)\n",
    "import math\n",
    "\n",
    "sd = 0.4\n",
    "n = 64\n",
    "X = 3.82\n",
    "std_err_mean = sd/math.sqrt(n)\n",
    "\n",
    "CI_pos = X + (1.96*std_err_mean)\n",
    "CI_neg = X - (1.96*std_err_mean)\n",
    "print(CI_pos,CI_neg)"
   ]
  },
  {
   "cell_type": "markdown",
   "id": "2b95b7ff-9255-4194-8094-36c7f85e0007",
   "metadata": {},
   "source": [
    "##### Progress Check *12.3 Before taking the GRE, a random sample of college seniors received special training on how to take the test. After analyzing their scores on the GRE, the investigator reported a dramatic gain, relative to the national average of 500, as indicated by a 95 percent confidence interval of 507 to 527. Are the following interpretations true or false?\n",
    "##### CONFIDENCE INTERVAL FOR μ (BASED ON z )\n",
    "\n",
    "$CI$ = $\\overline{X}$ $\\pm$ (${Z}_{conf}) ({\\sigma}_{\\overline{X}})$\n",
    "\n",
    "##### Standard Error or Mean\n",
    "\n",
    "$\\sigma_\\overline{X}$ = $\\dfrac{\\sigma}{\\sqrt{n}}$\n",
    "\n",
    "(a) About 95 percent of all subjects scored between 507 and 527.\n",
    "\n",
    "Answer:\n",
    "False. We can be 95 percent confident that the mean for all subjects will be between 507 and 527.\n",
    "\n",
    "(b) The interval from 507 to 527 refers to possible values of the population mean for all students who undergo special training. True\n",
    "\n",
    "(c) The true population mean definitely is between 507 and 527.\n",
    "\n",
    "Answer:\n",
    "False. We can be reasonably confident—but not absolutely confident—that the true population mean lies between 507 and 527.\n",
    "\n",
    "(d) This particular interval describes the population mean about 95 percent of the time.\n",
    "\n",
    "Answer:\n",
    "False. This particular interval either describes the one true population mean or fails to describe the one true population mean.\n",
    "\n",
    "(e) In practice, we never really know whether the interval from 507 to 527 is true or false. True\n",
    "\n",
    "(f) We can be reasonably confident that the population mean is between 507 and 527. True"
   ]
  },
  {
   "cell_type": "markdown",
   "id": "f99155e7-d292-483f-8dcc-e908ac3b8841",
   "metadata": {},
   "source": [
    "##### Progress Check *12.4 On the basis of a random sample of 120 adults, a pollster reports, with 95 percent confidence, that between 58 and 72 percent of all Americans believe in life after death.\n",
    "\n",
    "(a) If this interval is too wide, what, if anything, can be done with the existing data to obtain a narrower confidence interval?\n",
    "\n",
    "Answer:\n",
    "Switch to an interval having a lesser degree of confidence, such as 90 percent or 75 percent.\n",
    "\n",
    "(b) What can be done to obtain a narrower 95 percent confidence interval if another similar investigation is being planned?\n",
    "\n",
    "Answer:\n",
    "Increase the sample size."
   ]
  }
 ],
 "metadata": {
  "kernelspec": {
   "display_name": "Python 3 (ipykernel)",
   "language": "python",
   "name": "python3"
  },
  "language_info": {
   "codemirror_mode": {
    "name": "ipython",
    "version": 3
   },
   "file_extension": ".py",
   "mimetype": "text/x-python",
   "name": "python",
   "nbconvert_exporter": "python",
   "pygments_lexer": "ipython3",
   "version": "3.10.12"
  }
 },
 "nbformat": 4,
 "nbformat_minor": 5
}
