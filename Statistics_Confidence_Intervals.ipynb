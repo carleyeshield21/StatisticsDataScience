{
 "cells": [
  {
   "cell_type": "markdown",
   "id": "f4e1386f-dc72-47af-af58-dee6e6932672",
   "metadata": {},
   "source": [
    "##### CONFIDENCE INTERVAL FOR μ (BASED ON z )\n",
    "\n",
    "$CI$ = $\\overline{X}$ $\\pm$ (${Z}_{conf}) ({\\sigma}_{\\overline{X}})$"
   ]
  },
  {
   "cell_type": "markdown",
   "id": "df8d48df-6846-4a33-9cb7-7d38d0748a34",
   "metadata": {},
   "source": [
    "##### Progress Check *12.2 Reading achievement scores are obtained for a group of fourth graders. A score of 4.0 indicates a level of achievement appropriate for fourth grade, a score below 4.0 indicates underachievement, and a score above 4.0 indicates overachievement. Assume that the population standard deviation equals 0.4. A random sample of 64 fourth graders reveals a mean achievement score of 3.82.\n",
    "(a) Construct a 95 percent confidence interval for the unknown population mean. (Remember to convert the standard deviation to a standard error.)\n",
    "\n",
    "(b) Interpret this confidence interval; that is, do you find any consistent evidence either of overachievement or of underachievement?\n",
    "\n",
    "##### Standard Error or Mean\n",
    "\n",
    "$\\sigma_\\overline{X}$ = $\\dfrac{\\sigma}{\\sqrt{n}}$"
   ]
  },
  {
   "cell_type": "code",
   "execution_count": 4,
   "id": "aad7ced4-3079-446c-85a0-fdc0e794c6ca",
   "metadata": {},
   "outputs": [
    {
     "name": "stdout",
     "output_type": "stream",
     "text": [
      "3.9179999999999997 3.722\n"
     ]
    }
   ],
   "source": [
    "import math\n",
    "\n",
    "sd = 0.4\n",
    "n = 64\n",
    "X = 3.82\n",
    "std_err_mean = sd/math.sqrt(n)\n",
    "\n",
    "CI_pos = X + (1.96*std_err_mean)\n",
    "CI_neg = X - (1.96*std_err_mean)\n",
    "print(CI_pos,CI_neg)"
   ]
  }
 ],
 "metadata": {
  "kernelspec": {
   "display_name": "Python 3 (ipykernel)",
   "language": "python",
   "name": "python3"
  },
  "language_info": {
   "codemirror_mode": {
    "name": "ipython",
    "version": 3
   },
   "file_extension": ".py",
   "mimetype": "text/x-python",
   "name": "python",
   "nbconvert_exporter": "python",
   "pygments_lexer": "ipython3",
   "version": "3.10.12"
  }
 },
 "nbformat": 4,
 "nbformat_minor": 5
}
