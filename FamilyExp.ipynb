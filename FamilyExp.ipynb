{
 "cells": [
  {
   "cell_type": "code",
   "execution_count": null,
   "id": "6591e3e5-5928-4176-b44f-7df30f3d5bab",
   "metadata": {},
   "outputs": [],
   "source": [
    "import pandas"
   ]
  },
  {
   "cell_type": "code",
   "execution_count": null,
   "id": "5fc26ddb-ffee-4bd4-a8b1-a33f311820c5",
   "metadata": {},
   "outputs": [],
   "source": [
    "raw = pandas.read_csv('Family Income and Expenditure.csv')\n",
    "raw"
   ]
  },
  {
   "cell_type": "code",
   "execution_count": 3,
   "id": "b40ad636-db50-4097-84e0-34aba39d0e1f",
   "metadata": {},
   "outputs": [],
   "source": [
    "# Code to see all rows and columns\n",
    "pandas.options.display.max_columns = None\n",
    "pandas.options.display.max_rows = None"
   ]
  },
  {
   "cell_type": "code",
   "execution_count": null,
   "id": "4ea44f85-8fd6-459c-ab65-45aed6ecc5be",
   "metadata": {},
   "outputs": [],
   "source": [
    "# Creating a copy of the data\n",
    "data_copy = raw.copy()\n",
    "data_copy"
   ]
  },
  {
   "cell_type": "code",
   "execution_count": null,
   "id": "0e1b7847-36e0-4154-bef1-9703c729cc76",
   "metadata": {},
   "outputs": [],
   "source": []
  }
 ],
 "metadata": {
  "kernelspec": {
   "display_name": "Python 3 (ipykernel)",
   "language": "python",
   "name": "python3"
  },
  "language_info": {
   "codemirror_mode": {
    "name": "ipython",
    "version": 3
   },
   "file_extension": ".py",
   "mimetype": "text/x-python",
   "name": "python",
   "nbconvert_exporter": "python",
   "pygments_lexer": "ipython3",
   "version": "3.11.6"
  }
 },
 "nbformat": 4,
 "nbformat_minor": 5
}
