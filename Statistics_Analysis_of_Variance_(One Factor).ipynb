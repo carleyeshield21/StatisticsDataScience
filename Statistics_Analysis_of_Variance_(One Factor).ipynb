{
 "cells": [
  {
   "cell_type": "markdown",
   "id": "c238c914-6d00-4e9b-9dce-e18f827316a2",
   "metadata": {},
   "source": [
    "#### F test\n",
    "F Ratio\n",
    "\n",
    "$F=\\dfrac{variability~between~groups}{variability~within~groups}$\n",
    "\n",
    "An F test of the null hypothesis is based on the notion that if the null hypothesis is true, both the numerator and the denominator of the F ratio would tend to be about the same, but if the null hypothesis is false, the numerator would tend to be larger than the denominator.\n",
    "\n",
    "#### If Null Hypothesis Is True\n",
    "\n",
    "$F=\\dfrac{random~error}{random~error}$\n",
    "\n",
    "Except for chance, estimates in both the numerator and the denominator are similar, and generally, F varies about a value of 1.\n",
    "\n",
    "#### If Null Hypothesis Is False\n",
    "\n",
    "$F=\\dfrac{random~error + treatment~effect}{random~error}$\n",
    "\n",
    "When the null hypothesis is false, the presence of a treatment effect tends to cause a chain reaction: The observed differences between group means tend to be large, as does the variability between groups. Accordingly, the numerator term tends to exceed the denominator term, producing an F whose value is larger than 1. When the null hypothesis is false because of a large treatment effect, there is an even more pronounced chain reaction, beginning with very large observed differences between group means and ending with an F whose value tends to be considerably larger than 1.\n",
    "\n",
    "#### VARIANCE ESTIMATES\n",
    "\n",
    "Sum of Squares (sum of squared deviations about their mean)\n",
    "\n",
    "$SS=\\Sigma(X-\\overline{X})^2$\n",
    "\n",
    "Sample Variance, $s^2$\n",
    "\n",
    "$s^2=\\dfrac{SS}{n-1}=\\dfrac{SS}{df}$\n",
    "\n",
    "#### Mean Square (MS) - A variance estimate in ANOVA, referred to as a mean square, consists of some sum of squares divided by its degrees of freedom.\n",
    "\n",
    "$MS=\\dfrac{SS}{df}$\n",
    "\n",
    "#### Sum of Squares (SS ): Definitional Formulas\n",
    "\n",
    "$SS_{between}$ the sum of squares for variability between groups\n",
    "\n",
    "$SS_{within}$ the sum of squares for variability within groups\n",
    "\n",
    "$SS_{total}$ the sum of squares for the total of these two, equals the sum of the squared deviations of all scores about the grand mean.\n",
    "\n",
    "#### $ * SS_{total}$\n",
    "\n",
    "$SS_{total}=\\Sigma(X-\\overline{X}_{grand})^2$\n",
    "\n",
    "where $X$ represents each score and $\\overline{X}_{grand}$ represents the one overall mean for all scores. Although $SS_{total}$ isn’t directly involved in the calculation of the F ratio, it serves as a valuable computational check.\n",
    "\n",
    "#### $ * SS_{between}$\n",
    "\n",
    "$SS_{between}=n\\Sigma(\\overline{X}_{group}-\\overline{X}_{grand})^2$\n",
    "\n",
    "where $n$ represents the number of scores in each group, $\\overline{X}_{group}$ is the mean for each group, and $\\overline{X}_{grand}$ is the overall mean for all groups. This term contributes to the numerator of the $F$ ratio. The sample size for each group, $n$, in the expression for $SS_{between}$ reflects the fact that the deviation $\\overline{X}_{group}-\\overline{X}_{grand}$ is the same for every score, $n$, in that group."
   ]
  }
 ],
 "metadata": {
  "kernelspec": {
   "display_name": "Python 3 (ipykernel)",
   "language": "python",
   "name": "python3"
  },
  "language_info": {
   "codemirror_mode": {
    "name": "ipython",
    "version": 3
   },
   "file_extension": ".py",
   "mimetype": "text/x-python",
   "name": "python",
   "nbconvert_exporter": "python",
   "pygments_lexer": "ipython3",
   "version": "3.10.12"
  }
 },
 "nbformat": 4,
 "nbformat_minor": 5
}
