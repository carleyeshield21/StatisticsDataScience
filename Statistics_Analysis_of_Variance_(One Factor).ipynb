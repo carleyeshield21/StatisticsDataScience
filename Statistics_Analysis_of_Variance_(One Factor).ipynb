{
 "cells": [
  {
   "cell_type": "markdown",
   "id": "c238c914-6d00-4e9b-9dce-e18f827316a2",
   "metadata": {},
   "source": [
    "#### F test\n",
    "F Ratio\n",
    "\n",
    "$F=\\dfrac{variability~between~groups}{variability~within~groups}$\n",
    "\n",
    "An F test of the null hypothesis is based on the notion that if the null hypothesis is true, both the numerator and the denominator of the F ratio would tend to be about the same, but if the null hypothesis is false, the numerator would tend to be larger than the denominator."
   ]
  }
 ],
 "metadata": {
  "kernelspec": {
   "display_name": "Python 3 (ipykernel)",
   "language": "python",
   "name": "python3"
  },
  "language_info": {
   "codemirror_mode": {
    "name": "ipython",
    "version": 3
   },
   "file_extension": ".py",
   "mimetype": "text/x-python",
   "name": "python",
   "nbconvert_exporter": "python",
   "pygments_lexer": "ipython3",
   "version": "3.10.12"
  }
 },
 "nbformat": 4,
 "nbformat_minor": 5
}
