{
 "cells": [
  {
   "cell_type": "code",
   "execution_count": 1,
   "id": "fc8bacd9-e383-48f6-8f09-b1e30a33f6a1",
   "metadata": {},
   "outputs": [],
   "source": [
    "import statistics"
   ]
  },
  {
   "cell_type": "code",
   "execution_count": 2,
   "id": "3309e9e8-e2b2-4a49-9f5c-1c7447c90f90",
   "metadata": {},
   "outputs": [],
   "source": [
    "sample = [13,10,11,7,9,11,9]"
   ]
  },
  {
   "cell_type": "code",
   "execution_count": 3,
   "id": "a52e4ee8-6484-4da6-84c4-3ccae3fbcf38",
   "metadata": {
    "scrolled": true
   },
   "outputs": [
    {
     "name": "stdout",
     "output_type": "stream",
     "text": [
      "10\n"
     ]
    },
    {
     "data": {
      "text/plain": [
       "10.0"
      ]
     },
     "execution_count": 3,
     "metadata": {},
     "output_type": "execute_result"
    }
   ],
   "source": [
    "mean = statistics.mean(sample)\n",
    "print(mean)\n",
    "\n",
    "mean1 = sum(sample)/len(sample)\n",
    "mean1"
   ]
  },
  {
   "cell_type": "code",
   "execution_count": 4,
   "id": "567d7a0f-a5c4-4c82-a8c8-7b4d264dba9e",
   "metadata": {
    "scrolled": true
   },
   "outputs": [
    {
     "name": "stdout",
     "output_type": "stream",
     "text": [
      "10\n"
     ]
    },
    {
     "data": {
      "text/plain": [
       "[7, 9, 9, 10, 11, 11, 13]"
      ]
     },
     "execution_count": 4,
     "metadata": {},
     "output_type": "execute_result"
    }
   ],
   "source": [
    "median = statistics.median(sample)\n",
    "print(median)\n",
    "\n",
    "sample_sort = sorted(sample)\n",
    "sample_sort"
   ]
  },
  {
   "cell_type": "code",
   "execution_count": 5,
   "id": "9c43ffc1-ffdf-499a-be78-29b2f24b5333",
   "metadata": {},
   "outputs": [
    {
     "data": {
      "text/plain": [
       "11"
      ]
     },
     "execution_count": 5,
     "metadata": {},
     "output_type": "execute_result"
    }
   ],
   "source": [
    "mode = statistics.mode(sample)\n",
    "mode"
   ]
  },
  {
   "cell_type": "code",
   "execution_count": 6,
   "id": "ed502a76-fed1-464d-9619-31a0c4944728",
   "metadata": {
    "scrolled": true
   },
   "outputs": [
    {
     "name": "stdout",
     "output_type": "stream",
     "text": [
      "[169, 100, 121, 49, 81, 121, 81]\n"
     ]
    },
    {
     "data": {
      "text/plain": [
       "722"
      ]
     },
     "execution_count": 6,
     "metadata": {},
     "output_type": "execute_result"
    }
   ],
   "source": [
    "squares_of_sample = [n**2 for n in sample]\n",
    "print(squares_of_sample)\n",
    "\n",
    "sum_of_squares_of_sample = sum(squares_of_sample)\n",
    "sum_of_squares_of_sample"
   ]
  },
  {
   "cell_type": "markdown",
   "id": "2324f65a-8898-4236-ad84-40f13516e589",
   "metadata": {},
   "source": [
    "### Sample Variance and Sample Standard Deviation"
   ]
  },
  {
   "cell_type": "code",
   "execution_count": 7,
   "id": "fd1e4e93-5854-488f-b6db-faaaf4fb4a08",
   "metadata": {
    "scrolled": true
   },
   "outputs": [
    {
     "name": "stdout",
     "output_type": "stream",
     "text": [
      "3.6666666666666665\n"
     ]
    },
    {
     "data": {
      "text/plain": [
       "3.6666666666666665"
      ]
     },
     "execution_count": 7,
     "metadata": {},
     "output_type": "execute_result"
    }
   ],
   "source": [
    "var = statistics.variance(sample)\n",
    "print(var)\n",
    "\n",
    "variance = sum([(n-mean)**2 for n in sample])/(len(sample)-1)\n",
    "variance"
   ]
  },
  {
   "cell_type": "code",
   "execution_count": 8,
   "id": "cfea5a80-13c1-4033-bd35-81b9dc5fc20f",
   "metadata": {
    "scrolled": true
   },
   "outputs": [
    {
     "name": "stdout",
     "output_type": "stream",
     "text": [
      "1.9148542155126762\n"
     ]
    }
   ],
   "source": [
    "standard_deviation = statistics.stdev(sample)\n",
    "print(standard_deviation)"
   ]
  },
  {
   "cell_type": "markdown",
   "id": "6866cc38-5ccf-45bb-bcc5-565f22efdead",
   "metadata": {},
   "source": [
    "### Population Variance and Population Standard Deviation"
   ]
  },
  {
   "cell_type": "code",
   "execution_count": 11,
   "id": "27799f67-5de9-48c0-bafb-72891f97e233",
   "metadata": {
    "scrolled": true
   },
   "outputs": [
    {
     "name": "stdout",
     "output_type": "stream",
     "text": [
      "Population Variance: 3.142857142857143\n"
     ]
    }
   ],
   "source": [
    "population = [13, 10, 11, 7, 9, 11, 9]\n",
    "\n",
    "# Calculate the population variance using the statistics module\n",
    "population_variance = statistics.pvariance(population)\n",
    "\n",
    "print(\"Population Variance:\", population_variance)"
   ]
  },
  {
   "cell_type": "code",
   "execution_count": 13,
   "id": "dd758bdc-581d-4602-bf46-3a96db9283cc",
   "metadata": {
    "scrolled": true
   },
   "outputs": [
    {
     "name": "stdout",
     "output_type": "stream",
     "text": [
      "Population Standard Deviation: 1.7728105208558367\n"
     ]
    }
   ],
   "source": [
    "population = [13, 10, 11, 7, 9, 11, 9]\n",
    "\n",
    "# Calculate the population standard deviation using the statistics module\n",
    "population_std_deviation = statistics.pstdev(population)\n",
    "\n",
    "print(\"Population Standard Deviation:\", population_std_deviation)"
   ]
  },
  {
   "cell_type": "markdown",
   "id": "6c137969-3c79-4bc3-8bfe-33401212387d",
   "metadata": {},
   "source": [
    "### Progress Check"
   ]
  },
  {
   "cell_type": "raw",
   "id": "4dc743d2-c991-43b4-97af-6de8d40ac306",
   "metadata": {},
   "source": [
    "Using the computation formula for the sum of squares, calculate\n",
    "the population standard deviation for the scores in (a) and the sample standard deviation for\n",
    "the scores in (b).\n",
    "(a) 1, 3, 7, 2, 0, 4, 7, 3\n",
    "(b) 10, 8, 5, 0, 1, 1, 7, 9, 2"
   ]
  },
  {
   "cell_type": "code",
   "execution_count": 14,
   "id": "f3ce13e8-02a0-4b39-bb4c-a442e2e5958b",
   "metadata": {},
   "outputs": [],
   "source": [
    "a = [1, 3, 7, 2, 0, 4, 7, 3]"
   ]
  },
  {
   "cell_type": "code",
   "execution_count": 15,
   "id": "f4af520f-4ee3-4e25-b24d-41c2c4e50c98",
   "metadata": {},
   "outputs": [
    {
     "data": {
      "text/plain": [
       "2.394655507583502"
      ]
     },
     "execution_count": 15,
     "metadata": {},
     "output_type": "execute_result"
    }
   ],
   "source": [
    "pop_stdv = statistics.pstdev(a)\n",
    "pop_stdv"
   ]
  },
  {
   "cell_type": "code",
   "execution_count": 16,
   "id": "32b6adb8-5c5d-44a7-b268-ae11dbf1301a",
   "metadata": {},
   "outputs": [],
   "source": [
    "b = [10, 8, 5, 0, 1, 1, 7, 9, 2]"
   ]
  },
  {
   "cell_type": "code",
   "execution_count": 17,
   "id": "b5d94d57-60a2-4295-a1be-2db37d13ea00",
   "metadata": {},
   "outputs": [
    {
     "data": {
      "text/plain": [
       "3.865804501581067"
      ]
     },
     "execution_count": 17,
     "metadata": {},
     "output_type": "execute_result"
    }
   ],
   "source": [
    "sample_stdv = statistics.stdev(b)\n",
    "sample_stdv"
   ]
  }
 ],
 "metadata": {
  "kernelspec": {
   "display_name": "Python 3 (ipykernel)",
   "language": "python",
   "name": "python3"
  },
  "language_info": {
   "codemirror_mode": {
    "name": "ipython",
    "version": 3
   },
   "file_extension": ".py",
   "mimetype": "text/x-python",
   "name": "python",
   "nbconvert_exporter": "python",
   "pygments_lexer": "ipython3",
   "version": "3.10.12"
  }
 },
 "nbformat": 4,
 "nbformat_minor": 5
}
