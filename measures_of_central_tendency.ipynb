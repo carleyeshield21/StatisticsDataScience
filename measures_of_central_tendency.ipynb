{
 "cells": [
  {
   "cell_type": "code",
   "execution_count": 1,
   "id": "fc8bacd9-e383-48f6-8f09-b1e30a33f6a1",
   "metadata": {},
   "outputs": [],
   "source": [
    "import statistics"
   ]
  },
  {
   "cell_type": "code",
   "execution_count": 2,
   "id": "3309e9e8-e2b2-4a49-9f5c-1c7447c90f90",
   "metadata": {},
   "outputs": [],
   "source": [
    "sample = [13,10,11,7,9,11,9]"
   ]
  },
  {
   "cell_type": "code",
   "execution_count": 3,
   "id": "a52e4ee8-6484-4da6-84c4-3ccae3fbcf38",
   "metadata": {
    "scrolled": true
   },
   "outputs": [
    {
     "name": "stdout",
     "output_type": "stream",
     "text": [
      "10\n"
     ]
    },
    {
     "data": {
      "text/plain": [
       "10.0"
      ]
     },
     "execution_count": 3,
     "metadata": {},
     "output_type": "execute_result"
    }
   ],
   "source": [
    "mean = statistics.mean(sample)\n",
    "print(mean)\n",
    "\n",
    "mean1 = sum(sample)/len(sample)\n",
    "mean1"
   ]
  },
  {
   "cell_type": "code",
   "execution_count": 4,
   "id": "567d7a0f-a5c4-4c82-a8c8-7b4d264dba9e",
   "metadata": {
    "scrolled": true
   },
   "outputs": [
    {
     "name": "stdout",
     "output_type": "stream",
     "text": [
      "10\n"
     ]
    },
    {
     "data": {
      "text/plain": [
       "[7, 9, 9, 10, 11, 11, 13]"
      ]
     },
     "execution_count": 4,
     "metadata": {},
     "output_type": "execute_result"
    }
   ],
   "source": [
    "median = statistics.median(sample)\n",
    "print(median)\n",
    "\n",
    "sample_sort = sorted(sample)\n",
    "sample_sort"
   ]
  },
  {
   "cell_type": "code",
   "execution_count": 5,
   "id": "9c43ffc1-ffdf-499a-be78-29b2f24b5333",
   "metadata": {},
   "outputs": [
    {
     "data": {
      "text/plain": [
       "11"
      ]
     },
     "execution_count": 5,
     "metadata": {},
     "output_type": "execute_result"
    }
   ],
   "source": [
    "mode = statistics.mode(sample)\n",
    "mode"
   ]
  },
  {
   "cell_type": "code",
   "execution_count": 6,
   "id": "ed502a76-fed1-464d-9619-31a0c4944728",
   "metadata": {
    "scrolled": true
   },
   "outputs": [
    {
     "name": "stdout",
     "output_type": "stream",
     "text": [
      "[169, 100, 121, 49, 81, 121, 81]\n"
     ]
    },
    {
     "data": {
      "text/plain": [
       "722"
      ]
     },
     "execution_count": 6,
     "metadata": {},
     "output_type": "execute_result"
    }
   ],
   "source": [
    "squares_of_sample = [n**2 for n in sample]\n",
    "print(squares_of_sample)\n",
    "\n",
    "sum_of_squares_of_sample = sum(squares_of_sample)\n",
    "sum_of_squares_of_sample"
   ]
  },
  {
   "cell_type": "markdown",
   "id": "2324f65a-8898-4236-ad84-40f13516e589",
   "metadata": {},
   "source": [
    "### Sample Variance and Sample Standard Deviation"
   ]
  },
  {
   "cell_type": "code",
   "execution_count": 7,
   "id": "fd1e4e93-5854-488f-b6db-faaaf4fb4a08",
   "metadata": {
    "scrolled": true
   },
   "outputs": [
    {
     "name": "stdout",
     "output_type": "stream",
     "text": [
      "3.6666666666666665\n"
     ]
    },
    {
     "data": {
      "text/plain": [
       "3.6666666666666665"
      ]
     },
     "execution_count": 7,
     "metadata": {},
     "output_type": "execute_result"
    }
   ],
   "source": [
    "var = statistics.variance(sample)\n",
    "print(var)\n",
    "\n",
    "variance = sum([(n-mean)**2 for n in sample])/(len(sample)-1)\n",
    "variance"
   ]
  },
  {
   "cell_type": "code",
   "execution_count": 8,
   "id": "cfea5a80-13c1-4033-bd35-81b9dc5fc20f",
   "metadata": {
    "scrolled": true
   },
   "outputs": [
    {
     "name": "stdout",
     "output_type": "stream",
     "text": [
      "1.9148542155126762\n"
     ]
    }
   ],
   "source": [
    "standard_deviation = statistics.stdev(sample)\n",
    "print(standard_deviation)"
   ]
  },
  {
   "cell_type": "markdown",
   "id": "6866cc38-5ccf-45bb-bcc5-565f22efdead",
   "metadata": {},
   "source": [
    "### Population Variance and Population Standard Deviation"
   ]
  },
  {
   "cell_type": "code",
   "execution_count": 9,
   "id": "27799f67-5de9-48c0-bafb-72891f97e233",
   "metadata": {
    "scrolled": true
   },
   "outputs": [
    {
     "name": "stdout",
     "output_type": "stream",
     "text": [
      "Population Variance: 3.142857142857143\n"
     ]
    }
   ],
   "source": [
    "population = [13, 10, 11, 7, 9, 11, 9]\n",
    "\n",
    "# Calculate the population variance using the statistics module\n",
    "population_variance = statistics.pvariance(population)\n",
    "\n",
    "print(\"Population Variance:\", population_variance)"
   ]
  },
  {
   "cell_type": "code",
   "execution_count": 10,
   "id": "dd758bdc-581d-4602-bf46-3a96db9283cc",
   "metadata": {
    "scrolled": true
   },
   "outputs": [
    {
     "name": "stdout",
     "output_type": "stream",
     "text": [
      "Population Standard Deviation: 1.7728105208558367\n"
     ]
    }
   ],
   "source": [
    "population = [13, 10, 11, 7, 9, 11, 9]\n",
    "\n",
    "# Calculate the population standard deviation using the statistics module\n",
    "population_std_deviation = statistics.pstdev(population)\n",
    "\n",
    "print(\"Population Standard Deviation:\", population_std_deviation)"
   ]
  },
  {
   "cell_type": "markdown",
   "id": "6c137969-3c79-4bc3-8bfe-33401212387d",
   "metadata": {},
   "source": [
    "### Progress Check"
   ]
  },
  {
   "cell_type": "raw",
   "id": "4dc743d2-c991-43b4-97af-6de8d40ac306",
   "metadata": {},
   "source": [
    "Using the computation formula for the sum of squares, calculate\n",
    "the population standard deviation for the scores in (a) and the sample standard deviation for\n",
    "the scores in (b).\n",
    "(a) 1, 3, 7, 2, 0, 4, 7, 3\n",
    "(b) 10, 8, 5, 0, 1, 1, 7, 9, 2"
   ]
  },
  {
   "cell_type": "code",
   "execution_count": 11,
   "id": "f3ce13e8-02a0-4b39-bb4c-a442e2e5958b",
   "metadata": {},
   "outputs": [],
   "source": [
    "a = [1, 3, 7, 2, 0, 4, 7, 3]"
   ]
  },
  {
   "cell_type": "code",
   "execution_count": 12,
   "id": "f4af520f-4ee3-4e25-b24d-41c2c4e50c98",
   "metadata": {},
   "outputs": [
    {
     "data": {
      "text/plain": [
       "2.394655507583502"
      ]
     },
     "execution_count": 12,
     "metadata": {},
     "output_type": "execute_result"
    }
   ],
   "source": [
    "pop_stdv = statistics.pstdev(a)\n",
    "pop_stdv"
   ]
  },
  {
   "cell_type": "code",
   "execution_count": 13,
   "id": "32b6adb8-5c5d-44a7-b268-ae11dbf1301a",
   "metadata": {},
   "outputs": [],
   "source": [
    "b = [10, 8, 5, 0, 1, 1, 7, 9, 2]"
   ]
  },
  {
   "cell_type": "code",
   "execution_count": 14,
   "id": "b5d94d57-60a2-4295-a1be-2db37d13ea00",
   "metadata": {},
   "outputs": [
    {
     "data": {
      "text/plain": [
       "3.865804501581067"
      ]
     },
     "execution_count": 14,
     "metadata": {},
     "output_type": "execute_result"
    }
   ],
   "source": [
    "sample_stdv = statistics.stdev(b)\n",
    "sample_stdv"
   ]
  },
  {
   "cell_type": "code",
   "execution_count": 15,
   "id": "e9808a00-ee4e-42de-a57f-a2750eec2013",
   "metadata": {},
   "outputs": [],
   "source": [
    "rnd_sample = [7, 3, 1, 0, 4]"
   ]
  },
  {
   "cell_type": "code",
   "execution_count": 16,
   "id": "f19e72c0-b12d-42db-8038-ffc9ce0189a0",
   "metadata": {
    "scrolled": true
   },
   "outputs": [
    {
     "data": {
      "text/plain": [
       "3"
      ]
     },
     "execution_count": 16,
     "metadata": {},
     "output_type": "execute_result"
    }
   ],
   "source": [
    "mean = statistics.mean(rnd_sample)\n",
    "mean"
   ]
  },
  {
   "cell_type": "code",
   "execution_count": 17,
   "id": "2a6ae6d7-3576-4407-9901-6607c7fc8649",
   "metadata": {
    "scrolled": true
   },
   "outputs": [
    {
     "name": "stdout",
     "output_type": "stream",
     "text": [
      "11\n",
      "61.09090909090909\n",
      "[45, 55, 60, 60, 63, 63, 63, 63, 65, 65, 70]\n"
     ]
    }
   ],
   "source": [
    "retirement_ages = [60, 63, 45, 63, 65, 70, 55, 63, 60, 65, 63]\n",
    "sorted_ret_ages = sorted(retirement_ages)\n",
    "print(len(sorted_ret_ages))\n",
    "median = statistics.mean(retirement_ages)\n",
    "print(median)\n",
    "print(sorted_ret_ages)"
   ]
  },
  {
   "cell_type": "code",
   "execution_count": 18,
   "id": "883866a2-c391-4936-b86b-5eba1bcf0f33",
   "metadata": {},
   "outputs": [],
   "source": [
    "import numpy"
   ]
  },
  {
   "cell_type": "code",
   "execution_count": 19,
   "id": "a78026f6-91ed-4e80-851d-1171afc307df",
   "metadata": {
    "scrolled": true
   },
   "outputs": [
    {
     "name": "stdout",
     "output_type": "stream",
     "text": [
      "64.0\n",
      "quartile_1 = 60.0\n",
      "quartile_3 = 64.0\n"
     ]
    }
   ],
   "source": [
    "quartile_1 = numpy.percentile(sorted_ret_ages,25)\n",
    "quartile_3 = numpy.percentile(sorted_ret_ages,75)\n",
    "print(quartile_3)\n",
    "print(f'quartile_1 = {quartile_1}\\nquartile_3 = {quartile_3}')"
   ]
  },
  {
   "cell_type": "code",
   "execution_count": 20,
   "id": "91b311da-1753-40c2-bd3b-22b23aa038e5",
   "metadata": {
    "scrolled": true
   },
   "outputs": [
    {
     "name": "stdout",
     "output_type": "stream",
     "text": [
      "[0, 0, 0, 1, 1, 2, 2, 2, 3, 3, 3, 4, 4, 4, 5, 7, 8, 11]\n",
      "18\n",
      "1.25\n",
      "4.0\n",
      "2.75\n"
     ]
    }
   ],
   "source": [
    "residence_changes = [1, 3, 4, 1, 0, 2, 5, 8, 0, 2, 3, 4, 7, 11, 0, 2, 3, 4]\n",
    "sorted_res_ch = sorted(residence_changes)\n",
    "print(sorted_res_ch)\n",
    "print(len(sorted_res_ch))\n",
    "\n",
    "q1 = numpy.percentile(sorted_res_ch,25)\n",
    "print(q1)\n",
    "\n",
    "q3 = numpy.percentile(sorted_res_ch,75)\n",
    "print(q3)\n",
    "\n",
    "iqr = q3-q1\n",
    "print(iqr)"
   ]
  },
  {
   "cell_type": "code",
   "execution_count": 21,
   "id": "f94f1419-398b-4cd6-bc05-e0098b0dc260",
   "metadata": {
    "scrolled": true
   },
   "outputs": [
    {
     "name": "stdout",
     "output_type": "stream",
     "text": [
      "9.0\n",
      "11.0\n",
      "2.0\n"
     ]
    }
   ],
   "source": [
    "test = [7, 9, 9, 10, 11, 11, 13]\n",
    "sorted_test = sorted(test)\n",
    "\n",
    "q1_sort = numpy.percentile(sorted_test,25)\n",
    "print(q1_sort)\n",
    "\n",
    "q3_sort = numpy.percentile(sorted_test,75)\n",
    "print(q3_sort)\n",
    "\n",
    "iqr_sort = q3_sort-q1_sort\n",
    "print(iqr_sort)"
   ]
  },
  {
   "cell_type": "markdown",
   "id": "49cda939-d7e4-437b-9baa-df9db6bebe77",
   "metadata": {},
   "source": [
    "### Review questions salary increase by $70"
   ]
  },
  {
   "cell_type": "code",
   "execution_count": 22,
   "id": "37f66cd3-2493-4a19-81e8-1563964c2967",
   "metadata": {
    "scrolled": true
   },
   "outputs": [
    {
     "name": "stdout",
     "output_type": "stream",
     "text": [
      "mean = 44.7\n",
      "variance = 268.0111111111111\n",
      "standard deviation = 16.371044899795223\n"
     ]
    }
   ],
   "source": [
    "salary = [30,56,12,45,43,31,65,57,48,60]\n",
    "print(f'mean = {statistics.mean(salary)}')\n",
    "print(f'variance = {statistics.variance(salary)}')\n",
    "print(f'standard deviation = {statistics.stdev(salary)}')"
   ]
  },
  {
   "cell_type": "code",
   "execution_count": 23,
   "id": "e5e9e945-6e5c-478f-9d6a-cd691513bd14",
   "metadata": {
    "scrolled": true
   },
   "outputs": [
    {
     "name": "stdout",
     "output_type": "stream",
     "text": [
      "mean = 114.7\n",
      "variance = 268.0111111111111\n",
      "standard deviation = 16.371044899795223\n"
     ]
    }
   ],
   "source": [
    "increased_salary = [sal+70 for sal in salary]\n",
    "print(f'mean = {statistics.mean(increased_salary)}')\n",
    "print(f'variance = {statistics.variance(increased_salary)}')\n",
    "print(f'standard deviation = {statistics.stdev(increased_salary)}')"
   ]
  },
  {
   "cell_type": "raw",
   "id": "79679351-9692-4f30-8cf5-bd96023e808e",
   "metadata": {},
   "source": [
    "The increase of $70 will not have an effect on the variance and standard deviation but will increase the mean"
   ]
  },
  {
   "cell_type": "markdown",
   "id": "a9c2f9a8-912c-4d06-bc59-d16235f5361a",
   "metadata": {},
   "source": [
    "### Review questions salary increase by 5%"
   ]
  },
  {
   "cell_type": "code",
   "execution_count": 24,
   "id": "03f8a31e-01a0-4455-a493-40d459dcb275",
   "metadata": {},
   "outputs": [
    {
     "name": "stdout",
     "output_type": "stream",
     "text": [
      "[31.5, 58.8, 12.6, 47.25, 45.15, 32.55, 68.25, 59.85, 50.4, 63.0]\n",
      "mean = 46.935\n",
      "variance = 295.48225\n",
      "standard deviation = 17.189597144784983\n"
     ]
    }
   ],
   "source": [
    "five_percent_increase = [sal+(sal*0.05) for sal in salary]\n",
    "print(five_percent_increase)\n",
    "\n",
    "print(f'mean = {statistics.mean(five_percent_increase)}')\n",
    "print(f'variance = {statistics.variance(five_percent_increase)}')\n",
    "print(f'standard deviation = {statistics.stdev(five_percent_increase)}')"
   ]
  },
  {
   "cell_type": "markdown",
   "id": "54802e43-7cda-4657-9532-9b9fb51b1604",
   "metadata": {},
   "source": [
    "### Weights"
   ]
  },
  {
   "cell_type": "code",
   "execution_count": 25,
   "id": "74452af1-d6f2-46c9-9932-8f3f4500a90f",
   "metadata": {},
   "outputs": [],
   "source": [
    "import pandas"
   ]
  },
  {
   "cell_type": "code",
   "execution_count": 26,
   "id": "35d23aa2-e2c6-4fa8-a5e0-dcf739e87b23",
   "metadata": {
    "scrolled": true
   },
   "outputs": [
    {
     "name": "stdout",
     "output_type": "stream",
     "text": [
      "53\n",
      "[25600, 37249, 51076, 24649, 32400, 42025, 27225, 28224, 28561, 25600, 26569, 29584, 22801, 24649, 17689, 60025, 28900, 23104, 25600, 48400, 36100, 28900, 25600, 32400, 24964, 28900, 27556, 42436, 22500, 23104, 22500, 50625, 21025, 23104, 29584, 27225, 36100, 24336, 18225, 34225, 25281, 30625, 24964, 32041, 36100, 27225, 23104, 24336, 23716, 27225, 24649, 24336, 18225]\n",
      "mean = 169.50943396226415\n",
      "variance = 544.1008708272859\n",
      "standard deviation = 23.325969879670296\n"
     ]
    }
   ],
   "source": [
    "weights = pandas.read_csv('weights.csv')\n",
    "weights_copy = weights.copy()\n",
    "weights_copy_list = weights_copy.weight\n",
    "print(len(weights_copy_list))\n",
    "\n",
    "sqrs_weights = [w**2 for w in weights_copy_list]\n",
    "print(sqrs_weights)\n",
    "\n",
    "print(f'mean = {statistics.mean(weights_copy_list)}')\n",
    "print(f'variance = {statistics.variance(weights_copy_list)}')\n",
    "print(f'standard deviation = {statistics.stdev(weights_copy_list)}')"
   ]
  },
  {
   "cell_type": "markdown",
   "id": "d2407351-5ddb-43b8-9d2d-cff573ae0848",
   "metadata": {},
   "source": [
    "### Field of Study Variability"
   ]
  },
  {
   "cell_type": "raw",
   "id": "3996d227-bc1b-4f75-9d2d-b1db8844e571",
   "metadata": {},
   "source": [
    "Would you describe the distribution of majors for all male graduates as having maximum, intermediate, or minimum\n",
    "variability?"
   ]
  },
  {
   "cell_type": "code",
   "execution_count": 27,
   "id": "d3307420-1d88-41ed-baca-90aebe832dda",
   "metadata": {
    "scrolled": true
   },
   "outputs": [
    {
     "data": {
      "text/html": [
       "<div>\n",
       "<style scoped>\n",
       "    .dataframe tbody tr th:only-of-type {\n",
       "        vertical-align: middle;\n",
       "    }\n",
       "\n",
       "    .dataframe tbody tr th {\n",
       "        vertical-align: top;\n",
       "    }\n",
       "\n",
       "    .dataframe thead th {\n",
       "        text-align: right;\n",
       "    }\n",
       "</style>\n",
       "<table border=\"1\" class=\"dataframe\">\n",
       "  <thead>\n",
       "    <tr style=\"text-align: right;\">\n",
       "      <th></th>\n",
       "      <th>MAJOR FIELD OF STUDY</th>\n",
       "      <th>MALES</th>\n",
       "      <th>FEMALES</th>\n",
       "    </tr>\n",
       "  </thead>\n",
       "  <tbody>\n",
       "    <tr>\n",
       "      <th>0</th>\n",
       "      <td>Business</td>\n",
       "      <td>190.0</td>\n",
       "      <td>176.7</td>\n",
       "    </tr>\n",
       "    <tr>\n",
       "      <th>1</th>\n",
       "      <td>Social sciences</td>\n",
       "      <td>90.6</td>\n",
       "      <td>87.9</td>\n",
       "    </tr>\n",
       "    <tr>\n",
       "      <th>2</th>\n",
       "      <td>Education</td>\n",
       "      <td>21.8</td>\n",
       "      <td>84.0</td>\n",
       "    </tr>\n",
       "    <tr>\n",
       "      <th>3</th>\n",
       "      <td>Health sciences</td>\n",
       "      <td>24.9</td>\n",
       "      <td>138.6</td>\n",
       "    </tr>\n",
       "    <tr>\n",
       "      <th>4</th>\n",
       "      <td>Psychology</td>\n",
       "      <td>25.4</td>\n",
       "      <td>83.6</td>\n",
       "    </tr>\n",
       "    <tr>\n",
       "      <th>5</th>\n",
       "      <td>Engineering</td>\n",
       "      <td>81.3</td>\n",
       "      <td>17.3</td>\n",
       "    </tr>\n",
       "    <tr>\n",
       "      <th>6</th>\n",
       "      <td>Life sciences</td>\n",
       "      <td>39.5</td>\n",
       "      <td>56.3</td>\n",
       "    </tr>\n",
       "    <tr>\n",
       "      <th>7</th>\n",
       "      <td>Fine arts</td>\n",
       "      <td>37.2</td>\n",
       "      <td>58.6</td>\n",
       "    </tr>\n",
       "    <tr>\n",
       "      <th>8</th>\n",
       "      <td>Communications</td>\n",
       "      <td>33.5</td>\n",
       "      <td>55.2</td>\n",
       "    </tr>\n",
       "    <tr>\n",
       "      <th>9</th>\n",
       "      <td>Computer sciences</td>\n",
       "      <td>38.8</td>\n",
       "      <td>8.6</td>\n",
       "    </tr>\n",
       "    <tr>\n",
       "      <th>10</th>\n",
       "      <td>English</td>\n",
       "      <td>17.0</td>\n",
       "      <td>36.8</td>\n",
       "    </tr>\n",
       "  </tbody>\n",
       "</table>\n",
       "</div>"
      ],
      "text/plain": [
       "   MAJOR FIELD OF STUDY  MALES  FEMALES\n",
       "0              Business  190.0    176.7\n",
       "1       Social sciences   90.6     87.9\n",
       "2             Education   21.8     84.0\n",
       "3       Health sciences   24.9    138.6\n",
       "4            Psychology   25.4     83.6\n",
       "5           Engineering   81.3     17.3\n",
       "6         Life sciences   39.5     56.3\n",
       "7             Fine arts   37.2     58.6\n",
       "8        Communications   33.5     55.2\n",
       "9     Computer sciences   38.8      8.6\n",
       "10              English   17.0     36.8"
      ]
     },
     "execution_count": 27,
     "metadata": {},
     "output_type": "execute_result"
    }
   ],
   "source": [
    "fos = pandas.read_csv('field_of_study.csv')\n",
    "fos_copy = fos.copy()\n",
    "fos_copy"
   ]
  },
  {
   "cell_type": "code",
   "execution_count": 28,
   "id": "303d74cf-f7bd-4cbd-b91a-079c1e46d1d0",
   "metadata": {
    "scrolled": true
   },
   "outputs": [
    {
     "name": "stdout",
     "output_type": "stream",
     "text": [
      "[17.0, 21.8, 24.9, 25.4, 33.5, 37.2, 38.8, 39.5, 81.3, 90.6, 190.0]\n",
      "median = 37.2\n",
      "quartile1 = 25.15\n",
      "quartile3 = 60.4\n",
      "quartile2 = 37.2\n",
      "mean = 54.54545454545455\n",
      "variance = 2579.196727272727\n",
      "standard deviation = 50.78579257304869\n"
     ]
    }
   ],
   "source": [
    "fos_male_list = fos_copy.MALES\n",
    "fos_sorted = sorted(fos_male_list)\n",
    "\n",
    "print(fos_sorted)\n",
    "\n",
    "print(f'median = {statistics.median(fos_male_list)}')\n",
    "print(f'quartile1 = {numpy.percentile(fos_male_list,25)}')\n",
    "print(f'quartile3 = {numpy.percentile(fos_male_list,75)}')\n",
    "print(f'quartile2 = {numpy.percentile(fos_male_list,50)}')\n",
    "\n",
    "print(f'mean = {statistics.mean(fos_male_list)}')\n",
    "print(f'variance = {statistics.variance(fos_male_list)}')\n",
    "print(f'standard deviation = {statistics.stdev(fos_male_list)}')"
   ]
  },
  {
   "cell_type": "code",
   "execution_count": 29,
   "id": "e4429cab-b7da-4276-a657-514caabc4871",
   "metadata": {
    "scrolled": true
   },
   "outputs": [
    {
     "name": "stdout",
     "output_type": "stream",
     "text": [
      "[0, 0, 0, 1, 1, 2, 2, 2, 3, 3, 3, 4, 4, 4, 5, 7, 8, 11]\n",
      "median = 3.0\n",
      "quartile1 = 1.25\n",
      "quartile3 = 4.0\n",
      "quartile2 = 3.0\n",
      "mean = 3.3333333333333335\n",
      "variance = 8.705882352941176\n",
      "standard deviation = 2.95057322446693\n"
     ]
    }
   ],
   "source": [
    "# new = [17, 21, 24, 25, 33, 37, 38, 39, 81, 90, 190]\n",
    "new = [1, 3, 4, 1, 0, 2, 5, 8, 0, 2, 3, 4, 7, 11, 0, 2, 3, 4]\n",
    "print(sorted(new))\n",
    "\n",
    "print(f'median = {statistics.median(new)}')\n",
    "print(f'quartile1 = {numpy.percentile(new,25)}')\n",
    "print(f'quartile3 = {numpy.percentile(new,75)}')\n",
    "print(f'quartile2 = {numpy.percentile(new,50)}')\n",
    "\n",
    "print(f'mean = {statistics.mean(new)}')\n",
    "print(f'variance = {statistics.variance(new)}')\n",
    "print(f'standard deviation = {statistics.stdev(new)}')"
   ]
  },
  {
   "cell_type": "code",
   "execution_count": 35,
   "id": "a2e0312d-eef4-4b34-8969-078888f25cfd",
   "metadata": {},
   "outputs": [
    {
     "name": "stdout",
     "output_type": "stream",
     "text": [
      "0     160\n",
      "1     193\n",
      "2     226\n",
      "3     157\n",
      "4     180\n",
      "5     205\n",
      "6     165\n",
      "7     168\n",
      "8     169\n",
      "9     160\n",
      "10    163\n",
      "11    172\n",
      "12    151\n",
      "13    157\n",
      "14    133\n",
      "15    245\n",
      "16    170\n",
      "17    152\n",
      "18    160\n",
      "19    220\n",
      "20    190\n",
      "21    170\n",
      "22    160\n",
      "23    180\n",
      "24    158\n",
      "25    170\n",
      "26    166\n",
      "27    206\n",
      "28    150\n",
      "29    152\n",
      "30    150\n",
      "31    225\n",
      "32    145\n",
      "33    152\n",
      "34    172\n",
      "35    165\n",
      "36    190\n",
      "37    156\n",
      "38    135\n",
      "39    185\n",
      "40    159\n",
      "41    175\n",
      "42    158\n",
      "43    179\n",
      "44    190\n",
      "45    165\n",
      "46    152\n",
      "47    156\n",
      "48    154\n",
      "49    165\n",
      "50    157\n",
      "51    156\n",
      "52    135\n",
      "Name: weight, dtype: int64\n",
      "0    -0.411577\n",
      "1     1.016693\n",
      "2     2.444964\n",
      "3    -0.541420\n",
      "4     0.454041\n",
      "5     1.536065\n",
      "6    -0.195172\n",
      "7    -0.065330\n",
      "8    -0.022049\n",
      "9    -0.411577\n",
      "10   -0.281734\n",
      "11    0.107794\n",
      "12   -0.801105\n",
      "13   -0.541420\n",
      "14   -1.580162\n",
      "15    3.267302\n",
      "16    0.021232\n",
      "17   -0.757825\n",
      "18   -0.411577\n",
      "19    2.185278\n",
      "20    0.886851\n",
      "21    0.021232\n",
      "22   -0.411577\n",
      "23    0.454041\n",
      "24   -0.498139\n",
      "25    0.021232\n",
      "26   -0.151892\n",
      "27    1.579346\n",
      "28   -0.844386\n",
      "29   -0.757825\n",
      "30   -0.844386\n",
      "31    2.401683\n",
      "32   -1.060791\n",
      "33   -0.757825\n",
      "34    0.107794\n",
      "35   -0.195172\n",
      "36    0.886851\n",
      "37   -0.584701\n",
      "38   -1.493600\n",
      "39    0.670446\n",
      "40   -0.454858\n",
      "41    0.237637\n",
      "42   -0.498139\n",
      "43    0.410760\n",
      "44    0.886851\n",
      "45   -0.195172\n",
      "46   -0.757825\n",
      "47   -0.584701\n",
      "48   -0.671263\n",
      "49   -0.195172\n",
      "50   -0.541420\n",
      "51   -0.584701\n",
      "52   -1.493600\n",
      "Name: weight, dtype: float64\n"
     ]
    }
   ],
   "source": [
    "from scipy.stats import zscore\n",
    "z_weights = zscore(weights_copy_list)\n",
    "print(weights_copy_list)\n",
    "print(z_weights)"
   ]
  }
 ],
 "metadata": {
  "kernelspec": {
   "display_name": "Python 3 (ipykernel)",
   "language": "python",
   "name": "python3"
  },
  "language_info": {
   "codemirror_mode": {
    "name": "ipython",
    "version": 3
   },
   "file_extension": ".py",
   "mimetype": "text/x-python",
   "name": "python",
   "nbconvert_exporter": "python",
   "pygments_lexer": "ipython3",
   "version": "3.10.12"
  }
 },
 "nbformat": 4,
 "nbformat_minor": 5
}
