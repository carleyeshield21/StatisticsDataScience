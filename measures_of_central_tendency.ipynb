{
 "cells": [
  {
   "cell_type": "code",
   "execution_count": 1,
   "id": "fc8bacd9-e383-48f6-8f09-b1e30a33f6a1",
   "metadata": {},
   "outputs": [],
   "source": [
    "import statistics"
   ]
  },
  {
   "cell_type": "code",
   "execution_count": 3,
   "id": "3309e9e8-e2b2-4a49-9f5c-1c7447c90f90",
   "metadata": {},
   "outputs": [],
   "source": [
    "sample = [13,10,11,7,9,11,9]"
   ]
  },
  {
   "cell_type": "code",
   "execution_count": 7,
   "id": "a52e4ee8-6484-4da6-84c4-3ccae3fbcf38",
   "metadata": {
    "scrolled": true
   },
   "outputs": [
    {
     "name": "stdout",
     "output_type": "stream",
     "text": [
      "10\n"
     ]
    },
    {
     "data": {
      "text/plain": [
       "10.0"
      ]
     },
     "execution_count": 7,
     "metadata": {},
     "output_type": "execute_result"
    }
   ],
   "source": [
    "mean = statistics.mean(sample)\n",
    "print(mean)\n",
    "\n",
    "mean1 = sum(sample)/len(sample)\n",
    "mean1"
   ]
  },
  {
   "cell_type": "code",
   "execution_count": 9,
   "id": "567d7a0f-a5c4-4c82-a8c8-7b4d264dba9e",
   "metadata": {
    "scrolled": true
   },
   "outputs": [
    {
     "name": "stdout",
     "output_type": "stream",
     "text": [
      "10\n"
     ]
    },
    {
     "data": {
      "text/plain": [
       "[7, 9, 9, 10, 11, 11, 13]"
      ]
     },
     "execution_count": 9,
     "metadata": {},
     "output_type": "execute_result"
    }
   ],
   "source": [
    "median = statistics.median(sample)\n",
    "print(median)\n",
    "\n",
    "sample_sort = sorted(sample)\n",
    "sample_sort"
   ]
  },
  {
   "cell_type": "code",
   "execution_count": 13,
   "id": "9c43ffc1-ffdf-499a-be78-29b2f24b5333",
   "metadata": {},
   "outputs": [
    {
     "data": {
      "text/plain": [
       "11"
      ]
     },
     "execution_count": 13,
     "metadata": {},
     "output_type": "execute_result"
    }
   ],
   "source": [
    "mode = statistics.mode(sample)\n",
    "mode"
   ]
  },
  {
   "cell_type": "code",
   "execution_count": 19,
   "id": "ed502a76-fed1-464d-9619-31a0c4944728",
   "metadata": {},
   "outputs": [
    {
     "name": "stdout",
     "output_type": "stream",
     "text": [
      "[169, 100, 121, 49, 81, 121, 81]\n"
     ]
    },
    {
     "data": {
      "text/plain": [
       "722"
      ]
     },
     "execution_count": 19,
     "metadata": {},
     "output_type": "execute_result"
    }
   ],
   "source": [
    "squares_of_sample = [n**2 for n in sample]\n",
    "print(squares_of_sample)\n",
    "\n",
    "sum_of_squares_of_sample = sum(squares_of_sample)\n",
    "sum_of_squares_of_sample"
   ]
  },
  {
   "cell_type": "code",
   "execution_count": 23,
   "id": "fd1e4e93-5854-488f-b6db-faaaf4fb4a08",
   "metadata": {},
   "outputs": [
    {
     "name": "stdout",
     "output_type": "stream",
     "text": [
      "3.6666666666666665\n"
     ]
    },
    {
     "ename": "TypeError",
     "evalue": "unsupported operand type(s) for /: 'list' and 'int'",
     "output_type": "error",
     "traceback": [
      "\u001b[0;31m---------------------------------------------------------------------------\u001b[0m",
      "\u001b[0;31mTypeError\u001b[0m                                 Traceback (most recent call last)",
      "Cell \u001b[0;32mIn[23], line 4\u001b[0m\n\u001b[1;32m      1\u001b[0m var \u001b[38;5;241m=\u001b[39m statistics\u001b[38;5;241m.\u001b[39mvariance(sample)\n\u001b[1;32m      2\u001b[0m \u001b[38;5;28mprint\u001b[39m(var)\n\u001b[0;32m----> 4\u001b[0m variance \u001b[38;5;241m=\u001b[39m [(n\u001b[38;5;241m-\u001b[39mmean)\u001b[38;5;241m*\u001b[39m\u001b[38;5;241m*\u001b[39m\u001b[38;5;241m2\u001b[39m \u001b[38;5;28;01mfor\u001b[39;00m n \u001b[38;5;129;01min\u001b[39;00m \u001b[43msample\u001b[49m\u001b[38;5;241;43m/\u001b[39;49m\u001b[43m(\u001b[49m\u001b[38;5;28;43mlen\u001b[39;49m\u001b[43m(\u001b[49m\u001b[43msample\u001b[49m\u001b[43m)\u001b[49m\u001b[38;5;241;43m-\u001b[39;49m\u001b[38;5;241;43m1\u001b[39;49m\u001b[43m)\u001b[49m]\n\u001b[1;32m      5\u001b[0m variance\n",
      "\u001b[0;31mTypeError\u001b[0m: unsupported operand type(s) for /: 'list' and 'int'"
     ]
    }
   ],
   "source": [
    "var = statistics.variance(sample)\n",
    "print(var)\n",
    "\n",
    "variance = [(n-mean) for n in sample]\n",
    "variance"
   ]
  }
 ],
 "metadata": {
  "kernelspec": {
   "display_name": "Python 3 (ipykernel)",
   "language": "python",
   "name": "python3"
  },
  "language_info": {
   "codemirror_mode": {
    "name": "ipython",
    "version": 3
   },
   "file_extension": ".py",
   "mimetype": "text/x-python",
   "name": "python",
   "nbconvert_exporter": "python",
   "pygments_lexer": "ipython3",
   "version": "3.10.12"
  }
 },
 "nbformat": 4,
 "nbformat_minor": 5
}
