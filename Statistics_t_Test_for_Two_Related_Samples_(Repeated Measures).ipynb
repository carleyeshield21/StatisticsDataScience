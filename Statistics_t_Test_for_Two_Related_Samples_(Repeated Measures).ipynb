{
 "cells": [
  {
   "cell_type": "markdown",
   "id": "e3880a96-892d-4394-98b9-c57a2515b3b4",
   "metadata": {},
   "source": [
    "#### DIFFERENCE SCORE (D)\n",
    "$D = X_1-X_2$\n",
    "\n",
    "#### MEAN DIFFERENCE SCORE ($\\overline{D}$)\n",
    "\n",
    "$\\overline{D} = \\dfrac{\\Sigma{D}}{n}$"
   ]
  }
 ],
 "metadata": {
  "kernelspec": {
   "display_name": "Python 3 (ipykernel)",
   "language": "python",
   "name": "python3"
  },
  "language_info": {
   "codemirror_mode": {
    "name": "ipython",
    "version": 3
   },
   "file_extension": ".py",
   "mimetype": "text/x-python",
   "name": "python",
   "nbconvert_exporter": "python",
   "pygments_lexer": "ipython3",
   "version": "3.10.12"
  }
 },
 "nbformat": 4,
 "nbformat_minor": 5
}
