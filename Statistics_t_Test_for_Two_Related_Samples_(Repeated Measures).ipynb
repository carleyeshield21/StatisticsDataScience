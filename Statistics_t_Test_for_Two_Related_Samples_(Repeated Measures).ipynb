{
 "cells": [
  {
   "cell_type": "markdown",
   "id": "e3880a96-892d-4394-98b9-c57a2515b3b4",
   "metadata": {},
   "source": [
    "#### DIFFERENCE SCORE (D)\n",
    "$D = X_1-X_2$\n",
    "\n",
    "#### MEAN DIFFERENCE SCORE ($\\overline{D}$)\n",
    "\n",
    "$\\overline{D} = \\dfrac{\\Sigma{D}}{n}$"
   ]
  },
  {
   "cell_type": "code",
   "execution_count": 5,
   "id": "1af42059-d683-4665-a708-8396cacbd1b4",
   "metadata": {},
   "outputs": [
    {
     "name": "stdout",
     "output_type": "stream",
     "text": [
      "X1_mean = 11\n",
      "X2_mean = 6\n",
      "D_mean = 5\n"
     ]
    }
   ],
   "source": [
    "import statistics\n",
    "import math\n",
    "\n",
    "X1 = [12,5,11,11,9,18]\n",
    "X2 = [7,3,4,6,3,13]\n",
    "\n",
    "X1_mean = statistics.mean(X1)\n",
    "X2_mean = statistics.mean(X2)\n",
    "print(f'X1_mean = {X1_mean}\\nX2_mean = {X2_mean}')\n",
    "\n",
    "D = [X1[n]-X2[n] for n in range(0,len(X1))]\n",
    "D_mean = statistics.mean(D)\n",
    "print(f'D_mean = {D_mean}')"
   ]
  }
 ],
 "metadata": {
  "kernelspec": {
   "display_name": "Python 3 (ipykernel)",
   "language": "python",
   "name": "python3"
  },
  "language_info": {
   "codemirror_mode": {
    "name": "ipython",
    "version": 3
   },
   "file_extension": ".py",
   "mimetype": "text/x-python",
   "name": "python",
   "nbconvert_exporter": "python",
   "pygments_lexer": "ipython3",
   "version": "3.10.12"
  }
 },
 "nbformat": 4,
 "nbformat_minor": 5
}
