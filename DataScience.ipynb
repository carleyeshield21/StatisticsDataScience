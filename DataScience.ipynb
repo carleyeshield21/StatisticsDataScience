{
 "cells": [
  {
   "cell_type": "code",
   "execution_count": 33,
   "id": "f35614ee-8544-4ba5-bf63-2c9aa5674a2c",
   "metadata": {},
   "outputs": [
    {
     "data": {
      "text/plain": [
       "True"
      ]
     },
     "execution_count": 33,
     "metadata": {},
     "output_type": "execute_result"
    }
   ],
   "source": [
    "True or False"
   ]
  },
  {
   "cell_type": "code",
   "execution_count": 34,
   "id": "42a0540a-a53d-4352-9127-d6a1b59f8ada",
   "metadata": {},
   "outputs": [
    {
     "data": {
      "text/plain": [
       "False"
      ]
     },
     "execution_count": 34,
     "metadata": {},
     "output_type": "execute_result"
    }
   ],
   "source": [
    "True and False"
   ]
  },
  {
   "cell_type": "code",
   "execution_count": 35,
   "id": "06aa71db-e4b8-409b-a3ef-833e2408a7c0",
   "metadata": {},
   "outputs": [
    {
     "data": {
      "text/plain": [
       "True"
      ]
     },
     "execution_count": 35,
     "metadata": {},
     "output_type": "execute_result"
    }
   ],
   "source": [
    "True and True"
   ]
  },
  {
   "cell_type": "code",
   "execution_count": 36,
   "id": "c373fd0b-8118-43ea-a05f-e93c8deb99b8",
   "metadata": {},
   "outputs": [
    {
     "data": {
      "text/plain": [
       "True"
      ]
     },
     "execution_count": 36,
     "metadata": {},
     "output_type": "execute_result"
    }
   ],
   "source": [
    "True or True"
   ]
  },
  {
   "cell_type": "code",
   "execution_count": 38,
   "id": "df1f3275-92a7-4d6d-b449-d9bdce17522d",
   "metadata": {},
   "outputs": [
    {
     "data": {
      "text/plain": [
       "True"
      ]
     },
     "execution_count": 38,
     "metadata": {},
     "output_type": "execute_result"
    }
   ],
   "source": [
    "False or True"
   ]
  },
  {
   "cell_type": "code",
   "execution_count": 39,
   "id": "1b4f54b1-b519-4f34-9967-21151ede310a",
   "metadata": {},
   "outputs": [
    {
     "data": {
      "text/plain": [
       "False"
      ]
     },
     "execution_count": 39,
     "metadata": {},
     "output_type": "execute_result"
    }
   ],
   "source": [
    "False and False"
   ]
  },
  {
   "cell_type": "code",
   "execution_count": 40,
   "id": "e8a46461-5abf-4a64-b160-d0b612648767",
   "metadata": {},
   "outputs": [
    {
     "data": {
      "text/plain": [
       "False"
      ]
     },
     "execution_count": 40,
     "metadata": {},
     "output_type": "execute_result"
    }
   ],
   "source": [
    "False or False"
   ]
  },
  {
   "cell_type": "code",
   "execution_count": 41,
   "id": "e7c0daa8-836f-4ca9-a0b5-7f8a930eecc1",
   "metadata": {
    "collapsed": true,
    "jupyter": {
     "outputs_hidden": true
    }
   },
   "outputs": [
    {
     "data": {
      "text/plain": [
       "False"
      ]
     },
     "execution_count": 41,
     "metadata": {},
     "output_type": "execute_result"
    }
   ],
   "source": [
    "False or not True and not False"
   ]
  },
  {
   "cell_type": "code",
   "execution_count": 42,
   "id": "0ed6aabb-47e0-4154-b3cc-0709cfd4daf1",
   "metadata": {},
   "outputs": [
    {
     "data": {
      "text/plain": [
       "True"
      ]
     },
     "execution_count": 42,
     "metadata": {},
     "output_type": "execute_result"
    }
   ],
   "source": [
    "True and not False and True or not False"
   ]
  },
  {
   "cell_type": "code",
   "execution_count": 43,
   "id": "d325f990-f86e-4d97-adec-87d512d1fe15",
   "metadata": {},
   "outputs": [
    {
     "data": {
      "text/plain": [
       "True"
      ]
     },
     "execution_count": 43,
     "metadata": {},
     "output_type": "execute_result"
    }
   ],
   "source": [
    "True or False and False "
   ]
  },
  {
   "cell_type": "code",
   "execution_count": 44,
   "id": "69469ca9-4187-4b71-8357-78b24a652d1a",
   "metadata": {},
   "outputs": [
    {
     "data": {
      "text/plain": [
       "False"
      ]
     },
     "execution_count": 44,
     "metadata": {},
     "output_type": "execute_result"
    }
   ],
   "source": [
    "False and True or False "
   ]
  },
  {
   "cell_type": "code",
   "execution_count": 66,
   "id": "c1cad977-6f37-4205-b017-eda537998146",
   "metadata": {},
   "outputs": [
    {
     "data": {
      "text/plain": [
       "20"
      ]
     },
     "execution_count": 66,
     "metadata": {},
     "output_type": "execute_result"
    }
   ],
   "source": [
    "def trial(x):\n",
    "    result = 4 + x\n",
    "    return result\n",
    "    \n",
    "y = trial(8)\n",
    "new = y + 8\n",
    "new"
   ]
  },
  {
   "cell_type": "code",
   "execution_count": 83,
   "id": "c8505349-e310-41f5-bd53-149126634406",
   "metadata": {},
   "outputs": [
    {
     "name": "stdout",
     "output_type": "stream",
     "text": [
      "Small\n"
     ]
    }
   ],
   "source": [
    "x=100\n",
    "if x > 200:\n",
    "    print('Big')\n",
    "elif 200 >= x > 100:\n",
    "    print('Average')\n",
    "else:\n",
    "    print('Small')"
   ]
  },
  {
   "cell_type": "code",
   "execution_count": 86,
   "id": "db45b0f4-1969-4cfa-b5a8-9202da09f669",
   "metadata": {
    "jupyter": {
     "source_hidden": true
    }
   },
   "outputs": [
    {
     "name": "stdout",
     "output_type": "stream",
     "text": [
      "Negative\n"
     ]
    }
   ],
   "source": [
    "x = -1\n",
    "\n",
    "if x > 200: \n",
    "    print (\"Big\")\n",
    "elif x > 100 and x <= 200:\n",
    "    print (\"Average\")\n",
    "elif 100 >= x >= 0:\n",
    "    print('Small')\n",
    "else:\n",
    "    print('Negative')"
   ]
  },
  {
   "cell_type": "code",
   "execution_count": 1,
   "id": "2a5aa5da-fe6e-429e-8606-2c416c6e6831",
   "metadata": {},
   "outputs": [
    {
     "name": "stdout",
     "output_type": "stream",
     "text": [
      "2 Raised to the power of 2:\n"
     ]
    },
    {
     "data": {
      "text/plain": [
       "4"
      ]
     },
     "execution_count": 1,
     "metadata": {},
     "output_type": "execute_result"
    }
   ],
   "source": [
    "def exponentiation_exp_2(x):\n",
    "    print(f'{x} Raised to the power of 2:')\n",
    "    result = x**2\n",
    "    return result\n",
    "exponentiation_exp_2(2)"
   ]
  },
  {
   "cell_type": "code",
   "execution_count": 15,
   "id": "15713b98-0e7e-41c1-8ea5-34704d10a148",
   "metadata": {},
   "outputs": [
    {
     "data": {
      "text/plain": [
       "30"
      ]
     },
     "execution_count": 15,
     "metadata": {},
     "output_type": "execute_result"
    }
   ],
   "source": [
    "def plus_five(x):\n",
    "    return x + 5\n",
    "\n",
    "def m_by_3(x):\n",
    "    return plus_five(x)*3\n",
    "\n",
    "# plus_five(6)\n",
    "m_by_3(5)"
   ]
  },
  {
   "cell_type": "code",
   "execution_count": null,
   "id": "d1392b70-8047-4866-8c98-201bc7b52fd7",
   "metadata": {},
   "outputs": [],
   "source": [
    "# Define a function, called compare_the_two(), with two arguments. If the first one is greater than the second one, \n",
    "# let it print \"Greater\". If the second one is greater, it should print \"Less\". Let it print \"Equal\" if the two \n",
    "# values are the same number."
   ]
  },
  {
   "cell_type": "code",
   "execution_count": 17,
   "id": "f179ef71-2f3c-4988-99be-edc932f5d19a",
   "metadata": {
    "collapsed": true,
    "jupyter": {
     "outputs_hidden": true
    }
   },
   "outputs": [
    {
     "data": {
      "text/plain": [
       "'Equal'"
      ]
     },
     "execution_count": 17,
     "metadata": {},
     "output_type": "execute_result"
    }
   ],
   "source": [
    "def compare_the_two(a,b):\n",
    "    if a>b:\n",
    "        return 'Greater'\n",
    "    elif a<b:\n",
    "        return 'Less'\n",
    "    else:\n",
    "        return 'Equal'\n",
    "compare_the_two(2,2)"
   ]
  },
  {
   "cell_type": "code",
   "execution_count": 18,
   "id": "8f73869d-0c1f-44c7-b759-cd88b7e1872c",
   "metadata": {
    "collapsed": true,
    "jupyter": {
     "outputs_hidden": true
    }
   },
   "outputs": [
    {
     "name": "stdout",
     "output_type": "stream",
     "text": [
      "35.568\n"
     ]
    }
   ],
   "source": [
    "number = 35.56789\n",
    "rounded_number = round(number, 3)\n",
    "\n",
    "print(rounded_number)"
   ]
  },
  {
   "cell_type": "code",
   "execution_count": null,
   "id": "3d6e57a8-4862-4d83-8a4c-93ea5d125bb9",
   "metadata": {},
   "outputs": [],
   "source": [
    "# Use a built-in function to raise 10 to the power of 3"
   ]
  },
  {
   "cell_type": "code",
   "execution_count": 26,
   "id": "7d69b380-3616-4a95-bee0-f33176443198",
   "metadata": {
    "collapsed": true,
    "jupyter": {
     "outputs_hidden": true
    }
   },
   "outputs": [
    {
     "name": "stdout",
     "output_type": "stream",
     "text": [
      "1000\n"
     ]
    }
   ],
   "source": [
    "# def power():\n",
    "#     return 10**3\n",
    "# # power()\n",
    "print(pow(10,3))"
   ]
  },
  {
   "cell_type": "code",
   "execution_count": null,
   "id": "d12377a0-ca6c-4bb5-a72d-8369335d5522",
   "metadata": {},
   "outputs": [],
   "source": [
    "# Create a function, called distance_from_zero(), that returns the absolute value of a provided single argument\n",
    "# and prints a statement \"Not Possible\" if the argument provided is not a number. To solve the task, use the type() \n",
    "# function in the body of distance_from_zero().\n",
    "\n",
    "# Call the function with the values of -10 and \"cat\" to verify it works correctly."
   ]
  },
  {
   "cell_type": "code",
   "execution_count": 39,
   "id": "7c50811c-81d6-49ef-a1ea-f90f89717fd4",
   "metadata": {
    "collapsed": true,
    "jupyter": {
     "outputs_hidden": true
    }
   },
   "outputs": [
    {
     "name": "stdout",
     "output_type": "stream",
     "text": [
      "Not Possible\n"
     ]
    }
   ],
   "source": [
    "def distance_from_zero(num):\n",
    "    if type(num)==int:\n",
    "        return abs(num)\n",
    "    else:\n",
    "        print('Not Possible')\n",
    "# distance_from_zero(-10)\n",
    "distance_from_zero('cat')"
   ]
  },
  {
   "cell_type": "code",
   "execution_count": 41,
   "id": "09dfc7d1-4fda-4cb5-b228-2142cfed34f7",
   "metadata": {
    "collapsed": true,
    "jupyter": {
     "outputs_hidden": true
    }
   },
   "outputs": [
    {
     "data": {
      "text/plain": [
       "[50, 100]"
      ]
     },
     "execution_count": 41,
     "metadata": {},
     "output_type": "execute_result"
    }
   ],
   "source": [
    "Numbers = [15, 40, 50, 100, 115, 140]\n",
    "Numbers[2:4]"
   ]
  },
  {
   "cell_type": "code",
   "execution_count": 42,
   "id": "1f643572-ad78-4c0c-abee-4bda6f887c82",
   "metadata": {
    "collapsed": true,
    "jupyter": {
     "outputs_hidden": true
    }
   },
   "outputs": [
    {
     "data": {
      "text/plain": [
       "[50, 100, 115, 140]"
      ]
     },
     "execution_count": 42,
     "metadata": {},
     "output_type": "execute_result"
    }
   ],
   "source": [
    "Numbers = [15, 40, 50, 100, 115, 140]\n",
    "Numbers[2:]"
   ]
  },
  {
   "cell_type": "code",
   "execution_count": 51,
   "id": "bc620b03-1d02-4f94-bb71-9d8a3708ccd0",
   "metadata": {
    "collapsed": true,
    "jupyter": {
     "outputs_hidden": true
    }
   },
   "outputs": [
    {
     "data": {
      "text/plain": [
       "[50, 100, 115, 140]"
      ]
     },
     "execution_count": 51,
     "metadata": {},
     "output_type": "execute_result"
    }
   ],
   "source": [
    "Numbers = [15, 40, 50, 100, 115, 140]\n",
    "Numbers[-4:]"
   ]
  },
  {
   "cell_type": "code",
   "execution_count": 58,
   "id": "52b493d3-eff7-450a-9196-3627eefed294",
   "metadata": {
    "collapsed": true,
    "jupyter": {
     "outputs_hidden": true
    }
   },
   "outputs": [
    {
     "name": "stdout",
     "output_type": "stream",
     "text": [
      "[140, 115, 100, 50, 40, 15]\n"
     ]
    }
   ],
   "source": [
    "Numbers = [15, 40, 50, 100, 115, 140]\n",
    "Numbers.sort(reverse=True)\n",
    "print(Numbers)"
   ]
  },
  {
   "cell_type": "code",
   "execution_count": 61,
   "id": "0e92c94c-2c59-4abb-a849-a6372c7bdebd",
   "metadata": {
    "collapsed": true,
    "jupyter": {
     "outputs_hidden": true
    }
   },
   "outputs": [
    {
     "name": "stdout",
     "output_type": "stream",
     "text": [
      "Peter\n"
     ]
    }
   ],
   "source": [
    "name, age = 'Peter,24'.split(',')\n",
    "print(name)"
   ]
  },
  {
   "cell_type": "code",
   "execution_count": null,
   "id": "20d9f586-5359-470a-a426-17b274394c29",
   "metadata": {},
   "outputs": [],
   "source": [
    "# Create a function called rectangle_info() that takes the length and width of a rectangle as arguments. \n",
    "# The function should then return the area and the perimeter of the rectangle. Call the function \n",
    "# with arguments 2 and 10 to verify it worked correctly."
   ]
  },
  {
   "cell_type": "code",
   "execution_count": 64,
   "id": "f9d540a8-f438-4cec-b90d-a0220a8f0e0b",
   "metadata": {
    "collapsed": true,
    "jupyter": {
     "outputs_hidden": true
    }
   },
   "outputs": [
    {
     "data": {
      "text/plain": [
       "(20, 24)"
      ]
     },
     "execution_count": 64,
     "metadata": {},
     "output_type": "execute_result"
    }
   ],
   "source": [
    "def rectangle_info(l,w):\n",
    "    P = 2*(l+w)\n",
    "    A = l*w\n",
    "    return A, P\n",
    "rectangle_info(2,10)"
   ]
  },
  {
   "cell_type": "code",
   "execution_count": 67,
   "id": "53c02947-1a0b-4e74-ab88-ac3a4db4ac7a",
   "metadata": {
    "collapsed": true,
    "jupyter": {
     "outputs_hidden": true
    }
   },
   "outputs": [
    {
     "data": {
      "text/plain": [
       "'Fries'"
      ]
     },
     "execution_count": 67,
     "metadata": {},
     "output_type": "execute_result"
    }
   ],
   "source": [
    "Menu = {'meal_1':'Spaghetti', 'meal_2':'Fries', 'meal_3':'Hamburger', 'meal_4':'Lasagna'}\n",
    "Menu['meal_2']"
   ]
  },
  {
   "cell_type": "code",
   "execution_count": 73,
   "id": "3a142714-0b47-4cb3-82a2-cf4f2cadbe6c",
   "metadata": {
    "jupyter": {
     "source_hidden": true
    }
   },
   "outputs": [],
   "source": [
    "Menu = {'meal_1':'Spaghetti', 'meal_2':'Fries', 'meal_3':'Hamburger', 'meal_4':'Lasagna'}\n",
    "Menu['meal_5'] = 'Soup'"
   ]
  },
  {
   "cell_type": "code",
   "execution_count": 77,
   "id": "309e5418-237f-438b-9377-86d0ddb9ca6f",
   "metadata": {
    "collapsed": true,
    "jupyter": {
     "outputs_hidden": true
    }
   },
   "outputs": [
    {
     "data": {
      "text/plain": [
       "{'meal_1': 'Spaghetti',\n",
       " 'meal_2': 'Fries',\n",
       " 'meal_3': 'Cheeseburger',\n",
       " 'meal_4': 'Lasagna'}"
      ]
     },
     "execution_count": 77,
     "metadata": {},
     "output_type": "execute_result"
    }
   ],
   "source": [
    "Menu = {'meal_1':'Spaghetti', 'meal_2':'Fries', 'meal_3':'Hamburger', 'meal_4':'Lasagna'}\n",
    "Menu['meal_3'] = 'Cheeseburger'\n",
    "Menu"
   ]
  },
  {
   "cell_type": "code",
   "execution_count": 81,
   "id": "32cc5a8e-dae1-41d8-a5cd-519e65cd12ef",
   "metadata": {},
   "outputs": [
    {
     "data": {
      "text/plain": [
       "{'meal_1': 'Spaghetti',\n",
       " 'meal_2': 'Fries',\n",
       " 'meal_3': 'Cheeseburger',\n",
       " 'meal_4': 'Lasagna',\n",
       " 'sixth meal': ['Pancakes', 'Ice-cream', 'Tiramisu']}"
      ]
     },
     "execution_count": 81,
     "metadata": {},
     "output_type": "execute_result"
    }
   ],
   "source": [
    "Attach the Desserts list in the form of a sixth meal.\n",
    "Menu = {'meal_1':'Spaghetti', 'meal_2':'Fries', 'meal_3':'Cheeseburger', 'meal_4':'Lasagna'}\n",
    "Dessert = ['Pancakes', 'Ice-cream', 'Tiramisu']\n",
    "Menu['sixth meal'] = Dessert\n",
    "Menu"
   ]
  },
  {
   "cell_type": "code",
   "execution_count": 124,
   "id": "e72d7e26-9ae8-4c97-a4ae-d41d8fc78eb0",
   "metadata": {},
   "outputs": [
    {
     "data": {
      "text/plain": [
       "{'Spaghetti': 10, 'Fries': 5, 'Cheeseburger': 8, 'Lasagna': 12, 'Soup': 5}"
      ]
     },
     "execution_count": 124,
     "metadata": {},
     "output_type": "execute_result"
    }
   ],
   "source": [
    "# Create a new dictionary called Price_list that contains the first five meals of the Menu dictionary as keys and assign the \n",
    "# following five values as prices (assumed in dollars): 10, 5, 8, 12, 5. Start by Price_list = {}.\n",
    "Menu = {'meal_1':'Spaghetti', 'meal_2':'Fries', 'meal_3':'Cheeseburger', 'meal_4':'Lasagna', 'meal_5':'Soup'}\n",
    "Price_list = {}\n",
    "prices = [10, 5, 8, 12, 5]\n",
    "for index, (key, value) in enumerate(Menu.items()):\n",
    "    Price_list[value] = prices[index]\n",
    "Price_list"
   ]
  },
  {
   "cell_type": "code",
   "execution_count": 107,
   "id": "ee0869c0-912e-4748-8eb3-4972c538d2f9",
   "metadata": {},
   "outputs": [
    {
     "name": "stdout",
     "output_type": "stream",
     "text": [
      "{'key1': 'value1', 'key2': 'value2', 'Spaghetti': 10}\n"
     ]
    }
   ],
   "source": [
    "# Existing dictionary\n",
    "my_dict = {'key1': 'value1', 'key2': 'value2'}\n",
    "\n",
    "# Adding a new key-value pair\n",
    "my_dict['Spaghetti'] = 10\n",
    "\n",
    "# Display the updated dictionary\n",
    "print(my_dict)"
   ]
  },
  {
   "cell_type": "code",
   "execution_count": 3,
   "id": "877abb0c-4e19-4b0a-8bb2-546bab747ebf",
   "metadata": {},
   "outputs": [
    {
     "name": "stdout",
     "output_type": "stream",
     "text": [
      "10\n"
     ]
    }
   ],
   "source": [
    "# Use the print() function and the .get() method to check the price of the Spaghetti in the Price_list.\n",
    "Price_list = {'Cheeseburger': 8, 'Fries': 5, 'Lasagna': 12, 'Soup': 5, 'Spaghetti': 10}\n",
    "Price_list.get('Spaghetti')\n",
    "print(Price_list.get('Spaghetti'))"
   ]
  },
  {
   "cell_type": "code",
   "execution_count": 2,
   "id": "11ffd7a9-7c75-4899-b21b-095ae4e5a9a7",
   "metadata": {},
   "outputs": [
    {
     "name": "stdout",
     "output_type": "stream",
     "text": [
      "15 40 50 100 115 140 "
     ]
    }
   ],
   "source": [
    "Numbers = [15, 40, 50, 100, 115, 140]\n",
    "for num in Numbers:\n",
    "    print(num, end=' ')"
   ]
  },
  {
   "cell_type": "code",
   "execution_count": 13,
   "id": "bcadcab1-13e3-4e90-b92f-c285512a2f95",
   "metadata": {},
   "outputs": [
    {
     "name": "stdout",
     "output_type": "stream",
     "text": [
      "1 3 5 7 9 11 13 15 17 19 21 23 25 27 29 "
     ]
    }
   ],
   "source": [
    "# Create a while loop that will print all odd numbers from 0 to 30 on the same row.\n",
    "n = 0\n",
    "while n <= 29:\n",
    "    n+=1\n",
    "    if n%2==1:\n",
    "        print(n, end=' ')"
   ]
  },
  {
   "cell_type": "code",
   "execution_count": 11,
   "id": "a2a4d3b0-d5f4-4f12-9f9e-2a178f93dd9b",
   "metadata": {},
   "outputs": [
    {
     "name": "stdout",
     "output_type": "stream",
     "text": [
      "1 3 5 7 9 11 13 15 17 19 21 23 25 27 29 "
     ]
    }
   ],
   "source": [
    "for n in range(0,31):\n",
    "    if n%2==1:\n",
    "        print(n, end=' ')"
   ]
  }
 ],
 "metadata": {
  "kernelspec": {
   "display_name": "Python 3 (ipykernel)",
   "language": "python",
   "name": "python3"
  },
  "language_info": {
   "codemirror_mode": {
    "name": "ipython",
    "version": 3
   },
   "file_extension": ".py",
   "mimetype": "text/x-python",
   "name": "python",
   "nbconvert_exporter": "python",
   "pygments_lexer": "ipython3",
   "version": "3.11.6"
  }
 },
 "nbformat": 4,
 "nbformat_minor": 5
}
