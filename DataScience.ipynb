{
 "cells": [
  {
   "cell_type": "code",
   "execution_count": 33,
   "id": "f35614ee-8544-4ba5-bf63-2c9aa5674a2c",
   "metadata": {},
   "outputs": [
    {
     "data": {
      "text/plain": [
       "True"
      ]
     },
     "execution_count": 33,
     "metadata": {},
     "output_type": "execute_result"
    }
   ],
   "source": [
    "True or False"
   ]
  },
  {
   "cell_type": "code",
   "execution_count": 34,
   "id": "42a0540a-a53d-4352-9127-d6a1b59f8ada",
   "metadata": {},
   "outputs": [
    {
     "data": {
      "text/plain": [
       "False"
      ]
     },
     "execution_count": 34,
     "metadata": {},
     "output_type": "execute_result"
    }
   ],
   "source": [
    "True and False"
   ]
  },
  {
   "cell_type": "code",
   "execution_count": 35,
   "id": "06aa71db-e4b8-409b-a3ef-833e2408a7c0",
   "metadata": {},
   "outputs": [
    {
     "data": {
      "text/plain": [
       "True"
      ]
     },
     "execution_count": 35,
     "metadata": {},
     "output_type": "execute_result"
    }
   ],
   "source": [
    "True and True"
   ]
  },
  {
   "cell_type": "code",
   "execution_count": 36,
   "id": "c373fd0b-8118-43ea-a05f-e93c8deb99b8",
   "metadata": {},
   "outputs": [
    {
     "data": {
      "text/plain": [
       "True"
      ]
     },
     "execution_count": 36,
     "metadata": {},
     "output_type": "execute_result"
    }
   ],
   "source": [
    "True or True"
   ]
  },
  {
   "cell_type": "code",
   "execution_count": 38,
   "id": "df1f3275-92a7-4d6d-b449-d9bdce17522d",
   "metadata": {},
   "outputs": [
    {
     "data": {
      "text/plain": [
       "True"
      ]
     },
     "execution_count": 38,
     "metadata": {},
     "output_type": "execute_result"
    }
   ],
   "source": [
    "False or True"
   ]
  },
  {
   "cell_type": "code",
   "execution_count": 39,
   "id": "1b4f54b1-b519-4f34-9967-21151ede310a",
   "metadata": {},
   "outputs": [
    {
     "data": {
      "text/plain": [
       "False"
      ]
     },
     "execution_count": 39,
     "metadata": {},
     "output_type": "execute_result"
    }
   ],
   "source": [
    "False and False"
   ]
  },
  {
   "cell_type": "code",
   "execution_count": 40,
   "id": "e8a46461-5abf-4a64-b160-d0b612648767",
   "metadata": {},
   "outputs": [
    {
     "data": {
      "text/plain": [
       "False"
      ]
     },
     "execution_count": 40,
     "metadata": {},
     "output_type": "execute_result"
    }
   ],
   "source": [
    "False or False"
   ]
  },
  {
   "cell_type": "code",
   "execution_count": 41,
   "id": "e7c0daa8-836f-4ca9-a0b5-7f8a930eecc1",
   "metadata": {
    "collapsed": true,
    "jupyter": {
     "outputs_hidden": true
    }
   },
   "outputs": [
    {
     "data": {
      "text/plain": [
       "False"
      ]
     },
     "execution_count": 41,
     "metadata": {},
     "output_type": "execute_result"
    }
   ],
   "source": [
    "False or not True and not False"
   ]
  },
  {
   "cell_type": "code",
   "execution_count": 42,
   "id": "0ed6aabb-47e0-4154-b3cc-0709cfd4daf1",
   "metadata": {},
   "outputs": [
    {
     "data": {
      "text/plain": [
       "True"
      ]
     },
     "execution_count": 42,
     "metadata": {},
     "output_type": "execute_result"
    }
   ],
   "source": [
    "True and not False and True or not False"
   ]
  },
  {
   "cell_type": "code",
   "execution_count": 43,
   "id": "d325f990-f86e-4d97-adec-87d512d1fe15",
   "metadata": {},
   "outputs": [
    {
     "data": {
      "text/plain": [
       "True"
      ]
     },
     "execution_count": 43,
     "metadata": {},
     "output_type": "execute_result"
    }
   ],
   "source": [
    "True or False and False "
   ]
  },
  {
   "cell_type": "code",
   "execution_count": 44,
   "id": "69469ca9-4187-4b71-8357-78b24a652d1a",
   "metadata": {},
   "outputs": [
    {
     "data": {
      "text/plain": [
       "False"
      ]
     },
     "execution_count": 44,
     "metadata": {},
     "output_type": "execute_result"
    }
   ],
   "source": [
    "False and True or False "
   ]
  },
  {
   "cell_type": "code",
   "execution_count": 66,
   "id": "c1cad977-6f37-4205-b017-eda537998146",
   "metadata": {},
   "outputs": [
    {
     "data": {
      "text/plain": [
       "20"
      ]
     },
     "execution_count": 66,
     "metadata": {},
     "output_type": "execute_result"
    }
   ],
   "source": [
    "def trial(x):\n",
    "    result = 4 + x\n",
    "    return result\n",
    "    \n",
    "y = trial(8)\n",
    "new = y + 8\n",
    "new"
   ]
  },
  {
   "cell_type": "code",
   "execution_count": 83,
   "id": "c8505349-e310-41f5-bd53-149126634406",
   "metadata": {},
   "outputs": [
    {
     "name": "stdout",
     "output_type": "stream",
     "text": [
      "Small\n"
     ]
    }
   ],
   "source": [
    "x=100\n",
    "if x > 200:\n",
    "    print('Big')\n",
    "elif 200 >= x > 100:\n",
    "    print('Average')\n",
    "else:\n",
    "    print('Small')"
   ]
  },
  {
   "cell_type": "code",
   "execution_count": 86,
   "id": "db45b0f4-1969-4cfa-b5a8-9202da09f669",
   "metadata": {
    "jupyter": {
     "source_hidden": true
    }
   },
   "outputs": [
    {
     "name": "stdout",
     "output_type": "stream",
     "text": [
      "Negative\n"
     ]
    }
   ],
   "source": [
    "x = -1\n",
    "\n",
    "if x > 200: \n",
    "    print (\"Big\")\n",
    "elif x > 100 and x <= 200:\n",
    "    print (\"Average\")\n",
    "elif 100 >= x >= 0:\n",
    "    print('Small')\n",
    "else:\n",
    "    print('Negative')"
   ]
  },
  {
   "cell_type": "code",
   "execution_count": 1,
   "id": "2a5aa5da-fe6e-429e-8606-2c416c6e6831",
   "metadata": {},
   "outputs": [
    {
     "name": "stdout",
     "output_type": "stream",
     "text": [
      "2 Raised to the power of 2:\n"
     ]
    },
    {
     "data": {
      "text/plain": [
       "4"
      ]
     },
     "execution_count": 1,
     "metadata": {},
     "output_type": "execute_result"
    }
   ],
   "source": [
    "def exponentiation_exp_2(x):\n",
    "    print(f'{x} Raised to the power of 2:')\n",
    "    result = x**2\n",
    "    return result\n",
    "exponentiation_exp_2(2)"
   ]
  },
  {
   "cell_type": "code",
   "execution_count": 15,
   "id": "15713b98-0e7e-41c1-8ea5-34704d10a148",
   "metadata": {},
   "outputs": [
    {
     "data": {
      "text/plain": [
       "30"
      ]
     },
     "execution_count": 15,
     "metadata": {},
     "output_type": "execute_result"
    }
   ],
   "source": [
    "def plus_five(x):\n",
    "    return x + 5\n",
    "\n",
    "def m_by_3(x):\n",
    "    return plus_five(x)*3\n",
    "\n",
    "# plus_five(6)\n",
    "m_by_3(5)"
   ]
  },
  {
   "cell_type": "code",
   "execution_count": null,
   "id": "d1392b70-8047-4866-8c98-201bc7b52fd7",
   "metadata": {},
   "outputs": [],
   "source": [
    "# Define a function, called compare_the_two(), with two arguments. If the first one is greater than the second one, \n",
    "# let it print \"Greater\". If the second one is greater, it should print \"Less\". Let it print \"Equal\" if the two \n",
    "# values are the same number."
   ]
  },
  {
   "cell_type": "code",
   "execution_count": 17,
   "id": "f179ef71-2f3c-4988-99be-edc932f5d19a",
   "metadata": {
    "collapsed": true,
    "jupyter": {
     "outputs_hidden": true
    }
   },
   "outputs": [
    {
     "data": {
      "text/plain": [
       "'Equal'"
      ]
     },
     "execution_count": 17,
     "metadata": {},
     "output_type": "execute_result"
    }
   ],
   "source": [
    "def compare_the_two(a,b):\n",
    "    if a>b:\n",
    "        return 'Greater'\n",
    "    elif a<b:\n",
    "        return 'Less'\n",
    "    else:\n",
    "        return 'Equal'\n",
    "compare_the_two(2,2)"
   ]
  },
  {
   "cell_type": "code",
   "execution_count": 18,
   "id": "8f73869d-0c1f-44c7-b759-cd88b7e1872c",
   "metadata": {
    "collapsed": true,
    "jupyter": {
     "outputs_hidden": true
    }
   },
   "outputs": [
    {
     "name": "stdout",
     "output_type": "stream",
     "text": [
      "35.568\n"
     ]
    }
   ],
   "source": [
    "number = 35.56789\n",
    "rounded_number = round(number, 3)\n",
    "\n",
    "print(rounded_number)"
   ]
  },
  {
   "cell_type": "code",
   "execution_count": null,
   "id": "3d6e57a8-4862-4d83-8a4c-93ea5d125bb9",
   "metadata": {},
   "outputs": [],
   "source": [
    "# Use a built-in function to raise 10 to the power of 3"
   ]
  },
  {
   "cell_type": "code",
   "execution_count": 26,
   "id": "7d69b380-3616-4a95-bee0-f33176443198",
   "metadata": {
    "collapsed": true,
    "jupyter": {
     "outputs_hidden": true
    }
   },
   "outputs": [
    {
     "name": "stdout",
     "output_type": "stream",
     "text": [
      "1000\n"
     ]
    }
   ],
   "source": [
    "# def power():\n",
    "#     return 10**3\n",
    "# # power()\n",
    "print(pow(10,3))"
   ]
  },
  {
   "cell_type": "code",
   "execution_count": null,
   "id": "d12377a0-ca6c-4bb5-a72d-8369335d5522",
   "metadata": {},
   "outputs": [],
   "source": [
    "# Create a function, called distance_from_zero(), that returns the absolute value of a provided single argument\n",
    "# and prints a statement \"Not Possible\" if the argument provided is not a number. To solve the task, use the type() \n",
    "# function in the body of distance_from_zero().\n",
    "\n",
    "# Call the function with the values of -10 and \"cat\" to verify it works correctly."
   ]
  },
  {
   "cell_type": "code",
   "execution_count": 39,
   "id": "7c50811c-81d6-49ef-a1ea-f90f89717fd4",
   "metadata": {},
   "outputs": [
    {
     "name": "stdout",
     "output_type": "stream",
     "text": [
      "Not Possible\n"
     ]
    }
   ],
   "source": [
    "def distance_from_zero(num):\n",
    "    if type(num)==int:\n",
    "        return abs(num)\n",
    "    else:\n",
    "        print('Not Possible')\n",
    "# distance_from_zero(-10)\n",
    "distance_from_zero('cat')"
   ]
  }
 ],
 "metadata": {
  "kernelspec": {
   "display_name": "Python 3 (ipykernel)",
   "language": "python",
   "name": "python3"
  },
  "language_info": {
   "codemirror_mode": {
    "name": "ipython",
    "version": 3
   },
   "file_extension": ".py",
   "mimetype": "text/x-python",
   "name": "python",
   "nbconvert_exporter": "python",
   "pygments_lexer": "ipython3",
   "version": "3.11.6"
  }
 },
 "nbformat": 4,
 "nbformat_minor": 5
}
