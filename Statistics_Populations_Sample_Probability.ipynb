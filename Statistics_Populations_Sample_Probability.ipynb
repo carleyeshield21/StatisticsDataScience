{
 "cells": [
  {
   "cell_type": "markdown",
   "id": "e293a759-e16d-4dca-a74c-06f2ac511293",
   "metadata": {},
   "source": [
    "##### Progress Check * 8.8 Among 100 couples who had undergone marital counseling, 60 couples described their relationships as improved, and among this latter group, 45 couples had children. The remaining couples described their relationships as unimproved, and among this group, 5 couples had children. (Hint: Using a frequency analysis, begin with the 100 couples, first branch into the number of couples with improved and unimproved relationships, then under each of these numbers, branch into the number of couples with children and without children. Enter a number at each point of the diagram before proceeding.)\n",
    "\n",
    "(a) What is the probability of randomly selecting a couple who described their relationship as improved?\n",
    "\n",
    "answer: 60/100\n",
    "\n",
    "(b) What is the probability of randomly selecting a couple with children?\n",
    "\n",
    "answer: (45+5)/100\n",
    "\n",
    "(c) What is the conditional probability of randomly selecting a couple with children, given that their relationship was described as improved?\n",
    "\n",
    "answer: 45/60\n",
    "\n",
    "(d) What is the conditional probability of randomly selecting a couple without children, given that their relationship was described as not improved?\n",
    "\n",
    "answer: 35/40\n",
    "\n",
    "(e) What is the conditional probability of an improved relationship, given that a couple has children?\n",
    "\n",
    "answer: 45/(45+5)"
   ]
  },
  {
   "cell_type": "markdown",
   "id": "df49eb49-c6a1-4064-8f8b-4710d9eb3a8d",
   "metadata": {},
   "source": [
    "##### Progress Check * 8.9 Referring to the standard normal table (Table A, Appendix C), find the probability that a randomly selected z score will be\n",
    "\n",
    "(a) above 1.96\n",
    "\n",
    "answer: 0.0250\n",
    "\n",
    "(b) either above 1.96 or below –1.96\n",
    "\n",
    "answer: 0.0250 + 0.0250 = 0.0500\n",
    "\n",
    "(c) between –1.96 and 1.96\n",
    "\n",
    "answer: 0.4750 + 0.4750 = 0.9500\n",
    "\n",
    "(d) either above 2.58 or below –2.58\n",
    "\n",
    "answer: 0.0049 + 0.0049 = 0.0098"
   ]
  },
  {
   "cell_type": "markdown",
   "id": "15d43a3a-8be5-4c3c-86ab-15e7250c73c6",
   "metadata": {},
   "source": [
    "##### 8.14 The probability of a boy being born equals .50, or 1/2, as does the probability of a girl being born. For a randomly selected family with two children, what’s the probability of\n",
    "\n",
    "(a) two boys, that is, a boy and a boy? (Reminder: Before using either the addition or multiplication rule, satisfy yourself that the \n",
    "various events are either mutually exclusive or independent, respectively.)\n",
    "\n",
    "answer: 0.5 * 0.5 = 0.25\n",
    "\n",
    "(b) two girls?\n",
    "\n",
    "answer: 0.5 * 0.5 = 0.25\n",
    "\n",
    "(c) either two boys or two girls?\n",
    "\n",
    "answer: 0.25 + 0.25 = 0.5"
   ]
  },
  {
   "cell_type": "markdown",
   "id": "d676c2d7-c79e-43a2-bd1f-15abcb0d73fd",
   "metadata": {},
   "source": [
    "##### 8.15 Assume the same probabilities as in the previous question. For a randomly selected family with three children, what’s the probability of\n",
    "(a) three boys?\n",
    "\n",
    "\n",
    "(b) three girls?\n",
    "\n",
    "\n",
    "(c) either three boys or three girls?\n",
    "\n",
    "\n",
    "(d) neither three boys nor three girls? (Hint: This question can be answered indirectly by first finding the opposite of the specified outcome, then subtracting from 1.)\n",
    "\n"
   ]
  }
 ],
 "metadata": {
  "kernelspec": {
   "display_name": "Python 3 (ipykernel)",
   "language": "python",
   "name": "python3"
  },
  "language_info": {
   "codemirror_mode": {
    "name": "ipython",
    "version": 3
   },
   "file_extension": ".py",
   "mimetype": "text/x-python",
   "name": "python",
   "nbconvert_exporter": "python",
   "pygments_lexer": "ipython3",
   "version": "3.10.12"
  }
 },
 "nbformat": 4,
 "nbformat_minor": 5
}
