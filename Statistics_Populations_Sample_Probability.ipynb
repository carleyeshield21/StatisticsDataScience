{
 "cells": [
  {
   "cell_type": "code",
   "execution_count": 92,
   "id": "e0235e92-a104-4803-9f8d-b1eb6786a566",
   "metadata": {},
   "outputs": [
    {
     "name": "stdout",
     "output_type": "stream",
     "text": [
      "972\n",
      "482\n",
      "558\n",
      "307\n",
      "263\n"
     ]
    }
   ],
   "source": [
    "import random\n",
    "nums = [n for n in range(100,1000)]\n",
    "random.choice(nums)\n",
    "for i in range(1,6):\n",
    "    print(random.choice(nums))"
   ]
  }
 ],
 "metadata": {
  "kernelspec": {
   "display_name": "Python 3 (ipykernel)",
   "language": "python",
   "name": "python3"
  },
  "language_info": {
   "codemirror_mode": {
    "name": "ipython",
    "version": 3
   },
   "file_extension": ".py",
   "mimetype": "text/x-python",
   "name": "python",
   "nbconvert_exporter": "python",
   "pygments_lexer": "ipython3",
   "version": "3.10.12"
  }
 },
 "nbformat": 4,
 "nbformat_minor": 5
}
