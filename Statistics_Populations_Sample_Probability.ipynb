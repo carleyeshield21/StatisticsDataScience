{
 "cells": [
  {
   "cell_type": "markdown",
   "id": "e293a759-e16d-4dca-a74c-06f2ac511293",
   "metadata": {},
   "source": [
    "##### Progress Check * 8.8 Among 100 couples who had undergone marital counseling, 60 couples described their relationships as improved, and among this latter group, 45 couples had children. The remaining couples described their relationships as unimproved, and among this group, 5 couples had children. (Hint: Using a frequency analysis, begin with the 100 couples, first branch into the number of couples with improved and unimproved relationships, then under each of these numbers, branch into the number of couples with children and without children. Enter a number at each point of the diagram before proceeding.)\n",
    "\n",
    "(a) What is the probability of randomly selecting a couple who described their relationship as improved?\n",
    "\n",
    "answer: 60/100\n",
    "\n",
    "(b) What is the probability of randomly selecting a couple with children?\n",
    "\n",
    "answer: (45+5)/100\n",
    "\n",
    "(c) What is the conditional probability of randomly selecting a couple with children, given that their relationship was described as improved?\n",
    "\n",
    "answer: 45/60\n",
    "\n",
    "(d) What is the conditional probability of randomly selecting a couple without children, given that their relationship was described as not improved?\n",
    "\n",
    "answer: 35/40\n",
    "\n",
    "(e) What is the conditional probability of an improved relationship, given that a couple has children?\n",
    "\n",
    "answer: 45/(45+5)"
   ]
  },
  {
   "cell_type": "markdown",
   "id": "df49eb49-c6a1-4064-8f8b-4710d9eb3a8d",
   "metadata": {},
   "source": [
    "##### Progress Check * 8.9 Referring to the standard normal table (Table A, Appendix C), find the probability that a randomly selected z score will be\n",
    "\n",
    "(a) above 1.96\n",
    "\n",
    "answer: 0.0250\n",
    "\n",
    "(b) either above 1.96 or below –1.96\n",
    "\n",
    "answer: 0.0250 + 0.0250 = 0.0500\n",
    "\n",
    "(c) between –1.96 and 1.96\n",
    "\n",
    "answer: 0.4750 + 0.4750 = 0.9500\n",
    "\n",
    "(d) either above 2.58 or below –2.58\n",
    "\n",
    "answer: 0.0049 + 0.0049 = 0.0098"
   ]
  },
  {
   "cell_type": "markdown",
   "id": "15d43a3a-8be5-4c3c-86ab-15e7250c73c6",
   "metadata": {},
   "source": [
    "##### 8.14 The probability of a boy being born equals .50, or 1/2, as does the probability of a girl being born. For a randomly selected family with two children, what’s the probability of\n",
    "\n",
    "(a) two boys, that is, a boy and a boy? (Reminder: Before using either the addition or multiplication rule, satisfy yourself that the \n",
    "various events are either mutually exclusive or independent, respectively.)\n",
    "\n",
    "answer: 0.5 * 0.5 = 0.25\n",
    "\n",
    "(b) two girls?\n",
    "\n",
    "answer: 0.5 * 0.5 = 0.25\n",
    "\n",
    "(c) either two boys or two girls?\n",
    "\n",
    "answer: 0.25 + 0.25 = 0.5"
   ]
  },
  {
   "cell_type": "markdown",
   "id": "d676c2d7-c79e-43a2-bd1f-15abcb0d73fd",
   "metadata": {},
   "source": [
    "##### 8.15 Assume the same probabilities as in the previous question. For a randomly selected family with three children, what’s the probability of\n",
    "(a) three boys?\n",
    "\n",
    "answer: 0.5 * 0.5 * 0.5  = 0.125\n",
    "\n",
    "(b) three girls?\n",
    "\n",
    "answer: 0.5 * 0.5 * 0.5  = 0.125\n",
    "\n",
    "(c) either three boys or three girls?\n",
    "\n",
    "answer: 0.125 + 0.125 = 0.25\n",
    "\n",
    "(d) neither three boys nor three girls? (Hint: This question can be answered indirectly by first finding the opposite of the specified outcome, then subtracting from 1.)\n",
    "\n",
    "answer: 1 - 0.25 = 0.75"
   ]
  },
  {
   "cell_type": "markdown",
   "id": "9c426ec1-348c-4413-af62-2e4df1c86969",
   "metadata": {},
   "source": [
    "##### 8.16 A traditional test for extrasensory perception (ESP) involves a set of playing cards, each of which shows a different symbol (circle, square, cross, star, or wavy lines). If C represents a correct guess and I an incorrect guess, what is the probability of\n",
    "(a) C?\n",
    "\n",
    "answer: 1/5\n",
    "\n",
    "(b) CI (in that order) for two guesses?\n",
    "\n",
    "answer: 1/5 * 4/5\n",
    "\n",
    "(c) CCC for three guesses?\n",
    "\n",
    "answer: 1/5 * 1/5 * 1/5\n",
    "\n",
    "(d) III for three guesses?\n",
    "\n",
    "answer: 4/5 * 4/5 * 4/5"
   ]
  },
  {
   "cell_type": "markdown",
   "id": "b4f77faf-186d-473e-8859-28b9e5603c0b",
   "metadata": {},
   "source": [
    "##### 8.17 In a school population, assume that the probability of being white equals .40; black equals .30; Hispanic equals .20; and Asian-American equals .10. What is the probability of\n",
    "\n",
    "Pw = 0.40;  Pb = 0.30;  Pa = 0.10\n",
    "\n",
    "(a) a student being either white or black.\n",
    "\n",
    "answer: Pw + Pb = 0.40 + 0.30 = 0.70\n",
    "\n",
    "(b) a student being neither white nor black.\n",
    "\n",
    "answer: 1 - 0.7 = 0.30\n",
    "\n",
    "(c) pairs of black and white students being selected together, assuming ethnic background has no role.\n",
    "\n",
    "answer: 0.40 * 0.30 = 0.12\n",
    "\n",
    "(d) given that a black student has been selected, that his/her companion is white, assuming ethnic background has no role.\n",
    "\n",
    "answer: 0.40\n",
    "\n",
    "(e) given that a black student has been selected, that his/her companion is white,assuming students tend to congregate with companions with similar ethnic backgrounds. In this case, would the probability of the companion being white be lessthan .40, equal to .40, or more than .40?\n",
    "\n",
    "answer: less than 0.40"
   ]
  },
  {
   "cell_type": "markdown",
   "id": "677925a7-cd15-472f-861a-6eb6c28aed6d",
   "metadata": {},
   "source": [
    "##### 8.18 In Against All Odds, the TV series on statistics (available at http://www.learner.org/ resources/series65.html), statistician Bruce Hoadley discusses the catastrophic failure of the Challenger space shuttle in 1986. Hoadley estimates that there was a failure probability of .02 for each of the six O-rings (designed to prevent the escape of potentially explosive burning gases from the joints of the segmented rocket boosters).\n",
    "(a) What was the success probability of each O-ring?\n",
    "\n",
    "answer: 0.98\n",
    "\n",
    "(b) Given that the six O-rings function independently of each other, what was the probability that all six O-rings would succeed, that is, perform as designed? In other words, what was the success probability of the first O-ring and the second O-ring and the third O-ring, and so forth?\n",
    "\n",
    "answer: (0.98 * 0.98 * 0.98 * 0.98 * 0.98 * 0.98) = 0.8858\n",
    "\n",
    "(c) Given that you know the probability that all six O-rings would succeed (from the previous question), what was the probability that at least one O-ring would fail? (Hint: Use your answer to the previous question to solve this problem.) \n",
    "\n",
    "answer: 1 - 0.8858 = 0.1142\n",
    "\n",
    "(d) Given the abysmal failure rate revealed by your answer to the previous question, why, you might wonder, was this space mission even attempted? According to Hoadley, missile engineers thought that a secondary set of O-rings would function independently of the primary set of O-rings. If true and if the failure probability of each of the secondary O-rings was the same as that for each primary O-ring (.02), what would be the probability that both the primary and secondary O-rings would fail at any one joint? (Hint: Concentrate on the present question, ignoring your answers to previous questions.)\n",
    "\n",
    "answer: 0.02 * 0.02 = 0.0004\n",
    "\n",
    "(e) In fact, under conditions of low temperature, as on the morning of the Challenger catastrophe, both primary and secondary O-rings lost their flexibility, and whenever the primary O-ring failed, its associated secondary O-ring also failed. Under these conditions, what would be the conditional probability of a secondary O-ring failure, given the failure of its associated primary O-ring? (Note: Any probability, including a conditional probability, can vary between 0 and 1.)\n",
    "\n",
    "answer: 1"
   ]
  }
 ],
 "metadata": {
  "kernelspec": {
   "display_name": "Python 3 (ipykernel)",
   "language": "python",
   "name": "python3"
  },
  "language_info": {
   "codemirror_mode": {
    "name": "ipython",
    "version": 3
   },
   "file_extension": ".py",
   "mimetype": "text/x-python",
   "name": "python",
   "nbconvert_exporter": "python",
   "pygments_lexer": "ipython3",
   "version": "3.10.12"
  }
 },
 "nbformat": 4,
 "nbformat_minor": 5
}
