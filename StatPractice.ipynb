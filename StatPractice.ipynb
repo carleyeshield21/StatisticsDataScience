{
 "cells": [
  {
   "cell_type": "code",
   "execution_count": null,
   "id": "b6950f27-3ad1-4a1d-aae6-c492732b9bf4",
   "metadata": {},
   "outputs": [],
   "source": [
    "import matplotlib.pyplot as plt\n",
    "from collections import Counter"
   ]
  },
  {
   "cell_type": "code",
   "execution_count": null,
   "id": "87d6a183-10f3-4b4b-8b39-65a84204ba50",
   "metadata": {},
   "outputs": [],
   "source": [
    "def create_frequency_distribution(data):\n",
    "    # Count the occurrences of each element in the data\n",
    "    counter = Counter(data)\n",
    "\n",
    "    # Extract data for plotting\n",
    "    values, counts = zip(*counter.items())\n",
    "     # Plot the frequency distribution\n",
    "    plt.bar(values, counts)\n",
    "    plt.xlabel('Values')\n",
    "    plt.ylabel('Frequency')\n",
    "    plt.title('Frequency Distribution')\n",
    "    plt.show()"
   ]
  },
  {
   "cell_type": "code",
   "execution_count": null,
   "id": "f8aa337f-f9dc-42b3-b9f5-ef2f30de6578",
   "metadata": {},
   "outputs": [],
   "source": [
    "\n",
    "if __name__ == \"__main__\":\n",
    "    # Example data (replace this with your own dataset)\n",
    "    # data = [1, 2, 2, 3, 3, 3, 4, 4, 4, 4, 5, 5, 5, 5, 5]\n",
    "    data = [69, 71, 75, 77, 79, 80, 80, 84, 85, 86, 87, 89, 90, 90, 90, 90, 91, 93, 94, 95, 95, 96, 98, 98, 99, 100, 100, 103, 104, 105, 108, 109, 110, 112, 123]\n",
    "\n",
    "    # Create and display the frequency distribution\n",
    "    create_frequency_distribution(data)"
   ]
  },
  {
   "cell_type": "code",
   "execution_count": null,
   "id": "49a11487-7c06-4852-a70f-2c2fcc04c101",
   "metadata": {},
   "outputs": [],
   "source": [
    "import statistics"
   ]
  },
  {
   "cell_type": "code",
   "execution_count": null,
   "id": "0d603873-21cd-44b6-a582-020e0aa11ef3",
   "metadata": {},
   "outputs": [],
   "source": [
    "res = [1, 3, 4, 1, 0, 2, 5, 8, 0, 2, 3, 4, 7, 11, 0, 2, 3, 3]"
   ]
  },
  {
   "cell_type": "code",
   "execution_count": null,
   "id": "d17c8ba6-ddaa-4d5a-b07c-e856daa178dd",
   "metadata": {},
   "outputs": [],
   "source": [
    "mean = statistics.mean(res)\n",
    "median = statistics.median(res)\n",
    "mode = statistics.mode(res)\n",
    "\n",
    "print(mean)\n",
    "print(median)\n",
    "print(mode)"
   ]
  },
  {
   "cell_type": "code",
   "execution_count": null,
   "id": "a234c0b7-41ee-4452-8f7e-f5364fa5a1a7",
   "metadata": {
    "scrolled": true
   },
   "outputs": [],
   "source": [
    "swim = [2, 17, 5, 3, 28, 7, 5, 8, 5, 6, 2, 12, 10, 4, 3]\n",
    "mean = statistics.mean(swim)\n",
    "median = statistics.median(swim)\n",
    "mode = statistics.mode(swim)\n",
    "\n",
    "print(mean)\n",
    "print(median)\n",
    "print(mode)"
   ]
  },
  {
   "cell_type": "code",
   "execution_count": null,
   "id": "7d5e20f2-a0f6-4ac7-9168-e63f40029049",
   "metadata": {
    "scrolled": true
   },
   "outputs": [],
   "source": [
    "plt.hist(swim)"
   ]
  },
  {
   "cell_type": "code",
   "execution_count": null,
   "id": "62ecc884-f339-472e-9743-9a67757f5804",
   "metadata": {
    "scrolled": true
   },
   "outputs": [],
   "source": [
    "ski_time1 = [7, 20, 6]\n",
    "ski_time2 = [4, 12, 10]\n",
    "ski_time3 = [4, 5, 11]\n",
    "ski_time4 = [16, 18, 20]\n",
    "\n",
    "mean1 = statistics.mean(ski_time1)\n",
    "median1 = statistics.mean(ski_time1)\n",
    "mode1 = statistics.mean(ski_time1)\n",
    "\n",
    "mean2 = statistics.mean(ski_time2)\n",
    "median2 = statistics.mean(ski_time2)\n",
    "mode2 = statistics.mean(ski_time2)\n",
    "\n",
    "mean3 = statistics.mean(ski_time3)\n",
    "median3 = statistics.mean(ski_time3)\n",
    "mode3 = statistics.mean(ski_time3)\n",
    "\n",
    "mean4 = statistics.mean(ski_time4)\n",
    "median4 = statistics.mean(ski_time4)\n",
    "mode4 = statistics.mean(ski_time4)\n",
    "\n",
    "print(mean1, median1, mode1)\n",
    "print(mean2, median2, mode2)\n",
    "print(mean3, median3, mode3)\n",
    "print(mean4, median4, mode4)"
   ]
  },
  {
   "cell_type": "code",
   "execution_count": null,
   "id": "1e7ceb61-aedb-46c4-9f85-ea1a6267eaeb",
   "metadata": {
    "scrolled": true
   },
   "outputs": [],
   "source": [
    "scores = [3, 6, 2, 0, 4]\n",
    "mean = statistics.mean(scores)\n",
    "median = statistics.mean(scores)\n",
    "mode = statistics.mean(scores)\n",
    "\n",
    "print(mean, median, mode)"
   ]
  },
  {
   "cell_type": "code",
   "execution_count": null,
   "id": "97839327-5656-4fe7-a534-4789f4c21548",
   "metadata": {},
   "outputs": [],
   "source": [
    "import numpy"
   ]
  },
  {
   "cell_type": "code",
   "execution_count": null,
   "id": "3f7eaa74-c56b-4ff5-bdda-6d8dda398c58",
   "metadata": {},
   "outputs": [],
   "source": [
    "range = numpy.ptp(scores)\n",
    "range"
   ]
  },
  {
   "cell_type": "code",
   "execution_count": null,
   "id": "a1d9a5f7-b784-42cc-8da3-b939beea92f8",
   "metadata": {},
   "outputs": [],
   "source": [
    "variance = statistics.variance(scores)\n",
    "std_dv = statistics.stdev(scores)\n",
    "print(std_dv)\n",
    "variance"
   ]
  },
  {
   "cell_type": "code",
   "execution_count": null,
   "id": "732a6e59-240d-43f6-bdfa-afff84ce343b",
   "metadata": {},
   "outputs": [],
   "source": [
    "import pandas"
   ]
  },
  {
   "cell_type": "code",
   "execution_count": null,
   "id": "f2b79a5b-deff-4955-808e-7aefcf6aa39a",
   "metadata": {},
   "outputs": [],
   "source": [
    "weights = pandas.read_csv('weights.csv')\n",
    "weights_copy = weights.copy()"
   ]
  },
  {
   "cell_type": "code",
   "execution_count": null,
   "id": "a5e29f62-f83f-4453-ac92-8c453b36824a",
   "metadata": {
    "scrolled": true
   },
   "outputs": [],
   "source": [
    "for w in weights_copy:\n",
    "    print(w)"
   ]
  }
 ],
 "metadata": {
  "kernelspec": {
   "display_name": "Python 3 (ipykernel)",
   "language": "python",
   "name": "python3"
  },
  "language_info": {
   "codemirror_mode": {
    "name": "ipython",
    "version": 3
   },
   "file_extension": ".py",
   "mimetype": "text/x-python",
   "name": "python",
   "nbconvert_exporter": "python",
   "pygments_lexer": "ipython3",
   "version": "3.10.12"
  }
 },
 "nbformat": 4,
 "nbformat_minor": 5
}
