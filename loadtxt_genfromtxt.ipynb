{
 "cells": [
  {
   "cell_type": "code",
   "execution_count": 1,
   "id": "6961ebe2-6b2d-4bc3-81ce-13b9c8641e03",
   "metadata": {},
   "outputs": [],
   "source": [
    "import numpy as np"
   ]
  },
  {
   "cell_type": "markdown",
   "id": "cf157b84-4891-4369-93e9-9aa1e66bc6df",
   "metadata": {},
   "source": [
    "### loadtxt is faster but will result to an error if there are incomplete data genfromtxt is slower but can handle missing values"
   ]
  },
  {
   "cell_type": "code",
   "execution_count": 2,
   "id": "ad6a4ace-0a20-4cb5-bdc3-571afeae5bd5",
   "metadata": {},
   "outputs": [
    {
     "data": {
      "text/plain": [
       "array([[ 2000.,    40.,   365.,  3121.,  4241., 13621.],\n",
       "       [ 2000.,    40.,   365.,  3061.,  4171., 15041.],\n",
       "       [ 1000.,    40.,   365.,  2160.,  3280., 15340.],\n",
       "       ...,\n",
       "       [ 2000.,    40.,   365.,  4201.,  5001., 16600.],\n",
       "       [ 1000.,    40.,   365.,  2080.,  3320., 15600.],\n",
       "       [ 2000.,    40.,   365.,  4601.,  4601., 16600.]])"
      ]
     },
     "execution_count": 2,
     "metadata": {},
     "output_type": "execute_result"
    }
   ],
   "source": [
    "lending_co_data_numeric_1 = np.loadtxt('Lending-Company-Numeric-Data.csv',delimiter=',')\n",
    "lending_co_data_numeric_1"
   ]
  },
  {
   "cell_type": "code",
   "execution_count": 3,
   "id": "c7b411c8-ec77-497e-8afd-e4cd6f859204",
   "metadata": {
    "scrolled": true
   },
   "outputs": [
    {
     "data": {
      "text/plain": [
       "array([[ 2000.,    40.,   365.,  3121.,  4241., 13621.],\n",
       "       [ 2000.,    40.,   365.,  3061.,  4171., 15041.],\n",
       "       [ 1000.,    40.,   365.,  2160.,  3280., 15340.],\n",
       "       ...,\n",
       "       [ 2000.,    40.,   365.,  4201.,  5001., 16600.],\n",
       "       [ 1000.,    40.,   365.,  2080.,  3320., 15600.],\n",
       "       [ 2000.,    40.,   365.,  4601.,  4601., 16600.]])"
      ]
     },
     "execution_count": 3,
     "metadata": {},
     "output_type": "execute_result"
    }
   ],
   "source": [
    "lending_co_data_numeric_2 = np.genfromtxt('Lending-Company-Numeric-Data.csv',delimiter=',')\n",
    "lending_co_data_numeric_2"
   ]
  },
  {
   "cell_type": "code",
   "execution_count": 4,
   "id": "2241609b-4890-4887-b4b0-f83c46cfd221",
   "metadata": {},
   "outputs": [
    {
     "data": {
      "text/plain": [
       "True"
      ]
     },
     "execution_count": 4,
     "metadata": {},
     "output_type": "execute_result"
    }
   ],
   "source": [
    "# Check if the two arrays are of equal content\n",
    "np.array_equal(lending_co_data_numeric_1,lending_co_data_numeric_2)"
   ]
  },
  {
   "cell_type": "markdown",
   "id": "2b905ead-3f74-4050-898a-228e4391de66",
   "metadata": {},
   "source": [
    "### Testing on data with missing values, we must change the delimiter to ;"
   ]
  },
  {
   "cell_type": "code",
   "execution_count": 5,
   "id": "9187f7eb-681c-4528-9c27-b57996a6f5ce",
   "metadata": {
    "scrolled": true
   },
   "outputs": [
    {
     "data": {
      "text/plain": [
       "array([[ 2000.,    40.,   365.,  3121.,  4241., 13621.],\n",
       "       [ 2000.,    40.,   365.,  3061.,  4171., 15041.],\n",
       "       [ 1000.,    40.,   365.,  2160.,  3280., 15340.],\n",
       "       ...,\n",
       "       [   nan,    40.,   365.,  4201.,  5001., 16600.],\n",
       "       [ 1000.,    40.,   365.,  2080.,  3320., 15600.],\n",
       "       [ 2000.,    40.,   365.,  4601.,  4601., 16600.]])"
      ]
     },
     "execution_count": 5,
     "metadata": {},
     "output_type": "execute_result"
    }
   ],
   "source": [
    "lending_co_data_numeric_NAN = np.genfromtxt('Lending-Company-Numeric-Data-NAN.csv',delimiter=';')\n",
    "lending_co_data_numeric_NAN\n",
    "# lending_co_data_numeric_NAN = np.loadtxt('Lending-Company-Numeric-Data-NAN.csv',delimiter=';')\n",
    "# ValueError: could not convert string '' to float64 at row 11, column 4, which means python encounters a symbol \n",
    "# or an empty space instead of a number"
   ]
  },
  {
   "cell_type": "markdown",
   "id": "f310a3a2-8c36-4a26-8852-a64f0e255946",
   "metadata": {},
   "source": [
    "### Or use this format, add the dtype=str argument, the NANs will be outputted as space"
   ]
  },
  {
   "cell_type": "code",
   "execution_count": 6,
   "id": "9a5f7d58-228d-4a6f-ba3d-16d34e62316f",
   "metadata": {
    "collapsed": true,
    "jupyter": {
     "outputs_hidden": true
    },
    "scrolled": true
   },
   "outputs": [
    {
     "data": {
      "text/plain": [
       "array([['2000', '40', '365', '3121', '4241', '13621'],\n",
       "       ['2000', '40', '365', '3061', '4171', '15041'],\n",
       "       ['1000', '40', '365', '2160', '3280', '15340'],\n",
       "       ...,\n",
       "       ['', '40', '365', '4201', '5001', '16600'],\n",
       "       ['1000', '40', '365', '2080', '3320', '15600'],\n",
       "       ['2000', '40', '365', '4601', '4601', '16600']], dtype='<U5')"
      ]
     },
     "execution_count": 6,
     "metadata": {},
     "output_type": "execute_result"
    }
   ],
   "source": [
    "lending_co_data_numeric_NAN = np.loadtxt('Lending-Company-Numeric-Data-NAN.csv',delimiter=';',dtype=str)\n",
    "lending_co_data_numeric_NAN"
   ]
  },
  {
   "cell_type": "markdown",
   "id": "5a4c5466-b75b-4a4c-bb44-f99e9d7ba1ab",
   "metadata": {},
   "source": [
    "### Skipping headers in genfromtxt"
   ]
  },
  {
   "cell_type": "code",
   "execution_count": 7,
   "id": "4eb3b6f8-b14c-4775-91d6-468d0ef1db62",
   "metadata": {
    "scrolled": true
   },
   "outputs": [
    {
     "data": {
      "text/plain": [
       "array([[ 1000.,    40.,   365.,  2160.,  3280., 15340.],\n",
       "       [ 2000.,    40.,   365.,  3041.,  4241., 15321.],\n",
       "       [ 2000.,    50.,   365.,  3470.,  4820., 13720.],\n",
       "       ...,\n",
       "       [   nan,    40.,   365.,  4201.,  5001., 16600.],\n",
       "       [ 1000.,    40.,   365.,  2080.,  3320., 15600.],\n",
       "       [ 2000.,    40.,   365.,  4601.,  4601., 16600.]])"
      ]
     },
     "execution_count": 7,
     "metadata": {},
     "output_type": "execute_result"
    }
   ],
   "source": [
    "lending_co_data_numeric_NAN = np.genfromtxt('Lending-Company-Numeric-Data-NAN.csv',delimiter=';',skip_header=2)\n",
    "lending_co_data_numeric_NAN"
   ]
  },
  {
   "cell_type": "markdown",
   "id": "42196309-5db8-40a9-bf75-cb037c2db9ee",
   "metadata": {},
   "source": [
    "### Skipping footers in genfromtxt"
   ]
  },
  {
   "cell_type": "code",
   "execution_count": 10,
   "id": "0304fcf8-1467-43df-8cb6-99154c8d23c7",
   "metadata": {
    "scrolled": true
   },
   "outputs": [
    {
     "data": {
      "text/plain": [
       "array([['2000', '40', '365', '3121', '4241', '13621'],\n",
       "       ['2000', '40', '365', '3061', '4171', '15041'],\n",
       "       ['1000', '40', '365', '2160', '3280', '15340'],\n",
       "       ...,\n",
       "       ['2000', '40', '365', '3401', '', '16600'],\n",
       "       ['2000', '40', '365', '', '5440', '16600'],\n",
       "       ['', '40', '365', '4201', '5001', '16600']], dtype='<U5')"
      ]
     },
     "execution_count": 10,
     "metadata": {},
     "output_type": "execute_result"
    }
   ],
   "source": [
    "lending_co_data_numeric_NAN = np.genfromtxt('Lending-Company-Numeric-Data-NAN.csv',delimiter=';',dtype=str,skip_footer=2)\n",
    "lending_co_data_numeric_NAN"
   ]
  },
  {
   "cell_type": "markdown",
   "id": "5647c41b-99f8-4554-8b41-8bda58c46cd6",
   "metadata": {},
   "source": [
    "### Choosing specific columns"
   ]
  },
  {
   "cell_type": "code",
   "execution_count": 17,
   "id": "454078b5-dcc5-462b-aa47-f8e83fb547ed",
   "metadata": {
    "scrolled": true
   },
   "outputs": [
    {
     "data": {
      "text/plain": [
       "array([['13621', '2000', '40'],\n",
       "       ['15041', '2000', '40'],\n",
       "       ['15340', '1000', '40'],\n",
       "       ...,\n",
       "       ['16600', '', '40'],\n",
       "       ['15600', '1000', '40'],\n",
       "       ['16600', '2000', '40']], dtype='<U5')"
      ]
     },
     "execution_count": 17,
     "metadata": {},
     "output_type": "execute_result"
    }
   ],
   "source": [
    "lending_co_data_numeric_NAN = np.genfromtxt('Lending-Company-Numeric-Data-NAN.csv',delimiter=';',dtype=str,usecols=(5,0,1))\n",
    "lending_co_data_numeric_NAN"
   ]
  },
  {
   "cell_type": "markdown",
   "id": "4530aaad-29dd-4d55-a288-be79b399c6b2",
   "metadata": {},
   "source": [
    "### Combinations"
   ]
  },
  {
   "cell_type": "code",
   "execution_count": 18,
   "id": "dfa39938-9285-425c-ad86-0c8eeb29e928",
   "metadata": {},
   "outputs": [
    {
     "data": {
      "text/plain": [
       "array([['13621', '2000', '40'],\n",
       "       ['15041', '2000', '40'],\n",
       "       ['15340', '1000', '40'],\n",
       "       ...,\n",
       "       ['16600', '2000', '40'],\n",
       "       ['', '', '50'],\n",
       "       ['54625', '9000', '125']], dtype='<U5')"
      ]
     },
     "execution_count": 18,
     "metadata": {},
     "output_type": "execute_result"
    }
   ],
   "source": [
    "lending_co_data_numeric_NAN = np.genfromtxt('Lending-Company-Numeric-Data-NAN.csv',delimiter=';',dtype=str,usecols=(5,0,1),skip_footer=(9))\n",
    "lending_co_data_numeric_NAN"
   ]
  }
 ],
 "metadata": {
  "kernelspec": {
   "display_name": "Python 3 (ipykernel)",
   "language": "python",
   "name": "python3"
  },
  "language_info": {
   "codemirror_mode": {
    "name": "ipython",
    "version": 3
   },
   "file_extension": ".py",
   "mimetype": "text/x-python",
   "name": "python",
   "nbconvert_exporter": "python",
   "pygments_lexer": "ipython3",
   "version": "3.12.0"
  }
 },
 "nbformat": 4,
 "nbformat_minor": 5
}
