{
 "cells": [
  {
   "cell_type": "code",
   "execution_count": 19,
   "id": "9ea8e273-d57b-4ae8-82cc-97ab814386fe",
   "metadata": {},
   "outputs": [
    {
     "name": "stdout",
     "output_type": "stream",
     "text": [
      "mean_x = 4.338\n",
      "mean_y = 38.875\n",
      "x_y_minus_mean = [41.141, 10.798, 10.1, -1.681, -0.317, 11.765, 4.881, 46.15]\n",
      "total_x_y_minus_mean = 122.837\n",
      "x_minus_mean_of_x_square = [5.944, 3.378, 1.295, 0.289, 0.131, 1.35, 2.44, 8.191]\n",
      "total_x_minus_mean_of_x_square = 23.018\n"
     ]
    }
   ],
   "source": [
    "def correlation(x,y):\n",
    "    import matplotlib.pyplot as plt\n",
    "    import statistics\n",
    "    \n",
    "    mean_x = round(statistics.mean(x),3)\n",
    "    mean_y = round(statistics.mean(y),3)\n",
    "    print(f'mean_x = {mean_x}\\nmean_y = {mean_y}')\n",
    "    \n",
    "    x_y_minus_mean = [round((x[i]-mean_x)*(y[i]-mean_y),3) for i in range(len(x))]\n",
    "    print(f'x_y_minus_mean = {x_y_minus_mean}')\n",
    "    \n",
    "    total_x_y_minus_mean = round(sum(x_y_minus_mean),3)\n",
    "    print(f'total_x_y_minus_mean = {total_x_y_minus_mean}')\n",
    "\n",
    "    x_minus_mean_of_x_square = [round((num-mean_x)**2,3) for num in x]\n",
    "    print(f'x_minus_mean_of_x_square = {x_minus_mean_of_x_square}')\n",
    "    total_x_minus_mean_of_x_square = round(sum(x_minus_mean_of_x_square),3)\n",
    "    print(f'total_x_minus_mean_of_x_square = {total_x_minus_mean_of_x_square}')\n",
    "\n",
    "sunshine = [1.9,2.5,3.2,3.8,4.7,5.5,5.9,7.2]\n",
    "attendance = [22,33,30,42,38,49,42,55]\n",
    "correlation(sunshine,attendance)"
   ]
  }
 ],
 "metadata": {
  "kernelspec": {
   "display_name": "Python 3 (ipykernel)",
   "language": "python",
   "name": "python3"
  },
  "language_info": {
   "codemirror_mode": {
    "name": "ipython",
    "version": 3
   },
   "file_extension": ".py",
   "mimetype": "text/x-python",
   "name": "python",
   "nbconvert_exporter": "python",
   "pygments_lexer": "ipython3",
   "version": "3.10.12"
  }
 },
 "nbformat": 4,
 "nbformat_minor": 5
}
