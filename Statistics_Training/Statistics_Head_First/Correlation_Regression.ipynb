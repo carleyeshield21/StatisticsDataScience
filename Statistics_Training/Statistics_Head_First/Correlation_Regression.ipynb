{
 "cells": [
  {
   "cell_type": "code",
   "execution_count": 22,
   "id": "9ea8e273-d57b-4ae8-82cc-97ab814386fe",
   "metadata": {},
   "outputs": [
    {
     "name": "stdout",
     "output_type": "stream",
     "text": [
      "mean_x = 4.338\n",
      "mean_y = 38.875\n",
      "[41.141, 10.798, 10.1, -1.681, -0.317, 11.765, 4.881, 46.15]\n",
      "122.837\n"
     ]
    }
   ],
   "source": [
    "def correlation(x,y):\n",
    "    import matplotlib.pyplot as plt\n",
    "    import statistics\n",
    "    \n",
    "    mean_x = round(statistics.mean(x),3)\n",
    "    mean_y = round(statistics.mean(y),3)\n",
    "    print(f'mean_x = {mean_x}\\nmean_y = {mean_y}')\n",
    "    \n",
    "    x_y_minus_mean = [round((x[i]-mean_x)*(y[i]-mean_y),3) for i in range(len(x))]\n",
    "    print(x_y_minus_mean)\n",
    "    \n",
    "    total_x_y_minus_mean = round(sum(x_y_minus_mean),3)\n",
    "    print(total_x_y_minus_mean)\n",
    "\n",
    "sunshine = [1.9,2.5,3.2,3.8,4.7,5.5,5.9,7.2]\n",
    "attendance = [22,33,30,42,38,49,42,55]\n",
    "correlation(sunshine,attendance)"
   ]
  }
 ],
 "metadata": {
  "kernelspec": {
   "display_name": "Python 3 (ipykernel)",
   "language": "python",
   "name": "python3"
  },
  "language_info": {
   "codemirror_mode": {
    "name": "ipython",
    "version": 3
   },
   "file_extension": ".py",
   "mimetype": "text/x-python",
   "name": "python",
   "nbconvert_exporter": "python",
   "pygments_lexer": "ipython3",
   "version": "3.10.12"
  }
 },
 "nbformat": 4,
 "nbformat_minor": 5
}
