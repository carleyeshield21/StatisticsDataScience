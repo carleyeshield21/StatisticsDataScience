{
 "cells": [
  {
   "cell_type": "code",
   "execution_count": 1,
   "id": "9ea8e273-d57b-4ae8-82cc-97ab814386fe",
   "metadata": {},
   "outputs": [
    {
     "name": "stdout",
     "output_type": "stream",
     "text": [
      "mean_x = 4.338\n",
      "mean_y = 38.875\n",
      "x_y_minus_mean = [41.141, 10.798, 10.1, -1.681, -0.317, 11.765, 4.881, 46.15]\n",
      "total_x_y_minus_mean = 122.837\n",
      "x_minus_mean_of_x_square = [5.944, 3.378, 1.295, 0.289, 0.131, 1.35, 2.44, 8.191]\n",
      "total_x_minus_mean_of_x_square = 23.018\n",
      "b = 5.337\n",
      "y = 5.337x + a\n",
      "a = y - 5.337x\n",
      "a = 15.723\n",
      "Linear Regression Equation: y = 5.337x + 15.723\n",
      "variance_x = 3.288\n",
      "variance_y = 111.554\n",
      "standard deviation x = 1.813\n",
      "standard deviation y = 10.562\n",
      "r = 0.916\n"
     ]
    }
   ],
   "source": [
    "def correlation(x,y):\n",
    "    import matplotlib.pyplot as plt\n",
    "    import statistics\n",
    "    \n",
    "    mean_x = round(statistics.mean(x),3)\n",
    "    mean_y = round(statistics.mean(y),3)\n",
    "    print(f'mean_x = {mean_x}\\nmean_y = {mean_y}')\n",
    "    \n",
    "    x_y_minus_mean = [round((x[i]-mean_x)*(y[i]-mean_y),3) for i in range(len(x))]\n",
    "    print(f'x_y_minus_mean = {x_y_minus_mean}')\n",
    "    \n",
    "    total_x_y_minus_mean = round(sum(x_y_minus_mean),3)\n",
    "    print(f'total_x_y_minus_mean = {total_x_y_minus_mean}')\n",
    "\n",
    "    x_minus_mean_of_x_square = [round((num-mean_x)**2,3) for num in x]\n",
    "    print(f'x_minus_mean_of_x_square = {x_minus_mean_of_x_square}')\n",
    "    total_x_minus_mean_of_x_square = round(sum(x_minus_mean_of_x_square),3)\n",
    "    print(f'total_x_minus_mean_of_x_square = {total_x_minus_mean_of_x_square}')\n",
    "\n",
    "    b = round(total_x_y_minus_mean/total_x_minus_mean_of_x_square,3)\n",
    "    print(f'b = {b}')\n",
    "\n",
    "    print(f'y = {b}x + a')\n",
    "    print(f'a = y - {b}x')\n",
    "\n",
    "    # substituting the means to solve for the value of a\n",
    "    a = round(mean_y - (b*mean_x),3)\n",
    "    print(f'a = {a}')\n",
    "\n",
    "    print(f'Linear Regression Equation: y = {b}x + {a}')\n",
    "\n",
    "    variance_x = round(statistics.variance(x),3)\n",
    "    variance_y = round(statistics.variance(y),3)\n",
    "    print(f'variance_x = {variance_x}\\nvariance_y = {variance_y}')\n",
    "    \n",
    "    std_dev_x = round(statistics.stdev(x),3)\n",
    "    std_dev_y = round(statistics.stdev(y),3)\n",
    "    print(f'standard deviation x = {std_dev_x}\\nstandard deviation y = {std_dev_y}')\n",
    "\n",
    "    r = round((b*std_dev_x)/std_dev_y,3)\n",
    "    print(f'r = {r}')\n",
    "\n",
    "sunshine = [1.9,2.5,3.2,3.8,4.7,5.5,5.9,7.2]\n",
    "attendance = [22,33,30,42,38,49,42,55]\n",
    "correlation(sunshine,attendance)"
   ]
  },
  {
   "cell_type": "code",
   "execution_count": 2,
   "id": "b1dbe701-345a-4d94-8ac1-f9a59ffe3772",
   "metadata": {},
   "outputs": [
    {
     "name": "stdout",
     "output_type": "stream",
     "text": [
      "mean_x = 7\n",
      "mean_y = 12\n",
      "x_y_minus_mean = [12, 12, 0, 4, 36]\n",
      "total_x_y_minus_mean = 64\n",
      "x_minus_mean_of_x_square = [36, 4, 0, 4, 36]\n",
      "total_x_minus_mean_of_x_square = 80\n",
      "b = 0.8\n",
      "y = 0.8x + a\n",
      "a = y - 0.8x\n",
      "a = 6.4\n",
      "Linear Regression Equation: y = 0.8x + 6.4\n",
      "variance_x = 20\n",
      "variance_y = 20\n",
      "standard deviation x = 4.472\n",
      "standard deviation y = 4.472\n",
      "r = 0.8\n"
     ]
    }
   ],
   "source": [
    "x = [13,9,7,5,1]\n",
    "y = [14,18,12,10,6]\n",
    "correlation(x,y)"
   ]
  },
  {
   "cell_type": "code",
   "execution_count": 3,
   "id": "8ef9362e-dfbb-4626-a060-57e162226aaa",
   "metadata": {
    "scrolled": true
   },
   "outputs": [
    {
     "name": "stdout",
     "output_type": "stream",
     "text": [
      "mean_x = 50.111\n",
      "mean_y = 76.333\n",
      "x_y_minus_mean = [-143.515, -26.966, -435.745, -236.735, -1.628, -127.413, -90.738, -29.743, -29.85]\n",
      "total_x_y_minus_mean = -1122.333\n",
      "x_minus_mean_of_x_square = [192.904, 102.232, 404.452, 436.35, 23.902, 365.23, 118.57, 65.788, 47.458]\n",
      "total_x_minus_mean_of_x_square = 1756.886\n",
      "b = -0.639\n",
      "y = -0.639x + a\n",
      "a = y - -0.639x\n",
      "a = 108.354\n",
      "Linear Regression Equation: y = -0.639x + 108.354\n",
      "variance_x = 219.611\n",
      "variance_y = 107.25\n",
      "standard deviation x = 14.819\n",
      "standard deviation y = 10.356\n",
      "r = -0.914\n"
     ]
    }
   ],
   "source": [
    "X = [64,40,30,71,55,31,61,42,57]\n",
    "Y = [66,79,98,65,76,83,68,80,72]\n",
    "correlation(X,Y)"
   ]
  },
  {
   "cell_type": "markdown",
   "id": "0b20bf10-65fa-4f17-8a4b-2a8b4c15a5ec",
   "metadata": {},
   "source": [
    "#### The evil Swindler has been collecting data on the effect radiation exposure has on Captain Amazing’s super powers. Here is the number of minutes of exposure to radiation, paired with the number of tons Captain Amazing is able to lift:\n",
    "\n",
    "Your job is to use least squares regression to find the line of best fit, and then find the correlation coefficient to\n",
    "describe the strength of the relationship between your line and the data. Sketch the scatter diagram too.\n",
    "\n",
    "If Swindler exposes Captain Amazing to radiation for 5 minutes, what weight do you expect Captain Amazing to be\n",
    "able to lift?"
   ]
  },
  {
   "cell_type": "code",
   "execution_count": 5,
   "id": "203e1039-e117-4123-b5f5-98a465fefb62",
   "metadata": {},
   "outputs": [
    {
     "name": "stdout",
     "output_type": "stream",
     "text": [
      "mean_x = 5.0\n",
      "mean_y = 10.056\n",
      "x_y_minus_mean = [-7.888, -5.916, -1.944, 0.028, -0.0, -0.278, -2.056, -1.584, -8.112]\n",
      "total_x_y_minus_mean = -27.75\n",
      "x_minus_mean_of_x_square = [4.0, 2.25, 1.0, 0.25, 0.0, 0.25, 1.0, 2.25, 4.0]\n",
      "total_x_minus_mean_of_x_square = 15.0\n",
      "b = -1.85\n",
      "y = -1.85x + a\n",
      "a = y - -1.85x\n",
      "a = 19.306\n",
      "Linear Regression Equation: y = -1.85x + 19.306\n",
      "variance_x = 1.875\n",
      "variance_y = 7.653\n",
      "standard deviation x = 1.369\n",
      "standard deviation y = 2.766\n",
      "r = -0.916\n"
     ]
    }
   ],
   "source": [
    "radiation_exposure = [3,3.5,4,4.5,5,5.5,6,6.5,7]\n",
    "weight = [14,14,12,10,8,9.5,8,9,6]\n",
    "correlation(radiation_exposure,weight)\n",
    "# 10.056"
   ]
  },
  {
   "cell_type": "code",
   "execution_count": 6,
   "id": "11ba5086-8285-45d9-9dc9-5b264bc7ee03",
   "metadata": {},
   "outputs": [
    {
     "name": "stdout",
     "output_type": "stream",
     "text": [
      "mean_x = 5.5\n",
      "mean_y = 8.929\n",
      "x_y_minus_mean = [-4.606, -1.071, 0.465, 0.0, -0.465, 0.071, -4.394]\n",
      "total_x_y_minus_mean = -10.0\n",
      "x_minus_mean_of_x_square = [2.25, 1.0, 0.25, 0.0, 0.25, 1.0, 2.25]\n",
      "total_x_minus_mean_of_x_square = 7.0\n",
      "b = -1.429\n",
      "y = -1.429x + a\n",
      "a = y - -1.429x\n",
      "a = 16.788\n",
      "Linear Regression Equation: y = -1.429x + 16.788\n",
      "variance_x = 1.167\n",
      "variance_y = 3.536\n",
      "standard deviation x = 1.08\n",
      "standard deviation y = 1.88\n",
      "r = -0.821\n"
     ]
    }
   ],
   "source": [
    "radiation_exposure = [4,4.5,5,5.5,6,6.5,7]\n",
    "weight = [12,10,8,9.5,8,9,6]\n",
    "correlation(radiation_exposure,weight)\n",
    "# 9.643"
   ]
  }
 ],
 "metadata": {
  "kernelspec": {
   "display_name": "Python 3 (ipykernel)",
   "language": "python",
   "name": "python3"
  },
  "language_info": {
   "codemirror_mode": {
    "name": "ipython",
    "version": 3
   },
   "file_extension": ".py",
   "mimetype": "text/x-python",
   "name": "python",
   "nbconvert_exporter": "python",
   "pygments_lexer": "ipython3",
   "version": "3.10.12"
  }
 },
 "nbformat": 4,
 "nbformat_minor": 5
}
