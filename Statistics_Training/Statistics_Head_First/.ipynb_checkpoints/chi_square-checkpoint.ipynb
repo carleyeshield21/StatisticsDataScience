{
 "cells": [
  {
   "cell_type": "markdown",
   "id": "1a50353e-1a7e-4ca5-8f1d-92c95c9fa316",
   "metadata": {},
   "source": [
    "#### Chi Square Computation with observed and expected frequencies given"
   ]
  },
  {
   "cell_type": "code",
   "execution_count": 1,
   "id": "64534c1f-b68f-46c6-b025-01683d2f4741",
   "metadata": {},
   "outputs": [
    {
     "name": "stdout",
     "output_type": "stream",
     "text": [
      "observed_chi_square = 11.238\n"
     ]
    }
   ],
   "source": [
    "observed = [38,38,20,4]\n",
    "expected = [44,41,10,5]\n",
    "\n",
    "def chi_square_observed_expected(observed_frequencies,expected_frequencies):\n",
    "    observed_chi_square = sum([round((observed_frequencies[i]-expected_frequencies[i])**2/expected_frequencies[i],3) for i in range(len(expected_frequencies))])\n",
    "    print(f'observed_chi_square = {observed_chi_square}')\n",
    "\n",
    "chi_square_observed_expected(observed,expected)"
   ]
  },
  {
   "cell_type": "markdown",
   "id": "ebc046fa-5ca1-447f-b720-e473eceec584",
   "metadata": {},
   "source": [
    "#### Chi Square Computation"
   ]
  },
  {
   "cell_type": "code",
   "execution_count": 2,
   "id": "86a57259-14a5-4591-beb1-74cf88b8f401",
   "metadata": {},
   "outputs": [
    {
     "name": "stdout",
     "output_type": "stream",
     "text": [
      "new_list = [38, 38, 20, 4, 44, 41, 10, 5]\n",
      "row_total = [100, 100]\n",
      "column_total = [82, 79, 30, 9]\n",
      "grand_total = 200\n",
      "4 2\n",
      "df = 3\n",
      "chi_crit = 7.815\n",
      "observed_frequencies = [38, 44, 38, 41, 20, 10, 4, 5]\n",
      "expected_frequencies = [41.0, 41.0, 39.5, 39.5, 15.0, 15.0, 4.5, 4.5]\n",
      "observed_chi_square = 4.0\n",
      "At 0.05 significance level, the observed value of Chi Square = 4.0 is LESS than the critical value = 7.815. We will retain the Null Hypothesis\n"
     ]
    }
   ],
   "source": [
    "def chi_square_computation(list,alpha):\n",
    "    from scipy.stats import chi2\n",
    "    new_list = [list[j][i] for i in range(len(list[0])) for j in range(len(list))]\n",
    "    print(f'new_list = {new_list}')\n",
    "\n",
    "    row_total = [sum(new_list[i:i+len(list)]) for i in range(0,len(new_list),len(list))]\n",
    "    print(f'row_total = {row_total}')\n",
    "\n",
    "    observed_frequencies = []\n",
    "    [observed_frequencies.extend(item) for item in list]\n",
    "    \n",
    "\n",
    "    column_total = [sum(item) for item in list]\n",
    "    print(f'column_total = {column_total}')\n",
    "\n",
    "    grand_total = sum(row_total)\n",
    "    print(f'grand_total = {grand_total}')\n",
    "\n",
    "    print(len(column_total),len(row_total))\n",
    "    df = (len(column_total)-1)*(len(row_total)-1)\n",
    "    print(f'df = {df}')\n",
    "\n",
    "    chi_crit = round(chi2.ppf(1-alpha,df),3)\n",
    "    print(f'chi_crit = {chi_crit}')\n",
    "    \n",
    "    expected_frequencies = [round((row_total[j]*column_total[i])/grand_total,3) for i in range(len(column_total)) for j in range(len(row_total))]\n",
    "    print(f'observed_frequencies = {observed_frequencies}')\n",
    "    print(f'expected_frequencies = {expected_frequencies}')\n",
    "\n",
    "    observed_chi_square = sum([round((observed_frequencies[i]-expected_frequencies[i])**2/expected_frequencies[i],3) for i in range(len(expected_frequencies))])\n",
    "    print(f'observed_chi_square = {observed_chi_square}')\n",
    "\n",
    "    if observed_chi_square > chi_crit:\n",
    "        print(f'At {alpha} significance level, the observed value of Chi Square = {observed_chi_square} is GREATER than the critical value = {chi_crit}. We will reject the Null Hypothesis')\n",
    "    else:\n",
    "        print(f'At {alpha} significance level, the observed value of Chi Square = {observed_chi_square} is LESS than the critical value = {chi_crit}. We will retain the Null Hypothesis')\n",
    "\n",
    "chi_square_computation([[38,44],[38,41],[20,10],[4,5]],0.05)\n",
    "# chi_square_computation([[375,379,46],[367,336,37]],0.05)\n",
    "# chi_square_computation([[375,379,46],[367,336,37],[357,362,41]],0.05)\n",
    "# chi_square_computation([[375,379,46],[367,336,37],[357,362,41],[1,2,3],[4,5,6]],0.05)"
   ]
  }
 ],
 "metadata": {
  "kernelspec": {
   "display_name": "Python 3 (ipykernel)",
   "language": "python",
   "name": "python3"
  },
  "language_info": {
   "codemirror_mode": {
    "name": "ipython",
    "version": 3
   },
   "file_extension": ".py",
   "mimetype": "text/x-python",
   "name": "python",
   "nbconvert_exporter": "python",
   "pygments_lexer": "ipython3",
   "version": "3.10.12"
  }
 },
 "nbformat": 4,
 "nbformat_minor": 5
}
