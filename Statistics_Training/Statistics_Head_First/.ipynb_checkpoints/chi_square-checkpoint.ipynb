{
 "cells": [
  {
   "cell_type": "markdown",
   "id": "1a50353e-1a7e-4ca5-8f1d-92c95c9fa316",
   "metadata": {},
   "source": [
    "#### Chi Square Computation with observed and expected frequencies given"
   ]
  },
  {
   "cell_type": "code",
   "execution_count": 1,
   "id": "64534c1f-b68f-46c6-b025-01683d2f4741",
   "metadata": {},
   "outputs": [
    {
     "name": "stdout",
     "output_type": "stream",
     "text": [
      "observed_chi_square = 11.238\n",
      "df = 3\n",
      "chi_crit = 7.815\n",
      "p_value = 0.010506134138489442\n",
      "observed_chi_square = 11.238 is GREATER than the critical value = 7.815. We will REJECT the Null Hypothesis\n"
     ]
    }
   ],
   "source": [
    "observed = [38,38,20,4]\n",
    "expected = [44,41,10,5]\n",
    "significance = 0.05\n",
    "\n",
    "def chi_square_observed_expected(observed_frequencies,expected_frequencies,alpha):\n",
    "    from scipy.stats import chi2\n",
    "    \n",
    "    observed_chi_square = round(sum([round((observed_frequencies[i]-expected_frequencies[i])**2/expected_frequencies[i],3) for i in range(len(expected_frequencies))]),3)\n",
    "    print(f'observed_chi_square = {observed_chi_square}')\n",
    "\n",
    "    df = len(observed_frequencies)-1\n",
    "    print(f'df = {df}')\n",
    "\n",
    "    chi_crit = round(chi2.ppf(1-alpha,df),3)\n",
    "    print(f'chi_crit = {chi_crit}')\n",
    "\n",
    "    p_value = 1 - chi2.cdf(observed_chi_square, df)\n",
    "    print(f'p_value = {p_value}')\n",
    "\n",
    "    if observed_chi_square > chi_crit:\n",
    "        print(f'observed_chi_square = {observed_chi_square} is GREATER than the critical value = {chi_crit}. We will REJECT the Null Hypothesis')\n",
    "    else:\n",
    "        print(f'observed_chi_square = {observed_chi_square} is LESS than the critical value = {chi_crit}. We will RETAIN the Null Hypothesis')\n",
    "chi_square_observed_expected(observed,expected,significance)"
   ]
  },
  {
   "cell_type": "markdown",
   "id": "ebc046fa-5ca1-447f-b720-e473eceec584",
   "metadata": {},
   "source": [
    "#### Chi Square Computation"
   ]
  },
  {
   "cell_type": "markdown",
   "id": "64a19c23-efa8-4bbf-b7fc-930968194103",
   "metadata": {},
   "source": [
    "#### PROPORTION OF EXPLAINED VARIANCE (TWO-VARIABLE $\\chi^2$)\n",
    "\n",
    "$\\phi_c^2=\\dfrac{\\chi^2}{n(k-1)}$\n",
    "\n",
    "$k - number~of~groups$\n",
    "\n",
    "GUIDELINES FOR $\\phi_c^2$\n",
    "\\begin{array}{ccc}\n",
    "\\text{$\\phi_c^2$} & \\text{EFFECT} \\\\\n",
    "\\hline\n",
    ".01 & Small \\\\\n",
    ".09 & Medium \\\\\n",
    ".25 & Large \\\\\n",
    "\\end{array}"
   ]
  },
  {
   "cell_type": "code",
   "execution_count": 2,
   "id": "86a57259-14a5-4591-beb1-74cf88b8f401",
   "metadata": {},
   "outputs": [
    {
     "name": "stdout",
     "output_type": "stream",
     "text": [
      "new_list = [375, 367, 357, 379, 336, 362, 46, 37, 41]\n",
      "row_total = [1099, 1077, 124]\n",
      "column_total = [800, 740, 760]\n",
      "grand_total = 2300\n",
      "3x3 dimension of table\n",
      "df = (3-1) x (3-1)\n",
      "df = 4\n",
      "chi_crit = 9.488\n",
      "observed_frequencies = [375, 379, 46, 367, 336, 37, 357, 362, 41]\n",
      "expected_frequencies = [382.261, 374.609, 43.13, 353.591, 346.513, 39.896, 363.148, 355.878, 40.974]\n",
      "observed_chi_square = 1.627\n",
      "p_value = 0.8039314133189907\n",
      "At 0.05 significance level, the observed value of Chi Square = 1.627 is LESS than the critical value = 9.488. We will RETAIN the Null Hypothesis\n",
      "k = 3\n",
      "phi_squared_sub_c = 0.000353695652173913\n"
     ]
    }
   ],
   "source": [
    "def chi_square_computation(list,alpha):\n",
    "    from scipy.stats import chi2\n",
    "    new_list = [list[j][i] for i in range(len(list[0])) for j in range(len(list))]\n",
    "    print(f'new_list = {new_list}')\n",
    "\n",
    "    row_total = [sum(new_list[i:i+len(list)]) for i in range(0,len(new_list),len(list))]\n",
    "    print(f'row_total = {row_total}')\n",
    "\n",
    "    observed_frequencies = []\n",
    "    [observed_frequencies.extend(item) for item in list]\n",
    "    \n",
    "    column_total = [sum(item) for item in list]\n",
    "    print(f'column_total = {column_total}')\n",
    "\n",
    "    grand_total = sum(row_total)\n",
    "    print(f'grand_total = {grand_total}')\n",
    "\n",
    "    print(f'{len(column_total)}x{len(row_total)} dimension of table')\n",
    "    df = (len(column_total)-1)*(len(row_total)-1)\n",
    "    print(f'df = ({len(column_total)}-1) x ({len(row_total)}-1)')\n",
    "    print(f'df = {df}')\n",
    "\n",
    "    chi_crit = round(chi2.ppf(1-alpha,df),3)\n",
    "    print(f'chi_crit = {chi_crit}')\n",
    "    \n",
    "    expected_frequencies = [round((row_total[j]*column_total[i])/grand_total,3) for i in range(len(column_total)) for j in range(len(row_total))]\n",
    "    print(f'observed_frequencies = {observed_frequencies}')\n",
    "    print(f'expected_frequencies = {expected_frequencies}')\n",
    "\n",
    "    observed_chi_square = round(sum([round((observed_frequencies[i]-expected_frequencies[i])**2/expected_frequencies[i],3) for i in range(len(expected_frequencies))]),3)\n",
    "    print(f'observed_chi_square = {observed_chi_square}')\n",
    "\n",
    "    p_value = 1 - chi2.cdf(observed_chi_square, df)\n",
    "    print(f'p_value = {p_value}')\n",
    "\n",
    "    if observed_chi_square > chi_crit:\n",
    "        print(f'At {alpha} significance level, the observed value of Chi Square = {observed_chi_square} is GREATER than the critical value = {chi_crit}. We will REJECT the Null Hypothesis')\n",
    "    else:\n",
    "        print(f'At {alpha} significance level, the observed value of Chi Square = {observed_chi_square} is LESS than the critical value = {chi_crit}. We will RETAIN the Null Hypothesis')\n",
    "\n",
    "    k = len(list[0])\n",
    "    print(f'k = {k}')\n",
    "\n",
    "    phi_squared_sub_c = observed_chi_square/(grand_total*(k-1))\n",
    "    print(f'phi_squared_sub_c = {phi_squared_sub_c}')\n",
    "\n",
    "chi_square_computation([[375,379,46],[367,336,37],[357,362,41]],0.05)\n",
    "# chi_square_computation([[375,379,46],[367,336,37]],0.05)\n",
    "# chi_square_computation([[375,379,46],[367,336,37],[357,362,41],[1,2,3],[4,5,6]],0.05)"
   ]
  },
  {
   "cell_type": "code",
   "execution_count": 16,
   "id": "d7a09c01-39d1-4e0e-ae88-461a115ad8db",
   "metadata": {},
   "outputs": [],
   "source": [
    "def odds_ratio(a,b):\n",
    "    odds_ratio_1 = round((b[0]/b[1])/(a[0]/a[1]),3)\n",
    "    # print(f'odds_ratio_1 = {odds_ratio_1}')\n",
    "    print(f'An odds of {odds_ratio_1} will come from {a}')\n",
    "\n",
    "    odds_ratio_2 = round((a[0]/a[1])/(b[0]/b[1]),3)\n",
    "    # print(f'odds_ratio_2 = {odds_ratio_2}')\n",
    "    print(f'An odds of {odds_ratio_2} will come from {b}')"
   ]
  },
  {
   "cell_type": "code",
   "execution_count": 3,
   "id": "b18960c1-5bb9-43f3-9aee-8ee530642f5c",
   "metadata": {},
   "outputs": [
    {
     "name": "stdout",
     "output_type": "stream",
     "text": [
      "[4.167, 1.667, 0.833, 4.167, 1.667, 2.5]\n",
      "observed_chi_square = 374.965\n",
      "df = 5\n",
      "chi_crit = 11.07\n",
      "p_value = 0.0\n",
      "observed_chi_square = 374.965 is GREATER than the critical value = 11.07. We will REJECT the Null Hypothesis\n"
     ]
    }
   ],
   "source": [
    "obs = [25,10,5,25,10,15]\n",
    "exp = [round((1/6)*num,3) for num in obs]\n",
    "print(exp)\n",
    "sig = 0.05\n",
    "chi_square_observed_expected(obs,exp,sig)"
   ]
  },
  {
   "cell_type": "markdown",
   "id": "ca3b0622-2780-4dbe-8699-4dfbed1b0ffe",
   "metadata": {},
   "source": [
    "#### OBSERVED FREQUENCIES OF RETURNED LETTERS\n",
    "NEIGHBORHOOD\n",
    "\\begin{array}{ccc}\n",
    "\\text{RETURNED LETTERS} & \\text{DOWNTOWN} & \\text{SUBURBIA} & \\text{CAMPUS} &  \\text{TOTAL}\\\\\n",
    "\\hline\n",
    "Yes & 39 & 30 & 51 & 120 & \\\\\n",
    "No & 21 & 40 & 19 & 80 \\\\\n",
    "Total & 60 & 70 & 70 & 200 \\\\\n",
    "\\end{array}"
   ]
  },
  {
   "cell_type": "code",
   "execution_count": 4,
   "id": "1dcdc0f2-f8a5-4d79-9145-0bb5fa3e76b4",
   "metadata": {},
   "outputs": [
    {
     "name": "stdout",
     "output_type": "stream",
     "text": [
      "new_list = [39, 30, 51, 21, 40, 19]\n",
      "row_total = [120, 80]\n",
      "column_total = [60, 70, 70]\n",
      "grand_total = 200\n",
      "3x2 dimension of table\n",
      "df = (3-1) x (2-1)\n",
      "df = 2\n",
      "chi_crit = 5.991\n",
      "observed_frequencies = [39, 21, 30, 40, 51, 19]\n",
      "expected_frequencies = [36.0, 24.0, 42.0, 28.0, 42.0, 28.0]\n",
      "observed_chi_square = 14.019\n",
      "p_value = 0.0009032601055601885\n",
      "At 0.05 significance level, the observed value of Chi Square = 14.019 is GREATER than the critical value = 5.991. We will REJECT the Null Hypothesis\n",
      "k = 2\n",
      "phi_squared_sub_c = 0.070095\n"
     ]
    }
   ],
   "source": [
    "# From Witte, p.372, Table 19.3\n",
    "data = [[39,21],[30,40],[51,19]]\n",
    "sig = 0.05\n",
    "chi_square_computation(data,sig)"
   ]
  },
  {
   "cell_type": "markdown",
   "id": "ef361b65-3f61-4c3e-abd7-4b5961d1fa82",
   "metadata": {},
   "source": [
    "### From Witte p.376\n",
    "Progress Check *19.4 An investigator suspects that there might be a relationship, possibly based on genetic factors, between hair color and susceptibility to poison oak. Three hundred volunteer subjects are exposed to a small amount of poison oak and then classified according to their susceptibility (rash or no rash) and their hair color (red, blond, brown, or black), yielding the following frequencies:\n",
    "\n",
    "HAIR COLOR AND SUSCEPTIBILITY TO POISON OAK HAIR COLOR\n",
    "\\begin{array}{ccc}\n",
    "\\text{SUSCEPTIBILITY} & \\text{RED} & \\text{BLOND} & \\text{BROWN} & \\text{BLACK} & \\text{TOTAL}\\\\\n",
    "\\hline\n",
    "Rash & 10 & 30 & 60 & 80 & 180 \\\\\n",
    "No~rash & 20 & 30 & 30 & 40 & 120 \\\\\n",
    "TOTAL & 30 & 60 & 90 & 120 & 300\\\\\n",
    "\\end{array}\n",
    "\n",
    "(a) Test the null hypothesis at the .01 level of significance.\n",
    "\n",
    "(b) Specify the approximate p-value for this test result."
   ]
  },
  {
   "cell_type": "code",
   "execution_count": 5,
   "id": "cf8220b1-38b6-4c21-9083-d11dc69e48f6",
   "metadata": {},
   "outputs": [
    {
     "name": "stdout",
     "output_type": "stream",
     "text": [
      "new_list = [10, 30, 60, 80, 20, 30, 30, 40]\n",
      "row_total = [180, 120]\n",
      "column_total = [30, 60, 90, 120]\n",
      "grand_total = 300\n",
      "4x2 dimension of table\n",
      "df = (4-1) x (2-1)\n",
      "df = 3\n",
      "chi_crit = 11.345\n",
      "observed_frequencies = [10, 20, 30, 30, 60, 30, 80, 40]\n",
      "expected_frequencies = [18.0, 12.0, 36.0, 24.0, 54.0, 36.0, 72.0, 48.0]\n",
      "observed_chi_square = 15.278\n",
      "p_value = 0.0015938499645762327\n",
      "At 0.01 significance level, the observed value of Chi Square = 15.278 is GREATER than the critical value = 11.345. We will REJECT the Null Hypothesis\n",
      "k = 2\n",
      "phi_squared_sub_c = 0.05092666666666667\n"
     ]
    }
   ],
   "source": [
    "data1 = [[10,20],[30,30],[60,30],[80,40]]\n",
    "sig1 = 0.01\n",
    "chi_square_computation(data1,sig1)"
   ]
  },
  {
   "cell_type": "code",
   "execution_count": 6,
   "id": "5c29e63e-4350-4ea8-9bf9-7bf1b14f7e74",
   "metadata": {},
   "outputs": [
    {
     "data": {
      "text/plain": [
       "0.05092666666666667"
      ]
     },
     "execution_count": 6,
     "metadata": {},
     "output_type": "execute_result"
    }
   ],
   "source": [
    "phi_squared_sub_c = 15.278/300*(2-1)\n",
    "phi_squared_sub_c"
   ]
  },
  {
   "cell_type": "markdown",
   "id": "6725f67a-4fda-4b90-94ac-c266d32f1efd",
   "metadata": {},
   "source": [
    "#### From Witte p.382: 19.9 Randomly selected records of 140 convicted criminals reveal that their crimes were committed on the following days of the week:\n",
    "\\begin{array}{ccc}\n",
    "\\text{FREQUENCY} & \\text{MON} & \\text{TUE} & \\text{WED} & \\text{THU} & \\text{FRI} & \\text{SAT} & \\text{SUN} &\\text{TOTAL}\\\\\n",
    "\\hline\n",
    "Observed & 17 & 21 & 22 & 18 & 23 & 24 & 15 & 140\\\\\n",
    "expected & 2.429 & 3 & 3.143 & 2.571 & 2.571 & 3.429 & 2.143 & 20\\\\\n",
    "TOTAL & 19.429 & 24 & 25.143 & 20.571 & 25.571 & 27.429 & 17.143 & 160.001\\\\\n",
    "\\end{array}\n",
    "\n",
    "(a) Using the .01 level of significance, test the null hypothesis that in the underlying\n",
    "population, crimes are equally likely to be committed on any day of the week."
   ]
  },
  {
   "cell_type": "code",
   "execution_count": 7,
   "id": "48f199b6-d6f3-4410-95bb-7eb562927fd1",
   "metadata": {},
   "outputs": [
    {
     "name": "stdout",
     "output_type": "stream",
     "text": [
      "observed_chi_square = 3.4\n",
      "df = 6\n",
      "chi_crit = 16.812\n",
      "p_value = 0.7572232071985852\n",
      "observed_chi_square = 3.4 is LESS than the critical value = 16.812. We will RETAIN the Null Hypothesis\n"
     ]
    }
   ],
   "source": [
    "observed = [17,21,22,18,23,24,15]\n",
    "# expected = [round((1/7)*num,3) for num in observed]\n",
    "# total1 = [observed[i]+expected[i] for i in range(len(observed))]\n",
    "# print(observed)\n",
    "# print(expected)\n",
    "# print(total1)\n",
    "# print(sum(total1))\n",
    "# print(sum(observed))\n",
    "# print(sum(expected))\n",
    "\n",
    "observed = [17, 21, 22, 18, 23, 24, 15]\n",
    "# expected = [2.429, 3.0, 3.143, 2.571, 3.286, 3.429, 2.143]\n",
    "expected = [20,20,20,20,20,20,20]\n",
    "significance = 0.01\n",
    "chi_square_observed_expected(observed,expected,significance)"
   ]
  },
  {
   "cell_type": "markdown",
   "id": "81ebe353-3354-4f1f-a88c-410f07341d71",
   "metadata": {},
   "source": [
    "#### From Witte p.401 *19.10 A number of investigators have reported a tendency for more people to die (from natural causes, such as cancer and strokes) after, rather than before, a major holiday. This post-holiday death peak has been attributed to a number of factors, including the willful postponement of death until after the holiday, as well as holiday stress and post-holiday depression. Writing in the Journal of the American Medical Association (April 11, 1990), Phillips and Smith report that among a total of 103 elderly California women of Chinese descent who died of natural causes within one week of the Harvest Moon Festival, only 33 died the week before, while 70 died the week after.\n",
    "\n",
    "(a) Using the .05 level of significance, test the null hypothesis that, in the underlying population, people are equally likely to die either the week before or the week after this holiday.\n",
    "\n",
    "(b) Specify the approximate p-value for this test result.\n",
    "\n",
    "(c) How might this result be reported in the literature?"
   ]
  },
  {
   "cell_type": "code",
   "execution_count": 8,
   "id": "1b3d2598-4428-4dc1-96fb-9a261724576e",
   "metadata": {},
   "outputs": [
    {
     "name": "stdout",
     "output_type": "stream",
     "text": [
      "observed_chi_square = 13.292\n",
      "df = 1\n",
      "chi_crit = 3.841\n",
      "p_value = 0.00026654099783163243\n",
      "observed_chi_square = 13.292 is GREATER than the critical value = 3.841. We will REJECT the Null Hypothesis\n"
     ]
    }
   ],
   "source": [
    "obs = [33,70]\n",
    "exp = [(0.5*103),(0.5*103)]\n",
    "sig = 0.05\n",
    "chi_square_observed_expected(obs,exp,sig)"
   ]
  },
  {
   "cell_type": "markdown",
   "id": "17934a88-f6b1-4870-ad97-f90d9bc53365",
   "metadata": {},
   "source": [
    "#### From Witte p.401 19.11 While playing a coin-tossing game in which you are to guess whether heads or tails will appear, you observe 30 heads in a string of 50 coin tosses.\n",
    "(a) Test the null hypothesis that this coin is unbiased, that is, that heads and tails are\n",
    "equally likely to appear in the long run.\n",
    "\n",
    "(b) Specify the approximate p-value for this test result."
   ]
  },
  {
   "cell_type": "code",
   "execution_count": 9,
   "id": "d2052bca-378d-4b0d-87c7-fee87925b6ed",
   "metadata": {},
   "outputs": [
    {
     "name": "stdout",
     "output_type": "stream",
     "text": [
      "observed_chi_square = 2.0\n",
      "df = 1\n",
      "chi_crit = 3.841\n",
      "p_value = 0.15729920705028488\n",
      "observed_chi_square = 2.0 is LESS than the critical value = 3.841. We will RETAIN the Null Hypothesis\n"
     ]
    }
   ],
   "source": [
    "obs = [30,20]\n",
    "exp = [25,25]\n",
    "sig = 0.05\n",
    "chi_square_observed_expected(obs,exp,sig)"
   ]
  },
  {
   "cell_type": "markdown",
   "id": "310b1198-613e-4d49-bd12-273a3e9c3256",
   "metadata": {},
   "source": [
    "#### From Witte p.401 19.12 In Chapter 1, Table 1.1 lists the weights of 53 male statistics students. Although students were asked to report their weights to the nearest pound, inspection of Table 1.1 reveals that a disproportionately large number (27) reported weights ending in either a 0 or a 5. This suggests that many students probably reported their weights rounded to the nearest 5 or 10 pounds rather than to the nearest pound. Using the .05 level of significance, test the null hypothesis that in the underlying population, weights are rounded to the nearest pound. (Hint: If the null hypothesis is true, only two-tenths of all weights should end in either a 0 or a 5, and the remaining eight-tenths of all weights should end in a 1, 2, 3, 4, 6, 7, 8, or 9. Therefore, the situation requires a one-variable test with only two categories, and df = 1.)"
   ]
  },
  {
   "cell_type": "code",
   "execution_count": 10,
   "id": "56643069-fa6c-404d-af61-4ae1887687a6",
   "metadata": {},
   "outputs": [
    {
     "name": "stdout",
     "output_type": "stream",
     "text": [
      "The number of weight entry from the list that ends in either zero or five is 27. Therefore the number of weight entry that does not is 26\n"
     ]
    }
   ],
   "source": [
    "import pandas\n",
    "weights = pandas.read_csv('weights_csv.csv')\n",
    "weight_list = list(weights['Weights']) #Table 1.1\n",
    "# In the weight_list we will count first the weights that are ending in either 0 or 5\n",
    "ending_in_zero_or_five = [wt for wt in weight_list if wt%10==0 or wt%10==5]\n",
    "print(f'The number of weight entry from the list that ends in either zero or five is {len(ending_in_zero_or_five)}. Therefore the number of weight entry that does not is {len(weight_list)-len(ending_in_zero_or_five)}')\n",
    "# 0.2 of entries should end in zero or five, 0.8 should not"
   ]
  },
  {
   "cell_type": "code",
   "execution_count": 11,
   "id": "2b510184-9e0e-423a-9f94-a3dda59f3f56",
   "metadata": {},
   "outputs": [
    {
     "name": "stdout",
     "output_type": "stream",
     "text": [
      "[10.6, 42.4]\n",
      "observed_chi_square = 31.717\n",
      "df = 1\n",
      "chi_crit = 3.841\n",
      "p_value = 1.783541503375119e-08\n",
      "observed_chi_square = 31.717 is GREATER than the critical value = 3.841. We will REJECT the Null Hypothesis\n"
     ]
    }
   ],
   "source": [
    "n = 53\n",
    "proportions = [0.2,0.8]\n",
    "obs = [27,26]\n",
    "exp = [round(n*proportions[i],3) for i in range(len(obs))]\n",
    "print(exp)\n",
    "sig = 0.05\n",
    "chi_square_observed_expected(obs,exp,sig)"
   ]
  },
  {
   "cell_type": "markdown",
   "id": "9ce86e93-8b00-44b5-82f6-10b3584e649a",
   "metadata": {},
   "source": [
    "#### From Witte p.401 *19.13 Students are classified according to religious preference (Buddhist, Jewish, Protestant, Roman Catholic, or Other) and political affiliation (Democrat, Republican, Independent, or Other).\n",
    "\n",
    "(a) Is anything suspicious about these observed frequencies?\n",
    "\n",
    "(b) Using the .05 level of significance, test the null hypothesis that these two variables are independent.\n",
    "\n",
    "(c) If appropriate, estimate the effect size.\n",
    "\n",
    "RELIGIOUS PREFERENCE AND POLITICAL AFFILIATION\n",
    "\n",
    "RELIGIOUS PREFERENCE\n",
    "\\begin{array}{ccc}\n",
    "\\text{POLITICAL\n",
    "AFFILIATION} & \\text{BUDDHIST} & \\text{JEWISH} & \\text{PROTESTANT} & \\text{ROM. CATH.} & \\text{OTHER}  &\\text{TOTAL}\\\\\n",
    "\\hline\n",
    "Democrat & 30 & 30 & 40 & 60 & 40 & 200\\\\\n",
    "Republican & 10 & 10 & 40 & 20 & 20 & 100\\\\\n",
    "Independent & 10 & 10 & 20 & 20 & 40 & 100\\\\\n",
    "Other & 0 & 0 & 0 & 0 & 100 & 100\\\\\n",
    "Total & 50 & 50 & 100 & 100 & 200 & 500\\\\\n",
    "\\end{array}"
   ]
  },
  {
   "cell_type": "code",
   "execution_count": 12,
   "id": "ee79269e-ae90-4bc3-aca2-a4141b39581e",
   "metadata": {},
   "outputs": [
    {
     "name": "stdout",
     "output_type": "stream",
     "text": [
      "new_list = [30, 30, 40, 60, 40, 10, 10, 40, 20, 20, 10, 10, 20, 20, 40, 0, 0, 0, 0, 100]\n",
      "row_total = [200, 100, 100, 100]\n",
      "column_total = [50, 50, 100, 100, 200]\n",
      "grand_total = 500\n",
      "5x4 dimension of table\n",
      "df = (5-1) x (4-1)\n",
      "df = 12\n",
      "chi_crit = 21.026\n",
      "observed_frequencies = [30, 10, 10, 0, 30, 10, 10, 0, 40, 40, 20, 0, 60, 20, 20, 0, 40, 20, 40, 100]\n",
      "expected_frequencies = [20.0, 10.0, 10.0, 10.0, 20.0, 10.0, 10.0, 10.0, 40.0, 20.0, 20.0, 20.0, 40.0, 20.0, 20.0, 20.0, 80.0, 40.0, 40.0, 40.0]\n",
      "observed_chi_square = 220.0\n",
      "p_value = 0.0\n",
      "At 0.05 significance level, the observed value of Chi Square = 220.0 is GREATER than the critical value = 21.026. We will REJECT the Null Hypothesis\n",
      "k = 4\n",
      "phi_squared_sub_c = 0.14666666666666667\n"
     ]
    }
   ],
   "source": [
    "buddhist = [30,10,10,0]\n",
    "jewish = [30,10,10,0]\n",
    "protestant = [40,40,20,0]\n",
    "roman_catholic = [60,20,20,0]\n",
    "other = [40,20,40,100]\n",
    "religions = [buddhist,jewish,protestant,roman_catholic,other]\n",
    "sig = 0.05\n",
    "chi_square_computation(religions,sig)"
   ]
  },
  {
   "cell_type": "markdown",
   "id": "f3a154e6-a757-407d-a646-78b75d46db61",
   "metadata": {},
   "source": [
    "#### From Witte p.384 *19.14 In 1912 over 800 passengers perished after the oceanliner Titanic collided with an iceberg and sank. The following table compares the survival frequencies of cabin and steerage passengers.\n",
    "ACCOMMODATIONS ON THE TITANIC\n",
    "\\begin{array}{ccc}\n",
    "\\text{SURVIVED} & \\text{CABIN} & \\text{STEERAGE} & \\text{TOTAL}\\\\\n",
    "\\hline\n",
    "Yes & 299 & 186 & 485 \\\\\n",
    "No & 280 & 526 & 806 \\\\\n",
    "Total & 579 & 712 & 1291 \\\\\n",
    "\\end{array}\n",
    "\n",
    "(a) Using the .05 level of significance, test the null hypothesis that survival rates are independent of the passengers’ accommodations (cabin or steerage).\n",
    "\n",
    "(b) Assuming a significant χ2, estimate the strength of the relationship.\n",
    "\n",
    "(c) To more fully appreciate the importance of this relationship, calculate an odds ratio to determine how much more likely a cabin passenger is to have survived than a steerage passenger."
   ]
  },
  {
   "cell_type": "code",
   "execution_count": 17,
   "id": "44b13fc0-2268-48eb-816a-55d4f06243e1",
   "metadata": {},
   "outputs": [
    {
     "name": "stdout",
     "output_type": "stream",
     "text": [
      "new_list = [299, 186, 280, 526]\n",
      "row_total = [485, 806]\n",
      "column_total = [579, 712]\n",
      "grand_total = 1291\n",
      "2x2 dimension of table\n",
      "df = (2-1) x (2-1)\n",
      "df = 1\n",
      "chi_crit = 3.841\n",
      "observed_frequencies = [299, 280, 186, 526]\n",
      "expected_frequencies = [217.517, 361.483, 267.483, 444.517]\n",
      "observed_chi_square = 88.649\n",
      "p_value = 0.0\n",
      "At 0.05 significance level, the observed value of Chi Square = 88.649 is GREATER than the critical value = 3.841. We will REJECT the Null Hypothesis\n",
      "k = 2\n",
      "phi_squared_sub_c = 0.06866692486444617\n",
      "An odds of 3.02 will come from [186, 526]\n",
      "An odds of 0.331 will come from [299, 280]\n"
     ]
    }
   ],
   "source": [
    "cabin = [299,280]\n",
    "steerage = [186,526]\n",
    "data = [cabin,steerage]\n",
    "sig = 0.05\n",
    "chi_square_computation(data,sig)\n",
    "odds_ratio(steerage,cabin)"
   ]
  },
  {
   "cell_type": "markdown",
   "id": "eb68683d-d4d6-4499-b26a-5c286d130eb1",
   "metadata": {},
   "source": [
    "#### From Witte p.384 19.15 In a classic study, Milgram et al. “lost” stamped envelopes with fictitious addresses (Medical Research Association, Personal Address, Friends of Communist Party, and Friends of Nazi Party).* One hundred letters with each address were distributed among four locations (shops, cars, streets, and phone booths) in New Haven Connecticut, with the following results:\n",
    "\\begin{array}{ccc}\n",
    "\\text{ADDRESS} & \\text{RETURNED} & \\text{NOT RETURNED} & \\text{TOTAL}\\\\\n",
    "\\hline\n",
    "Medical~Research~Association & 72 & 28 & 100 \\\\\n",
    "Personal~Address & 71 & 29 & 100 \\\\\n",
    "Friends~of~Communist~Party & 25 & 75 & 100 \\\\\n",
    "Friends~of~Nazi~Party & 25 & 75 & 100 \\\\\n",
    "Total & 193 & 207 & 400 \\\\\n",
    "\\end{array}\n",
    "\n",
    "(a) Using the .05 level of significance, test the null hypothesis that address does not matter in the underlying population.\n",
    "\n",
    "(b) Specify the approximate p-value for this result.\n",
    "\n",
    "(c) Assuming χ2 is significant, estimate the strength of this relationship.\n",
    "\n",
    "(d) How might these results be reported in the literature?\n",
    "\n",
    "(e) Collapse the original 4 × 2 table to a 2 × 2 table by combining the results for the two neutral addresses and for the two inflammatory addresses. Calculate the odds ratio for returned letters.\n",
    "\\begin{array}{ccc}\n",
    "\\text{ADDRESS} & \\text{RETURNED} & \\text{NOT RETURNED} & \\text{TOTAL}\\\\\n",
    "\\hline\n",
    "neutral~addresses & 143 & 57 & 100 \\\\\n",
    "inflammatory~addresses & 50 & 150 & 100 \\\\\n",
    "Total & 193 & 207 & 400 \\\\\n",
    "\\end{array}"
   ]
  },
  {
   "cell_type": "markdown",
   "id": "46b25398-45f2-48ae-8e0c-1680a9a68ab1",
   "metadata": {},
   "source": [
    "#### From Witte p.379 Progress Check *19.6\n",
    "\\begin{array}{ccc}\n",
    "\\text{RETURNED~LETTERS} & \\text{OFF-CAMPUS} & \\text{CAMPUS} & \\text{TOTAL}\\\\\n",
    "\\hline\n",
    "YES & 69 & 51 & 120 \\\\\n",
    "NO & 61 & 19 & 80 \\\\\n",
    "TOTAL & 130 & 70 & 200 \\\\\n",
    "\\end{array}"
   ]
  },
  {
   "cell_type": "code",
   "execution_count": 18,
   "id": "e526ec98-e7a6-44e9-8549-9fffe808e99d",
   "metadata": {},
   "outputs": [
    {
     "name": "stdout",
     "output_type": "stream",
     "text": [
      "An odds of 0.421 will come from [51, 19]\n",
      "An odds of 2.373 will come from [69, 61]\n"
     ]
    }
   ],
   "source": [
    "off_campus = [69,61]\n",
    "campus = [51,19]\n",
    "odds_ratio(campus,off_campus)"
   ]
  },
  {
   "cell_type": "code",
   "execution_count": 15,
   "id": "1a9b9625-1d90-4658-91df-022d2df0bfb7",
   "metadata": {},
   "outputs": [
    {
     "name": "stdout",
     "output_type": "stream",
     "text": [
      "new_list = [72, 28, 71, 29, 25, 75, 25, 75]\n",
      "row_total = [100, 100, 100, 100]\n",
      "column_total = [193, 207]\n",
      "grand_total = 400\n",
      "2x4 dimension of table\n",
      "df = (2-1) x (4-1)\n",
      "df = 3\n",
      "chi_crit = 7.815\n",
      "observed_frequencies = [72, 71, 25, 25, 28, 29, 75, 75]\n",
      "expected_frequencies = [48.25, 48.25, 48.25, 48.25, 51.75, 51.75, 51.75, 51.75]\n",
      "observed_chi_square = 86.616\n",
      "p_value = 0.0\n",
      "At 0.05 significance level, the observed value of Chi Square = 86.616 is GREATER than the critical value = 7.815. We will REJECT the Null Hypothesis\n",
      "k = 4\n",
      "phi_squared_sub_c = 0.07218\n",
      "An odds of 0.133 will come from [143, 50]\n",
      "An odds of 7.526 will come from [57, 150]\n"
     ]
    }
   ],
   "source": [
    "returned = [72,71,25,25]\n",
    "not_returned = [28,29,75,75]\n",
    "sig = 0.05\n",
    "chi_square_computation([returned,not_returned],sig)\n",
    "\n",
    "not_returned = [57,150]\n",
    "returned = [143,50]\n",
    "odds_ratio(returned,not_returned)"
   ]
  },
  {
   "cell_type": "markdown",
   "id": "fd328eee-052e-4cb4-ad10-703feb9f6dad",
   "metadata": {},
   "source": [
    "#### From Witte p.385 19.16 Test the null hypothesis at the .01 level of significance that the distribution of blood types for college students complies with the proportions described in the blood bank bulletin, namely, .44 for O, .41 for A, .10 for B, and .05 for AB. Now, however, assume that the results are available for a random sample of only 60 students. The results are as follows: 27 for O, 26 for A, 4 for B, and 3 for AB. \n",
    "#### NOTE: The expected frequency for AB, (.05)(60) = 3, is less than 5, the smallest permissible expected frequency. Create a sufficiently large expected frequency by combining B and AB blood types.\n",
    "\\begin{array}{ccc}\n",
    "\\text{BLOOD~TYPE} & \\text{O} & \\text{A} & \\text{B} & \\text{AB} & \\text{TOTAL}\\\\\n",
    "\\hline\n",
    "observed & 27 & 26 & 4 & 3 & 60\\\\\n",
    "expected & 26.4 & 24.6 & 6 & 3 & 60\\\\\n",
    "total & 53.4 & 50.6 & 10 & 6 & 120\\\\\n",
    "\\end{array}"
   ]
  },
  {
   "cell_type": "code",
   "execution_count": 19,
   "id": "7b9ec894-1894-4c3e-bcd7-89f2fcb2703f",
   "metadata": {},
   "outputs": [
    {
     "name": "stdout",
     "output_type": "stream",
     "text": [
      "observed_chi_square = 0.761\n",
      "df = 3\n",
      "chi_crit = 11.345\n",
      "p_value = 0.8587707324808742\n",
      "observed_chi_square = 0.761 is LESS than the critical value = 11.345. We will RETAIN the Null Hypothesis\n"
     ]
    }
   ],
   "source": [
    "observed = [27,26,4,3]\n",
    "expected = [26.4,24.6,6,3]\n",
    "sig = 0.01\n",
    "chi_square_observed_expected(observed,expected,sig)"
   ]
  }
 ],
 "metadata": {
  "kernelspec": {
   "display_name": "Python 3 (ipykernel)",
   "language": "python",
   "name": "python3"
  },
  "language_info": {
   "codemirror_mode": {
    "name": "ipython",
    "version": 3
   },
   "file_extension": ".py",
   "mimetype": "text/x-python",
   "name": "python",
   "nbconvert_exporter": "python",
   "pygments_lexer": "ipython3",
   "version": "3.10.12"
  }
 },
 "nbformat": 4,
 "nbformat_minor": 5
}
