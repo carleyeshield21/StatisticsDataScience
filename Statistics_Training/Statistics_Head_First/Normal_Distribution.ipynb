{
 "cells": [
  {
   "cell_type": "code",
   "execution_count": 1,
   "id": "fb572f99-ffcc-414b-91ff-f77fa8a2bb7a",
   "metadata": {},
   "outputs": [
    {
     "name": "stdout",
     "output_type": "stream",
     "text": [
      "(-0.77, 2.6971, 1.6422849935379669)\n",
      "(2.95, 1.2475, 1.116915395184434)\n",
      "(-0.8500000000000002, 67.42750000000001, 8.211424967689835)\n"
     ]
    }
   ],
   "source": [
    "x = [-1,4,9,14,19]\n",
    "PX_x = [0.977,0.008,0.008,0.006,0.001]\n",
    "\n",
    "x1 = [1,2,3,4,5]\n",
    "PX_x1 = [0.1,0.25,0.35,0.2,0.1]\n",
    "\n",
    "y = [-2,23,48,73,98]\n",
    "PY_y = [0.977,0.008,0.008,0.006,0.001]\n",
    "\n",
    "def probability_expectation(a,b):\n",
    "    E_X = sum([a[i]*b[i] for i in range(len(a))])\n",
    "    var = sum([((a[i]-E_X)**2)*b[i] for i in range(len(a))])\n",
    "    sd = var**0.5\n",
    "    return E_X, var, sd\n",
    "    \n",
    "print(probability_expectation(x,PX_x))\n",
    "print(probability_expectation(x1,PX_x1))\n",
    "print(probability_expectation(y,PY_y))"
   ]
  }
 ],
 "metadata": {
  "kernelspec": {
   "display_name": "Python 3 (ipykernel)",
   "language": "python",
   "name": "python3"
  },
  "language_info": {
   "codemirror_mode": {
    "name": "ipython",
    "version": 3
   },
   "file_extension": ".py",
   "mimetype": "text/x-python",
   "name": "python",
   "nbconvert_exporter": "python",
   "pygments_lexer": "ipython3",
   "version": "3.10.12"
  }
 },
 "nbformat": 4,
 "nbformat_minor": 5
}
