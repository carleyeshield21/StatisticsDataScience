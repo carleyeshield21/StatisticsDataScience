{
 "cells": [
  {
   "cell_type": "code",
   "execution_count": 1,
   "id": "fb572f99-ffcc-414b-91ff-f77fa8a2bb7a",
   "metadata": {},
   "outputs": [
    {
     "name": "stdout",
     "output_type": "stream",
     "text": [
      "(-0.77, 2.6971, 1.6422849935379669)\n",
      "(2.95, 1.2475, 1.116915395184434)\n",
      "(-0.8500000000000002, 67.42750000000001, 8.211424967689835)\n"
     ]
    }
   ],
   "source": [
    "x = [-1,4,9,14,19]\n",
    "PX_x = [0.977,0.008,0.008,0.006,0.001]\n",
    "\n",
    "x1 = [1,2,3,4,5]\n",
    "PX_x1 = [0.1,0.25,0.35,0.2,0.1]\n",
    "\n",
    "y = [-2,23,48,73,98]\n",
    "PY_y = [0.977,0.008,0.008,0.006,0.001]\n",
    "\n",
    "def probability_expectation(a,b):\n",
    "    E_X = sum([a[i]*b[i] for i in range(len(a))])\n",
    "    var = sum([((a[i]-E_X)**2)*b[i] for i in range(len(a))])\n",
    "    sd = var**0.5\n",
    "    return E_X, var, sd\n",
    "    \n",
    "print(probability_expectation(x,PX_x))\n",
    "print(probability_expectation(x1,PX_x1))\n",
    "print(probability_expectation(y,PY_y))"
   ]
  },
  {
   "cell_type": "markdown",
   "id": "dab07521-b03a-4e1c-9393-3dd2cefd51e2",
   "metadata": {},
   "source": [
    "### The Case of the Missing Parameters\n",
    "\n",
    "Will at Manic Mango Games has a problem. He needs to give his boss the mean and standard deviation of the number of minutes people take to complete level one of their new game. This shouldn’t be difficult, but unfortunately a ferocious terrier has eaten the piece of paper he wrote them on. Will only has three clues to help him. \n",
    "\n",
    "First of all, Will knows that the number of minutes people spend playing level one follows a normal distribution.\n",
    "\n",
    "Secondly, he knows that the probability of a player playing for less than 5 minutes is 0.0045.\n",
    "\n",
    "Finally, the probability of someone taking less than 15 minutes to complete level one is 0.9641.\n",
    "\n",
    "How can Will find the mean and standard deviation?\n",
    "\n",
    "$z=\\dfrac{X-\\mu}{\\sigma}$"
   ]
  },
  {
   "cell_type": "code",
   "execution_count": 2,
   "id": "5f87bf2d-b207-4bdd-8156-23880c09071d",
   "metadata": {},
   "outputs": [
    {
     "name": "stdout",
     "output_type": "stream",
     "text": [
      "-2.6120541412292777 1.800384161326843\n"
     ]
    }
   ],
   "source": [
    "from scipy.stats import norm\n",
    "\n",
    "z_score_5 = norm.ppf(0.0045)\n",
    "z_score_15 = norm.ppf(0.9641)\n",
    "\n",
    "print(z_score_5,z_score_15)"
   ]
  },
  {
   "cell_type": "code",
   "execution_count": 3,
   "id": "f2041134-c75f-43b8-81fe-c89f896f07e8",
   "metadata": {},
   "outputs": [
    {
     "name": "stdout",
     "output_type": "stream",
     "text": [
      "398.2857142857143\n",
      "397.2857142857143\n",
      "pop_stdev = 19.95709684011465\n",
      "sample_stdev = 21.55612828563299\n"
     ]
    }
   ],
   "source": [
    "import statistics\n",
    "a = [14,56,32,45,67,13,18]\n",
    "mean = statistics.mean(a)\n",
    "\n",
    "pop_var = sum([(n-mean)**2 for n in a])/len(a)\n",
    "print(pop_var)\n",
    "\n",
    "sample_var = sum([(n-mean)**2 for n in a])/len(a)-1\n",
    "print(sample_var)\n",
    "\n",
    "pop_stdev = statistics.pstdev(a)\n",
    "sample_stdev = statistics.stdev(a)\n",
    "print(f'pop_stdev = {pop_stdev}\\nsample_stdev = {sample_stdev}')"
   ]
  },
  {
   "cell_type": "code",
   "execution_count": 4,
   "id": "ca789584-39bc-4803-82b5-0c9d9eb5e8eb",
   "metadata": {},
   "outputs": [
    {
     "name": "stdout",
     "output_type": "stream",
     "text": [
      "variance = 6.924444444444455\n"
     ]
    }
   ],
   "source": [
    "import statistics\n",
    "data = '61.9 62.6 63.3 64.8 65.1 66.4 67.1 67.2 68.7 69.9'\n",
    "data_copy = data.split()\n",
    "sample = [float(n) for n in data_copy]\n",
    "variance = statistics.variance(sample)\n",
    "print(f'variance = {variance}')"
   ]
  },
  {
   "cell_type": "code",
   "execution_count": 5,
   "id": "d9338b3e-91c1-4d0a-8913-968a9a3d70de",
   "metadata": {},
   "outputs": [
    {
     "name": "stdout",
     "output_type": "stream",
     "text": [
      "Probability of having at least 40% red gumballs in the box: 0.000686592207962966\n"
     ]
    }
   ],
   "source": [
    "from scipy.stats import binom\n",
    "\n",
    "# Parameters\n",
    "n = 100  # Total number of gumballs\n",
    "p = 0.25  # Probability of success (proportion of red gumballs)\n",
    "\n",
    "# Probability of having 39 or fewer red gumballs\n",
    "prob_39_or_fewer = binom.cdf(39, n, p)\n",
    "\n",
    "# Probability of having at least 40 red gumballs\n",
    "prob_at_least_40 = 1 - prob_39_or_fewer\n",
    "\n",
    "print(\"Probability of having at least 40% red gumballs in the box:\", prob_at_least_40)"
   ]
  },
  {
   "cell_type": "markdown",
   "id": "6eaf493a-57a8-457c-8a9a-891a30360a33",
   "metadata": {},
   "source": [
    "#### See if you can find the 95% confidence interval for the average weight of gumballs. There are 10 gumballs in the sample where x = 0.5oz and $s^2$ = 0.09.\n",
    "\n",
    "### ESTIMATED STANDARD ERROR OF THE MEAN\n",
    "$S_\\overline{X}$ = $\\dfrac{S}{\\sqrt{n}}$\n",
    "\n",
    "###### where $S_\\overline{X}$ represents the estimated standard error of the mean; n equals the sample size; and s has been defined as S is the standard deviation\n",
    "$S$ = $\\sqrt{\\dfrac{{SS}}{n-1}}$ = $\\sqrt{\\dfrac{{SS}}{df}}$\n",
    "\n",
    "### Sample Sums of Squares\n",
    "$SS$ = $\\Sigma({X}-\\overline{X})^2$ = $\\Sigma{X}^2$ - $\\dfrac{(\\Sigma{X})^2}{n}$\n",
    "\n",
    "##### CONFIDENCE INTERVAL FOR μ (BASED ON z )\n",
    "\n",
    "$CI$ = $\\overline{X}$ $\\pm$ (${Z}_{conf}) ({\\sigma}_{\\overline{X}})$"
   ]
  },
  {
   "cell_type": "code",
   "execution_count": 6,
   "id": "99655ebe-e2c8-4d1a-b726-c7d47fa6956f",
   "metadata": {},
   "outputs": [
    {
     "name": "stdout",
     "output_type": "stream",
     "text": [
      "0.28539292821422835 0.7146070717857717\n"
     ]
    }
   ],
   "source": [
    "from scipy.stats import t\n",
    "n = 10\n",
    "df = n-1\n",
    "var = 0.09\n",
    "mean = 0.5\n",
    "alpha = 0.05\n",
    "t_critical = t.ppf(1 - alpha/2, df)  # For a two-tailed test\n",
    "\n",
    "std_err_mean = (var/n)**0.5\n",
    "\n",
    "CI1 = mean - (t_critical*std_err_mean)\n",
    "CI2 = mean + (t_critical*std_err_mean)\n",
    "\n",
    "print(CI1,CI2)"
   ]
  },
  {
   "cell_type": "markdown",
   "id": "d96758c6-195e-4828-b5fd-7f6b22f26173",
   "metadata": {},
   "source": [
    "#### Mighty Gumball has noticed a problem with their gumball dispensers. They have taken a sample of 30 machines, and found that the mean number of malfunctions is 15. Construct a 99% confidence interval for the number of malfunctions per month."
   ]
  },
  {
   "cell_type": "code",
   "execution_count": 7,
   "id": "4269f2d8-7c49-40c9-8e79-4d88282fbedd",
   "metadata": {},
   "outputs": [
    {
     "name": "stdout",
     "output_type": "stream",
     "text": [
      "2.756385903670335\n",
      "13.050940835947696 16.949059164052304\n"
     ]
    }
   ],
   "source": [
    "from scipy.stats import t\n",
    "n = 30\n",
    "df = n-1\n",
    "mean = 15\n",
    "alpha = 0.01\n",
    "var = 15\n",
    "std_err_mean = (var/n)**0.5\n",
    "t_critical = t.ppf(1 - alpha/2, df)  # For a two-tailed test\n",
    "CI1 = mean - (t_critical*std_err_mean)\n",
    "CI2 = mean + (t_critical*std_err_mean)\n",
    "print(t_critical)\n",
    "print(CI1,CI2)"
   ]
  },
  {
   "cell_type": "code",
   "execution_count": 8,
   "id": "8380fb8b-88e6-4a32-8945-3b63f12f3217",
   "metadata": {},
   "outputs": [
    {
     "name": "stdout",
     "output_type": "stream",
     "text": [
      "P-value corresponding to the z-score -3.33 : 0.0004342299203816554\n"
     ]
    }
   ],
   "source": [
    "from scipy.stats import norm\n",
    "\n",
    "# Given z-score\n",
    "z_score = -3.33\n",
    "\n",
    "# Calculate the p-value for the given z-score\n",
    "p_value = norm.cdf(z_score)\n",
    "\n",
    "# Print the p-value\n",
    "print(\"P-value corresponding to the z-score\", z_score, \":\", p_value)"
   ]
  },
  {
   "cell_type": "markdown",
   "id": "17a00c13-8c02-4a8d-81cc-a7c94e7d37ac",
   "metadata": {},
   "source": [
    "#### The drug company and their cough syrup manufacturer are having a dispute. The factory says that the amount of syrup that gets poured into their bottles follows a distribution X ~ N(355, 25), where X is the amount of syrup in the bottle measured in mL. The drug company conducted tests on a large sample and found that the mean amount of syrup in 100 bottles is 356.5 mL. Test the hypothesis that the factory mean is correct at a 1% level of significance against the alternative that the mean amount of syrup in a bottle is greater than 355 mL.\n",
    "\n",
    "Hypothesis statement\n",
    "\n",
    "$H_0: \\mu=355$\n",
    "\n",
    "$H_1: \\mu>355$\n",
    "\n",
    "At computed value of t=3, looking at the table the critical value of t at 0.01 significance level at df=99 is t=2.39.Which is less than t=3, we reject the null hypothesis"
   ]
  },
  {
   "cell_type": "code",
   "execution_count": 10,
   "id": "a66cc2a9-841f-495b-bb67-4474373d9538",
   "metadata": {},
   "outputs": [
    {
     "name": "stdout",
     "output_type": "stream",
     "text": [
      "t_critical = 2.3646058614359737\n",
      "computed t value = 3.0\n",
      "Reject Null Hypothesis\n"
     ]
    }
   ],
   "source": [
    "import statistics\n",
    "from scipy.stats import t\n",
    "\n",
    "mean_hyp = 355\n",
    "variance = 25\n",
    "n = 100\n",
    "mean = 356.5\n",
    "alpha = 0.01\n",
    "df = n-1\n",
    "t_critical = t.ppf(1 - alpha, df) #one tailed test\n",
    "print(f't_critical = {t_critical}')\n",
    "\n",
    "std_err_mean = (variance/n)**0.5\n",
    "t = (mean - mean_hyp)/std_err_mean\n",
    "print(f'computed t value = {t}')\n",
    "\n",
    "if t > t_critical:\n",
    "    print('Reject Null Hypothesis')"
   ]
  },
  {
   "cell_type": "markdown",
   "id": "e923cb29-97c9-4cc7-a504-781184303da8",
   "metadata": {},
   "source": [
    "#### Chi Square\n",
    "\n",
    "$\\chi=\\Sigma\\dfrac{(O-E)^2}{E}$"
   ]
  },
  {
   "cell_type": "code",
   "execution_count": 14,
   "id": "9912a8ef-c433-460e-a7de-7754b1e054ff",
   "metadata": {},
   "outputs": [
    {
     "data": {
      "text/plain": [
       "[977.0, 8.0, 8.0, 6.0, 1.0]"
      ]
     },
     "execution_count": 14,
     "metadata": {},
     "output_type": "execute_result"
    }
   ],
   "source": [
    "x = [-2,23,48,73,98]\n",
    "p_x = [0.977,0.008,0.008,0.006,0.001]\n",
    "observed_frequency = [965,10,9,9,7]\n",
    "expected_frequency = [1000*p for p in p_x]"
   ]
  }
 ],
 "metadata": {
  "kernelspec": {
   "display_name": "Python 3 (ipykernel)",
   "language": "python",
   "name": "python3"
  },
  "language_info": {
   "codemirror_mode": {
    "name": "ipython",
    "version": 3
   },
   "file_extension": ".py",
   "mimetype": "text/x-python",
   "name": "python",
   "nbconvert_exporter": "python",
   "pygments_lexer": "ipython3",
   "version": "3.10.12"
  }
 },
 "nbformat": 4,
 "nbformat_minor": 5
}
