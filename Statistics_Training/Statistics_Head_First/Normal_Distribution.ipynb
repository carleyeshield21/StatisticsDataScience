{
 "cells": [
  {
   "cell_type": "code",
   "execution_count": 1,
   "id": "fb572f99-ffcc-414b-91ff-f77fa8a2bb7a",
   "metadata": {},
   "outputs": [
    {
     "name": "stdout",
     "output_type": "stream",
     "text": [
      "(-0.77, 2.6971, 1.6422849935379669)\n",
      "(2.95, 1.2475, 1.116915395184434)\n",
      "(-0.8500000000000002, 67.42750000000001, 8.211424967689835)\n"
     ]
    }
   ],
   "source": [
    "x = [-1,4,9,14,19]\n",
    "PX_x = [0.977,0.008,0.008,0.006,0.001]\n",
    "\n",
    "x1 = [1,2,3,4,5]\n",
    "PX_x1 = [0.1,0.25,0.35,0.2,0.1]\n",
    "\n",
    "y = [-2,23,48,73,98]\n",
    "PY_y = [0.977,0.008,0.008,0.006,0.001]\n",
    "\n",
    "def probability_expectation(a,b):\n",
    "    E_X = sum([a[i]*b[i] for i in range(len(a))])\n",
    "    var = sum([((a[i]-E_X)**2)*b[i] for i in range(len(a))])\n",
    "    sd = var**0.5\n",
    "    return E_X, var, sd\n",
    "    \n",
    "print(probability_expectation(x,PX_x))\n",
    "print(probability_expectation(x1,PX_x1))\n",
    "print(probability_expectation(y,PY_y))"
   ]
  },
  {
   "cell_type": "markdown",
   "id": "dab07521-b03a-4e1c-9393-3dd2cefd51e2",
   "metadata": {},
   "source": [
    "### The Case of the Missing Parameters\n",
    "\n",
    "Will at Manic Mango Games has a problem. He needs to give his boss the mean and standard deviation of the number of minutes people take to complete level one of their new game. This shouldn’t be difficult, but unfortunately a ferocious terrier has eaten the piece of paper he wrote them on. Will only has three clues to help him. \n",
    "\n",
    "First of all, Will knows that the number of minutes people spend playing level one follows a normal distribution.\n",
    "\n",
    "Secondly, he knows that the probability of a player playing for less than 5 minutes is 0.0045.\n",
    "\n",
    "Finally, the probability of someone taking less than 15 minutes to complete level one is 0.9641.\n",
    "\n",
    "How can Will find the mean and standard deviation?\n",
    "\n",
    "$z=\\dfrac{X-\\mu}{\\sigma}$"
   ]
  },
  {
   "cell_type": "code",
   "execution_count": 2,
   "id": "5f87bf2d-b207-4bdd-8156-23880c09071d",
   "metadata": {},
   "outputs": [
    {
     "name": "stdout",
     "output_type": "stream",
     "text": [
      "-2.6120541412292777 1.800384161326843\n"
     ]
    }
   ],
   "source": [
    "from scipy.stats import norm\n",
    "\n",
    "z_score_5 = norm.ppf(0.0045)\n",
    "z_score_15 = norm.ppf(0.9641)\n",
    "\n",
    "print(z_score_5,z_score_15)"
   ]
  },
  {
   "cell_type": "code",
   "execution_count": 3,
   "id": "f2041134-c75f-43b8-81fe-c89f896f07e8",
   "metadata": {},
   "outputs": [
    {
     "name": "stdout",
     "output_type": "stream",
     "text": [
      "398.2857142857143\n",
      "397.2857142857143\n",
      "pop_stdev = 19.95709684011465\n",
      "sample_stdev = 21.55612828563299\n"
     ]
    }
   ],
   "source": [
    "import statistics\n",
    "a = [14,56,32,45,67,13,18]\n",
    "mean = statistics.mean(a)\n",
    "\n",
    "pop_var = sum([(n-mean)**2 for n in a])/len(a)\n",
    "print(pop_var)\n",
    "\n",
    "sample_var = sum([(n-mean)**2 for n in a])/len(a)-1\n",
    "print(sample_var)\n",
    "\n",
    "pop_stdev = statistics.pstdev(a)\n",
    "sample_stdev = statistics.stdev(a)\n",
    "print(f'pop_stdev = {pop_stdev}\\nsample_stdev = {sample_stdev}')"
   ]
  },
  {
   "cell_type": "code",
   "execution_count": 4,
   "id": "ca789584-39bc-4803-82b5-0c9d9eb5e8eb",
   "metadata": {},
   "outputs": [
    {
     "name": "stdout",
     "output_type": "stream",
     "text": [
      "variance = 6.924444444444455\n"
     ]
    }
   ],
   "source": [
    "import statistics\n",
    "data = '61.9 62.6 63.3 64.8 65.1 66.4 67.1 67.2 68.7 69.9'\n",
    "data_copy = data.split()\n",
    "sample = [float(n) for n in data_copy]\n",
    "variance = statistics.variance(sample)\n",
    "print(f'variance = {variance}')"
   ]
  },
  {
   "cell_type": "code",
   "execution_count": 5,
   "id": "d9338b3e-91c1-4d0a-8913-968a9a3d70de",
   "metadata": {},
   "outputs": [
    {
     "name": "stdout",
     "output_type": "stream",
     "text": [
      "Probability of having at least 40% red gumballs in the box: 0.000686592207962966\n"
     ]
    }
   ],
   "source": [
    "from scipy.stats import binom\n",
    "\n",
    "# Parameters\n",
    "n = 100  # Total number of gumballs\n",
    "p = 0.25  # Probability of success (proportion of red gumballs)\n",
    "\n",
    "# Probability of having 39 or fewer red gumballs\n",
    "prob_39_or_fewer = binom.cdf(39, n, p)\n",
    "\n",
    "# Probability of having at least 40 red gumballs\n",
    "prob_at_least_40 = 1 - prob_39_or_fewer\n",
    "\n",
    "print(\"Probability of having at least 40% red gumballs in the box:\", prob_at_least_40)"
   ]
  },
  {
   "cell_type": "markdown",
   "id": "6eaf493a-57a8-457c-8a9a-891a30360a33",
   "metadata": {},
   "source": [
    "#### See if you can find the 95% confidence interval for the average weight of gumballs. There are 10 gumballs in the sample where x = 0.5oz and $s^2$ = 0.09.\n",
    "\n",
    "### ESTIMATED STANDARD ERROR OF THE MEAN\n",
    "$S_\\overline{X}$ = $\\dfrac{S}{\\sqrt{n}}$\n",
    "\n",
    "###### where $S_\\overline{X}$ represents the estimated standard error of the mean; n equals the sample size; and s has been defined as S is the standard deviation\n",
    "$S$ = $\\sqrt{\\dfrac{{SS}}{n-1}}$ = $\\sqrt{\\dfrac{{SS}}{df}}$\n",
    "\n",
    "### Sample Sums of Squares\n",
    "$SS$ = $\\Sigma({X}-\\overline{X})^2$ = $\\Sigma{X}^2$ - $\\dfrac{(\\Sigma{X})^2}{n}$\n",
    "\n",
    "##### CONFIDENCE INTERVAL FOR μ (BASED ON z )\n",
    "\n",
    "$CI$ = $\\overline{X}$ $\\pm$ (${Z}_{conf}) ({\\sigma}_{\\overline{X}})$"
   ]
  },
  {
   "cell_type": "code",
   "execution_count": 6,
   "id": "99655ebe-e2c8-4d1a-b726-c7d47fa6956f",
   "metadata": {},
   "outputs": [
    {
     "name": "stdout",
     "output_type": "stream",
     "text": [
      "0.28539292821422835 0.7146070717857717\n"
     ]
    }
   ],
   "source": [
    "from scipy.stats import t\n",
    "n = 10\n",
    "df = n-1\n",
    "var = 0.09\n",
    "mean = 0.5\n",
    "alpha = 0.05\n",
    "t_critical = t.ppf(1 - alpha/2, df)  # For a two-tailed test\n",
    "\n",
    "std_err_mean = (var/n)**0.5\n",
    "\n",
    "CI1 = mean - (t_critical*std_err_mean)\n",
    "CI2 = mean + (t_critical*std_err_mean)\n",
    "\n",
    "print(CI1,CI2)"
   ]
  },
  {
   "cell_type": "markdown",
   "id": "d96758c6-195e-4828-b5fd-7f6b22f26173",
   "metadata": {},
   "source": [
    "#### Mighty Gumball has noticed a problem with their gumball dispensers. They have taken a sample of 30 machines, and found that the mean number of malfunctions is 15. Construct a 99% confidence interval for the number of malfunctions per month."
   ]
  },
  {
   "cell_type": "code",
   "execution_count": 7,
   "id": "4269f2d8-7c49-40c9-8e79-4d88282fbedd",
   "metadata": {},
   "outputs": [
    {
     "name": "stdout",
     "output_type": "stream",
     "text": [
      "2.756385903670335\n",
      "13.050940835947696 16.949059164052304\n"
     ]
    }
   ],
   "source": [
    "from scipy.stats import t\n",
    "n = 30\n",
    "df = n-1\n",
    "mean = 15\n",
    "alpha = 0.01\n",
    "var = 15\n",
    "std_err_mean = (var/n)**0.5\n",
    "t_critical = t.ppf(1 - alpha/2, df)  # For a two-tailed test\n",
    "CI1 = mean - (t_critical*std_err_mean)\n",
    "CI2 = mean + (t_critical*std_err_mean)\n",
    "print(t_critical)\n",
    "print(CI1,CI2)"
   ]
  },
  {
   "cell_type": "code",
   "execution_count": 8,
   "id": "8380fb8b-88e6-4a32-8945-3b63f12f3217",
   "metadata": {},
   "outputs": [
    {
     "name": "stdout",
     "output_type": "stream",
     "text": [
      "P-value corresponding to the z-score -3.33 : 0.0004342299203816554\n"
     ]
    }
   ],
   "source": [
    "from scipy.stats import norm\n",
    "\n",
    "# Given z-score\n",
    "z_score = -3.33\n",
    "\n",
    "# Calculate the p-value for the given z-score\n",
    "p_value = norm.cdf(z_score)\n",
    "\n",
    "# Print the p-value\n",
    "print(\"P-value corresponding to the z-score\", z_score, \":\", p_value)"
   ]
  },
  {
   "cell_type": "markdown",
   "id": "17a00c13-8c02-4a8d-81cc-a7c94e7d37ac",
   "metadata": {},
   "source": [
    "#### The drug company and their cough syrup manufacturer are having a dispute. The factory says that the amount of syrup that gets poured into their bottles follows a distribution X ~ N(355, 25), where X is the amount of syrup in the bottle measured in mL. The drug company conducted tests on a large sample and found that the mean amount of syrup in 100 bottles is 356.5 mL. Test the hypothesis that the factory mean is correct at a 1% level of significance against the alternative that the mean amount of syrup in a bottle is greater than 355 mL.\n",
    "\n",
    "Hypothesis statement\n",
    "\n",
    "$H_0: \\mu=355$\n",
    "\n",
    "$H_1: \\mu>355$\n",
    "\n",
    "At computed value of t=3, looking at the table the critical value of t at 0.01 significance level at df=99 is t=2.39.Which is less than t=3, we reject the null hypothesis"
   ]
  },
  {
   "cell_type": "code",
   "execution_count": 9,
   "id": "a66cc2a9-841f-495b-bb67-4474373d9538",
   "metadata": {},
   "outputs": [
    {
     "name": "stdout",
     "output_type": "stream",
     "text": [
      "t_critical = 2.3646058614359737\n",
      "computed t value = 3.0\n",
      "Reject Null Hypothesis\n"
     ]
    }
   ],
   "source": [
    "import statistics\n",
    "from scipy.stats import t\n",
    "\n",
    "mean_hyp = 355\n",
    "variance = 25\n",
    "n = 100\n",
    "mean = 356.5\n",
    "alpha = 0.01\n",
    "df = n-1\n",
    "t_critical = t.ppf(1 - alpha, df) #one tailed test\n",
    "print(f't_critical = {t_critical}')\n",
    "\n",
    "std_err_mean = (variance/n)**0.5\n",
    "t = (mean - mean_hyp)/std_err_mean\n",
    "print(f'computed t value = {t}')\n",
    "\n",
    "if t > t_critical:\n",
    "    print('Reject Null Hypothesis')"
   ]
  },
  {
   "cell_type": "markdown",
   "id": "e923cb29-97c9-4cc7-a504-781184303da8",
   "metadata": {},
   "source": [
    "#### Chi Square\n",
    "\n",
    "$\\chi^2=\\Sigma\\dfrac{(O-E)^2}{E}$"
   ]
  },
  {
   "cell_type": "code",
   "execution_count": 10,
   "id": "9912a8ef-c433-460e-a7de-7754b1e054ff",
   "metadata": {},
   "outputs": [
    {
     "data": {
      "text/plain": [
       "38.272389969293755"
      ]
     },
     "execution_count": 10,
     "metadata": {},
     "output_type": "execute_result"
    }
   ],
   "source": [
    "x = [-2,23,48,73,98]\n",
    "p_x = [0.977,0.008,0.008,0.006,0.001]\n",
    "observed_frequency = [965,10,9,9,7]\n",
    "expected_frequency = [1000*p for p in p_x]\n",
    "\n",
    "chi_square = [((observed_frequency[i]-expected_frequency[i])**2)/expected_frequency[i] for i in range(len(x))]\n",
    "sum(chi_square)"
   ]
  },
  {
   "cell_type": "code",
   "execution_count": 11,
   "id": "54b6d8ec-6ba8-456c-83f9-6169cfac706c",
   "metadata": {},
   "outputs": [
    {
     "name": "stdout",
     "output_type": "stream",
     "text": [
      "Critical value of chi-square for a significance level of 0.05 and 4 degrees of freedom: 9.487729036781154\n"
     ]
    }
   ],
   "source": [
    "from scipy.stats import chi2\n",
    "\n",
    "# Significance level (alpha) and degrees of freedom (df)\n",
    "alpha = 0.05  # For example, significance level of 0.05 (95% confidence level)\n",
    "df = 4     # Degrees of freedom\n",
    "\n",
    "# Calculate the critical values of chi-square\n",
    "chi2_critical = chi2.ppf(1 - alpha, df)\n",
    "\n",
    "# Print the critical value\n",
    "print(\"Critical value of chi-square for a significance level of\", alpha, \"and\", df, \"degrees of freedom:\", chi2_critical)"
   ]
  },
  {
   "cell_type": "markdown",
   "id": "a94ff599-0e95-44d2-a14b-b0f63d1c26dc",
   "metadata": {},
   "source": [
    "#### Fat Dan thinks that the dice in the dice games are loaded. Take a look at the following observed frequencies for one six-sided die, and test whether there’s enough evidence to support the claim that the die isn’t fair at the 1% significance level.\n",
    "\n",
    "Hypothesis statement\n",
    "\n",
    "$H_0: The~dice~is~fair$\n",
    "\n",
    "$H_1: The~dice~is~not~fair~given~1/6~probability~for~each$"
   ]
  },
  {
   "cell_type": "code",
   "execution_count": 12,
   "id": "317f4527-a9b9-49a1-9aa3-f47bd04383d2",
   "metadata": {},
   "outputs": [
    {
     "name": "stdout",
     "output_type": "stream",
     "text": [
      "1002\n",
      "[167.0, 167.0, 167.0, 167.0, 167.0, 167.0]\n",
      "15.08627246938899\n",
      "88.23952095808383,15.08627246938899\n",
      "True\n",
      "computed_chi_square = 88.23952095808383 is greater than the value of critcal value of chi_crit = 15.08627246938899; therefore we reject the null hypothesis\n"
     ]
    }
   ],
   "source": [
    "from scipy.stats import chi2\n",
    "value = [1,2,3,4,5,6]\n",
    "observed_frequency = [107,198,192,125,132,248]\n",
    "alpha = 0.01\n",
    "total_frequency = sum(observed_frequency)\n",
    "print(total_frequency)\n",
    "expected_frequency = [(total_frequency)/6 for i in range(len(value))]\n",
    "print(expected_frequency)\n",
    "chi_crit = chi2.ppf(1-alpha,len(value)-1)\n",
    "print(chi_crit)\n",
    "\n",
    "chi_square = [((observed_frequency[i]-expected_frequency[i])**2)/expected_frequency[i] for i in range(len(value))]\n",
    "computed_chi_square = sum(chi_square)\n",
    "print(f'{computed_chi_square},{chi_crit}')\n",
    "print(computed_chi_square > chi_crit)\n",
    "\n",
    "if computed_chi_square > chi_crit:\n",
    "    print(f'computed_chi_square = {computed_chi_square} is greater than the value of critcal value of chi_crit = {chi_crit}; therefore we reject the null hypothesis')"
   ]
  },
  {
   "cell_type": "markdown",
   "id": "b8e4e9f1-b59b-491b-8495-b6310211041b",
   "metadata": {},
   "source": [
    "#### Fat Dan thinks he’s losing more money than he should from one of the croupiers on the blackjack tables. Can you determine whether there’s significant evidence to show whether or not Fat Dan’s right? Here are the three croupiers who man the tables:\n",
    "\n",
    "Hypothesis Statement:\n",
    "\n",
    "$H_0: Everything~is~fine$\n",
    "\n",
    "$H_1: I~smell~something~fishy$\n",
    "\n",
    "#### Observed Frequencies Table\n",
    "\\begin{array}{ccc}\n",
    "\\text{} & \\text{Croupier A} & \\text{Croupier B} & \\text{Croupier C} & \\text{Total}\\\\\n",
    "\\hline\n",
    "Win & 43 & 49 & 22 & 114\\\\\n",
    "Lose & 8 & 2 & 5 & 15\\\\\n",
    "Draw & 47 & 44 & 30 & 121\\\\\n",
    "Total & 98 & 95 & 57 & 250\\\\\n",
    "\\end{array}\n",
    "\n",
    "#### Result from the code, from the formula of Expected frequency (Expected Frequencies Table)\n",
    "\\begin{array}{ccc}\n",
    "\\text{} & \\text{Croupier A} & \\text{Croupier B} & \\text{Croupier C} \\\\\n",
    "\\hline\n",
    "Win & 44.688 & 43.32 & 25.992 \\\\\n",
    "Lose & 5.88 & 5.7 & 3.42 \\\\\n",
    "Draw & 47.432 & 45.98 & 27.588 \\\\\n",
    "\\end{array}\n",
    "\n",
    "#### $Expected~frequency = \\dfrac{Row~Total~\\times~Column~Total}{Grand~Total}$\n",
    "\n",
    "#### Chi Square\n",
    "\n",
    "$\\chi^2=\\Sigma\\dfrac{(O-E)^2}{E}$\n",
    "\n",
    "Another way of looking at this is that we needed to find 9 values overall, and there were 5 values that we didn’t have to calculate independently. Using our formula from before, this gives us ν = 9 – 5 = 4."
   ]
  },
  {
   "cell_type": "code",
   "execution_count": 13,
   "id": "6fa501cf-3846-4b3d-a810-d9c6d6dfb2cc",
   "metadata": {},
   "outputs": [
    {
     "name": "stdout",
     "output_type": "stream",
     "text": [
      "expected_frequencies = [44.688, 5.88, 47.432, 43.32, 5.7, 45.98, 25.992, 3.42, 27.588]\n",
      "computed_chi_square = 5.618\n",
      "chi_crit = 13.276704135987622\n",
      "Failed to reject Null Hypothesis. Game on!\n"
     ]
    }
   ],
   "source": [
    "from scipy.stats import chi2\n",
    "row_total = [114,15,121]\n",
    "column_total = [98,95,57]\n",
    "grand_total = 250\n",
    "alpha = 0.01\n",
    "\n",
    "observed_frequencies = [43,8,47,49,2,44,22,5,30]\n",
    "\n",
    "expected_frequencies = [round((column_total[x]*row_total[y])/grand_total,3) for x in range(len(row_total)) for y in range(len(row_total))]\n",
    "print(f'expected_frequencies = {expected_frequencies}')\n",
    "df = 4\n",
    "\n",
    "chi_square = [round(((observed_frequencies[n]-expected_frequencies[n])**2)/expected_frequencies[n],3) for n in range(len(observed_frequencies))]\n",
    "computed_chi_square = sum(chi_square)\n",
    "print(f'computed_chi_square = {computed_chi_square}')\n",
    "\n",
    "chi_crit = chi2.ppf(1-alpha,df)\n",
    "print(f'chi_crit = {chi_crit}')\n",
    "\n",
    "if computed_chi_square > chi_crit:\n",
    "    print('I smell something fishy')\n",
    "else:\n",
    "    print('Failed to reject Null Hypothesis. Game on!')"
   ]
  },
  {
   "cell_type": "markdown",
   "id": "4cd416a4-96ad-48f8-9512-295c5a802375",
   "metadata": {},
   "source": [
    "#### Fat Dan thinks that one or more of his croupiers are somehow influencing the results of the roulette wheel. Here’s data showing the observed frequency with which the ball lands in each color pocket for each of the croupiers. Conduct a test at the 5% level to see whether pocket color and croupier are independent, or whether there is sufficient evidence to show there might be something going on.\n",
    "\n",
    "Hypothesis Statement:\n",
    "\n",
    "$H_0: Everything~is~fine$\n",
    "\n",
    "$H_1: I~smell~something~fishy$\n",
    "\n",
    "\\begin{array}{ccc}\n",
    "\\text{} & \\text{Croupier A} & \\text{Croupier B} & \\text{Croupier C} \\\\\n",
    "\\hline\n",
    "Red & 375 & 367 & 357 \\\\\n",
    "Black & 379 & 336 & 362 \\\\\n",
    "Green & 46 & 37 & 41 \\\\\n",
    "\\end{array}\n",
    "\n",
    "\\begin{array}{ccc}\n",
    "\\text{} & \\text{Croupier A} & \\text{Croupier B} & \\text{Croupier C} & \\text{Total} \\\\\n",
    "\\hline\n",
    "Red & 375 & 367 & 357 & 1099\\\\\n",
    "Black & 379 & 336 & 362 & 1077\\\\\n",
    "Green & 46 & 37 & 41 & 124 \\\\\n",
    "Total & 800 & 740 & 760 & 2300\\\\\n",
    "\\end{array}\n",
    "\n",
    "#### $Expected~frequency = \\dfrac{Row~Total~\\times~Column~Total}{Grand~Total}$\n",
    "\n",
    "#### Chi Square\n",
    "\n",
    "$\\chi^2=\\Sigma\\dfrac{(O-E)^2}{E}$"
   ]
  },
  {
   "cell_type": "code",
   "execution_count": 14,
   "id": "d3f95c56-0816-4670-9fd9-26f3cb37cc75",
   "metadata": {},
   "outputs": [],
   "source": [
    "# from scipy.stats import chi2\n",
    "# alpha = 0.05\n",
    "# df = 4\n",
    "# chi_crit = chi2.ppf(1-alpha,df)\n",
    "# print(f'chi_crit = {chi_crit}')\n",
    "\n",
    "# row_total = [1099,1077,124]\n",
    "# column_total = [800,740,760]\n",
    "# grand_total = 2300\n",
    "\n",
    "# observed_frequencies = [375,379,46,367,336,37,357,362,41]\n",
    "\n",
    "# expected_frequencies = [round((column_total[x]*row_total[y])/grand_total,3) for x in range(len(row_total)) for y in range(len(row_total))]\n",
    "# print(f'expected_frequencies = {expected_frequencies}')\n",
    "\n",
    "# chi_square = [round(((observed_frequencies[n]-expected_frequencies[n])**2)/expected_frequencies[n],3) for n in range(len(observed_frequencies))]\n",
    "# computed_chi_square = sum(chi_square)\n",
    "# print(f'computed_chi_square = {computed_chi_square}')\n",
    "\n",
    "# if computed_chi_square > chi_crit:\n",
    "#     print('I smell something fishy')\n",
    "# else:\n",
    "#     print('Failed to reject Null Hypothesis. Game on!')"
   ]
  },
  {
   "cell_type": "code",
   "execution_count": 15,
   "id": "b8a4f727-0489-4699-9ddc-2bde5132fcd1",
   "metadata": {},
   "outputs": [],
   "source": [
    "# # a = [375,379,46]\n",
    "# # b = [367,336,37]\n",
    "# # c = [357,362,41]\n",
    "# abc = [[375,379,46],[367,336,37],[357,362,41]]\n",
    "\n",
    "# # result = [(j,i) for i in range(len(abc[0])) for j in range(len(abc))]\n",
    "# result = [(abc[j][i]) for i in range(len(abc[0])) for j in range(len(abc))]\n",
    "# print(f'result = {result}')\n",
    "\n",
    "# column_total = [sum(item) for item in abc]\n",
    "# print(f'column_total = {column_total}')\n",
    "\n",
    "# j = len(abc)\n",
    "# row_total = [sum(result[i:i+len(abc)]) for i in range(0,len(result),len(abc))]\n",
    "# print(f'row_total = {row_total}')\n",
    "\n",
    "\n",
    "# # print(result[0:4])\n",
    "# # print(result[4:8])\n",
    "# # print(result[8:12])\n",
    "# # print(result[12:16])\n",
    "\n",
    "# # row_total = []\n",
    "# # j = len(abc)\n",
    "# # for i in range(0,len(result),len(abc)):\n",
    "# #     # print(i,i+len(abc))\n",
    "# #     # print(result[i:i+len(abc)])\n",
    "# #     row_total.append(sum(result[i:i+len(abc)]))\n",
    "# # print(row_total)"
   ]
  },
  {
   "cell_type": "markdown",
   "id": "ced47648-5862-41a0-a06c-5711ea23657a",
   "metadata": {},
   "source": [
    "\\begin{array}{ccc}\n",
    "\\text{} & \\text{Croupier A} & \\text{Croupier B} & \\text{Croupier C} \\\\\n",
    "\\hline\n",
    "Red & 375 & 367 & 357 \\\\\n",
    "Black & 379 & 336 & 362 \\\\\n",
    "Green & 46 & 37 & 41 \\\\\n",
    "\\end{array}\n",
    "\n",
    "\\begin{array}{ccc}\n",
    "\\text{} & \\text{Croupier A} & \\text{Croupier B} & \\text{Croupier C} & \\text{Total} \\\\\n",
    "\\hline\n",
    "Red & 375 & 367 & 357 & 1099\\\\\n",
    "Black & 379 & 336 & 362 & 1077\\\\\n",
    "Green & 46 & 37 & 41 & 124 \\\\\n",
    "Total & 800 & 740 & 760 & 2300\\\\\n",
    "\\end{array}\n",
    "\n",
    "#### $Expected~frequency = \\dfrac{Row~Total~\\times~Column~Total}{Grand~Total}$\n",
    "\n",
    "#### Chi Square\n",
    "\n",
    "$\\chi^2=\\Sigma\\dfrac{(O-E)^2}{E}$"
   ]
  },
  {
   "cell_type": "code",
   "execution_count": 54,
   "id": "f5dddcc7-c34b-4129-b7c0-11350af3f099",
   "metadata": {},
   "outputs": [
    {
     "name": "stdout",
     "output_type": "stream",
     "text": [
      "new_list = [38, 38, 20, 4, 44, 41, 10, 5]\n",
      "row_total = [100, 100]\n",
      "column_total = [82, 79, 30, 9]\n",
      "grand_total = 200\n",
      "4 2\n",
      "df = 3\n",
      "chi_crit = 7.815\n",
      "observed_frequencies = [38, 44, 38, 41, 20, 10, 4, 5]\n",
      "expected_frequencies = [41.0, 41.0, 39.5, 39.5, 15.0, 15.0, 4.5, 4.5]\n",
      "observed_chi_square = 4.0\n",
      "At 0.05 significance level, the observed value of Chi Square = 4.0 is LESS than the critical value = 7.815. We will retain the Null Hypothesis\n"
     ]
    }
   ],
   "source": [
    "def chi_square_computation(list,alpha):\n",
    "    from scipy.stats import chi2\n",
    "    new_list = [list[j][i] for i in range(len(list[0])) for j in range(len(list))]\n",
    "    print(f'new_list = {new_list}')\n",
    "\n",
    "    row_total = [sum(new_list[i:i+len(list)]) for i in range(0,len(new_list),len(list))]\n",
    "    print(f'row_total = {row_total}')\n",
    "\n",
    "    observed_frequencies = []\n",
    "    [observed_frequencies.extend(item) for item in list]\n",
    "    \n",
    "\n",
    "    column_total = [sum(item) for item in list]\n",
    "    print(f'column_total = {column_total}')\n",
    "\n",
    "    grand_total = sum(row_total)\n",
    "    print(f'grand_total = {grand_total}')\n",
    "\n",
    "    print(len(column_total),len(row_total))\n",
    "    df = (len(column_total)-1)*(len(row_total)-1)\n",
    "    print(f'df = {df}')\n",
    "\n",
    "    chi_crit = round(chi2.ppf(1-alpha,df),3)\n",
    "    print(f'chi_crit = {chi_crit}')\n",
    "    \n",
    "    expected_frequencies = [round((row_total[j]*column_total[i])/grand_total,3) for i in range(len(column_total)) for j in range(len(row_total))]\n",
    "    print(f'observed_frequencies = {observed_frequencies}')\n",
    "    print(f'expected_frequencies = {expected_frequencies}')\n",
    "\n",
    "    observed_chi_square = sum([round((observed_frequencies[i]-expected_frequencies[i])**2/expected_frequencies[i],3) for i in range(len(expected_frequencies))])\n",
    "    print(f'observed_chi_square = {observed_chi_square}')\n",
    "\n",
    "    if observed_chi_square > chi_crit:\n",
    "        print(f'At {alpha} significance level, the observed value of Chi Square = {observed_chi_square} is GREATER than the critical value = {chi_crit}. We will reject the Null Hypothesis')\n",
    "    else:\n",
    "        print(f'At {alpha} significance level, the observed value of Chi Square = {observed_chi_square} is LESS than the critical value = {chi_crit}. We will retain the Null Hypothesis')\n",
    "\n",
    "chi_square_computation([[38,44],[38,41],[20,10],[4,5]],0.05)\n",
    "# chi_square_computation([[375,379,46],[367,336,37]],0.05)\n",
    "# chi_square_computation([[375,379,46],[367,336,37],[357,362,41]],0.05)\n",
    "# chi_square_computation([[375,379,46],[367,336,37],[357,362,41],[1,2,3],[4,5,6]],0.05)"
   ]
  },
  {
   "cell_type": "markdown",
   "id": "c80f3794-150e-4083-8202-1bc506b8235c",
   "metadata": {},
   "source": [
    "\\begin{array}{ccc}\n",
    "\\text{} & \\text{Croupier A} & \\text{Croupier B} & \\text{Croupier C} & \\text{Croupier D} & \\text{Croupier E}\\\\\n",
    "\\hline\n",
    "Red & 375 & 367 & 357 & 1 & 4\\\\\n",
    "Black & 379 & 336 & 362 & 2 & 5\\\\\n",
    "Green & 46 & 37 & 41 & 3 & 6\\\\\n",
    "\\end{array}\n",
    "\n",
    "\\begin{array}{ccc}\n",
    "\\text{} & \\text{Croupier A} & \\text{Croupier B} & \\text{Croupier C} & \\text{Croupier D} & \\text{Croupier E} & \\text{Total}\\\\\n",
    "\\hline\n",
    "Red & 375 & 367 & 357 & 1 & 4 & 1104\\\\\n",
    "Black & 379 & 336 & 362 & 2 & 5 & 1084\\\\\n",
    "Green & 46 & 37 & 41 & 3 & 6 & 133\\\\\n",
    "Total & 800 & 740 & 760 & 6 & 15 & 2321\\\\\n",
    "\\end{array}\n",
    "\n",
    "#### $Expected~frequency = \\dfrac{Row~Total~\\times~Column~Total}{Grand~Total}$\n",
    "\n",
    "#### Chi Square\n",
    "\n",
    "$\\chi^2=\\Sigma\\dfrac{(O-E)^2}{E}$\n",
    "\n",
    "\\begin{array}{ccc}\n",
    "\\text{} & \\text{Croupier A} & \\text{Croupier B} & \\text{Croupier C} \\\\\n",
    "\\hline\n",
    "Red & 375 & 367 & 357 \\\\\n",
    "Black & 379 & 336 & 362 \\\\\n",
    "Green & 46 & 37 & 41 \\\\\n",
    "\\end{array}\n",
    "\n",
    "\\begin{array}{ccc}\n",
    "\\text{} & \\text{Croupier A} & \\text{Croupier B} & \\text{Croupier C} & \\text{Total} \\\\\n",
    "\\hline\n",
    "Red & 375 & 367 & 357 & 1099\\\\\n",
    "Black & 379 & 336 & 362 & 1077\\\\\n",
    "Green & 46 & 37 & 41 & 124 \\\\\n",
    "Total & 800 & 740 & 760 & 2300\\\\\n",
    "\\end{array}\n",
    "\n",
    "\\begin{array}{ccc}\n",
    "\\text{} & \\text{Croupier A} & \\text{Croupier B} & \\text{Total} \\\\\n",
    "\\hline\n",
    "Red & 375 & 367 & 742\\\\\n",
    "Black & 379 & 336 & 715\\\\\n",
    "Green & 46 & 37 & 83\\\\\n",
    "Total & 800 & 740 & 1540\\\\\n",
    "\\end{array}"
   ]
  },
  {
   "cell_type": "code",
   "execution_count": 17,
   "id": "e2f15257-f0ed-469a-bf6f-5e228131fa3e",
   "metadata": {},
   "outputs": [
    {
     "name": "stdout",
     "output_type": "stream",
     "text": [
      "observed_frequencies = [375, 379, 46, 367, 336, 37, 357, 362, 41]\n",
      "column_total = [800, 740, 760]\n",
      "[375, 379]\n"
     ]
    }
   ],
   "source": [
    "# list = [[375,379,46],[367,336,37],[357,362,41],[1,2,3],[4,5,6]]\n",
    "list = [[375,379,46],[367,336,37],[357,362,41]]\n",
    "# list = [[375,379,46],[367,336,37]]\n",
    "observed_frequencies = []\n",
    "[observed_frequencies.extend(item) for item in list]\n",
    "print(f'observed_frequencies = {observed_frequencies}')\n",
    "\n",
    "column_total = [sum(item) for item in list]\n",
    "print(f'column_total = {column_total}')\n",
    "\n",
    "# print(list[0][0])\n",
    "# print(list[1][0])\n",
    "# print(list[2][0])\n",
    "# print(list[3][0])\n",
    "# print(list[4][0])\n",
    "# print('+++++')\n",
    "# print(list[0][1])\n",
    "# print(list[1][1])\n",
    "# print(list[2][1])\n",
    "# print(list[3][1])\n",
    "# print(list[4][1])\n",
    "# print('+++++')\n",
    "# print(list[0][2])\n",
    "# print(list[1][2])\n",
    "# print(list[2][2])\n",
    "# print(list[3][2])\n",
    "# print(list[4][2])\n",
    "# print('+++++')\n",
    "# print(len(list))\n",
    "# print(len(list[0]))\n",
    "\n",
    "new_list = [list[i][j] for j in range(len(list[0])) for i in range(len(list))]\n",
    "new_list\n",
    "\n",
    "print(observed_frequencies[0:2])"
   ]
  },
  {
   "cell_type": "code",
   "execution_count": 59,
   "id": "4d2a9bac-1443-4cec-be1e-92fd04b89eb2",
   "metadata": {},
   "outputs": [
    {
     "name": "stdout",
     "output_type": "stream",
     "text": [
      "new_list = [375, 367, 357, 379, 336, 362, 46, 37, 41]\n",
      "row_total = [1099, 1077, 124]\n",
      "column_total = [800, 740, 760]\n",
      "grand_total = 2300\n",
      "3 3\n",
      "df = 4\n",
      "chi_crit = 9.488\n",
      "observed_frequencies = [375, 379, 46, 367, 336, 37, 357, 362, 41]\n",
      "expected_frequencies = [382.261, 374.609, 43.13, 353.591, 346.513, 39.896, 363.148, 355.878, 40.974]\n",
      "observed_chi_square = 1.627\n",
      "At 0.05 significance level, the observed value of Chi Square = 1.627 LESS than the critical value = 9.488. We will retain the Null Hypothesis\n"
     ]
    }
   ],
   "source": [
    "# list = [[375,379,46],[367,336,37]]\n",
    "# list = [[375,379,46],[367,336,37],[357,362,41]]\n",
    "# list = [[375,379,46],[367,336,37],[357,362,41],[1,2,3],[4,5,6]]\n",
    "\n",
    "# print(list[0][0])\n",
    "# print(list[1][0])\n",
    "# print(list[2][0])\n",
    "# print('+++++')\n",
    "# print(list[0][1])\n",
    "# print(list[1][1])\n",
    "# print(list[2][1])\n",
    "# print('+++++')\n",
    "# print(list[0][2])\n",
    "# print(list[1][2])\n",
    "# print(list[2][2])\n",
    "# print('+++++')\n",
    "# print(list[0][3])\n",
    "# print(list[1][3])\n",
    "# print(list[2][3])\n",
    "\n",
    "# for i in range(len(list[0])):\n",
    "#     # print(i)\n",
    "#     for j in range(len(list)):\n",
    "#         print(j,i)\n",
    "#         # print(list[j][i])\n",
    "#     print('+++++')\n",
    "\n",
    "# new_list = [list[j][i] for i in range(len(list[0])) for j in range(len(list))]\n",
    "# print(f'new_list = {new_list}')\n",
    "# list = [[375,379,46],[367,336,37],[357,362,41],[1,2,3],[4,5,6]]\n",
    "\n",
    "def list_chi(list,alpha):\n",
    "    from scipy.stats import chi2\n",
    "    new_list = [list[j][i] for i in range(len(list[0])) for j in range(len(list))]\n",
    "    print(f'new_list = {new_list}')\n",
    "\n",
    "    # print(new_list[0:2])\n",
    "    # print(new_list[2:4])\n",
    "    # print(new_list[4:6])\n",
    "\n",
    "    # for i in range(0,len(new_list),len(list)):\n",
    "    #     print(i,i+len(list))\n",
    "\n",
    "    row_total = [sum(new_list[i:i+len(list)]) for i in range(0,len(new_list),len(list))]\n",
    "    print(f'row_total = {row_total}')\n",
    "\n",
    "    observed_frequencies = []\n",
    "    [observed_frequencies.extend(item) for item in list]\n",
    "    \n",
    "\n",
    "    column_total = [sum(item) for item in list]\n",
    "    print(f'column_total = {column_total}')\n",
    "\n",
    "    grand_total = sum(row_total)\n",
    "    print(f'grand_total = {grand_total}')\n",
    "\n",
    "    # for i in range(len(column_total)):\n",
    "    #     for j in range(len(row_total)):\n",
    "    #         print(row_total[j],column_total[i],grand_total)\n",
    "\n",
    "    # expected_frequencies = [(row_total[j],column_total[i],grand_total) for i in range(len(column_total)) for j in range(len(row_total))]\n",
    "    # print(expected_frequencies)\n",
    "\n",
    "    print(len(column_total),len(row_total))\n",
    "    df = (len(column_total)-1)*(len(row_total)-1)\n",
    "    print(f'df = {df}')\n",
    "\n",
    "    chi_crit = round(chi2.ppf(1-alpha,df),3)\n",
    "    print(f'chi_crit = {chi_crit}')\n",
    "    \n",
    "    expected_frequencies = [round((row_total[j]*column_total[i])/grand_total,3) for i in range(len(column_total)) for j in range(len(row_total))]\n",
    "    print(f'observed_frequencies = {observed_frequencies}')\n",
    "    print(f'expected_frequencies = {expected_frequencies}')\n",
    "\n",
    "    # for i in range(len(expected_frequencies)):\n",
    "    #     print(observed_frequencies[i],expected_frequencies[i])\n",
    "\n",
    "    observed_chi_square = sum([round((observed_frequencies[i]-expected_frequencies[i])**2/expected_frequencies[i],3) for i in range(len(expected_frequencies))])\n",
    "    print(f'observed_chi_square = {observed_chi_square}')\n",
    "\n",
    "    if observed_chi_square > chi_crit:\n",
    "        print(f'At {alpha} significance level, the observed value of Chi Square = {observed_chi_square} is GREATER than the critical value = {chi_crit}. We will reject the Null Hypothesis')\n",
    "    else:\n",
    "        print(f'At {alpha} significance level, the observed value of Chi Square = {observed_chi_square} LESS than the critical value = {chi_crit}. We will retain the Null Hypothesis')\n",
    "\n",
    "# list_chi([[375,379,46],[367,336,37]],0.05)\n",
    "list_chi([[375,379,46],[367,336,37],[357,362,41]],0.05)\n",
    "# list_chi([[375,379,46],[367,336,37],[357,362,41],[1,2,3],[4,5,6]],0.05)\n",
    "# list_chi([[38,44],[38,41],[20,10],[4,5]],0.05)"
   ]
  },
  {
   "cell_type": "markdown",
   "id": "d6d328f2-4283-4dc9-a707-6c42d763cc8a",
   "metadata": {},
   "source": [
    "\\begin{array}{ccc}\n",
    "\\text{Frequency} & \\text{O} & \\text{A} & \\text{B} & \\text{AB} & \\text{Total}\\\\\n",
    "\\hline\n",
    "Obs & 38 & 38 & 20 & 4 & 100\\\\\n",
    "Exp & 44 & 41 & 10 & 5 & 100\\\\\n",
    "Total & 82 & 79 & 30 & 9 & 200\\\\ \n",
    "\\end{array}"
   ]
  },
  {
   "cell_type": "code",
   "execution_count": 58,
   "id": "18d6e00c-5068-4c38-9e26-a2efeaf1db2e",
   "metadata": {},
   "outputs": [
    {
     "name": "stdout",
     "output_type": "stream",
     "text": [
      "Chi-square statistic: 1.627317979858516\n",
      "Degrees of freedom: 4\n",
      "P-value: 0.8038740761132241\n",
      "Expected frequencies:\n",
      "[[382.26086957 353.59130435 363.14782609]\n",
      " [374.60869565 346.51304348 355.87826087]\n",
      " [ 43.13043478  39.89565217  40.97391304]]\n",
      "Critical value of chi-square at 0.05 significance level: 9.487729036781154\n"
     ]
    }
   ],
   "source": [
    "from scipy.stats import chi2_contingency\n",
    "\n",
    "# Observed frequencies\n",
    "red = [375, 367, 357]\n",
    "black = [379, 336, 362]\n",
    "green = [46, 37, 41]\n",
    "\n",
    "# Combine the observed frequencies into a contingency table\n",
    "observed = [red, black, green]\n",
    "\n",
    "# Perform chi-square test\n",
    "chi2_stat, p_val, dof, expected = chi2_contingency(observed)\n",
    "\n",
    "print(\"Chi-square statistic:\", chi2_stat)\n",
    "print(\"Degrees of freedom:\", dof)\n",
    "print(\"P-value:\", p_val)\n",
    "print(\"Expected frequencies:\")\n",
    "print(expected)\n",
    "\n",
    "# Compute critical value of chi-square at significance level of 0.05\n",
    "alpha = 0.05\n",
    "critical_value = chi2.ppf(1 - alpha, dof)\n",
    "print(\"Critical value of chi-square at 0.05 significance level:\", critical_value)"
   ]
  },
  {
   "cell_type": "code",
   "execution_count": 72,
   "id": "67bd13c5-eb99-4fe6-8c69-0a6a4462163f",
   "metadata": {},
   "outputs": [
    {
     "name": "stdout",
     "output_type": "stream",
     "text": [
      "observed_chi_square = 11.238\n",
      "chi_crit = 7.815\n",
      "observed_chi_square = 11.238 is GREATER than the critical value = 7.815. We will REJECT the Null Hypothesis\n"
     ]
    }
   ],
   "source": [
    "observed = [38,38,20,4]\n",
    "expected = [44,41,10,5]\n",
    "significance = 0.05\n",
    "\n",
    "def chi_square_observed_expected(observed_frequencies,expected_frequencies,alpha):\n",
    "    from scipy.stats import chi2\n",
    "    \n",
    "    observed_chi_square = sum([round((observed_frequencies[i]-expected_frequencies[i])**2/expected_frequencies[i],3) for i in range(len(expected_frequencies))])\n",
    "    print(f'observed_chi_square = {observed_chi_square}')\n",
    "\n",
    "    df = len(observed_frequencies)-1\n",
    "\n",
    "    chi_crit = round(chi2.ppf(1-alpha,df),3)\n",
    "    print(f'chi_crit = {chi_crit}')\n",
    "\n",
    "    if observed_chi_square > chi_crit:\n",
    "        print(f'observed_chi_square = {observed_chi_square} is GREATER than the critical value = {chi_crit}. We will REJECT the Null Hypothesis')\n",
    "    else:\n",
    "        print(f'observed_chi_square = {observed_chi_square} is LESS than the critical value = {chi_crit}. We will RETAIN the Null Hypothesis')\n",
    "chi_square_observed_expected(observed,expected,significance)"
   ]
  }
 ],
 "metadata": {
  "kernelspec": {
   "display_name": "Python 3 (ipykernel)",
   "language": "python",
   "name": "python3"
  },
  "language_info": {
   "codemirror_mode": {
    "name": "ipython",
    "version": 3
   },
   "file_extension": ".py",
   "mimetype": "text/x-python",
   "name": "python",
   "nbconvert_exporter": "python",
   "pygments_lexer": "ipython3",
   "version": "3.10.12"
  }
 },
 "nbformat": 4,
 "nbformat_minor": 5
}
