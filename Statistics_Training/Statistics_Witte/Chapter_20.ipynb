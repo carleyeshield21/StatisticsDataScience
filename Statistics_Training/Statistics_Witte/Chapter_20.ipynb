{
 "cells": [
  {
   "cell_type": "code",
   "execution_count": 1,
   "id": "2e432cec-4635-4197-b66d-e79bbe66c53f",
   "metadata": {},
   "outputs": [
    {
     "data": {
      "image/png": "[encoded data removed]",
      "text/plain": [
       "<Figure size 640x480 with 1 Axes>"
      ]
     },
     "metadata": {},
     "output_type": "display_data"
    }
   ],
   "source": [
    "# X1 = [12,5,11,11,9,18]\n",
    "# X2 = [7,3,4,6,3,13]\n",
    "import matplotlib.pyplot as plt\n",
    "\n",
    "TV_FAVORABLE = [12,4,5,20,5,5,20,10,49]\n",
    "TV_UNFAVORABLE = [43,14,42,1,2,0,1,0,0]\n",
    "\n",
    "# Create multiple histograms\n",
    "plt.hist(TV_FAVORABLE, alpha=0.5, label='Data 1')\n",
    "plt.hist(TV_UNFAVORABLE, alpha=0.5, label='Data 2')\n",
    "\n",
    "# Add labels and title\n",
    "plt.xlabel('Value')\n",
    "plt.ylabel('Frequency')\n",
    "plt.title('Multiple Histograms')\n",
    "\n",
    "# Add legend\n",
    "plt.legend()\n",
    "\n",
    "# Show the plot\n",
    "plt.show()"
   ]
  },
  {
   "cell_type": "code",
   "execution_count": 1,
   "id": "9e5482ed-4078-4d2f-ba9f-36c65c5a732e",
   "metadata": {},
   "outputs": [
    {
     "name": "stdout",
     "output_type": "stream",
     "text": [
      "F-Statistic: 2.0\n",
      "P-value: 0.177978515625\n"
     ]
    }
   ],
   "source": [
    "from scipy.stats import f_oneway\n",
    "\n",
    "# Assuming you have data for each group in a list or array format\n",
    "group1_data = [1, 2, 3, 4, 5]\n",
    "group2_data = [2, 3, 4, 5, 6]\n",
    "group3_data = [3, 4, 5, 6, 7]\n",
    "\n",
    "# Perform one-way ANOVA test\n",
    "f_statistic, p_value = f_oneway(group1_data, group2_data, group3_data)\n",
    "\n",
    "print(\"F-Statistic:\", f_statistic)\n",
    "print(\"P-value:\", p_value)"
   ]
  },
  {
   "cell_type": "code",
   "execution_count": 13,
   "id": "f3910043-304f-44fd-a97b-6280bc85148f",
   "metadata": {},
   "outputs": [
    {
     "name": "stdout",
     "output_type": "stream",
     "text": [
      "N = 15\n",
      "n = 5\n",
      "k = 3\n",
      "df_between = 2\n",
      "df_within = 12\n",
      "G = 60\n",
      "SS_between = 10.0\n",
      "SS_within = 30.0\n",
      "SS_total = 40.0\n",
      "accuracy_check = True\n",
      "MS_within = 2.5\n",
      "MS_between = 5.0\n",
      "SS_total = 40.0\n",
      "F_critical_value = 3.885\n",
      "F_observed = 2.0\n",
      "proportion_of_explained_variance = 0.25\n",
      "q = 3.771\n",
      "Tukeys_HSD_test = 2.666\n",
      "means = [3, 4, 5]\n",
      "Cohens_d = 1.265\n",
      "SS_between_raw = [45.0, 80.0, 125.0]\n",
      "2.0 0.177978515625\n",
      "[[1, 2, 3, 4, 5], [2, 3, 4, 5, 6], [3, 4, 5, 6, 7]]\n"
     ]
    },
    {
     "data": {
      "text/plain": [
       "[10.0, 40.0]"
      ]
     },
     "execution_count": 13,
     "metadata": {},
     "output_type": "execute_result"
    }
   ],
   "source": [
    "# Function for SS_terms_prog: Progress Check *16.5\n",
    "def Anova(sample_data,alpha):\n",
    "    from scipy.stats import f\n",
    "    import statistics\n",
    "    from statsmodels.stats.libqsturng import qsturng\n",
    "    from scipy.stats import f_oneway\n",
    "\n",
    "    N = 0\n",
    "    k = len(sample_data)\n",
    "    for s in sample_data:\n",
    "        N += len(s)\n",
    "        n = len(s)\n",
    "    print(f'N = {N}\\nn = {n}\\nk = {k}')\n",
    "    \n",
    "    df_between = k-1\n",
    "    df_within = N-k\n",
    "    print(f'df_between = {df_between}\\ndf_within = {df_within}')\n",
    "\n",
    "    squares = []\n",
    "    G_raw = []\n",
    "    SS_between_raw = []\n",
    "    for s in sample_data:\n",
    "        G_raw.append(sum(s))\n",
    "        SS_between_raw.append((sum(s)**2)/n)\n",
    "\n",
    "        for item in s:\n",
    "            squares.append(item**2)\n",
    "        \n",
    "    G = sum(G_raw)\n",
    "    print(f'G = {G}')\n",
    "\n",
    "    SS_between = round(sum(SS_between_raw) - (G**2/N),3)\n",
    "    print(f'SS_between = {SS_between}')\n",
    "\n",
    "    sum_of_squares = sum(squares)\n",
    "\n",
    "    SS_within = round(sum_of_squares - sum(SS_between_raw),3)\n",
    "    print(f'SS_within = {SS_within}')\n",
    "\n",
    "    SS_total = sum_of_squares - (G**2/N)\n",
    "    print(f'SS_total = {SS_total}')\n",
    "\n",
    "    accuracy_check = (SS_between + SS_within) == SS_total\n",
    "    print(f'accuracy_check = {accuracy_check}')\n",
    "\n",
    "    MS_within = round(SS_within/df_within,3)\n",
    "    print(f'MS_within = {MS_within}')\n",
    "\n",
    "    MS_between = round(SS_between/df_between,3)\n",
    "    print(f'MS_between = {MS_between}')\n",
    "\n",
    "    SS_total = SS_within + SS_between\n",
    "    print(f'SS_total = {SS_total}')\n",
    "\n",
    "    F_critical_value = round(f.ppf(1 - alpha, df_between, df_within),3)\n",
    "    print(f'F_critical_value = {F_critical_value}')\n",
    "\n",
    "    F_observed = round(MS_between/MS_within,3)\n",
    "    print(f'F_observed = {F_observed}')\n",
    "\n",
    "    proportion_of_explained_variance = round(SS_between/SS_total,3)\n",
    "    print(f'proportion_of_explained_variance = {proportion_of_explained_variance}')\n",
    "\n",
    "    q = round(qsturng(1-alpha, k, df_within),3)\n",
    "    print(f'q = {q}')\n",
    "\n",
    "    Tukeys_HSD_test = round(q*((MS_within/n)**0.5),3)\n",
    "    print(f'Tukeys_HSD_test = {Tukeys_HSD_test}')\n",
    "\n",
    "    means = [round(statistics.mean(data),3) for data in sample_data]\n",
    "    print(f'means = {means}')\n",
    "\n",
    "    max_mean = max(means)\n",
    "    min_mean = min(means)\n",
    "    \n",
    "    Cohens_d = round((max_mean-min_mean)/MS_within**0.5,3)\n",
    "    print(f'Cohens_d = {Cohens_d}')\n",
    "\n",
    "    print(f'SS_between_raw = {SS_between_raw}')\n",
    "\n",
    "    f_statistic, p_value = f_oneway([1, 2, 3, 4, 5], [2, 3, 4, 5, 6], [3, 4, 5, 6, 7])\n",
    "    print(f_statistic, p_value)\n",
    "\n",
    "    print(list(sample_data))\n",
    "\n",
    "    return [SS_between,SS_total]\n",
    "\n",
    "group1_data = [1, 2, 3, 4, 5]\n",
    "group2_data = [2, 3, 4, 5, 6]\n",
    "group3_data = [3, 4, 5, 6, 7]\n",
    "data_group = group1_data,group2_data,group3_data\n",
    "Anova(data_group,0.05)"
   ]
  },
  {
   "cell_type": "code",
   "execution_count": 25,
   "id": "e1eb546c-0fbd-477c-b05e-46e203d158f7",
   "metadata": {},
   "outputs": [
    {
     "name": "stdout",
     "output_type": "stream",
     "text": [
      "p_value = 0.03611652007972388\n",
      "p_value = 0.005179692941834957\n"
     ]
    }
   ],
   "source": [
    "# from scipy.stats import f\n",
    "\n",
    "# def compute_p_value(observed_f_value, df_between, df_within):\n",
    "#     p_value = 1 - f.cdf(observed_f_value, df_between, df_within)\n",
    "#     return p_value\n",
    "\n",
    "# # Example usage:\n",
    "# observed_f_value = 5.0  # Example observed F-value\n",
    "# df_between = 2  # Degrees of freedom between groups\n",
    "# df_within = 20  # Degrees of freedom within groups\n",
    "\n",
    "# p_value = compute_p_value(observed_f_value, df_between, df_within)\n",
    "# print(\"P-value:\", p_value)\n",
    "\n",
    "F_observed = 4.56\n",
    "df_between = 2 #numerator\n",
    "df_within = 11 #denominator\n",
    "# p_value = 1 - f.cdf(F_observed, df_between, df_within)\n",
    "# print(p_value)\n",
    "# print(p_value < 0.05)\n",
    "\n",
    "F = 11.25\n",
    "n = 1\n",
    "d = 13\n",
    "def p_value_computation(F_observed,df_between,df_within):\n",
    "    from scipy.stats import f\n",
    "    p_value = 1 - f.cdf(F_observed, df_between, df_within)\n",
    "    print(f'p_value = {p_value}')\n",
    "\n",
    "p_value_computation(F_observed,df_between,df_within)\n",
    "p_value_computation(F,n,d)"
   ]
  }
 ],
 "metadata": {
  "kernelspec": {
   "display_name": "Python 3 (ipykernel)",
   "language": "python",
   "name": "python3"
  },
  "language_info": {
   "codemirror_mode": {
    "name": "ipython",
    "version": 3
   },
   "file_extension": ".py",
   "mimetype": "text/x-python",
   "name": "python",
   "nbconvert_exporter": "python",
   "pygments_lexer": "ipython3",
   "version": "3.10.12"
  }
 },
 "nbformat": 4,
 "nbformat_minor": 5
}
