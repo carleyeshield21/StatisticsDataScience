{
 "cells": [
  {
   "cell_type": "code",
   "execution_count": 1,
   "id": "cc2b41c9-ba67-4d53-acda-24368f33aad9",
   "metadata": {},
   "outputs": [],
   "source": [
    "TV_FAVORABLE = [12,4,5,20,5,5,20,10,49]\n",
    "TV_UNFAVORABLE = [43,14,42,1,2,0,1,0,0]"
   ]
  }
 ],
 "metadata": {
  "kernelspec": {
   "display_name": "Python 3 (ipykernel)",
   "language": "python",
   "name": "python3"
  },
  "language_info": {
   "codemirror_mode": {
    "name": "ipython",
    "version": 3
   },
   "file_extension": ".py",
   "mimetype": "text/x-python",
   "name": "python",
   "nbconvert_exporter": "python",
   "pygments_lexer": "ipython3",
   "version": "3.10.12"
  }
 },
 "nbformat": 4,
 "nbformat_minor": 5
}
