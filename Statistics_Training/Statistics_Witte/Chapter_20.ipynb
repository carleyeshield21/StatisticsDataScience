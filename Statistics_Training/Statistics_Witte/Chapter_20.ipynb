{
 "cells": [
  {
   "cell_type": "code",
   "execution_count": 14,
   "id": "cc2b41c9-ba67-4d53-acda-24368f33aad9",
   "metadata": {},
   "outputs": [
    {
     "data": {
      "image/png": "[encoded data removed]",
      "text/plain": [
       "<Figure size 640x480 with 1 Axes>"
      ]
     },
     "metadata": {},
     "output_type": "display_data"
    }
   ],
   "source": [
    "import matplotlib.pyplot as plt\n",
    "\n",
    "# TV_FAVORABLE = [12,4,5,20,5,5,20,10,49]\n",
    "# TV_UNFAVORABLE = [43,14,42,1,2,0,1,0,0]\n",
    "\n",
    "\n",
    "data = [X1,X2]\n",
    "plt.boxplot(data)\n",
    "plt.show()"
   ]
  },
  {
   "cell_type": "code",
   "execution_count": 18,
   "id": "2e432cec-4635-4197-b66d-e79bbe66c53f",
   "metadata": {},
   "outputs": [
    {
     "data": {
      "image/png": "[encoded data removed]",
      "text/plain": [
       "<Figure size 640x480 with 1 Axes>"
      ]
     },
     "metadata": {},
     "output_type": "display_data"
    }
   ],
   "source": [
    "\n",
    "# X1 = [12,5,11,11,9,18]\n",
    "# X2 = [7,3,4,6,3,13]\n",
    "import matplotlib.pyplot as plt\n",
    "\n",
    "TV_FAVORABLE = [12,4,5,20,5,5,20,10,49]\n",
    "TV_UNFAVORABLE = [43,14,42,1,2,0,1,0,0]\n",
    "\n",
    "# Create multiple histograms\n",
    "plt.hist(TV_FAVORABLE, alpha=0.5, label='Data 1')\n",
    "plt.hist(TV_UNFAVORABLE, alpha=0.5, label='Data 2')\n",
    "\n",
    "# Add labels and title\n",
    "plt.xlabel('Value')\n",
    "plt.ylabel('Frequency')\n",
    "plt.title('Multiple Histograms')\n",
    "\n",
    "# Add legend\n",
    "plt.legend()\n",
    "\n",
    "# Show the plot\n",
    "plt.show()\n"
   ]
  },
  {
   "cell_type": "code",
   "execution_count": 23,
   "id": "6ce31eab-e4e4-4022-bc3c-97bc0707b194",
   "metadata": {},
   "outputs": [
    {
     "name": "stdout",
     "output_type": "stream",
     "text": [
      "p-value: 0.013126458278088813\n",
      "True\n"
     ]
    }
   ],
   "source": [
    "from scipy.stats import t\n",
    "\n",
    "# Degrees of freedom\n",
    "df = 19\n",
    "\n",
    "# Critical value of t (lower tail)\n",
    "t_critical = -2.41\n",
    "\n",
    "# Calculate the p-value for the lower tail\n",
    "p_value = t.sf(abs(t_critical), df)\n",
    "\n",
    "print(\"p-value:\", p_value)\n",
    "print(p_value < 0.05)"
   ]
  },
  {
   "cell_type": "code",
   "execution_count": 21,
   "id": "45695aaf-525d-4774-8966-daca28e6f99e",
   "metadata": {},
   "outputs": [
    {
     "name": "stdout",
     "output_type": "stream",
     "text": [
      "0.9868735417219112\n",
      "p-value: 1.9737470834438224\n",
      "False\n"
     ]
    }
   ],
   "source": [
    "from scipy.stats import t\n",
    "\n",
    "# Degrees of freedom\n",
    "df = 19\n",
    "\n",
    "# Critical value of t (lower tail)\n",
    "t_critical = -2.41\n",
    "\n",
    "# Calculate the p-value for the lower tail\n",
    "p_value_lower = t.sf(abs(t_critical), df)\n",
    "print(p_value_lower)\n",
    "# For a two-tailed test, we need to consider both tails\n",
    "p_value = 2 * p_value_lower\n",
    "\n",
    "print(\"p-value:\", p_value)\n",
    "print(p_value < 0.05)"
   ]
  },
  {
   "cell_type": "code",
   "execution_count": 25,
   "id": "5cdc54e5-9c97-4dee-8fb0-e4c362e34b42",
   "metadata": {},
   "outputs": [
    {
     "name": "stdout",
     "output_type": "stream",
     "text": [
      "0.0009459206654210119\n",
      "p-value: 0.0018918413308420237\n",
      "True\n"
     ]
    }
   ],
   "source": [
    "# two-tailed test; df = 15; t = 3.76\n",
    "from scipy.stats import t\n",
    "\n",
    "# Degrees of freedom\n",
    "df = 15\n",
    "\n",
    "# Critical value of t (lower tail)\n",
    "t_critical = 3.76\n",
    "\n",
    "# Calculate the p-value for the lower tail\n",
    "p_value_lower = t.sf(abs(t_critical), df)\n",
    "print(p_value_lower)\n",
    "# For a two-tailed test, we need to consider both tails\n",
    "p_value = 2 * p_value_lower\n",
    "\n",
    "print(\"p-value:\", p_value)\n",
    "print(p_value < 0.01)"
   ]
  },
  {
   "cell_type": "code",
   "execution_count": 26,
   "id": "2d5c8fc0-1f74-4607-8268-ba5933fa074f",
   "metadata": {},
   "outputs": [
    {
     "name": "stdout",
     "output_type": "stream",
     "text": [
      "0.09949885047325838\n",
      "p-value: 0.19899770094651675\n",
      "True\n"
     ]
    }
   ],
   "source": [
    "# two-tailed test; df = 42; t = 1.305 Answer: p > 0.05\n",
    "from scipy.stats import t\n",
    "\n",
    "# Degrees of freedom\n",
    "df = 42\n",
    "\n",
    "# Critical value of t (lower tail)\n",
    "t_critical = 1.305\n",
    "\n",
    "# Calculate the p-value for the lower tail\n",
    "p_value_lower = t.sf(abs(t_critical), df)\n",
    "print(p_value_lower)\n",
    "# For a two-tailed test, we need to consider both tails\n",
    "p_value = 2 * p_value_lower\n",
    "\n",
    "print(\"p-value:\", p_value)\n",
    "print(p_value > 0.05)"
   ]
  },
  {
   "cell_type": "code",
   "execution_count": 28,
   "id": "67af5eec-d9c5-464e-bfa3-e912547bdb43",
   "metadata": {},
   "outputs": [
    {
     "name": "stdout",
     "output_type": "stream",
     "text": [
      "0.0007062088045328862\n",
      "p-value: 0.0014124176090657724\n",
      "False\n"
     ]
    }
   ],
   "source": [
    "# one-tailed test, upper tail critical; df = 11; t = –4.23 (Be careful!) Answer: p > 0.05\n",
    "from scipy.stats import t\n",
    "\n",
    "# Degrees of freedom\n",
    "df = 11\n",
    "\n",
    "# Critical value of t (lower tail)\n",
    "t_critical = -4.23\n",
    "\n",
    "# Calculate the p-value for the lower tail\n",
    "p_value_lower = t.sf(abs(t_critical), df)\n",
    "print(p_value_lower)\n",
    "# For a two-tailed test, we need to consider both tails\n",
    "p_value = 2 * p_value_lower\n",
    "\n",
    "print(\"p-value:\", p_value)\n",
    "print(p_value > 0.05)"
   ]
  },
  {
   "cell_type": "code",
   "execution_count": 30,
   "id": "c76b3625-532f-4e99-a1d3-210b9332ada9",
   "metadata": {},
   "outputs": [
    {
     "name": "stdout",
     "output_type": "stream",
     "text": [
      "p-value: 0.0007062088045328862\n",
      "False\n"
     ]
    }
   ],
   "source": [
    "from scipy.stats import t\n",
    "\n",
    "# Degrees of freedom\n",
    "df = 11\n",
    "\n",
    "# Critical value of t (upper tail)\n",
    "t_critical = -4.23\n",
    "\n",
    "# Calculate the p-value for the upper tail\n",
    "p_value = t.sf(abs(t_critical), df)\n",
    "\n",
    "print(\"p-value:\", p_value)\n",
    "print(p_value > 0.05)"
   ]
  },
  {
   "cell_type": "code",
   "execution_count": 31,
   "id": "57e0fd98-c902-4812-b91c-c3213b684162",
   "metadata": {},
   "outputs": [
    {
     "name": "stdout",
     "output_type": "stream",
     "text": [
      "Observed t-statistic: 0.6632166866334747\n",
      "Critical value of t: 2.2281388519649385\n",
      "p-value: 0.5221856962852363\n"
     ]
    }
   ],
   "source": [
    "from scipy.stats import t\n",
    "import numpy as np\n",
    "\n",
    "# Sample data\n",
    "COMMITTEE = [2, 5, 20, 15, 4, 10]\n",
    "SOLITARY = [3, 8, 7, 10, 14, 0]\n",
    "\n",
    "# Hypothesized mean\n",
    "hypothesized_mean = 0\n",
    "\n",
    "# Calculate sample statistics\n",
    "mean_committee = np.mean(COMMITTEE)\n",
    "mean_solitary = np.mean(SOLITARY)\n",
    "std_committee = np.std(COMMITTEE, ddof=1)\n",
    "std_solitary = np.std(SOLITARY, ddof=1)\n",
    "n_committee = len(COMMITTEE)\n",
    "n_solitary = len(SOLITARY)\n",
    "\n",
    "# Calculate t-statistic\n",
    "t_statistic = (mean_committee - mean_solitary) / np.sqrt((std_committee**2 / n_committee) + (std_solitary**2 / n_solitary))\n",
    "\n",
    "# Degrees of freedom\n",
    "df = n_committee + n_solitary - 2\n",
    "\n",
    "# Calculate critical value of t for a two-tailed test\n",
    "alpha = 0.05\n",
    "critical_value = t.ppf(1 - alpha/2, df)\n",
    "\n",
    "# Calculate p-value\n",
    "p_value = 2 * (1 - t.cdf(abs(t_statistic), df))\n",
    "\n",
    "print(\"Observed t-statistic:\", t_statistic)\n",
    "print(\"Critical value of t:\", critical_value)\n",
    "print(\"p-value:\", p_value)\n"
   ]
  },
  {
   "cell_type": "code",
   "execution_count": 34,
   "id": "6f9ae9d9-423b-4bf4-92cc-735cf5ea2bcb",
   "metadata": {},
   "outputs": [
    {
     "name": "stdout",
     "output_type": "stream",
     "text": [
      "Observed t-statistic: 0.6632166866334747\n",
      "Critical value of t: 1.8124611228107335\n",
      "p-value: 0.26109284814261813\n"
     ]
    }
   ],
   "source": [
    "from scipy.stats import t\n",
    "import numpy as np\n",
    "\n",
    "# Sample data\n",
    "COMMITTEE = [2, 5, 20, 15, 4, 10]\n",
    "SOLITARY = [3, 8, 7, 10, 14, 0]\n",
    "\n",
    "# Hypothesized mean\n",
    "hypothesized_mean = 0\n",
    "\n",
    "# Calculate sample statistics\n",
    "mean_committee = np.mean(COMMITTEE)\n",
    "mean_solitary = np.mean(SOLITARY)\n",
    "std_committee = np.std(COMMITTEE, ddof=1)\n",
    "std_solitary = np.std(SOLITARY, ddof=1)\n",
    "n_committee = len(COMMITTEE)\n",
    "n_solitary = len(SOLITARY)\n",
    "\n",
    "# Calculate t-statistic\n",
    "t_statistic = (mean_committee - mean_solitary) / np.sqrt((std_committee**2 / n_committee) + (std_solitary**2 / n_solitary))\n",
    "\n",
    "# Degrees of freedom\n",
    "df = n_committee + n_solitary - 2\n",
    "\n",
    "# Calculate critical value of t for a one-tailed test\n",
    "alpha = 0.05\n",
    "critical_value = t.ppf(1 - alpha, df)\n",
    "\n",
    "# Calculate p-value for one-tailed test (upper tail)\n",
    "p_value = 1 - t.cdf(abs(t_statistic), df)\n",
    "# p_value = 2 * (1 - t.cdf(abs(t_statistic), df))\n",
    "print(\"Observed t-statistic:\", t_statistic)\n",
    "print(\"Critical value of t:\", critical_value)\n",
    "print(\"p-value:\", p_value)\n"
   ]
  },
  {
   "cell_type": "code",
   "execution_count": 36,
   "id": "14a82663-31d4-49de-ad0c-09318575b241",
   "metadata": {},
   "outputs": [
    {
     "name": "stdout",
     "output_type": "stream",
     "text": [
      "t_critical = 1.796\n"
     ]
    }
   ],
   "source": [
    "# one-tailed test, upper tail critical; df = 11; t = –4.23 (Be careful!)\n",
    "from scipy.stats import t\n",
    "alpha = 0.05\n",
    "df = 11\n",
    "tail = 1\n",
    "t_critical = round(t.ppf(1 - alpha/tail, df),3)\n",
    "print(f't_critical = {t_critical}')"
   ]
  },
  {
   "cell_type": "code",
   "execution_count": 40,
   "id": "42c57d7d-6790-4dc6-b723-c65f5fece0ac",
   "metadata": {},
   "outputs": [
    {
     "name": "stdout",
     "output_type": "stream",
     "text": [
      "5.177726800018752\n",
      "2.32379000772445\n",
      "Observed t-statistic: 2.151657414559676\n",
      "Critical value of t: 2.2281388519649385\n",
      "Confidence interval: (-0.1777268000187524, 10.177726800018753)\n"
     ]
    }
   ],
   "source": [
    "from scipy.stats import t\n",
    "import numpy as np\n",
    "\n",
    "# Sample data\n",
    "sample1 = [12, 5, 11, 11, 9, 18]\n",
    "sample2 = [7, 3, 4, 6, 3, 13]\n",
    "\n",
    "# Hypothesized mean\n",
    "hypothesized_mean = 0\n",
    "\n",
    "# Calculate sample statistics\n",
    "mean_sample1 = np.mean(sample1)\n",
    "mean_sample2 = np.mean(sample2)\n",
    "std_sample1 = np.std(sample1, ddof=1)\n",
    "std_sample2 = np.std(sample2, ddof=1)\n",
    "n_sample1 = len(sample1)\n",
    "n_sample2 = len(sample2)\n",
    "\n",
    "# Calculate t-statistic\n",
    "t_statistic = (mean_sample1 - mean_sample2) / np.sqrt((std_sample1**2 / n_sample1) + (std_sample2**2 / n_sample2))\n",
    "\n",
    "# Degrees of freedom\n",
    "df = n_sample1 + n_sample2 - 2\n",
    "\n",
    "# Calculate critical value of t for a two-tailed test\n",
    "alpha = 0.05\n",
    "critical_value = t.ppf(1 - alpha/2, df)\n",
    "\n",
    "# Calculate confidence intervals\n",
    "SE = np.sqrt((std_sample1**2 / n_sample1) + (std_sample2**2 / n_sample2))\n",
    "margin_of_error = critical_value * SE\n",
    "confidence_interval_lower = (mean_sample1 - mean_sample2) - margin_of_error\n",
    "confidence_interval_upper = (mean_sample1 - mean_sample2) + margin_of_error\n",
    "print(margin_of_error)\n",
    "print(SE)\n",
    "print(\"Observed t-statistic:\", t_statistic)\n",
    "print(\"Critical value of t:\", critical_value)\n",
    "print(\"Confidence interval:\", (confidence_interval_lower, confidence_interval_upper))"
   ]
  }
 ],
 "metadata": {
  "kernelspec": {
   "display_name": "Python 3 (ipykernel)",
   "language": "python",
   "name": "python3"
  },
  "language_info": {
   "codemirror_mode": {
    "name": "ipython",
    "version": 3
   },
   "file_extension": ".py",
   "mimetype": "text/x-python",
   "name": "python",
   "nbconvert_exporter": "python",
   "pygments_lexer": "ipython3",
   "version": "3.10.12"
  }
 },
 "nbformat": 4,
 "nbformat_minor": 5
}
