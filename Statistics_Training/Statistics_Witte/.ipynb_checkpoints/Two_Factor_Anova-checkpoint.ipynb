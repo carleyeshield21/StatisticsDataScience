{
 "cells": [
  {
   "cell_type": "code",
   "execution_count": 3,
   "id": "1595bf21-a524-4ce5-9546-af2c225badfe",
   "metadata": {},
   "outputs": [],
   "source": [
    "zero_zero_c = [6,4,5]\n",
    "zero_500_c = [5,3,3]\n",
    "zero_thousand_c = [4,2,3]\n",
    "zero_1500_c = [2,3,2]\n",
    "\n",
    "half_zero_c = [5,4,5]\n",
    "half_500_c = [4,3,2]\n",
    "half_thousand_c = [3,2,3]\n",
    "half_1500_c = [2,1,2]\n",
    "\n",
    "one_zero_c = [4,3,4]\n",
    "one_500_c = [4,2,3]\n",
    "one_thousand_c = [3,2,2]\n",
    "one_1500_c = [1,2,1]\n",
    "data = [zero_zero_c,zero_500_c,zero_thousand_c,zero_1500_c,half_zero_c,half_500_c,half_thousand_c,half_1500_c,one_zero_c,one_500_c,one_thousand_c,one_1500_c]\n",
    "rows = 3\n",
    "columns = 4\n",
    "num_of_items_in_list = 3"
   ]
  },
  {
   "cell_type": "code",
   "execution_count": 4,
   "id": "329eeaf8-84cf-47dd-9ecf-0ca55433d22b",
   "metadata": {},
   "outputs": [
    {
     "name": "stdout",
     "output_type": "stream",
     "text": [
      "data = [[6, 4, 5], [5, 3, 3], [4, 2, 3], [2, 3, 2], [5, 4, 5], [4, 3, 2], [3, 2, 3], [2, 1, 2], [4, 3, 4], [4, 2, 3], [3, 2, 2], [1, 2, 1]]\n",
      "0\n",
      "[6, 4, 5]\n",
      "[5, 3, 3]\n",
      "[4, 2, 3]\n",
      "[2, 3, 2]\n",
      "4\n",
      "[5, 4, 5]\n",
      "[5, 3, 3]\n",
      "[4, 2, 3]\n",
      "[2, 3, 2]\n",
      "8\n",
      "[4, 3, 4]\n",
      "[5, 3, 3]\n",
      "[4, 2, 3]\n",
      "[2, 3, 2]\n"
     ]
    }
   ],
   "source": [
    "def data_funk(your_data,rows,columns):\n",
    "    print(f'data = {your_data}')\n",
    "\n",
    "    for i in range(0,len(data),columns):\n",
    "        print(i)\n",
    "        print(your_data[i])\n",
    "        for j in range(1,columns):\n",
    "            # print(f'i={i},j={j}')\n",
    "            print(your_data[j])\n",
    "    \n",
    "    # print(data[0:4])\n",
    "    # print(data[4:8])\n",
    "    # print(data[8:12])\n",
    "    # print(data[12:16])\n",
    "data_funk(data,rows,columns)"
   ]
  },
  {
   "cell_type": "code",
   "execution_count": null,
   "id": "3d0638ba-40b9-4826-b329-68a99f20b194",
   "metadata": {},
   "outputs": [],
   "source": [
    "zero_zero_c = [6,4,5]\n",
    "zero_500_c = [5,3,3]\n",
    "zero_thousand_c = [4,2,3]\n",
    "zero_1500_c = [2,3,2]\n",
    "\n",
    "half_zero_c = [5,4,5]\n",
    "half_500_c = [4,3,2]\n",
    "half_thousand_c = [3,2,3]\n",
    "half_1500_c = [2,1,2]\n",
    "\n",
    "one_zero_c = [4,3,4]\n",
    "one_500_c = [4,2,3]\n",
    "one_thousand_c = [3,2,2]\n",
    "one_1500_c = [1,2,1]\n",
    "\n",
    "rows = 3\n",
    "columns = 4\n",
    "num_of_items_in_list = 3\n",
    "\n",
    "# data1 = zero_zero_c+zero_500_c+zero_thousand_c+zero_1500_c\n",
    "# data2 = half_zero_c+half_500_c+half_thousand_c+half_1500_c\n",
    "# data3 = one_zero_c+one_500_c+one_thousand_c+one_1500_c\n",
    "# print(f'data1 = {data1},{sum(data1)}')\n",
    "# print(f'data2 = {data2},{sum(data2)}')\n",
    "# print(f'data3 = {data3},{sum(data3)}')\n",
    "data = [zero_zero_c,zero_500_c,zero_thousand_c,zero_1500_c,half_zero_c,half_500_c,half_thousand_c,half_1500_c,one_zero_c,one_500_c,one_thousand_c,one_1500_c]\n",
    "# data = zero_zero_c+zero_500_c+zero_thousand_c+zero_1500_c+half_zero_c+half_500_c+half_thousand_c+half_1500_c+one_zero_c+one_500_c+one_thousand_c+one_1500_c\n",
    "print(type(data))\n",
    "print(data)"
   ]
  },
  {
   "cell_type": "code",
   "execution_count": null,
   "id": "58313276-b797-42ba-b3ac-9fd507959606",
   "metadata": {},
   "outputs": [],
   "source": [
    "print(data[0:3])\n",
    "print(data[3:6])\n",
    "print(data[6:9])\n",
    "print(data[9:12])\n",
    "print('=========')\n",
    "print(data[12:15])\n",
    "print(data[15:18])\n",
    "print(data[18:21])\n",
    "print(data[21:24])\n",
    "print('=========')\n",
    "print(data[24:27])\n",
    "print(data[27:30])\n",
    "print(data[30:33])\n",
    "print(data[33:36])"
   ]
  },
  {
   "cell_type": "code",
   "execution_count": 6,
   "id": "0da3501e-3609-4547-8bf3-a1586f198ca9",
   "metadata": {},
   "outputs": [
    {
     "name": "stdout",
     "output_type": "stream",
     "text": [
      "data = [[6, 4, 5, 3], [5, 3, 3, 6], [4, 2, 3, 8], [2, 3, 2, 2], [5, 4, 5, 4], [4, 3, 2, 3], [3, 2, 3, 4], [2, 1, 2, 1], [4, 3, 4, 2], [4, 2, 3, 1], [3, 2, 2, 5], [1, 2, 1, 3], [4, 3, 4, 2], [4, 2, 3, 1], [3, 2, 2, 5], [1, 2, 1, 3]]\n",
      "0\n",
      "[6, 4, 5, 3]\n",
      "[5, 3, 3, 6]\n",
      "[4, 2, 3, 8]\n",
      "3\n",
      "[2, 3, 2, 2]\n",
      "[5, 3, 3, 6]\n",
      "[4, 2, 3, 8]\n",
      "6\n",
      "[3, 2, 3, 4]\n",
      "[5, 3, 3, 6]\n",
      "[4, 2, 3, 8]\n",
      "9\n",
      "[4, 2, 3, 1]\n",
      "[5, 3, 3, 6]\n",
      "[4, 2, 3, 8]\n",
      "12\n",
      "[4, 3, 4, 2]\n",
      "[5, 3, 3, 6]\n",
      "[4, 2, 3, 8]\n",
      "15\n",
      "[1, 2, 1, 3]\n",
      "[5, 3, 3, 6]\n",
      "[4, 2, 3, 8]\n"
     ]
    }
   ],
   "source": [
    "a1 = [6,4,5,3]\n",
    "a2 = [5,3,3,6]\n",
    "a3 = [4,2,3,8]\n",
    "a4 = [2,3,2,2]\n",
    "\n",
    "b1 = [5,4,5,4]\n",
    "b2 = [4,3,2,3]\n",
    "b3 = [3,2,3,4]\n",
    "b4 = [2,1,2,1]\n",
    "\n",
    "c1 = [4,3,4,2]\n",
    "c2 = [4,2,3,1]\n",
    "c3 = [3,2,2,5]\n",
    "c4 = [1,2,1,3]\n",
    "\n",
    "d1 = [4,3,4,2]\n",
    "d2 = [4,2,3,1]\n",
    "d3 = [3,2,2,5]\n",
    "d4 = [1,2,1,3]\n",
    "\n",
    "rows = 4\n",
    "colums = 4\n",
    "num_of_items_in_list = 4\n",
    "data = [a1,a2,a3,a4,b1,b2,b3,b4,c1,c2,c3,c4,d1,d2,d3,d4]\n",
    "\n",
    "data_funk(data,rows,columns)"
   ]
  },
  {
   "cell_type": "code",
   "execution_count": 5,
   "id": "2537248d-1da9-4153-bccd-1dbe11d2343c",
   "metadata": {},
   "outputs": [
    {
     "name": "stdout",
     "output_type": "stream",
     "text": [
      "data = [[8, 8], [8, 6], [10, 8], [9, 11], [15, 19], [24, 18]]\n",
      "0\n",
      "[8, 8]\n",
      "[8, 6]\n",
      "[10, 8]\n",
      "3\n",
      "[9, 11]\n",
      "[8, 6]\n",
      "[10, 8]\n",
      "6\n"
     ]
    },
    {
     "ename": "IndexError",
     "evalue": "list index out of range",
     "output_type": "error",
     "traceback": [
      "\u001b[0;31m---------------------------------------------------------------------------\u001b[0m",
      "\u001b[0;31mIndexError\u001b[0m                                Traceback (most recent call last)",
      "Cell \u001b[0;32mIn[5], line 10\u001b[0m\n\u001b[1;32m      8\u001b[0m rows \u001b[38;5;241m=\u001b[39m \u001b[38;5;241m2\u001b[39m\n\u001b[1;32m      9\u001b[0m columns \u001b[38;5;241m=\u001b[39m \u001b[38;5;241m3\u001b[39m\n\u001b[0;32m---> 10\u001b[0m \u001b[43mdata_funk\u001b[49m\u001b[43m(\u001b[49m\u001b[43mdanger_data\u001b[49m\u001b[43m,\u001b[49m\u001b[38;5;241;43m2\u001b[39;49m\u001b[43m,\u001b[49m\u001b[38;5;241;43m3\u001b[39;49m\u001b[43m)\u001b[49m\n",
      "Cell \u001b[0;32mIn[4], line 6\u001b[0m, in \u001b[0;36mdata_funk\u001b[0;34m(your_data, rows, columns)\u001b[0m\n\u001b[1;32m      4\u001b[0m \u001b[38;5;28;01mfor\u001b[39;00m i \u001b[38;5;129;01min\u001b[39;00m \u001b[38;5;28mrange\u001b[39m(\u001b[38;5;241m0\u001b[39m,\u001b[38;5;28mlen\u001b[39m(data),columns):\n\u001b[1;32m      5\u001b[0m     \u001b[38;5;28mprint\u001b[39m(i)\n\u001b[0;32m----> 6\u001b[0m     \u001b[38;5;28mprint\u001b[39m(\u001b[43myour_data\u001b[49m\u001b[43m[\u001b[49m\u001b[43mi\u001b[49m\u001b[43m]\u001b[49m)\n\u001b[1;32m      7\u001b[0m     \u001b[38;5;28;01mfor\u001b[39;00m j \u001b[38;5;129;01min\u001b[39;00m \u001b[38;5;28mrange\u001b[39m(\u001b[38;5;241m1\u001b[39m,columns):\n\u001b[1;32m      8\u001b[0m         \u001b[38;5;66;03m# print(f'i={i},j={j}')\u001b[39;00m\n\u001b[1;32m      9\u001b[0m         \u001b[38;5;28mprint\u001b[39m(your_data[j])\n",
      "\u001b[0;31mIndexError\u001b[0m: list index out of range"
     ]
    }
   ],
   "source": [
    "danger_zero = [8,8]\n",
    "danger_two = [8,6]\n",
    "danger_four = [10,8]\n",
    "non_danger_zero = [9,11]\n",
    "non_danger_two = [15,19]\n",
    "non_danger_four = [24,18]\n",
    "danger_data = [danger_zero,danger_two,danger_four,non_danger_zero,non_danger_two,non_danger_four]\n",
    "rows = 2\n",
    "columns = 3\n",
    "data_funk(danger_data,2,3)"
   ]
  }
 ],
 "metadata": {
  "kernelspec": {
   "display_name": "Python 3 (ipykernel)",
   "language": "python",
   "name": "python3"
  },
  "language_info": {
   "codemirror_mode": {
    "name": "ipython",
    "version": 3
   },
   "file_extension": ".py",
   "mimetype": "text/x-python",
   "name": "python",
   "nbconvert_exporter": "python",
   "pygments_lexer": "ipython3",
   "version": "3.10.12"
  }
 },
 "nbformat": 4,
 "nbformat_minor": 5
}
