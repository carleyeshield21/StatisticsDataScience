{
 "cells": [
  {
   "cell_type": "code",
   "execution_count": 32,
   "id": "3d0638ba-40b9-4826-b329-68a99f20b194",
   "metadata": {},
   "outputs": [
    {
     "name": "stdout",
     "output_type": "stream",
     "text": [
      "data1 = [6, 4, 5, 5, 3, 3, 4, 2, 3, 2, 3, 2],42\n",
      "data2 = [5, 4, 5, 4, 3, 2, 3, 2, 3, 2, 1, 2],36\n",
      "data3 = [4, 3, 4, 4, 2, 3, 3, 2, 2, 1, 2, 1],31\n",
      "<class 'list'>\n",
      "[6, 4, 5, 5, 3, 3, 4, 2, 3, 2, 3, 2, 5, 4, 5, 4, 3, 2, 3, 2, 3, 2, 1, 2, 4, 3, 4, 4, 2, 3, 3, 2, 2, 1, 2, 1]\n"
     ]
    }
   ],
   "source": [
    "zero_zero_c = [6,4,5]\n",
    "zero_500_c = [5,3,3]\n",
    "zero_thousand_c = [4,2,3]\n",
    "zero_1500_c = [2,3,2]\n",
    "\n",
    "half_zero_c = [5,4,5]\n",
    "half_500_c = [4,3,2]\n",
    "half_thousand_c = [3,2,3]\n",
    "half_1500_c = [2,1,2]\n",
    "\n",
    "one_zero_c = [4,3,4]\n",
    "one_500_c = [4,2,3]\n",
    "one_thousand_c = [3,2,2]\n",
    "one_1500_c = [1,2,1]\n",
    "\n",
    "rows = 3\n",
    "colums = 4\n",
    "num_of_items_in_list = 3\n",
    "\n",
    "data1 = zero_zero_c+zero_500_c+zero_thousand_c+zero_1500_c\n",
    "data2 = half_zero_c+half_500_c+half_thousand_c+half_1500_c\n",
    "data3 = one_zero_c+one_500_c+one_thousand_c+one_1500_c\n",
    "print(f'data1 = {data1},{sum(data1)}')\n",
    "print(f'data2 = {data2},{sum(data2)}')\n",
    "print(f'data3 = {data3},{sum(data3)}')\n",
    "# data = [zero_zero_c,zero_500_c,zero_thousand_c,zero_1500_c,half_zero_c,half_500_c,half_thousand_c,half_1500_c,one_zero_c,one_500_c,one_thousand_c,one_1500_c]\n",
    "data = zero_zero_c+zero_500_c+zero_thousand_c+zero_1500_c+half_zero_c+half_500_c+half_thousand_c+half_1500_c+one_zero_c+one_500_c+one_thousand_c+one_1500_c\n",
    "print(type(data))\n",
    "print(data)"
   ]
  },
  {
   "cell_type": "code",
   "execution_count": 33,
   "id": "4a6ae9da-35d7-4c9e-a172-d41120a07c77",
   "metadata": {},
   "outputs": [
    {
     "name": "stdout",
     "output_type": "stream",
     "text": [
      "0 3\n",
      "3 6\n",
      "6 9\n",
      "9 12\n",
      "12 15\n",
      "15 18\n",
      "18 21\n",
      "21 24\n",
      "24 27\n",
      "27 30\n",
      "30 33\n",
      "33 36\n"
     ]
    }
   ],
   "source": [
    "for i in range(0,len(data),num_of_items_in_list):\n",
    "    print(i,i+num_of_items_in_list)"
   ]
  },
  {
   "cell_type": "code",
   "execution_count": 20,
   "id": "58313276-b797-42ba-b3ac-9fd507959606",
   "metadata": {},
   "outputs": [
    {
     "name": "stdout",
     "output_type": "stream",
     "text": [
      "[6, 4, 5]\n",
      "[5, 3, 3]\n",
      "[4, 2, 3]\n",
      "[2, 3, 2]\n",
      "=========\n",
      "[5, 4, 5]\n",
      "[4, 3, 2]\n",
      "[3, 2, 3]\n",
      "[2, 1, 2]\n",
      "=========\n",
      "[4, 3, 4]\n",
      "[4, 2, 3]\n",
      "[3, 2, 2]\n",
      "[1, 2, 1]\n"
     ]
    }
   ],
   "source": [
    "print(data[0:3])\n",
    "print(data[3:6])\n",
    "print(data[6:9])\n",
    "print(data[9:12])\n",
    "print('=========')\n",
    "print(data[12:15])\n",
    "print(data[15:18])\n",
    "print(data[18:21])\n",
    "print(data[21:24])\n",
    "print('=========')\n",
    "print(data[24:27])\n",
    "print(data[27:30])\n",
    "print(data[30:33])\n",
    "print(data[33:36])"
   ]
  }
 ],
 "metadata": {
  "kernelspec": {
   "display_name": "Python 3 (ipykernel)",
   "language": "python",
   "name": "python3"
  },
  "language_info": {
   "codemirror_mode": {
    "name": "ipython",
    "version": 3
   },
   "file_extension": ".py",
   "mimetype": "text/x-python",
   "name": "python",
   "nbconvert_exporter": "python",
   "pygments_lexer": "ipython3",
   "version": "3.10.12"
  }
 },
 "nbformat": 4,
 "nbformat_minor": 5
}
