{
 "cells": [
  {
   "cell_type": "code",
   "execution_count": 19,
   "id": "329eeaf8-84cf-47dd-9ecf-0ca55433d22b",
   "metadata": {},
   "outputs": [],
   "source": [
    "def data_rows(your_data,rows,columns):\n",
    "    print('ROWS')\n",
    "    print(f'data = {your_data}')\n",
    "    row_totals = []\n",
    "    for i in range(0,len(your_data),columns):\n",
    "        row_data = your_data[i:i+columns]\n",
    "        row_numbers = [num for sublist in row_data for num in sublist]\n",
    "        print(row_numbers)\n",
    "        row_totals.append(sum(row_numbers))\n",
    "        print('========')\n",
    "    print(f'row_totals = {row_totals}')\n",
    "    print('\\n')\n",
    "    print('COLUMNS')"
   ]
  },
  {
   "cell_type": "code",
   "execution_count": 21,
   "id": "07068913-d82d-4133-871b-33e2b332a9d8",
   "metadata": {},
   "outputs": [
    {
     "name": "stdout",
     "output_type": "stream",
     "text": [
      "ROWS\n",
      "data = [[8, 8], [8, 6], [10, 8], [9, 11], [15, 19], [24, 18]]\n",
      "[8, 8, 8, 6, 10, 8]\n",
      "========\n",
      "[9, 11, 15, 19, 24, 18]\n",
      "========\n",
      "row_totals = [48, 96]\n",
      "\n",
      "\n",
      "COLUMNS\n",
      "[[8, 8], [8, 6], [10, 8], [9, 11], [15, 19], [24, 18]]\n",
      "16\n",
      "20\n",
      "column_data_sum = 36\n",
      "=========\n",
      "14\n",
      "34\n",
      "column_data_sum = 48\n",
      "=========\n",
      "18\n",
      "42\n",
      "column_data_sum = 60\n",
      "=========\n",
      "column_data_final = [36, 48, 60]\n"
     ]
    }
   ],
   "source": [
    "danger_zero = [8,8]\n",
    "danger_two = [8,6]\n",
    "danger_four = [10,8]\n",
    "non_danger_zero = [9,11]\n",
    "non_danger_two = [15,19]\n",
    "non_danger_four = [24,18]\n",
    "danger_data = [danger_zero,danger_two,danger_four,non_danger_zero,non_danger_two,non_danger_four]\n",
    "rows3 = 2\n",
    "columns3 = 3\n",
    "data_rows(danger_data,rows3,columns3)\n",
    "data_columns(danger_data,rows3,columns3)"
   ]
  },
  {
   "cell_type": "code",
   "execution_count": 24,
   "id": "0f2e1ead-2bf6-404c-8775-70f0c6356387",
   "metadata": {},
   "outputs": [
    {
     "name": "stdout",
     "output_type": "stream",
     "text": [
      "[[0, 1, 0, 0], [1, 0, 1, 1], [3, 5, 6, 2], [6, 9, 6, 10]]\n",
      "1\n",
      "31\n",
      "column_data_sum = 32\n",
      "=========\n",
      "3\n"
     ]
    },
    {
     "ename": "IndexError",
     "evalue": "list index out of range",
     "output_type": "error",
     "traceback": [
      "\u001b[0;31m---------------------------------------------------------------------------\u001b[0m",
      "\u001b[0;31mIndexError\u001b[0m                                Traceback (most recent call last)",
      "Cell \u001b[0;32mIn[24], line 9\u001b[0m\n\u001b[1;32m      7\u001b[0m columns \u001b[38;5;241m=\u001b[39m \u001b[38;5;241m3\u001b[39m\n\u001b[1;32m      8\u001b[0m n \u001b[38;5;241m=\u001b[39m \u001b[38;5;241m2\u001b[39m\n\u001b[0;32m----> 9\u001b[0m \u001b[43mdata_columns\u001b[49m\u001b[43m(\u001b[49m\u001b[43mX_total\u001b[49m\u001b[43m,\u001b[49m\u001b[43mrows\u001b[49m\u001b[43m,\u001b[49m\u001b[43mcolumns\u001b[49m\u001b[43m)\u001b[49m\n",
      "Cell \u001b[0;32mIn[2], line 16\u001b[0m, in \u001b[0;36mdata_columns\u001b[0;34m(your_data, rows, columns)\u001b[0m\n\u001b[1;32m     12\u001b[0m j \u001b[38;5;241m=\u001b[39m \u001b[38;5;241m0\u001b[39m\n\u001b[1;32m     13\u001b[0m \u001b[38;5;28;01mwhile\u001b[39;00m j \u001b[38;5;241m!=\u001b[39m rows:  \n\u001b[1;32m     14\u001b[0m     \u001b[38;5;66;03m# print(f'index = {i}')\u001b[39;00m\n\u001b[1;32m     15\u001b[0m     \u001b[38;5;66;03m# print(your_data[i])\u001b[39;00m\n\u001b[0;32m---> 16\u001b[0m     \u001b[38;5;28mprint\u001b[39m(\u001b[38;5;28msum\u001b[39m(\u001b[43myour_data\u001b[49m\u001b[43m[\u001b[49m\u001b[43mi\u001b[49m\u001b[43m]\u001b[49m))\n\u001b[1;32m     17\u001b[0m     column_data\u001b[38;5;241m.\u001b[39mappend(\u001b[38;5;28msum\u001b[39m(your_data[i]))\n\u001b[1;32m     18\u001b[0m     i\u001b[38;5;241m+\u001b[39m\u001b[38;5;241m=\u001b[39mcolumns\n",
      "\u001b[0;31mIndexError\u001b[0m: list index out of range"
     ]
    }
   ],
   "source": [
    "X0 = [0,1,0,0]\n",
    "X1 = [1,0,1,1]\n",
    "X2 = [3,5,6,2]\n",
    "X3 = [6,9,6,10]\n",
    "X_total = [X0,X1,X2,X3]\n",
    "rows = 2\n",
    "columns = 3\n",
    "n = 2\n",
    "data_columns(X_total,rows,columns)"
   ]
  },
  {
   "cell_type": "code",
   "execution_count": 2,
   "id": "e29dbead-a07c-4b6a-b5d2-d73934026bc0",
   "metadata": {},
   "outputs": [],
   "source": [
    "# 0 4 8\n",
    "# 1 5 9\n",
    "# 2 6 10\n",
    "# 3 7 11\n",
    "def data_columns(your_data,rows,columns):\n",
    "    print(your_data)\n",
    "    column_data_final = []\n",
    "    for i in range(columns):\n",
    "        # print(i)\n",
    "        column_data = []\n",
    "        index = 0\n",
    "        j = 0\n",
    "        while j != rows:  \n",
    "            # print(f'index = {i}')\n",
    "            # print(your_data[i])\n",
    "            print(sum(your_data[i]))\n",
    "            column_data.append(sum(your_data[i]))\n",
    "            i+=columns\n",
    "            j+=1\n",
    "        column_data_sum = sum(column_data)\n",
    "        column_data_final.append(column_data_sum)\n",
    "        print(f'column_data_sum = {column_data_sum}')\n",
    "        print('=========')\n",
    "    print(f'column_data_final = {column_data_final}')"
   ]
  },
  {
   "cell_type": "code",
   "execution_count": 3,
   "id": "1595bf21-a524-4ce5-9546-af2c225badfe",
   "metadata": {},
   "outputs": [],
   "source": [
    "zero_zero_c = [6,4,5]\n",
    "zero_500_c = [5,3,3]\n",
    "zero_thousand_c = [4,2,3]\n",
    "zero_1500_c = [2,3,2]\n",
    "\n",
    "half_zero_c = [5,4,5]\n",
    "half_500_c = [4,3,2]\n",
    "half_thousand_c = [3,2,3]\n",
    "half_1500_c = [2,1,2]\n",
    "\n",
    "one_zero_c = [4,3,4]\n",
    "one_500_c = [4,2,3]\n",
    "one_thousand_c = [3,2,2]\n",
    "one_1500_c = [1,2,1]\n",
    "data = [zero_zero_c,zero_500_c,zero_thousand_c,zero_1500_c,half_zero_c,half_500_c,half_thousand_c,half_1500_c,one_zero_c,one_500_c,one_thousand_c,one_1500_c]\n",
    "rows = 3\n",
    "columns = 4\n",
    "num_of_items_in_list = 3"
   ]
  },
  {
   "cell_type": "code",
   "execution_count": 4,
   "id": "d774f552-71b6-4369-a11b-16bea4e881db",
   "metadata": {},
   "outputs": [
    {
     "name": "stdout",
     "output_type": "stream",
     "text": [
      "ROWS\n",
      "data = [[6, 4, 5], [5, 3, 3], [4, 2, 3], [2, 3, 2], [5, 4, 5], [4, 3, 2], [3, 2, 3], [2, 1, 2], [4, 3, 4], [4, 2, 3], [3, 2, 2], [1, 2, 1]]\n",
      "[6, 4, 5, 5, 3, 3, 4, 2, 3, 2, 3, 2]\n",
      "========\n",
      "[5, 4, 5, 4, 3, 2, 3, 2, 3, 2, 1, 2]\n",
      "========\n",
      "[4, 3, 4, 4, 2, 3, 3, 2, 2, 1, 2, 1]\n",
      "========\n",
      "row_totals = [42, 36, 31]\n",
      "\n",
      "\n",
      "COLUMNS\n"
     ]
    }
   ],
   "source": [
    "data_rows(data,rows,columns)"
   ]
  },
  {
   "cell_type": "code",
   "execution_count": 5,
   "id": "f3e93199-ecfc-42af-8a5c-67cdfdcd1758",
   "metadata": {},
   "outputs": [
    {
     "name": "stdout",
     "output_type": "stream",
     "text": [
      "[[6, 4, 5], [5, 3, 3], [4, 2, 3], [2, 3, 2], [5, 4, 5], [4, 3, 2], [3, 2, 3], [2, 1, 2], [4, 3, 4], [4, 2, 3], [3, 2, 2], [1, 2, 1]]\n",
      "15\n",
      "14\n",
      "11\n",
      "column_data_sum = 40\n",
      "=========\n",
      "11\n",
      "9\n",
      "9\n",
      "column_data_sum = 29\n",
      "=========\n",
      "9\n",
      "8\n",
      "7\n",
      "column_data_sum = 24\n",
      "=========\n",
      "7\n",
      "5\n",
      "4\n",
      "column_data_sum = 16\n",
      "=========\n",
      "column_data_final = [40, 29, 24, 16]\n"
     ]
    }
   ],
   "source": [
    "data_columns(data,rows,columns)"
   ]
  },
  {
   "cell_type": "code",
   "execution_count": 6,
   "id": "3d0638ba-40b9-4826-b329-68a99f20b194",
   "metadata": {},
   "outputs": [
    {
     "name": "stdout",
     "output_type": "stream",
     "text": [
      "<class 'list'>\n",
      "[[6, 4, 5], [5, 3, 3], [4, 2, 3], [2, 3, 2], [5, 4, 5], [4, 3, 2], [3, 2, 3], [2, 1, 2], [4, 3, 4], [4, 2, 3], [3, 2, 2], [1, 2, 1]]\n"
     ]
    }
   ],
   "source": [
    "zero_zero_c = [6,4,5]\n",
    "zero_500_c = [5,3,3]\n",
    "zero_thousand_c = [4,2,3]\n",
    "zero_1500_c = [2,3,2]\n",
    "\n",
    "half_zero_c = [5,4,5]\n",
    "half_500_c = [4,3,2]\n",
    "half_thousand_c = [3,2,3]\n",
    "half_1500_c = [2,1,2]\n",
    "\n",
    "one_zero_c = [4,3,4]\n",
    "one_500_c = [4,2,3]\n",
    "one_thousand_c = [3,2,2]\n",
    "one_1500_c = [1,2,1]\n",
    "\n",
    "rows1 = 3\n",
    "columns1 = 4\n",
    "num_of_items_in_list1 = 3\n",
    "\n",
    "# data1 = zero_zero_c+zero_500_c+zero_thousand_c+zero_1500_c\n",
    "# data2 = half_zero_c+half_500_c+half_thousand_c+half_1500_c\n",
    "# data3 = one_zero_c+one_500_c+one_thousand_c+one_1500_c\n",
    "# print(f'data1 = {data1},{sum(data1)}')\n",
    "# print(f'data2 = {data2},{sum(data2)}')\n",
    "# print(f'data3 = {data3},{sum(data3)}')\n",
    "data1 = [zero_zero_c,zero_500_c,zero_thousand_c,zero_1500_c,half_zero_c,half_500_c,half_thousand_c,half_1500_c,one_zero_c,one_500_c,one_thousand_c,one_1500_c]\n",
    "# data = zero_zero_c+zero_500_c+zero_thousand_c+zero_1500_c+half_zero_c+half_500_c+half_thousand_c+half_1500_c+one_zero_c+one_500_c+one_thousand_c+one_1500_c\n",
    "print(type(data1))\n",
    "print(data1)"
   ]
  },
  {
   "cell_type": "code",
   "execution_count": 7,
   "id": "58313276-b797-42ba-b3ac-9fd507959606",
   "metadata": {},
   "outputs": [
    {
     "name": "stdout",
     "output_type": "stream",
     "text": [
      "[[6, 4, 5], [5, 3, 3], [4, 2, 3]]\n",
      "[[2, 3, 2], [5, 4, 5], [4, 3, 2]]\n",
      "[[3, 2, 3], [2, 1, 2], [4, 3, 4]]\n",
      "[[4, 2, 3], [3, 2, 2], [1, 2, 1]]\n",
      "=========\n",
      "[]\n",
      "[]\n",
      "[]\n",
      "[]\n",
      "=========\n",
      "[]\n",
      "[]\n",
      "[]\n",
      "[]\n"
     ]
    }
   ],
   "source": [
    "print(data[0:3])\n",
    "print(data[3:6])\n",
    "print(data[6:9])\n",
    "print(data[9:12])\n",
    "print('=========')\n",
    "print(data[12:15])\n",
    "print(data[15:18])\n",
    "print(data[18:21])\n",
    "print(data[21:24])\n",
    "print('=========')\n",
    "print(data[24:27])\n",
    "print(data[27:30])\n",
    "print(data[30:33])\n",
    "print(data[33:36])"
   ]
  },
  {
   "cell_type": "code",
   "execution_count": 8,
   "id": "0da3501e-3609-4547-8bf3-a1586f198ca9",
   "metadata": {},
   "outputs": [
    {
     "name": "stdout",
     "output_type": "stream",
     "text": [
      "ROWS\n",
      "data = [[6, 4, 5, 3], [5, 3, 3, 6], [4, 2, 3, 8], [2, 3, 2, 2], [5, 4, 5, 4], [4, 3, 2, 3], [3, 2, 3, 4], [2, 1, 2, 1], [4, 3, 4, 2], [4, 2, 3, 1], [3, 2, 2, 5], [1, 2, 1, 3], [4, 3, 4, 2], [4, 2, 3, 1], [3, 2, 2, 5], [1, 2, 1, 3]]\n",
      "[6, 4, 5, 3, 5, 3, 3, 6, 4, 2, 3, 8, 2, 3, 2, 2]\n",
      "========\n",
      "[5, 4, 5, 4, 4, 3, 2, 3, 3, 2, 3, 4, 2, 1, 2, 1]\n",
      "========\n",
      "[4, 3, 4, 2, 4, 2, 3, 1, 3, 2, 2, 5, 1, 2, 1, 3]\n",
      "========\n",
      "[4, 3, 4, 2, 4, 2, 3, 1, 3, 2, 2, 5, 1, 2, 1, 3]\n",
      "========\n",
      "row_totals = [61, 48, 42, 42]\n",
      "\n",
      "\n",
      "COLUMNS\n",
      "[[6, 4, 5, 3], [5, 3, 3, 6], [4, 2, 3, 8], [2, 3, 2, 2], [5, 4, 5, 4], [4, 3, 2, 3], [3, 2, 3, 4], [2, 1, 2, 1], [4, 3, 4, 2], [4, 2, 3, 1], [3, 2, 2, 5], [1, 2, 1, 3], [4, 3, 4, 2], [4, 2, 3, 1], [3, 2, 2, 5], [1, 2, 1, 3]]\n",
      "18\n",
      "18\n",
      "13\n",
      "13\n",
      "column_data_sum = 62\n",
      "=========\n",
      "17\n",
      "12\n",
      "10\n",
      "10\n",
      "column_data_sum = 49\n",
      "=========\n",
      "17\n",
      "12\n",
      "12\n",
      "12\n",
      "column_data_sum = 53\n",
      "=========\n",
      "9\n",
      "6\n",
      "7\n",
      "7\n",
      "column_data_sum = 29\n",
      "=========\n",
      "column_data_final = [62, 49, 53, 29]\n"
     ]
    }
   ],
   "source": [
    "a1 = [6,4,5,3]\n",
    "a2 = [5,3,3,6]\n",
    "a3 = [4,2,3,8]\n",
    "a4 = [2,3,2,2]\n",
    "\n",
    "b1 = [5,4,5,4]\n",
    "b2 = [4,3,2,3]\n",
    "b3 = [3,2,3,4]\n",
    "b4 = [2,1,2,1]\n",
    "\n",
    "c1 = [4,3,4,2]\n",
    "c2 = [4,2,3,1]\n",
    "c3 = [3,2,2,5]\n",
    "c4 = [1,2,1,3]\n",
    "\n",
    "d1 = [4,3,4,2]\n",
    "d2 = [4,2,3,1]\n",
    "d3 = [3,2,2,5]\n",
    "d4 = [1,2,1,3]\n",
    "\n",
    "rows2 = 4\n",
    "columns2 = 4\n",
    "num_of_items_in_list2 = 4\n",
    "data2 = [a1,a2,a3,a4,b1,b2,b3,b4,c1,c2,c3,c4,d1,d2,d3,d4]\n",
    "\n",
    "data_rows(data2,rows2,columns2)\n",
    "data_columns(data2,rows2,columns2)"
   ]
  },
  {
   "cell_type": "code",
   "execution_count": 9,
   "id": "2537248d-1da9-4153-bccd-1dbe11d2343c",
   "metadata": {},
   "outputs": [
    {
     "name": "stdout",
     "output_type": "stream",
     "text": [
      "ROWS\n",
      "data = [[8, 8], [8, 6], [10, 8], [9, 11], [15, 19], [24, 18]]\n",
      "[8, 8, 8, 6, 10, 8]\n",
      "========\n",
      "[9, 11, 15, 19, 24, 18]\n",
      "========\n",
      "row_totals = [48, 96]\n",
      "\n",
      "\n",
      "COLUMNS\n",
      "[[8, 8], [8, 6], [10, 8], [9, 11], [15, 19], [24, 18]]\n",
      "16\n",
      "20\n",
      "column_data_sum = 36\n",
      "=========\n",
      "14\n",
      "34\n",
      "column_data_sum = 48\n",
      "=========\n",
      "18\n",
      "42\n",
      "column_data_sum = 60\n",
      "=========\n",
      "column_data_final = [36, 48, 60]\n"
     ]
    }
   ],
   "source": [
    "danger_zero = [8,8]\n",
    "danger_two = [8,6]\n",
    "danger_four = [10,8]\n",
    "non_danger_zero = [9,11]\n",
    "non_danger_two = [15,19]\n",
    "non_danger_four = [24,18]\n",
    "danger_data = [danger_zero,danger_two,danger_four,non_danger_zero,non_danger_two,non_danger_four]\n",
    "rows3 = 2\n",
    "columns3 = 3\n",
    "data_rows(danger_data,rows3,columns3)\n",
    "data_columns(danger_data,rows3,columns3)"
   ]
  },
  {
   "cell_type": "code",
   "execution_count": 10,
   "id": "321f3f03-c5c0-41a8-b7c4-2ff5bb912653",
   "metadata": {},
   "outputs": [],
   "source": [
    "X0 = [0,1,0,0]\n",
    "X1 = [1,0,1,1]\n",
    "X2 = [3,5,6,2]\n",
    "X3 = [6,9,6,10]\n",
    "X_total = [X0,X1,X2,X3]\n",
    "rows = 2\n",
    "columns = 3\n",
    "n = 2"
   ]
  },
  {
   "cell_type": "code",
   "execution_count": 14,
   "id": "f9919d21-0518-4154-9e0e-e18d84e02cb3",
   "metadata": {},
   "outputs": [
    {
     "name": "stdout",
     "output_type": "stream",
     "text": [
      "[[0, 1, 0, 0], [1, 0, 1, 1], [3, 5, 6, 2], [6, 9, 6, 10]]\n",
      "1\n",
      "31\n",
      "column_data_sum = 32\n",
      "=========\n",
      "3\n"
     ]
    },
    {
     "ename": "IndexError",
     "evalue": "list index out of range",
     "output_type": "error",
     "traceback": [
      "\u001b[0;31m---------------------------------------------------------------------------\u001b[0m",
      "\u001b[0;31mIndexError\u001b[0m                                Traceback (most recent call last)",
      "Cell \u001b[0;32mIn[14], line 1\u001b[0m\n\u001b[0;32m----> 1\u001b[0m \u001b[43mdata_columns\u001b[49m\u001b[43m(\u001b[49m\u001b[43mX_total\u001b[49m\u001b[43m,\u001b[49m\u001b[43mrows\u001b[49m\u001b[43m,\u001b[49m\u001b[43mcolumns\u001b[49m\u001b[43m)\u001b[49m\n",
      "Cell \u001b[0;32mIn[2], line 16\u001b[0m, in \u001b[0;36mdata_columns\u001b[0;34m(your_data, rows, columns)\u001b[0m\n\u001b[1;32m     12\u001b[0m j \u001b[38;5;241m=\u001b[39m \u001b[38;5;241m0\u001b[39m\n\u001b[1;32m     13\u001b[0m \u001b[38;5;28;01mwhile\u001b[39;00m j \u001b[38;5;241m!=\u001b[39m rows:  \n\u001b[1;32m     14\u001b[0m     \u001b[38;5;66;03m# print(f'index = {i}')\u001b[39;00m\n\u001b[1;32m     15\u001b[0m     \u001b[38;5;66;03m# print(your_data[i])\u001b[39;00m\n\u001b[0;32m---> 16\u001b[0m     \u001b[38;5;28mprint\u001b[39m(\u001b[38;5;28msum\u001b[39m(\u001b[43myour_data\u001b[49m\u001b[43m[\u001b[49m\u001b[43mi\u001b[49m\u001b[43m]\u001b[49m))\n\u001b[1;32m     17\u001b[0m     column_data\u001b[38;5;241m.\u001b[39mappend(\u001b[38;5;28msum\u001b[39m(your_data[i]))\n\u001b[1;32m     18\u001b[0m     i\u001b[38;5;241m+\u001b[39m\u001b[38;5;241m=\u001b[39mcolumns\n",
      "\u001b[0;31mIndexError\u001b[0m: list index out of range"
     ]
    }
   ],
   "source": [
    "data_columns(X_total,rows,columns)"
   ]
  }
 ],
 "metadata": {
  "kernelspec": {
   "display_name": "Python 3 (ipykernel)",
   "language": "python",
   "name": "python3"
  },
  "language_info": {
   "codemirror_mode": {
    "name": "ipython",
    "version": 3
   },
   "file_extension": ".py",
   "mimetype": "text/x-python",
   "name": "python",
   "nbconvert_exporter": "python",
   "pygments_lexer": "ipython3",
   "version": "3.10.12"
  }
 },
 "nbformat": 4,
 "nbformat_minor": 5
}
