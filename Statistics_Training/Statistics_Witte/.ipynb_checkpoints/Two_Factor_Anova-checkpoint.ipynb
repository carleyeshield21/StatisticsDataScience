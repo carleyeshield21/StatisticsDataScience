{
 "cells": [
  {
   "cell_type": "code",
   "execution_count": 1,
   "id": "3d0638ba-40b9-4826-b329-68a99f20b194",
   "metadata": {},
   "outputs": [],
   "source": [
    "zero_zero_c = [6,4,5]\n",
    "zero_500_c = [5,3,3]\n",
    "zero_thousand_c = [4,2,3]\n",
    "zero_1500_c = [2,3,3]\n",
    "\n",
    "half_zero_c = [5,4,5]\n",
    "half_500_c = [4,3,2]\n",
    "half_thousand_c = [3,2,3]\n",
    "half_1500_c = [2,1,2]\n",
    "\n",
    "one_zero_c = [4,3,4]\n",
    "one_500_c = [4,2,3]\n",
    "one_thousand_c = [3,2,2]\n",
    "one_1500_c = [1,2,1]"
   ]
  }
 ],
 "metadata": {
  "kernelspec": {
   "display_name": "Python 3 (ipykernel)",
   "language": "python",
   "name": "python3"
  },
  "language_info": {
   "codemirror_mode": {
    "name": "ipython",
    "version": 3
   },
   "file_extension": ".py",
   "mimetype": "text/x-python",
   "name": "python",
   "nbconvert_exporter": "python",
   "pygments_lexer": "ipython3",
   "version": "3.10.12"
  }
 },
 "nbformat": 4,
 "nbformat_minor": 5
}
