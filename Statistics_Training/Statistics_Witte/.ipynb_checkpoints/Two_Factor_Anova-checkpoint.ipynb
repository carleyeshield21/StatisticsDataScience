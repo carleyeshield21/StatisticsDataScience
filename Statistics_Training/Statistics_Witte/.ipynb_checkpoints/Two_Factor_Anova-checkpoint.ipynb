{
 "cells": [
  {
   "cell_type": "code",
   "execution_count": 41,
   "id": "3d0638ba-40b9-4826-b329-68a99f20b194",
   "metadata": {},
   "outputs": [
    {
     "name": "stdout",
     "output_type": "stream",
     "text": [
      "data1 = [6, 4, 5, 5, 3, 3, 4, 2, 3, 2, 3, 2],42\n",
      "data2 = [5, 4, 5, 4, 3, 2, 3, 2, 3, 2, 1, 2],36\n",
      "data3 = [4, 3, 4, 4, 2, 3, 3, 2, 2, 1, 2, 1],31\n",
      "<class 'list'>\n",
      "[[6, 4, 5], [5, 3, 3], [4, 2, 3], [2, 3, 2], [5, 4, 5], [4, 3, 2], [3, 2, 3], [2, 1, 2], [4, 3, 4], [4, 2, 3], [3, 2, 2], [1, 2, 1]]\n"
     ]
    }
   ],
   "source": [
    "zero_zero_c = [6,4,5]\n",
    "zero_500_c = [5,3,3]\n",
    "zero_thousand_c = [4,2,3]\n",
    "zero_1500_c = [2,3,2]\n",
    "\n",
    "half_zero_c = [5,4,5]\n",
    "half_500_c = [4,3,2]\n",
    "half_thousand_c = [3,2,3]\n",
    "half_1500_c = [2,1,2]\n",
    "\n",
    "one_zero_c = [4,3,4]\n",
    "one_500_c = [4,2,3]\n",
    "one_thousand_c = [3,2,2]\n",
    "one_1500_c = [1,2,1]\n",
    "\n",
    "rows = 3\n",
    "columns = 4\n",
    "num_of_items_in_list = 3\n",
    "\n",
    "data1 = zero_zero_c+zero_500_c+zero_thousand_c+zero_1500_c\n",
    "data2 = half_zero_c+half_500_c+half_thousand_c+half_1500_c\n",
    "data3 = one_zero_c+one_500_c+one_thousand_c+one_1500_c\n",
    "print(f'data1 = {data1},{sum(data1)}')\n",
    "print(f'data2 = {data2},{sum(data2)}')\n",
    "print(f'data3 = {data3},{sum(data3)}')\n",
    "data = [zero_zero_c,zero_500_c,zero_thousand_c,zero_1500_c,half_zero_c,half_500_c,half_thousand_c,half_1500_c,one_zero_c,one_500_c,one_thousand_c,one_1500_c]\n",
    "# data = zero_zero_c+zero_500_c+zero_thousand_c+zero_1500_c+half_zero_c+half_500_c+half_thousand_c+half_1500_c+one_zero_c+one_500_c+one_thousand_c+one_1500_c\n",
    "print(type(data))\n",
    "print(data)"
   ]
  },
  {
   "cell_type": "code",
   "execution_count": 47,
   "id": "4a6ae9da-35d7-4c9e-a172-d41120a07c77",
   "metadata": {},
   "outputs": [
    {
     "name": "stdout",
     "output_type": "stream",
     "text": [
      "data = [[6, 4, 5], [5, 3, 3], [4, 2, 3], [2, 3, 2], [5, 4, 5], [4, 3, 2], [3, 2, 3], [2, 1, 2], [4, 3, 4], [4, 2, 3], [3, 2, 2], [1, 2, 1]]\n",
      "n = 0\n",
      "m = 1\n",
      "m = 2\n",
      "=====\n",
      "n = 3\n",
      "m = 4\n",
      "m = 5\n",
      "=====\n",
      "n = 6\n",
      "m = 7\n",
      "m = 8\n",
      "=====\n",
      "n = 9\n",
      "m = 10\n",
      "m = 11\n",
      "=====\n"
     ]
    }
   ],
   "source": [
    "def data_funk(your_data,rows,columns):\n",
    "    print(f'data = {your_data}')\n",
    "    n = 0\n",
    "    while n < len(your_data):\n",
    "        print(f'n = {n}')\n",
    "        for m in range(rows):\n",
    "            print(f'm = {n+m+1}')\n",
    "        n+=columns\n",
    "        print('=====')\n",
    "    \n",
    "    # for i in range(0,len(your_data),4):\n",
    "    #     print(data[i])\n",
    "    \n",
    "    # print(data[0:4])\n",
    "    # print(data[4:8])\n",
    "    # print(data[8:12])\n",
    "    # print(data[12:16])\n",
    "data_funk(data,rows,columns)"
   ]
  },
  {
   "cell_type": "code",
   "execution_count": 3,
   "id": "58313276-b797-42ba-b3ac-9fd507959606",
   "metadata": {},
   "outputs": [
    {
     "name": "stdout",
     "output_type": "stream",
     "text": [
      "[6, 4, 5]\n",
      "[5, 3, 3]\n",
      "[4, 2, 3]\n",
      "[2, 3, 2]\n",
      "=========\n",
      "[5, 4, 5]\n",
      "[4, 3, 2]\n",
      "[3, 2, 3]\n",
      "[2, 1, 2]\n",
      "=========\n",
      "[4, 3, 4]\n",
      "[4, 2, 3]\n",
      "[3, 2, 2]\n",
      "[1, 2, 1]\n"
     ]
    }
   ],
   "source": [
    "print(data[0:3])\n",
    "print(data[3:6])\n",
    "print(data[6:9])\n",
    "print(data[9:12])\n",
    "print('=========')\n",
    "print(data[12:15])\n",
    "print(data[15:18])\n",
    "print(data[18:21])\n",
    "print(data[21:24])\n",
    "print('=========')\n",
    "print(data[24:27])\n",
    "print(data[27:30])\n",
    "print(data[30:33])\n",
    "print(data[33:36])"
   ]
  },
  {
   "cell_type": "code",
   "execution_count": 37,
   "id": "0da3501e-3609-4547-8bf3-a1586f198ca9",
   "metadata": {},
   "outputs": [
    {
     "name": "stdout",
     "output_type": "stream",
     "text": [
      "n = 0\n",
      "m = 1\n",
      "m = 2\n",
      "m = 3\n",
      "=====\n",
      "n = 4\n",
      "m = 5\n",
      "m = 6\n",
      "m = 7\n",
      "=====\n",
      "n = 8\n",
      "m = 9\n",
      "m = 10\n",
      "m = 11\n",
      "=====\n",
      "n = 12\n",
      "m = 13\n",
      "m = 14\n",
      "m = 15\n",
      "=====\n"
     ]
    }
   ],
   "source": [
    "a1 = [6,4,5,3]\n",
    "a2 = [5,3,3,6]\n",
    "a3 = [4,2,3,8]\n",
    "a4 = [2,3,2,2]\n",
    "\n",
    "b1 = [5,4,5,4]\n",
    "b2 = [4,3,2,3]\n",
    "b3 = [3,2,3,4]\n",
    "b4 = [2,1,2,1]\n",
    "\n",
    "c1 = [4,3,4,2]\n",
    "c2 = [4,2,3,1]\n",
    "c3 = [3,2,2,5]\n",
    "c4 = [1,2,1,3]\n",
    "\n",
    "d1 = [4,3,4,2]\n",
    "d2 = [4,2,3,1]\n",
    "d3 = [3,2,2,5]\n",
    "d4 = [1,2,1,3]\n",
    "\n",
    "rows = 4\n",
    "colums = 4\n",
    "num_of_items_in_list = 4\n",
    "data = [a1,a2,a3,a4,b1,b2,b3,b4,c1,c2,c3,c4,d1,d2,d3,d4]\n",
    "\n",
    "data_funk(data,rows,columns)"
   ]
  },
  {
   "cell_type": "code",
   "execution_count": 46,
   "id": "2537248d-1da9-4153-bccd-1dbe11d2343c",
   "metadata": {},
   "outputs": [
    {
     "name": "stdout",
     "output_type": "stream",
     "text": [
      "data = [[8, 8], [8, 6], [10, 8], [9, 11], [15, 19], [24, 18]]\n",
      "n = 0\n",
      "m = 1\n",
      "m = 2\n",
      "=====\n",
      "n = 3\n",
      "m = 4\n",
      "m = 5\n",
      "=====\n"
     ]
    }
   ],
   "source": [
    "danger_zero = [8,8]\n",
    "danger_two = [8,6]\n",
    "danger_four = [10,8]\n",
    "non_danger_zero = [9,11]\n",
    "non_danger_two = [15,19]\n",
    "non_danger_four = [24,18]\n",
    "danger_data = [danger_zero,danger_two,danger_four,non_danger_zero,non_danger_two,non_danger_four]\n",
    "rows = 2\n",
    "columns = 3\n",
    "data_funk(danger_data,rows,columns)"
   ]
  }
 ],
 "metadata": {
  "kernelspec": {
   "display_name": "Python 3 (ipykernel)",
   "language": "python",
   "name": "python3"
  },
  "language_info": {
   "codemirror_mode": {
    "name": "ipython",
    "version": 3
   },
   "file_extension": ".py",
   "mimetype": "text/x-python",
   "name": "python",
   "nbconvert_exporter": "python",
   "pygments_lexer": "ipython3",
   "version": "3.10.12"
  }
 },
 "nbformat": 4,
 "nbformat_minor": 5
}
