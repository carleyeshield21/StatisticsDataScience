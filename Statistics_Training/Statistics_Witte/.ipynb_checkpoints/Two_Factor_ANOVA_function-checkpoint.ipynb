{
 "cells": [
  {
   "cell_type": "code",
   "execution_count": 1,
   "id": "2ff2d3d6-3120-4a6d-9f50-a6036d45ba19",
   "metadata": {},
   "outputs": [],
   "source": [
    "def TWO_FACTOR_ANOVA(your_data,rows,columns):\n",
    "    print(f'your_data = {your_data}')\n",
    "    G_data = [n for sublist in your_data for n in sublist]\n",
    "    G = sum(G_data)\n",
    "    print(f'G = {G}')\n",
    "    print(f'\\n')\n",
    "    print('ROWS')\n",
    "    row_totals = []\n",
    "    for i in range(0,len(your_data),columns):\n",
    "        row_data = your_data[i:i+columns]\n",
    "        row_numbers = [num for sublist in row_data for num in sublist]\n",
    "        row_totals.append(sum(row_numbers))\n",
    "    print(f'row_totals = {row_totals}')\n",
    "    print('\\n')\n",
    "    \n",
    "    print('COLUMNS')\n",
    "    column_data_final = []\n",
    "    for i in range(columns):\n",
    "        column_data = []\n",
    "        index = 0\n",
    "        j = 0\n",
    "        while j != rows:  \n",
    "            column_data.append(sum(your_data[i]))\n",
    "            i+=columns\n",
    "            j+=1\n",
    "        column_data_sum = sum(column_data)\n",
    "        column_data_final.append(column_data_sum)\n",
    "    print(f'column_data_final = {column_data_final}')"
   ]
  },
  {
   "cell_type": "code",
   "execution_count": 2,
   "id": "cb494a05-183c-4a44-96f9-8f60a4b6286f",
   "metadata": {},
   "outputs": [
    {
     "name": "stdout",
     "output_type": "stream",
     "text": [
      "your_data = [[6, 4, 5], [5, 3, 3], [4, 2, 3], [2, 3, 2], [5, 4, 5], [4, 3, 2], [3, 2, 3], [2, 1, 2], [4, 3, 4], [4, 2, 3], [3, 2, 2], [1, 2, 1]]\n",
      "G = 109\n",
      "\n",
      "\n",
      "ROWS\n",
      "row_totals = [42, 36, 31]\n",
      "\n",
      "\n",
      "COLUMNS\n",
      "column_data_final = [40, 29, 24, 16]\n"
     ]
    }
   ],
   "source": [
    "zero_zero_c = [6,4,5]\n",
    "zero_500_c = [5,3,3]\n",
    "zero_thousand_c = [4,2,3]\n",
    "zero_1500_c = [2,3,2]\n",
    "\n",
    "half_zero_c = [5,4,5]\n",
    "half_500_c = [4,3,2]\n",
    "half_thousand_c = [3,2,3]\n",
    "half_1500_c = [2,1,2]\n",
    "\n",
    "one_zero_c = [4,3,4]\n",
    "one_500_c = [4,2,3]\n",
    "one_thousand_c = [3,2,2]\n",
    "one_1500_c = [1,2,1]\n",
    "data = [zero_zero_c,zero_500_c,zero_thousand_c,zero_1500_c,half_zero_c,half_500_c,half_thousand_c,half_1500_c,one_zero_c,one_500_c,one_thousand_c,one_1500_c]\n",
    "r = 3\n",
    "c = 4\n",
    "num_of_items_in_list = 3\n",
    "\n",
    "TWO_FACTOR_ANOVA(data,r,c)"
   ]
  },
  {
   "cell_type": "code",
   "execution_count": 3,
   "id": "b254c375-5567-4ded-8346-22d193d82f2f",
   "metadata": {},
   "outputs": [
    {
     "name": "stdout",
     "output_type": "stream",
     "text": [
      "your_data = [[8, 8], [8, 6], [10, 8], [9, 11], [15, 19], [24, 18]]\n",
      "G = 144\n",
      "\n",
      "\n",
      "ROWS\n",
      "row_totals = [48, 96]\n",
      "\n",
      "\n",
      "COLUMNS\n",
      "column_data_final = [36, 48, 60]\n"
     ]
    }
   ],
   "source": [
    "danger_zero = [8,8]\n",
    "danger_two = [8,6]\n",
    "danger_four = [10,8]\n",
    "non_danger_zero = [9,11]\n",
    "non_danger_two = [15,19]\n",
    "non_danger_four = [24,18]\n",
    "danger_data = [danger_zero,danger_two,danger_four,non_danger_zero,non_danger_two,non_danger_four]\n",
    "rows3 = 2\n",
    "columns3 = 3\n",
    "TWO_FACTOR_ANOVA(danger_data,rows3,columns3)"
   ]
  },
  {
   "cell_type": "code",
   "execution_count": 5,
   "id": "eb5807c7-2511-4622-a22f-fe31bee0e12d",
   "metadata": {},
   "outputs": [
    {
     "name": "stdout",
     "output_type": "stream",
     "text": [
      "your_data = [[6, 4, 5, 3], [5, 3, 3, 6], [4, 2, 3, 8], [2, 3, 2, 2], [5, 4, 5, 4], [4, 3, 2, 3], [3, 2, 3, 4], [2, 1, 2, 1], [4, 3, 4, 2], [4, 2, 3, 1], [3, 2, 2, 5], [1, 2, 1, 3], [4, 3, 4, 2], [4, 2, 3, 1], [3, 2, 2, 5], [1, 2, 1, 3]]\n",
      "G = 193\n",
      "\n",
      "\n",
      "ROWS\n",
      "row_totals = [61, 48, 42, 42]\n",
      "\n",
      "\n",
      "COLUMNS\n",
      "column_data_final = [62, 49, 53, 29]\n"
     ]
    }
   ],
   "source": [
    "a1 = [6,4,5,3]\n",
    "a2 = [5,3,3,6]\n",
    "a3 = [4,2,3,8]\n",
    "a4 = [2,3,2,2]\n",
    "\n",
    "b1 = [5,4,5,4]\n",
    "b2 = [4,3,2,3]\n",
    "b3 = [3,2,3,4]\n",
    "b4 = [2,1,2,1]\n",
    "\n",
    "c1 = [4,3,4,2]\n",
    "c2 = [4,2,3,1]\n",
    "c3 = [3,2,2,5]\n",
    "c4 = [1,2,1,3]\n",
    "\n",
    "d1 = [4,3,4,2]\n",
    "d2 = [4,2,3,1]\n",
    "d3 = [3,2,2,5]\n",
    "d4 = [1,2,1,3]\n",
    "\n",
    "rows2 = 4\n",
    "columns2 = 4\n",
    "num_of_items_in_list2 = 4\n",
    "data2 = [a1,a2,a3,a4,b1,b2,b3,b4,c1,c2,c3,c4,d1,d2,d3,d4]\n",
    "TWO_FACTOR_ANOVA(data2,rows2,columns2)"
   ]
  }
 ],
 "metadata": {
  "kernelspec": {
   "display_name": "Python 3 (ipykernel)",
   "language": "python",
   "name": "python3"
  },
  "language_info": {
   "codemirror_mode": {
    "name": "ipython",
    "version": 3
   },
   "file_extension": ".py",
   "mimetype": "text/x-python",
   "name": "python",
   "nbconvert_exporter": "python",
   "pygments_lexer": "ipython3",
   "version": "3.10.12"
  }
 },
 "nbformat": 4,
 "nbformat_minor": 5
}
