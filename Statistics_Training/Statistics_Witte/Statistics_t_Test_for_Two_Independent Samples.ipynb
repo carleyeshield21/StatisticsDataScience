{
 "cells": [
  {
   "cell_type": "markdown",
   "id": "a1d8821a-84f2-43a0-8721-e91f5e6463f9",
   "metadata": {},
   "source": [
    "## Statistical Significance -- Implies only that the null hypothesis is probably false, and not whether it’s false because of a large or small difference between population means.\n",
    "\n",
    "Tests of hypotheses often are referred to as tests of significance, and test results are described as being statistically significant (if the null hypothesis has been rejected) or as not being statistically significant (if the null hypothesis has been retained). Rejecting the null hypothesis and statistically significant both signify that the test result can’t be attributed to chance."
   ]
  },
  {
   "cell_type": "markdown",
   "id": "f4d4a8d5-d16a-4460-a89a-648c643448b7",
   "metadata": {},
   "source": [
    "### STATISTICAL HYPOTHESES\n",
    "\n",
    "Null Hypothesis\n",
    "\n",
    "$H_{0}$ : $\\mu_{1} - \\mu_{2} \\leq 0$\n",
    "\n",
    "Alternative Hypothesis (Research Hypothesis)\n",
    "\n",
    "$H_{1}$ : $\\mu_{1} - \\mu_{2} > 0$\n",
    "\n",
    "##### Two Other Possible Alternative Hypotheses\n",
    "\n",
    "1. Another directional hypothesis, expressed as\n",
    "\n",
    "$H_{1}$ : $\\mu_{1} - \\mu_{2} < 0$ translates into a one-tailed test with the lower tail critical.\n",
    "\n",
    "2. A nondirectional hypothesis, expressed as\n",
    "\n",
    "$H_{1}$ : $\\mu_{1} - \\mu_{2} \\neq 0$ translates into a two-tailed test.\n",
    "\n",
    "Statistical hypotheses for the difference between two population means must be selected from among the following three possibilities:\n",
    "\n",
    "Nondirectional:\n",
    "$H_{0}$ : $\\mu_{1} - \\mu_{2} = 0 ; H_{1}$ : $\\mu_{1} - \\mu_{2} \\neq 0$\n",
    "\n",
    "Directional, lower tail critical:\n",
    "$H_{0}$ : $\\mu_{1} - \\mu_{2} \\geq 0 ; H_{1}$ : $\\mu_{1} - \\mu_{2} < 0$\n",
    "\n",
    "Directional, upper tail critical:\n",
    "$H_{0}$ : $\\mu_{1} - \\mu_{2} \\leq 0 ; H_{1}$ : $\\mu_{1} - \\mu_{2} > 0$"
   ]
  },
  {
   "cell_type": "markdown",
   "id": "9511eb16-bda5-4dab-bf6a-f87665596828",
   "metadata": {
    "jp-MarkdownHeadingCollapsed": true
   },
   "source": [
    "##### Progress Check *14.1 Identifying the treatment group with μ1, specify both the null and alternative hypotheses for each of the following studies. Select a directional alternative hypothesis only when a word or phrase justifies an exclusive concern about population mean differences in a particular direction.\n",
    "\n",
    "(a) After randomly assigning migrant children to two groups, a school psychologist determines whether there is a difference in the mean reading scores between groups exposed to either a special bilingual or a traditional reading program.\n",
    "\n",
    "Answer:\n",
    "\n",
    "$H_{0}$ : $\\mu_{1} - \\mu_{2} = 0$\n",
    "\n",
    "$H_{1}$ : $\\mu_{1} - \\mu_{2} \\neq 0$\n",
    "\n",
    "(b) On further reflection, the school psychologist decides that, because of the extra expense of the special bilingual program, the null hypothesis should be rejected only if there is evidence that reading scores are improved, on average, for the group exposed to the special\n",
    "bilingual program.\n",
    "\n",
    "Answer:\n",
    "\n",
    "$H_{0}$ : $\\mu_{1} - \\mu_{2} \\leq 0$\n",
    "\n",
    "$H_{1}$ : $\\mu_{1} - \\mu_{2} > 0$\n",
    "\n",
    "(c) An investigator wishes to determine whether, on average, cigarette consumption is reduced for smokers who chew caffeine gum. Smokers in attendance at an antismoking workshop are randomly assigned to two groups—one that chews caffeine gum and one that does not—and their daily cigarette consumption is monitored for six months after the workshop.\n",
    "\n",
    "Answer:\n",
    "\n",
    "$H_{0}$ : $\\mu_{1} - \\mu_{2} \\geq 0$\n",
    "\n",
    "$H_{1}$ : $\\mu_{1} - \\mu_{2} < 0$\n",
    "\n",
    "(d) A political scientist determines whether males and females differ, on average, about the amount of money that, in their opinion, should be spent by the U.S. government on homeland security. After being informed about the size of the current budget for homeland security, in billions of dollars, randomly selected males and females are asked to indicate the percent by which they would alter this amount—for example, –8 percent for an 8 percent reduction, 0 percent for no change, 4 percent for a 4 percent increase.\n",
    "\n",
    "Answer:\n",
    "\n",
    "$H_{0}$ : $\\mu_{1} - \\mu_{2} = 0$\n",
    "\n",
    "$H_{1}$ : $\\mu_{1} - \\mu_{2} \\neq 0$"
   ]
  },
  {
   "cell_type": "markdown",
   "id": "c0e267cf-3781-4b2e-8227-71a3c66b3717",
   "metadata": {},
   "source": [
    "### Mean of the Sampling Distribution , $\\mu_{\\overline{X}_1-\\overline{X}_2}$\n",
    "\n",
    "The mean of the sampling distribution of X equals thepopulation mean, that is,\n",
    "\n",
    "$\\mu_{\\overline{X}} = \\mu$\n",
    "\n",
    "Similarly, the mean of the new sampling distribution of $\\overline{X}_1-\\overline{X}_2$ equals the difference between population means, that is,\n",
    "\n",
    "$\\mu_{\\overline{X}_1-\\overline{X}_2} = \\mu_{1} - \\mu_{2}$"
   ]
  },
  {
   "cell_type": "markdown",
   "id": "e6266aa0-0400-4c24-96aa-f47e4cd16383",
   "metadata": {},
   "source": [
    "### Standard Error of the Sampling Distribution, (standard error of the difference between means) $\\sigma_{\\overline{X}_1-\\overline{X}_2}$\n",
    "\n",
    "$\\sigma_\\overline{X}$ = $\\dfrac{\\sigma}{\\sqrt{n}} = \\sqrt{\\dfrac{\\sigma^2}{n}}$\n",
    "\n",
    "The standard deviation of the new sampling distribution of $\\overline{X}_1 - \\overline{X}_2$ equals\n",
    "\n",
    "$\\sigma_{\\overline{X}_1-\\overline{X}_2} = \\sqrt{\\dfrac{\\sigma^2_1}{n_1} + \\dfrac{\\sigma^2_2}{n_2}}$"
   ]
  },
  {
   "cell_type": "markdown",
   "id": "ce97b20f-5df3-4b84-a0ac-9aca44575276",
   "metadata": {},
   "source": [
    "### t TEST\n",
    "\n",
    "t Ratio\n",
    "\n",
    "$t = \\dfrac{(difference~between~sample~means)-(hypothesized~difference~between~population~means)}{estimated~standard~error}$\n",
    "\n",
    "Expressed in symbols,\n",
    "\n",
    "### t RATIO FOR TWO POPULATION MEANS (TWO INDEPENDENT SAMPLES)\n",
    "\n",
    "$t = \\dfrac{(\\overline{X}_1 - \\overline{X}_2)-(\\mu_1 - \\mu_2)_{hyp}}{S_{\\overline{X}_1-\\overline{X}_2}}$\n",
    "\n",
    "### ESTIMATED STANDARD ERROR OF THE MEAN\n",
    "$S_\\overline{X}$ = $\\dfrac{S}{\\sqrt{n}}$\n",
    "\n",
    "### Sample Sums of Squares\n",
    "$SS$ = $\\Sigma({X}-\\overline{X})^2$ = $\\Sigma{X}^2$ $-$ $\\dfrac{(\\Sigma{X})^2}{n}$\n",
    "\n",
    "### THE POOLED VARIANCE\n",
    "\n",
    "$S_P^2 = \\dfrac{SS_1 + SS_2}{n_1 + n_2 - 2}$\n",
    "\n",
    "$S_P^2 = \\dfrac{({n_1 - 1})s_1^2 + ({n_2 - 1})s_2^2}{n_1 + n_2 - 2}$\n",
    "\n",
    "where $s_1^2$ and $s_2^2$ are variances from $\\sigma^2 = \\frac{SS}{N - 1}$ then $SS = \\sigma^2(N-1)$\n",
    "\n",
    "### ESTIMATED STANDARD ERROR\n",
    "\n",
    "$S_{\\overline{X}_1-\\overline{X}_2} = \\sqrt{\\dfrac{S^2_P}{n_1} + \\dfrac{S^2_P}{n_2}}$"
   ]
  },
  {
   "cell_type": "markdown",
   "id": "bfa1cd42-4287-4c13-8892-f4ed5eeea450",
   "metadata": {},
   "source": [
    "##### Progress Check *14.2 Using Table B in Appendix C, find the critical t values for each of the following hypothesis tests:\n",
    "(a) two-tailed test; α = .05; n1 = 12; n2 = 11; df = 12+11-2 = 21; t_value = $\\pm$2.080\n",
    "\n",
    "(b) one-tailed test, upper tail critical; α = .05; n1 = 15; n2 = 13; df = 15+13-2 = 26; t_value = +1.706\n",
    "\n",
    "(c) one-tailed test, lower tail critical; α = .01; n1 = n2 = 25; df=25+25-2 = 48; t_value = -2.423\n",
    "\n",
    "(d) two-tailed test; α = .01; n1 = 8; n2 = 10; df=8+10-2=16; t_value = $\\pm$2.921"
   ]
  },
  {
   "cell_type": "code",
   "execution_count": 1,
   "id": "5c5a4053-9bd3-4a46-970f-4bfd7be072c2",
   "metadata": {},
   "outputs": [
    {
     "name": "stdout",
     "output_type": "stream",
     "text": [
      "The critical value of t for a two-tailed test is ±2.08\n",
      "The critical value of t for a one-tailed test is 1.706, positive for upper tail and negative for lower tail\n",
      "The critical value of t for a one-tailed test is 2.407, positive for upper tail and negative for lower tail\n",
      "The critical value of t for a two-tailed test is ±2.921\n"
     ]
    }
   ],
   "source": [
    "def finding_critical_value_of_t(n1,n2,alpha,tail):\n",
    "    from scipy.stats import t\n",
    "    df = n1+n2-2\n",
    "    t_critical = round(t.ppf(1 - alpha/tail, df),3)\n",
    "    if tail == 2:\n",
    "        print(f'The critical value of t for a two-tailed test is ±{t_critical}')\n",
    "    else:\n",
    "        print(f'The critical value of t for a one-tailed test is {t_critical}, positive for upper tail and negative for lower tail')\n",
    "\n",
    "finding_critical_value_of_t(12,11,0.05,2)\n",
    "finding_critical_value_of_t(15,13,0.05,1)\n",
    "finding_critical_value_of_t(25,25,0.01,1)\n",
    "finding_critical_value_of_t(8,10,0.01,2)"
   ]
  },
  {
   "cell_type": "markdown",
   "id": "87253bbb-45db-4c66-ae09-b71b2a81cb09",
   "metadata": {},
   "source": [
    "### Table 14.1 CALCULATIONS FOR THE t TEST: TWO INDEPENDENT SAMPLES (EPO EXPERIMENT)"
   ]
  },
  {
   "cell_type": "code",
   "execution_count": 2,
   "id": "261b9f52-18f8-46e6-9d10-30f3246e59c3",
   "metadata": {},
   "outputs": [],
   "source": [
    "def t_Test_two_independent_samples(X1,X2,alpha,hypothesized_mean,tail):\n",
    "    import statistics\n",
    "    import math\n",
    "    from scipy.stats import t\n",
    "    \n",
    "    n1 = len(X1)\n",
    "    n2 = len(X2)\n",
    "    \n",
    "    mean_X1 = round(statistics.mean(X1),3)\n",
    "    mean_X2 = round(statistics.mean(X2),3)\n",
    "    print(f'mean_X1 = {mean_X1}; mean_X2 = {mean_X2}')\n",
    "\n",
    "    std_dev_mean_X1 = round(statistics.stdev(X1),3)\n",
    "    std_dev_mean_X2 = round(statistics.stdev(X2),3)\n",
    "    print(f'std_dev_mean_X1 = {std_dev_mean_X1}')\n",
    "    print(f'std_dev_mean_X1 = {std_dev_mean_X2}')\n",
    "    \n",
    "    sum_of_X1_list = sum(X1)\n",
    "    sum_of_X2_list = sum(X2)\n",
    "    print(f'sum_of_X1_list = {sum_of_X1_list}; sum_of_X2_list = {sum_of_X2_list}')\n",
    "    \n",
    "    square_of_each_X1 = [num1**2 for num1 in X1]\n",
    "    square_of_each_X2 = [num2**2 for num2 in X2]\n",
    "    \n",
    "    sum_of_square_of_each_X1 = sum(square_of_each_X1)\n",
    "    sum_of_square_of_each_X2 = sum(square_of_each_X2)\n",
    "    print(f'sum_of_square_of_each_X1 = {sum_of_square_of_each_X1}; sum_of_square_of_each_X2 = {sum_of_square_of_each_X2}')\n",
    "    \n",
    "    SS1 = round(sum_of_square_of_each_X1 - (sum_of_X1_list**2/n1),3)\n",
    "    SS2 = round(sum_of_square_of_each_X2 - (sum_of_X2_list**2/n1),3)\n",
    "    print(f'SS1 = {SS1}; SS2 = {SS2}')\n",
    "    \n",
    "    pooled_variance = round((SS1+SS2)/(n1+n2-2),3)\n",
    "    print(f'pooled_variance = {pooled_variance}')\n",
    "    \n",
    "    std_error = round(math.sqrt((pooled_variance/n1)+(pooled_variance/n2)),3)\n",
    "    print(f'std_error = {std_error}')\n",
    "    \n",
    "    t_ratio = round(((mean_X1-mean_X2)-hypothesized_mean)/std_error,3)\n",
    "    print(f't_ratio = {t_ratio}')\n",
    "\n",
    "    df = n1+n2-2\n",
    "    \n",
    "    t_critical = round(t.ppf(1 - alpha/tail, df),3)\n",
    "    print(f't_critical = {t_critical}')\n",
    "\n",
    "    p_value = round(tail * (1 - t.cdf(abs(t_ratio), df)),3)\n",
    "    print(f'p_value = {p_value}')\n",
    "\n",
    "    tconf1 = round((mean_X1 - mean_X2) - (t_critical*std_error),3)\n",
    "    tconf2 = round((mean_X1 - mean_X2) + (t_critical*std_error),3)\n",
    "    print(f'We have a confidence of {round((1-alpha)*100)}% that the true mean is in between the values of {tconf1} and {tconf2}')\n",
    "\n",
    "    cohens_d = round((mean_X1 - mean_X2)/math.sqrt(pooled_variance),3)\n",
    "    print(f\"Cohen's d = {cohens_d}\")\n",
    "\n",
    "    if t_ratio > t_critical:\n",
    "        print(f't_ratio = {round(t_ratio,3)} is GREATER than t_critical = {round(t_critical,3)}. Therefore we will REJECT the null hypothesis')\n",
    "    else:\n",
    "        print(f't_ratio = {round(t_ratio,3)} is LESS than t_critical = {round(t_critical,3)}. Therefore we will RETAIN the null hypothesis')"
   ]
  },
  {
   "cell_type": "code",
   "execution_count": 3,
   "id": "aa3be244-9873-41ae-badd-bf2effa31c1a",
   "metadata": {},
   "outputs": [
    {
     "name": "stdout",
     "output_type": "stream",
     "text": [
      "mean_X1 = 11; mean_X2 = 6\n"
     ]
    },
    {
     "ename": "TypeError",
     "evalue": "'int' object is not iterable",
     "output_type": "error",
     "traceback": [
      "\u001b[0;31m---------------------------------------------------------------------------\u001b[0m",
      "\u001b[0;31mTypeError\u001b[0m                                 Traceback (most recent call last)",
      "Cell \u001b[0;32mIn[3], line 5\u001b[0m\n\u001b[1;32m      3\u001b[0m sig \u001b[38;5;241m=\u001b[39m \u001b[38;5;241m0.05\u001b[39m\n\u001b[1;32m      4\u001b[0m u_hyp \u001b[38;5;241m=\u001b[39m \u001b[38;5;241m0\u001b[39m\n\u001b[0;32m----> 5\u001b[0m \u001b[43mt_Test_two_independent_samples\u001b[49m\u001b[43m(\u001b[49m\u001b[43msample1\u001b[49m\u001b[43m,\u001b[49m\u001b[43msample2\u001b[49m\u001b[43m,\u001b[49m\u001b[43msig\u001b[49m\u001b[43m,\u001b[49m\u001b[43mu_hyp\u001b[49m\u001b[43m,\u001b[49m\u001b[38;5;241;43m2\u001b[39;49m\u001b[43m)\u001b[49m\n",
      "Cell \u001b[0;32mIn[2], line 13\u001b[0m, in \u001b[0;36mt_Test_two_independent_samples\u001b[0;34m(X1, X2, alpha, hypothesized_mean, tail)\u001b[0m\n\u001b[1;32m     10\u001b[0m mean_X2 \u001b[38;5;241m=\u001b[39m \u001b[38;5;28mround\u001b[39m(statistics\u001b[38;5;241m.\u001b[39mmean(X2),\u001b[38;5;241m3\u001b[39m)\n\u001b[1;32m     11\u001b[0m \u001b[38;5;28mprint\u001b[39m(\u001b[38;5;124mf\u001b[39m\u001b[38;5;124m'\u001b[39m\u001b[38;5;124mmean_X1 = \u001b[39m\u001b[38;5;132;01m{\u001b[39;00mmean_X1\u001b[38;5;132;01m}\u001b[39;00m\u001b[38;5;124m; mean_X2 = \u001b[39m\u001b[38;5;132;01m{\u001b[39;00mmean_X2\u001b[38;5;132;01m}\u001b[39;00m\u001b[38;5;124m'\u001b[39m)\n\u001b[0;32m---> 13\u001b[0m std_dev_mean_X1 \u001b[38;5;241m=\u001b[39m \u001b[38;5;28mround\u001b[39m(\u001b[43mstatistics\u001b[49m\u001b[38;5;241;43m.\u001b[39;49m\u001b[43mstdev\u001b[49m\u001b[43m(\u001b[49m\u001b[43mmean_X1\u001b[49m\u001b[43m)\u001b[49m,\u001b[38;5;241m3\u001b[39m)\n\u001b[1;32m     14\u001b[0m std_dev_mean_X2 \u001b[38;5;241m=\u001b[39m \u001b[38;5;28mround\u001b[39m(statistics\u001b[38;5;241m.\u001b[39mstdev(mean_X2),\u001b[38;5;241m3\u001b[39m)\n\u001b[1;32m     15\u001b[0m \u001b[38;5;28mprint\u001b[39m(\u001b[38;5;124mf\u001b[39m\u001b[38;5;124m'\u001b[39m\u001b[38;5;124mstd_dev_mean_X1 = \u001b[39m\u001b[38;5;132;01m{\u001b[39;00mstd_dev_mean_X1\u001b[38;5;132;01m}\u001b[39;00m\u001b[38;5;124m'\u001b[39m)\n",
      "File \u001b[0;32m/usr/lib/python3.10/statistics.py:828\u001b[0m, in \u001b[0;36mstdev\u001b[0;34m(data, xbar)\u001b[0m\n\u001b[1;32m    817\u001b[0m \u001b[38;5;250m\u001b[39m\u001b[38;5;124;03m\"\"\"Return the square root of the sample variance.\u001b[39;00m\n\u001b[1;32m    818\u001b[0m \n\u001b[1;32m    819\u001b[0m \u001b[38;5;124;03mSee ``variance`` for arguments and other details.\u001b[39;00m\n\u001b[0;32m   (...)\u001b[0m\n\u001b[1;32m    823\u001b[0m \n\u001b[1;32m    824\u001b[0m \u001b[38;5;124;03m\"\"\"\u001b[39;00m\n\u001b[1;32m    825\u001b[0m \u001b[38;5;66;03m# Fixme: Despite the exact sum of squared deviations, some inaccuracy\u001b[39;00m\n\u001b[1;32m    826\u001b[0m \u001b[38;5;66;03m# remain because there are two rounding steps.  The first occurs in\u001b[39;00m\n\u001b[1;32m    827\u001b[0m \u001b[38;5;66;03m# the _convert() step for variance(), the second occurs in math.sqrt().\u001b[39;00m\n\u001b[0;32m--> 828\u001b[0m var \u001b[38;5;241m=\u001b[39m \u001b[43mvariance\u001b[49m\u001b[43m(\u001b[49m\u001b[43mdata\u001b[49m\u001b[43m,\u001b[49m\u001b[43m \u001b[49m\u001b[43mxbar\u001b[49m\u001b[43m)\u001b[49m\n\u001b[1;32m    829\u001b[0m \u001b[38;5;28;01mtry\u001b[39;00m:\n\u001b[1;32m    830\u001b[0m     \u001b[38;5;28;01mreturn\u001b[39;00m var\u001b[38;5;241m.\u001b[39msqrt()\n",
      "File \u001b[0;32m/usr/lib/python3.10/statistics.py:763\u001b[0m, in \u001b[0;36mvariance\u001b[0;34m(data, xbar)\u001b[0m\n\u001b[1;32m    725\u001b[0m \u001b[38;5;28;01mdef\u001b[39;00m \u001b[38;5;21mvariance\u001b[39m(data, xbar\u001b[38;5;241m=\u001b[39m\u001b[38;5;28;01mNone\u001b[39;00m):\n\u001b[1;32m    726\u001b[0m \u001b[38;5;250m    \u001b[39m\u001b[38;5;124;03m\"\"\"Return the sample variance of data.\u001b[39;00m\n\u001b[1;32m    727\u001b[0m \n\u001b[1;32m    728\u001b[0m \u001b[38;5;124;03m    data should be an iterable of Real-valued numbers, with at least two\u001b[39;00m\n\u001b[0;32m   (...)\u001b[0m\n\u001b[1;32m    761\u001b[0m \n\u001b[1;32m    762\u001b[0m \u001b[38;5;124;03m    \"\"\"\u001b[39;00m\n\u001b[0;32m--> 763\u001b[0m     \u001b[38;5;28;01mif\u001b[39;00m \u001b[38;5;28;43miter\u001b[39;49m\u001b[43m(\u001b[49m\u001b[43mdata\u001b[49m\u001b[43m)\u001b[49m \u001b[38;5;129;01mis\u001b[39;00m data:\n\u001b[1;32m    764\u001b[0m         data \u001b[38;5;241m=\u001b[39m \u001b[38;5;28mlist\u001b[39m(data)\n\u001b[1;32m    765\u001b[0m     n \u001b[38;5;241m=\u001b[39m \u001b[38;5;28mlen\u001b[39m(data)\n",
      "\u001b[0;31mTypeError\u001b[0m: 'int' object is not iterable"
     ]
    }
   ],
   "source": [
    "sample1 = [12,5,11,11,9,18]\n",
    "sample2 = [7,3,4,6,3,13]\n",
    "sig = 0.05\n",
    "u_hyp = 0\n",
    "t_Test_two_independent_samples(sample1,sample2,sig,u_hyp,2)"
   ]
  },
  {
   "cell_type": "markdown",
   "id": "55fb60f0-e6f1-47d1-8622-5d993e1b673a",
   "metadata": {},
   "source": [
    "#### Markdown for Table 14.1 CALCULATIONS FOR THE t TEST: TWO INDEPENDENT SAMPLES (EPO EXPERIMENT)\n",
    "\n",
    "$\\overline{X}_1 = 11; \\overline{X}_2 = 6$\n",
    "\n",
    "$\\Sigma{X}_1 = 66; \\Sigma{X}_2 = 36$\n",
    "\n",
    "$\\Sigma{X}_1^2 = 816; \\Sigma{X}_2^2 = 288$\n",
    "\n",
    "$SS_1 = 90; SS_2 = 72$\n",
    "    \n",
    "$S_P^2 = 16.2$\n",
    "\n",
    "$S_{\\overline{X}_1-\\overline{X}_2} = 2.32379000772445$\n",
    "\n",
    "$t = 2.151657414559676$\n",
    "\n",
    "For a one-tailed test at 95% confidence and significance level/p-value of 0.05, degrees of freedom df=6+6-2=10, t_value = 1.812. \n",
    "Decision: Reject H0 at the .05 level of significance because t = 2.151657414559676 exceeds 1.812\n",
    "\n",
    "Interpretation: The difference between population means is greater than zero. There is evidence that EPO increases the mean endurance scores of treatment patients."
   ]
  },
  {
   "cell_type": "markdown",
   "id": "cab2a12b-c433-4441-a033-e1261112750f",
   "metadata": {},
   "source": [
    "##### Progress Check *14.3 A psychologist investigates the effect of instructions on the time required to solve a puzzle. Each of 20 volunteers is given the same puzzle to be solved as rapidly as possible. Subjects are randomly assigned, in equal numbers, to receive two different sets of instructions prior to the task. One group is told that the task is difficult (X1), and the other group is told that the task is easy (X2). The score for each subject reflects the time in minutes required to solve the puzzle. Use a t to test the null hypothesis at the .05 level of significance."
   ]
  },
  {
   "cell_type": "code",
   "execution_count": null,
   "id": "dbfdc29d-42ff-4b9c-a918-1d04a63d8f87",
   "metadata": {},
   "outputs": [],
   "source": [
    "DIFFICULT_TASK = [5,20,7,23,30,24,9,8,20,12] #solution times\n",
    "EASY_TASK = [13,6,6,5,3,6,10,20,9,12] #solution times\n",
    "sig = 0.05\n",
    "u_hyp = 0\n",
    "tail = 2\n",
    "t_Test_two_independent_samples(DIFFICULT_TASK,EASY_TASK,sig,u_hyp,tail)"
   ]
  },
  {
   "cell_type": "markdown",
   "id": "df765fdb-6c66-4090-9bfb-e7e462f811de",
   "metadata": {},
   "source": [
    "#### Markdown for Table 14.3\n",
    "Statistical Hypothesis\n",
    "\n",
    "$H_{0}$ : $\\mu_{1} - \\mu_{2} = 0$\n",
    "\n",
    "$H_{1}$ : $\\mu_{1} - \\mu_{2} \\neq 0$\n",
    "\n",
    "$\\overline{X}_1 = 15.8; \\overline{X}_2 = 9$\n",
    "\n",
    "$\\Sigma{X}_1 = 158; \\Sigma{X}_2 = 90$\n",
    "\n",
    "$\\Sigma{X}_1^2 = 3168; \\Sigma{X}_2^2 = 1036$\n",
    "\n",
    "$SS_1 = 671.5999999999999; SS_2 = 226.0$\n",
    "    \n",
    "$S_P^2 = 49.86666666666666$\n",
    "\n",
    "$S_{\\overline{X}_1-\\overline{X}_2} = 3.158058475287203$\n",
    "\n",
    "$t = 2.1532216876958206$\n",
    "\n",
    "At 95% confidence level and a siginificance level/p-value of 0.05, degrees of freedom df=10+10-2=18, one-tailed test upper tail critical has a t_value = 2.101\n",
    "\n",
    "Decision: Reject H0 at the .05 level of significance because t = 2.1532216876958206 exceeds 2.101.\n",
    "\n",
    "Interpretation: Puzzle-solving times are longer, on average, for subjects who are told that the\n",
    "puzzle is difficult than for those who are told that the puzzle is easy."
   ]
  },
  {
   "cell_type": "markdown",
   "id": "7ddcf547-b358-497e-a864-e4a3e5b4c137",
   "metadata": {},
   "source": [
    "#### Progress Check *14.4 Find the approximate p-value for each of the following test results:\n",
    "(a) one-tailed test, upper tail critical; df = 12; t = 4.61 Answer: p < 0.001\n",
    "\n",
    "(b) one-tailed test, lower tail critical; df = 19; t = –2.41 Answer: p < 0.05\n",
    "\n",
    "(c) two-tailed test; df = 15; t = 3.76 Answer: p < 0.01\n",
    "\n",
    "(d) two-tailed test; df = 42; t = 1.305 Answer: p > 0.05\n",
    "\n",
    "(e) one-tailed test, upper tail critical; df = 11; t = –4.23 (Be careful!) Answer: p > 0.05"
   ]
  },
  {
   "cell_type": "markdown",
   "id": "3bb31671-dd90-4970-8026-d1c0e386e5bd",
   "metadata": {},
   "source": [
    "#### Progress Check *14.5 Indicate which member of each of the following pairs of p-values describes the more rare test result:\n",
    "(a1) p > .05 (a2) p < .05\n",
    "\n",
    "(b1) p < .001 (b2) p < .01\n",
    "\n",
    "(c1) p < .05 (c2) p < .01\n",
    "\n",
    "(d1) p < .10 (d2) p < .20\n",
    "\n",
    "(e1) p = .04 (e2) p = .02\n",
    "\n",
    "a2, b1, c2, d1, e2 the smaller the p-value indicates a more rare result"
   ]
  },
  {
   "cell_type": "markdown",
   "id": "6226359c-f3ae-4d30-9748-3191442ac15b",
   "metadata": {},
   "source": [
    "#### Progress Check *14.6 Treating each of the p-values in the previous exercise separately, indicate those that would cause you to reject the null hypothesis at the .05 level of significance.\n",
    "a2, b1, b2, c1, c2, e1, e2"
   ]
  },
  {
   "cell_type": "markdown",
   "id": "1c894542-8051-4368-8ee2-36af3427d77f",
   "metadata": {},
   "source": [
    "### CONFIDENCE INTERVAL (CI) FOR $\\mu_1 - \\mu_2$ (TWO INDEPENDENT SAMPLES)\n",
    "\n",
    "$\\overline{X}_1 - \\overline{X}_2~\\pm~(t_{conf})(S_{\\overline{X}_1-\\overline{X}_2})$"
   ]
  },
  {
   "cell_type": "markdown",
   "id": "ced54a08-0515-4ea8-ad60-f5dfe928e9fc",
   "metadata": {},
   "source": [
    "#### Progress Check *14.7 Imagine that one of the following 95 percent confidence intervals is based on an EPO experiment. (Because of the appearance of pairs of limits with dissimilar signs, a statistically significant result wasn’t required as a preliminary screen for constructing the confidence interval—possibly because, in the early stages of research, the investigator simply wanted to know the range of estimates, whether positive or negative, for any possible effect of EPO.)\n",
    "\n",
    "| 95% CONFIDENCE INTERVAL | LOWER LIMIT | UPPER LIMIT | DIFFERENCE |\n",
    "|:---------:|:--------:|:--------:|:--------:|\n",
    "|  1 |  –3.45  |  4.25  | 4.25−–3.45 = 7.7 |\n",
    "|  2  |  1.89  |  2.21  | 2.21-1.89 = 0.32 |\n",
    "|  3  |  –1.54  |  –0.32  | –0.32-–1.54 = 1.22 |\n",
    "|  4  |  0.21  |  1.53  | 1.53-0.21 = 1.32 |\n",
    "|  5  |  –2.53  |  1.78  | 1.78-–2.53 = 4.31 |\n",
    "\n",
    "(a) Which confidence interval is most precise? 2, because of the smallest difference\n",
    "\n",
    "(b) Which confidence interval most strongly supports the conclusion that EPO facilitates endurance? 2,because of the smallest difference\n",
    "\n",
    "(c) Which confidence interval most strongly supports the conclusion that EPO hinders endurance? 3, most negative\n",
    "\n",
    "(d) Which confidence interval would most likely stimulate the investigator to conduct an additional experiment using larger sample sizes? 1, because of biggest difference"
   ]
  },
  {
   "cell_type": "markdown",
   "id": "e8857918-29a0-4303-9adb-fecdfa22b8fd",
   "metadata": {},
   "source": [
    "### ESTIMATING EFFECT SIZE : COHEN ’ S d\n",
    "\n",
    "STANDARDIZED EFFECT SIZE, COHEN’S d (TWO INDEPENDENT SAMPLES)\n",
    "\n",
    "$d = \\dfrac{mean~difference}{standard~deviation} = \\dfrac{\\overline{X}_1 - \\overline{X}_2}{\\sqrt{S_P^2}}$\n",
    "\n",
    "d refers to a standardized estimate of the effect size; $\\overline{X}_1$ and $\\overline{X}_2$ are the two sample means; and $\\sqrt{S_P^2}$ is the sample standard deviation obtained from the square root of the pooled variance estimate."
   ]
  },
  {
   "cell_type": "markdown",
   "id": "c233a5e3-b825-49ff-99e2-5281bcf9935f",
   "metadata": {},
   "source": [
    "### Cohen's Guidelines for d\n",
    "\n",
    "| d | EFFECT SIZE \n",
    "|:---------:|:--------:|\n",
    "|  0.20 |  small  |\n",
    "|  0.50  | medium |\n",
    "|  0.80  |  large  |\n"
   ]
  },
  {
   "cell_type": "markdown",
   "id": "067c279e-649e-4ee8-8a23-45b85aa0fb97",
   "metadata": {},
   "source": [
    "#### Progress Check *14.8 Recall that in Question 14.3, a psychologist determined the effect of instructions on the time required by subjects to solve the same puzzle. For two independent samples of ten subjects per group, mean solution times, in minutes, were longer for subjects given “difficult” instructions (X = 15.8, s = 8.64) than for subjects given “easy” instructions (X = 9.0, s = 5.01). A t ratio of 2.15 led to the rejection of the null hypothesis.\n",
    "\n",
    "(a) Given a standard deviation, sp, of 7.06, calculate the value of the standardized effect size, d.\n",
    "\n",
    "Answer: d = 0.9629500128629355\n",
    "\n",
    "(b) Indicate how these results might be described in the literature.\n",
    "\n",
    "Answer: Puzzle-solving times are longer, on average, for subjects who are told that the puzzle is difficult (X = 15.8, s = 8.64) than for those who are told that the puzzle is easy (X = 9.0, s = 5.01), according to the t test [t (18) = 2.15, p < .05, d = .96].\n",
    "\n",
    "$d = \\dfrac{mean~difference}{standard~deviation} = \\dfrac{\\overline{X}_1 - \\overline{X}_2}{\\sqrt{S_P^2}}$\n",
    "\n",
    "### Sample Sums of Squares\n",
    "$SS$ = $\\Sigma({X}-\\overline{X})^2$ = $\\Sigma{X}^2$ $-$ $\\dfrac{(\\Sigma{X})^2}{n}$\n",
    "\n",
    "### THE POOLED VARIANCE\n",
    "\n",
    "$S_P^2 = \\dfrac{SS_1 + SS_2}{n_1 + n_2 - 2}$"
   ]
  },
  {
   "cell_type": "markdown",
   "id": "8c484f63-26d7-494f-836b-bb978bf28ad5",
   "metadata": {},
   "source": [
    "#### *14.10 Figure 4.2 on page 62 describes the results for two fictitious experiments, each with the same mean difference of 2 but with noticeably different variabilities. Unresolved was the question “Once variability has been considered, should the difference between each pair of means be viewed as real or merely transitory?” A t test for two independent samples permits us to answer this question for each experimental result.\n",
    "\n",
    "(a) Referring to Figure 4.2, again decide which of the two identical differences between pairs of means—that for Experiment B or for Experiment C—is more likely to be viewed as real. Answer: The difference between means for experiment B is more likely to be viewed as\n",
    "real because of its smaller variability.\n",
    "\n",
    "(b) Given that sp2 = .33 for Experiment B, test the null hypothesis at the .05 level of significance.\n",
    "\n",
    "Statistical Hypothesis\n",
    "\n",
    "$H_{0}$ : $\\mu_{1} - \\mu_{2} = 0$\n",
    "\n",
    "$H_{1}$ : $\\mu_{1} - \\mu_{2} \\neq 0$\n",
    "\n",
    "### STANDARD ERROR\n",
    "\n",
    "$S_{\\overline{X}_1-\\overline{X}_2} = \\sqrt{\\dfrac{S^2_P}{n_1} + \\dfrac{S^2_P}{n_2}}$\n",
    "\n",
    "### t TEST\n",
    "\n",
    "t Ratio\n",
    "\n",
    "$t = \\dfrac{(difference~between~sample~means)-(hypothesized~difference~between~population~means)}{estimated~standard~error}$\n",
    "\n",
    "Expressed in symbols,\n",
    "\n",
    "### t RATIO FOR TWO POPULATION MEANS (TWO INDEPENDENT SAMPLES)\n",
    "\n",
    "$t = \\dfrac{(\\overline{X}_1 - \\overline{X}_2)-(\\mu_1 - \\mu_2)_{hyp}}{S_{\\overline{X}_1-\\overline{X}_2}}$\n",
    "\n",
    "\n",
    "(c) Given that sp2 = 3.67 for Experiment C, test the null hypothesis at the .05 level of significance. You needn’t repeat the usual step-by-step hypothesis test procedure, but specify the observed value of t and the decision about the null hypothesis.\n",
    "\n",
    "(d) Specify the approximate p-values for both t tests.\n",
    "\n",
    "(e) Answer the original question about whether the difference between each pair of means is real or merely transitory. Answer: The difference between the means for experiment B is probably real, while that for experiment C is merely transitory.\n",
    "\n",
    "(f) If a difference is real, use Cohen’s d to estimate the effect size.\n",
    "\n",
    "STANDARDIZED EFFECT SIZE, COHEN’S d (TWO INDEPENDENT SAMPLES)\n",
    "\n",
    "$d = \\dfrac{mean~difference}{standard~deviation} = \\dfrac{\\overline{X}_1 - \\overline{X}_2}{\\sqrt{S_P^2}}$"
   ]
  },
  {
   "cell_type": "code",
   "execution_count": null,
   "id": "95727ec8-aae3-4d54-909f-7d832606cc36",
   "metadata": {},
   "outputs": [],
   "source": [
    "# b) 95% confidence level, significance level of 0.05, two-tailed test, n1 = n2 = 7; df=n-7+7-2=12; t_value = ±2.179\n",
    "import math\n",
    "sp2 = 0.33\n",
    "mean_difference = 2\n",
    "X_hyp = 0\n",
    "std_err = math.sqrt((sp2/7)+(sp2/7))\n",
    "t_ratio = (mean_difference - X_hyp)/std_err\n",
    "\n",
    "print(f'std_err = {std_err}')\n",
    "print(f't_ratio = {t_ratio}')\n",
    "# Reject null hypothesis because 6.513389472789295 is larger than +2.179"
   ]
  },
  {
   "cell_type": "code",
   "execution_count": null,
   "id": "dee0bc9e-1a38-4451-a6c3-a75f5564c33c",
   "metadata": {},
   "outputs": [],
   "source": [
    "# c)\n",
    "sp2 = 3.67\n",
    "mean_difference = 2\n",
    "X_hyp = 0\n",
    "std_err = math.sqrt((sp2/7)+(sp2/7))\n",
    "t_ratio = (mean_difference - X_hyp)/std_err\n",
    "\n",
    "print(f'std_err = {std_err}')\n",
    "print(f't_ratio = {t_ratio}')\n",
    "# Retain null hypothesis because 1.953129257488548 is smaller than +2.179\n",
    "\n",
    "# d)\n",
    "# For experiment B, p < .001, while for experiment C, p > .05"
   ]
  },
  {
   "cell_type": "code",
   "execution_count": null,
   "id": "aa00bd53-a480-43a7-be49-1954d934dee2",
   "metadata": {
    "scrolled": true
   },
   "outputs": [],
   "source": [
    "# f)\n",
    "d1 = mean_difference/math.sqrt(0.33)\n",
    "d2 = mean_difference/math.sqrt(3.67)\n",
    "print(d1,d2)"
   ]
  },
  {
   "cell_type": "markdown",
   "id": "e0f52f16-2aae-46c7-9f74-b0c09c3e888d",
   "metadata": {},
   "source": [
    "#### 14.11 To test compliance with authority, a classical experiment in social psychology requires subjects to administer increasingly painful electric shocks to seemingly helpless victims who agonize in an adjacent room.* Each subject earns a score between 0 and 30, depending on the point at which the subject refuses to comply with authority—an investigator, dressed in a white lab coat, who orders the administration of increasingly intense shocks. A score of 0 signifies the subject’s unwillingness to comply at the very outset, and a score of 30 signifies the subject’s willingness to comply completely with the experimenter’s orders.\n",
    "\n",
    "#### Ignore the very real ethical issues raised by this type of experiment, and assume that you want to study the effect of a “committee atmosphere” on compliance with authority. In one condition, shocks are administered only after an affirmative decision by the committee, consisting of one real subject and two associates of the investigator, who act as subjects but, in fact, merely go along with the decision of the real subject. In the other condition, shocks are administered only after an affirmative decision by a solitary real subject.\n",
    "\n",
    "#### A total of 12 subjects are randomly assigned, in equal numbers, to the committee condition (X1) and to the solitary condition (X2). A compliance score is obtained for each subject. Use t to test the null hypothesis at the .05 level of significance.\n",
    "\n",
    "### Compliance Scores\n",
    "\n",
    "| COMMITTEE | SOLITARY\n",
    "|:---------:|:--------:|\n",
    "|  2 |  3  |\n",
    "|  5  | 8 |\n",
    "|  20  |  7  |\n",
    "|  15 |  10  |\n",
    "|  4  | 14 |\n",
    "|  10 |  0  |"
   ]
  },
  {
   "cell_type": "markdown",
   "id": "95b40b7f-96c7-4f40-a90f-8819cf2c6e8e",
   "metadata": {},
   "source": [
    "Statistical Hypothesis\n",
    "\n",
    "$H_{0}$ : $\\mu_{1} - \\mu_{2} = 0$\n",
    "\n",
    "$H_{1}$ : $\\mu_{1} - \\mu_{2} \\neq 0$\n",
    "\n",
    "### THE POOLED VARIANCE\n",
    "\n",
    "$S_P^2 = \\dfrac{SS_1 + SS_2}{n_1 + n_2 - 2}$\n",
    "\n",
    "### Sample Sums of Squares\n",
    "$SS$ = $\\Sigma({X}-\\overline{X})^2$ = $\\Sigma{X}^2$ $-$ $\\dfrac{(\\Sigma{X})^2}{n}$\n",
    "\n",
    "### STANDARD ERROR\n",
    "\n",
    "$S_{\\overline{X}_1-\\overline{X}_2} = \\sqrt{\\dfrac{S^2_P}{n_1} + \\dfrac{S^2_P}{n_2}}$\n",
    "\n",
    "### t RATIO FOR TWO POPULATION MEANS (TWO INDEPENDENT SAMPLES)\n",
    "\n",
    "$t = \\dfrac{(\\overline{X}_1 - \\overline{X}_2)-(\\mu_1 - \\mu_2)_{hyp}}{S_{\\overline{X}_1-\\overline{X}_2}}$"
   ]
  },
  {
   "cell_type": "code",
   "execution_count": null,
   "id": "6965c069-b872-4603-a89f-238fdb84045f",
   "metadata": {},
   "outputs": [],
   "source": [
    "COMMITTEE = [2,5,20,15,4,10]\n",
    "SOLITARY = [3,8,7,10,14,0]\n",
    "sig = 0.05\n",
    "u_hyp = 0\n",
    "tail = 2\n",
    "t_Test_two_independent_samples(COMMITTEE,SOLITARY,sig,u_hyp,tail)\n",
    "# 0.5221856962852363"
   ]
  },
  {
   "cell_type": "markdown",
   "id": "87bc3a45-8a14-4a41-91dd-eed8da0bf7e4",
   "metadata": {},
   "source": [
    "95% confidence and a significance level of 0.05, for a two-tailed test, df=6+6-2=10, t_value=$\\pm$2.228, retain the null hypothesis because there is no significant difference between the groups. t_ratio = 0.6632166866334747 is smaller than 2.228."
   ]
  },
  {
   "cell_type": "markdown",
   "id": "417ef035-dcf6-436c-b108-97b4b8f6719b",
   "metadata": {},
   "source": [
    "#### 14.12 To determine whether training in a series of workshops on creative thinking increases IQ scores, a total of 70 students are randomly divided into treatment and control groups of 35 each. After two months of training, the sample mean IQ X 1 for the treatment group equals 110, and the sample mean IQ X 2 for the control group equals 108. The estimated standard error equals 1.80.\n",
    "\n",
    "(a) Using t, test the null hypothesis at the .01 level of significance.\n",
    "\n",
    "(b) If appropriate (because the null hypothesis has been rejected), estimate the standardized effect size, construct a 99 percent confidence interval for the true population mean difference, and interpret these estimates.\n",
    "\n",
    "Statistical Hypothesis\n",
    "\n",
    "$H_{0}$ : $\\mu_{1} - \\mu_{2} = 0$\n",
    "\n",
    "$H_{1}$ : $\\mu_{1} - \\mu_{2} \\neq 0$\n",
    "\n",
    "### Sample Sums of Squares\n",
    "$SS$ = $\\Sigma({X}-\\overline{X})^2$ = $\\Sigma{X}^2$ $-$ $\\dfrac{(\\Sigma{X})^2}{n}$\n",
    "\n",
    "### THE POOLED VARIANCE\n",
    "\n",
    "$S_P^2 = \\dfrac{SS_1 + SS_2}{n_1 + n_2 - 2}$\n",
    "\n",
    "$S_P^2 = \\dfrac{({n_1 - 1})s_1^2 + ({n_2 - 1})s_2^2}{n_1 + n_2 - 2}$\n",
    "\n",
    "where $s_1^2$ and $s_2^2$ are variances from $\\sigma^2 = \\frac{SS}{N - 1}$ then $SS = \\sigma^2(N-1)$\n",
    "\n",
    "### ESTIMATED STANDARD ERROR\n",
    "\n",
    "$S_{\\overline{X}_1-\\overline{X}_2} = \\sqrt{\\dfrac{S^2_P}{n_1} + \\dfrac{S^2_P}{n_2}}$\n",
    "\n",
    "### t RATIO FOR TWO POPULATION MEANS (TWO INDEPENDENT SAMPLES)\n",
    "\n",
    "$t = \\dfrac{(\\overline{X}_1 - \\overline{X}_2)-(\\mu_1 - \\mu_2)_{hyp}}{S_{\\overline{X}_1-\\overline{X}_2}}$"
   ]
  },
  {
   "cell_type": "code",
   "execution_count": null,
   "id": "8096e381-90a5-4610-adb4-66dd2a5a757e",
   "metadata": {},
   "outputs": [],
   "source": [
    "# (a) Using t, test the null hypothesis at the .01 level of significance.\n",
    "n1 = n2 = 35\n",
    "sample_mean1 =110\n",
    "sample_mean2 = 108\n",
    "std_error = 1.8\n",
    "# 99% confidence level at 0.01 significance level for a two-tailed t-test, df=n1+n2-2=68, t_value = ±2.66\n",
    "pooled_variance = ((std_error**2*(n1-1)) + (std_error**2*(n2-1)))/(n1+n2-2)\n",
    "print(pooled_variance)\n",
    "\n",
    "estimated_std_error = math.sqrt(std_error**2/n1 + std_error**2/n2)\n",
    "print(estimated_std_error)\n",
    "\n",
    "t = ((sample_mean1 - sample_mean2)- 0)/estimated_std_error\n",
    "t\n",
    "# At 99% confidence and significance level of 0.01, two-tailed test, df=n1+n2-2=35+35-2=68, t_value=±2.66\n",
    "# Reject the null hypothesis because t_ratio = 4.648111258522642 is greater than t_value=2.66"
   ]
  },
  {
   "cell_type": "markdown",
   "id": "94d5217f-e24e-4edc-b172-4b691f3c6f38",
   "metadata": {},
   "source": [
    "### ESTIMATING EFFECT SIZE : COHEN ’ S d\n",
    "\n",
    "STANDARDIZED EFFECT SIZE, COHEN’S d (TWO INDEPENDENT SAMPLES)\n",
    "\n",
    "$d = \\dfrac{mean~difference}{standard~deviation} = \\dfrac{\\overline{X}_1 - \\overline{X}_2}{\\sqrt{S_P^2}}$\n",
    "\n",
    "d refers to a standardized estimate of the effect size; $\\overline{X}_1$ and $\\overline{X}_2$ are the two sample means; and $\\sqrt{S_P^2}$ is the sample standard deviation obtained from the square root of the pooled variance estimate.\n",
    "\n",
    "### THE POOLED VARIANCE\n",
    "\n",
    "$S_P^2 = \\dfrac{SS_1 + SS_2}{n_1 + n_2 - 2}$\n",
    "\n",
    "$S_P^2 = \\dfrac{({n_1 - 1})s_1^2 + ({n_2 - 1})s_2^2}{n_1 + n_2 - 2}$\n",
    "\n",
    "### ESTIMATED STANDARD ERROR\n",
    "\n",
    "$S_{\\overline{X}_1-\\overline{X}_2} = \\sqrt{\\dfrac{S^2_P}{n_1} + \\dfrac{S^2_P}{n_2}}$\n",
    "\n",
    "### CONFIDENCE INTERVAL (CI) FOR $\\mu_1 - \\mu_2$ (TWO INDEPENDENT SAMPLES)\n",
    "\n",
    "$\\overline{X}_1 - \\overline{X}_2~\\pm~(t_{conf})(S_{\\overline{X}_1-\\overline{X}_2})$\n",
    "\n",
    "At 99% confidence, significance level of 0.01, degrees of freedom df=n1+n2-2=35+35-2=68, two-tailed test, the t_value=2.66"
   ]
  },
  {
   "cell_type": "code",
   "execution_count": null,
   "id": "fd083ad8-543f-4328-94db-6c3d5de819d5",
   "metadata": {
    "scrolled": true
   },
   "outputs": [],
   "source": [
    "# b) If appropriate (because the null hypothesis has been rejected), estimate the standardized effect size, construct a \n",
    "# 99 percent confidence interval for the true population mean difference, and interpret these estimates.\n",
    "import math\n",
    "sample_mean1 =110\n",
    "sample_mean2 = 108\n",
    "pooled_variance = ((std_error**2*(n1-1)) + (std_error**2*(n2-1)))/(n1+n2-2)\n",
    "print(f'pooled_variance = {pooled_variance}')\n",
    "d = (sample_mean1-sample_mean2)/math.sqrt(pooled_variance)\n",
    "print(f\"Cohen's d = {d}\")\n",
    "\n",
    "est_std_error = math.sqrt(pooled_variance/n1 + pooled_variance/n2)\n",
    "print(f'est_std_error = {est_std_error}')\n",
    "\n",
    "CI_1 = (sample_mean1-sample_mean2) - 2.66*est_std_error\n",
    "CI_2 = (sample_mean1-sample_mean2) + 2.66*est_std_error\n",
    "print(f'CI_1 = {CI_1}; CI_2 = {CI_2}')"
   ]
  },
  {
   "cell_type": "markdown",
   "id": "33b55a6b-e71b-4bb1-8a92-107d4c797330",
   "metadata": {},
   "source": [
    "#### 14.13 Is the performance of college students affected by the grading policy? In an introductory biology class, a total of 40 student volunteers are randomly assigned, in equal numbers, to take the course for either letter grades or a simple pass/fail. At the end of the  academic term, the mean achievement score for the letter grade students $\\overline{X}_1$ equals 86.2, and the mean achievement score for pass/fail students $\\overline{X}_2$ equals 81.6. The estimated standard error is 1.50.\n",
    "\n",
    "Hypothesis Statement\n",
    "\n",
    "$H_{0}$ : $\\mu_{1} - \\mu_{2} = 0$\n",
    "\n",
    "$H_{1}$ : $\\mu_{1} - \\mu_{2} \\neq 0$\n",
    "\n",
    "(a) Use t to test the null hypothesis at the .05 level of significance.\n",
    "\n",
    "(b) How would the above hypothesis test change if the roles of $X_1$ and $X_2$ were reversed—that is, if $X_1$ were identified with pass/fail students and $X_2$ were identified with letter grade students?\n",
    "\n",
    "(c) Most students would doubtless prefer to select their favorite grading policy rather than be randomly assigned to a particular grading policy. Therefore, why not replace random assignment with self-selection?\n",
    "\n",
    "Answer: Because of self-selection, groups might differ with respect to any one or several uncontrolled variables, such as motivation, aptitude, and so on, in addition to the difference in grading policy. Hence, any observed difference between the mean achievement scores for these two groups could not be attributed solely to the difference in grading policy.\n",
    "\n",
    "(d) Specify the p-value for this test result. Answer: p < 0.01\n",
    "\n",
    "(e) If the test result is statistically significant, estimate the standardized effect size, given that the standard deviation, $s_P$, equals 5.\n",
    "\n",
    "(f) State how the test results might be reported in the literature, given that $s_1$ = 5.39 and $s_2$ = 4.58.\n",
    "\n",
    "Answer: Introductory biology students have higher mean achievement scores when awarded letter grades (X = 86.2, s = 5.39) rather than a simple pass/fail (X = 81.6, s = 4.58), according to the t test [t (38) = 3.07,p < .01, d = .92].\n",
    "\n",
    "### THE POOLED VARIANCE\n",
    "\n",
    "$S_P^2 = \\dfrac{SS_1 + SS_2}{n_1 + n_2 - 2}$\n",
    "\n",
    "$S_P^2 = \\dfrac{({n_1 - 1})s_1^2 + ({n_2 - 1})s_2^2}{n_1 + n_2 - 2}$\n",
    "\n",
    "### ESTIMATED STANDARD ERROR\n",
    "\n",
    "$S_{\\overline{X}_1-\\overline{X}_2} = \\sqrt{\\dfrac{S^2_P}{n_1} + \\dfrac{S^2_P}{n_2}}$\n",
    "\n",
    "### t RATIO FOR TWO POPULATION MEANS (TWO INDEPENDENT SAMPLES)\n",
    "\n",
    "$t = \\dfrac{(\\overline{X}_1 - \\overline{X}_2)-(\\mu_1 - \\mu_2)_{hyp}}{S_{\\overline{X}_1-\\overline{X}_2}}$"
   ]
  },
  {
   "cell_type": "code",
   "execution_count": null,
   "id": "15245507-c93c-44cc-acdd-dc988df56bfa",
   "metadata": {
    "scrolled": true
   },
   "outputs": [],
   "source": [
    "# (a) Use t to test the null hypothesis at the .05 level of significance, two-tailed test df=40-2=38, t_value=2.042\n",
    "n1 = n2 = 20\n",
    "X1 = 86.2\n",
    "X2 = 81.6\n",
    "std_error = 1.5\n",
    "\n",
    "pooled_variance = (std_error**2*(n1-1) + std_error**2*(n2-1))/(n1+n2-2)\n",
    "print(f'pooled_variance = {pooled_variance}')\n",
    "\n",
    "est_std_error = math.sqrt((pooled_variance/n1) + (pooled_variance/n2))\n",
    "print(f'est_std_error = {est_std_error}')\n",
    "\n",
    "# Solution from ChatGPT\n",
    "t_ratio = ((X1-X2)-0)/est_std_error\n",
    "print(t_ratio)\n",
    "\n",
    "# Solution from book\n",
    "t_ratio2 = ((X1-X2)-0)/std_error\n",
    "print(t_ratio2)"
   ]
  },
  {
   "cell_type": "code",
   "execution_count": null,
   "id": "ea572b62-1a48-4ba6-862d-6292a5ddb687",
   "metadata": {
    "scrolled": true
   },
   "outputs": [],
   "source": [
    "# (b) How would the above hypothesis test change if the roles of X1 and X2 and were reversed—that is, if X1 were identified with pass/fail \n",
    "# students X2 and were identified with letter grade students?\n",
    "n1 = n2 = 20\n",
    "X1 = 81.6\n",
    "X2 = 86.2\n",
    "std_error = 1.5\n",
    "\n",
    "pooled_variance = (std_error**2*(n1-1) + std_error**2*(n2-1))/(n1+n2-2)\n",
    "print(f'pooled_variance = {pooled_variance}')\n",
    "\n",
    "est_std_error = math.sqrt((pooled_variance/n1) + (pooled_variance/n2))\n",
    "print(f'est_std_error = {est_std_error}')\n",
    "\n",
    "# Solution from ChatGPT\n",
    "t_ratio = ((X1-X2)-0)/est_std_error\n",
    "print(t_ratio)\n",
    "\n",
    "# Solution from book\n",
    "t_ratio2 = ((X1-X2)-0)/std_error\n",
    "print(t_ratio2)\n",
    "\n",
    "# The calculated t ratio would have been equal to –3.07 rather than 3.07. Most important, however, the same interpretation would have been \n",
    "# appropriate: Introductory biology students have higher achievement scores, on average, when awarded letter grades rather than a simple \n",
    "# pass/fail."
   ]
  },
  {
   "cell_type": "code",
   "execution_count": null,
   "id": "2c1b91a6-a96f-4024-90b0-3c514b12518b",
   "metadata": {
    "scrolled": true
   },
   "outputs": [],
   "source": [
    "# (e) If the test result is statistically significant, estimate the standardized effect size, given that the standard deviation, \n",
    "# Sp, equals 5.\n",
    "import math\n",
    "X1 = 86.2\n",
    "X2 = 81.6\n",
    "std_deviation = 5\n",
    "d = (X1-X2)/(std_deviation)\n",
    "d"
   ]
  },
  {
   "cell_type": "markdown",
   "id": "8fd49435-4e93-4c3f-85e5-230c35698494",
   "metadata": {},
   "source": [
    "#### 14.14 An investigator wishes to determine whether alcohol consumption causes a deterioration in the performance of automobile drivers. Before the driving test, subjects drink a glass of orange juice, which, in the case of the treatment group, is laced with two ounces of vodka. Performance is measured by the number of errors made on a driving simulator. A total of 120 volunteer subjects are randomly assigned, in equal numbers, to the two groups. For subjects in the treatment group, the mean number of errors $\\overline{X}_1$ equals 26.4, and for subjects in the control group, the mean number of errors $\\overline{X}_2$ equals 18.6. The estimated standard error equals 2.4.\n",
    "\n",
    "(a) Use t to test the null hypothesis at the .05 level of significance.\n",
    "\n",
    "Hypothesis Statement\n",
    "\n",
    "$H_{0}$ : $\\mu_{1} - \\mu_{2} = 0$\n",
    "\n",
    "$H_{1}$ : $\\mu_{1} - \\mu_{2} \\neq 0$\n",
    "\n",
    "(b) Specify the p-value for this test result. Answer: p < 0.001\n",
    "\n",
    "(c) If appropriate, construct a 95 percent confidence interval for the true population mean difference and interpret this interval.\n",
    "\n",
    "(d) If the test result is statistically significant, use Cohen’s d to estimate the effect size, given that the standard deviation, sp, equals 13.15.\n",
    "\n",
    "(e) State how these test results might be reported in the literature, given s1 = 13.99 and s2 = 12.15.\n",
    "\n",
    "Answer: Mean errors on a driving simulator are significantly greater when alcohol is consumed (X = 26.4, s = 13.99) than when no alcohol is consumed (X = 18.6, s = 12.15), according to a t test [t (118) = 3.25, p < .001, d = .59]. (Incidentally, compared to the very rare value of p < .001 for the t ratio, the comparatively modest standardized estimate of .59 for effect size illustrates the immunity of d to the large sample size of 60 subjects per group.)"
   ]
  },
  {
   "cell_type": "code",
   "execution_count": null,
   "id": "45c2fae3-c9dc-46fa-8cc1-3e22f22ed4e7",
   "metadata": {
    "scrolled": true
   },
   "outputs": [],
   "source": [
    "# a)\n",
    "n1=n2=60\n",
    "df = n1+n2-2\n",
    "X1 = 26.4\n",
    "X2 = 18.6\n",
    "est_std_error = 2.4\n",
    "# 95% confidence level, 0.05 significance level, two-tailed test, t_value=2.0\n",
    "\n",
    "t_ratio = ((X1-X2)-0)/est_std_error\n",
    "print(f't_ratio = {t_ratio}')\n",
    "# Reject null hypothesis"
   ]
  },
  {
   "cell_type": "code",
   "execution_count": null,
   "id": "db5cbe1c-9254-4ed3-aeb7-5a3c4f4bb38a",
   "metadata": {},
   "outputs": [],
   "source": [
    "# Solution from ChatGPT\n",
    "std_error = 2.4\n",
    "pooled_variance = (std_error**2*(n1-1) + std_error**2*(n2-1))/(n1+n2-2)\n",
    "print(f'pooled_variance = {pooled_variance}')\n",
    "est_std_error = math.sqrt((pooled_variance/n1) + (pooled_variance/n2))\n",
    "print(f'est_std_error = {est_std_error}')\n",
    "# Solution from ChatGPT\n",
    "t_ratio = ((X1-X2)-0)/est_std_error\n",
    "est_std_error = math.sqrt((pooled_variance/n1) + (pooled_variance/n2))\n",
    "print(f't_ratio = {t_ratio}')"
   ]
  },
  {
   "cell_type": "markdown",
   "id": "618092dc-7c52-4426-993e-1f707a082031",
   "metadata": {},
   "source": [
    "### CONFIDENCE INTERVAL (CI) FOR $\\mu_1 - \\mu_2$ (TWO INDEPENDENT SAMPLES)\n",
    "\n",
    "$\\overline{X}_1 - \\overline{X}_2~\\pm~(t_{conf})(S_{\\overline{X}_1-\\overline{X}_2})$"
   ]
  },
  {
   "cell_type": "code",
   "execution_count": null,
   "id": "e9a7272a-f5ed-4b60-bf6b-b55f44e8dd82",
   "metadata": {
    "scrolled": true
   },
   "outputs": [],
   "source": [
    "# (c) If appropriate, construct a 95 percent confidence interval for the true population mean difference and interpret this interval.\n",
    "X1 = 26.4\n",
    "X2 = 18.6\n",
    "tconf = 2.0\n",
    "est_std_error = 2.4\n",
    "CI1 = (X1-X2)-(tconf*est_std_error)\n",
    "CI2 = (X1-X2)+(tconf*est_std_error)\n",
    "print(f'CI1 = {CI1}; CI2 = {CI2}')\n",
    "# We are 95 percent confident that the interval from 3.0 to 12.6 describes the increase in population mean performance errors \n",
    "# attributable to alcohol."
   ]
  },
  {
   "cell_type": "markdown",
   "id": "832d186a-4dd7-40f5-8fc0-599810af8fa4",
   "metadata": {},
   "source": [
    "### ESTIMATING EFFECT SIZE : COHEN ’ S d\n",
    "\n",
    "STANDARDIZED EFFECT SIZE, COHEN’S d (TWO INDEPENDENT SAMPLES)\n",
    "\n",
    "$d = \\dfrac{mean~difference}{standard~deviation} = \\dfrac{\\overline{X}_1 - \\overline{X}_2}{\\sqrt{S_P^2}}$"
   ]
  },
  {
   "cell_type": "code",
   "execution_count": null,
   "id": "db990a42-1a11-4dd4-8481-1926205f9414",
   "metadata": {
    "scrolled": true
   },
   "outputs": [],
   "source": [
    "# (d) If the test result is statistically significant, use Cohen’s d to estimate the effect size, given that the standard deviation, \n",
    "# sp, equals 13.15.\n",
    "X1 = 26.4\n",
    "X2 = 18.6\n",
    "std_dev = 13.15\n",
    "d = (X1-X2)/std_dev\n",
    "print(f'Effect (d) = {d}')"
   ]
  },
  {
   "cell_type": "markdown",
   "id": "c9ee3c32-bd6f-4952-807f-c0ef6a041487",
   "metadata": {},
   "source": [
    "### e)\n",
    "### THE POOLED VARIANCE\n",
    "\n",
    "$S_P^2 = \\dfrac{SS_1 + SS_2}{n_1 + n_2 - 2}$\n",
    "\n",
    "$S_P^2 = \\dfrac{({n_1 - 1})s_1^2 + ({n_2 - 1})s_2^2}{n_1 + n_2 - 2}$\n",
    "\n",
    "### ESTIMATED STANDARD ERROR\n",
    "\n",
    "$S_{\\overline{X}_1-\\overline{X}_2} = \\sqrt{\\dfrac{S^2_P}{n_1} + \\dfrac{S^2_P}{n_2}}$\n",
    "\n",
    "### t RATIO FOR TWO POPULATION MEANS (TWO INDEPENDENT SAMPLES)\n",
    "\n",
    "$t = \\dfrac{(\\overline{X}_1 - \\overline{X}_2)-(\\mu_1 - \\mu_2)_{hyp}}{S_{\\overline{X}_1-\\overline{X}_2}}$"
   ]
  },
  {
   "cell_type": "code",
   "execution_count": null,
   "id": "5d922c47-77bf-4ad1-b093-2fd9081e4641",
   "metadata": {
    "scrolled": true
   },
   "outputs": [],
   "source": [
    "# (e) State how these test results might be reported in the literature, given s1 = 13.99 and s2 = 12.15.\n",
    "import math\n",
    "X1 = 26.4\n",
    "X2 = 18.6\n",
    "n1=n2=60\n",
    "s1 = 13.99\n",
    "s2 = 12.15\n",
    "pooled_variance = (((n1-1)*s1**2) + ((n2-1)*s2**2))/(n1+n2-2)\n",
    "print(f'pooled_variance = {pooled_variance}')\n",
    "\n",
    "est_std_error = math.sqrt((pooled_variance/n1) + (pooled_variance/n2))\n",
    "print(f'est_std_error = {est_std_error}')\n",
    "\n",
    "t_ratio = ((X1-X2)-0)/est_std_error\n",
    "print(f't_ratio = {t_ratio}')\n",
    "\n",
    "# t_ratio of 3.260666504012354 is greater than t_value of 2.00, reject the null hypothesis"
   ]
  },
  {
   "cell_type": "markdown",
   "id": "171afa24-8411-45ff-be28-fbac06ee7176",
   "metadata": {},
   "source": [
    "#### 14.15 Review Question 2.16 on page 44 lists the GPAs for groups of 27 meditators and 27 nonmeditators.\n",
    "#### Assume that student volunteers were assigned arbitrarily (according to a coin toss) either to be trained to meditate or to behave as usual. To determine whether meditation training (the independent variable) influences GPAs (the dependent variable), GPAs were calculated for each student at the end of the one-year experiment, yielding these results for the two groups:\n",
    "\n",
    "(a) Given that the mean GPA equals 3.19 for the meditators and 2.90 for the non-meditators, and that ${s}^2_P$ equals .20, specify the observed value of t and its approximate p-value.\n",
    "\n",
    "(b) Answer the original question about whether these two groups tend to differ.\n",
    "\n",
    "(c) If the p-value is less than .05, use Cohen’s d to estimate the effect size."
   ]
  },
  {
   "cell_type": "code",
   "execution_count": null,
   "id": "3d426456-ed14-4be3-8286-575696837549",
   "metadata": {
    "scrolled": true
   },
   "outputs": [],
   "source": [
    "# a) Given that the mean GPA equals 3.19 for the meditators and 2.90 for the non-meditators, and that equals pooled variance(s2p) = .20, \n",
    "# specify the observed value of t and its approximate p-value.\n",
    "\n",
    "meditators = [3.25,2.25,2.75,3.56,3.33,2.25,3.57,2.45,3.75,2.95,3.30,3.56,3.56,3.78,3.75,3.45,3.00,3.35,3.10,2.75,3.09,2.58,2.95,3.56,3.30,3.43,3.47]\n",
    "non_meditators = [3.67,3.79,3.00,2.50,2.75,1.90,3.50,2.67,2.90,2.80,2.65,2.58,2.83,3.10,3.37,3.25,2.76,2.86,2.90,2.10,2.66,2.34,3.20,2.67,3.59,3.00,3.08]\n",
    "X1 = 3.19\n",
    "X2 = 2.90\n",
    "\n",
    "est_std_error = math.sqrt((0.2/len(meditators)) + (0.20/len(non_meditators)))\n",
    "print(f'est_std_error = {est_std_error}')\n",
    "\n",
    "t_ratio = ((X1-X2)-0)/est_std_error\n",
    "print(f't_ratio = {t_ratio}')\n",
    "# p-value: p < 0.05"
   ]
  },
  {
   "cell_type": "code",
   "execution_count": null,
   "id": "66b73078-76f4-4262-98a3-f57034d03bef",
   "metadata": {},
   "outputs": [],
   "source": [
    "# (c) If the p-value is less than .05, use Cohen’s d to estimate the effect size.\n",
    "import statistics\n",
    "import math\n",
    "\n",
    "meditators = [3.25,2.25,2.75,3.56,3.33,2.25,3.57,2.45,3.75,2.95,3.30,3.56,3.56,3.78,3.75,3.45,3.00,3.35,3.10,2.75,3.09,2.58,2.95,3.56,3.30,3.43,3.47]\n",
    "non_meditators = [3.67,3.79,3.00,2.50,2.75,1.90,3.50,2.67,2.90,2.80,2.65,2.58,2.83,3.10,3.37,3.25,2.76,2.86,2.90,2.10,2.66,2.34,3.20,2.67,3.59,3.00,3.08]\n",
    "X1 = 3.19\n",
    "X2 = 2.90\n",
    "\n",
    "s1 = statistics.stdev(meditators)\n",
    "s2 = statistics.stdev(non_meditators)\n",
    "print(s1,s2)\n",
    "\n",
    "pooled_variance = (s1**2*(len(meditators)) + s2**2*(len(non_meditators)))/(len(meditators)+len(non_meditators))\n",
    "standard_deviation = math.sqrt(pooled_variance)\n",
    "print(f'standard_deviation = {standard_deviation}')\n",
    "\n",
    "d = (X1-X2)/est_std_error\n",
    "print(f'Cohens d = {d}')"
   ]
  }
 ],
 "metadata": {
  "kernelspec": {
   "display_name": "Python 3 (ipykernel)",
   "language": "python",
   "name": "python3"
  },
  "language_info": {
   "codemirror_mode": {
    "name": "ipython",
    "version": 3
   },
   "file_extension": ".py",
   "mimetype": "text/x-python",
   "name": "python",
   "nbconvert_exporter": "python",
   "pygments_lexer": "ipython3",
   "version": "3.10.12"
  }
 },
 "nbformat": 4,
 "nbformat_minor": 5
}
