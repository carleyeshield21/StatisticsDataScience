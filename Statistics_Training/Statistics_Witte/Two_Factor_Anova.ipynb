{
 "cells": [
  {
   "cell_type": "code",
   "execution_count": 1,
   "id": "1595bf21-a524-4ce5-9546-af2c225badfe",
   "metadata": {},
   "outputs": [],
   "source": [
    "zero_zero_c = [6,4,5]\n",
    "zero_500_c = [5,3,3]\n",
    "zero_thousand_c = [4,2,3]\n",
    "zero_1500_c = [2,3,2]\n",
    "\n",
    "half_zero_c = [5,4,5]\n",
    "half_500_c = [4,3,2]\n",
    "half_thousand_c = [3,2,3]\n",
    "half_1500_c = [2,1,2]\n",
    "\n",
    "one_zero_c = [4,3,4]\n",
    "one_500_c = [4,2,3]\n",
    "one_thousand_c = [3,2,2]\n",
    "one_1500_c = [1,2,1]\n",
    "data = [zero_zero_c,zero_500_c,zero_thousand_c,zero_1500_c,half_zero_c,half_500_c,half_thousand_c,half_1500_c,one_zero_c,one_500_c,one_thousand_c,one_1500_c]\n",
    "rows = 3\n",
    "columns = 4\n",
    "num_of_items_in_list = 3"
   ]
  },
  {
   "cell_type": "code",
   "execution_count": 2,
   "id": "329eeaf8-84cf-47dd-9ecf-0ca55433d22b",
   "metadata": {},
   "outputs": [
    {
     "name": "stdout",
     "output_type": "stream",
     "text": [
      "ROWS\n",
      "data = [[6, 4, 5], [5, 3, 3], [4, 2, 3], [2, 3, 2], [5, 4, 5], [4, 3, 2], [3, 2, 3], [2, 1, 2], [4, 3, 4], [4, 2, 3], [3, 2, 2], [1, 2, 1]]\n",
      "[6, 4, 5, 5, 3, 3, 4, 2, 3, 2, 3, 2]\n",
      "========\n",
      "[5, 4, 5, 4, 3, 2, 3, 2, 3, 2, 1, 2]\n",
      "========\n",
      "[4, 3, 4, 4, 2, 3, 3, 2, 2, 1, 2, 1]\n",
      "========\n",
      "row_totals = [42, 36, 31]\n",
      "\n",
      "\n",
      "COLUMNS\n"
     ]
    }
   ],
   "source": [
    "def data_rows(your_data,rows,columns):\n",
    "    print('ROWS')\n",
    "    print(f'data = {your_data}')\n",
    "    row_totals = []\n",
    "    for i in range(0,len(your_data),columns):\n",
    "        row_data = your_data[i:i+columns]\n",
    "        row_numbers = [num for sublist in row_data for num in sublist]\n",
    "        print(row_numbers)\n",
    "        row_totals.append(sum(row_numbers))\n",
    "        print('========')\n",
    "    print(f'row_totals = {row_totals}')\n",
    "    print('\\n')\n",
    "    print('COLUMNS')\n",
    "    \n",
    "data_rows(data,rows,columns)"
   ]
  },
  {
   "cell_type": "code",
   "execution_count": 56,
   "id": "e29dbead-a07c-4b6a-b5d2-d73934026bc0",
   "metadata": {},
   "outputs": [
    {
     "name": "stdout",
     "output_type": "stream",
     "text": [
      "[[6, 4, 5], [5, 3, 3], [4, 2, 3], [2, 3, 2], [5, 4, 5], [4, 3, 2], [3, 2, 3], [2, 1, 2], [4, 3, 4], [4, 2, 3], [3, 2, 2], [1, 2, 1]]\n",
      "0\n",
      "index = 0\n",
      "index = 4\n",
      "index = 8\n",
      "=========\n",
      "1\n",
      "index = 1\n",
      "index = 5\n",
      "index = 9\n",
      "=========\n",
      "2\n",
      "index = 2\n",
      "index = 6\n",
      "index = 10\n",
      "=========\n",
      "3\n",
      "index = 3\n",
      "index = 7\n",
      "index = 11\n",
      "=========\n"
     ]
    }
   ],
   "source": [
    "# 0 4 8\n",
    "# 1 5 9\n",
    "# 2 6 10\n",
    "# 3 7 11\n",
    "def data_columns(your_data,rows,columns):\n",
    "    print(your_data)\n",
    "    for i in range(columns):\n",
    "        print(i)\n",
    "        index = 0\n",
    "        j = 0\n",
    "        while j != rows:  \n",
    "            print(f'index = {i}')\n",
    "            i+=columns\n",
    "            j+=1\n",
    "        print('=========')\n",
    "            \n",
    "data_columns(data,rows,columns)"
   ]
  },
  {
   "cell_type": "code",
   "execution_count": 3,
   "id": "3d0638ba-40b9-4826-b329-68a99f20b194",
   "metadata": {},
   "outputs": [
    {
     "name": "stdout",
     "output_type": "stream",
     "text": [
      "<class 'list'>\n",
      "[[6, 4, 5], [5, 3, 3], [4, 2, 3], [2, 3, 2], [5, 4, 5], [4, 3, 2], [3, 2, 3], [2, 1, 2], [4, 3, 4], [4, 2, 3], [3, 2, 2], [1, 2, 1]]\n"
     ]
    }
   ],
   "source": [
    "zero_zero_c = [6,4,5]\n",
    "zero_500_c = [5,3,3]\n",
    "zero_thousand_c = [4,2,3]\n",
    "zero_1500_c = [2,3,2]\n",
    "\n",
    "half_zero_c = [5,4,5]\n",
    "half_500_c = [4,3,2]\n",
    "half_thousand_c = [3,2,3]\n",
    "half_1500_c = [2,1,2]\n",
    "\n",
    "one_zero_c = [4,3,4]\n",
    "one_500_c = [4,2,3]\n",
    "one_thousand_c = [3,2,2]\n",
    "one_1500_c = [1,2,1]\n",
    "\n",
    "rows1 = 3\n",
    "columns1 = 4\n",
    "num_of_items_in_list1 = 3\n",
    "\n",
    "# data1 = zero_zero_c+zero_500_c+zero_thousand_c+zero_1500_c\n",
    "# data2 = half_zero_c+half_500_c+half_thousand_c+half_1500_c\n",
    "# data3 = one_zero_c+one_500_c+one_thousand_c+one_1500_c\n",
    "# print(f'data1 = {data1},{sum(data1)}')\n",
    "# print(f'data2 = {data2},{sum(data2)}')\n",
    "# print(f'data3 = {data3},{sum(data3)}')\n",
    "data1 = [zero_zero_c,zero_500_c,zero_thousand_c,zero_1500_c,half_zero_c,half_500_c,half_thousand_c,half_1500_c,one_zero_c,one_500_c,one_thousand_c,one_1500_c]\n",
    "# data = zero_zero_c+zero_500_c+zero_thousand_c+zero_1500_c+half_zero_c+half_500_c+half_thousand_c+half_1500_c+one_zero_c+one_500_c+one_thousand_c+one_1500_c\n",
    "print(type(data1))\n",
    "print(data1)"
   ]
  },
  {
   "cell_type": "code",
   "execution_count": 4,
   "id": "58313276-b797-42ba-b3ac-9fd507959606",
   "metadata": {},
   "outputs": [
    {
     "name": "stdout",
     "output_type": "stream",
     "text": [
      "[[6, 4, 5], [5, 3, 3], [4, 2, 3]]\n",
      "[[2, 3, 2], [5, 4, 5], [4, 3, 2]]\n",
      "[[3, 2, 3], [2, 1, 2], [4, 3, 4]]\n",
      "[[4, 2, 3], [3, 2, 2], [1, 2, 1]]\n",
      "=========\n",
      "[]\n",
      "[]\n",
      "[]\n",
      "[]\n",
      "=========\n",
      "[]\n",
      "[]\n",
      "[]\n",
      "[]\n"
     ]
    }
   ],
   "source": [
    "print(data[0:3])\n",
    "print(data[3:6])\n",
    "print(data[6:9])\n",
    "print(data[9:12])\n",
    "print('=========')\n",
    "print(data[12:15])\n",
    "print(data[15:18])\n",
    "print(data[18:21])\n",
    "print(data[21:24])\n",
    "print('=========')\n",
    "print(data[24:27])\n",
    "print(data[27:30])\n",
    "print(data[30:33])\n",
    "print(data[33:36])"
   ]
  },
  {
   "cell_type": "code",
   "execution_count": 57,
   "id": "0da3501e-3609-4547-8bf3-a1586f198ca9",
   "metadata": {},
   "outputs": [
    {
     "name": "stdout",
     "output_type": "stream",
     "text": [
      "ROWS\n",
      "data = [[6, 4, 5, 3], [5, 3, 3, 6], [4, 2, 3, 8], [2, 3, 2, 2], [5, 4, 5, 4], [4, 3, 2, 3], [3, 2, 3, 4], [2, 1, 2, 1], [4, 3, 4, 2], [4, 2, 3, 1], [3, 2, 2, 5], [1, 2, 1, 3], [4, 3, 4, 2], [4, 2, 3, 1], [3, 2, 2, 5], [1, 2, 1, 3]]\n",
      "[6, 4, 5, 3, 5, 3, 3, 6, 4, 2, 3, 8, 2, 3, 2, 2]\n",
      "========\n",
      "[5, 4, 5, 4, 4, 3, 2, 3, 3, 2, 3, 4, 2, 1, 2, 1]\n",
      "========\n",
      "[4, 3, 4, 2, 4, 2, 3, 1, 3, 2, 2, 5, 1, 2, 1, 3]\n",
      "========\n",
      "[4, 3, 4, 2, 4, 2, 3, 1, 3, 2, 2, 5, 1, 2, 1, 3]\n",
      "========\n",
      "row_totals = [61, 48, 42, 42]\n",
      "\n",
      "\n",
      "COLUMNS\n",
      "[[6, 4, 5, 3], [5, 3, 3, 6], [4, 2, 3, 8], [2, 3, 2, 2], [5, 4, 5, 4], [4, 3, 2, 3], [3, 2, 3, 4], [2, 1, 2, 1], [4, 3, 4, 2], [4, 2, 3, 1], [3, 2, 2, 5], [1, 2, 1, 3], [4, 3, 4, 2], [4, 2, 3, 1], [3, 2, 2, 5], [1, 2, 1, 3]]\n",
      "0\n",
      "index = 0\n",
      "index = 4\n",
      "index = 8\n",
      "index = 12\n",
      "=========\n",
      "1\n",
      "index = 1\n",
      "index = 5\n",
      "index = 9\n",
      "index = 13\n",
      "=========\n",
      "2\n",
      "index = 2\n",
      "index = 6\n",
      "index = 10\n",
      "index = 14\n",
      "=========\n",
      "3\n",
      "index = 3\n",
      "index = 7\n",
      "index = 11\n",
      "index = 15\n",
      "=========\n"
     ]
    }
   ],
   "source": [
    "a1 = [6,4,5,3]\n",
    "a2 = [5,3,3,6]\n",
    "a3 = [4,2,3,8]\n",
    "a4 = [2,3,2,2]\n",
    "\n",
    "b1 = [5,4,5,4]\n",
    "b2 = [4,3,2,3]\n",
    "b3 = [3,2,3,4]\n",
    "b4 = [2,1,2,1]\n",
    "\n",
    "c1 = [4,3,4,2]\n",
    "c2 = [4,2,3,1]\n",
    "c3 = [3,2,2,5]\n",
    "c4 = [1,2,1,3]\n",
    "\n",
    "d1 = [4,3,4,2]\n",
    "d2 = [4,2,3,1]\n",
    "d3 = [3,2,2,5]\n",
    "d4 = [1,2,1,3]\n",
    "\n",
    "rows2 = 4\n",
    "columns2 = 4\n",
    "num_of_items_in_list2 = 4\n",
    "data2 = [a1,a2,a3,a4,b1,b2,b3,b4,c1,c2,c3,c4,d1,d2,d3,d4]\n",
    "\n",
    "data_rows(data2,rows2,columns2)\n",
    "data_columns(data2,rows2,columns2)"
   ]
  },
  {
   "cell_type": "code",
   "execution_count": 58,
   "id": "2537248d-1da9-4153-bccd-1dbe11d2343c",
   "metadata": {},
   "outputs": [
    {
     "name": "stdout",
     "output_type": "stream",
     "text": [
      "ROWS\n",
      "data = [[8, 8], [8, 6], [10, 8], [9, 11], [15, 19], [24, 18]]\n",
      "[8, 8, 8, 6, 10, 8]\n",
      "========\n",
      "[9, 11, 15, 19, 24, 18]\n",
      "========\n",
      "row_totals = [48, 96]\n",
      "\n",
      "\n",
      "COLUMNS\n",
      "[[8, 8], [8, 6], [10, 8], [9, 11], [15, 19], [24, 18]]\n",
      "0\n",
      "index = 0\n",
      "index = 3\n",
      "=========\n",
      "1\n",
      "index = 1\n",
      "index = 4\n",
      "=========\n",
      "2\n",
      "index = 2\n",
      "index = 5\n",
      "=========\n"
     ]
    }
   ],
   "source": [
    "danger_zero = [8,8]\n",
    "danger_two = [8,6]\n",
    "danger_four = [10,8]\n",
    "non_danger_zero = [9,11]\n",
    "non_danger_two = [15,19]\n",
    "non_danger_four = [24,18]\n",
    "danger_data = [danger_zero,danger_two,danger_four,non_danger_zero,non_danger_two,non_danger_four]\n",
    "rows3 = 2\n",
    "columns3 = 3\n",
    "data_rows(danger_data,rows3,columns3)\n",
    "data_columns(danger_data,rows3,columns3)"
   ]
  }
 ],
 "metadata": {
  "kernelspec": {
   "display_name": "Python 3 (ipykernel)",
   "language": "python",
   "name": "python3"
  },
  "language_info": {
   "codemirror_mode": {
    "name": "ipython",
    "version": 3
   },
   "file_extension": ".py",
   "mimetype": "text/x-python",
   "name": "python",
   "nbconvert_exporter": "python",
   "pygments_lexer": "ipython3",
   "version": "3.10.12"
  }
 },
 "nbformat": 4,
 "nbformat_minor": 5
}
