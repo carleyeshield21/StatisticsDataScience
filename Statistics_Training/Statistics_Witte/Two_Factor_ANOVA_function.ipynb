{
 "cells": [
  {
   "cell_type": "code",
   "execution_count": 1,
   "id": "cb494a05-183c-4a44-96f9-8f60a4b6286f",
   "metadata": {},
   "outputs": [],
   "source": [
    "zero_zero_c = [6,4,5]\n",
    "zero_500_c = [5,3,3]\n",
    "zero_thousand_c = [4,2,3]\n",
    "zero_1500_c = [2,3,2]\n",
    "\n",
    "half_zero_c = [5,4,5]\n",
    "half_500_c = [4,3,2]\n",
    "half_thousand_c = [3,2,3]\n",
    "half_1500_c = [2,1,2]\n",
    "\n",
    "one_zero_c = [4,3,4]\n",
    "one_500_c = [4,2,3]\n",
    "one_thousand_c = [3,2,2]\n",
    "one_1500_c = [1,2,1]\n",
    "data = [zero_zero_c,zero_500_c,zero_thousand_c,zero_1500_c,half_zero_c,half_500_c,half_thousand_c,half_1500_c,one_zero_c,one_500_c,one_thousand_c,one_1500_c]\n",
    "r = 3\n",
    "c = 4\n",
    "num_of_items_in_list = 3"
   ]
  },
  {
   "cell_type": "code",
   "execution_count": 44,
   "id": "2ff2d3d6-3120-4a6d-9f50-a6036d45ba19",
   "metadata": {},
   "outputs": [],
   "source": [
    "def TWO_FACTOR_ANOVA(your_data,rows,columns):\n",
    "    print('ROWS')\n",
    "    row_totals = []\n",
    "    for i in range(0,len(your_data),columns):\n",
    "        row_data = your_data[i:i+columns]\n",
    "        row_numbers = [num for sublist in row_data for num in sublist]\n",
    "        row_totals.append(sum(row_numbers))\n",
    "    print(f'row_totals = {row_totals}')\n",
    "    print('\\n')\n",
    "    \n",
    "    print('COLUMNS')\n",
    "    column_data_final = []\n",
    "    for i in range(columns):\n",
    "        column_data = []\n",
    "        index = 0\n",
    "        j = 0\n",
    "        while j != rows:  \n",
    "            column_data.append(sum(your_data[i]))\n",
    "            i+=columns\n",
    "            j+=1\n",
    "        column_data_sum = sum(column_data)\n",
    "        column_data_final.append(column_data_sum)\n",
    "    print(f'column_data_final = {column_data_final}')"
   ]
  },
  {
   "cell_type": "code",
   "execution_count": 45,
   "id": "bb97ce9d-31d1-4bbf-b371-b74c97c78a2f",
   "metadata": {},
   "outputs": [
    {
     "name": "stdout",
     "output_type": "stream",
     "text": [
      "ROWS\n",
      "row_totals = [42, 36, 31]\n",
      "\n",
      "\n",
      "COLUMNS\n",
      "column_data_final = [40, 29, 24, 16]\n"
     ]
    }
   ],
   "source": [
    "TWO_FACTOR_ANOVA(data,r,c)"
   ]
  }
 ],
 "metadata": {
  "kernelspec": {
   "display_name": "Python 3 (ipykernel)",
   "language": "python",
   "name": "python3"
  },
  "language_info": {
   "codemirror_mode": {
    "name": "ipython",
    "version": 3
   },
   "file_extension": ".py",
   "mimetype": "text/x-python",
   "name": "python",
   "nbconvert_exporter": "python",
   "pygments_lexer": "ipython3",
   "version": "3.10.12"
  }
 },
 "nbformat": 4,
 "nbformat_minor": 5
}
