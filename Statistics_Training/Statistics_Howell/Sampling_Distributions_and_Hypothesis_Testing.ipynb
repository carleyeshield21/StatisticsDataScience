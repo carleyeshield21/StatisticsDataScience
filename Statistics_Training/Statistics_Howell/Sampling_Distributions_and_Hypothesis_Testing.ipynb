{
 "cells": [
  {
   "cell_type": "code",
   "execution_count": 1,
   "id": "efcbef04-579b-4a93-a580-42bafcb24fa3",
   "metadata": {},
   "outputs": [
    {
     "name": "stdout",
     "output_type": "stream",
     "text": [
      "proportion = 0.017\n",
      "z = -2.12\n"
     ]
    }
   ],
   "source": [
    "from scipy.stats import norm\n",
    "\n",
    "proportion = round(norm.cdf(-2.13),3)\n",
    "print(f'proportion = {proportion}')\n",
    "\n",
    "z = round(norm.ppf(proportion),3)\n",
    "print(f'z = {z}')"
   ]
  },
  {
   "cell_type": "markdown",
   "id": "90ebe0eb-3d78-470e-94c7-d157684d6db1",
   "metadata": {},
   "source": [
    "#### 4.2 For the past year I have spent about $4.00 a day for lunch, give or take a quarter or so.\n",
    "a. Draw a rough sketch of this distribution of daily expenditures.\n",
    "\n",
    "b. If, without looking at the bill, I paid for my lunch with a 5 dollar bill and received $.75 in change, should I worry that I was overcharged?\n",
    "\n",
    "c. Explain the logic involved in your answer to part (b)."
   ]
  },
  {
   "cell_type": "code",
   "execution_count": 2,
   "id": "bb8e4129-4ee7-4e74-9665-564ecdd4d31f",
   "metadata": {
    "scrolled": true
   },
   "outputs": [
    {
     "data": {
      "text/plain": [
       "(array([10., 12., 29., 47., 62., 59., 45., 27.,  6.,  3.]),\n",
       " array([3.36354556, 3.49360291, 3.62366026, 3.7537176 , 3.88377495,\n",
       "        4.0138323 , 4.14388965, 4.27394699, 4.40400434, 4.53406169,\n",
       "        4.66411903]),\n",
       " <BarContainer object of 10 artists>)"
      ]
     },
     "execution_count": 2,
     "metadata": {},
     "output_type": "execute_result"
    },
    {
     "data": {
      "image/png": "[encoded data removed]",
      "text/plain": [
       "<Figure size 640x480 with 1 Axes>"
      ]
     },
     "metadata": {},
     "output_type": "display_data"
    }
   ],
   "source": [
    "import matplotlib.pyplot as plt\n",
    "import numpy as np\n",
    "mean = 4\n",
    "sd = 0.25\n",
    "expenditure = np.random.normal(mean,sd,300)\n",
    "\n",
    "plt.hist(expenditure)"
   ]
  },
  {
   "cell_type": "markdown",
   "id": "7413d6eb-fe9f-4139-ae7b-038cf1faf9a9",
   "metadata": {},
   "source": [
    "#### 4.7 A recently admitted class of graduate students at a large state university has a mean Graduate Record Exam verbal score of 650 with a standard deviation of 50. (The scores are reasonably normally distributed.) One student, whose mother just happens to be on the board of trustees, was admitted with a GRE score of 490. Should the local newspaper editor, who loves scandals, write a scathing editorial about favoritism?"
   ]
  },
  {
   "cell_type": "code",
   "execution_count": 3,
   "id": "6f097289-55b5-48ca-8030-306fc2d148e6",
   "metadata": {},
   "outputs": [
    {
     "name": "stdout",
     "output_type": "stream",
     "text": [
      "z = -3.2\n",
      "proportion = 0.00069\n"
     ]
    }
   ],
   "source": [
    "from scipy.stats import norm\n",
    "mean = 650\n",
    "sd = 50\n",
    "X = 490\n",
    "z = (X-mean)/sd\n",
    "print(f'z = {z}')\n",
    "\n",
    "proportion = round(norm.cdf(z),5)\n",
    "print(f'proportion = {proportion}')"
   ]
  },
  {
   "cell_type": "markdown",
   "id": "30af6808-ff47-42d0-b0c0-f0a33b75cfb5",
   "metadata": {},
   "source": [
    "#### Permutations - when arrangement is considered\n",
    "\n",
    "$P_r^{N}=\\dfrac{N!}{(N-r)!}$\n",
    "\n",
    "#### Combinations - when arrangement is not considered\n",
    "\n",
    "$C_r^{N}=\\dfrac{N!}{r!(N-r)!}$"
   ]
  },
  {
   "cell_type": "markdown",
   "id": "2bd27588-12a3-4faa-b6c2-b121e44369cf",
   "metadata": {},
   "source": [
    "#### 5.26 In a study of human cognition, we want to look at recall of different classes of words (nouns, verbs, adjectives, and adverbs). Each subject will see one of each. We are afraid that there may be a sequence effect, however, and want to have different subjects see the different classes in a different order. How many subjects will we need if we are to have one subject per order?"
   ]
  },
  {
   "cell_type": "code",
   "execution_count": 4,
   "id": "719ec470-25f3-4e33-9bb2-1f81bd5f49fd",
   "metadata": {},
   "outputs": [
    {
     "name": "stdout",
     "output_type": "stream",
     "text": [
      "24\n",
      "6\n",
      "count3 = 19535040\n"
     ]
    }
   ],
   "source": [
    "from itertools import permutations, combinations\n",
    "list =['nouns', 'verbs', 'adjectives', 'adverbs']\n",
    "\n",
    "count1 = 0\n",
    "for item in permutations(list,4):\n",
    "    count1 += 1\n",
    "print(count1)\n",
    "\n",
    "count2 = 0\n",
    "for item in combinations(list,2):\n",
    "    count2 += 1\n",
    "print(count2)\n",
    "\n",
    "list2 = [n for n in range(1,20)]\n",
    "count3 = 0\n",
    "for n in permutations(list2,6):\n",
    "    # print(n)\n",
    "    count3 += 1\n",
    "print(f'count3 = {count3}')"
   ]
  },
  {
   "cell_type": "markdown",
   "id": "2dbbb6eb-bd3c-4144-a9ef-95000832b78e",
   "metadata": {},
   "source": [
    "#### 5.28 In a learning task, a subject is presented with five buttons. He must learn to press three specific buttons in a predetermined order. What chance does that subject have of pressing correctly on the first trial?"
   ]
  },
  {
   "cell_type": "code",
   "execution_count": 5,
   "id": "61e48b48-9cd4-4eb0-a081-02d7d199155b",
   "metadata": {},
   "outputs": [
    {
     "name": "stdout",
     "output_type": "stream",
     "text": [
      "probability = 1/60 of getting it correct at the first try\n"
     ]
    }
   ],
   "source": [
    "from itertools import permutations, combinations\n",
    "\n",
    "list = [i for i in range(1,6)]\n",
    "count = 0\n",
    "for n in permutations(list,3):\n",
    "    count+=1\n",
    "print(f'probability = 1/{count} of getting it correct at the first try')"
   ]
  },
  {
   "cell_type": "markdown",
   "id": "553f6729-484f-4916-9304-2c0870099af7",
   "metadata": {},
   "source": [
    "#### 5.30 We are designing a study in which six external electrodes will be implanted in a rat’s brain. The six-channel amplifier in our recording apparatus blew two channels when the research assistant took it home to run her stereo. How many different ways can we record from the brain? (It makes no difference what signal goes on which channel.)"
   ]
  },
  {
   "cell_type": "code",
   "execution_count": 6,
   "id": "35b19e3c-da73-4c64-8ada-dbf3421f0d20",
   "metadata": {},
   "outputs": [
    {
     "name": "stdout",
     "output_type": "stream",
     "text": [
      "6\n",
      "Number of recording ways = 360\n"
     ]
    }
   ],
   "source": [
    "from itertools import permutations, combinations\n",
    "\n",
    "electrodes = [ch for ch in range(6)]\n",
    "print(len(electrodes))\n",
    "count = 0\n",
    "for elc in permutations(electrodes, 4):\n",
    "    count+=1\n",
    "print(f'Number of recording ways = {count}')"
   ]
  },
  {
   "cell_type": "code",
   "execution_count": 7,
   "id": "9bbc8685-60ed-411d-8669-5603409c92b6",
   "metadata": {},
   "outputs": [
    {
     "name": "stdout",
     "output_type": "stream",
     "text": [
      "Probability of getting 11 or more correct answers by random guessing: 0.41190147399902344\n"
     ]
    }
   ],
   "source": [
    "from scipy.stats import binom\n",
    "\n",
    "# Parameters\n",
    "n = 20  # Total number of questions\n",
    "p = 0.5  # Probability of success (guessing correctly)\n",
    "\n",
    "# Calculate the probability of getting 11 or more correct answers\n",
    "probability = 1 - binom.cdf(10, n, p)\n",
    "\n",
    "print(\"Probability of getting 11 or more correct answers by random guessing:\", probability)\n"
   ]
  },
  {
   "cell_type": "markdown",
   "id": "5fe880f0-7eb8-4da6-baa2-1d6ddcbc8c0e",
   "metadata": {},
   "source": [
    "#### 5.36 At age 40, 1% of women can be expected to have breast cancer. Of those women with breast cancer, 80% will have positive mammographies. In addition, 9.6% of women who do not have breast cancer will have a positive mammography. If a woman in this age group tests positive for breast cancer, what is the probability that she actually has it. Use Bayes’ theorem to solve this problem. (Hint: Letting BC stand for “breast cancer,” we have p(BC) 5 .01, p(1|BC) 5 .80, and p(1| BC) 5 .096. You want to solve for p(BC|1).)\n",
    "\n",
    "Refer to path: Statistics_Training/Statistics_Witte/Statistics_Populations_Sample_Probability.ipynb"
   ]
  },
  {
   "cell_type": "code",
   "execution_count": 8,
   "id": "1eda3cfd-2298-4884-bdcb-f8096fa29668",
   "metadata": {},
   "outputs": [
    {
     "name": "stdout",
     "output_type": "stream",
     "text": [
      "Probability of having breast cancer given a positive mammogram: 7.763975155279504\n"
     ]
    }
   ],
   "source": [
    "# Define the probabilities\n",
    "p_cancer = 0.01  # Probability of having breast cancer\n",
    "p_pos_given_cancer = 0.80  # Probability of a positive mammogram given cancer\n",
    "p_pos_given_no_cancer = 0.096  # Probability of a positive mammogram given no cancer\n",
    "\n",
    "# Calculate the probability of a positive mammogram\n",
    "p_pos = (p_cancer * p_pos_given_cancer) + ((1 - p_cancer) * p_pos_given_no_cancer)\n",
    "\n",
    "# Calculate the probability of having cancer given a positive mammogram using Bayes' theorem\n",
    "p_cancer_given_pos = (p_cancer * p_pos_given_cancer) / p_pos\n",
    "\n",
    "print(\"Probability of having breast cancer given a positive mammogram:\", p_cancer_given_pos*100)"
   ]
  },
  {
   "cell_type": "markdown",
   "id": "f44c4a28-f8b0-41d1-b273-e99f5d2b1ffb",
   "metadata": {},
   "source": [
    "#### 6.3 You have a theory that if you ask subjects to sort one-sentence characteristics of people (e.g., “I eat too fast”) into five piles ranging from “not at all like me” to “very much like me,” the percentage of items placed in each of the five piles will be approximately 10, 20, 40, 20, and 10. You have one of your friend’s children sort 50 statements, and you obtain the following data: [8, 10, 20, 8, 4] Do these data support your hypothesis?\n",
    "\n",
    "$\\chi^2=\\dfrac{\\Sigma(O-E)^2}{E}$"
   ]
  },
  {
   "cell_type": "code",
   "execution_count": 9,
   "id": "4835419d-7027-4008-a9bd-090101825bbd",
   "metadata": {},
   "outputs": [
    {
     "name": "stdout",
     "output_type": "stream",
     "text": [
      "Chi-square statistic: 2.4000000000000004\n",
      "p-value: 0.6626272662068446\n",
      "Fail to reject null hypothesis: The observed distribution does not significantly differ from the expected distribution.\n"
     ]
    }
   ],
   "source": [
    "from scipy.stats import chisquare\n",
    "\n",
    "# Expected percentages for each category\n",
    "expected_percentages = [10, 20, 40, 20, 10]\n",
    "\n",
    "# Total number of items\n",
    "total_items = 50\n",
    "\n",
    "# Calculate expected frequencies based on expected percentages\n",
    "expected_frequencies = [percentage * total_items / 100 for percentage in expected_percentages]\n",
    "\n",
    "# Observed frequencies (from the data)\n",
    "observed_frequencies = [8, 10, 20, 8, 4]\n",
    "\n",
    "# Perform chi-square goodness of fit test\n",
    "chi2, p_value = chisquare(observed_frequencies, f_exp=expected_frequencies)\n",
    "\n",
    "# Print results\n",
    "print(\"Chi-square statistic:\", chi2)\n",
    "print(\"p-value:\", p_value)\n",
    "\n",
    "# Interpret the results\n",
    "alpha = 0.05\n",
    "if p_value < alpha:\n",
    "    print(\"Reject null hypothesis: The observed distribution significantly differs from the expected distribution.\")\n",
    "else:\n",
    "    print(\"Fail to reject null hypothesis: The observed distribution does not significantly differ from the expected distribution.\")"
   ]
  },
  {
   "cell_type": "code",
   "execution_count": 10,
   "id": "d745fafd-aef5-4c7e-9c0e-212ee28a14cc",
   "metadata": {
    "scrolled": true
   },
   "outputs": [
    {
     "name": "stdout",
     "output_type": "stream",
     "text": [
      "0.4\n",
      "5.0\n",
      "10.0\n",
      "7.2\n",
      "3.6\n"
     ]
    }
   ],
   "source": [
    "print(((8-10)**2)/10)\n",
    "print(((10-20)**2)/20)\n",
    "print(((20-40)**2)/40)\n",
    "print(((8-20)**2)/20)\n",
    "print(((4-10)**2)/10)"
   ]
  },
  {
   "cell_type": "code",
   "execution_count": 13,
   "id": "9614f87f-9aaa-42be-b523-be5802d15ef0",
   "metadata": {},
   "outputs": [
    {
     "name": "stdout",
     "output_type": "stream",
     "text": [
      "26.200000000000003\n"
     ]
    }
   ],
   "source": [
    "# 512 (494.49)\n",
    "# 227 (230.65)\n",
    "# 59 (64.65)\n",
    "# 18 (26.21)\n",
    "# 54 (71.51)\n",
    "# 37 (33.35)\n",
    "# 15 (9.35)\n",
    "# 12 (3.79)\n",
    "# list = [[512,494.49],[227,230.65],[59,64.65],[18,26.21],[54,71.51],[37,33.35],[15,9.35],[12,3.79]]\n",
    "list = [[8,10],[10,20],[20,40],[8,20],[4,10]]\n",
    "\n",
    "result = [(item[0]-item[1])**2/item[1] for item in list]\n",
    "print(sum(result))"
   ]
  }
 ],
 "metadata": {
  "kernelspec": {
   "display_name": "Python 3 (ipykernel)",
   "language": "python",
   "name": "python3"
  },
  "language_info": {
   "codemirror_mode": {
    "name": "ipython",
    "version": 3
   },
   "file_extension": ".py",
   "mimetype": "text/x-python",
   "name": "python",
   "nbconvert_exporter": "python",
   "pygments_lexer": "ipython3",
   "version": "3.10.12"
  }
 },
 "nbformat": 4,
 "nbformat_minor": 5
}
