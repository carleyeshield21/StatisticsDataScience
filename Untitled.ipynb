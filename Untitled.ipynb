{
 "cells": [
  {
   "cell_type": "code",
   "execution_count": 1,
   "id": "f1e05dc4-99c5-4021-95a9-277f5d2dd6f8",
   "metadata": {},
   "outputs": [],
   "source": [
    "products_on_sale = ['Chair_Type_1', 'Chair_Type_2', 'Chair_Type_3', 'Chair_Type_4']\n",
    "sale_prices = [100, 120, 135, 150]"
   ]
  },
  {
   "cell_type": "code",
   "execution_count": 10,
   "id": "b5b0254b-3fdd-4700-9a53-f777ab04d6fb",
   "metadata": {},
   "outputs": [
    {
     "name": "stdout",
     "output_type": "stream",
     "text": [
      "['Chair_Type_1', 100]\n",
      "['Chair_Type_1', 120]\n",
      "['Chair_Type_1', 135]\n",
      "['Chair_Type_1', 150]\n",
      "['Chair_Type_2', 100]\n",
      "['Chair_Type_2', 120]\n",
      "['Chair_Type_2', 135]\n",
      "['Chair_Type_2', 150]\n",
      "['Chair_Type_3', 100]\n",
      "['Chair_Type_3', 120]\n",
      "['Chair_Type_3', 135]\n",
      "['Chair_Type_3', 150]\n",
      "['Chair_Type_4', 100]\n",
      "['Chair_Type_4', 120]\n",
      "['Chair_Type_4', 135]\n",
      "['Chair_Type_4', 150]\n"
     ]
    }
   ],
   "source": [
    "list = []\n",
    "for pos in products_on_sale:\n",
    "    for sp in sale_prices:\n",
    "        combo = [pos,sp]\n",
    "        list.append(combo)\n",
    "for l in list:\n",
    "    print(l)"
   ]
  },
  {
   "cell_type": "code",
   "execution_count": 6,
   "id": "73732d04-afbe-41e2-9967-7634b07292ef",
   "metadata": {
    "scrolled": true
   },
   "outputs": [
    {
     "name": "stdout",
     "output_type": "stream",
     "text": [
      "['Chair_Type_1', 100]\n",
      "['Chair_Type_1', 120]\n",
      "['Chair_Type_1', 135]\n",
      "['Chair_Type_1', 150]\n",
      "['Chair_Type_2', 100]\n",
      "['Chair_Type_2', 120]\n",
      "['Chair_Type_2', 135]\n",
      "['Chair_Type_2', 150]\n",
      "['Chair_Type_3', 100]\n",
      "['Chair_Type_3', 120]\n",
      "['Chair_Type_3', 135]\n",
      "['Chair_Type_3', 150]\n",
      "['Chair_Type_4', 100]\n",
      "['Chair_Type_4', 120]\n",
      "['Chair_Type_4', 135]\n",
      "['Chair_Type_4', 150]\n"
     ]
    }
   ],
   "source": [
    "combinations = []\n",
    "\n",
    "# Nested loop to create combinations\n",
    "for product in products_on_sale:\n",
    "    for price in sale_prices:\n",
    "        combination = [product, price]\n",
    "        combinations.append(combination)\n",
    "\n",
    "# Display the combinations\n",
    "for combination in combinations:\n",
    "    print(combination)"
   ]
  },
  {
   "cell_type": "code",
   "execution_count": 8,
   "id": "2e9f3cfe-9e70-4c68-b6bf-b59d283810cb",
   "metadata": {
    "collapsed": true,
    "jupyter": {
     "outputs_hidden": true
    }
   },
   "outputs": [
    {
     "data": {
      "text/plain": [
       "True"
      ]
     },
     "execution_count": 8,
     "metadata": {},
     "output_type": "execute_result"
    }
   ],
   "source": [
    "list == combinations"
   ]
  },
  {
   "cell_type": "code",
   "execution_count": 9,
   "id": "9452490f-ecef-40dd-932e-426b10bd0b86",
   "metadata": {
    "scrolled": true
   },
   "outputs": [
    {
     "name": "stdout",
     "output_type": "stream",
     "text": [
      "0 1 2 3 4 5 6 7 8 9 "
     ]
    }
   ],
   "source": [
    "for i in range(0,10):\n",
    "    print(i,end=' ')"
   ]
  },
  {
   "cell_type": "code",
   "execution_count": 11,
   "id": "c5b2e5b8-4528-4b12-9711-a0c587b491e7",
   "metadata": {},
   "outputs": [],
   "source": [
    "products_on_sale = ['Chair_Type_1', 'Chair_Type_2', 'Chair_Type_3', 'Chair_Type_4']\n",
    "sale_prices = [100, 120, 135, 150]\n",
    "quantities = [1000, 1500, 1300]"
   ]
  },
  {
   "cell_type": "code",
   "execution_count": 16,
   "id": "bb35eadc-3c2b-4425-9650-3a4a62a7fc29",
   "metadata": {},
   "outputs": [
    {
     "name": "stdout",
     "output_type": "stream",
     "text": [
      "Expected revenue for Chair_Type_1 if 1000 chairs are to be sold: 100000\n",
      "Expected revenue for Chair_Type_1 if 1500 chairs are to be sold: 150000\n",
      "Expected revenue for Chair_Type_1 if 1300 chairs are to be sold: 130000\n",
      "Expected revenue for Chair_Type_1 if 1000 chairs are to be sold: 120000\n",
      "Expected revenue for Chair_Type_1 if 1500 chairs are to be sold: 180000\n",
      "Expected revenue for Chair_Type_1 if 1300 chairs are to be sold: 156000\n",
      "Expected revenue for Chair_Type_1 if 1000 chairs are to be sold: 135000\n",
      "Expected revenue for Chair_Type_1 if 1500 chairs are to be sold: 202500\n",
      "Expected revenue for Chair_Type_1 if 1300 chairs are to be sold: 175500\n",
      "Expected revenue for Chair_Type_1 if 1000 chairs are to be sold: 150000\n",
      "Expected revenue for Chair_Type_1 if 1500 chairs are to be sold: 225000\n",
      "Expected revenue for Chair_Type_1 if 1300 chairs are to be sold: 195000\n",
      "Expected revenue for Chair_Type_2 if 1000 chairs are to be sold: 100000\n",
      "Expected revenue for Chair_Type_2 if 1500 chairs are to be sold: 150000\n",
      "Expected revenue for Chair_Type_2 if 1300 chairs are to be sold: 130000\n",
      "Expected revenue for Chair_Type_2 if 1000 chairs are to be sold: 120000\n",
      "Expected revenue for Chair_Type_2 if 1500 chairs are to be sold: 180000\n",
      "Expected revenue for Chair_Type_2 if 1300 chairs are to be sold: 156000\n",
      "Expected revenue for Chair_Type_2 if 1000 chairs are to be sold: 135000\n",
      "Expected revenue for Chair_Type_2 if 1500 chairs are to be sold: 202500\n",
      "Expected revenue for Chair_Type_2 if 1300 chairs are to be sold: 175500\n",
      "Expected revenue for Chair_Type_2 if 1000 chairs are to be sold: 150000\n",
      "Expected revenue for Chair_Type_2 if 1500 chairs are to be sold: 225000\n",
      "Expected revenue for Chair_Type_2 if 1300 chairs are to be sold: 195000\n",
      "Expected revenue for Chair_Type_3 if 1000 chairs are to be sold: 100000\n",
      "Expected revenue for Chair_Type_3 if 1500 chairs are to be sold: 150000\n",
      "Expected revenue for Chair_Type_3 if 1300 chairs are to be sold: 130000\n",
      "Expected revenue for Chair_Type_3 if 1000 chairs are to be sold: 120000\n",
      "Expected revenue for Chair_Type_3 if 1500 chairs are to be sold: 180000\n",
      "Expected revenue for Chair_Type_3 if 1300 chairs are to be sold: 156000\n",
      "Expected revenue for Chair_Type_3 if 1000 chairs are to be sold: 135000\n",
      "Expected revenue for Chair_Type_3 if 1500 chairs are to be sold: 202500\n",
      "Expected revenue for Chair_Type_3 if 1300 chairs are to be sold: 175500\n",
      "Expected revenue for Chair_Type_3 if 1000 chairs are to be sold: 150000\n",
      "Expected revenue for Chair_Type_3 if 1500 chairs are to be sold: 225000\n",
      "Expected revenue for Chair_Type_3 if 1300 chairs are to be sold: 195000\n",
      "Expected revenue for Chair_Type_4 if 1000 chairs are to be sold: 100000\n",
      "Expected revenue for Chair_Type_4 if 1500 chairs are to be sold: 150000\n",
      "Expected revenue for Chair_Type_4 if 1300 chairs are to be sold: 130000\n",
      "Expected revenue for Chair_Type_4 if 1000 chairs are to be sold: 120000\n",
      "Expected revenue for Chair_Type_4 if 1500 chairs are to be sold: 180000\n",
      "Expected revenue for Chair_Type_4 if 1300 chairs are to be sold: 156000\n",
      "Expected revenue for Chair_Type_4 if 1000 chairs are to be sold: 135000\n",
      "Expected revenue for Chair_Type_4 if 1500 chairs are to be sold: 202500\n",
      "Expected revenue for Chair_Type_4 if 1300 chairs are to be sold: 175500\n",
      "Expected revenue for Chair_Type_4 if 1000 chairs are to be sold: 150000\n",
      "Expected revenue for Chair_Type_4 if 1500 chairs are to be sold: 225000\n",
      "Expected revenue for Chair_Type_4 if 1300 chairs are to be sold: 195000\n"
     ]
    }
   ],
   "source": [
    "list=[]\n",
    "\n",
    "for pos in products_on_sale:\n",
    "    for sp in sale_prices:\n",
    "        for q in quantities:\n",
    "            list.append([pos,sp*q])\n",
    "            print(f'Expected revenue for {pos} if {q} chairs are to be sold: {sp*q}')\n",
    "# for item in list:\n",
    "#     print(f'Expected revenue for {item[0]} if 1000 chairs are to be sold: 100000')"
   ]
  }
 ],
 "metadata": {
  "kernelspec": {
   "display_name": "Python 3 (ipykernel)",
   "language": "python",
   "name": "python3"
  },
  "language_info": {
   "codemirror_mode": {
    "name": "ipython",
    "version": 3
   },
   "file_extension": ".py",
   "mimetype": "text/x-python",
   "name": "python",
   "nbconvert_exporter": "python",
   "pygments_lexer": "ipython3",
   "version": "3.12.0"
  }
 },
 "nbformat": 4,
 "nbformat_minor": 5
}
