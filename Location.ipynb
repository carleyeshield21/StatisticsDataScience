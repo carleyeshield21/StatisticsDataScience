{
 "cells": [
  {
   "cell_type": "code",
   "execution_count": 1,
   "id": "8b907316-20c9-45db-ab76-c1fe7a63d18b",
   "metadata": {},
   "outputs": [],
   "source": [
    "import pandas"
   ]
  },
  {
   "cell_type": "code",
   "execution_count": 6,
   "id": "3fdb56fd-01f0-4aba-b51e-80b7df0e8c3f",
   "metadata": {},
   "outputs": [],
   "source": [
    "data = pandas.read_csv('Location.csv')"
   ]
  },
  {
   "cell_type": "code",
   "execution_count": 18,
   "id": "edc8c39e-7ba7-45d2-8783-4863987b5310",
   "metadata": {},
   "outputs": [],
   "source": [
    "location_data = data.copy().squeeze()\n",
    "# location_data = data.copy()"
   ]
  },
  {
   "cell_type": "code",
   "execution_count": 19,
   "id": "999f4a34-c25f-418c-a0be-a3d32a4c0914",
   "metadata": {},
   "outputs": [
    {
     "data": {
      "text/plain": [
       "pandas.core.series.Series"
      ]
     },
     "execution_count": 19,
     "metadata": {},
     "output_type": "execute_result"
    }
   ],
   "source": [
    "type(location_data)"
   ]
  },
  {
   "cell_type": "code",
   "execution_count": null,
   "id": "1f23ff7d-bf25-4ceb-8d04-41ddfa0d4994",
   "metadata": {},
   "outputs": [],
   "source": []
  }
 ],
 "metadata": {
  "kernelspec": {
   "display_name": "Python 3 (ipykernel)",
   "language": "python",
   "name": "python3"
  },
  "language_info": {
   "codemirror_mode": {
    "name": "ipython",
    "version": 3
   },
   "file_extension": ".py",
   "mimetype": "text/x-python",
   "name": "python",
   "nbconvert_exporter": "python",
   "pygments_lexer": "ipython3",
   "version": "3.12.0"
  }
 },
 "nbformat": 4,
 "nbformat_minor": 5
}
