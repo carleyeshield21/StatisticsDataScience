{
 "cells": [
  {
   "cell_type": "code",
   "execution_count": 1,
   "id": "4388a8fa-6801-443b-999f-ff7948ff7841",
   "metadata": {},
   "outputs": [],
   "source": [
    "import pandas"
   ]
  },
  {
   "cell_type": "code",
   "execution_count": 2,
   "id": "ceeee2bb-3ae0-4d9e-9264-28320ecdac02",
   "metadata": {},
   "outputs": [],
   "source": [
    "data = pandas.read_csv('statcsv.csv')"
   ]
  },
  {
   "cell_type": "code",
   "execution_count": 3,
   "id": "87236e64-0da6-41e3-8fec-a4023533b97c",
   "metadata": {},
   "outputs": [
    {
     "data": {
      "text/html": [
       "<div>\n",
       "<style scoped>\n",
       "    .dataframe tbody tr th:only-of-type {\n",
       "        vertical-align: middle;\n",
       "    }\n",
       "\n",
       "    .dataframe tbody tr th {\n",
       "        vertical-align: top;\n",
       "    }\n",
       "\n",
       "    .dataframe thead th {\n",
       "        text-align: right;\n",
       "    }\n",
       "</style>\n",
       "<table border=\"1\" class=\"dataframe\">\n",
       "  <thead>\n",
       "    <tr style=\"text-align: right;\">\n",
       "      <th></th>\n",
       "      <th>WEIGHT</th>\n",
       "      <th>f</th>\n",
       "      <th>CUMULATIVE f</th>\n",
       "      <th>cum percent</th>\n",
       "      <th>movie_ratings</th>\n",
       "    </tr>\n",
       "  </thead>\n",
       "  <tbody>\n",
       "    <tr>\n",
       "      <th>0</th>\n",
       "      <td>240–249</td>\n",
       "      <td>1.0</td>\n",
       "      <td>53.0</td>\n",
       "      <td>100.0</td>\n",
       "      <td>PG</td>\n",
       "    </tr>\n",
       "    <tr>\n",
       "      <th>1</th>\n",
       "      <td>230–239</td>\n",
       "      <td>0.0</td>\n",
       "      <td>52.0</td>\n",
       "      <td>98.0</td>\n",
       "      <td>G</td>\n",
       "    </tr>\n",
       "    <tr>\n",
       "      <th>2</th>\n",
       "      <td>220–229</td>\n",
       "      <td>3.0</td>\n",
       "      <td>52.0</td>\n",
       "      <td>98.0</td>\n",
       "      <td>R</td>\n",
       "    </tr>\n",
       "    <tr>\n",
       "      <th>3</th>\n",
       "      <td>210–219</td>\n",
       "      <td>0.0</td>\n",
       "      <td>49.0</td>\n",
       "      <td>92.0</td>\n",
       "      <td>NC-17</td>\n",
       "    </tr>\n",
       "    <tr>\n",
       "      <th>4</th>\n",
       "      <td>200–209</td>\n",
       "      <td>2.0</td>\n",
       "      <td>49.0</td>\n",
       "      <td>92.0</td>\n",
       "      <td>PG</td>\n",
       "    </tr>\n",
       "    <tr>\n",
       "      <th>5</th>\n",
       "      <td>190–199</td>\n",
       "      <td>4.0</td>\n",
       "      <td>47.0</td>\n",
       "      <td>89.0</td>\n",
       "      <td>PG-13</td>\n",
       "    </tr>\n",
       "    <tr>\n",
       "      <th>6</th>\n",
       "      <td>180–189</td>\n",
       "      <td>3.0</td>\n",
       "      <td>43.0</td>\n",
       "      <td>81.0</td>\n",
       "      <td>PG</td>\n",
       "    </tr>\n",
       "    <tr>\n",
       "      <th>7</th>\n",
       "      <td>170–179</td>\n",
       "      <td>7.0</td>\n",
       "      <td>40.0</td>\n",
       "      <td>75.0</td>\n",
       "      <td>NC-17</td>\n",
       "    </tr>\n",
       "    <tr>\n",
       "      <th>8</th>\n",
       "      <td>160–169</td>\n",
       "      <td>12.0</td>\n",
       "      <td>33.0</td>\n",
       "      <td>62.0</td>\n",
       "      <td>PG</td>\n",
       "    </tr>\n",
       "    <tr>\n",
       "      <th>9</th>\n",
       "      <td>150–159</td>\n",
       "      <td>17.0</td>\n",
       "      <td>21.0</td>\n",
       "      <td>40.0</td>\n",
       "      <td>R</td>\n",
       "    </tr>\n",
       "    <tr>\n",
       "      <th>10</th>\n",
       "      <td>140–149</td>\n",
       "      <td>1.0</td>\n",
       "      <td>4.0</td>\n",
       "      <td>8.0</td>\n",
       "      <td>R</td>\n",
       "    </tr>\n",
       "    <tr>\n",
       "      <th>11</th>\n",
       "      <td>130–139</td>\n",
       "      <td>3.0</td>\n",
       "      <td>3.0</td>\n",
       "      <td>6.0</td>\n",
       "      <td>PG</td>\n",
       "    </tr>\n",
       "    <tr>\n",
       "      <th>12</th>\n",
       "      <td>NaN</td>\n",
       "      <td>NaN</td>\n",
       "      <td>NaN</td>\n",
       "      <td>NaN</td>\n",
       "      <td>PG-13</td>\n",
       "    </tr>\n",
       "    <tr>\n",
       "      <th>13</th>\n",
       "      <td>NaN</td>\n",
       "      <td>NaN</td>\n",
       "      <td>NaN</td>\n",
       "      <td>NaN</td>\n",
       "      <td>PG</td>\n",
       "    </tr>\n",
       "    <tr>\n",
       "      <th>14</th>\n",
       "      <td>NaN</td>\n",
       "      <td>NaN</td>\n",
       "      <td>NaN</td>\n",
       "      <td>NaN</td>\n",
       "      <td>PG</td>\n",
       "    </tr>\n",
       "    <tr>\n",
       "      <th>15</th>\n",
       "      <td>NaN</td>\n",
       "      <td>NaN</td>\n",
       "      <td>NaN</td>\n",
       "      <td>NaN</td>\n",
       "      <td>G</td>\n",
       "    </tr>\n",
       "    <tr>\n",
       "      <th>16</th>\n",
       "      <td>NaN</td>\n",
       "      <td>NaN</td>\n",
       "      <td>NaN</td>\n",
       "      <td>NaN</td>\n",
       "      <td>G</td>\n",
       "    </tr>\n",
       "    <tr>\n",
       "      <th>17</th>\n",
       "      <td>NaN</td>\n",
       "      <td>NaN</td>\n",
       "      <td>NaN</td>\n",
       "      <td>NaN</td>\n",
       "      <td>PG</td>\n",
       "    </tr>\n",
       "    <tr>\n",
       "      <th>18</th>\n",
       "      <td>NaN</td>\n",
       "      <td>NaN</td>\n",
       "      <td>NaN</td>\n",
       "      <td>NaN</td>\n",
       "      <td>R</td>\n",
       "    </tr>\n",
       "    <tr>\n",
       "      <th>19</th>\n",
       "      <td>NaN</td>\n",
       "      <td>NaN</td>\n",
       "      <td>NaN</td>\n",
       "      <td>NaN</td>\n",
       "      <td>PG-13</td>\n",
       "    </tr>\n",
       "  </tbody>\n",
       "</table>\n",
       "</div>"
      ],
      "text/plain": [
       "     WEIGHT     f  CUMULATIVE f  cum percent movie_ratings\n",
       "0   240–249   1.0          53.0        100.0            PG\n",
       "1   230–239   0.0          52.0         98.0             G\n",
       "2   220–229   3.0          52.0         98.0             R\n",
       "3   210–219   0.0          49.0         92.0         NC-17\n",
       "4   200–209   2.0          49.0         92.0            PG\n",
       "5   190–199   4.0          47.0         89.0         PG-13\n",
       "6   180–189   3.0          43.0         81.0            PG\n",
       "7   170–179   7.0          40.0         75.0         NC-17\n",
       "8   160–169  12.0          33.0         62.0            PG\n",
       "9   150–159  17.0          21.0         40.0             R\n",
       "10  140–149   1.0           4.0          8.0             R\n",
       "11  130–139   3.0           3.0          6.0            PG\n",
       "12      NaN   NaN           NaN          NaN         PG-13\n",
       "13      NaN   NaN           NaN          NaN            PG\n",
       "14      NaN   NaN           NaN          NaN            PG\n",
       "15      NaN   NaN           NaN          NaN             G\n",
       "16      NaN   NaN           NaN          NaN             G\n",
       "17      NaN   NaN           NaN          NaN            PG\n",
       "18      NaN   NaN           NaN          NaN             R\n",
       "19      NaN   NaN           NaN          NaN         PG-13"
      ]
     },
     "execution_count": 3,
     "metadata": {},
     "output_type": "execute_result"
    }
   ],
   "source": [
    "data_copy = data.copy()\n",
    "data_copy"
   ]
  },
  {
   "cell_type": "code",
   "execution_count": 4,
   "id": "35951221-6a8a-4ce2-8fde-17036940f95e",
   "metadata": {},
   "outputs": [],
   "source": [
    "# cumf = data_copy['CUMULATIVE f']\n",
    "# sumf = sum(data.f)\n",
    "# # res = [round((item/sumf)*100) for item in cumf]\n",
    "# res = [f'{round((item/sumf)*100)}%' for item in cumf]\n",
    "# res"
   ]
  },
  {
   "cell_type": "code",
   "execution_count": 5,
   "id": "d4b7af17-5776-4572-a874-0685bad8bdc5",
   "metadata": {},
   "outputs": [
    {
     "data": {
      "text/plain": [
       "0        PG\n",
       "1         G\n",
       "2         R\n",
       "3     NC-17\n",
       "4        PG\n",
       "5     PG-13\n",
       "6        PG\n",
       "7     NC-17\n",
       "8        PG\n",
       "9         R\n",
       "10        R\n",
       "11       PG\n",
       "12    PG-13\n",
       "13       PG\n",
       "14       PG\n",
       "15        G\n",
       "16        G\n",
       "17       PG\n",
       "18        R\n",
       "19    PG-13\n",
       "Name: movie_ratings, dtype: object"
      ]
     },
     "execution_count": 5,
     "metadata": {},
     "output_type": "execute_result"
    }
   ],
   "source": [
    "movie_ratings = data_copy.movie_ratings\n",
    "movie_ratings"
   ]
  },
  {
   "cell_type": "code",
   "execution_count": 6,
   "id": "909dff7c-b109-4d38-bd79-97d03339e69c",
   "metadata": {},
   "outputs": [
    {
     "name": "stdout",
     "output_type": "stream",
     "text": [
      "PG: 8 times\n",
      "G: 3 times\n",
      "R: 4 times\n",
      "NC-17: 2 times\n",
      "PG-13: 3 times\n"
     ]
    }
   ],
   "source": [
    "from collections import Counter\n",
    "item_frequency = Counter(movie_ratings)\n",
    "\n",
    "for item, frequency in item_frequency.items():\n",
    "    print(f\"{item}: {frequency} times\")"
   ]
  },
  {
   "cell_type": "code",
   "execution_count": 7,
   "id": "ad39b374-5cfb-411d-9a81-9350b89c5465",
   "metadata": {},
   "outputs": [],
   "source": [
    "import matplotlib.pyplot as plt"
   ]
  },
  {
   "cell_type": "code",
   "execution_count": 8,
   "id": "1b60ced7-4cae-4b34-bff5-f48a83a5e844",
   "metadata": {
    "scrolled": true
   },
   "outputs": [
    {
     "data": {
      "text/plain": [
       "(array([8., 0., 3., 0., 0., 4., 0., 2., 0., 3.]),\n",
       " array([0. , 0.4, 0.8, 1.2, 1.6, 2. , 2.4, 2.8, 3.2, 3.6, 4. ]),\n",
       " <BarContainer object of 10 artists>)"
      ]
     },
     "execution_count": 8,
     "metadata": {},
     "output_type": "execute_result"
    },
    {
     "data": {
      "image/png": "[encoded data removed]",
      "text/plain": [
       "<Figure size 640x480 with 1 Axes>"
      ]
     },
     "metadata": {},
     "output_type": "display_data"
    }
   ],
   "source": [
    "plt.hist(movie_ratings)"
   ]
  },
  {
   "cell_type": "code",
   "execution_count": 9,
   "id": "76cda8aa-4c07-48cf-b1cd-9d2120a3a143",
   "metadata": {},
   "outputs": [],
   "source": [
    "weight = list(data_copy.WEIGHT)\n",
    "weight_list = weight[:11]"
   ]
  },
  {
   "cell_type": "code",
   "execution_count": 10,
   "id": "9d18ba50-c063-4edb-b7f6-4bf4a299a3a0",
   "metadata": {},
   "outputs": [],
   "source": [
    "freq = list(data_copy.f)\n",
    "freq_list = freq[:11]"
   ]
  },
  {
   "cell_type": "code",
   "execution_count": 11,
   "id": "a489f689-5288-454f-8e5b-3aa48f5795e3",
   "metadata": {
    "scrolled": true
   },
   "outputs": [
    {
     "data": {
      "text/plain": [
       "([0, 1, 2, 3, 4, 5, 6, 7, 8, 9, 10],\n",
       " [Text(0, 0, '240–249'),\n",
       "  Text(1, 0, '230–239'),\n",
       "  Text(2, 0, '220–229'),\n",
       "  Text(3, 0, '210–219'),\n",
       "  Text(4, 0, '200–209'),\n",
       "  Text(5, 0, '190–199'),\n",
       "  Text(6, 0, '180–189'),\n",
       "  Text(7, 0, '170–179'),\n",
       "  Text(8, 0, '160–169'),\n",
       "  Text(9, 0, '150–159'),\n",
       "  Text(10, 0, '140–149')])"
      ]
     },
     "execution_count": 11,
     "metadata": {},
     "output_type": "execute_result"
    },
    {
     "data": {
      "image/png": "[encoded data removed]",
      "text/plain": [
       "<Figure size 640x480 with 1 Axes>"
      ]
     },
     "metadata": {},
     "output_type": "display_data"
    }
   ],
   "source": [
    "plt.bar(weight_list,freq_list,align='center', alpha=0.75, edgecolor='black')\n",
    "plt.xticks(rotation=90, ha='right')"
   ]
  },
  {
   "cell_type": "code",
   "execution_count": 12,
   "id": "3c059158-9fc9-4653-b0d8-49e0f8cfcccc",
   "metadata": {
    "scrolled": true
   },
   "outputs": [
    {
     "data": {
      "text/plain": [
       "([0, 1, 2, 3, 4, 5, 6, 7, 8, 9, 10],\n",
       " [Text(0, 0, '240–249'),\n",
       "  Text(1, 0, '230–239'),\n",
       "  Text(2, 0, '220–229'),\n",
       "  Text(3, 0, '210–219'),\n",
       "  Text(4, 0, '200–209'),\n",
       "  Text(5, 0, '190–199'),\n",
       "  Text(6, 0, '180–189'),\n",
       "  Text(7, 0, '170–179'),\n",
       "  Text(8, 0, '160–169'),\n",
       "  Text(9, 0, '150–159'),\n",
       "  Text(10, 0, '140–149')])"
      ]
     },
     "execution_count": 12,
     "metadata": {},
     "output_type": "execute_result"
    },
    {
     "data": {
      "image/png": "[encoded data removed]",
      "text/plain": [
       "<Figure size 640x480 with 1 Axes>"
      ]
     },
     "metadata": {},
     "output_type": "display_data"
    }
   ],
   "source": [
    "plt.plot(weight_list,freq_list)\n",
    "plt.xticks(rotation=90, ha='right')"
   ]
  },
  {
   "cell_type": "code",
   "execution_count": 13,
   "id": "89f45bbb-3fef-46f8-b5fa-559db9a24264",
   "metadata": {
    "scrolled": true
   },
   "outputs": [
    {
     "data": {
      "text/plain": [
       "(array([2., 6., 8., 5., 0., 1., 1., 1., 0., 1.]),\n",
       " array([1. , 1.8, 2.6, 3.4, 4.2, 5. , 5.8, 6.6, 7.4, 8.2, 9. ]),\n",
       " <BarContainer object of 10 artists>)"
      ]
     },
     "execution_count": 13,
     "metadata": {},
     "output_type": "execute_result"
    },
    {
     "data": {
      "image/png": "[encoded data removed]",
      "text/plain": [
       "<Figure size 640x480 with 1 Axes>"
      ]
     },
     "metadata": {},
     "output_type": "display_data"
    }
   ],
   "source": [
    "a = [1, 4, 2, 3, 3, 1, 6, 7, 4, 3, 3, 9, 2, 4, 2, 2, 3, 2, 3, 4, 4, 2, 3, 3, 5]\n",
    "plt.hist(a)"
   ]
  },
  {
   "cell_type": "code",
   "execution_count": 14,
   "id": "d85464f5-61bf-45de-88c5-802ae2f66f0e",
   "metadata": {},
   "outputs": [
    {
     "name": "stdout",
     "output_type": "stream",
     "text": [
      "1: 2 times\n",
      "4: 5 times\n",
      "2: 6 times\n",
      "3: 8 times\n",
      "6: 1 times\n",
      "7: 1 times\n",
      "9: 1 times\n",
      "5: 1 times\n"
     ]
    }
   ],
   "source": [
    "item_frequency = Counter(a)\n",
    "\n",
    "for item, frequency in item_frequency.items():\n",
    "    print(f\"{item}: {frequency} times\")"
   ]
  },
  {
   "cell_type": "code",
   "execution_count": 15,
   "id": "14312e9b-e072-41f2-a025-06fece0f0668",
   "metadata": {},
   "outputs": [
    {
     "name": "stdout",
     "output_type": "stream",
     "text": [
      "160, 193, 226, 157, 180, 205, 165, 168, 169, 160, 163, 172, 151, 157, 133, 245, 170, 152, 160, 220, 190, 170, 160, 180, 158, 170, 166, 206, 150, 152, 150, 225, 145, 152, 172, 165, 190, 156, 135, 185, 159, 175, 158, 179, 190, 165, 152, 156, 154, 165, 157, 156, 135\n"
     ]
    }
   ],
   "source": [
    "import statistics\n",
    "weights = pandas.read_csv('weights.csv')\n",
    "weights_copy = weights.copy()\n",
    "weights_list = weights_copy['weight']\n",
    "\n",
    "\n",
    "result_string = \", \".join(map(str, weights_list))\n",
    "\n",
    "# Print the result\n",
    "print(result_string)"
   ]
  },
  {
   "cell_type": "code",
   "execution_count": 16,
   "id": "2f0d17e7-fcb6-4a0e-84b2-70bc0f965c7c",
   "metadata": {},
   "outputs": [
    {
     "name": "stdout",
     "output_type": "stream",
     "text": [
      "544.1008708272859\n",
      "169.50943396226415\n"
     ]
    }
   ],
   "source": [
    "mean_weights = statistics.mean(weights_list)\n",
    "variance = statistics.variance(weights_list)\n",
    "print(variance)\n",
    "print(mean_weights)"
   ]
  },
  {
   "cell_type": "code",
   "execution_count": 17,
   "id": "2bcd12fa-3808-49f8-aaeb-6ed5a4218f8d",
   "metadata": {},
   "outputs": [
    {
     "data": {
      "text/plain": [
       "23.325969879670296"
      ]
     },
     "execution_count": 17,
     "metadata": {},
     "output_type": "execute_result"
    }
   ],
   "source": [
    "stdev = statistics.stdev(weights_list)\n",
    "stdev"
   ]
  },
  {
   "cell_type": "code",
   "execution_count": 18,
   "id": "39887020-304f-41de-97fb-4e552a0baa37",
   "metadata": {},
   "outputs": [
    {
     "name": "stdout",
     "output_type": "stream",
     "text": [
      "15\n"
     ]
    }
   ],
   "source": [
    "a = [1, 2, 3, 4, 5]\n",
    "print(sum(a))"
   ]
  },
  {
   "cell_type": "code",
   "execution_count": 19,
   "id": "99549945-34b8-41b2-851e-3d05931fbf48",
   "metadata": {},
   "outputs": [
    {
     "data": {
      "text/plain": [
       "544.1008708272859"
      ]
     },
     "execution_count": 19,
     "metadata": {},
     "output_type": "execute_result"
    }
   ],
   "source": [
    "weights_squared = [(n-mean_weights)**2 for n in weights_list]\n",
    "sum_of_weights_squared = sum(weights_squared)\n",
    "# print(sum_of_weights_squared)\n",
    "# len(weights_list)-1\n",
    "variance_weights = sum_of_weights_squared/(len(weights_list)-1)\n",
    "variance_weights"
   ]
  },
  {
   "cell_type": "markdown",
   "id": "97865fd2-56b8-47e3-ae20-b3a6ff71f18f",
   "metadata": {},
   "source": [
    "### Transformed Standard Score"
   ]
  },
  {
   "cell_type": "code",
   "execution_count": 20,
   "id": "6abd7e44-ea1a-4d95-b48b-bf440a074601",
   "metadata": {},
   "outputs": [
    {
     "name": "stdout",
     "output_type": "stream",
     "text": [
      "[0.8, -1.6666666666666667]\n",
      "[58.0, 112.0, 580.0]\n"
     ]
    },
    {
     "data": {
      "text/plain": [
       "[33.33333333333333, 75.0, 333.3333333333333]"
      ]
     },
     "execution_count": 20,
     "metadata": {},
     "output_type": "execute_result"
    }
   ],
   "source": [
    "a = [{'raw_score':24, 'mean':20, 'sd':5},{'raw_score':37, 'mean':42, 'sd':3}]\n",
    "z = [((item['raw_score']-item['mean']))/item['sd'] for item in a]\n",
    "b = [[50,10],[100,15],[500,100]]\n",
    "list = [((item[0],item[1],z[0])) for item in b]\n",
    "\n",
    "print(z)\n",
    "list1 = [(item[0] + (z[0]*item[1])) for item in b]\n",
    "print(list1)\n",
    "\n",
    "list2 = [(item[0] + (z[1]*item[1])) for item in b]\n",
    "list2\n",
    "\n",
    "# z_prime_a = [(b[0] + (z[0]*b[1])) for item in b]\n",
    "# z = [(item['raw_score'], item['mean'], item['sd']) for item in a]\n",
    "# z = (raw_score - mean)/sd\n",
    "# desired_mean = [50, 100, 500]\n",
    "# z_prime = desired_mean + (z * sd)"
   ]
  },
  {
   "cell_type": "code",
   "execution_count": 21,
   "id": "0454f716-92fb-4179-920d-806ad3e65526",
   "metadata": {},
   "outputs": [],
   "source": [
    "# **Using the PROPORTIONS (OF AREA) UNDER THE STANDARD NORMAL CURVE FOR VALUES OF z\n",
    "\n",
    "# mean = 100; sd = 15\n",
    "# Scores on the Wechsler Adult Intelligence Scale (WAIS) approximate a normal curve with a mean of 100 and a standard deviation of 15. What proportion of IQscores are:\n",
    "\n",
    "# (a) above Kristen’s 125?\n",
    "# (b) below 82?\n",
    "# (c) within 9 points of the mean?\n",
    "# (d) more than 40 points from the mean?\n",
    "\n",
    "# a) z = (125-100)/15 = 1.67\n",
    "#    proporion is 0.0475 or 0.0478\n",
    "\n",
    "# b) z = (82-100)/15 = −1.2\n",
    "#    prop is 0.1151\n",
    "\n",
    "# c) z = (109-100)/15 = 0.6\n",
    "#    prop is 0.2257*2 = 0.4514\n",
    "\n",
    "# d) z = (140-100)/15 = 2.67\n",
    "#    prop is 0.0038"
   ]
  },
  {
   "cell_type": "code",
   "execution_count": 22,
   "id": "b96805df-2eea-4569-9c12-dc74a15b815f",
   "metadata": {
    "scrolled": true
   },
   "outputs": [
    {
     "name": "stdout",
     "output_type": "stream",
     "text": [
      "The proportion of IQ scores above Kristen's 125 is approximately 0.0478\n"
     ]
    }
   ],
   "source": [
    "# a)\n",
    "from scipy.stats import norm\n",
    "\n",
    "mean = 100\n",
    "std_dev = 15\n",
    "kristen_score = 125\n",
    "\n",
    "# Calculate Z-score\n",
    "z_score = (kristen_score - mean) / std_dev\n",
    "\n",
    "# Find the proportion using the cumulative distribution function (CDF)\n",
    "proportion_above = 1 - norm.cdf(z_score)\n",
    "\n",
    "print(f\"The proportion of IQ scores above Kristen's 125 is approximately {proportion_above:.4f}\")"
   ]
  },
  {
   "cell_type": "code",
   "execution_count": 23,
   "id": "fee31bc6-2c47-4fdf-b0d7-36bb863cfae0",
   "metadata": {
    "scrolled": true
   },
   "outputs": [
    {
     "name": "stdout",
     "output_type": "stream",
     "text": [
      "The proportion of IQ scores below 82 is approximately 0.1151\n"
     ]
    }
   ],
   "source": [
    "# b)\n",
    "from scipy.stats import norm\n",
    "\n",
    "mean = 100\n",
    "std_dev = 15\n",
    "raw_score = 82\n",
    "\n",
    "# Calculate Z-score\n",
    "z_score = (raw_score - mean) / std_dev\n",
    "\n",
    "# Find the proportion using the cumulative distribution function (CDF)\n",
    "proportion_below = norm.cdf(z_score)\n",
    "\n",
    "print(f\"The proportion of IQ scores below 82 is approximately {proportion_below:.4f}\")\n"
   ]
  },
  {
   "cell_type": "code",
   "execution_count": 24,
   "id": "4ff8997a-762e-4214-9bc4-fb1f96821197",
   "metadata": {
    "scrolled": true
   },
   "outputs": [
    {
     "name": "stdout",
     "output_type": "stream",
     "text": [
      "The proportion of IQ scores within 9 points of the mean is approximately 0.4515\n"
     ]
    }
   ],
   "source": [
    "# c)\n",
    "from scipy.stats import norm\n",
    "\n",
    "mean = 100\n",
    "std_dev = 15\n",
    "lower_bound = mean - 9\n",
    "upper_bound = mean + 9\n",
    "\n",
    "# Calculate Z-scores for the boundaries\n",
    "z_score_lower = (lower_bound - mean) / std_dev\n",
    "z_score_upper = (upper_bound - mean) / std_dev\n",
    "\n",
    "# Find the proportion using the cumulative distribution function (CDF)\n",
    "proportion_within_range = norm.cdf(z_score_upper) - norm.cdf(z_score_lower)\n",
    "\n",
    "print(f\"The proportion of IQ scores within 9 points of the mean is approximately {proportion_within_range:.4f}\")\n"
   ]
  },
  {
   "cell_type": "code",
   "execution_count": 25,
   "id": "9129a007-63bf-4c82-b723-2fbfd40c698b",
   "metadata": {
    "scrolled": true
   },
   "outputs": [
    {
     "name": "stdout",
     "output_type": "stream",
     "text": [
      "The proportion of IQ scores more than 40 points from the mean is approximately 0.0038\n"
     ]
    }
   ],
   "source": [
    "# d)\n",
    "from scipy.stats import norm\n",
    "\n",
    "mean = 100\n",
    "std_dev = 15\n",
    "boundary = 40\n",
    "\n",
    "# Calculate Z-score for the upper boundary\n",
    "z_score_upper = (mean + boundary - mean) / std_dev\n",
    "\n",
    "# Find the proportion beyond the upper Z-score using the survival function (1 - CDF)\n",
    "proportion_beyond_boundary = 1 - norm.cdf(z_score_upper)\n",
    "\n",
    "print(f\"The proportion of IQ scores more than 40 points from the mean is approximately {proportion_beyond_boundary:.4f}\")"
   ]
  },
  {
   "cell_type": "code",
   "execution_count": 26,
   "id": "771ee565-dfda-4dbc-b8f8-acc3219fa2c5",
   "metadata": {},
   "outputs": [],
   "source": [
    "# Suppose that the burning times of electric light bulbs approximate a normal curve with a mean of 1200 hours and a standard deviation of 120 hours. What proportion of lights burn for\n",
    "# (a) less than 960 hours?\n",
    "# (b) more than 1500 hours?\n",
    "# (c) within 50 hours of the mean?\n",
    "# (d) between 1300 and 1400 hours?\n",
    "\n",
    "# mean = 1200; sd = 120\n",
    "\n",
    "# z = (X-mean)/sd\n",
    "\n",
    "# a) z = (960-1200)/120 = -2\n",
    "#    prop is 0.228\n",
    "\n",
    "# b) z = (1500-1200)/120 = 2.5\n",
    "#    prop is 0.0062\n",
    "\n",
    "# c) z = (1250-1200)/120 = 0.42\n",
    "#    prop is 0.1628 * 2 = 0.3256\n",
    "\n",
    "# d) z1 = (1300-1200)/120 = 0.83\n",
    "#    z2 = (1400-1200)/120 = 1.67\n",
    "#    prop1 is 0.2967\n",
    "#    prop2 is 0.4525\n",
    "#    prop is 0.4525 - 0.2967 = 0.1558\n",
    "#            0.2033 - 0.0475 = 0.1558"
   ]
  },
  {
   "cell_type": "code",
   "execution_count": 27,
   "id": "0ce21eb4-bbdb-4aaf-8742-3b41e2ca363b",
   "metadata": {},
   "outputs": [
    {
     "name": "stdout",
     "output_type": "stream",
     "text": [
      "The proportion of lights burning for less than 960 hours is approximately 0.0228\n"
     ]
    }
   ],
   "source": [
    "# a)\n",
    "from scipy.stats import norm\n",
    "\n",
    "mean = 1200\n",
    "std_dev = 120\n",
    "raw_score = 960\n",
    "\n",
    "# Calculate Z-score\n",
    "z_score = (raw_score - mean) / std_dev\n",
    "\n",
    "# Find the proportion using the cumulative distribution function (CDF)\n",
    "proportion_below = norm.cdf(z_score)\n",
    "\n",
    "print(f\"The proportion of lights burning for less than 960 hours is approximately {proportion_below:.4f}\")"
   ]
  },
  {
   "cell_type": "code",
   "execution_count": 28,
   "id": "f594bb12-4748-4506-a95e-d535fcdec4d2",
   "metadata": {
    "scrolled": true
   },
   "outputs": [
    {
     "name": "stdout",
     "output_type": "stream",
     "text": [
      "The proportion of lights burning for more than 1500 hours is approximately 0.0062\n"
     ]
    }
   ],
   "source": [
    "# b)\n",
    "from scipy.stats import norm\n",
    "\n",
    "mean = 1200\n",
    "std_dev = 120\n",
    "raw_score = 1500\n",
    "\n",
    "# Calculate Z-score\n",
    "z_score = (raw_score - mean) / std_dev\n",
    "\n",
    "# Find the proportion using the survival function (1 - CDF)\n",
    "proportion_above = 1 - norm.cdf(z_score)\n",
    "\n",
    "print(f\"The proportion of lights burning for more than 1500 hours is approximately {proportion_above:.4f}\")"
   ]
  },
  {
   "cell_type": "code",
   "execution_count": 29,
   "id": "f4571502-bda0-4bde-b809-f874924d3cc3",
   "metadata": {
    "scrolled": true
   },
   "outputs": [
    {
     "name": "stdout",
     "output_type": "stream",
     "text": [
      "The proportion of lights burning within 50 hours of the mean is approximately 0.3231\n"
     ]
    }
   ],
   "source": [
    "# c)\n",
    "from scipy.stats import norm\n",
    "\n",
    "mean = 1200\n",
    "std_dev = 120\n",
    "lower_bound = mean - 50\n",
    "upper_bound = mean + 50\n",
    "\n",
    "# Calculate Z-scores for the boundaries\n",
    "z_score_lower = (lower_bound - mean) / std_dev\n",
    "z_score_upper = (upper_bound - mean) / std_dev\n",
    "\n",
    "# Find the proportion using the cumulative distribution function (CDF)\n",
    "proportion_within_range = norm.cdf(z_score_upper) - norm.cdf(z_score_lower)\n",
    "\n",
    "print(f\"The proportion of lights burning within 50 hours of the mean is approximately {proportion_within_range:.4f}\")"
   ]
  },
  {
   "cell_type": "code",
   "execution_count": 30,
   "id": "2db9e6ab-8e75-4c65-b6b0-52d7966a3b9c",
   "metadata": {
    "scrolled": true
   },
   "outputs": [
    {
     "name": "stdout",
     "output_type": "stream",
     "text": [
      "The proportion of lights burning between 1300 and 1400 hours is approximately 0.1545\n"
     ]
    }
   ],
   "source": [
    "# d)\n",
    "from scipy.stats import norm\n",
    "\n",
    "mean = 1200\n",
    "std_dev = 120\n",
    "lower_bound = 1300\n",
    "upper_bound = 1400\n",
    "\n",
    "# Calculate Z-scores for the boundaries\n",
    "z_score_lower = (lower_bound - mean) / std_dev\n",
    "z_score_upper = (upper_bound - mean) / std_dev\n",
    "\n",
    "# Find the proportion using the cumulative distribution function (CDF)\n",
    "proportion_within_range = norm.cdf(z_score_upper) - norm.cdf(z_score_lower)\n",
    "\n",
    "print(f\"The proportion of lights burning between 1300 and 1400 hours is approximately {proportion_within_range:.4f}\")"
   ]
  },
  {
   "cell_type": "code",
   "execution_count": 31,
   "id": "e973effe-6094-4922-9b45-83e996319a94",
   "metadata": {},
   "outputs": [],
   "source": [
    "# IQ scores on the WAIS test approximate a normal curve with a mean of 100 and a standard deviation of 15. What IQ score is identified with\n",
    "# (a) the upper 2 percent, that is, 2 percent to the right (and 98 percent to the left)?\n",
    "# (b) the lower 10 percent?\n",
    "# (c) the upper 60 percent?\n",
    "# (d) the middle 95 percent? [Remember, the middle 95 percent straddles the line perpendicular to the mean (or the 50th percentile), with half of 95 percent, or 47.5 percent,\n",
    "# above this line and the remaining 47.5 percent below this line.]\n",
    "# (e) the middle 99 percent?\n",
    "\n",
    "# mean = 100; sd = 15\n",
    "# z = (X-mean)/sd\n",
    "# X = (z*sd) + mean\n",
    "\n",
    "# a) proportion = 0.02 \n",
    "#    closest prop is 0.0202 from the table with a z score 2.05\n",
    "#    X = (2.05 * 15) + 100 = 130.75\n",
    "\n",
    "# b) proportion = 0.10\n",
    "#    closest prop is 0.1003 from the table with a z score \n",
    "#    of -1.28 (should be negative due to the lower values\n",
    "#    behind the mean)\n",
    "#    X = (-1.28 * 15) + 100 = 80.8\n",
    "\n",
    "# c) proportion = 0.40\n",
    "#    closest prop is 0.4013 from the table with a z score -0.25\n",
    "#    X = (-0.25 * 15) + 100 = 96.25\n",
    "\n",
    "# d) proportion = 0.025\n",
    "#    closest prop is 0.0250 from the table with a z score -1.96\n",
    "#    X = (-1.96 * 15) + 100 = 70.6\n",
    "\n",
    "#    proportion = 0.475\n",
    "#    X = (1.96 * 15) + 100 = 129.4\n",
    "\n",
    "# e) proportion = 0.01\n",
    "#    closest prop is 0.0051 from the table with a z score of\n",
    "#    2.57\n",
    "#    X = (-2.57 * 15) + 100 = 61.45\n",
    "#    X = (2.57 * 15) + 100 = 138.55"
   ]
  },
  {
   "cell_type": "code",
   "execution_count": 32,
   "id": "5977940f-7731-46b9-a5f9-db99bf9832a3",
   "metadata": {
    "scrolled": true
   },
   "outputs": [
    {
     "name": "stdout",
     "output_type": "stream",
     "text": [
      "2.0537489106318225\n",
      "The IQ score corresponding to the upper 2 percent is approximately 130.81\n"
     ]
    }
   ],
   "source": [
    "# a)\n",
    "from scipy.stats import norm\n",
    "\n",
    "mean = 100\n",
    "std_dev = 15\n",
    "percentile = 98\n",
    "\n",
    "# Find the Z-score associated with the upper 2 percent\n",
    "z_score_upper = norm.ppf(percentile / 100)\n",
    "print(z_score_upper)\n",
    "\n",
    "# Calculate the raw IQ score using the Z-score formula\n",
    "raw_iq_score = mean + z_score_upper * std_dev\n",
    "\n",
    "print(f\"The IQ score corresponding to the upper 2 percent is approximately {raw_iq_score:.2f}\")\n"
   ]
  },
  {
   "cell_type": "code",
   "execution_count": 33,
   "id": "678ca355-d10e-46d8-b417-da10c8eda29d",
   "metadata": {
    "scrolled": true
   },
   "outputs": [
    {
     "name": "stdout",
     "output_type": "stream",
     "text": [
      "-1.2815515655446004\n",
      "The IQ score corresponding to the lower 10 percent is approximately 80.78\n"
     ]
    }
   ],
   "source": [
    "# b)\n",
    "from scipy.stats import norm\n",
    "\n",
    "mean = 100\n",
    "std_dev = 15\n",
    "percentile = 10\n",
    "\n",
    "# Find the Z-score associated with the lower 10 percent\n",
    "z_score_lower = norm.ppf(percentile / 100)\n",
    "print(z_score_lower)\n",
    "\n",
    "# Calculate the raw IQ score using the Z-score formula\n",
    "raw_iq_score = mean + z_score_lower * std_dev\n",
    "\n",
    "print(f\"The IQ score corresponding to the lower 10 percent is approximately {raw_iq_score:.2f}\")"
   ]
  },
  {
   "cell_type": "code",
   "execution_count": 34,
   "id": "305d0ca5-9f9f-419c-a734-b883ed6bd61b",
   "metadata": {
    "scrolled": true
   },
   "outputs": [
    {
     "name": "stdout",
     "output_type": "stream",
     "text": [
      "-0.2533471031357997\n",
      "The IQ score corresponding to the upper 60 percent is approximately 96.20\n"
     ]
    }
   ],
   "source": [
    "# c)\n",
    "from scipy.stats import norm\n",
    "\n",
    "mean = 100\n",
    "std_dev = 15\n",
    "percentile = 40\n",
    "\n",
    "# Find the Z-score associated with the upper 60 percent\n",
    "z_score_upper = norm.ppf(percentile / 100)\n",
    "print(z_score_upper)\n",
    "\n",
    "# Calculate the raw IQ score using the Z-score formula\n",
    "raw_iq_score = mean + z_score_upper * std_dev\n",
    "\n",
    "print(f\"The IQ score corresponding to the upper 60 percent is approximately {raw_iq_score:.2f}\")"
   ]
  },
  {
   "cell_type": "code",
   "execution_count": 35,
   "id": "7477b643-444d-4e1e-8709-3109f4aa39f7",
   "metadata": {
    "scrolled": true
   },
   "outputs": [
    {
     "name": "stdout",
     "output_type": "stream",
     "text": [
      "The IQ scores corresponding to the middle 95 percent are approximately 70.60 to 129.40\n"
     ]
    }
   ],
   "source": [
    "# d)\n",
    "from scipy.stats import norm\n",
    "\n",
    "mean = 100\n",
    "std_dev = 15\n",
    "lower_percentile = 2.5\n",
    "upper_percentile = 97.5\n",
    "\n",
    "# Find the Z-scores associated with the middle 95 percent\n",
    "z_score_lower = norm.ppf(lower_percentile / 100)\n",
    "z_score_upper = norm.ppf(upper_percentile / 100)\n",
    "\n",
    "# Calculate the raw IQ scores using the Z-score formula\n",
    "raw_iq_score_lower = mean + z_score_lower * std_dev\n",
    "raw_iq_score_upper = mean + z_score_upper * std_dev\n",
    "\n",
    "print(f\"The IQ scores corresponding to the middle 95 percent are approximately {raw_iq_score_lower:.2f} to {raw_iq_score_upper:.2f}\")"
   ]
  },
  {
   "cell_type": "code",
   "execution_count": 36,
   "id": "ce814d62-0f6d-477e-ba83-a989e48d02a9",
   "metadata": {
    "scrolled": true
   },
   "outputs": [
    {
     "name": "stdout",
     "output_type": "stream",
     "text": [
      "-2.575829303548901\n",
      "2.5758293035489004\n",
      "The IQ scores corresponding to the middle 99 percent are approximately 61.36 to 138.64\n"
     ]
    }
   ],
   "source": [
    "# e)\n",
    "from scipy.stats import norm\n",
    "\n",
    "mean = 100\n",
    "std_dev = 15\n",
    "lower_percentile = 0.5\n",
    "upper_percentile = 99.5\n",
    "\n",
    "# Find the Z-scores associated with the middle 99 percent\n",
    "z_score_lower = norm.ppf(lower_percentile / 100)\n",
    "z_score_upper = norm.ppf(upper_percentile / 100)\n",
    "print(z_score_lower)\n",
    "print(z_score_upper)\n",
    "\n",
    "# Calculate the raw IQ scores using the Z-score formula\n",
    "raw_iq_score_lower = mean + z_score_lower * std_dev\n",
    "raw_iq_score_upper = mean + z_score_upper * std_dev\n",
    "\n",
    "print(f\"The IQ scores corresponding to the middle 99 percent are approximately {raw_iq_score_lower:.2f} to {raw_iq_score_upper:.2f}\")"
   ]
  },
  {
   "cell_type": "code",
   "execution_count": 37,
   "id": "b48fc9cd-1231-43e6-b261-66c6fd1a5664",
   "metadata": {},
   "outputs": [],
   "source": [
    "# For the normal distribution of burning times of electric light bulbs, with a mean equal to 1200 hours and a standard deviation equal to 120 hours, what burning time is identified with the\n",
    "# (a) upper 50 percent?\n",
    "# (b) lower 75 percent?\n",
    "# (c) lower 1 percent?\n",
    "# (d) middle 90 percent?\n",
    "\n",
    "# mean = 1200; sd = 120\n",
    "# z = (X-mean)/sd\n",
    "# X = (z*sd) + mean\n",
    "\n",
    "# a) proportion = 0.50\n",
    "#    closest prop is 0.50000 from the table with a z score of 0\n",
    "#    X = (0 * 120) + 1200 = 1200\n",
    "\n",
    "# b) prop = 0.75 or 0.25\n",
    "#    closest prop is 0.2514 from the table with a z score of\n",
    "#    -0.67\n",
    "#    X = (0.67 * 120) + 1200 = 1119.6\n",
    "\n",
    "# c) prop = 0.01\n",
    "#    closest prop is 0.0102 from the table with a z score of 2.32\n",
    "#    X = (-2.32 * 120) + 1200 = 921.6\n",
    "\n",
    "# d) prop = 0.9/2 = 0.45\n",
    "#    closest prop is 0.4505 from the table with a z score of 1.65\n",
    "#    X = (1.65 * 120) + 1200 = 1398\n",
    "#    X = (-1.65 * 120) + 1200 = 1002"
   ]
  },
  {
   "cell_type": "code",
   "execution_count": 38,
   "id": "0596b8a0-eacb-4feb-b6f1-9a753e24270f",
   "metadata": {
    "scrolled": true
   },
   "outputs": [
    {
     "name": "stdout",
     "output_type": "stream",
     "text": [
      "The burning time corresponding to the upper 50 percent is approximately 1200.00 hours\n"
     ]
    }
   ],
   "source": [
    "# a)\n",
    "from scipy.stats import norm\n",
    "\n",
    "mean = 1200\n",
    "std_dev = 120\n",
    "percentile = 50\n",
    "\n",
    "# Find the Z-score associated with the upper 50 percent (median)\n",
    "z_score_upper = norm.ppf(percentile / 100)\n",
    "\n",
    "# Calculate the raw burning time using the Z-score formula\n",
    "raw_burning_time_upper = mean + z_score_upper * std_dev\n",
    "\n",
    "print(f\"The burning time corresponding to the upper 50 percent is approximately {raw_burning_time_upper:.2f} hours\")"
   ]
  },
  {
   "cell_type": "code",
   "execution_count": 39,
   "id": "9b5ec060-067d-4cfa-b000-fcea9e3e6cb6",
   "metadata": {
    "scrolled": true
   },
   "outputs": [
    {
     "name": "stdout",
     "output_type": "stream",
     "text": [
      "0.6744897501960817\n",
      "The burning time corresponding to the lower 75 percent is approximately 1280.94 hours\n"
     ]
    }
   ],
   "source": [
    "# b)\n",
    "from scipy.stats import norm\n",
    "\n",
    "mean = 1200\n",
    "std_dev = 120\n",
    "percentile = 75\n",
    "\n",
    "# Find the Z-score associated with the lower 75 percent\n",
    "z_score_lower = norm.ppf(percentile / 100)\n",
    "print(z_score_lower)\n",
    "\n",
    "# Calculate the raw burning time using the Z-score formula\n",
    "raw_burning_time_lower = mean + z_score_lower * std_dev\n",
    "\n",
    "print(f\"The burning time corresponding to the lower 75 percent is approximately {raw_burning_time_lower:.2f} hours\")"
   ]
  },
  {
   "cell_type": "code",
   "execution_count": 40,
   "id": "343a6d1a-b3c2-4d3a-a04d-7ded4837a03f",
   "metadata": {
    "scrolled": true
   },
   "outputs": [
    {
     "name": "stdout",
     "output_type": "stream",
     "text": [
      "-2.3263478740408408\n",
      "The burning time corresponding to the lower 1 percent is approximately 920.84 hours\n"
     ]
    }
   ],
   "source": [
    "# c)\n",
    "from scipy.stats import norm\n",
    "\n",
    "mean = 1200\n",
    "std_dev = 120\n",
    "percentile = 1\n",
    "\n",
    "# Find the Z-score associated with the lower 1 percent\n",
    "z_score_lower = norm.ppf(percentile / 100)\n",
    "print(z_score_lower)\n",
    "\n",
    "# Calculate the raw burning time using the Z-score formula\n",
    "raw_burning_time_lower = mean + z_score_lower * std_dev\n",
    "\n",
    "print(f\"The burning time corresponding to the lower 1 percent is approximately {raw_burning_time_lower:.2f} hours\")"
   ]
  },
  {
   "cell_type": "code",
   "execution_count": 41,
   "id": "eec58222-e6db-4eaa-8637-e9adf101a0b4",
   "metadata": {
    "scrolled": true
   },
   "outputs": [
    {
     "name": "stdout",
     "output_type": "stream",
     "text": [
      "-1.6448536269514729\n",
      "1.6448536269514722\n",
      "The burning times corresponding to the middle 90 percent are approximately 1002.62 to 1397.38 hours\n"
     ]
    }
   ],
   "source": [
    "# d)\n",
    "from scipy.stats import norm\n",
    "\n",
    "mean = 1200\n",
    "std_dev = 120\n",
    "lower_percentile = 5\n",
    "upper_percentile = 95\n",
    "\n",
    "# Find the Z-scores associated with the middle 90 percent\n",
    "z_score_lower = norm.ppf(lower_percentile / 100)\n",
    "z_score_upper = norm.ppf(upper_percentile / 100)\n",
    "print(z_score_lower)\n",
    "print(z_score_upper)\n",
    "\n",
    "# Calculate the raw burning times using the Z-score formula\n",
    "raw_burning_time_lower = mean + z_score_lower * std_dev\n",
    "raw_burning_time_upper = mean + z_score_upper * std_dev\n",
    "\n",
    "print(f\"The burning times corresponding to the middle 90 percent are approximately {raw_burning_time_lower:.2f} to {raw_burning_time_upper:.2f} hours\")"
   ]
  },
  {
   "cell_type": "code",
   "execution_count": 42,
   "id": "bf4f9d5a-4884-4f9d-9663-31e43176fd24",
   "metadata": {},
   "outputs": [],
   "source": [
    "# An investigator polls common cold sufferers, asking them to estimate the number of hours of physical discomfort caused by their \n",
    "# most recent colds. Assume that their estimates approximate a normal curve with a mean of 83 hours and a standard deviation of 20 hours.\n",
    "# Answer:\n",
    "# (a) What is the estimated number of hours for the shortest suffering 5 percent?\n",
    "# prop = 0.05\n",
    "# 0.0505; z = -1.64\n",
    "# X = (-1.6 * 20) + 83 = 51\n",
    "\n",
    "# (b) What proportion of sufferers estimate that their colds lasted longer than 48 hours?\n",
    "# Answer:\n",
    "# z = (48 - 83)/20 = −1.75\n",
    "# proportion is 0.4599, but we have to add 0.5 because we are\n",
    "# including the lower half from the mean\n",
    "# 0.4599 + 0.5 = 0.9599\n",
    "\n",
    "# (c) What proportion suffered for fewer than 61 hours?\n",
    "# Answer:\n",
    "# z = (61 - 83)/20 = −1.1\n",
    "# proportion is 0.1357\n",
    "\n",
    "# (d) What is the estimated number of hours suffered by the extreme 1 percent either above or below the mean?\n",
    "# Answer:\n",
    "# prop = 0.01\n",
    "# X = (z * sd) + mean\n",
    "# X1 = (-2.32 * 20) + 83 = 36.6\n",
    "# X2 = (2.32 * 20) + 83 = 129.4\n",
    "\n",
    "# (e) What proportion suffered for between 1 and 3 days, that is, between 24 and 72 hours?\n",
    "# Answer:\n",
    "# z1 = (24 - 83)/20 = −2.95 prop of 0.4984\n",
    "# z2 = (72 - 83)/20 = −0.55 prop of 0.2088\n",
    "# total prop = 0.4984 - 0.2088 = 0.2896\n",
    "\n",
    "# (f) What is the estimated number of hours suffered by the middle 95 percent? [See thecomment about “middle 95 percent” \n",
    "# in Question 5.13(d).]\n",
    "# Answer:\n",
    "# middle 95% means there is 2.5% on either side which gives a \n",
    "# proportion of 0.025 that has a z score of 1.96 and -1.96\n",
    "\n",
    "# X1 = (1.96 * 20) + 83 = 122.2\n",
    "# X2 = (-1.96 * 20) + 83 = 43.8\n",
    "\n",
    "# (g) What proportion suffered for between 2 and 4 days?\n",
    "# Answer:\n",
    "# 2 days = 48 hrs; 4 days = 96 hrs\n",
    "\n",
    "# Z1 = (48 - 83)/20 = −1.75 prop of 0.0401\n",
    "# Z2 = (96 - 83)/20 = 0.65 prop of 0.2422 + 0.5\n",
    "# prop 0.7422−0.0401 = 0.7021\n",
    "\n",
    "# (h) A medical researcher wishes to concentrate on the 20 percent who suffered the most. She will work only with those who estimate \n",
    "# that they suffered for more than ——— hours.\n",
    "# Answer:\n",
    "# This means that the proportion being asked is 80% of \n",
    "# the distribution from the left side or 0.8, that means that \n",
    "# 0.5 + 0.3 = 0.8, we have two variables, for 0.5 and for 0.3\n",
    "# proportions, we only have to get the 0.3 distribution\n",
    "\n",
    "# *for 0.3 proportion from the table the closes proportion is\n",
    "# 0.2995 has z = 0.84 and 0.3023 has z = 0.85, we will use\n",
    "# 0.84\n",
    "# X2 = (0.84 * 20) + 83 = 99.8\n",
    "\n",
    "# (i) Another researcher wishes to compare those who suffered least with those who suffered most. If each group is to consist of only \n",
    "# the extreme 3 percent, the mild group will consist of those who suffered for fewer than _____ hours, and the severe group will \n",
    "# consist of those who suffered for more than _____ hours.\n",
    "# Answer:\n",
    "# proportion of 0.03 closest to 0.0301 with z = 1.87\n",
    "# X1 = (1.87 * 20) + 83 = 120.4\n",
    "# X2 = (-1.87 * 20) + 83 = 45.6\n",
    "\n",
    "# (j) Another survey found that people with colds who took daily doses of vitamin C suffered, on the average, for 61 hours. \n",
    "# What proportion of the original survey (with a mean of 83 hours and a standard deviation of 20 hours) suffered for more than 61 hours?\n",
    "\n",
    "# (k) What proportion of the original survey suffered for exactly 61 hours? (Be careful!)\n",
    "\n",
    "# mean = 83 hrs; sd = 20 hrs\n",
    "\n",
    "# z = (X-mean)/sd\n",
    "# X = (z * sd) + mean"
   ]
  },
  {
   "cell_type": "code",
   "execution_count": 43,
   "id": "7febc7b7-bdd5-44f9-b096-6382a311f5b7",
   "metadata": {
    "scrolled": true
   },
   "outputs": [
    {
     "name": "stdout",
     "output_type": "stream",
     "text": [
      "The estimated number of hours for the shortest suffering 5 percent is approximately 50.10 hours\n"
     ]
    }
   ],
   "source": [
    "# a)\n",
    "from scipy.stats import norm\n",
    "\n",
    "mean = 83\n",
    "std_dev = 20\n",
    "percentile = 5\n",
    "\n",
    "# Find the Z-score associated with the shortest suffering 5 percent\n",
    "z_score_lower = norm.ppf(percentile / 100)\n",
    "\n",
    "# Calculate the estimated number of hours using the Z-score formula\n",
    "estimated_hours = mean + z_score_lower * std_dev\n",
    "\n",
    "print(f\"The estimated number of hours for the shortest suffering 5 percent is approximately {estimated_hours:.2f} hours\")"
   ]
  },
  {
   "cell_type": "code",
   "execution_count": 44,
   "id": "96e8d02a-f6fb-440f-8d95-e8748a779972",
   "metadata": {
    "scrolled": true
   },
   "outputs": [
    {
     "name": "stdout",
     "output_type": "stream",
     "text": [
      "-1.75\n",
      "The proportion of sufferers estimating that their colds lasted longer than 48 hours is approximately 0.9599\n"
     ]
    }
   ],
   "source": [
    "# b)\n",
    "from scipy.stats import norm\n",
    "\n",
    "mean = 83\n",
    "std_dev = 20\n",
    "raw_score = 48\n",
    "\n",
    "# Calculate the Z-score for the raw score of 48 hours\n",
    "z_score = (raw_score - mean) / std_dev\n",
    "print(z_score)\n",
    "\n",
    "# Find the proportion using the cumulative distribution function (CDF)\n",
    "proportion_more_than_48_hours = 1 - norm.cdf(z_score)\n",
    "\n",
    "print(f\"The proportion of sufferers estimating that their colds lasted longer than 48 hours is approximately {proportion_more_than_48_hours:.4f}\")"
   ]
  },
  {
   "cell_type": "code",
   "execution_count": 45,
   "id": "6ec89a9f-68a8-4a98-b2b3-dddf72445735",
   "metadata": {
    "scrolled": true
   },
   "outputs": [
    {
     "name": "stdout",
     "output_type": "stream",
     "text": [
      "The proportion of sufferers estimating their physical discomfort to be fewer than 61 hours is approximately 0.1357\n"
     ]
    }
   ],
   "source": [
    "# c)\n",
    "from scipy.stats import norm\n",
    "\n",
    "mean = 83\n",
    "std_dev = 20\n",
    "raw_score = 61\n",
    "\n",
    "# Calculate the Z-score for the raw score of 61 hours\n",
    "z_score = (raw_score - mean) / std_dev\n",
    "\n",
    "# Find the proportion using the cumulative distribution function (CDF)\n",
    "proportion_less_than_61_hours = norm.cdf(z_score)\n",
    "\n",
    "print(f\"The proportion of sufferers estimating their physical discomfort to be fewer than 61 hours is approximately {proportion_less_than_61_hours:.4f}\")"
   ]
  },
  {
   "cell_type": "code",
   "execution_count": 46,
   "id": "acd33b1b-c7e2-4965-a266-ad9700aa6b40",
   "metadata": {
    "scrolled": true
   },
   "outputs": [
    {
     "name": "stdout",
     "output_type": "stream",
     "text": [
      "The estimated number of hours suffered by the extreme 1 percent either above or below the mean is approximately 31.48 to 134.52 hours\n"
     ]
    }
   ],
   "source": [
    "# d)\n",
    "from scipy.stats import norm\n",
    "\n",
    "mean = 83\n",
    "std_dev = 20\n",
    "lower_percentile = 0.5\n",
    "upper_percentile = 99.5\n",
    "\n",
    "# Find the Z-scores associated with the extreme 1 percent\n",
    "z_score_lower = norm.ppf(lower_percentile / 100)\n",
    "z_score_upper = norm.ppf(upper_percentile / 100)\n",
    "\n",
    "# Calculate the estimated number of hours using the Z-score formula\n",
    "estimated_hours_lower = mean + z_score_lower * std_dev\n",
    "estimated_hours_upper = mean + z_score_upper * std_dev\n",
    "\n",
    "print(f\"The estimated number of hours suffered by the extreme 1 percent either above or below the mean is approximately {estimated_hours_lower:.2f} to {estimated_hours_upper:.2f} hours\")"
   ]
  },
  {
   "cell_type": "code",
   "execution_count": 47,
   "id": "e2e037ef-42f1-428d-bc0d-6b57fda15002",
   "metadata": {
    "scrolled": true
   },
   "outputs": [
    {
     "name": "stdout",
     "output_type": "stream",
     "text": [
      "The proportion of sufferers estimating their physical discomfort to be between 24 and 72 hours is approximately 0.2896\n"
     ]
    }
   ],
   "source": [
    "# e)\n",
    "from scipy.stats import norm\n",
    "\n",
    "mean = 83\n",
    "std_dev = 20\n",
    "lower_raw_score = 24\n",
    "upper_raw_score = 72\n",
    "\n",
    "# Calculate the Z-scores for both raw scores\n",
    "z_score_lower = (lower_raw_score - mean) / std_dev\n",
    "z_score_upper = (upper_raw_score - mean) / std_dev\n",
    "\n",
    "# Find the proportions using the cumulative distribution function (CDF)\n",
    "proportion_lower = norm.cdf(z_score_lower)\n",
    "proportion_upper = norm.cdf(z_score_upper)\n",
    "\n",
    "# Calculate the proportion between 24 and 72 hours\n",
    "proportion_between_24_and_72_hours = proportion_upper - proportion_lower\n",
    "\n",
    "print(f\"The proportion of sufferers estimating their physical discomfort to be between 24 and 72 hours is approximately {proportion_between_24_and_72_hours:.4f}\")"
   ]
  },
  {
   "cell_type": "code",
   "execution_count": 51,
   "id": "301031bf-1a72-4bc6-97b6-d337826a340d",
   "metadata": {
    "scrolled": true
   },
   "outputs": [
    {
     "name": "stdout",
     "output_type": "stream",
     "text": [
      "-1.75\n",
      "0.65\n",
      "0.040059156863817086\n",
      "0.7421538891941353\n",
      "The proportion of sufferers estimating their physical discomfort to be between 2 and 4 days is approximately 0.7021\n"
     ]
    }
   ],
   "source": [
    "# g)\n",
    "from scipy.stats import norm\n",
    "\n",
    "mean = 83\n",
    "std_dev = 20\n",
    "lower_raw_score = 48\n",
    "upper_raw_score = 96\n",
    "\n",
    "# Calculate the Z-scores for both raw scores\n",
    "z_score_lower = (lower_raw_score - mean) / std_dev\n",
    "z_score_upper = (upper_raw_score - mean) / std_dev\n",
    "print(z_score_lower)\n",
    "print(z_score_upper)\n",
    "\n",
    "# Find the proportions using the cumulative distribution function (CDF)\n",
    "proportion_lower = norm.cdf(z_score_lower)\n",
    "proportion_upper = norm.cdf(z_score_upper)\n",
    "print(proportion_lower)\n",
    "print(proportion_upper)\n",
    "\n",
    "# Calculate the proportion between 2 and 4 days\n",
    "proportion_between_2_and_4_days = proportion_upper - proportion_lower\n",
    "\n",
    "print(f\"The proportion of sufferers estimating their physical discomfort to be between 2 and 4 days is approximately {proportion_between_2_and_4_days:.4f}\")"
   ]
  },
  {
   "cell_type": "code",
   "execution_count": 59,
   "id": "1a5cc45b-d8b1-48ba-9fd9-a3c35ce2413b",
   "metadata": {},
   "outputs": [
    {
     "name": "stdout",
     "output_type": "stream",
     "text": [
      "0.8416212335729143\n",
      "The estimated number of hours beyond which the top 20 percent suffered is approximately 99.83 hours\n"
     ]
    }
   ],
   "source": [
    "# h)\n",
    "from scipy.stats import norm\n",
    "\n",
    "mean = 83\n",
    "std_dev = 20\n",
    "percentile = 80\n",
    "\n",
    "# Find the Z-score associated with the top 20 percent (80th percentile)\n",
    "z_score_upper = norm.ppf(percentile / 100)\n",
    "print(z_score_upper)\n",
    "\n",
    "# Calculate the estimated number of hours using the Z-score formula\n",
    "estimated_hours_upper = mean + z_score_upper * std_dev\n",
    "\n",
    "print(f\"The estimated number of hours beyond which the top 20 percent suffered is approximately {estimated_hours_upper:.2f} hours\")"
   ]
  },
  {
   "cell_type": "code",
   "execution_count": 60,
   "id": "dbcf6fd2-2775-43da-83c9-a8a98a01f21a",
   "metadata": {},
   "outputs": [
    {
     "name": "stdout",
     "output_type": "stream",
     "text": [
      "The mild group consists of those who suffered for fewer than 45.38 hours.\n",
      "The severe group consists of those who suffered for more than 120.62 hours.\n"
     ]
    }
   ],
   "source": [
    "# i)\n",
    "from scipy.stats import norm\n",
    "\n",
    "mean = 83\n",
    "std_dev = 20\n",
    "percentile_mild = 3\n",
    "percentile_severe = 97\n",
    "\n",
    "# Find the Z-scores corresponding to the 3rd and 97th percentiles\n",
    "z_score_mild = norm.ppf(percentile_mild / 100)\n",
    "z_score_severe = norm.ppf(percentile_severe / 100)\n",
    "\n",
    "# Calculate the hours corresponding to the Z-scores using the mean and standard deviation\n",
    "hours_mild = mean + z_score_mild * std_dev\n",
    "hours_severe = mean + z_score_severe * std_dev\n",
    "\n",
    "print(f\"The mild group consists of those who suffered for fewer than {hours_mild:.2f} hours.\")\n",
    "print(f\"The severe group consists of those who suffered for more than {hours_severe:.2f} hours.\")"
   ]
  }
 ],
 "metadata": {
  "kernelspec": {
   "display_name": "Python 3 (ipykernel)",
   "language": "python",
   "name": "python3"
  },
  "language_info": {
   "codemirror_mode": {
    "name": "ipython",
    "version": 3
   },
   "file_extension": ".py",
   "mimetype": "text/x-python",
   "name": "python",
   "nbconvert_exporter": "python",
   "pygments_lexer": "ipython3",
   "version": "3.10.12"
  }
 },
 "nbformat": 4,
 "nbformat_minor": 5
}
