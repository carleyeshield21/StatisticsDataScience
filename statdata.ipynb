{
 "cells": [
  {
   "cell_type": "code",
   "execution_count": 1,
   "id": "4388a8fa-6801-443b-999f-ff7948ff7841",
   "metadata": {},
   "outputs": [],
   "source": [
    "import pandas"
   ]
  },
  {
   "cell_type": "code",
   "execution_count": 2,
   "id": "ceeee2bb-3ae0-4d9e-9264-28320ecdac02",
   "metadata": {},
   "outputs": [],
   "source": [
    "data = pandas.read_csv('statcsv.csv')"
   ]
  },
  {
   "cell_type": "code",
   "execution_count": 3,
   "id": "87236e64-0da6-41e3-8fec-a4023533b97c",
   "metadata": {},
   "outputs": [
    {
     "data": {
      "text/html": [
       "<div>\n",
       "<style scoped>\n",
       "    .dataframe tbody tr th:only-of-type {\n",
       "        vertical-align: middle;\n",
       "    }\n",
       "\n",
       "    .dataframe tbody tr th {\n",
       "        vertical-align: top;\n",
       "    }\n",
       "\n",
       "    .dataframe thead th {\n",
       "        text-align: right;\n",
       "    }\n",
       "</style>\n",
       "<table border=\"1\" class=\"dataframe\">\n",
       "  <thead>\n",
       "    <tr style=\"text-align: right;\">\n",
       "      <th></th>\n",
       "      <th>WEIGHT</th>\n",
       "      <th>f</th>\n",
       "      <th>CUMULATIVE f</th>\n",
       "      <th>cum percent</th>\n",
       "      <th>movie_ratings</th>\n",
       "    </tr>\n",
       "  </thead>\n",
       "  <tbody>\n",
       "    <tr>\n",
       "      <th>0</th>\n",
       "      <td>240–249</td>\n",
       "      <td>1.0</td>\n",
       "      <td>53.0</td>\n",
       "      <td>100.0</td>\n",
       "      <td>PG</td>\n",
       "    </tr>\n",
       "    <tr>\n",
       "      <th>1</th>\n",
       "      <td>230–239</td>\n",
       "      <td>0.0</td>\n",
       "      <td>52.0</td>\n",
       "      <td>98.0</td>\n",
       "      <td>G</td>\n",
       "    </tr>\n",
       "    <tr>\n",
       "      <th>2</th>\n",
       "      <td>220–229</td>\n",
       "      <td>3.0</td>\n",
       "      <td>52.0</td>\n",
       "      <td>98.0</td>\n",
       "      <td>R</td>\n",
       "    </tr>\n",
       "    <tr>\n",
       "      <th>3</th>\n",
       "      <td>210–219</td>\n",
       "      <td>0.0</td>\n",
       "      <td>49.0</td>\n",
       "      <td>92.0</td>\n",
       "      <td>NC-17</td>\n",
       "    </tr>\n",
       "    <tr>\n",
       "      <th>4</th>\n",
       "      <td>200–209</td>\n",
       "      <td>2.0</td>\n",
       "      <td>49.0</td>\n",
       "      <td>92.0</td>\n",
       "      <td>PG</td>\n",
       "    </tr>\n",
       "    <tr>\n",
       "      <th>5</th>\n",
       "      <td>190–199</td>\n",
       "      <td>4.0</td>\n",
       "      <td>47.0</td>\n",
       "      <td>89.0</td>\n",
       "      <td>PG-13</td>\n",
       "    </tr>\n",
       "    <tr>\n",
       "      <th>6</th>\n",
       "      <td>180–189</td>\n",
       "      <td>3.0</td>\n",
       "      <td>43.0</td>\n",
       "      <td>81.0</td>\n",
       "      <td>PG</td>\n",
       "    </tr>\n",
       "    <tr>\n",
       "      <th>7</th>\n",
       "      <td>170–179</td>\n",
       "      <td>7.0</td>\n",
       "      <td>40.0</td>\n",
       "      <td>75.0</td>\n",
       "      <td>NC-17</td>\n",
       "    </tr>\n",
       "    <tr>\n",
       "      <th>8</th>\n",
       "      <td>160–169</td>\n",
       "      <td>12.0</td>\n",
       "      <td>33.0</td>\n",
       "      <td>62.0</td>\n",
       "      <td>PG</td>\n",
       "    </tr>\n",
       "    <tr>\n",
       "      <th>9</th>\n",
       "      <td>150–159</td>\n",
       "      <td>17.0</td>\n",
       "      <td>21.0</td>\n",
       "      <td>40.0</td>\n",
       "      <td>R</td>\n",
       "    </tr>\n",
       "    <tr>\n",
       "      <th>10</th>\n",
       "      <td>140–149</td>\n",
       "      <td>1.0</td>\n",
       "      <td>4.0</td>\n",
       "      <td>8.0</td>\n",
       "      <td>R</td>\n",
       "    </tr>\n",
       "    <tr>\n",
       "      <th>11</th>\n",
       "      <td>130–139</td>\n",
       "      <td>3.0</td>\n",
       "      <td>3.0</td>\n",
       "      <td>6.0</td>\n",
       "      <td>PG</td>\n",
       "    </tr>\n",
       "    <tr>\n",
       "      <th>12</th>\n",
       "      <td>NaN</td>\n",
       "      <td>NaN</td>\n",
       "      <td>NaN</td>\n",
       "      <td>NaN</td>\n",
       "      <td>PG-13</td>\n",
       "    </tr>\n",
       "    <tr>\n",
       "      <th>13</th>\n",
       "      <td>NaN</td>\n",
       "      <td>NaN</td>\n",
       "      <td>NaN</td>\n",
       "      <td>NaN</td>\n",
       "      <td>PG</td>\n",
       "    </tr>\n",
       "    <tr>\n",
       "      <th>14</th>\n",
       "      <td>NaN</td>\n",
       "      <td>NaN</td>\n",
       "      <td>NaN</td>\n",
       "      <td>NaN</td>\n",
       "      <td>PG</td>\n",
       "    </tr>\n",
       "    <tr>\n",
       "      <th>15</th>\n",
       "      <td>NaN</td>\n",
       "      <td>NaN</td>\n",
       "      <td>NaN</td>\n",
       "      <td>NaN</td>\n",
       "      <td>G</td>\n",
       "    </tr>\n",
       "    <tr>\n",
       "      <th>16</th>\n",
       "      <td>NaN</td>\n",
       "      <td>NaN</td>\n",
       "      <td>NaN</td>\n",
       "      <td>NaN</td>\n",
       "      <td>G</td>\n",
       "    </tr>\n",
       "    <tr>\n",
       "      <th>17</th>\n",
       "      <td>NaN</td>\n",
       "      <td>NaN</td>\n",
       "      <td>NaN</td>\n",
       "      <td>NaN</td>\n",
       "      <td>PG</td>\n",
       "    </tr>\n",
       "    <tr>\n",
       "      <th>18</th>\n",
       "      <td>NaN</td>\n",
       "      <td>NaN</td>\n",
       "      <td>NaN</td>\n",
       "      <td>NaN</td>\n",
       "      <td>R</td>\n",
       "    </tr>\n",
       "    <tr>\n",
       "      <th>19</th>\n",
       "      <td>NaN</td>\n",
       "      <td>NaN</td>\n",
       "      <td>NaN</td>\n",
       "      <td>NaN</td>\n",
       "      <td>PG-13</td>\n",
       "    </tr>\n",
       "  </tbody>\n",
       "</table>\n",
       "</div>"
      ],
      "text/plain": [
       "     WEIGHT     f  CUMULATIVE f  cum percent movie_ratings\n",
       "0   240–249   1.0          53.0        100.0            PG\n",
       "1   230–239   0.0          52.0         98.0             G\n",
       "2   220–229   3.0          52.0         98.0             R\n",
       "3   210–219   0.0          49.0         92.0         NC-17\n",
       "4   200–209   2.0          49.0         92.0            PG\n",
       "5   190–199   4.0          47.0         89.0         PG-13\n",
       "6   180–189   3.0          43.0         81.0            PG\n",
       "7   170–179   7.0          40.0         75.0         NC-17\n",
       "8   160–169  12.0          33.0         62.0            PG\n",
       "9   150–159  17.0          21.0         40.0             R\n",
       "10  140–149   1.0           4.0          8.0             R\n",
       "11  130–139   3.0           3.0          6.0            PG\n",
       "12      NaN   NaN           NaN          NaN         PG-13\n",
       "13      NaN   NaN           NaN          NaN            PG\n",
       "14      NaN   NaN           NaN          NaN            PG\n",
       "15      NaN   NaN           NaN          NaN             G\n",
       "16      NaN   NaN           NaN          NaN             G\n",
       "17      NaN   NaN           NaN          NaN            PG\n",
       "18      NaN   NaN           NaN          NaN             R\n",
       "19      NaN   NaN           NaN          NaN         PG-13"
      ]
     },
     "execution_count": 3,
     "metadata": {},
     "output_type": "execute_result"
    }
   ],
   "source": [
    "data_copy = data.copy()\n",
    "data_copy"
   ]
  },
  {
   "cell_type": "code",
   "execution_count": 4,
   "id": "35951221-6a8a-4ce2-8fde-17036940f95e",
   "metadata": {},
   "outputs": [],
   "source": [
    "# cumf = data_copy['CUMULATIVE f']\n",
    "# sumf = sum(data.f)\n",
    "# # res = [round((item/sumf)*100) for item in cumf]\n",
    "# res = [f'{round((item/sumf)*100)}%' for item in cumf]\n",
    "# res"
   ]
  },
  {
   "cell_type": "code",
   "execution_count": 5,
   "id": "d4b7af17-5776-4572-a874-0685bad8bdc5",
   "metadata": {},
   "outputs": [
    {
     "data": {
      "text/plain": [
       "0        PG\n",
       "1         G\n",
       "2         R\n",
       "3     NC-17\n",
       "4        PG\n",
       "5     PG-13\n",
       "6        PG\n",
       "7     NC-17\n",
       "8        PG\n",
       "9         R\n",
       "10        R\n",
       "11       PG\n",
       "12    PG-13\n",
       "13       PG\n",
       "14       PG\n",
       "15        G\n",
       "16        G\n",
       "17       PG\n",
       "18        R\n",
       "19    PG-13\n",
       "Name: movie_ratings, dtype: object"
      ]
     },
     "execution_count": 5,
     "metadata": {},
     "output_type": "execute_result"
    }
   ],
   "source": [
    "movie_ratings = data_copy.movie_ratings\n",
    "movie_ratings"
   ]
  },
  {
   "cell_type": "code",
   "execution_count": 9,
   "id": "909dff7c-b109-4d38-bd79-97d03339e69c",
   "metadata": {},
   "outputs": [
    {
     "name": "stdout",
     "output_type": "stream",
     "text": [
      "PG: 8 times\n",
      "G: 3 times\n",
      "R: 4 times\n",
      "NC-17: 2 times\n",
      "PG-13: 3 times\n"
     ]
    }
   ],
   "source": [
    "from collections import Counter\n",
    "item_frequency = Counter(movie_ratings)\n",
    "\n",
    "for item, frequency in item_frequency.items():\n",
    "    print(f\"{item}: {frequency} times\")"
   ]
  },
  {
   "cell_type": "code",
   "execution_count": 10,
   "id": "ad39b374-5cfb-411d-9a81-9350b89c5465",
   "metadata": {},
   "outputs": [],
   "source": [
    "import matplotlib.pyplot as plt"
   ]
  },
  {
   "cell_type": "code",
   "execution_count": 11,
   "id": "1b60ced7-4cae-4b34-bff5-f48a83a5e844",
   "metadata": {
    "scrolled": true
   },
   "outputs": [
    {
     "data": {
      "text/plain": [
       "(array([8., 0., 3., 0., 0., 4., 0., 2., 0., 3.]),\n",
       " array([0. , 0.4, 0.8, 1.2, 1.6, 2. , 2.4, 2.8, 3.2, 3.6, 4. ]),\n",
       " <BarContainer object of 10 artists>)"
      ]
     },
     "execution_count": 11,
     "metadata": {},
     "output_type": "execute_result"
    },
    {
     "data": {
      "image/png": "[encoded data removed]",
      "text/plain": [
       "<Figure size 640x480 with 1 Axes>"
      ]
     },
     "metadata": {},
     "output_type": "display_data"
    }
   ],
   "source": [
    "plt.hist(movie_ratings)"
   ]
  },
  {
   "cell_type": "code",
   "execution_count": 25,
   "id": "76cda8aa-4c07-48cf-b1cd-9d2120a3a143",
   "metadata": {},
   "outputs": [],
   "source": [
    "weight = list(data_copy.WEIGHT)\n",
    "weight_list = weight[:11]"
   ]
  },
  {
   "cell_type": "code",
   "execution_count": 33,
   "id": "9d18ba50-c063-4edb-b7f6-4bf4a299a3a0",
   "metadata": {},
   "outputs": [],
   "source": [
    "freq = list(data_copy.f)\n",
    "freq_list = freq[:11]"
   ]
  },
  {
   "cell_type": "code",
   "execution_count": 36,
   "id": "a489f689-5288-454f-8e5b-3aa48f5795e3",
   "metadata": {},
   "outputs": [
    {
     "data": {
      "text/plain": [
       "([0, 1, 2, 3, 4, 5, 6, 7, 8, 9, 10],\n",
       " [Text(0, 0, '240–249'),\n",
       "  Text(1, 0, '230–239'),\n",
       "  Text(2, 0, '220–229'),\n",
       "  Text(3, 0, '210–219'),\n",
       "  Text(4, 0, '200–209'),\n",
       "  Text(5, 0, '190–199'),\n",
       "  Text(6, 0, '180–189'),\n",
       "  Text(7, 0, '170–179'),\n",
       "  Text(8, 0, '160–169'),\n",
       "  Text(9, 0, '150–159'),\n",
       "  Text(10, 0, '140–149')])"
      ]
     },
     "execution_count": 36,
     "metadata": {},
     "output_type": "execute_result"
    },
    {
     "data": {
      "image/png": "[encoded data removed]",
      "text/plain": [
       "<Figure size 640x480 with 1 Axes>"
      ]
     },
     "metadata": {},
     "output_type": "display_data"
    }
   ],
   "source": [
    "plt.bar(weight_list,freq_list,align='center', alpha=0.75, edgecolor='black')\n",
    "plt.xticks(rotation=45, ha='right')"
   ]
  }
 ],
 "metadata": {
  "kernelspec": {
   "display_name": "Python 3 (ipykernel)",
   "language": "python",
   "name": "python3"
  },
  "language_info": {
   "codemirror_mode": {
    "name": "ipython",
    "version": 3
   },
   "file_extension": ".py",
   "mimetype": "text/x-python",
   "name": "python",
   "nbconvert_exporter": "python",
   "pygments_lexer": "ipython3",
   "version": "3.10.12"
  }
 },
 "nbformat": 4,
 "nbformat_minor": 5
}
