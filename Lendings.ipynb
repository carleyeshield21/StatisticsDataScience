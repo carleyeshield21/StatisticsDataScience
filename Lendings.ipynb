{
 "cells": [
  {
   "cell_type": "code",
   "execution_count": 2,
   "id": "35aa1776-5ad6-48aa-900c-7be9bf337954",
   "metadata": {},
   "outputs": [],
   "source": [
    "import pandas\n",
    "import numpy"
   ]
  },
  {
   "cell_type": "code",
   "execution_count": 3,
   "id": "191587e2-26d5-45cb-b74c-edaa5cf8ec26",
   "metadata": {},
   "outputs": [],
   "source": [
    "data = pandas.read_csv('Lending-company.csv')"
   ]
  },
  {
   "cell_type": "code",
   "execution_count": 5,
   "id": "85ae8435-a7ef-4d80-a0b9-5680e384e108",
   "metadata": {},
   "outputs": [],
   "source": [
    "lending_data_copy = data.copy()"
   ]
  },
  {
   "cell_type": "code",
   "execution_count": 7,
   "id": "d669dfdb-2fc2-4c26-9e0c-6c139d58c29f",
   "metadata": {},
   "outputs": [
    {
     "data": {
      "text/plain": [
       "RangeIndex(start=0, stop=1043, step=1)"
      ]
     },
     "execution_count": 7,
     "metadata": {},
     "output_type": "execute_result"
    }
   ],
   "source": [
    "lending_data_copy.index"
   ]
  },
  {
   "cell_type": "code",
   "execution_count": 9,
   "id": "9d43a63a-b15f-4de8-a26c-5a91a1326540",
   "metadata": {},
   "outputs": [
    {
     "data": {
      "text/plain": [
       "pandas.core.indexes.range.RangeIndex"
      ]
     },
     "execution_count": 9,
     "metadata": {},
     "output_type": "execute_result"
    }
   ],
   "source": [
    "type(lending_data_copy.index)"
   ]
  },
  {
   "cell_type": "code",
   "execution_count": 10,
   "id": "e22fa14e-b025-4746-aae1-8eb78e98f489",
   "metadata": {},
   "outputs": [
    {
     "data": {
      "text/plain": [
       "Index(['LoanID', 'StringID', 'Product', 'CustomerGender', 'Location', 'Region',\n",
       "       'TotalPrice', 'StartDate', 'Deposit', 'DailyRate', 'TotalDaysYr',\n",
       "       'AmtPaid36', 'AmtPaid60', 'AmtPaid360', 'LoanStatus'],\n",
       "      dtype='object')"
      ]
     },
     "execution_count": 10,
     "metadata": {},
     "output_type": "execute_result"
    }
   ],
   "source": [
    "lending_data_copy.columns"
   ]
  }
 ],
 "metadata": {
  "kernelspec": {
   "display_name": "Python 3 (ipykernel)",
   "language": "python",
   "name": "python3"
  },
  "language_info": {
   "codemirror_mode": {
    "name": "ipython",
    "version": 3
   },
   "file_extension": ".py",
   "mimetype": "text/x-python",
   "name": "python",
   "nbconvert_exporter": "python",
   "pygments_lexer": "ipython3",
   "version": "3.12.0"
  }
 },
 "nbformat": 4,
 "nbformat_minor": 5
}
