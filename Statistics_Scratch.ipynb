{
 "cells": [
  {
   "cell_type": "markdown",
   "id": "40149df9-82b4-467a-b4b3-e5aab329029a",
   "metadata": {},
   "source": [
    "#### Markdown\n",
    "$\\overline{D}=0.22285714285714286$\n",
    "\n",
    "$\\Sigma{D}=1.5599999999999996$\n",
    "\n",
    "$\\Sigma{D^2}=0.503$\n",
    "\n",
    "$SS_D=0.15534285714285728$\n",
    "\n",
    "$S_D=0.16090517763725384$\n",
    "\n",
    "$S_\\overline{D}=0.06081644067012074$\n",
    "\n",
    "$t=3.664422652847441$\n",
    "\n",
    "$d=1.3850215768665575$"
   ]
  },
  {
   "cell_type": "markdown",
   "id": "ed9e1edc-2e3d-4243-8f7f-96729babb97a",
   "metadata": {},
   "source": [
    "### Sample Sums of Squares\n",
    "$SS_D=\\Sigma{D}^2-\\dfrac{(\\Sigma{D})^2}{n}$\n",
    "\n",
    "#### SAMPLE STANDARD DEVIATION, $S_D$\n",
    "\n",
    "$S_D = \\sqrt{\\dfrac{SS_D}{n-1}}$\n",
    "\n",
    "#### ESTIMATED STANDARD ERROR, $S_\\overline{D}$\n",
    "\n",
    "$S_\\overline{D}=\\dfrac{S_D}{\\sqrt{n}}$\n",
    "\n",
    "$t = \\dfrac{\\overline{D}-\\mu_{D_{hyp}}}{S_\\overline{D}}$\n",
    "\n",
    "$d=\\dfrac{\\overline{D}}{S_D}$\n",
    "\n",
    "$\\bullet$"
   ]
  },
  {
   "cell_type": "code",
   "execution_count": 8,
   "id": "b9c3b0ed-1191-4576-b4d5-e91805ec454c",
   "metadata": {
    "scrolled": true
   },
   "outputs": [
    {
     "name": "stdout",
     "output_type": "stream",
     "text": [
      "One-way ANOVA:\n",
      "F-statistic: 10.836158192090394\n",
      "P-value: 6.741352505212159e-05\n",
      "\n",
      "Tukey's HSD results:\n",
      "Multiple Comparison of Means - Tukey HSD, FWER=0.05\n",
      "===================================================\n",
      "group1 group2 meandiff p-adj   lower  upper  reject\n",
      "---------------------------------------------------\n",
      "    X0     X1      1.5 0.5232 -1.4725 4.4725  False\n",
      "    X0     X2    3.375 0.0215  0.4025 6.3475   True\n",
      "    X0     X3    5.875 0.0001  2.9025 8.8475   True\n",
      "    X1     X2    1.875 0.3315 -1.0975 4.8475  False\n",
      "    X1     X3    4.375 0.0021  1.4025 7.3475   True\n",
      "    X2     X3      2.5 0.1231 -0.4725 5.4725  False\n",
      "---------------------------------------------------\n",
      "\n",
      "HSD value: 5.875\n"
     ]
    }
   ],
   "source": [
    "import numpy as np\n",
    "from scipy.stats import f_oneway\n",
    "from statsmodels.stats.multicomp import pairwise_tukeyhsd\n",
    "\n",
    "# Sample data\n",
    "X0 = np.array([1, 0, 0, 2, 3, 4, 2, 1])\n",
    "X1 = np.array([2, 1, 2, 4, 4, 6, 3, 3])\n",
    "X2 = np.array([4, 2, 3, 6, 7, 8, 5, 5])\n",
    "X3 = np.array([7, 1, 6, 9, 10, 12, 8, 7])\n",
    "\n",
    "# Combine data into a single array\n",
    "data = np.concatenate([X0, X1, X2, X3])\n",
    "\n",
    "# Create group labels\n",
    "labels = ['X0'] * len(X0) + ['X1'] * len(X1) + ['X2'] * len(X2) + ['X3'] * len(X3)\n",
    "\n",
    "# Perform one-way ANOVA\n",
    "f_statistic, p_value = f_oneway(X0, X1, X2, X3)\n",
    "\n",
    "# Perform Tukey's HSD for pairwise comparisons\n",
    "tukey_results = pairwise_tukeyhsd(data, labels, alpha=0.05)\n",
    "\n",
    "# Print results\n",
    "print(\"One-way ANOVA:\")\n",
    "print(f\"F-statistic: {f_statistic}\")\n",
    "print(f\"P-value: {p_value}\")\n",
    "\n",
    "print(\"\\nTukey's HSD results:\")\n",
    "print(tukey_results)\n",
    "\n",
    "# Extract HSD value\n",
    "hsd_value = tukey_results.meandiffs.max()\n",
    "\n",
    "print(\"\\nHSD value:\", hsd_value)"
   ]
  }
 ],
 "metadata": {
  "kernelspec": {
   "display_name": "Python 3 (ipykernel)",
   "language": "python",
   "name": "python3"
  },
  "language_info": {
   "codemirror_mode": {
    "name": "ipython",
    "version": 3
   },
   "file_extension": ".py",
   "mimetype": "text/x-python",
   "name": "python",
   "nbconvert_exporter": "python",
   "pygments_lexer": "ipython3",
   "version": "3.10.12"
  }
 },
 "nbformat": 4,
 "nbformat_minor": 5
}
