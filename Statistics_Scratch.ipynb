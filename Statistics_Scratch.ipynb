{
 "cells": [
  {
   "cell_type": "code",
   "execution_count": 1,
   "id": "781e7af6-0d19-4907-8e39-130a12c22c5f",
   "metadata": {},
   "outputs": [
    {
     "name": "stdout",
     "output_type": "stream",
     "text": [
      "T-statistic: -3.7370465934182984\n",
      "P-value: 0.004646628087613753\n",
      "Critical value: 2.2621571627409915\n",
      "Reject the null hypothesis\n"
     ]
    }
   ],
   "source": [
    "import scipy.stats as stats\n",
    "\n",
    "# Data\n",
    "vitamin_c = [2, 5, 7, 0, 3, 7, 4, 5, 1, 3]\n",
    "fake_vitamin_c = [3, 4, 9, 3, 5, 7, 6, 8, 2, 5]\n",
    "\n",
    "# Paired t-test\n",
    "t_statistic, p_value = stats.ttest_rel(vitamin_c, fake_vitamin_c)\n",
    "\n",
    "# Degrees of freedom\n",
    "df = len(vitamin_c) - 1\n",
    "\n",
    "# Two-tailed critical value for alpha = 0.05\n",
    "alpha = 0.05\n",
    "t_critical = stats.t.ppf(1 - alpha / 2, df)\n",
    "\n",
    "# Print results\n",
    "print(f\"T-statistic: {t_statistic}\")\n",
    "print(f\"P-value: {p_value}\")\n",
    "print(f\"Critical value: {t_critical}\")\n",
    "\n",
    "# Check if null hypothesis is rejected\n",
    "if abs(t_statistic) > t_critical or p_value < alpha:\n",
    "    print(\"Reject the null hypothesis\")\n",
    "else:\n",
    "    print(\"Fail to reject the null hypothesis\")"
   ]
  }
 ],
 "metadata": {
  "kernelspec": {
   "display_name": "Python 3 (ipykernel)",
   "language": "python",
   "name": "python3"
  },
  "language_info": {
   "codemirror_mode": {
    "name": "ipython",
    "version": 3
   },
   "file_extension": ".py",
   "mimetype": "text/x-python",
   "name": "python",
   "nbconvert_exporter": "python",
   "pygments_lexer": "ipython3",
   "version": "3.10.12"
  }
 },
 "nbformat": 4,
 "nbformat_minor": 5
}
