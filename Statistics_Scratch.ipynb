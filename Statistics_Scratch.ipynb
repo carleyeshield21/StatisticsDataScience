{
 "cells": [
  {
   "cell_type": "markdown",
   "id": "4dd11be2-d30e-4ad2-b0a0-e4324b3aead3",
   "metadata": {},
   "source": [
    "### Sample Sums of Squares\n",
    "$SS$ = $\\Sigma({X}-\\overline{X})^2$ = $\\Sigma{X}^2$ $-$ $\\dfrac{(\\Sigma{X})^2}{n}$\n",
    "\n",
    "### THE POOLED VARIANCE\n",
    "\n",
    "$S_P^2 = \\dfrac{SS_1 + SS_2}{n_1 + n_2 - 2}$\n",
    "\n",
    "$S_P^2 = \\dfrac{({n_1 - 1})s_1^2 + ({n_2 - 1})s_2^2}{n_1 + n_2 - 2}$\n",
    "\n",
    "### STANDARD ERROR\n",
    "\n",
    "$S_{\\overline{X}_1-\\overline{X}_2} = \\sqrt{\\dfrac{S^2_P}{n_1} + \\dfrac{S^2_P}{n_2}}$"
   ]
  },
  {
   "cell_type": "markdown",
   "id": "a927909f-8cb3-4249-930f-6f1d8d820586",
   "metadata": {},
   "source": [
    "### THE POOLED VARIANCE\n",
    "\n",
    "$S_P^2 = \\dfrac{SS_1 + SS_2}{n_1 + n_2 - 2}$\n",
    "\n",
    "$S_P^2 = \\dfrac{({n_1 - 1})s_1^2 + ({n_2 - 1})s_2^2}{n_1 + n_2 - 2}$"
   ]
  },
  {
   "cell_type": "code",
   "execution_count": 21,
   "id": "650e3dfd-6588-4f4c-a94e-e0aa7b86c902",
   "metadata": {},
   "outputs": [
    {
     "name": "stdout",
     "output_type": "stream",
     "text": [
      "T-Statistic: 2.382593125147473\n",
      "Degrees of Freedom: 52\n",
      "P-Value: 0.020881737181235982\n"
     ]
    }
   ],
   "source": [
    "import numpy as np\n",
    "import scipy.stats as stats\n",
    "\n",
    "# Given data\n",
    "meditators = [3.25, 2.25, 2.75, 3.56, 3.33, 2.25, 3.57, 2.45, 3.75, 2.95, 3.30, 3.56, 3.56, 3.78, 3.75, 3.45, 3.00, 3.35, 3.10, 2.75, 3.09, 2.58, 2.95, 3.56, 3.30, 3.43, 3.47]\n",
    "non_meditators = [3.67, 3.79, 3.00, 2.50, 2.75, 1.90, 3.50, 2.67, 2.90, 2.80, 2.65, 2.58, 2.83, 3.10, 3.37, 3.25, 2.76, 2.86, 2.90, 2.10, 2.66, 2.34, 3.20, 2.67, 3.59, 3.00, 3.08]\n",
    "S2p = 0.20\n",
    "X1 = 3.19\n",
    "X2 = 2.90\n",
    "\n",
    "# Calculate the estimated standard error\n",
    "n1 = len(meditators)\n",
    "n2 = len(non_meditators)\n",
    "se = np.sqrt(S2p * (1/n1 + 1/n2))\n",
    "\n",
    "# Calculate the t-statistic\n",
    "t_statistic = (X1 - X2) / se\n",
    "\n",
    "# Calculate degrees of freedom\n",
    "df = n1 + n2 - 2\n",
    "\n",
    "# Calculate the p-value\n",
    "p_value = 2 * (1 - stats.t.cdf(abs(t_statistic), df))\n",
    "\n",
    "# Print results\n",
    "print(f\"T-Statistic: {t_statistic}\")\n",
    "print(f\"Degrees of Freedom: {df}\")\n",
    "print(f\"P-Value: {p_value}\")"
   ]
  }
 ],
 "metadata": {
  "kernelspec": {
   "display_name": "Python 3 (ipykernel)",
   "language": "python",
   "name": "python3"
  },
  "language_info": {
   "codemirror_mode": {
    "name": "ipython",
    "version": 3
   },
   "file_extension": ".py",
   "mimetype": "text/x-python",
   "name": "python",
   "nbconvert_exporter": "python",
   "pygments_lexer": "ipython3",
   "version": "3.10.12"
  }
 },
 "nbformat": 4,
 "nbformat_minor": 5
}
