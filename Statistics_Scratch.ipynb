{
 "cells": [
  {
   "cell_type": "code",
   "execution_count": 7,
   "id": "87676c74-4c41-40ea-8c8e-42d3ef21f6b2",
   "metadata": {
    "scrolled": true
   },
   "outputs": [
    {
     "name": "stdout",
     "output_type": "stream",
     "text": [
      "Mean Difference Score: 0.2228571428571428\n",
      "T-Statistic: 3.6644226528474397\n",
      "Critical Value of t: 3.707428021324907\n",
      "P-Value: 0.010523873876434144\n",
      "Cohen's d: 0.33423796941447365\n",
      "Is the p-value less than 0.05? True\n"
     ]
    }
   ],
   "source": [
    "import numpy as np\n",
    "from scipy import stats\n",
    "\n",
    "# Data\n",
    "physical_exercise = np.array([4.00, 2.67, 3.65, 2.11, 3.21, 3.60, 2.80])\n",
    "no_physical_exercise = np.array([3.75, 2.74, 3.42, 1.67, 3.00, 3.25, 2.65])\n",
    "\n",
    "# Paired t-test\n",
    "t_statistic, p_value = stats.ttest_rel(physical_exercise, no_physical_exercise)\n",
    "\n",
    "# Calculate mean difference score\n",
    "mean_difference = np.mean(physical_exercise - no_physical_exercise)\n",
    "\n",
    "# Critical value for a two-tailed test at 0.01 significance level\n",
    "alpha = 0.01\n",
    "t_critical = stats.t.ppf(1 - alpha / 2, len(physical_exercise) - 1)\n",
    "\n",
    "# Cohen's d\n",
    "pooled_std = np.sqrt(((len(physical_exercise) - 1) * np.var(physical_exercise, ddof=1) + (len(no_physical_exercise) - 1) * np.var(no_physical_exercise, ddof=1)) / (len(physical_exercise) + len(no_physical_exercise) - 2))\n",
    "cohens_d = mean_difference / pooled_std\n",
    "\n",
    "# Output results\n",
    "print(\"Mean Difference Score:\", mean_difference)\n",
    "print(\"T-Statistic:\", t_statistic)\n",
    "print(\"Critical Value of t:\", t_critical)\n",
    "print(\"P-Value:\", p_value)\n",
    "print(\"Cohen's d:\", cohens_d)\n",
    "print(\"Is the p-value less than 0.05?\", p_value < 0.05)"
   ]
  },
  {
   "cell_type": "code",
   "execution_count": 8,
   "id": "fe576b96-56e2-4800-aa7c-c63d6ef91eb6",
   "metadata": {},
   "outputs": [
    {
     "name": "stdout",
     "output_type": "stream",
     "text": [
      "Mean Difference Score: -1.5\n",
      "T-Statistic: -3.7370465934182984\n",
      "Critical Value of t: 3.2498355440153697\n",
      "P-Value: 0.004646628087613753\n",
      "Cohen's d: -0.643843372753568\n",
      "Is the p-value less than 0.05? True\n"
     ]
    }
   ],
   "source": [
    "import numpy as np\n",
    "from scipy import stats\n",
    "\n",
    "# Data\n",
    "physical_exercise = np.array([2, 5, 7, 0, 3, 7, 4, 5, 1, 3])\n",
    "no_physical_exercise = np.array([3, 4, 9, 3, 5, 7, 6, 8, 2, 5])\n",
    "\n",
    "# Paired t-test\n",
    "t_statistic, p_value = stats.ttest_rel(physical_exercise, no_physical_exercise)\n",
    "\n",
    "# Calculate mean difference score\n",
    "mean_difference = np.mean(physical_exercise - no_physical_exercise)\n",
    "\n",
    "# Critical value for a two-tailed test at 0.01 significance level\n",
    "alpha = 0.01\n",
    "t_critical = stats.t.ppf(1 - alpha / 2, len(physical_exercise) - 1)\n",
    "\n",
    "# Cohen's d\n",
    "pooled_std = np.sqrt(((len(physical_exercise) - 1) * np.var(physical_exercise, ddof=1) + (len(no_physical_exercise) - 1) * np.var(no_physical_exercise, ddof=1)) / (len(physical_exercise) + len(no_physical_exercise) - 2))\n",
    "cohens_d = mean_difference / pooled_std\n",
    "\n",
    "# Output results\n",
    "print(\"Mean Difference Score:\", mean_difference)\n",
    "print(\"T-Statistic:\", t_statistic)\n",
    "print(\"Critical Value of t:\", t_critical)\n",
    "print(\"P-Value:\", p_value)\n",
    "print(\"Cohen's d:\", cohens_d)\n",
    "print(\"Is the p-value less than 0.05?\", p_value < 0.05)"
   ]
  }
 ],
 "metadata": {
  "kernelspec": {
   "display_name": "Python 3 (ipykernel)",
   "language": "python",
   "name": "python3"
  },
  "language_info": {
   "codemirror_mode": {
    "name": "ipython",
    "version": 3
   },
   "file_extension": ".py",
   "mimetype": "text/x-python",
   "name": "python",
   "nbconvert_exporter": "python",
   "pygments_lexer": "ipython3",
   "version": "3.10.12"
  }
 },
 "nbformat": 4,
 "nbformat_minor": 5
}
