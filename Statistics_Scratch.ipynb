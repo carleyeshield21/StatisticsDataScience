{
 "cells": [
  {
   "cell_type": "markdown",
   "id": "40149df9-82b4-467a-b4b3-e5aab329029a",
   "metadata": {},
   "source": [
    "#### Markdown\n",
    "$\\overline{D}=0.22285714285714286$\n",
    "\n",
    "$\\Sigma{D}=1.5599999999999996$\n",
    "\n",
    "$\\Sigma{D^2}=0.503$\n",
    "\n",
    "$SS_D=0.15534285714285728$\n",
    "\n",
    "$S_D=0.16090517763725384$\n",
    "\n",
    "$S_\\overline{D}=0.06081644067012074$\n",
    "\n",
    "$t=3.664422652847441$\n",
    "\n",
    "$d=1.3850215768665575$"
   ]
  },
  {
   "cell_type": "markdown",
   "id": "ed9e1edc-2e3d-4243-8f7f-96729babb97a",
   "metadata": {},
   "source": [
    "### Sample Sums of Squares\n",
    "$SS_D=\\Sigma{D}^2-\\dfrac{(\\Sigma{D})^2}{n}$\n",
    "\n",
    "#### SAMPLE STANDARD DEVIATION, $S_D$\n",
    "\n",
    "$S_D = \\sqrt{\\dfrac{SS_D}{n-1}}$\n",
    "\n",
    "#### ESTIMATED STANDARD ERROR, $S_\\overline{D}$\n",
    "\n",
    "$S_\\overline{D}=\\dfrac{S_D}{\\sqrt{n}}$\n",
    "\n",
    "$t = \\dfrac{\\overline{D}-\\mu_{D_{hyp}}}{S_\\overline{D}}$\n",
    "\n",
    "$d=\\dfrac{\\overline{D}}{S_D}$\n",
    "\n",
    "$\\bullet$"
   ]
  },
  {
   "cell_type": "code",
   "execution_count": 4,
   "id": "b9c3b0ed-1191-4576-b4d5-e91805ec454c",
   "metadata": {
    "scrolled": true
   },
   "outputs": [
    {
     "ename": "TypeError",
     "evalue": "AnovaRM.__init__() got an unexpected keyword argument 'groups'",
     "output_type": "error",
     "traceback": [
      "\u001b[0;31m---------------------------------------------------------------------------\u001b[0m",
      "\u001b[0;31mTypeError\u001b[0m                                 Traceback (most recent call last)",
      "Cell \u001b[0;32mIn[4], line 21\u001b[0m\n\u001b[1;32m     18\u001b[0m f_statistic, p_value \u001b[38;5;241m=\u001b[39m f_oneway(X0, X24, X48)\n\u001b[1;32m     20\u001b[0m \u001b[38;5;66;03m# Create ANOVA table\u001b[39;00m\n\u001b[0;32m---> 21\u001b[0m anova_table \u001b[38;5;241m=\u001b[39m \u001b[43mAnovaRM\u001b[49m\u001b[43m(\u001b[49m\u001b[43mdata\u001b[49m\u001b[43m,\u001b[49m\u001b[43m \u001b[49m\u001b[43mnp\u001b[49m\u001b[38;5;241;43m.\u001b[39;49m\u001b[43mones_like\u001b[49m\u001b[43m(\u001b[49m\u001b[43mdata\u001b[49m\u001b[43m)\u001b[49m\u001b[43m,\u001b[49m\u001b[43m \u001b[49m\u001b[43mgroups\u001b[49m\u001b[38;5;241;43m=\u001b[39;49m\u001b[43mlabels\u001b[49m\u001b[43m)\u001b[49m\u001b[38;5;241m.\u001b[39mfit()\u001b[38;5;241m.\u001b[39msummary()\n\u001b[1;32m     23\u001b[0m \u001b[38;5;66;03m# Perform Tukey's HSD for pairwise comparisons\u001b[39;00m\n\u001b[1;32m     24\u001b[0m tukey_results \u001b[38;5;241m=\u001b[39m pairwise_tukeyhsd(data, labels, alpha\u001b[38;5;241m=\u001b[39m\u001b[38;5;241m0.05\u001b[39m)\n",
      "\u001b[0;31mTypeError\u001b[0m: AnovaRM.__init__() got an unexpected keyword argument 'groups'"
     ]
    }
   ],
   "source": [
    "import numpy as np\n",
    "from scipy.stats import f_oneway\n",
    "from statsmodels.stats.multicomp import pairwise_tukeyhsd\n",
    "from statsmodels.stats.anova import AnovaRM\n",
    "\n",
    "# Sample data\n",
    "X0 = np.array([3, 5, 7])\n",
    "X24 = np.array([4, 8, 6])\n",
    "X48 = np.array([2, 4, 6])\n",
    "\n",
    "# Combine data into a single array\n",
    "data = np.concatenate([X0, X24, X48])\n",
    "\n",
    "# Create group labels\n",
    "labels = ['X0'] * len(X0) + ['X24'] * len(X24) + ['X48'] * len(X48)\n",
    "\n",
    "# Perform one-way ANOVA\n",
    "f_statistic, p_value = f_oneway(X0, X24, X48)\n",
    "\n",
    "# Create ANOVA table\n",
    "anova_table = AnovaRM(data, np.ones_like(data), groups=labels).fit().summary()\n",
    "\n",
    "# Perform Tukey's HSD for pairwise comparisons\n",
    "tukey_results = pairwise_tukeyhsd(data, labels, alpha=0.05)\n",
    "\n",
    "# Extract HSD value\n",
    "hsd_value = tukey_results.meandiffs.max()\n",
    "\n",
    "# Calculate effect size (eta-squared)\n",
    "total_variance = np.sum((data - np.mean(data))**2)\n",
    "explained_variance = np.sum([(np.mean(group) - np.mean(data))**2 for group in [X0, X24, X48]])\n",
    "eta_squared = explained_variance / total_variance\n",
    "\n",
    "# Print results\n",
    "print(\"One-way ANOVA:\")\n",
    "print(f\"F-statistic: {f_statistic}\")\n",
    "print(f\"P-value: {p_value}\")\n",
    "print(\"\\nANOVA Table:\")\n",
    "print(anova_table)\n",
    "print(\"\\nTukey's HSD results:\")\n",
    "print(tukey_results)\n",
    "print(\"\\nHSD value:\", hsd_value)\n",
    "print(\"Effect size (eta-squared):\", eta_squared)"
   ]
  }
 ],
 "metadata": {
  "kernelspec": {
   "display_name": "Python 3 (ipykernel)",
   "language": "python",
   "name": "python3"
  },
  "language_info": {
   "codemirror_mode": {
    "name": "ipython",
    "version": 3
   },
   "file_extension": ".py",
   "mimetype": "text/x-python",
   "name": "python",
   "nbconvert_exporter": "python",
   "pygments_lexer": "ipython3",
   "version": "3.10.12"
  }
 },
 "nbformat": 4,
 "nbformat_minor": 5
}
