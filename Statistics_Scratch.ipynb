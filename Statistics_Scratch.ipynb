{
 "cells": [
  {
   "cell_type": "code",
   "execution_count": 7,
   "id": "781e7af6-0d19-4907-8e39-130a12c22c5f",
   "metadata": {
    "scrolled": true
   },
   "outputs": [
    {
     "name": "stdout",
     "output_type": "stream",
     "text": [
      "T-statistic: -3.7370465934182984\n",
      "P-value: 0.004646628087613753\n",
      "Degrees of freedom: 9\n",
      "Critical value of t: 2.2621571627409915\n",
      "Reject the null hypothesis at the 0.05 level of significance\n"
     ]
    }
   ],
   "source": [
    "from scipy import stats\n",
    "\n",
    "# Given data\n",
    "vitamin_c = [2, 5, 7, 0, 3, 7, 4, 5, 1, 3]\n",
    "fake_vitamin_c = [3, 4, 9, 3, 5, 7, 6, 8, 2, 5]\n",
    "\n",
    "# Paired t-test\n",
    "t_statistic, p_value = stats.ttest_rel(vitamin_c, fake_vitamin_c)\n",
    "\n",
    "# Degrees of freedom\n",
    "degrees_of_freedom = len(vitamin_c) - 1\n",
    "\n",
    "# Significance level\n",
    "alpha = 0.05\n",
    "\n",
    "# Calculate critical value of t\n",
    "critical_value = stats.t.ppf(1 - alpha/2, degrees_of_freedom)\n",
    "\n",
    "# Display results\n",
    "print(f'T-statistic: {t_statistic}')\n",
    "print(f'P-value: {p_value}')\n",
    "print(f'Degrees of freedom: {degrees_of_freedom}')\n",
    "print(f'Critical value of t: {critical_value}')\n",
    "\n",
    "# Compare t-ratio with critical value\n",
    "if abs(t_statistic) > critical_value:\n",
    "    print('Reject the null hypothesis at the 0.05 level of significance')\n",
    "else:\n",
    "    print('Fail to reject the null hypothesis at the 0.05 level of significance')"
   ]
  },
  {
   "cell_type": "code",
   "execution_count": 10,
   "id": "64045327-2822-4146-bead-a7117846d2f9",
   "metadata": {},
   "outputs": [
    {
     "name": "stdout",
     "output_type": "stream",
     "text": [
      "mean_diff=-1.5\n",
      "pooled_std=2.329759167334207\n",
      "T-Statistic: -3.7370465934182984\n",
      "P-Value: 0.004646628087613753\n",
      "Critical Value of t: 2.2621571627409915\n",
      "T-Ratio: -3.7370465934182984\n",
      "Confidence Intervals: (-2.4079993142412692, -0.5920006857587307)\n",
      "Cohen's d: -0.643843372753568\n"
     ]
    }
   ],
   "source": [
    "import numpy as np\n",
    "from scipy import stats\n",
    "\n",
    "# Data\n",
    "vitamin_c = np.array([2, 5, 7, 0, 3, 7, 4, 5, 1, 3])\n",
    "fake_vitamin_c = np.array([3, 4, 9, 3, 5, 7, 6, 8, 2, 5])\n",
    "\n",
    "# Paired t-test\n",
    "t_statistic, p_value = stats.ttest_rel(vitamin_c, fake_vitamin_c)\n",
    "\n",
    "# Degrees of freedom\n",
    "df = len(vitamin_c) - 1\n",
    "\n",
    "# Critical value for a two-tailed test at 0.05 significance level\n",
    "alpha = 0.05\n",
    "t_critical = stats.t.ppf(1 - alpha / 2, df)\n",
    "\n",
    "# T-ratio\n",
    "t_ratio = t_statistic\n",
    "\n",
    "# Confidence intervals\n",
    "mean_diff = np.mean(vitamin_c - fake_vitamin_c)\n",
    "std_diff = np.std(vitamin_c - fake_vitamin_c, ddof=1)\n",
    "margin_of_error = t_critical * (std_diff / np.sqrt(len(vitamin_c)))\n",
    "confidence_interval = (mean_diff - margin_of_error, mean_diff + margin_of_error)\n",
    "\n",
    "# Cohen's d\n",
    "pooled_std = np.sqrt(((len(vitamin_c) - 1) * np.var(vitamin_c, ddof=1) + (len(fake_vitamin_c) - 1) * np.var(fake_vitamin_c, ddof=1)) / (len(vitamin_c) + len(fake_vitamin_c) - 2))\n",
    "cohens_d = mean_diff / pooled_std\n",
    "print(f'mean_diff={mean_diff}\\npooled_std={pooled_std}')\n",
    "\n",
    "# Output results\n",
    "print(\"T-Statistic:\", t_statistic)\n",
    "print(\"P-Value:\", p_value)\n",
    "print(\"Critical Value of t:\", t_critical)\n",
    "print(\"T-Ratio:\", t_ratio)\n",
    "print(\"Confidence Intervals:\", confidence_interval)\n",
    "print(\"Cohen's d:\", cohens_d)"
   ]
  }
 ],
 "metadata": {
  "kernelspec": {
   "display_name": "Python 3 (ipykernel)",
   "language": "python",
   "name": "python3"
  },
  "language_info": {
   "codemirror_mode": {
    "name": "ipython",
    "version": 3
   },
   "file_extension": ".py",
   "mimetype": "text/x-python",
   "name": "python",
   "nbconvert_exporter": "python",
   "pygments_lexer": "ipython3",
   "version": "3.10.12"
  }
 },
 "nbformat": 4,
 "nbformat_minor": 5
}
