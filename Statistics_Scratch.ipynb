{
 "cells": [
  {
   "cell_type": "markdown",
   "id": "4dd11be2-d30e-4ad2-b0a0-e4324b3aead3",
   "metadata": {},
   "source": [
    "### Sample Sums of Squares\n",
    "$SS$ = $\\Sigma({X}-\\overline{X})^2$ = $\\Sigma{X}^2$ $-$ $\\dfrac{(\\Sigma{X})^2}{n}$\n",
    "\n",
    "### THE POOLED VARIANCE\n",
    "\n",
    "$S_P^2 = \\dfrac{SS_1 + SS_2}{n_1 + n_2 - 2}$\n",
    "\n",
    "$S_P^2 = \\dfrac{({n_1 - 1})s_1^2 + ({n_2 - 1})s_2^2}{n_1 + n_2 - 2}$\n",
    "\n",
    "### STANDARD ERROR\n",
    "\n",
    "$S_{\\overline{X}_1-\\overline{X}_2} = \\sqrt{\\dfrac{S^2_P}{n_1} + \\dfrac{S^2_P}{n_2}}$"
   ]
  },
  {
   "cell_type": "code",
   "execution_count": 1,
   "id": "891de6a3-5ba5-431a-8564-4ee22387a5bb",
   "metadata": {},
   "outputs": [
    {
     "name": "stdout",
     "output_type": "stream",
     "text": [
      "T-Statistic: 4.648111258522642\n",
      "Critical T-Value: 2.6500812928169553\n",
      "Degrees of Freedom: 68\n",
      "Reject the null hypothesis\n",
      "Standard Error: 1.8\n"
     ]
    }
   ],
   "source": [
    "import scipy.stats as stats\n",
    "import math\n",
    "\n",
    "# Given data\n",
    "mean_treatment = 110\n",
    "mean_control = 108\n",
    "std_error = 1.80\n",
    "sample_size = 35\n",
    "significance_level = 0.01\n",
    "\n",
    "# Calculate the t-statistic\n",
    "t_statistic = (mean_treatment - mean_control) / (std_error * math.sqrt(2/sample_size))\n",
    "\n",
    "# Calculate degrees of freedom\n",
    "degrees_of_freedom = 2 * sample_size - 2\n",
    "\n",
    "# Calculate critical t-value\n",
    "alpha = significance_level / 2  # Two-tailed test\n",
    "critical_t_value = stats.t.ppf(1 - alpha, degrees_of_freedom)\n",
    "\n",
    "# Print results\n",
    "print(f\"T-Statistic: {t_statistic}\")\n",
    "print(f\"Critical T-Value: {critical_t_value}\")\n",
    "print(f\"Degrees of Freedom: {degrees_of_freedom}\")\n",
    "\n",
    "# Check if we reject the null hypothesis\n",
    "if abs(t_statistic) > critical_t_value:\n",
    "    print(\"Reject the null hypothesis\")\n",
    "else:\n",
    "    print(\"Fail to reject the null hypothesis\")\n",
    "\n",
    "# Print the standard error\n",
    "print(f\"Standard Error: {std_error}\")"
   ]
  },
  {
   "cell_type": "code",
   "execution_count": 2,
   "id": "675849ee-11d6-47a9-a2af-77084760cc36",
   "metadata": {},
   "outputs": [
    {
     "name": "stdout",
     "output_type": "stream",
     "text": [
      "35\n",
      "29\n",
      "homo_mean = 24.0\n",
      "homo_variance = 148.87058823529412\n",
      "nonhomo_mean = 16.50344827586207\n",
      "nonhomo_variance = 139.15891625615762\n"
     ]
    }
   ],
   "source": [
    "import statistics\n",
    "import math\n",
    "\n",
    "homo = [39.1,11.0,33.4,19.5,35.7,8.7,38.0,20.7,13.7,11.4,41.5,23.0,14.9,26.4,46.1,24.1,18.4,14.3,20.7,35.7,13.7,17.2,36.8,5.3,19.5,26.4,23.0,38.0,54.1,6.3,32.2,28.8,20.7,10.3,11.4]\n",
    "print(len(homo))\n",
    "nonhomo = [24.0,10.1,20.0,30.9,26.9,17.0,16.1,14.1,22.0,5.2,35.8,-0.7,-1.7,6.2,13.1,18.0,14.1,19.0,27.9,19.0,-1.7,25.9,20.0,14.1,-15.5,11.1,23.0,30.9,33.8]\n",
    "print(len(nonhomo))\n",
    "\n",
    "homo_mean = statistics.mean(homo)\n",
    "homo_variance = statistics.variance(homo)\n",
    "print(f'homo_mean = {homo_mean}')\n",
    "print(f'homo_variance = {homo_variance}')\n",
    "nonhomo_mean = statistics.mean(nonhomo)\n",
    "nonhomo_variance = statistics.variance(nonhomo)\n",
    "print(f'nonhomo_mean = {nonhomo_mean}')\n",
    "print(f'nonhomo_variance = {nonhomo_variance}')"
   ]
  },
  {
   "cell_type": "code",
   "execution_count": 3,
   "id": "b84da202-e29c-4931-aa6d-8aaabe5a5b4a",
   "metadata": {},
   "outputs": [
    {
     "name": "stdout",
     "output_type": "stream",
     "text": [
      "mean_X1 = 24.0; mean_X2 = 16.50344827586207\n",
      "sum_of_X1_list = 839.9999999999998; sum_of_X2_list = 478.6\n",
      "sum_of_square_of_each_X1 = 25221.599999999995; sum_of_square_of_each_X2 = 11794.999999999998\n",
      "SS1 = 5061.600000000006; SS2 = 5250.486857142855\n",
      "pooled_variance = 166.32398156682035\n",
      "std_error = 3.2384291667802017\n",
      "t_ratio = 2.314872840523282\n"
     ]
    }
   ],
   "source": [
    "X1 = [39.1,11.0,33.4,19.5,35.7,8.7,38.0,20.7,13.7,11.4,41.5,23.0,14.9,26.4,46.1,24.1,18.4,14.3,20.7,35.7,13.7,17.2,36.8,5.3,19.5,26.4,23.0,38.0,54.1,6.3,32.2,28.8,20.7,10.3,11.4]\n",
    "X2 = [24.0,10.1,20.0,30.9,26.9,17.0,16.1,14.1,22.0,5.2,35.8,-0.7,-1.7,6.2,13.1,18.0,14.1,19.0,27.9,19.0,-1.7,25.9,20.0,14.1,-15.5,11.1,23.0,30.9,33.8]\n",
    "\n",
    "def t_Test_two_samples(X1,X2):\n",
    "    import statistics\n",
    "    import math\n",
    "    n1 = len(X1)\n",
    "    n2 = len(X2)\n",
    "    u_hyp = 0\n",
    "    \n",
    "    mean_X1 = statistics.mean(X1)\n",
    "    mean_X2 = statistics.mean(X2)\n",
    "    print(f'mean_X1 = {mean_X1}; mean_X2 = {mean_X2}')\n",
    "    \n",
    "    sum_of_X1_list = sum(X1)\n",
    "    sum_of_X2_list = sum(X2)\n",
    "    print(f'sum_of_X1_list = {sum_of_X1_list}; sum_of_X2_list = {sum_of_X2_list}')\n",
    "    \n",
    "    square_of_each_X1 = [num1**2 for num1 in X1]\n",
    "    square_of_each_X2 = [num2**2 for num2 in X2]\n",
    "    \n",
    "    sum_of_square_of_each_X1 = sum(square_of_each_X1)\n",
    "    sum_of_square_of_each_X2 = sum(square_of_each_X2)\n",
    "    print(f'sum_of_square_of_each_X1 = {sum_of_square_of_each_X1}; sum_of_square_of_each_X2 = {sum_of_square_of_each_X2}')\n",
    "    \n",
    "    SS1 = sum_of_square_of_each_X1 - (sum_of_X1_list**2/n1)\n",
    "    SS2 = sum_of_square_of_each_X2 - (sum_of_X2_list**2/n1)\n",
    "    print(f'SS1 = {SS1}; SS2 = {SS2}')\n",
    "    \n",
    "    pooled_variance = (SS1+SS2)/(n1+n2-2)\n",
    "    print(f'pooled_variance = {pooled_variance}')\n",
    "    \n",
    "    std_error = math.sqrt((pooled_variance/n1)+(pooled_variance/n2))\n",
    "    print(f'std_error = {std_error}')\n",
    "    \n",
    "    t_ratio = ((mean_X1-mean_X2)-u_hyp)/std_error\n",
    "    print(f't_ratio = {t_ratio}')\n",
    "t_Test_two_samples(X1,X2)"
   ]
  },
  {
   "cell_type": "markdown",
   "id": "a927909f-8cb3-4249-930f-6f1d8d820586",
   "metadata": {},
   "source": [
    "### THE POOLED VARIANCE\n",
    "\n",
    "$S_P^2 = \\dfrac{SS_1 + SS_2}{n_1 + n_2 - 2}$\n",
    "\n",
    "$S_P^2 = \\dfrac{({n_1 - 1})s_1^2 + ({n_2 - 1})s_2^2}{n_1 + n_2 - 2}$"
   ]
  },
  {
   "cell_type": "code",
   "execution_count": 4,
   "id": "bf501fad-d31d-400e-8afe-a71e894ed450",
   "metadata": {
    "scrolled": true
   },
   "outputs": [
    {
     "name": "stdout",
     "output_type": "stream",
     "text": [
      "Pooled Variance: 144.4846718576196\n",
      "Sum of Squares (Homo): 5061.6\n",
      "Sum of Squares (Nonhomo): 3896.4496551724133\n",
      "Standard Error: 3.0183378779888312\n",
      "T Ratio: 2.483668836019449\n",
      "Cohen's d: 0.6236639684839361\n"
     ]
    }
   ],
   "source": [
    "import numpy as np\n",
    "import scipy.stats as stats\n",
    "\n",
    "# Given data\n",
    "homo = [39.1, 11.0, 33.4, 19.5, 35.7, 8.7, 38.0, 20.7, 13.7, 11.4, 41.5, 23.0, 14.9, 26.4, 46.1, 24.1, 18.4, 14.3, 20.7, 35.7, 13.7, 17.2, 36.8, 5.3, 19.5, 26.4, 23.0, 38.0, 54.1, 6.3, 32.2, 28.8, 20.7, 10.3, 11.4]\n",
    "nonhomo = [24.0, 10.1, 20.0, 30.9, 26.9, 17.0, 16.1, 14.1, 22.0, 5.2, 35.8, -0.7, -1.7, 6.2, 13.1, 18.0, 14.1, 19.0, 27.9, 19.0, -1.7, 25.9, 20.0, 14.1, -15.5, 11.1, 23.0, 30.9, 33.8]\n",
    "\n",
    "# homo = [5,20,7,23,30,24,9,8,20,12]\n",
    "# nonhomo = [13,6,6,5,3,6,10,20,9,12]\n",
    "\n",
    "# homo = [12,5,11,11,9,18]\n",
    "# nonhomo = [7,3,4,6,3,13]\n",
    "\n",
    "# Calculate the pooled variance\n",
    "var_homo = np.var(homo, ddof=1)\n",
    "var_nonhomo = np.var(nonhomo, ddof=1)\n",
    "pooled_var = ((len(homo) - 1) * var_homo + (len(nonhomo) - 1) * var_nonhomo) / (len(homo) + len(nonhomo) - 2)\n",
    "\n",
    "# Calculate the sum of squares\n",
    "ss_homo = (len(homo) - 1) * var_homo\n",
    "ss_nonhomo = (len(nonhomo) - 1) * var_nonhomo\n",
    "\n",
    "# Calculate the standard error\n",
    "se = np.sqrt(pooled_var * (1/len(homo) + 1/len(nonhomo)))\n",
    "\n",
    "# Calculate the t ratio\n",
    "t_ratio = (np.mean(homo) - np.mean(nonhomo)) / se\n",
    "\n",
    "# Calculate Cohen's d\n",
    "cohen_d = (np.mean(homo) - np.mean(nonhomo)) / np.sqrt(pooled_var)\n",
    "\n",
    "# Print results\n",
    "print(f\"Pooled Variance: {pooled_var}\")\n",
    "print(f\"Sum of Squares (Homo): {ss_homo}\")\n",
    "print(f\"Sum of Squares (Nonhomo): {ss_nonhomo}\")\n",
    "print(f\"Standard Error: {se}\")\n",
    "print(f\"T Ratio: {t_ratio}\")\n",
    "print(f\"Cohen's d: {cohen_d}\")"
   ]
  },
  {
   "cell_type": "code",
   "execution_count": 5,
   "id": "ef464b71-07cb-45a4-9a61-624e7bac0e41",
   "metadata": {
    "scrolled": true
   },
   "outputs": [
    {
     "name": "stdout",
     "output_type": "stream",
     "text": [
      "mean_X1 = 24.0; mean_X2 = 16.50344827586207\n",
      "sum_of_X1_list = 839.9999999999998; sum_of_X2_list = 478.6\n",
      "sum_of_square_of_each_X1 = 25221.599999999995; sum_of_square_of_each_X2 = 11794.999999999998\n",
      "SS1 = 5061.600000000006; SS2 = 5250.486857142855\n",
      "pooled_variance = 166.32398156682035\n",
      "std_error = 3.2384291667802017\n",
      "t_ratio = 2.314872840523282\n"
     ]
    }
   ],
   "source": [
    "X1 = [39.1, 11.0, 33.4, 19.5, 35.7, 8.7, 38.0, 20.7, 13.7, 11.4, 41.5, 23.0, 14.9, 26.4, 46.1, 24.1, 18.4, 14.3, 20.7, 35.7, 13.7, 17.2, 36.8, 5.3, 19.5, 26.4, 23.0, 38.0, 54.1, 6.3, 32.2, 28.8, 20.7, 10.3, 11.4]\n",
    "X2 = [24.0, 10.1, 20.0, 30.9, 26.9, 17.0, 16.1, 14.1, 22.0, 5.2, 35.8, -0.7, -1.7, 6.2, 13.1, 18.0, 14.1, 19.0, 27.9, 19.0, -1.7, 25.9, 20.0, 14.1, -15.5, 11.1, 23.0, 30.9, 33.8]\n",
    "\n",
    "# X1 = [5,20,7,23,30,24,9,8,20,12]\n",
    "# X2 = [13,6,6,5,3,6,10,20,9,12]\n",
    "\n",
    "# X1 = [12,5,11,11,9,18]\n",
    "# X2 = [7,3,4,6,3,13]\n",
    "def t_Test_two_samples(X1,X2):\n",
    "    import statistics\n",
    "    import math\n",
    "    n1 = len(X1)\n",
    "    n2 = len(X2)\n",
    "    u_hyp = 0\n",
    "    \n",
    "    mean_X1 = statistics.mean(X1)\n",
    "    mean_X2 = statistics.mean(X2)\n",
    "    print(f'mean_X1 = {mean_X1}; mean_X2 = {mean_X2}')\n",
    "    \n",
    "    sum_of_X1_list = sum(X1)\n",
    "    sum_of_X2_list = sum(X2)\n",
    "    print(f'sum_of_X1_list = {sum_of_X1_list}; sum_of_X2_list = {sum_of_X2_list}')\n",
    "    \n",
    "    square_of_each_X1 = [num1**2 for num1 in X1]\n",
    "    square_of_each_X2 = [num2**2 for num2 in X2]\n",
    "    \n",
    "    sum_of_square_of_each_X1 = sum(square_of_each_X1)\n",
    "    sum_of_square_of_each_X2 = sum(square_of_each_X2)\n",
    "    print(f'sum_of_square_of_each_X1 = {sum_of_square_of_each_X1}; sum_of_square_of_each_X2 = {sum_of_square_of_each_X2}')\n",
    "    \n",
    "    SS1 = sum_of_square_of_each_X1 - (sum_of_X1_list**2/n1)\n",
    "    SS2 = sum_of_square_of_each_X2 - (sum_of_X2_list**2/n1)\n",
    "    print(f'SS1 = {SS1}; SS2 = {SS2}')\n",
    "    \n",
    "    pooled_variance = (SS1+SS2)/(n1+n2-2)\n",
    "    print(f'pooled_variance = {pooled_variance}')\n",
    "    \n",
    "    std_error = math.sqrt((pooled_variance/n1)+(pooled_variance/n2))\n",
    "    print(f'std_error = {std_error}')\n",
    "    \n",
    "    t_ratio = ((mean_X1-mean_X2)-u_hyp)/std_error\n",
    "    print(f't_ratio = {t_ratio}')\n",
    "t_Test_two_samples(X1,X2)"
   ]
  },
  {
   "cell_type": "code",
   "execution_count": 6,
   "id": "348e5fac-75d5-4943-9e40-aa9eb517b932",
   "metadata": {
    "scrolled": true
   },
   "outputs": [
    {
     "name": "stdout",
     "output_type": "stream",
     "text": [
      "Cohen's d (Effect Size): 1.5713484026367723\n",
      "99% Confidence Interval: (0.8597169278347874, 3.1402830721652126)\n",
      "Critical T-Value: 2.6500812928169553\n",
      "Degrees of Freedom: 68\n"
     ]
    }
   ],
   "source": [
    "import scipy.stats as stats\n",
    "import math\n",
    "\n",
    "# Given data\n",
    "mean_treatment = 110\n",
    "mean_control = 108\n",
    "std_error = 1.80\n",
    "sample_size = 35\n",
    "significance_level = 0.01\n",
    "\n",
    "# Calculate the standardized effect size (Cohen's d)\n",
    "mean_difference = mean_treatment - mean_control\n",
    "pooled_std_dev = math.sqrt(((sample_size - 1) * std_error ** 2) / (2 * sample_size - 2))\n",
    "cohen_d = mean_difference / pooled_std_dev\n",
    "\n",
    "# Calculate the critical t-value\n",
    "alpha = significance_level / 2  # Two-tailed test\n",
    "degrees_of_freedom = 2 * sample_size - 2\n",
    "critical_t_value = stats.t.ppf(1 - alpha, degrees_of_freedom)\n",
    "\n",
    "# Calculate the margin of error for the 99% confidence interval\n",
    "margin_of_error = critical_t_value * std_error * math.sqrt(2/sample_size)\n",
    "\n",
    "# Construct the confidence interval\n",
    "confidence_interval_lower = mean_difference - margin_of_error\n",
    "confidence_interval_upper = mean_difference + margin_of_error\n",
    "\n",
    "# Print results\n",
    "print(f\"Cohen's d (Effect Size): {cohen_d}\")\n",
    "print(f\"99% Confidence Interval: ({confidence_interval_lower}, {confidence_interval_upper})\")\n",
    "print(f\"Critical T-Value: {critical_t_value}\")\n",
    "print(f\"Degrees of Freedom: {degrees_of_freedom}\")"
   ]
  },
  {
   "cell_type": "code",
   "execution_count": 7,
   "id": "0de73e29-a81a-4569-905d-8bf8c030fa9e",
   "metadata": {
    "scrolled": true
   },
   "outputs": [
    {
     "name": "stdout",
     "output_type": "stream",
     "text": [
      "Cohen's d: 1.1111111111111112\n",
      "Pooled Variance: 3.24\n",
      "Estimated Standard Error: 0.4302822993603817\n"
     ]
    }
   ],
   "source": [
    "import numpy as np\n",
    "\n",
    "# Given data\n",
    "mean_treatment = 110\n",
    "mean_control = 108\n",
    "std_error = 1.80\n",
    "sample_size = 35\n",
    "\n",
    "# Calculate Cohen's d\n",
    "cohen_d = (mean_treatment - mean_control) / std_error\n",
    "\n",
    "# Calculate pooled variance\n",
    "var_treatment = std_error**2 * (sample_size - 1)\n",
    "var_control = std_error**2 * (sample_size - 1)\n",
    "pooled_var = (var_treatment + var_control) / (sample_size + sample_size - 2)\n",
    "\n",
    "# Calculate estimated standard error\n",
    "estimated_se = np.sqrt(pooled_var * (1/sample_size + 1/sample_size))\n",
    "\n",
    "# Print results\n",
    "print(f\"Cohen's d: {cohen_d}\")\n",
    "print(f\"Pooled Variance: {pooled_var}\")\n",
    "print(f\"Estimated Standard Error: {estimated_se}\")"
   ]
  },
  {
   "cell_type": "code",
   "execution_count": 8,
   "id": "873789ed-41de-419d-a05e-647b97c27d03",
   "metadata": {},
   "outputs": [
    {
     "name": "stdout",
     "output_type": "stream",
     "text": [
      "T-Statistic: 9.697651491183048\n",
      "Critical T-Value: 2.024394164575136\n",
      "Pooled Variance: 2.25\n",
      "Estimated Standard Error: 0.4743416490252569\n"
     ]
    }
   ],
   "source": [
    "import scipy.stats as stats\n",
    "\n",
    "# Given data\n",
    "mean_letter_grade = 86.2\n",
    "mean_pass_fail = 81.6\n",
    "std_error = 1.50\n",
    "sample_size = 20  # Equal numbers in both groups\n",
    "\n",
    "# Calculate the t-statistic\n",
    "t_statistic = (mean_letter_grade - mean_pass_fail) / (std_error * (2 / sample_size)**0.5)\n",
    "\n",
    "# Calculate degrees of freedom\n",
    "degrees_of_freedom = 2 * sample_size - 2\n",
    "\n",
    "# Calculate the critical value of t for a two-tailed test at the 0.05 significance level\n",
    "alpha = 0.05\n",
    "critical_t_value = stats.t.ppf(1 - alpha / 2, degrees_of_freedom)\n",
    "\n",
    "# Calculate pooled variance\n",
    "pooled_var = ((sample_size - 1) * std_error ** 2 + (sample_size - 1) * std_error ** 2) / (2 * sample_size - 2)\n",
    "\n",
    "# Calculate estimated standard error\n",
    "estimated_se = (pooled_var * (1/sample_size + 1/sample_size))**0.5\n",
    "\n",
    "# Print results\n",
    "print(f\"T-Statistic: {t_statistic}\")\n",
    "print(f\"Critical T-Value: {critical_t_value}\")\n",
    "print(f\"Pooled Variance: {pooled_var}\")\n",
    "print(f\"Estimated Standard Error: {estimated_se}\")"
   ]
  }
 ],
 "metadata": {
  "kernelspec": {
   "display_name": "Python 3 (ipykernel)",
   "language": "python",
   "name": "python3"
  },
  "language_info": {
   "codemirror_mode": {
    "name": "ipython",
    "version": 3
   },
   "file_extension": ".py",
   "mimetype": "text/x-python",
   "name": "python",
   "nbconvert_exporter": "python",
   "pygments_lexer": "ipython3",
   "version": "3.10.12"
  }
 },
 "nbformat": 4,
 "nbformat_minor": 5
}
