{
 "cells": [
  {
   "cell_type": "markdown",
   "id": "40149df9-82b4-467a-b4b3-e5aab329029a",
   "metadata": {},
   "source": [
    "#### Markdown\n",
    "$\\overline{D}=0.22285714285714286$\n",
    "\n",
    "$\\Sigma{D}=1.5599999999999996$\n",
    "\n",
    "$\\Sigma{D^2}=0.503$\n",
    "\n",
    "$SS_D=0.15534285714285728$\n",
    "\n",
    "$S_D=0.16090517763725384$\n",
    "\n",
    "$S_\\overline{D}=0.06081644067012074$\n",
    "\n",
    "$t=3.664422652847441$\n",
    "\n",
    "$d=1.3850215768665575$"
   ]
  },
  {
   "cell_type": "markdown",
   "id": "ed9e1edc-2e3d-4243-8f7f-96729babb97a",
   "metadata": {},
   "source": [
    "### Sample Sums of Squares\n",
    "$SS_D=\\Sigma{D}^2-\\dfrac{(\\Sigma{D})^2}{n}$\n",
    "\n",
    "#### SAMPLE STANDARD DEVIATION, $S_D$\n",
    "\n",
    "$S_D = \\sqrt{\\dfrac{SS_D}{n-1}}$\n",
    "\n",
    "#### ESTIMATED STANDARD ERROR, $S_\\overline{D}$\n",
    "\n",
    "$S_\\overline{D}=\\dfrac{S_D}{\\sqrt{n}}$\n",
    "\n",
    "$t = \\dfrac{\\overline{D}-\\mu_{D_{hyp}}}{S_\\overline{D}}$\n",
    "\n",
    "$d=\\dfrac{\\overline{D}}{S_D}$"
   ]
  },
  {
   "cell_type": "code",
   "execution_count": 10,
   "id": "b9c3b0ed-1191-4576-b4d5-e91805ec454c",
   "metadata": {},
   "outputs": [
    {
     "name": "stdout",
     "output_type": "stream",
     "text": [
      "Critical value of t: 2.719484630449974\n",
      "T-ratio: -1.4833541581745926\n",
      "Fail to reject the null hypothesis: There is no significant correlation.\n"
     ]
    }
   ],
   "source": [
    "import scipy.stats as stats\n",
    "\n",
    "# Given values\n",
    "sample_size = 38\n",
    "observed_r = -0.24\n",
    "alpha = 0.01\n",
    "\n",
    "# Degrees of freedom for a two-tailed test\n",
    "degrees_of_freedom = sample_size - 2\n",
    "\n",
    "# Critical value for a two-tailed test\n",
    "critical_value = stats.t.ppf(1 - alpha / 2, degrees_of_freedom)\n",
    "\n",
    "# Calculate the t-ratio\n",
    "t_ratio = observed_r / ((1 - observed_r**2) / (sample_size - 2))**0.5\n",
    "\n",
    "# Print results\n",
    "print(f\"Critical value of t: {critical_value}\")\n",
    "print(f\"T-ratio: {t_ratio}\")\n",
    "\n",
    "# Decision based on the t-ratio and critical value\n",
    "if abs(t_ratio) > critical_value:\n",
    "    print(\"Reject the null hypothesis: There is a significant correlation.\")\n",
    "else:\n",
    "    print(\"Fail to reject the null hypothesis: There is no significant correlation.\")"
   ]
  }
 ],
 "metadata": {
  "kernelspec": {
   "display_name": "Python 3 (ipykernel)",
   "language": "python",
   "name": "python3"
  },
  "language_info": {
   "codemirror_mode": {
    "name": "ipython",
    "version": 3
   },
   "file_extension": ".py",
   "mimetype": "text/x-python",
   "name": "python",
   "nbconvert_exporter": "python",
   "pygments_lexer": "ipython3",
   "version": "3.10.12"
  }
 },
 "nbformat": 4,
 "nbformat_minor": 5
}
