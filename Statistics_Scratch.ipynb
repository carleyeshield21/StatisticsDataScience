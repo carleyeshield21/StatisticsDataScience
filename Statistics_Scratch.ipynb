{
 "cells": [
  {
   "cell_type": "code",
   "execution_count": 42,
   "id": "5ee622aa-127b-4f41-9da7-680635f7a235",
   "metadata": {
    "scrolled": true
   },
   "outputs": [
    {
     "name": "stdout",
     "output_type": "stream",
     "text": [
      "0.503\n",
      "X1_mean = 3.1485714285714286\n",
      "X2_mean = 2.9257142857142857\n",
      "D_overline = 0.22285714285714286\n",
      "[0.25, -0.07000000000000028, 0.22999999999999998, 0.43999999999999995, 0.20999999999999996, 0.3500000000000001, 0.1499999999999999]\n",
      "sum_D_list = 1.5599999999999996\n",
      "square_each_D_list = [0.0625, 0.00490000000000004, 0.05289999999999999, 0.19359999999999997, 0.044099999999999986, 0.12250000000000007, 0.022499999999999975]\n",
      "sum_of_square_each_D_list = 0.503\n",
      "SSD = 0.15534285714285728\n",
      "sample_std_dev = 0.16090517763725384\n",
      "est_std_error = 0.06081644067012074\n",
      "t = 3.664422652847441\n",
      "d = 1.3850215768665575\n"
     ]
    }
   ],
   "source": [
    "import statistics\n",
    "import math\n",
    "\n",
    "X1 = [4.00,2.67,3.65,2.11,3.21,3.60,2.80]\n",
    "X2 = [3.75,2.74,3.42,1.67,3.00,3.25,2.65]\n",
    "# X3 = [0.0625,0.0049,0.0529,0.1936,0.0441,0.1225,0.0225]\n",
    "\n",
    "# X1 = [12, 5, 11, 11, 9, 18]\n",
    "# X2 = [7, 3, 4, 6, 3, 13]\n",
    "print(sum(X3))\n",
    "X1_mean = statistics.mean(X1)\n",
    "X2_mean = statistics.mean(X2)\n",
    "print(f'X1_mean = {X1_mean}\\nX2_mean = {X2_mean}')\n",
    "D_overline = X1_mean-X2_mean\n",
    "print(f'D_overline = {D_overline}')\n",
    "\n",
    "D_list = [X1[n]-X2[n] for n in range(0, len(X1))]\n",
    "print(D_list)\n",
    "\n",
    "sum_D_list = sum(D_list)\n",
    "print(f'sum_D_list = {sum_D_list}')\n",
    "\n",
    "square_each_D_list = [item**2 for item in D_list]\n",
    "print(f'square_each_D_list = {square_each_D_list}')\n",
    "sum_of_square_each_D_list = sum(square_each_D_list)\n",
    "print(f'sum_of_square_each_D_list = {sum_of_square_each_D_list}')\n",
    "\n",
    "SSD = sum_of_square_each_D_list - ((sum_D_list**2)/len(X1))\n",
    "print(f'SSD = {SSD}')\n",
    "\n",
    "sample_std_dev = math.sqrt(SSD/(len(X1)-1))\n",
    "print(f'sample_std_dev = {sample_std_dev}')\n",
    "\n",
    "est_std_error = sample_std_dev/math.sqrt(len(X1))\n",
    "print(f'est_std_error = {est_std_error}')\n",
    "\n",
    "t = (D_overline-0)/est_std_error\n",
    "print(f't = {t}')\n",
    "\n",
    "d = D_overline/sample_std_dev\n",
    "print(f'd = {d}')"
   ]
  },
  {
   "cell_type": "markdown",
   "id": "40149df9-82b4-467a-b4b3-e5aab329029a",
   "metadata": {},
   "source": [
    "#### Markdown\n",
    "$\\overline{D}=0.22285714285714286$\n",
    "\n",
    "$\\Sigma{D}=1.5599999999999996$\n",
    "\n",
    "$\\Sigma{D^2}=0.503$\n",
    "\n",
    "$SS_D=0.15534285714285728$\n",
    "\n",
    "$S_D=0.16090517763725384$\n",
    "\n",
    "$S_\\overline{D}=0.06081644067012074$\n",
    "\n",
    "$t=3.664422652847441$\n",
    "\n",
    "$d=1.3850215768665575$"
   ]
  },
  {
   "cell_type": "markdown",
   "id": "ed9e1edc-2e3d-4243-8f7f-96729babb97a",
   "metadata": {},
   "source": [
    "### Sample Sums of Squares\n",
    "$SS_D=\\Sigma{D}^2-\\dfrac{(\\Sigma{D})^2}{n}$\n",
    "\n",
    "#### SAMPLE STANDARD DEVIATION, $S_D$\n",
    "\n",
    "$S_D = \\sqrt{\\dfrac{SS_D}{n-1}}$\n",
    "\n",
    "#### ESTIMATED STANDARD ERROR, $S_\\overline{D}$\n",
    "\n",
    "$S_\\overline{D}=\\dfrac{S_D}{\\sqrt{n}}$\n",
    "\n",
    "$t = \\dfrac{\\overline{D}-\\mu_{D_{hyp}}}{S_\\overline{D}}$\n",
    "\n",
    "$d=\\dfrac{\\overline{D}}{S_D}$"
   ]
  }
 ],
 "metadata": {
  "kernelspec": {
   "display_name": "Python 3 (ipykernel)",
   "language": "python",
   "name": "python3"
  },
  "language_info": {
   "codemirror_mode": {
    "name": "ipython",
    "version": 3
   },
   "file_extension": ".py",
   "mimetype": "text/x-python",
   "name": "python",
   "nbconvert_exporter": "python",
   "pygments_lexer": "ipython3",
   "version": "3.10.12"
  }
 },
 "nbformat": 4,
 "nbformat_minor": 5
}
