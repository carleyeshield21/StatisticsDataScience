{
 "cells": [
  {
   "cell_type": "markdown",
   "id": "46df6afe-616f-458f-94a4-6fe45c18e97b",
   "metadata": {
    "scrolled": true
   },
   "source": [
    "\\begin{array}{|c|c|c|c|c|c|}\n",
    "\\hline\n",
    "\\textbf{TYPE OF\n",
    "SAMPLE} & \\textbf{SAMPLE\n",
    "MEAN} & \\textbf{NULL\n",
    "HYPOTHESIS*} & \\textbf{STANDARD\n",
    "ERROR} & \\textbf{t RATIO} & \\textbf{DEGREES OF\n",
    "FREEDOM} \\\\\n",
    "\\hline\n",
    "One~sample & \\overline{X} & H_0:\\mu=some~number & S_{\\overline{X}} & \\dfrac{\\overline{X}-\\mu_{hyp}}{S_{\\overline{X}}} & n-1 \\\\\n",
    "\\hline\n",
    "Two~independent~samples~(no~pairing) & \\overline{X}_1-\\overline{X}_2 & H_0:\\mu_2-\\mu_1=0 & S_{\\overline{X}_1-\\overline{X}_2} & \\dfrac{(\\overline{X}_1-\\overline{X}_2)-(\\mu_1-\\mu2)_{hyp}}{S_{\\overline{X}_1-\\overline{X}_2}} & n_1+n_2-2 \\\\\n",
    "\\hline\n",
    "Two~~related~samples~(pairs~of~observations) & \\overline{D} & H_0:\\mu_D=0 & S_{\\overline{D}} & n_1+n_2-2 & n – 1~(where~n~refers~to~pairs~of~observations) \\\\\n",
    "\\hline\n",
    "\\end{array}"
   ]
  },
  {
   "cell_type": "code",
   "execution_count": null,
   "id": "64045327-2822-4146-bead-a7117846d2f9",
   "metadata": {},
   "outputs": [],
   "source": [
    "import numpy as np\n",
    "from scipy import stats\n",
    "\n",
    "# Data\n",
    "vitamin_c = np.array([2, 5, 7, 0, 3, 7, 4, 5, 1, 3])\n",
    "fake_vitamin_c = np.array([3, 4, 9, 3, 5, 7, 6, 8, 2, 5])\n",
    "\n",
    "# Paired t-test\n",
    "t_statistic, p_value = stats.ttest_rel(vitamin_c, fake_vitamin_c)\n",
    "\n",
    "# Degrees of freedom\n",
    "df = len(vitamin_c) - 1\n",
    "\n",
    "# Critical value for a two-tailed test at 0.05 significance level\n",
    "alpha = 0.05\n",
    "t_critical = stats.t.ppf(1 - alpha / 2, df)\n",
    "\n",
    "# T-ratio\n",
    "t_ratio = t_statistic\n",
    "\n",
    "# Confidence intervals\n",
    "mean_diff = np.mean(vitamin_c - fake_vitamin_c)\n",
    "std_diff = np.std(vitamin_c - fake_vitamin_c, ddof=1)\n",
    "margin_of_error = t_critical * (std_diff / np.sqrt(len(vitamin_c)))\n",
    "confidence_interval = (mean_diff - margin_of_error, mean_diff + margin_of_error)\n",
    "\n",
    "# Cohen's d\n",
    "pooled_std = np.sqrt(((len(vitamin_c) - 1) * np.var(vitamin_c, ddof=1) + (len(fake_vitamin_c) - 1) * np.var(fake_vitamin_c, ddof=1)) / (len(vitamin_c) + len(fake_vitamin_c) - 2))\n",
    "cohens_d = mean_diff / pooled_std\n",
    "print(f'mean_diff={mean_diff}\\npooled_std={pooled_std}')\n",
    "\n",
    "# Output results\n",
    "print(\"T-Statistic:\", t_statistic)\n",
    "print(\"P-Value:\", p_value)\n",
    "print(\"Critical Value of t:\", t_critical)\n",
    "print(\"T-Ratio:\", t_ratio)\n",
    "print(\"Confidence Intervals:\", confidence_interval)\n",
    "print(\"Cohen's d:\", cohens_d)"
   ]
  }
 ],
 "metadata": {
  "kernelspec": {
   "display_name": "Python 3 (ipykernel)",
   "language": "python",
   "name": "python3"
  },
  "language_info": {
   "codemirror_mode": {
    "name": "ipython",
    "version": 3
   },
   "file_extension": ".py",
   "mimetype": "text/x-python",
   "name": "python",
   "nbconvert_exporter": "python",
   "pygments_lexer": "ipython3",
   "version": "3.10.12"
  }
 },
 "nbformat": 4,
 "nbformat_minor": 5
}
