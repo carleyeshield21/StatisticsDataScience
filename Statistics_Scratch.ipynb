{
 "cells": [
  {
   "cell_type": "code",
   "execution_count": 2,
   "id": "891de6a3-5ba5-431a-8564-4ee22387a5bb",
   "metadata": {},
   "outputs": [
    {
     "name": "stdout",
     "output_type": "stream",
     "text": [
      "Pooled Variance: 16.2\n"
     ]
    }
   ],
   "source": [
    "import numpy as np\n",
    "\n",
    "# Given data\n",
    "X1 = [12, 5, 11, 11, 9, 18]\n",
    "X2 = [7, 3, 4, 6, 3, 13]\n",
    "\n",
    "# Calculate the sample variances\n",
    "var_X1 = np.var(X1, ddof=1)\n",
    "var_X2 = np.var(X2, ddof=1)\n",
    "\n",
    "# Calculate the sample sizes\n",
    "n_X1 = len(X1)\n",
    "n_X2 = len(X2)\n",
    "\n",
    "# Calculate the degrees of freedom\n",
    "df_X1 = n_X1 - 1\n",
    "df_X2 = n_X2 - 1\n",
    "\n",
    "# Calculate the pooled variance\n",
    "pooled_variance = ((df_X1 * var_X1) + (df_X2 * var_X2)) / (df_X1 + df_X2)\n",
    "\n",
    "# Print the result\n",
    "print(f'Pooled Variance: {pooled_variance}')"
   ]
  }
 ],
 "metadata": {
  "kernelspec": {
   "display_name": "Python 3 (ipykernel)",
   "language": "python",
   "name": "python3"
  },
  "language_info": {
   "codemirror_mode": {
    "name": "ipython",
    "version": 3
   },
   "file_extension": ".py",
   "mimetype": "text/x-python",
   "name": "python",
   "nbconvert_exporter": "python",
   "pygments_lexer": "ipython3",
   "version": "3.10.12"
  }
 },
 "nbformat": 4,
 "nbformat_minor": 5
}
