{
 "cells": [
  {
   "cell_type": "markdown",
   "id": "40149df9-82b4-467a-b4b3-e5aab329029a",
   "metadata": {},
   "source": [
    "#### Markdown\n",
    "$\\overline{D}=0.22285714285714286$\n",
    "\n",
    "$\\Sigma{D}=1.5599999999999996$\n",
    "\n",
    "$\\Sigma{D^2}=0.503$\n",
    "\n",
    "$SS_D=0.15534285714285728$\n",
    "\n",
    "$S_D=0.16090517763725384$\n",
    "\n",
    "$S_\\overline{D}=0.06081644067012074$\n",
    "\n",
    "$t=3.664422652847441$\n",
    "\n",
    "$d=1.3850215768665575$"
   ]
  },
  {
   "cell_type": "markdown",
   "id": "ed9e1edc-2e3d-4243-8f7f-96729babb97a",
   "metadata": {},
   "source": [
    "### Sample Sums of Squares\n",
    "$SS_D=\\Sigma{D}^2-\\dfrac{(\\Sigma{D})^2}{n}$\n",
    "\n",
    "#### SAMPLE STANDARD DEVIATION, $S_D$\n",
    "\n",
    "$S_D = \\sqrt{\\dfrac{SS_D}{n-1}}$\n",
    "\n",
    "#### ESTIMATED STANDARD ERROR, $S_\\overline{D}$\n",
    "\n",
    "$S_\\overline{D}=\\dfrac{S_D}{\\sqrt{n}}$\n",
    "\n",
    "$t = \\dfrac{\\overline{D}-\\mu_{D_{hyp}}}{S_\\overline{D}}$\n",
    "\n",
    "$d=\\dfrac{\\overline{D}}{S_D}$\n",
    "\n",
    "$\\bullet$"
   ]
  },
  {
   "cell_type": "code",
   "execution_count": 5,
   "id": "b9c3b0ed-1191-4576-b4d5-e91805ec454c",
   "metadata": {
    "scrolled": true
   },
   "outputs": [
    {
     "name": "stdout",
     "output_type": "stream",
     "text": [
      "ANOVA Table:\n",
      "          sum_sq   df     F  PR(>F)\n",
      "Groups       6.0  2.0  0.75   0.512\n",
      "Residual    24.0  6.0   NaN     NaN\n"
     ]
    },
    {
     "ename": "NameError",
     "evalue": "name 'statsmodels' is not defined",
     "output_type": "error",
     "traceback": [
      "\u001b[0;31m---------------------------------------------------------------------------\u001b[0m",
      "\u001b[0;31mNameError\u001b[0m                                 Traceback (most recent call last)",
      "Cell \u001b[0;32mIn[5], line 39\u001b[0m\n\u001b[1;32m     36\u001b[0m f_value \u001b[38;5;241m=\u001b[39m anova_table[\u001b[38;5;124m'\u001b[39m\u001b[38;5;124mF\u001b[39m\u001b[38;5;124m'\u001b[39m][\u001b[38;5;124m'\u001b[39m\u001b[38;5;124mGroups\u001b[39m\u001b[38;5;124m'\u001b[39m]\n\u001b[1;32m     38\u001b[0m \u001b[38;5;66;03m# Calculate Honestly Significant Difference (HSD)\u001b[39;00m\n\u001b[0;32m---> 39\u001b[0m hsd_value \u001b[38;5;241m=\u001b[39m \u001b[43mstatsmodels\u001b[49m\u001b[38;5;241m.\u001b[39mstats\u001b[38;5;241m.\u001b[39mmulticomp\u001b[38;5;241m.\u001b[39mpairwise_tukeyhsd(df[\u001b[38;5;124m'\u001b[39m\u001b[38;5;124mValues\u001b[39m\u001b[38;5;124m'\u001b[39m], df[\u001b[38;5;124m'\u001b[39m\u001b[38;5;124mGroups\u001b[39m\u001b[38;5;124m'\u001b[39m])\u001b[38;5;241m.\u001b[39mq_crit(alpha)\n\u001b[1;32m     41\u001b[0m \u001b[38;5;66;03m# Calculate effect size (Eta-squared)\u001b[39;00m\n\u001b[1;32m     42\u001b[0m ss_between \u001b[38;5;241m=\u001b[39m anova_table[\u001b[38;5;124m'\u001b[39m\u001b[38;5;124msum_sq\u001b[39m\u001b[38;5;124m'\u001b[39m][\u001b[38;5;124m'\u001b[39m\u001b[38;5;124mGroups\u001b[39m\u001b[38;5;124m'\u001b[39m]\n",
      "\u001b[0;31mNameError\u001b[0m: name 'statsmodels' is not defined"
     ]
    }
   ],
   "source": [
    "import numpy as np\n",
    "import pandas as pd\n",
    "import scipy.stats as stats\n",
    "import statsmodels.api as sm\n",
    "from statsmodels.formula.api import ols\n",
    "\n",
    "# Given data\n",
    "X0 = np.array([3, 5, 7])\n",
    "X24 = np.array([4, 8, 6])\n",
    "X48 = np.array([2, 4, 6])\n",
    "\n",
    "# Combine data into a single array and create corresponding group labels\n",
    "data = np.concatenate([X0, X24, X48])\n",
    "labels = ['X0'] * len(X0) + ['X24'] * len(X24) + ['X48'] * len(X48)\n",
    "\n",
    "# Create a DataFrame\n",
    "df = pd.DataFrame({'Values': data, 'Groups': labels})\n",
    "\n",
    "# Fit the ANOVA model\n",
    "model = ols('Values ~ Groups', data=df).fit()\n",
    "anova_table = sm.stats.anova_lm(model, typ=2)\n",
    "\n",
    "# Print ANOVA table\n",
    "print(\"ANOVA Table:\")\n",
    "print(anova_table)\n",
    "\n",
    "# Degrees of freedom for groups and error\n",
    "df_groups = len(set(labels)) - 1\n",
    "df_error = len(data) - len(set(labels))\n",
    "\n",
    "# Calculate critical value F from the F-distribution table\n",
    "alpha = 0.05\n",
    "critical_value_f = stats.f.ppf(1 - alpha, df_groups, df_error)\n",
    "\n",
    "# Extract F-value from the ANOVA table\n",
    "f_value = anova_table['F']['Groups']\n",
    "\n",
    "# Calculate Honestly Significant Difference (HSD)\n",
    "hsd_value = statsmodels.stats.multicomp.pairwise_tukeyhsd(df['Values'], df['Groups']).q_crit(alpha)\n",
    "\n",
    "# Calculate effect size (Eta-squared)\n",
    "ss_between = anova_table['sum_sq']['Groups']\n",
    "ss_total = df['Values'].apply(lambda x: (x - df['Values'].mean())**2).sum()\n",
    "eta_squared = ss_between / ss_total\n",
    "\n",
    "# Print results\n",
    "print(\"\\nCritical value F:\", critical_value_f)\n",
    "print(\"F-value:\", f_value)\n",
    "print(\"HSD value:\", hsd_value)\n",
    "print(\"Effect size (Eta-squared):\", eta_squared)"
   ]
  }
 ],
 "metadata": {
  "kernelspec": {
   "display_name": "Python 3 (ipykernel)",
   "language": "python",
   "name": "python3"
  },
  "language_info": {
   "codemirror_mode": {
    "name": "ipython",
    "version": 3
   },
   "file_extension": ".py",
   "mimetype": "text/x-python",
   "name": "python",
   "nbconvert_exporter": "python",
   "pygments_lexer": "ipython3",
   "version": "3.10.12"
  }
 },
 "nbformat": 4,
 "nbformat_minor": 5
}
