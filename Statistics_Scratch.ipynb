{
 "cells": [
  {
   "cell_type": "markdown",
   "id": "4dd11be2-d30e-4ad2-b0a0-e4324b3aead3",
   "metadata": {},
   "source": [
    "### Sample Sums of Squares\n",
    "$SS$ = $\\Sigma({X}-\\overline{X})^2$ = $\\Sigma{X}^2$ $-$ $\\dfrac{(\\Sigma{X})^2}{n}$\n",
    "\n",
    "### THE POOLED VARIANCE\n",
    "\n",
    "$S_P^2 = \\dfrac{SS_1 + SS_2}{n_1 + n_2 - 2}$\n",
    "\n",
    "$S_P^2 = \\dfrac{({n_1 - 1})s_1^2 + ({n_2 - 1})s_2^2}{n_1 + n_2 - 2}$\n",
    "\n",
    "### STANDARD ERROR\n",
    "\n",
    "$S_{\\overline{X}_1-\\overline{X}_2} = \\sqrt{\\dfrac{S^2_P}{n_1} + \\dfrac{S^2_P}{n_2}}$"
   ]
  },
  {
   "cell_type": "markdown",
   "id": "a927909f-8cb3-4249-930f-6f1d8d820586",
   "metadata": {},
   "source": [
    "### THE POOLED VARIANCE\n",
    "\n",
    "$S_P^2 = \\dfrac{SS_1 + SS_2}{n_1 + n_2 - 2}$\n",
    "\n",
    "$S_P^2 = \\dfrac{({n_1 - 1})s_1^2 + ({n_2 - 1})s_2^2}{n_1 + n_2 - 2}$"
   ]
  },
  {
   "cell_type": "code",
   "execution_count": 21,
   "id": "650e3dfd-6588-4f4c-a94e-e0aa7b86c902",
   "metadata": {
    "scrolled": true
   },
   "outputs": [
    {
     "name": "stdout",
     "output_type": "stream",
     "text": [
      "T-Statistic: 2.382593125147473\n",
      "Degrees of Freedom: 52\n",
      "P-Value: 0.020881737181235982\n"
     ]
    }
   ],
   "source": [
    "import numpy as np\n",
    "import scipy.stats as stats\n",
    "\n",
    "# Given data\n",
    "meditators = [3.25, 2.25, 2.75, 3.56, 3.33, 2.25, 3.57, 2.45, 3.75, 2.95, 3.30, 3.56, 3.56, 3.78, 3.75, 3.45, 3.00, 3.35, 3.10, 2.75, 3.09, 2.58, 2.95, 3.56, 3.30, 3.43, 3.47]\n",
    "non_meditators = [3.67, 3.79, 3.00, 2.50, 2.75, 1.90, 3.50, 2.67, 2.90, 2.80, 2.65, 2.58, 2.83, 3.10, 3.37, 3.25, 2.76, 2.86, 2.90, 2.10, 2.66, 2.34, 3.20, 2.67, 3.59, 3.00, 3.08]\n",
    "S2p = 0.20\n",
    "X1 = 3.19\n",
    "X2 = 2.90\n",
    "\n",
    "# Calculate the estimated standard error\n",
    "n1 = len(meditators)\n",
    "n2 = len(non_meditators)\n",
    "se = np.sqrt(S2p * (1/n1 + 1/n2))\n",
    "\n",
    "# Calculate the t-statistic\n",
    "t_statistic = (X1 - X2) / se\n",
    "\n",
    "# Calculate degrees of freedom\n",
    "df = n1 + n2 - 2\n",
    "\n",
    "# Calculate the p-value\n",
    "p_value = 2 * (1 - stats.t.cdf(abs(t_statistic), df))\n",
    "\n",
    "# Print results\n",
    "print(f\"T-Statistic: {t_statistic}\")\n",
    "print(f\"Degrees of Freedom: {df}\")\n",
    "print(f\"P-Value: {p_value}\")"
   ]
  },
  {
   "cell_type": "code",
   "execution_count": 26,
   "id": "13bae479-675b-481f-97cb-08b436296997",
   "metadata": {
    "scrolled": true
   },
   "outputs": [
    {
     "name": "stdout",
     "output_type": "stream",
     "text": [
      "Estimated Standard Error: 0.12171612389003691\n",
      "Standard Deviation: 0.4662906916125994\n",
      "Pooled Variance: 0.2006578347578348\n",
      "T-Statistic: 2.3300778060379224\n",
      "P-Value: 0.023718089700769083\n",
      "Cohen's d: 0.6219296357752214\n"
     ]
    }
   ],
   "source": [
    "import numpy as np\n",
    "import scipy.stats as stats\n",
    "\n",
    "# Given data\n",
    "meditators = np.array([3.25, 2.25, 2.75, 3.56, 3.33, 2.25, 3.57, 2.45, 3.75, 2.95, 3.30, 3.56, 3.56, 3.78, 3.75, 3.45, 3.00, 3.35, 3.10, 2.75, 3.09, 2.58, 2.95, 3.56, 3.30, 3.43, 3.47])\n",
    "non_meditators = np.array([3.67, 3.79, 3.00, 2.50, 2.75, 1.90, 3.50, 2.67, 2.90, 2.80, 2.65, 2.58, 2.83, 3.10, 3.37, 3.25, 2.76, 2.86, 2.90, 2.10, 2.66, 2.34, 3.20, 2.67, 3.59, 3.00, 3.08])\n",
    "S2p = 0.20\n",
    "X1 = 3.19\n",
    "X2 = 2.90\n",
    "\n",
    "# Calculate the estimated standard error\n",
    "n1 = len(meditators)\n",
    "n2 = len(non_meditators)\n",
    "se = np.sqrt(S2p * (1/n1 + 1/n2))\n",
    "\n",
    "# Calculate the standard deviation\n",
    "std_deviation = np.std(np.concatenate([meditators, non_meditators], axis=0), ddof=1)\n",
    "\n",
    "# Calculate the pooled variance\n",
    "pooled_var = ((n1-1) * np.var(meditators, ddof=1) + (n2-1) * np.var(non_meditators, ddof=1)) / (n1 + n2 - 2)\n",
    "\n",
    "# Perform a t-test\n",
    "t_statistic, p_value = stats.ttest_ind(meditators, non_meditators)\n",
    "\n",
    "# Calculate Cohen's d\n",
    "cohen_d = (X1 - X2) / std_deviation\n",
    "\n",
    "# Print results\n",
    "print(f\"Estimated Standard Error: {se}\")\n",
    "print(f\"Standard Deviation: {std_deviation}\")\n",
    "print(f\"Pooled Variance: {pooled_var}\")\n",
    "print(f\"T-Statistic: {t_statistic}\")\n",
    "print(f\"P-Value: {p_value}\")\n",
    "print(f\"Cohen's d: {cohen_d}\")\n"
   ]
  },
  {
   "cell_type": "code",
   "execution_count": 28,
   "id": "2e6e378b-13e2-4b90-b724-31d68ee38d24",
   "metadata": {},
   "outputs": [
    {
     "name": "stdout",
     "output_type": "stream",
     "text": [
      "Standard Deviation Sample 1: 0.44666889908869345\n",
      "Standard Deviation Sample 2: 0.44922440283511333\n",
      "Pooled Standard Deviation: 0.4479484733290591\n"
     ]
    }
   ],
   "source": [
    "import numpy as np\n",
    "\n",
    "# Sample data\n",
    "# sample1 = np.array([1, 2, 3, 4, 5])\n",
    "# sample2 = np.array([6, 7, 8, 9, 10])\n",
    "\n",
    "sample1 = np.array([3.25, 2.25, 2.75, 3.56, 3.33, 2.25, 3.57, 2.45, 3.75, 2.95, 3.30, 3.56, 3.56, 3.78, 3.75, 3.45, 3.00, 3.35, 3.10, 2.75, 3.09, 2.58, 2.95, 3.56, 3.30, 3.43, 3.47])\n",
    "sample2 = np.array([3.67, 3.79, 3.00, 2.50, 2.75, 1.90, 3.50, 2.67, 2.90, 2.80, 2.65, 2.58, 2.83, 3.10, 3.37, 3.25, 2.76, 2.86, 2.90, 2.10, 2.66, 2.34, 3.20, 2.67, 3.59, 3.00, 3.08])\n",
    "\n",
    "# Calculate variances\n",
    "variance1 = np.var(sample1, ddof=1)  # ddof=1 for sample variance\n",
    "variance2 = np.var(sample2, ddof=1)\n",
    "\n",
    "# Calculate pooled variance (assuming homogeneous variances)\n",
    "pooled_variance = ((len(sample1) - 1) * variance1 + (len(sample2) - 1) * variance2) / (len(sample1) + len(sample2) - 2)\n",
    "\n",
    "# Calculate standard deviations\n",
    "std_dev1 = np.sqrt(variance1)\n",
    "std_dev2 = np.sqrt(variance2)\n",
    "pooled_std_dev = np.sqrt(pooled_variance)\n",
    "\n",
    "print(f\"Standard Deviation Sample 1: {std_dev1}\")\n",
    "print(f\"Standard Deviation Sample 2: {std_dev2}\")\n",
    "print(f\"Pooled Standard Deviation: {pooled_std_dev}\")"
   ]
  }
 ],
 "metadata": {
  "kernelspec": {
   "display_name": "Python 3 (ipykernel)",
   "language": "python",
   "name": "python3"
  },
  "language_info": {
   "codemirror_mode": {
    "name": "ipython",
    "version": 3
   },
   "file_extension": ".py",
   "mimetype": "text/x-python",
   "name": "python",
   "nbconvert_exporter": "python",
   "pygments_lexer": "ipython3",
   "version": "3.10.12"
  }
 },
 "nbformat": 4,
 "nbformat_minor": 5
}
