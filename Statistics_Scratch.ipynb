{
 "cells": [
  {
   "cell_type": "code",
   "execution_count": 1,
   "id": "a93ec850-d18e-4da7-8f31-15627df3a91c",
   "metadata": {
    "scrolled": true
   },
   "outputs": [
    {
     "name": "stdout",
     "output_type": "stream",
     "text": [
      "[[0, 4, 2], [3, 6, 6], [6, 8, 10]]\n"
     ]
    }
   ],
   "source": [
    "X0 = [0,4,2]\n",
    "X24 = [3,6,6]\n",
    "X48 = [6,8,10]\n",
    "a = [X0,X24,X48]\n",
    "print(a)"
   ]
  },
  {
   "cell_type": "code",
   "execution_count": 6,
   "id": "a7408a28-3e78-4b6f-b58b-355a720b2288",
   "metadata": {},
   "outputs": [
    {
     "name": "stdout",
     "output_type": "stream",
     "text": [
      "result = [(0, 3, 6), (4, 6, 8), (2, 6, 10)]\n",
      "result1 = [([0, 4, 2],), ([3, 6, 6],), ([6, 8, 10],)]\n",
      "a = [0, 3, 6]\n",
      "b = [4, 6, 8]\n",
      "c = [2, 6, 10]\n",
      "d = [[0, 4, 2]]\n",
      "e = [[3, 6, 6]]\n",
      "f = [[6, 8, 10]]\n"
     ]
    }
   ],
   "source": [
    "# Input lists\n",
    "X0 = [0, 4, 2]\n",
    "X24 = [3, 6, 6]\n",
    "X48 = [6, 8, 10]\n",
    "a = [X0,X24,X48]\n",
    "# Transpose the lists\n",
    "result = list(zip(X0, X24, X48))\n",
    "print(f'result = {result}')\n",
    "result1 = list(zip(a))\n",
    "print(f'result1 = {result1}')\n",
    "\n",
    "# Unpack the transposed lists into separate variables\n",
    "a, b, c = [list(column) for column in result]\n",
    "\n",
    "d, e, f = [list(column) for column in result1]\n",
    "\n",
    "# Print the output\n",
    "print(\"a =\", a)\n",
    "print(\"b =\", b)\n",
    "print(\"c =\", c)\n",
    "\n",
    "print(\"d =\", d)\n",
    "print(\"e =\", e)\n",
    "print(\"f =\", f)"
   ]
  }
 ],
 "metadata": {
  "kernelspec": {
   "display_name": "Python 3 (ipykernel)",
   "language": "python",
   "name": "python3"
  },
  "language_info": {
   "codemirror_mode": {
    "name": "ipython",
    "version": 3
   },
   "file_extension": ".py",
   "mimetype": "text/x-python",
   "name": "python",
   "nbconvert_exporter": "python",
   "pygments_lexer": "ipython3",
   "version": "3.10.12"
  }
 },
 "nbformat": 4,
 "nbformat_minor": 5
}
