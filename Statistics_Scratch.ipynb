{
 "cells": [
  {
   "cell_type": "markdown",
   "id": "40149df9-82b4-467a-b4b3-e5aab329029a",
   "metadata": {},
   "source": [
    "#### Markdown\n",
    "$\\overline{D}=0.22285714285714286$\n",
    "\n",
    "$\\Sigma{D}=1.5599999999999996$\n",
    "\n",
    "$\\Sigma{D^2}=0.503$\n",
    "\n",
    "$SS_D=0.15534285714285728$\n",
    "\n",
    "$S_D=0.16090517763725384$\n",
    "\n",
    "$S_\\overline{D}=0.06081644067012074$\n",
    "\n",
    "$t=3.664422652847441$\n",
    "\n",
    "$d=1.3850215768665575$"
   ]
  },
  {
   "cell_type": "markdown",
   "id": "ed9e1edc-2e3d-4243-8f7f-96729babb97a",
   "metadata": {},
   "source": [
    "### Sample Sums of Squares\n",
    "$SS_D=\\Sigma{D}^2-\\dfrac{(\\Sigma{D})^2}{n}$\n",
    "\n",
    "#### SAMPLE STANDARD DEVIATION, $S_D$\n",
    "\n",
    "$S_D = \\sqrt{\\dfrac{SS_D}{n-1}}$\n",
    "\n",
    "#### ESTIMATED STANDARD ERROR, $S_\\overline{D}$\n",
    "\n",
    "$S_\\overline{D}=\\dfrac{S_D}{\\sqrt{n}}$\n",
    "\n",
    "$t = \\dfrac{\\overline{D}-\\mu_{D_{hyp}}}{S_\\overline{D}}$\n",
    "\n",
    "$d=\\dfrac{\\overline{D}}{S_D}$\n",
    "\n",
    "$\\bullet$"
   ]
  },
  {
   "cell_type": "code",
   "execution_count": 1,
   "id": "b9c3b0ed-1191-4576-b4d5-e91805ec454c",
   "metadata": {},
   "outputs": [
    {
     "name": "stdout",
     "output_type": "stream",
     "text": [
      "[5]\n",
      "Unequal\n"
     ]
    }
   ],
   "source": [
    "X0 = [1,3,6,2,1]\n",
    "X24 = [4,7,5]\n",
    "X48 = [7,12,10,9]\n",
    "\n",
    "# X0 = [3,5,7]\n",
    "# X24 = [4,8,6]\n",
    "# X48 = [2,4,5]\n",
    "a = [X0,X24,X48]\n",
    "list = [len(ls) for ls in a if len(ls)==len(a[0])]\n",
    "print(list)\n",
    "\n",
    "if len(list) == len(a):\n",
    "    print('equal')\n",
    "else:\n",
    "    print('Unequal')"
   ]
  },
  {
   "cell_type": "code",
   "execution_count": 7,
   "id": "0d65e7c3-2dd3-4766-9cac-486b962239fe",
   "metadata": {
    "scrolled": true
   },
   "outputs": [
    {
     "name": "stdout",
     "output_type": "stream",
     "text": [
      "N = 32\n",
      "a = [[1, 0, 0, 2, 3, 4, 2, 1], [2, 1, 2, 4, 4, 6, 3, 3], [4, 2, 3, 6, 7, 8, 5, 5], [7, 1, 6, 9, 10, 12, 8, 7]]\n",
      "4\n",
      "N = 32\n",
      "n = [8]\n",
      "k = 4\n",
      "df_between = 3\n",
      "df_within = 28\n",
      "G = 138\n",
      "SS_between = 154.125\n",
      "SS_within = 132.75\n",
      "SS_total = 286.875\n",
      "accuracy_check = True\n",
      "MS_within = 4.741071428571429\n",
      "MS_between = 51.375\n",
      "F = 10.836158192090394\n"
     ]
    },
    {
     "data": {
      "text/plain": [
       "[154.125, 286.875]"
      ]
     },
     "execution_count": 7,
     "metadata": {},
     "output_type": "execute_result"
    }
   ],
   "source": [
    "def SS_terms_prog(sample_data):\n",
    "    import statistics\n",
    "    import math\n",
    "    \n",
    "    N = 0\n",
    "    k = len(sample_data)\n",
    "    for s in sample_data:\n",
    "        N += len(s)\n",
    "        # n = len(s)\n",
    "    print(f'N = {N}')\n",
    "\n",
    "    list = [len(s) for s in sample_data if len(s)==len(a[0])]\n",
    "    print(f'a = {a}')\n",
    "    print(len(a))\n",
    "\n",
    "    n = []\n",
    "    if len(list) == len(a):\n",
    "        x = len(a[0])\n",
    "        n.append(x)\n",
    "    else:\n",
    "        print('Unequal')\n",
    "        new = []\n",
    "        [new.extend(data) for data in sample_data]\n",
    "        n.append(len(new)/len(sample_data))\n",
    "    print(f'N = {N}\\nn = {n}\\nk = {k}')\n",
    "    \n",
    "    df_between = k-1\n",
    "    df_within = N-k\n",
    "    print(f'df_between = {df_between}\\ndf_within = {df_within}')\n",
    "\n",
    "    squares = []\n",
    "    G_raw = []\n",
    "    SS_between_raw = []\n",
    "    for s in sample_data:\n",
    "        G_raw.append(sum(s))\n",
    "        # print((sum(s)**2)/n[0])\n",
    "        SS_between_raw.append((sum(s)**2)/n[0])\n",
    "\n",
    "        for item in s:\n",
    "            squares.append(item**2)\n",
    "    # print(G_raw)\n",
    "        \n",
    "    G = sum(G_raw)\n",
    "    print(f'G = {G}')\n",
    "\n",
    "    SS_between = sum(SS_between_raw) - (G**2/N)\n",
    "    print(f'SS_between = {SS_between}')\n",
    "\n",
    "    sum_of_squares = sum(squares)\n",
    "\n",
    "    SS_within = sum_of_squares - sum(SS_between_raw)\n",
    "    print(f'SS_within = {SS_within}')\n",
    "\n",
    "    SS_total = sum_of_squares - (G**2/N)\n",
    "    print(f'SS_total = {SS_total}')\n",
    "\n",
    "    accuracy_check = (SS_between + SS_within) == SS_total\n",
    "    print(f'accuracy_check = {accuracy_check}')\n",
    "\n",
    "    MS_within = SS_within/df_within\n",
    "    print(f'MS_within = {MS_within}')\n",
    "\n",
    "    MS_between = SS_between/df_between\n",
    "    print(f'MS_between = {MS_between}')\n",
    "\n",
    "    F = MS_between/MS_within\n",
    "    print(f'F = {F}')\n",
    "\n",
    "    return [SS_between,SS_total]\n",
    "    \n",
    "# X0 = [3,5,7]\n",
    "# X24 = [4,8,6]\n",
    "# X48 = [2,4,6]\n",
    "# a = [X0,X24,X48]\n",
    "\n",
    "X0 = [1,3,6,2,1]\n",
    "X24 = [4,7,5]\n",
    "X48 = [7,12,10,9]\n",
    "a = [X0,X24,X48]\n",
    "\n",
    "# zero = [1,0,0,2,3,4,2,1]\n",
    "# one = [2,1,2,4,4,6,3,3]\n",
    "# two = [4,2,3,6,7,8,5,5]\n",
    "# three = [7,1,6,9,10,12,8,7]\n",
    "# a = [zero,one,two,three]\n",
    "\n",
    "SS_terms_prog(a)"
   ]
  }
 ],
 "metadata": {
  "kernelspec": {
   "display_name": "Python 3 (ipykernel)",
   "language": "python",
   "name": "python3"
  },
  "language_info": {
   "codemirror_mode": {
    "name": "ipython",
    "version": 3
   },
   "file_extension": ".py",
   "mimetype": "text/x-python",
   "name": "python",
   "nbconvert_exporter": "python",
   "pygments_lexer": "ipython3",
   "version": "3.10.12"
  }
 },
 "nbformat": 4,
 "nbformat_minor": 5
}
