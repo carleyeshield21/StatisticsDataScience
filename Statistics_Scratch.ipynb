{
 "cells": [
  {
   "cell_type": "markdown",
   "id": "46df6afe-616f-458f-94a4-6fe45c18e97b",
   "metadata": {
    "scrolled": true
   },
   "source": [
    "\\begin{array}{|c|c|c|c|c|c|}\n",
    "\\hline\n",
    "\\textbf{TYPE OF\n",
    "SAMPLE} & \\textbf{SAMPLE\n",
    "MEAN} & \\textbf{NULL\n",
    "HYPOTHESIS*} & \\textbf{STANDARD\n",
    "ERROR} & \\textbf{t RATIO} & \\textbf{DEGREES OF\n",
    "FREEDOM} \\\\\n",
    "\\hline\n",
    "One~sample & \\overline{X} & H_0:\\mu=some~number & S_{\\overline{X}} & \\dfrac{\\overline{X}-\\mu_{hyp}}{S_{\\overline{X}}} & n-1 \\\\\n",
    "\\hline\n",
    "Two~independent~samples~(no~pairing) & \\overline{X}_1-\\overline{X}_2 & H_0:\\mu_2-\\mu_1=0 & S_{\\overline{X}_1-\\overline{X}_2} & \\dfrac{(\\overline{X}_1-\\overline{X}_2)-(\\mu_1-\\mu2)_{hyp}}{S_{\\overline{X}_1-\\overline{X}_2}} & n_1+n_2-2 \\\\\n",
    "\\hline\n",
    "Two~~related~samples~(pairs~of~observations) & \\overline{D} & H_0:\\mu_D=0 & S_{\\overline{D}} & n_1+n_2-2 & n – 1~(where~n~refers~to~pairs~of~observations) \\\\\n",
    "\\hline\n",
    "\\end{array}"
   ]
  },
  {
   "cell_type": "code",
   "execution_count": 3,
   "id": "87676c74-4c41-40ea-8c8e-42d3ef21f6b2",
   "metadata": {},
   "outputs": [
    {
     "name": "stdout",
     "output_type": "stream",
     "text": [
      "Mean Difference Score: 0.2228571428571428\n",
      "T-Statistic: 3.6644226528474397\n",
      "P-Value: 0.010523873876434144\n",
      "Critical Value of t: 3.707428021324907\n",
      "Retain the null hypothesis.\n"
     ]
    }
   ],
   "source": [
    "import numpy as np\n",
    "from scipy import stats\n",
    "\n",
    "# Data\n",
    "physical_exercise = np.array([4.00, 2.67, 3.65, 2.11, 3.21, 3.60, 2.80])\n",
    "no_physical_exercise = np.array([3.75, 2.74, 3.42, 1.67, 3.00, 3.25, 2.65])\n",
    "\n",
    "# Paired t-test\n",
    "t_statistic, p_value = stats.ttest_rel(physical_exercise, no_physical_exercise)\n",
    "\n",
    "# Degrees of freedom\n",
    "df = len(physical_exercise) - 1\n",
    "\n",
    "# Critical value for a two-tailed test at 0.01 significance level\n",
    "alpha = 0.01\n",
    "t_critical = stats.t.ppf(1 - alpha / 2, df)\n",
    "\n",
    "# Mean difference score\n",
    "mean_difference = np.mean(physical_exercise - no_physical_exercise)\n",
    "\n",
    "# Output results\n",
    "print(\"Mean Difference Score:\", mean_difference)\n",
    "print(\"T-Statistic:\", t_statistic)\n",
    "print(\"P-Value:\", p_value)\n",
    "print(\"Critical Value of t:\", t_critical)\n",
    "\n",
    "# Check if we retain the null hypothesis\n",
    "if p_value < alpha:\n",
    "    print(\"Reject the null hypothesis.\")\n",
    "else:\n",
    "    print(\"Retain the null hypothesis.\")"
   ]
  }
 ],
 "metadata": {
  "kernelspec": {
   "display_name": "Python 3 (ipykernel)",
   "language": "python",
   "name": "python3"
  },
  "language_info": {
   "codemirror_mode": {
    "name": "ipython",
    "version": 3
   },
   "file_extension": ".py",
   "mimetype": "text/x-python",
   "name": "python",
   "nbconvert_exporter": "python",
   "pygments_lexer": "ipython3",
   "version": "3.10.12"
  }
 },
 "nbformat": 4,
 "nbformat_minor": 5
}
