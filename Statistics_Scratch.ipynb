{
 "cells": [
  {
   "cell_type": "code",
   "execution_count": 1,
   "id": "5ee622aa-127b-4f41-9da7-680635f7a235",
   "metadata": {
    "scrolled": true
   },
   "outputs": [
    {
     "name": "stdout",
     "output_type": "stream",
     "text": [
      "T-Statistic: 3.6644226528474397\n",
      "Critical Value of t: 3.707428021324907\n",
      "P-Value: 0.010523873876434144\n",
      "Is the p-value less than 0.05? True\n",
      "Mean Difference Score: 0.2228571428571428\n",
      "Sample Standard Deviation: 0.16090517763725384\n",
      "Estimated Standard Error: 0.06081644067012074\n",
      "Cohen's d: 1.3850215768665572\n",
      "Should we retain the null hypothesis? True\n"
     ]
    }
   ],
   "source": [
    "import numpy as np\n",
    "from scipy import stats\n",
    "\n",
    "# Data\n",
    "physical_exercise = np.array([4.00, 2.67, 3.65, 2.11, 3.21, 3.60, 2.80])\n",
    "no_physical_exercise = np.array([3.75, 2.74, 3.42, 1.67, 3.00, 3.25, 2.65])\n",
    "\n",
    "# Paired t-test\n",
    "t_statistic, p_value = stats.ttest_rel(physical_exercise, no_physical_exercise)\n",
    "\n",
    "# Degrees of freedom\n",
    "df = len(physical_exercise) - 1\n",
    "\n",
    "# Critical value for a two-tailed test at 0.01 significance level\n",
    "alpha = 0.01\n",
    "t_critical = stats.t.ppf(1 - alpha / 2, df)\n",
    "\n",
    "# Mean difference score\n",
    "mean_difference = np.mean(physical_exercise - no_physical_exercise)\n",
    "\n",
    "# Sample standard deviation\n",
    "sample_std = np.std(physical_exercise - no_physical_exercise, ddof=1)\n",
    "\n",
    "# Estimated standard error\n",
    "std_error = sample_std / np.sqrt(len(physical_exercise))\n",
    "\n",
    "# Cohen's d for paired samples\n",
    "cohens_d = mean_difference / sample_std\n",
    "\n",
    "# Output results\n",
    "print(\"T-Statistic:\", t_statistic)\n",
    "print(\"Critical Value of t:\", t_critical)\n",
    "print(\"P-Value:\", p_value)\n",
    "print(\"Is the p-value less than 0.05?\", p_value < 0.05)\n",
    "print(\"Mean Difference Score:\", mean_difference)\n",
    "print(\"Sample Standard Deviation:\", sample_std)\n",
    "print(\"Estimated Standard Error:\", std_error)\n",
    "print(\"Cohen's d:\", cohens_d)\n",
    "print(\"Should we retain the null hypothesis?\", p_value > alpha)"
   ]
  },
  {
   "cell_type": "markdown",
   "id": "40149df9-82b4-467a-b4b3-e5aab329029a",
   "metadata": {},
   "source": [
    "#### Markdown\n",
    "$\\overline{D}=0.22285714285714286$\n",
    "\n",
    "$\\Sigma{D}=1.5599999999999996$\n",
    "\n",
    "$\\Sigma{D^2}=0.503$\n",
    "\n",
    "$SS_D=0.15534285714285728$\n",
    "\n",
    "$S_D=0.16090517763725384$\n",
    "\n",
    "$S_\\overline{D}=0.06081644067012074$\n",
    "\n",
    "$t=3.664422652847441$\n",
    "\n",
    "$d=1.3850215768665575$"
   ]
  },
  {
   "cell_type": "markdown",
   "id": "ed9e1edc-2e3d-4243-8f7f-96729babb97a",
   "metadata": {},
   "source": [
    "### Sample Sums of Squares\n",
    "$SS_D=\\Sigma{D}^2-\\dfrac{(\\Sigma{D})^2}{n}$\n",
    "\n",
    "#### SAMPLE STANDARD DEVIATION, $S_D$\n",
    "\n",
    "$S_D = \\sqrt{\\dfrac{SS_D}{n-1}}$\n",
    "\n",
    "#### ESTIMATED STANDARD ERROR, $S_\\overline{D}$\n",
    "\n",
    "$S_\\overline{D}=\\dfrac{S_D}{\\sqrt{n}}$\n",
    "\n",
    "$t = \\dfrac{\\overline{D}-\\mu_{D_{hyp}}}{S_\\overline{D}}$\n",
    "\n",
    "$d=\\dfrac{\\overline{D}}{S_D}$"
   ]
  }
 ],
 "metadata": {
  "kernelspec": {
   "display_name": "Python 3 (ipykernel)",
   "language": "python",
   "name": "python3"
  },
  "language_info": {
   "codemirror_mode": {
    "name": "ipython",
    "version": 3
   },
   "file_extension": ".py",
   "mimetype": "text/x-python",
   "name": "python",
   "nbconvert_exporter": "python",
   "pygments_lexer": "ipython3",
   "version": "3.10.12"
  }
 },
 "nbformat": 4,
 "nbformat_minor": 5
}
