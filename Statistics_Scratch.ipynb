{
 "cells": [
  {
   "cell_type": "markdown",
   "id": "40149df9-82b4-467a-b4b3-e5aab329029a",
   "metadata": {},
   "source": [
    "#### Markdown\n",
    "$\\overline{D}=0.22285714285714286$\n",
    "\n",
    "$\\Sigma{D}=1.5599999999999996$\n",
    "\n",
    "$\\Sigma{D^2}=0.503$\n",
    "\n",
    "$SS_D=0.15534285714285728$\n",
    "\n",
    "$S_D=0.16090517763725384$\n",
    "\n",
    "$S_\\overline{D}=0.06081644067012074$\n",
    "\n",
    "$t=3.664422652847441$\n",
    "\n",
    "$d=1.3850215768665575$"
   ]
  },
  {
   "cell_type": "markdown",
   "id": "ed9e1edc-2e3d-4243-8f7f-96729babb97a",
   "metadata": {},
   "source": [
    "### Sample Sums of Squares\n",
    "$SS_D=\\Sigma{D}^2-\\dfrac{(\\Sigma{D})^2}{n}$\n",
    "\n",
    "#### SAMPLE STANDARD DEVIATION, $S_D$\n",
    "\n",
    "$S_D = \\sqrt{\\dfrac{SS_D}{n-1}}$\n",
    "\n",
    "#### ESTIMATED STANDARD ERROR, $S_\\overline{D}$\n",
    "\n",
    "$S_\\overline{D}=\\dfrac{S_D}{\\sqrt{n}}$\n",
    "\n",
    "$t = \\dfrac{\\overline{D}-\\mu_{D_{hyp}}}{S_\\overline{D}}$\n",
    "\n",
    "$d=\\dfrac{\\overline{D}}{S_D}$"
   ]
  },
  {
   "cell_type": "code",
   "execution_count": 12,
   "id": "b9c3b0ed-1191-4576-b4d5-e91805ec454c",
   "metadata": {},
   "outputs": [
    {
     "name": "stdout",
     "output_type": "stream",
     "text": [
      "T-statistic: 2.4868307843382595\n",
      "P-value: 0.03460146519123058\n",
      "Reject the null hypothesis: There is a significant difference.\n"
     ]
    }
   ],
   "source": [
    "import scipy.stats as stats\n",
    "\n",
    "# Given data\n",
    "X1 = [341, 335, 327, 324, 317, 314, 314, 313, 311, 306]\n",
    "X2 = [313, 282, 310, 287, 290, 287, 292, 338, 318, 306]\n",
    "\n",
    "# Calculate the difference scores\n",
    "differences = [x1 - x2 for x1, x2 in zip(X1, X2)]\n",
    "\n",
    "# Perform a two-tailed t-test\n",
    "t_stat, p_value = stats.ttest_1samp(differences, 0)\n",
    "\n",
    "# Display the results\n",
    "print(f\"T-statistic: {t_stat}\")\n",
    "print(f\"P-value: {p_value}\")\n",
    "\n",
    "# Check for statistical significance at 0.05 level\n",
    "alpha = 0.05\n",
    "if p_value < alpha:\n",
    "    print(\"Reject the null hypothesis: There is a significant difference.\")\n",
    "else:\n",
    "    print(\"Fail to reject the null hypothesis: There is no significant difference.\")"
   ]
  }
 ],
 "metadata": {
  "kernelspec": {
   "display_name": "Python 3 (ipykernel)",
   "language": "python",
   "name": "python3"
  },
  "language_info": {
   "codemirror_mode": {
    "name": "ipython",
    "version": 3
   },
   "file_extension": ".py",
   "mimetype": "text/x-python",
   "name": "python",
   "nbconvert_exporter": "python",
   "pygments_lexer": "ipython3",
   "version": "3.10.12"
  }
 },
 "nbformat": 4,
 "nbformat_minor": 5
}
