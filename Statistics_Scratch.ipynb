{
 "cells": [
  {
   "cell_type": "markdown",
   "id": "4dd11be2-d30e-4ad2-b0a0-e4324b3aead3",
   "metadata": {},
   "source": [
    "### Sample Sums of Squares\n",
    "$SS$ = $\\Sigma({X}-\\overline{X})^2$ = $\\Sigma{X}^2$ $-$ $\\dfrac{(\\Sigma{X})^2}{n}$\n",
    "\n",
    "### THE POOLED VARIANCE\n",
    "\n",
    "$S_P^2 = \\dfrac{SS_1 + SS_2}{n_1 + n_2 - 2}$\n",
    "\n",
    "$S_P^2 = \\dfrac{({n_1 - 1})s_1^2 + ({n_2 - 1})s_2^2}{n_1 + n_2 - 2}$\n",
    "\n",
    "### STANDARD ERROR\n",
    "\n",
    "$S_{\\overline{X}_1-\\overline{X}_2} = \\sqrt{\\dfrac{S^2_P}{n_1} + \\dfrac{S^2_P}{n_2}}$"
   ]
  },
  {
   "cell_type": "markdown",
   "id": "a927909f-8cb3-4249-930f-6f1d8d820586",
   "metadata": {},
   "source": [
    "### THE POOLED VARIANCE\n",
    "\n",
    "$S_P^2 = \\dfrac{SS_1 + SS_2}{n_1 + n_2 - 2}$\n",
    "\n",
    "$S_P^2 = \\dfrac{({n_1 - 1})s_1^2 + ({n_2 - 1})s_2^2}{n_1 + n_2 - 2}$"
   ]
  },
  {
   "cell_type": "code",
   "execution_count": 16,
   "id": "2898d8e6-cbc3-4ee1-a65b-7cd6f9712646",
   "metadata": {
    "scrolled": true
   },
   "outputs": [
    {
     "name": "stdout",
     "output_type": "stream",
     "text": [
      "Test Results:\n",
      "Pooled Variance: 171.6713\n",
      "T-Statistic: 17.800983118917895\n",
      "Degrees of Freedom: 118\n",
      "Critical T-Value: 1.9802722492407059\n",
      "P-Value: 0.0\n",
      "The test is statistically significant. Reject the null hypothesis.\n"
     ]
    }
   ],
   "source": [
    "import scipy.stats as stats\n",
    "\n",
    "# Given data\n",
    "mean_treatment = 26.4\n",
    "mean_control = 18.6\n",
    "std_error = 2.4\n",
    "sample_size = 60  # Equal numbers in both groups\n",
    "s1 = 13.99\n",
    "s2 = 12.15\n",
    "\n",
    "# Calculate the pooled variance\n",
    "pooled_var = ((sample_size - 1) * s1**2 + (sample_size - 1) * s2**2) / (2 * sample_size - 2)\n",
    "\n",
    "# Calculate the t-statistic\n",
    "t_statistic = (mean_treatment - mean_control) / (std_error * (2 / sample_size)**0.5)\n",
    "\n",
    "# Calculate degrees of freedom\n",
    "degrees_of_freedom = 2 * sample_size - 2\n",
    "\n",
    "# Calculate the critical value of t for a two-tailed test at the 0.05 significance level\n",
    "alpha = 0.05\n",
    "critical_t_value = stats.t.ppf(1 - alpha / 2, degrees_of_freedom)\n",
    "\n",
    "# Calculate the p-value\n",
    "p_value = 2 * (1 - stats.t.cdf(abs(t_statistic), degrees_of_freedom))\n",
    "\n",
    "# Print results\n",
    "print(\"Test Results:\")\n",
    "print(f\"Pooled Variance: {pooled_var}\")\n",
    "print(f\"T-Statistic: {t_statistic}\")\n",
    "print(f\"Degrees of Freedom: {degrees_of_freedom}\")\n",
    "print(f\"Critical T-Value: {critical_t_value}\")\n",
    "print(f\"P-Value: {p_value}\")\n",
    "\n",
    "# Interpretation\n",
    "if abs(t_statistic) > critical_t_value:\n",
    "    print(\"The test is statistically significant. Reject the null hypothesis.\")\n",
    "else:\n",
    "    print(\"The test is not statistically significant. Fail to reject the null hypothesis.\")"
   ]
  },
  {
   "cell_type": "code",
   "execution_count": 18,
   "id": "c42dc077-971f-4e36-b2ef-b1f6791c43ef",
   "metadata": {},
   "outputs": [
    {
     "name": "stdout",
     "output_type": "stream",
     "text": [
      "Estimated Standard Error: 2.3921489641463944\n",
      "T-Statistic: 3.2606665040123537\n",
      "Critical T-Value: 1.9802722492407059\n"
     ]
    }
   ],
   "source": [
    "import scipy.stats as stats\n",
    "\n",
    "# Given data\n",
    "mean_treatment = 26.4\n",
    "mean_control = 18.6\n",
    "std_error = 2.4\n",
    "sample_size = 60  # Equal numbers in both groups\n",
    "std_dev_treatment = 13.99\n",
    "std_dev_control = 12.15\n",
    "\n",
    "# Calculate the estimated standard error\n",
    "estimated_se = ((std_dev_treatment**2 / sample_size) + (std_dev_control**2 / sample_size))**0.5\n",
    "\n",
    "# Calculate the t-statistic\n",
    "t_statistic = (mean_treatment - mean_control) / estimated_se\n",
    "\n",
    "# Calculate degrees of freedom\n",
    "degrees_of_freedom = 2 * sample_size - 2\n",
    "\n",
    "# Calculate the critical value of t for a two-tailed test at the 0.05 significance level\n",
    "alpha = 0.05\n",
    "critical_t_value = stats.t.ppf(1 - alpha / 2, degrees_of_freedom)\n",
    "\n",
    "# Print results\n",
    "print(f\"Estimated Standard Error: {estimated_se}\")\n",
    "print(f\"T-Statistic: {t_statistic}\")\n",
    "print(f\"Critical T-Value: {critical_t_value}\")"
   ]
  }
 ],
 "metadata": {
  "kernelspec": {
   "display_name": "Python 3 (ipykernel)",
   "language": "python",
   "name": "python3"
  },
  "language_info": {
   "codemirror_mode": {
    "name": "ipython",
    "version": 3
   },
   "file_extension": ".py",
   "mimetype": "text/x-python",
   "name": "python",
   "nbconvert_exporter": "python",
   "pygments_lexer": "ipython3",
   "version": "3.10.12"
  }
 },
 "nbformat": 4,
 "nbformat_minor": 5
}
