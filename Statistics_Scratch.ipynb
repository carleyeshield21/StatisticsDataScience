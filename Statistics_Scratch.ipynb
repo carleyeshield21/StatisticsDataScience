{
 "cells": [
  {
   "cell_type": "code",
   "execution_count": 13,
   "id": "a93ec850-d18e-4da7-8f31-15627df3a91c",
   "metadata": {},
   "outputs": [
    {
     "name": "stdout",
     "output_type": "stream",
     "text": [
      "([0, 4, 2], [3, 6, 6], [6, 8, 10])\n",
      "[[0, 4, 2], [3, 6, 6], [6, 8, 10], [4, 5], [6, 7]]\n"
     ]
    }
   ],
   "source": [
    "X0 = [0,4,2]\n",
    "X24 = [3,6,6]\n",
    "X48 = [6,8,10]\n",
    "a = (X0,X24,X48)\n",
    "b = [[0,4,2],[3,6,6],[6,8,10]]\n",
    "print(a)\n",
    "\n",
    "b.append([4,5])\n",
    "b.append([6,7])\n",
    "print(b)"
   ]
  },
  {
   "cell_type": "code",
   "execution_count": 25,
   "id": "24d2774b-003f-4667-9df8-f65f64e4dc01",
   "metadata": {
    "scrolled": true
   },
   "outputs": [
    {
     "name": "stdout",
     "output_type": "stream",
     "text": [
      "[7, 0, 3, 6, 5, 7, 7]\n"
     ]
    }
   ],
   "source": [
    "def extract_columns(a):\n",
    "    X0 = [row[0] for row in a]\n",
    "    X24 = [row[1] for row in a]\n",
    "    X48 = [row[2] for row in a]\n",
    "    return X0, X24, X48\n",
    "\n",
    "a = [[7,4,7,6],[0, 4, 2], [3, 6, 6], [6, 8, 10],[5,8,9],[7,4,7],[7,4,7,6]]\n",
    "X0, X24, X48 = extract_columns(a)\n",
    "\n",
    "# print(\"X0 =\", X0)\n",
    "# print(\"X24 =\", X24)\n",
    "# print(\"X48 =\", X48)\n",
    "\n",
    "print([n[0] for n in a])"
   ]
  },
  {
   "cell_type": "code",
   "execution_count": 60,
   "id": "e6bbddd4-fa81-4b18-97b8-2a332f0c5b5b",
   "metadata": {
    "scrolled": true
   },
   "outputs": [
    {
     "name": "stdout",
     "output_type": "stream",
     "text": [
      "temp = [0, 3, 6]\n",
      "temp = [4, 6, 8]\n",
      "temp = [2, 6, 10]\n",
      "[[0, 3, 6], [4, 6, 8], [2, 6, 10]]\n",
      "([0, 3, 6],)\n",
      "([4, 6, 8],)\n",
      "([2, 6, 10],)\n"
     ]
    }
   ],
   "source": [
    "# Example double for loop\n",
    "# print(b[0][0],b[1][0],b[2][0])\n",
    "# print(b[0][1],b[1][1],b[2][1])\n",
    "# print(b[0][2],b[1][2],b[2][2])\\\n",
    "\n",
    "b = [[0,4,2],[3,6,6],[6,8,10]]\n",
    "final = []\n",
    "for index, item in enumerate(b):\n",
    "    # print(index)\n",
    "    temp = []\n",
    "    final.append(temp)\n",
    "    for n in range(3):\n",
    "        # print(f'n = {n}')\n",
    "        # print(b[n][index])\n",
    "        temp.append(b[n][index])\n",
    "    print(f'temp = {temp}')\n",
    "print(final)\n",
    "\n",
    "for item in zip(final):\n",
    "    print(item)"
   ]
  },
  {
   "cell_type": "code",
   "execution_count": 56,
   "id": "01d0ce87-d3e0-4fd5-933c-fe0886fe1f69",
   "metadata": {},
   "outputs": [
    {
     "name": "stdout",
     "output_type": "stream",
     "text": [
      "X0 = [0, 3, 6]\n",
      "X24 = [4, 6, 8]\n",
      "X48 = [2, 6, 10]\n"
     ]
    }
   ],
   "source": [
    "a = [[0, 4, 2], [3, 6, 6], [6, 8, 10]]\n",
    "\n",
    "X0, X24, X48 = zip(*a)\n",
    "\n",
    "print(\"X0 =\", list(X0))\n",
    "print(\"X24 =\", list(X24))\n",
    "print(\"X48 =\", list(X48))"
   ]
  }
 ],
 "metadata": {
  "kernelspec": {
   "display_name": "Python 3 (ipykernel)",
   "language": "python",
   "name": "python3"
  },
  "language_info": {
   "codemirror_mode": {
    "name": "ipython",
    "version": 3
   },
   "file_extension": ".py",
   "mimetype": "text/x-python",
   "name": "python",
   "nbconvert_exporter": "python",
   "pygments_lexer": "ipython3",
   "version": "3.10.12"
  }
 },
 "nbformat": 4,
 "nbformat_minor": 5
}
