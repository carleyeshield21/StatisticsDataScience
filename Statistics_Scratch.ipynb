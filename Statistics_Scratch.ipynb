{
 "cells": [
  {
   "cell_type": "markdown",
   "id": "4dd11be2-d30e-4ad2-b0a0-e4324b3aead3",
   "metadata": {},
   "source": [
    "### Sample Sums of Squares\n",
    "$SS$ = $\\Sigma({X}-\\overline{X})^2$ = $\\Sigma{X}^2$ $-$ $\\dfrac{(\\Sigma{X})^2}{n}$\n",
    "\n",
    "### THE POOLED VARIANCE\n",
    "\n",
    "$S_P^2 = \\dfrac{SS_1 + SS_2}{n_1 + n_2 - 2}$\n",
    "\n",
    "$S_P^2 = \\dfrac{({n_1 - 1})s_1^2 + ({n_2 - 1})s_2^2}{n_1 + n_2 - 2}$\n",
    "\n",
    "### STANDARD ERROR\n",
    "\n",
    "$S_{\\overline{X}_1-\\overline{X}_2} = \\sqrt{\\dfrac{S^2_P}{n_1} + \\dfrac{S^2_P}{n_2}}$"
   ]
  },
  {
   "cell_type": "code",
   "execution_count": 2,
   "id": "891de6a3-5ba5-431a-8564-4ee22387a5bb",
   "metadata": {
    "scrolled": true
   },
   "outputs": [
    {
     "name": "stdout",
     "output_type": "stream",
     "text": [
      "Pooled Variance: 16.2\n"
     ]
    }
   ],
   "source": [
    "import numpy as np\n",
    "\n",
    "# Given data\n",
    "X1 = [12, 5, 11, 11, 9, 18]\n",
    "X2 = [7, 3, 4, 6, 3, 13]\n",
    "\n",
    "# Calculate the sample variances\n",
    "var_X1 = np.var(X1, ddof=1)\n",
    "var_X2 = np.var(X2, ddof=1)\n",
    "\n",
    "# Calculate the sample sizes\n",
    "n_X1 = len(X1)\n",
    "n_X2 = len(X2)\n",
    "\n",
    "# Calculate the degrees of freedom\n",
    "df_X1 = n_X1 - 1\n",
    "df_X2 = n_X2 - 1\n",
    "\n",
    "# Calculate the pooled variance\n",
    "pooled_variance = ((df_X1 * var_X1) + (df_X2 * var_X2)) / (df_X1 + df_X2)\n",
    "# pooled_variance = (((n1 - 1) * (se**2)) + ((n2 - 1) * (se**2))) / (n1 + n2 - 2)\n",
    "\n",
    "# Print the result\n",
    "print(f'Pooled Variance: {pooled_variance}')"
   ]
  },
  {
   "cell_type": "code",
   "execution_count": 3,
   "id": "2008eb6e-ab76-4bbd-9bbd-d3211d50e065",
   "metadata": {
    "scrolled": true
   },
   "outputs": [
    {
     "name": "stdout",
     "output_type": "stream",
     "text": [
      "T-statistic: 4.648111258522642\n",
      "Critical t-value: 2.6500812928169553\n",
      "P-value: 1.589438521709674e-05\n",
      "Pooled Variance: 3.24\n"
     ]
    }
   ],
   "source": [
    "import numpy as np\n",
    "from scipy.stats import t\n",
    "\n",
    "# Given data\n",
    "X1_mean = 110\n",
    "X2_mean = 108\n",
    "n1 = 35\n",
    "n2 = 35\n",
    "se = 1.80\n",
    "alpha = 0.01\n",
    "\n",
    "# Degrees of freedom for each group\n",
    "df1 = n1 - 1\n",
    "df2 = n2 - 1\n",
    "\n",
    "# Calculate the t-statistic\n",
    "t_statistic = (X1_mean - X2_mean) / np.sqrt((se**2/n1) + (se**2/n2))\n",
    "\n",
    "# Calculate the critical t-value\n",
    "critical_t = t.ppf(1 - alpha/2, df1 + df2)\n",
    "\n",
    "# Test the null hypothesis\n",
    "p_value = 2 * (1 - t.cdf(np.abs(t_statistic), df1 + df2))\n",
    "\n",
    "# Calculate pooled variance\n",
    "pooled_variance = (((n1 - 1) * (se**2)) + ((n2 - 1) * (se**2))) / (n1 + n2 - 2)\n",
    "\n",
    "# Print the results\n",
    "print(f'T-statistic: {t_statistic}')\n",
    "print(f'Critical t-value: {critical_t}')\n",
    "print(f'P-value: {p_value}')\n",
    "print(f'Pooled Variance: {pooled_variance}')"
   ]
  },
  {
   "cell_type": "code",
   "execution_count": 4,
   "id": "42dd828b-f61a-4647-83f5-e661a4ef6d61",
   "metadata": {
    "scrolled": true
   },
   "outputs": [
    {
     "name": "stdout",
     "output_type": "stream",
     "text": [
      "Pooled Variance: 3.2400\n",
      "SS1: 110.1600\n",
      "SS2: 110.1600\n"
     ]
    }
   ],
   "source": [
    "import scipy.stats as stats\n",
    "\n",
    "# Given data\n",
    "X1_mean = 110\n",
    "X2_mean = 108\n",
    "n1 = 35\n",
    "n2 = 35\n",
    "se = 1.80\n",
    "significance_level = 0.05\n",
    "\n",
    "# Calculate pooled variance\n",
    "pooled_variance = ((n1 - 1) * (se**2) + (n2 - 1) * (se**2)) / (n1 + n2 - 2)\n",
    "\n",
    "# Calculate SS1 and SS2\n",
    "SS1 = (n1 - 1) * pooled_variance\n",
    "SS2 = (n2 - 1) * pooled_variance\n",
    "\n",
    "# Output the results\n",
    "print(f\"Pooled Variance: {pooled_variance:.4f}\")\n",
    "print(f\"SS1: {SS1:.4f}\")\n",
    "print(f\"SS2: {SS2:.4f}\")"
   ]
  },
  {
   "cell_type": "markdown",
   "id": "4598380f-fe87-4eeb-80c9-75e55fe1526c",
   "metadata": {},
   "source": [
    "### STANDARD ERROR\n",
    "\n",
    "$S_{\\overline{X}_1-\\overline{X}_2} = \\sqrt{\\dfrac{S^2_P}{n_1} + \\dfrac{S^2_P}{n_2}}$\n",
    "\n",
    "$S_P^2 = \\dfrac{({n_1 - 1})s_1^2 + ({n_2 - 1})s_2^2}{n_1 + n_2 - 2}$"
   ]
  },
  {
   "cell_type": "code",
   "execution_count": 16,
   "id": "abe5de09-3cde-4c0a-85ec-71764ea21646",
   "metadata": {},
   "outputs": [
    {
     "name": "stdout",
     "output_type": "stream",
     "text": [
      "24.0\n",
      "148.87058823529412\n",
      "12.201253551799264\n",
      "16.50344827586207\n",
      "139.15891625615762\n",
      "11.79656374781053\n"
     ]
    }
   ],
   "source": [
    "import statistics\n",
    "import math\n",
    "\n",
    "homo = [39.1,11.0,33.4,19.5,35.7,8.7,38.0,20.7,13.7,11.4,41.5,23.0,14.9,26.4,46.1,24.1,18.4,14.3,20.7,35.7,13.7,17.2,36.8,5.3,19.5,26.4,23.0,38.0,54.1,6.3,32.2,28.8,20.7,10.3,11.4]\n",
    "nonhomo = [24.0,10.1,20.0,30.9,26.9,17.0,16.1,14.1,22.0,5.2,35.8,-0.7,-1.7,6.2,13.1,18.0,14.1,19.0,27.9,19.0,-1.7,25.9,20.0,14.1,-15.5,11.1,23.0,30.9,33.8]\n",
    "\n",
    "mean_homo = statistics.mean(homo)\n",
    "print(mean_homo)\n",
    "homo_var = statistics.variance(homo)\n",
    "print(homo_var)\n",
    "std_dev_homo = statistics.stdev(homo)\n",
    "print(std_dev_homo)\n",
    "\n",
    "mean_nonhomo = statistics.mean(nonhomo)\n",
    "print(mean_nonhomo)\n",
    "nonhomo_var = statistics.variance(nonhomo)\n",
    "print(nonhomo_var)\n",
    "std_dev_nonhomo = statistics.stdev(nonhomo)\n",
    "print(std_dev_nonhomo)"
   ]
  }
 ],
 "metadata": {
  "kernelspec": {
   "display_name": "Python 3 (ipykernel)",
   "language": "python",
   "name": "python3"
  },
  "language_info": {
   "codemirror_mode": {
    "name": "ipython",
    "version": 3
   },
   "file_extension": ".py",
   "mimetype": "text/x-python",
   "name": "python",
   "nbconvert_exporter": "python",
   "pygments_lexer": "ipython3",
   "version": "3.10.12"
  }
 },
 "nbformat": 4,
 "nbformat_minor": 5
}
